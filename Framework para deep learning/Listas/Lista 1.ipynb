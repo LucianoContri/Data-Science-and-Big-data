{
 "nbformat": 4,
 "nbformat_minor": 0,
 "metadata": {
  "colab": {
   "provenance": []
  },
  "kernelspec": {
   "name": "python3",
   "display_name": "Python 3"
  },
  "language_info": {
   "name": "python"
  }
 },
 "cells": [
  {
   "cell_type": "markdown",
   "source": [
    "#**Lista de Exercicios 1**\n",
    "\n",
    "O CIFAR-10 é um conjunto de dados amplamente utilizado em tarefas de aprendizado de máquina e visão computacional, especialmente para benchmarking de algoritmos de classificação de imagens. Aqui estão os principais detalhes sobre o CIFAR-10:\n",
    "Descrição\n",
    "\n",
    "- Nome Completo: CIFAR-10 (Canadian Institute For Advanced Research 10)\n",
    "- Criadores: Alex Krizhevsky, Vinod Nair e Geoffrey Hinton.\n",
    "- Ano de Publicação: 2009.\n",
    "- Conteúdo: O CIFAR-10 contém 60.000 imagens coloridas de baixa resolução, organizadas em 10 classes diferentes. Cada imagem tem dimensões de 32x32 pixels e 3 canais de cor (RGB).\n",
    "\n",
    "As 10 classes do CIFAR-10 são:\n",
    "\n",
    "- Avião (Airplane)\n",
    "- Automóvel (Automobile)\n",
    "- Pássaro (Bird)\n",
    "- Gato (Cat)\n",
    "- Veado (Deer)\n",
    "- Cachorro (Dog)\n",
    "- Sapo (Frog)\n",
    "- Cavalo (Horse)\n",
    "- Navio (Ship)\n",
    "- Caminhão (Truck)\n",
    "\n",
    "Cada classe contém exatamente 6.000 imagens, resultando em um conjunto de dados equilibrado.\n",
    "Divisão dos Dados\n",
    "\n",
    "- Conjunto de Treinamento: 50.000 imagens.\n",
    "- Conjunto de Teste: 10.000 imagens."
   ],
   "metadata": {
    "id": "1n1L77LyTkcQ"
   }
  },
  {
   "cell_type": "markdown",
   "source": [
    "##**Orientações:** Execute a célula a seguir para fazer os devidos imports e em seguida complemente as células em branco."
   ],
   "metadata": {
    "id": "JWZpCWfvX0Lm"
   }
  },
  {
   "cell_type": "code",
   "execution_count": null,
   "metadata": {
    "id": "79T6L4baTdm1"
   },
   "source": [
    "from tensorflow.keras.datasets import cifar10\n",
    "from tensorflow.keras.models import Sequential\n",
    "from tensorflow.keras.layers import (Conv2D,\n",
    "                                     MaxPooling2D,\n",
    "                                     Flatten,\n",
    "                                     Dense)\n",
    "from tensorflow.keras.utils import to_categorical\n",
    "\n",
    "(X_train, y_train), (X_test, y_test) = cifar10.load_data()\n",
    "X_train, X_test = X_train / 255.0, X_test / 255.0\n",
    "y_train, y_test = to_categorical(y_train), to_categorical(y_test)\n",
    "\n",
    "model = Sequential([\n",
    "    Conv2D(32, (3, 3), activation='relu', input_shape=(32, 32, 3)),\n",
    "    MaxPooling2D((2, 2)),\n",
    "    Conv2D(64, (3, 3), activation='relu'),\n",
    "    MaxPooling2D((2, 2)),\n",
    "    Flatten(),\n",
    "    Dense(64, activation='relu'),\n",
    "    Dense(10, activation='softmax')\n",
    "])"
   ],
   "outputs": []
  },
  {
   "cell_type": "markdown",
   "source": [
    "### **Questão 1**\n",
    "Configure o modelo criado na célula anterior adicionando a função de perda, algoritmo otimizador e métrica\n"
   ],
   "metadata": {
    "id": "-Dno5J1JVEP-"
   }
  },
  {
   "cell_type": "code",
   "source": [],
   "metadata": {
    "id": "eF1YG9PZUJh8"
   },
   "execution_count": null,
   "outputs": []
  },
  {
   "cell_type": "markdown",
   "source": [
    "###**Questão 2**\n",
    "Treine o modelo anterior no dataset de treino definido no início do notebook, configurando os argumentos corretamente. Use 10 épocas para treinar o modelo."
   ],
   "metadata": {
    "id": "nNyrNRQcVWu5"
   }
  },
  {
   "cell_type": "code",
   "source": [],
   "metadata": {
    "id": "mKPpRljcVsxI"
   },
   "execution_count": null,
   "outputs": []
  },
  {
   "cell_type": "markdown",
   "source": [
    "###**Questão 3**\n",
    "Avalie o modelo treinado anteriormente no dataset de teste e imprima a métrica"
   ],
   "metadata": {
    "id": "lmLH4xnMVtkN"
   }
  },
  {
   "cell_type": "code",
   "source": [],
   "metadata": {
    "id": "0ICHHnBpV1ne"
   },
   "execution_count": null,
   "outputs": []
  }
 ]
}
