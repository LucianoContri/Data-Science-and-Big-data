{
 "nbformat": 4,
 "nbformat_minor": 0,
 "metadata": {
  "colab": {
   "provenance": []
  },
  "kernelspec": {
   "name": "python3",
   "display_name": "Python 3 (ipykernel)",
   "language": "python"
  },
  "language_info": {
   "name": "python"
  }
 },
 "cells": [
  {
   "cell_type": "markdown",
   "source": [
    "#**Lista de Exercícios: Tensores em PyTorch**\n",
    "\n",
    "Esta série de exercícios foi projetada para ajudar a consolidar o seu entendimento sobre o uso e manipulação de tensores, que são a base fundamental para o processamento de dados em PyTorch. Os tensores são estruturas de dados multidimensionais que formam a espinha dorsal de operações em aprendizado de máquina e processamento de dados.\n",
    "\n",
    "Nesta lista, você irá explorar desde conceitos básicos, como a criação e manipulação de tensores, até operações mais avançadas, como broadcasting e reshaping. Ao final, você terá adquirido um sólido entendimento sobre como trabalhar com tensores no ecossistema PyTorch.\n",
    "\n",
    "Instruções:\n",
    "- Leia cada exercício atentamente e siga as instruções fornecidas.\n",
    "- Complete cada exercício no espaço designado.\n",
    "- Alguns exercícios podem exigir o uso de funções específicas do PyTorch.\n",
    "- Certifique-se de consultar a documentação oficial quando necessário.\n",
    "\n",
    "Lembre-se de que a prática é essencial para aprimorar suas habilidades em PyTorch. Vamos começar!"
   ],
   "metadata": {
    "id": "vTpk_pbtRnhz"
   }
  },
  {
   "cell_type": "code",
   "source": "import torch\n",
   "metadata": {
    "id": "86vOemAQSdEt",
    "ExecuteTime": {
     "end_time": "2024-06-16T02:06:38.450575Z",
     "start_time": "2024-06-16T02:06:38.394066Z"
    }
   },
   "outputs": [],
   "execution_count": 2
  },
  {
   "cell_type": "markdown",
   "source": [
    "## **Exercício 1: Criando Tensores**\n",
    "Crie um tensor 1D de números inteiros de 1 a 5."
   ],
   "metadata": {
    "id": "puqWzGlTR_KD"
   }
  },
  {
   "cell_type": "code",
   "source": [
    "# Resposta:\n",
    "tensor_1d = torch.LongTensor([1, 2, 3, 4, 5])\n",
    "print(tensor_1d)"
   ],
   "metadata": {
    "id": "m5nx33tWSGR6",
    "ExecuteTime": {
     "end_time": "2024-06-16T02:06:38.535916Z",
     "start_time": "2024-06-16T02:06:38.456006Z"
    }
   },
   "outputs": [
    {
     "name": "stdout",
     "output_type": "stream",
     "text": [
      "tensor([1, 2, 3, 4, 5])\n"
     ]
    }
   ],
   "execution_count": 3
  },
  {
   "cell_type": "markdown",
   "source": [
    "Crie um tensor 2D de números reais de 0 a 8 em uma matriz 2x4."
   ],
   "metadata": {
    "id": "w8qxcBaXSG0T"
   }
  },
  {
   "cell_type": "code",
   "metadata": {
    "id": "vFy4qLVaRciz",
    "ExecuteTime": {
     "end_time": "2024-06-16T02:06:38.579826Z",
     "start_time": "2024-06-16T02:06:38.535916Z"
    }
   },
   "source": [
    "# Resposta:\n",
    "tensor_2d = torch.FloatTensor([[0, 1, 2, 3], [4, 5, 6, 7]])\n",
    "print(tensor_2d)"
   ],
   "outputs": [
    {
     "name": "stdout",
     "output_type": "stream",
     "text": [
      "tensor([[0., 1., 2., 3.],\n",
      "        [4., 5., 6., 7.]])\n"
     ]
    }
   ],
   "execution_count": 4
  },
  {
   "cell_type": "markdown",
   "source": [
    "##**Exercício 2: Operações Básicas**"
   ],
   "metadata": {
    "id": "5HtpI2OCSQLQ"
   }
  },
  {
   "cell_type": "markdown",
   "source": [
    "Multiplique o tensor 1D do exercicio anterior por 3"
   ],
   "metadata": {
    "id": "9MZtFSn0SUQJ"
   }
  },
  {
   "cell_type": "code",
   "source": [
    "# Resposta:\n",
    "tensor_1d = tensor_1d * 3\n",
    "print(tensor_1d)"
   ],
   "metadata": {
    "id": "dGYgQvb5STR5",
    "ExecuteTime": {
     "end_time": "2024-06-16T02:06:38.590556Z",
     "start_time": "2024-06-16T02:06:38.579826Z"
    }
   },
   "outputs": [
    {
     "name": "stdout",
     "output_type": "stream",
     "text": [
      "tensor([ 3,  6,  9, 12, 15])\n"
     ]
    }
   ],
   "execution_count": 5
  },
  {
   "cell_type": "markdown",
   "source": [
    "Calcule o produto escala do tensor do exercício anterior com o tensor 1D criado na célula abaixo"
   ],
   "metadata": {
    "id": "_l6XLiA9S1bR"
   }
  },
  {
   "cell_type": "code",
   "source": [
    "tensor_1d_new = torch.LongTensor([-1, -10, 0, 2, 3])\n",
    "print(tensor_1d_new)"
   ],
   "metadata": {
    "id": "DTy6Pg1YSx2x",
    "ExecuteTime": {
     "end_time": "2024-06-16T02:06:38.605080Z",
     "start_time": "2024-06-16T02:06:38.594960Z"
    }
   },
   "outputs": [
    {
     "name": "stdout",
     "output_type": "stream",
     "text": [
      "tensor([ -1, -10,   0,   2,   3])\n"
     ]
    }
   ],
   "execution_count": 6
  },
  {
   "cell_type": "code",
   "source": [
    "# Resposta:\n",
    "produto_escalar = torch.dot(tensor_1d, tensor_1d_new)\n",
    "print(produto_escalar)"
   ],
   "metadata": {
    "id": "2SlbFAlsTO8A",
    "ExecuteTime": {
     "end_time": "2024-06-16T02:06:38.616187Z",
     "start_time": "2024-06-16T02:06:38.605080Z"
    }
   },
   "outputs": [
    {
     "name": "stdout",
     "output_type": "stream",
     "text": [
      "tensor(6)\n"
     ]
    }
   ],
   "execution_count": 7
  },
  {
   "cell_type": "markdown",
   "source": [
    "##**Exercício 3: Operações Avançadas**"
   ],
   "metadata": {
    "id": "JUQ9BXQgTf2O"
   }
  },
  {
   "cell_type": "markdown",
   "source": [
    "Crie um tensor 1D de números inteiros de 1 a 16 e utilize o método view para transformar o tensor em uma matriz 4x4."
   ],
   "metadata": {
    "id": "n6korqwFTxOs"
   }
  },
  {
   "cell_type": "code",
   "source": [
    "# Resposta:\n",
    "tensor_1d = torch.LongTensor(range(1, 17))\n",
    "tensor_2d = tensor_1d.view(4, 4)\n",
    "print(tensor_2d)"
   ],
   "metadata": {
    "id": "Lrl6uDOeTUKQ",
    "ExecuteTime": {
     "end_time": "2024-06-16T02:06:38.628688Z",
     "start_time": "2024-06-16T02:06:38.618399Z"
    }
   },
   "outputs": [
    {
     "name": "stdout",
     "output_type": "stream",
     "text": [
      "tensor([[ 1,  2,  3,  4],\n",
      "        [ 5,  6,  7,  8],\n",
      "        [ 9, 10, 11, 12],\n",
      "        [13, 14, 15, 16]])\n"
     ]
    }
   ],
   "execution_count": 8
  },
  {
   "cell_type": "markdown",
   "source": [
    "Divida o tensor 1D de 1 a 16 em 4 partes iguais."
   ],
   "metadata": {
    "id": "fUJPbbPBUHDZ"
   }
  },
  {
   "cell_type": "code",
   "source": [
    "# Resposta:\n",
    "partes = torch.chunk(tensor_1d, 4)\n",
    "print(partes)"
   ],
   "metadata": {
    "id": "rwsjOQ1zT_CA",
    "ExecuteTime": {
     "end_time": "2024-06-16T02:06:38.643656Z",
     "start_time": "2024-06-16T02:06:38.628688Z"
    }
   },
   "outputs": [
    {
     "name": "stdout",
     "output_type": "stream",
     "text": [
      "(tensor([1, 2, 3, 4]), tensor([5, 6, 7, 8]), tensor([ 9, 10, 11, 12]), tensor([13, 14, 15, 16]))\n"
     ]
    }
   ],
   "execution_count": 9
  },
  {
   "cell_type": "markdown",
   "source": [
    "Crie um novo tensor 2D empilhando essas partes verticalmente."
   ],
   "metadata": {
    "id": "v_kEbmTZUIjr"
   }
  },
  {
   "cell_type": "code",
   "source": [
    "# Resposta:\n",
    "tensor_2d = torch.stack(partes)\n",
    "print(f'Vertical:\\n{tensor_2d}\\n')\n",
    "\n",
    "# empilhando horizontalmente\n",
    "tensor_2d = torch.stack(partes, dim=1)\n",
    "print(f'Horizontal:\\n{tensor_2d}')"
   ],
   "metadata": {
    "id": "xLMGbqwMULdg",
    "ExecuteTime": {
     "end_time": "2024-06-16T02:08:09.384665Z",
     "start_time": "2024-06-16T02:08:09.366051Z"
    }
   },
   "outputs": [
    {
     "name": "stdout",
     "output_type": "stream",
     "text": [
      "Vertical:\n",
      "tensor([[ 1,  2,  3,  4],\n",
      "        [ 5,  6,  7,  8],\n",
      "        [ 9, 10, 11, 12],\n",
      "        [13, 14, 15, 16]])\n",
      "\n",
      "Horizontal:\n",
      "tensor([[ 1,  5,  9, 13],\n",
      "        [ 2,  6, 10, 14],\n",
      "        [ 3,  7, 11, 15],\n",
      "        [ 4,  8, 12, 16]])\n"
     ]
    }
   ],
   "execution_count": 12
  },
  {
   "metadata": {},
   "cell_type": "code",
   "outputs": [],
   "execution_count": null,
   "source": ""
  }
 ]
}
