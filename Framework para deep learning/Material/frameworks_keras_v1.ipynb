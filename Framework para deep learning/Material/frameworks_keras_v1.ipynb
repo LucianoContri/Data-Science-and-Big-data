{
  "nbformat": 4,
  "nbformat_minor": 0,
  "metadata": {
    "colab": {
      "provenance": []
    },
    "kernelspec": {
      "name": "python3",
      "display_name": "Python 3"
    },
    "language_info": {
      "name": "python"
    }
  },
  "cells": [
    {
      "cell_type": "markdown",
      "source": [
        "# **FRAMEWORKS DE DEEPLEARNING**\n",
        "# **Prática - Keras**\n",
        "**Autor**: Renan Santos Mendes\n",
        "\n",
        "**Email**: renansantosmendes@gmail.com\n",
        "\n",
        "**Descrição**: Este notebook apresenta um exemplo de uma rede neural profunda com mais de uma camada para um problema de classificação.\n",
        "\n",
        "\n",
        "# **Saúde Fetal**\n",
        "\n",
        "As Cardiotocografias (CTGs) são opções simples e de baixo custo para avaliar a saúde fetal, permitindo que os profissionais de saúde atuem na prevenção da mortalidade infantil e materna. O próprio equipamento funciona enviando pulsos de ultrassom e lendo sua resposta, lançando luz sobre a frequência cardíaca fetal (FCF), movimentos fetais, contrações uterinas e muito mais.\n",
        "\n",
        "Este conjunto de dados contém 2126 registros de características extraídas de exames de Cardiotocografias, que foram então classificados por três obstetras especialistas em 3 classes:\n",
        "\n",
        "- Normal\n",
        "- Suspeito\n",
        "- Patológico"
      ],
      "metadata": {
        "id": "yYryuRDeqbxK"
      }
    },
    {
      "cell_type": "code",
      "source": [
        "%%capture\n",
        "!pip install autokeras==1.0.19 mlflow dagshub"
      ],
      "metadata": {
        "id": "9uLluT6aZth4"
      },
      "execution_count": null,
      "outputs": []
    },
    {
      "cell_type": "markdown",
      "source": [
        "# 1 - Importando os módulos necessários"
      ],
      "metadata": {
        "id": "4WgsLeJngPb1"
      }
    },
    {
      "cell_type": "code",
      "source": [
        "import os\n",
        "import tensorflow\n",
        "import tensorflow as tf\n",
        "from tensorflow import keras\n",
        "from keras.models import Sequential\n",
        "from keras.layers import Dense, Activation, InputLayer, Dropout\n",
        "from keras.utils import to_categorical\n",
        "from keras.callbacks import EarlyStopping\n",
        "from keras.regularizers import l1, l2\n",
        "\n",
        "import random\n",
        "import numpy as np\n",
        "import random as python_random\n",
        "import pandas as pd\n",
        "import matplotlib.pyplot as plt\n",
        "import plotly.express as px\n",
        "from sklearn import preprocessing\n",
        "from sklearn.preprocessing import StandardScaler\n",
        "from sklearn.model_selection import train_test_split"
      ],
      "metadata": {
        "id": "55YREGWfhXuu"
      },
      "execution_count": null,
      "outputs": []
    },
    {
      "cell_type": "markdown",
      "source": [
        "# Definindo funções adicionais"
      ],
      "metadata": {
        "id": "NFTzaAkEr-IP"
      }
    },
    {
      "cell_type": "code",
      "source": [
        "def plot_convergence(hist, metric):\n",
        "\n",
        "  df = pd.DataFrame(hist.history)\n",
        "  fig = px.line(df,\n",
        "                x=np.arange(df[metric].shape[0]),\n",
        "                y=[f'{metric}', f'val_{metric}'])\n",
        "  fig.show()\n",
        "\n",
        "def reset_seeds():\n",
        "   os.environ['PYTHONHASHSEED']=str(42)\n",
        "   tf.random.set_seed(42)\n",
        "   np.random.seed(42)\n",
        "   random.seed(42)"
      ],
      "metadata": {
        "id": "OgKUlrlbozyR"
      },
      "execution_count": null,
      "outputs": []
    },
    {
      "cell_type": "markdown",
      "source": [
        "# 2 - Fazendo a leitura do dataset e atribuindo às respectivas variáveis"
      ],
      "metadata": {
        "id": "I5uGdrdeh0QG"
      }
    },
    {
      "cell_type": "code",
      "source": [
        "data = pd.read_csv('https://raw.githubusercontent.com/renansantosmendes/lectures-cdas-2023/master/fetal_health.csv')"
      ],
      "metadata": {
        "id": "95168wcThmD2"
      },
      "execution_count": null,
      "outputs": []
    },
    {
      "cell_type": "code",
      "source": [
        "data.head()"
      ],
      "metadata": {
        "id": "rqn7E8l_XTNl",
        "colab": {
          "base_uri": "https://localhost:8080/",
          "height": 273
        },
        "outputId": "f7b886cc-d55d-4a27-909b-71affcab129c"
      },
      "execution_count": null,
      "outputs": [
        {
          "output_type": "execute_result",
          "data": {
            "text/plain": [
              "   baseline value  accelerations  fetal_movement  uterine_contractions  \\\n",
              "0           120.0          0.000             0.0                 0.000   \n",
              "1           132.0          0.006             0.0                 0.006   \n",
              "2           133.0          0.003             0.0                 0.008   \n",
              "3           134.0          0.003             0.0                 0.008   \n",
              "4           132.0          0.007             0.0                 0.008   \n",
              "\n",
              "   light_decelerations  severe_decelerations  prolongued_decelerations  \\\n",
              "0                0.000                   0.0                       0.0   \n",
              "1                0.003                   0.0                       0.0   \n",
              "2                0.003                   0.0                       0.0   \n",
              "3                0.003                   0.0                       0.0   \n",
              "4                0.000                   0.0                       0.0   \n",
              "\n",
              "   abnormal_short_term_variability  mean_value_of_short_term_variability  \\\n",
              "0                             73.0                                   0.5   \n",
              "1                             17.0                                   2.1   \n",
              "2                             16.0                                   2.1   \n",
              "3                             16.0                                   2.4   \n",
              "4                             16.0                                   2.4   \n",
              "\n",
              "   percentage_of_time_with_abnormal_long_term_variability  ...  histogram_min  \\\n",
              "0                                               43.0       ...           62.0   \n",
              "1                                                0.0       ...           68.0   \n",
              "2                                                0.0       ...           68.0   \n",
              "3                                                0.0       ...           53.0   \n",
              "4                                                0.0       ...           53.0   \n",
              "\n",
              "   histogram_max  histogram_number_of_peaks  histogram_number_of_zeroes  \\\n",
              "0          126.0                        2.0                         0.0   \n",
              "1          198.0                        6.0                         1.0   \n",
              "2          198.0                        5.0                         1.0   \n",
              "3          170.0                       11.0                         0.0   \n",
              "4          170.0                        9.0                         0.0   \n",
              "\n",
              "   histogram_mode  histogram_mean  histogram_median  histogram_variance  \\\n",
              "0           120.0           137.0             121.0                73.0   \n",
              "1           141.0           136.0             140.0                12.0   \n",
              "2           141.0           135.0             138.0                13.0   \n",
              "3           137.0           134.0             137.0                13.0   \n",
              "4           137.0           136.0             138.0                11.0   \n",
              "\n",
              "   histogram_tendency  fetal_health  \n",
              "0                 1.0           2.0  \n",
              "1                 0.0           1.0  \n",
              "2                 0.0           1.0  \n",
              "3                 1.0           1.0  \n",
              "4                 1.0           1.0  \n",
              "\n",
              "[5 rows x 22 columns]"
            ],
            "text/html": [
              "\n",
              "  <div id=\"df-af488409-98aa-428b-9b23-847a3570f233\" class=\"colab-df-container\">\n",
              "    <div>\n",
              "<style scoped>\n",
              "    .dataframe tbody tr th:only-of-type {\n",
              "        vertical-align: middle;\n",
              "    }\n",
              "\n",
              "    .dataframe tbody tr th {\n",
              "        vertical-align: top;\n",
              "    }\n",
              "\n",
              "    .dataframe thead th {\n",
              "        text-align: right;\n",
              "    }\n",
              "</style>\n",
              "<table border=\"1\" class=\"dataframe\">\n",
              "  <thead>\n",
              "    <tr style=\"text-align: right;\">\n",
              "      <th></th>\n",
              "      <th>baseline value</th>\n",
              "      <th>accelerations</th>\n",
              "      <th>fetal_movement</th>\n",
              "      <th>uterine_contractions</th>\n",
              "      <th>light_decelerations</th>\n",
              "      <th>severe_decelerations</th>\n",
              "      <th>prolongued_decelerations</th>\n",
              "      <th>abnormal_short_term_variability</th>\n",
              "      <th>mean_value_of_short_term_variability</th>\n",
              "      <th>percentage_of_time_with_abnormal_long_term_variability</th>\n",
              "      <th>...</th>\n",
              "      <th>histogram_min</th>\n",
              "      <th>histogram_max</th>\n",
              "      <th>histogram_number_of_peaks</th>\n",
              "      <th>histogram_number_of_zeroes</th>\n",
              "      <th>histogram_mode</th>\n",
              "      <th>histogram_mean</th>\n",
              "      <th>histogram_median</th>\n",
              "      <th>histogram_variance</th>\n",
              "      <th>histogram_tendency</th>\n",
              "      <th>fetal_health</th>\n",
              "    </tr>\n",
              "  </thead>\n",
              "  <tbody>\n",
              "    <tr>\n",
              "      <th>0</th>\n",
              "      <td>120.0</td>\n",
              "      <td>0.000</td>\n",
              "      <td>0.0</td>\n",
              "      <td>0.000</td>\n",
              "      <td>0.000</td>\n",
              "      <td>0.0</td>\n",
              "      <td>0.0</td>\n",
              "      <td>73.0</td>\n",
              "      <td>0.5</td>\n",
              "      <td>43.0</td>\n",
              "      <td>...</td>\n",
              "      <td>62.0</td>\n",
              "      <td>126.0</td>\n",
              "      <td>2.0</td>\n",
              "      <td>0.0</td>\n",
              "      <td>120.0</td>\n",
              "      <td>137.0</td>\n",
              "      <td>121.0</td>\n",
              "      <td>73.0</td>\n",
              "      <td>1.0</td>\n",
              "      <td>2.0</td>\n",
              "    </tr>\n",
              "    <tr>\n",
              "      <th>1</th>\n",
              "      <td>132.0</td>\n",
              "      <td>0.006</td>\n",
              "      <td>0.0</td>\n",
              "      <td>0.006</td>\n",
              "      <td>0.003</td>\n",
              "      <td>0.0</td>\n",
              "      <td>0.0</td>\n",
              "      <td>17.0</td>\n",
              "      <td>2.1</td>\n",
              "      <td>0.0</td>\n",
              "      <td>...</td>\n",
              "      <td>68.0</td>\n",
              "      <td>198.0</td>\n",
              "      <td>6.0</td>\n",
              "      <td>1.0</td>\n",
              "      <td>141.0</td>\n",
              "      <td>136.0</td>\n",
              "      <td>140.0</td>\n",
              "      <td>12.0</td>\n",
              "      <td>0.0</td>\n",
              "      <td>1.0</td>\n",
              "    </tr>\n",
              "    <tr>\n",
              "      <th>2</th>\n",
              "      <td>133.0</td>\n",
              "      <td>0.003</td>\n",
              "      <td>0.0</td>\n",
              "      <td>0.008</td>\n",
              "      <td>0.003</td>\n",
              "      <td>0.0</td>\n",
              "      <td>0.0</td>\n",
              "      <td>16.0</td>\n",
              "      <td>2.1</td>\n",
              "      <td>0.0</td>\n",
              "      <td>...</td>\n",
              "      <td>68.0</td>\n",
              "      <td>198.0</td>\n",
              "      <td>5.0</td>\n",
              "      <td>1.0</td>\n",
              "      <td>141.0</td>\n",
              "      <td>135.0</td>\n",
              "      <td>138.0</td>\n",
              "      <td>13.0</td>\n",
              "      <td>0.0</td>\n",
              "      <td>1.0</td>\n",
              "    </tr>\n",
              "    <tr>\n",
              "      <th>3</th>\n",
              "      <td>134.0</td>\n",
              "      <td>0.003</td>\n",
              "      <td>0.0</td>\n",
              "      <td>0.008</td>\n",
              "      <td>0.003</td>\n",
              "      <td>0.0</td>\n",
              "      <td>0.0</td>\n",
              "      <td>16.0</td>\n",
              "      <td>2.4</td>\n",
              "      <td>0.0</td>\n",
              "      <td>...</td>\n",
              "      <td>53.0</td>\n",
              "      <td>170.0</td>\n",
              "      <td>11.0</td>\n",
              "      <td>0.0</td>\n",
              "      <td>137.0</td>\n",
              "      <td>134.0</td>\n",
              "      <td>137.0</td>\n",
              "      <td>13.0</td>\n",
              "      <td>1.0</td>\n",
              "      <td>1.0</td>\n",
              "    </tr>\n",
              "    <tr>\n",
              "      <th>4</th>\n",
              "      <td>132.0</td>\n",
              "      <td>0.007</td>\n",
              "      <td>0.0</td>\n",
              "      <td>0.008</td>\n",
              "      <td>0.000</td>\n",
              "      <td>0.0</td>\n",
              "      <td>0.0</td>\n",
              "      <td>16.0</td>\n",
              "      <td>2.4</td>\n",
              "      <td>0.0</td>\n",
              "      <td>...</td>\n",
              "      <td>53.0</td>\n",
              "      <td>170.0</td>\n",
              "      <td>9.0</td>\n",
              "      <td>0.0</td>\n",
              "      <td>137.0</td>\n",
              "      <td>136.0</td>\n",
              "      <td>138.0</td>\n",
              "      <td>11.0</td>\n",
              "      <td>1.0</td>\n",
              "      <td>1.0</td>\n",
              "    </tr>\n",
              "  </tbody>\n",
              "</table>\n",
              "<p>5 rows × 22 columns</p>\n",
              "</div>\n",
              "    <div class=\"colab-df-buttons\">\n",
              "\n",
              "  <div class=\"colab-df-container\">\n",
              "    <button class=\"colab-df-convert\" onclick=\"convertToInteractive('df-af488409-98aa-428b-9b23-847a3570f233')\"\n",
              "            title=\"Convert this dataframe to an interactive table.\"\n",
              "            style=\"display:none;\">\n",
              "\n",
              "  <svg xmlns=\"http://www.w3.org/2000/svg\" height=\"24px\" viewBox=\"0 -960 960 960\">\n",
              "    <path d=\"M120-120v-720h720v720H120Zm60-500h600v-160H180v160Zm220 220h160v-160H400v160Zm0 220h160v-160H400v160ZM180-400h160v-160H180v160Zm440 0h160v-160H620v160ZM180-180h160v-160H180v160Zm440 0h160v-160H620v160Z\"/>\n",
              "  </svg>\n",
              "    </button>\n",
              "\n",
              "  <style>\n",
              "    .colab-df-container {\n",
              "      display:flex;\n",
              "      gap: 12px;\n",
              "    }\n",
              "\n",
              "    .colab-df-convert {\n",
              "      background-color: #E8F0FE;\n",
              "      border: none;\n",
              "      border-radius: 50%;\n",
              "      cursor: pointer;\n",
              "      display: none;\n",
              "      fill: #1967D2;\n",
              "      height: 32px;\n",
              "      padding: 0 0 0 0;\n",
              "      width: 32px;\n",
              "    }\n",
              "\n",
              "    .colab-df-convert:hover {\n",
              "      background-color: #E2EBFA;\n",
              "      box-shadow: 0px 1px 2px rgba(60, 64, 67, 0.3), 0px 1px 3px 1px rgba(60, 64, 67, 0.15);\n",
              "      fill: #174EA6;\n",
              "    }\n",
              "\n",
              "    .colab-df-buttons div {\n",
              "      margin-bottom: 4px;\n",
              "    }\n",
              "\n",
              "    [theme=dark] .colab-df-convert {\n",
              "      background-color: #3B4455;\n",
              "      fill: #D2E3FC;\n",
              "    }\n",
              "\n",
              "    [theme=dark] .colab-df-convert:hover {\n",
              "      background-color: #434B5C;\n",
              "      box-shadow: 0px 1px 3px 1px rgba(0, 0, 0, 0.15);\n",
              "      filter: drop-shadow(0px 1px 2px rgba(0, 0, 0, 0.3));\n",
              "      fill: #FFFFFF;\n",
              "    }\n",
              "  </style>\n",
              "\n",
              "    <script>\n",
              "      const buttonEl =\n",
              "        document.querySelector('#df-af488409-98aa-428b-9b23-847a3570f233 button.colab-df-convert');\n",
              "      buttonEl.style.display =\n",
              "        google.colab.kernel.accessAllowed ? 'block' : 'none';\n",
              "\n",
              "      async function convertToInteractive(key) {\n",
              "        const element = document.querySelector('#df-af488409-98aa-428b-9b23-847a3570f233');\n",
              "        const dataTable =\n",
              "          await google.colab.kernel.invokeFunction('convertToInteractive',\n",
              "                                                    [key], {});\n",
              "        if (!dataTable) return;\n",
              "\n",
              "        const docLinkHtml = 'Like what you see? Visit the ' +\n",
              "          '<a target=\"_blank\" href=https://colab.research.google.com/notebooks/data_table.ipynb>data table notebook</a>'\n",
              "          + ' to learn more about interactive tables.';\n",
              "        element.innerHTML = '';\n",
              "        dataTable['output_type'] = 'display_data';\n",
              "        await google.colab.output.renderOutput(dataTable, element);\n",
              "        const docLink = document.createElement('div');\n",
              "        docLink.innerHTML = docLinkHtml;\n",
              "        element.appendChild(docLink);\n",
              "      }\n",
              "    </script>\n",
              "  </div>\n",
              "\n",
              "\n",
              "<div id=\"df-d7611f29-61fa-45df-be96-9f227205af0e\">\n",
              "  <button class=\"colab-df-quickchart\" onclick=\"quickchart('df-d7611f29-61fa-45df-be96-9f227205af0e')\"\n",
              "            title=\"Suggest charts\"\n",
              "            style=\"display:none;\">\n",
              "\n",
              "<svg xmlns=\"http://www.w3.org/2000/svg\" height=\"24px\"viewBox=\"0 0 24 24\"\n",
              "     width=\"24px\">\n",
              "    <g>\n",
              "        <path d=\"M19 3H5c-1.1 0-2 .9-2 2v14c0 1.1.9 2 2 2h14c1.1 0 2-.9 2-2V5c0-1.1-.9-2-2-2zM9 17H7v-7h2v7zm4 0h-2V7h2v10zm4 0h-2v-4h2v4z\"/>\n",
              "    </g>\n",
              "</svg>\n",
              "  </button>\n",
              "\n",
              "<style>\n",
              "  .colab-df-quickchart {\n",
              "      --bg-color: #E8F0FE;\n",
              "      --fill-color: #1967D2;\n",
              "      --hover-bg-color: #E2EBFA;\n",
              "      --hover-fill-color: #174EA6;\n",
              "      --disabled-fill-color: #AAA;\n",
              "      --disabled-bg-color: #DDD;\n",
              "  }\n",
              "\n",
              "  [theme=dark] .colab-df-quickchart {\n",
              "      --bg-color: #3B4455;\n",
              "      --fill-color: #D2E3FC;\n",
              "      --hover-bg-color: #434B5C;\n",
              "      --hover-fill-color: #FFFFFF;\n",
              "      --disabled-bg-color: #3B4455;\n",
              "      --disabled-fill-color: #666;\n",
              "  }\n",
              "\n",
              "  .colab-df-quickchart {\n",
              "    background-color: var(--bg-color);\n",
              "    border: none;\n",
              "    border-radius: 50%;\n",
              "    cursor: pointer;\n",
              "    display: none;\n",
              "    fill: var(--fill-color);\n",
              "    height: 32px;\n",
              "    padding: 0;\n",
              "    width: 32px;\n",
              "  }\n",
              "\n",
              "  .colab-df-quickchart:hover {\n",
              "    background-color: var(--hover-bg-color);\n",
              "    box-shadow: 0 1px 2px rgba(60, 64, 67, 0.3), 0 1px 3px 1px rgba(60, 64, 67, 0.15);\n",
              "    fill: var(--button-hover-fill-color);\n",
              "  }\n",
              "\n",
              "  .colab-df-quickchart-complete:disabled,\n",
              "  .colab-df-quickchart-complete:disabled:hover {\n",
              "    background-color: var(--disabled-bg-color);\n",
              "    fill: var(--disabled-fill-color);\n",
              "    box-shadow: none;\n",
              "  }\n",
              "\n",
              "  .colab-df-spinner {\n",
              "    border: 2px solid var(--fill-color);\n",
              "    border-color: transparent;\n",
              "    border-bottom-color: var(--fill-color);\n",
              "    animation:\n",
              "      spin 1s steps(1) infinite;\n",
              "  }\n",
              "\n",
              "  @keyframes spin {\n",
              "    0% {\n",
              "      border-color: transparent;\n",
              "      border-bottom-color: var(--fill-color);\n",
              "      border-left-color: var(--fill-color);\n",
              "    }\n",
              "    20% {\n",
              "      border-color: transparent;\n",
              "      border-left-color: var(--fill-color);\n",
              "      border-top-color: var(--fill-color);\n",
              "    }\n",
              "    30% {\n",
              "      border-color: transparent;\n",
              "      border-left-color: var(--fill-color);\n",
              "      border-top-color: var(--fill-color);\n",
              "      border-right-color: var(--fill-color);\n",
              "    }\n",
              "    40% {\n",
              "      border-color: transparent;\n",
              "      border-right-color: var(--fill-color);\n",
              "      border-top-color: var(--fill-color);\n",
              "    }\n",
              "    60% {\n",
              "      border-color: transparent;\n",
              "      border-right-color: var(--fill-color);\n",
              "    }\n",
              "    80% {\n",
              "      border-color: transparent;\n",
              "      border-right-color: var(--fill-color);\n",
              "      border-bottom-color: var(--fill-color);\n",
              "    }\n",
              "    90% {\n",
              "      border-color: transparent;\n",
              "      border-bottom-color: var(--fill-color);\n",
              "    }\n",
              "  }\n",
              "</style>\n",
              "\n",
              "  <script>\n",
              "    async function quickchart(key) {\n",
              "      const quickchartButtonEl =\n",
              "        document.querySelector('#' + key + ' button');\n",
              "      quickchartButtonEl.disabled = true;  // To prevent multiple clicks.\n",
              "      quickchartButtonEl.classList.add('colab-df-spinner');\n",
              "      try {\n",
              "        const charts = await google.colab.kernel.invokeFunction(\n",
              "            'suggestCharts', [key], {});\n",
              "      } catch (error) {\n",
              "        console.error('Error during call to suggestCharts:', error);\n",
              "      }\n",
              "      quickchartButtonEl.classList.remove('colab-df-spinner');\n",
              "      quickchartButtonEl.classList.add('colab-df-quickchart-complete');\n",
              "    }\n",
              "    (() => {\n",
              "      let quickchartButtonEl =\n",
              "        document.querySelector('#df-d7611f29-61fa-45df-be96-9f227205af0e button');\n",
              "      quickchartButtonEl.style.display =\n",
              "        google.colab.kernel.accessAllowed ? 'block' : 'none';\n",
              "    })();\n",
              "  </script>\n",
              "</div>\n",
              "\n",
              "    </div>\n",
              "  </div>\n"
            ],
            "application/vnd.google.colaboratory.intrinsic+json": {
              "type": "dataframe",
              "variable_name": "data"
            }
          },
          "metadata": {},
          "execution_count": 11
        }
      ]
    },
    {
      "cell_type": "code",
      "source": [
        "data.fetal_health.value_counts()"
      ],
      "metadata": {
        "colab": {
          "base_uri": "https://localhost:8080/"
        },
        "id": "GoJp1MwOl9ps",
        "outputId": "97cf5333-7d46-4339-90f4-09dc64e92d1e"
      },
      "execution_count": null,
      "outputs": [
        {
          "output_type": "execute_result",
          "data": {
            "text/plain": [
              "fetal_health\n",
              "1.0    1655\n",
              "2.0     295\n",
              "3.0     176\n",
              "Name: count, dtype: int64"
            ]
          },
          "metadata": {},
          "execution_count": 12
        }
      ]
    },
    {
      "cell_type": "markdown",
      "source": [
        "# 3 - Preparando o dado antes de iniciar o treino do modelo"
      ],
      "metadata": {
        "id": "1eQEA-fzgQ0G"
      }
    },
    {
      "cell_type": "code",
      "source": [
        "data[\"fetal_health\"]"
      ],
      "metadata": {
        "colab": {
          "base_uri": "https://localhost:8080/"
        },
        "id": "0Uw_g9EQnnI4",
        "outputId": "d0930dff-c9f5-4d16-fe95-02e57ac8a959"
      },
      "execution_count": null,
      "outputs": [
        {
          "output_type": "execute_result",
          "data": {
            "text/plain": [
              "0       2.0\n",
              "1       1.0\n",
              "2       1.0\n",
              "3       1.0\n",
              "4       1.0\n",
              "       ... \n",
              "2121    2.0\n",
              "2122    2.0\n",
              "2123    2.0\n",
              "2124    2.0\n",
              "2125    1.0\n",
              "Name: fetal_health, Length: 2126, dtype: float64"
            ]
          },
          "metadata": {},
          "execution_count": 13
        }
      ]
    },
    {
      "cell_type": "code",
      "source": [
        "y"
      ],
      "metadata": {
        "colab": {
          "base_uri": "https://localhost:8080/"
        },
        "id": "Cx_RL8aAnoxl",
        "outputId": "69756e03-2d84-4c65-99b7-16d5a3e90fd4"
      },
      "execution_count": null,
      "outputs": [
        {
          "output_type": "execute_result",
          "data": {
            "text/plain": [
              "0       1.0\n",
              "1       0.0\n",
              "2       0.0\n",
              "3       0.0\n",
              "4       0.0\n",
              "       ... \n",
              "2121    1.0\n",
              "2122    1.0\n",
              "2123    1.0\n",
              "2124    1.0\n",
              "2125    0.0\n",
              "Name: fetal_health, Length: 2126, dtype: float64"
            ]
          },
          "metadata": {},
          "execution_count": 18
        }
      ]
    },
    {
      "cell_type": "code",
      "source": [
        "X = data.drop([\"fetal_health\"], axis=1)\n",
        "y = data[\"fetal_health\"] - 1\n",
        "\n",
        "columns_names = list(X.columns)\n",
        "X_df = preprocessing.StandardScaler().fit_transform(X)\n",
        "X_df = pd.DataFrame(X_df, columns=columns_names)\n",
        "\n",
        "X_train, X_test, y_train, y_test = train_test_split(X_df,\n",
        "                                                    y,\n",
        "                                                    test_size=0.3,\n",
        "                                                    random_state=42)\n",
        "\n",
        "y_train = to_categorical(y_train)\n",
        "y_test = to_categorical(y_test)"
      ],
      "metadata": {
        "id": "jBK7SgPxh7YY"
      },
      "execution_count": null,
      "outputs": []
    },
    {
      "cell_type": "code",
      "source": [
        "y_train"
      ],
      "metadata": {
        "colab": {
          "base_uri": "https://localhost:8080/"
        },
        "id": "r4Jw1_j_64IQ",
        "outputId": "36a65c9f-0bea-4dde-bd5b-e26f837ca4d4"
      },
      "execution_count": null,
      "outputs": [
        {
          "output_type": "execute_result",
          "data": {
            "text/plain": [
              "array([[1., 0., 0.],\n",
              "       [1., 0., 0.],\n",
              "       [1., 0., 0.],\n",
              "       ...,\n",
              "       [1., 0., 0.],\n",
              "       [1., 0., 0.],\n",
              "       [1., 0., 0.]], dtype=float32)"
            ]
          },
          "metadata": {},
          "execution_count": 66
        }
      ]
    },
    {
      "cell_type": "code",
      "source": [
        "output = y_test[0]\n",
        "output"
      ],
      "metadata": {
        "colab": {
          "base_uri": "https://localhost:8080/"
        },
        "id": "kWYRwLLWoOsm",
        "outputId": "d5ce1987-af32-4774-9760-bcc8c28ea642"
      },
      "execution_count": null,
      "outputs": [
        {
          "output_type": "execute_result",
          "data": {
            "text/plain": [
              "array([1., 0., 0.], dtype=float32)"
            ]
          },
          "metadata": {},
          "execution_count": 29
        }
      ]
    },
    {
      "cell_type": "code",
      "source": [
        "input = X_test.iloc[0].values\n",
        "input"
      ],
      "metadata": {
        "colab": {
          "base_uri": "https://localhost:8080/"
        },
        "id": "RoxmRZd5pMA8",
        "outputId": "c9810fc0-b090-44f3-b1ce-04c40c189cea"
      },
      "execution_count": null,
      "outputs": [
        {
          "output_type": "execute_result",
          "data": {
            "text/plain": [
              "array([-0.03088439, -0.30488126,  0.01113035, -0.46391894,  0.03734947,\n",
              "       -0.0574756 , -0.2687543 , -0.05760286, -0.26361916, -0.53536128,\n",
              "        1.28176109, -0.03712546,  0.04806603, -0.00141582,  0.31600345,\n",
              "       -0.45844382,  0.09451891,  0.02498176, -0.00624416, -0.33855066,\n",
              "       -0.52452553])"
            ]
          },
          "metadata": {},
          "execution_count": 27
        }
      ]
    },
    {
      "cell_type": "code",
      "source": [
        "prediction = np.array([0.98, 0.01, 0.01])"
      ],
      "metadata": {
        "id": "WjLP3e8xpjR9"
      },
      "execution_count": null,
      "outputs": []
    },
    {
      "cell_type": "code",
      "source": [
        "np.argmax(prediction)"
      ],
      "metadata": {
        "colab": {
          "base_uri": "https://localhost:8080/"
        },
        "id": "GG8dzS39pyj-",
        "outputId": "82d194ae-f518-4004-c1bd-4598e3f436e7"
      },
      "execution_count": null,
      "outputs": [
        {
          "output_type": "execute_result",
          "data": {
            "text/plain": [
              "0"
            ]
          },
          "metadata": {},
          "execution_count": 62
        }
      ]
    },
    {
      "cell_type": "code",
      "source": [
        "abs(output - prediction).sum()"
      ],
      "metadata": {
        "colab": {
          "base_uri": "https://localhost:8080/"
        },
        "id": "Lyt1uerXqefq",
        "outputId": "4cb54275-2204-49a4-a57e-752938844d40"
      },
      "execution_count": null,
      "outputs": [
        {
          "output_type": "execute_result",
          "data": {
            "text/plain": [
              "0.39999999999999997"
            ]
          },
          "metadata": {},
          "execution_count": 34
        }
      ]
    },
    {
      "cell_type": "code",
      "source": [
        "abs(output - prediction).sum()"
      ],
      "metadata": {
        "colab": {
          "base_uri": "https://localhost:8080/"
        },
        "id": "qj8pfDodp7uU",
        "outputId": "7985be90-86f8-43ce-e5a7-40ee0c50646b"
      },
      "execution_count": null,
      "outputs": [
        {
          "output_type": "execute_result",
          "data": {
            "text/plain": [
              "0.19999999999999996"
            ]
          },
          "metadata": {},
          "execution_count": 37
        }
      ]
    },
    {
      "cell_type": "code",
      "source": [
        "abs(output - prediction).sum()"
      ],
      "metadata": {
        "colab": {
          "base_uri": "https://localhost:8080/"
        },
        "id": "XamgLPOkrT_c",
        "outputId": "0fc18c96-fe94-4346-9758-de5dc675af7d"
      },
      "execution_count": null,
      "outputs": [
        {
          "output_type": "execute_result",
          "data": {
            "text/plain": [
              "0.04000000000000002"
            ]
          },
          "metadata": {},
          "execution_count": 40
        }
      ]
    },
    {
      "cell_type": "markdown",
      "source": [
        "# 4 - Criando o modelo e adicionando as camadas"
      ],
      "metadata": {
        "id": "54CmcOG1gRn9"
      }
    },
    {
      "cell_type": "code",
      "source": [
        "from sklearn.svm import SVC"
      ],
      "metadata": {
        "id": "z5RCxcNLxKcf"
      },
      "execution_count": null,
      "outputs": []
    },
    {
      "cell_type": "code",
      "source": [
        "svm = SVC()"
      ],
      "metadata": {
        "id": "N7V6KCd6xN0-"
      },
      "execution_count": null,
      "outputs": []
    },
    {
      "cell_type": "code",
      "source": [
        "data_input_shape =X_train.iloc[0].shape"
      ],
      "metadata": {
        "id": "FzcV2STJyR3v"
      },
      "execution_count": null,
      "outputs": []
    },
    {
      "cell_type": "code",
      "source": [
        "reset_seeds()\n",
        "model = Sequential(name='neural_network')\n",
        "model.add(layer=InputLayer(input_shape=data_input_shape))\n",
        "model.add(layer=Dense(units=20,\n",
        "                      activation='relu'))\n",
        "model.add(layer=Dense(units=20,\n",
        "                      activation='relu'))\n",
        "model.add(layer=Dense(units=20,\n",
        "                      activation='relu'))\n",
        "model.add(layer=Dense(units=3,\n",
        "                      activation='softmax'))"
      ],
      "metadata": {
        "id": "4y2kKy_EkLGt"
      },
      "execution_count": null,
      "outputs": []
    },
    {
      "cell_type": "code",
      "source": [
        "model.get_weights()[0].shape"
      ],
      "metadata": {
        "colab": {
          "base_uri": "https://localhost:8080/"
        },
        "id": "wP0TEcYGxpiZ",
        "outputId": "0538e9ff-8bd4-4226-e6cc-58453edc7add"
      },
      "execution_count": null,
      "outputs": [
        {
          "output_type": "execute_result",
          "data": {
            "text/plain": [
              "(21, 20)"
            ]
          },
          "metadata": {},
          "execution_count": 68
        }
      ]
    },
    {
      "cell_type": "markdown",
      "source": [
        "# 5 - Compilando o modelo\n"
      ],
      "metadata": {
        "id": "E0JmDrz6iQDw"
      }
    },
    {
      "cell_type": "code",
      "source": [
        "model.compile(loss='categorical_crossentropy',\n",
        "              metrics=['accuracy'])"
      ],
      "metadata": {
        "id": "7IeY0b4i1gQj"
      },
      "execution_count": null,
      "outputs": []
    },
    {
      "cell_type": "markdown",
      "source": [
        "# 6 - Executando o treino do modelo"
      ],
      "metadata": {
        "id": "MoHbKkvCim-p"
      }
    },
    {
      "cell_type": "code",
      "source": [
        "%%time\n",
        "hist = model.fit(x=X_train,\n",
        "                 y=y_train,\n",
        "                 epochs=30)"
      ],
      "metadata": {
        "id": "w8IX2tHI2VX4",
        "colab": {
          "base_uri": "https://localhost:8080/"
        },
        "outputId": "f867d281-8d3d-484c-8c03-2095e1df78e5"
      },
      "execution_count": null,
      "outputs": [
        {
          "output_type": "stream",
          "name": "stdout",
          "text": [
            "Epoch 1/30\n",
            "47/47 [==============================] - 1s 3ms/step - loss: 0.7832 - accuracy: 0.7500\n",
            "Epoch 2/30\n",
            "47/47 [==============================] - 0s 2ms/step - loss: 0.5311 - accuracy: 0.8078\n",
            "Epoch 3/30\n",
            "47/47 [==============================] - 0s 2ms/step - loss: 0.4194 - accuracy: 0.8300\n",
            "Epoch 4/30\n",
            "47/47 [==============================] - 0s 3ms/step - loss: 0.3565 - accuracy: 0.8629\n",
            "Epoch 5/30\n",
            "47/47 [==============================] - 0s 3ms/step - loss: 0.3172 - accuracy: 0.8864\n",
            "Epoch 6/30\n",
            "47/47 [==============================] - 0s 3ms/step - loss: 0.2903 - accuracy: 0.8911\n",
            "Epoch 7/30\n",
            "47/47 [==============================] - 0s 2ms/step - loss: 0.2704 - accuracy: 0.8918\n",
            "Epoch 8/30\n",
            "47/47 [==============================] - 0s 2ms/step - loss: 0.2531 - accuracy: 0.9026\n",
            "Epoch 9/30\n",
            "47/47 [==============================] - 0s 2ms/step - loss: 0.2423 - accuracy: 0.9073\n",
            "Epoch 10/30\n",
            "47/47 [==============================] - 0s 2ms/step - loss: 0.2316 - accuracy: 0.9133\n",
            "Epoch 11/30\n",
            "47/47 [==============================] - 0s 2ms/step - loss: 0.2204 - accuracy: 0.9160\n",
            "Epoch 12/30\n",
            "47/47 [==============================] - 0s 2ms/step - loss: 0.2162 - accuracy: 0.9140\n",
            "Epoch 13/30\n",
            "47/47 [==============================] - 0s 2ms/step - loss: 0.2064 - accuracy: 0.9153\n",
            "Epoch 14/30\n",
            "47/47 [==============================] - 0s 2ms/step - loss: 0.2020 - accuracy: 0.9167\n",
            "Epoch 15/30\n",
            "47/47 [==============================] - 0s 2ms/step - loss: 0.1968 - accuracy: 0.9227\n",
            "Epoch 16/30\n",
            "47/47 [==============================] - 0s 3ms/step - loss: 0.1920 - accuracy: 0.9187\n",
            "Epoch 17/30\n",
            "47/47 [==============================] - 0s 2ms/step - loss: 0.1862 - accuracy: 0.9214\n",
            "Epoch 18/30\n",
            "47/47 [==============================] - 0s 2ms/step - loss: 0.1841 - accuracy: 0.9220\n",
            "Epoch 19/30\n",
            "47/47 [==============================] - 0s 2ms/step - loss: 0.1770 - accuracy: 0.9241\n",
            "Epoch 20/30\n",
            "47/47 [==============================] - 0s 3ms/step - loss: 0.1757 - accuracy: 0.9234\n",
            "Epoch 21/30\n",
            "47/47 [==============================] - 0s 3ms/step - loss: 0.1703 - accuracy: 0.9301\n",
            "Epoch 22/30\n",
            "47/47 [==============================] - 0s 3ms/step - loss: 0.1697 - accuracy: 0.9227\n",
            "Epoch 23/30\n",
            "47/47 [==============================] - 0s 2ms/step - loss: 0.1675 - accuracy: 0.9247\n",
            "Epoch 24/30\n",
            "47/47 [==============================] - 0s 3ms/step - loss: 0.1629 - accuracy: 0.9294\n",
            "Epoch 25/30\n",
            "47/47 [==============================] - 0s 3ms/step - loss: 0.1632 - accuracy: 0.9274\n",
            "Epoch 26/30\n",
            "47/47 [==============================] - 0s 2ms/step - loss: 0.1585 - accuracy: 0.9254\n",
            "Epoch 27/30\n",
            "47/47 [==============================] - 0s 2ms/step - loss: 0.1577 - accuracy: 0.9294\n",
            "Epoch 28/30\n",
            "47/47 [==============================] - 0s 2ms/step - loss: 0.1558 - accuracy: 0.9315\n",
            "Epoch 29/30\n",
            "47/47 [==============================] - 0s 3ms/step - loss: 0.1549 - accuracy: 0.9294\n",
            "Epoch 30/30\n",
            "47/47 [==============================] - 0s 2ms/step - loss: 0.1512 - accuracy: 0.9274\n",
            "CPU times: user 4.7 s, sys: 217 ms, total: 4.92 s\n",
            "Wall time: 5.96 s\n"
          ]
        }
      ]
    },
    {
      "cell_type": "code",
      "source": [
        "%%time\n",
        "for i in range(150):\n",
        "  print(np.argmax(model.predict(X_test.iloc[i].values.reshape(1,-1))))"
      ],
      "metadata": {
        "colab": {
          "base_uri": "https://localhost:8080/"
        },
        "id": "sNBv0_Nc7LM2",
        "outputId": "b161303f-4209-48ae-e3a9-7c78baa676ec"
      },
      "execution_count": null,
      "outputs": [
        {
          "output_type": "stream",
          "name": "stdout",
          "text": [
            "1/1 [==============================] - 0s 25ms/step\n",
            "0\n",
            "1/1 [==============================] - 0s 21ms/step\n",
            "0\n",
            "1/1 [==============================] - 0s 25ms/step\n",
            "0\n",
            "1/1 [==============================] - 0s 23ms/step\n",
            "0\n",
            "1/1 [==============================] - 0s 21ms/step\n",
            "0\n",
            "1/1 [==============================] - 0s 22ms/step\n",
            "2\n",
            "1/1 [==============================] - 0s 20ms/step\n",
            "0\n",
            "1/1 [==============================] - 0s 30ms/step\n",
            "2\n",
            "1/1 [==============================] - 0s 23ms/step\n",
            "0\n",
            "1/1 [==============================] - 0s 22ms/step\n",
            "1\n",
            "1/1 [==============================] - 0s 27ms/step\n",
            "0\n",
            "1/1 [==============================] - 0s 23ms/step\n",
            "2\n",
            "1/1 [==============================] - 0s 21ms/step\n",
            "0\n",
            "1/1 [==============================] - 0s 25ms/step\n",
            "0\n",
            "1/1 [==============================] - 0s 25ms/step\n",
            "0\n",
            "1/1 [==============================] - 0s 22ms/step\n",
            "1\n",
            "1/1 [==============================] - 0s 22ms/step\n",
            "0\n",
            "1/1 [==============================] - 0s 23ms/step\n",
            "0\n",
            "1/1 [==============================] - 0s 22ms/step\n",
            "1\n",
            "1/1 [==============================] - 0s 22ms/step\n",
            "0\n",
            "1/1 [==============================] - 0s 21ms/step\n",
            "0\n",
            "1/1 [==============================] - 0s 21ms/step\n",
            "0\n",
            "1/1 [==============================] - 0s 22ms/step\n",
            "2\n",
            "1/1 [==============================] - 0s 21ms/step\n",
            "0\n",
            "1/1 [==============================] - 0s 20ms/step\n",
            "0\n",
            "1/1 [==============================] - 0s 20ms/step\n",
            "2\n",
            "1/1 [==============================] - 0s 26ms/step\n",
            "2\n",
            "1/1 [==============================] - 0s 24ms/step\n",
            "1\n",
            "1/1 [==============================] - 0s 22ms/step\n",
            "0\n",
            "1/1 [==============================] - 0s 20ms/step\n",
            "0\n",
            "1/1 [==============================] - 0s 23ms/step\n",
            "0\n",
            "1/1 [==============================] - 0s 26ms/step\n",
            "0\n",
            "1/1 [==============================] - 0s 24ms/step\n",
            "0\n",
            "1/1 [==============================] - 0s 23ms/step\n",
            "1\n",
            "1/1 [==============================] - 0s 23ms/step\n",
            "0\n",
            "1/1 [==============================] - 0s 21ms/step\n",
            "0\n",
            "1/1 [==============================] - 0s 22ms/step\n",
            "0\n",
            "1/1 [==============================] - 0s 21ms/step\n",
            "2\n",
            "1/1 [==============================] - 0s 22ms/step\n",
            "1\n",
            "1/1 [==============================] - 0s 26ms/step\n",
            "1\n",
            "1/1 [==============================] - 0s 26ms/step\n",
            "0\n",
            "1/1 [==============================] - 0s 22ms/step\n",
            "1\n",
            "1/1 [==============================] - 0s 21ms/step\n",
            "0\n",
            "1/1 [==============================] - 0s 23ms/step\n",
            "0\n",
            "1/1 [==============================] - 0s 22ms/step\n",
            "0\n",
            "1/1 [==============================] - 0s 28ms/step\n",
            "0\n",
            "1/1 [==============================] - 0s 21ms/step\n",
            "0\n",
            "1/1 [==============================] - 0s 22ms/step\n",
            "1\n",
            "1/1 [==============================] - 0s 21ms/step\n",
            "0\n",
            "1/1 [==============================] - 0s 21ms/step\n",
            "0\n",
            "1/1 [==============================] - 0s 23ms/step\n",
            "0\n",
            "1/1 [==============================] - 0s 21ms/step\n",
            "0\n",
            "1/1 [==============================] - 0s 20ms/step\n",
            "0\n",
            "1/1 [==============================] - 0s 22ms/step\n",
            "1\n",
            "1/1 [==============================] - 0s 25ms/step\n",
            "2\n",
            "1/1 [==============================] - 0s 24ms/step\n",
            "0\n",
            "1/1 [==============================] - 0s 22ms/step\n",
            "0\n",
            "1/1 [==============================] - 0s 22ms/step\n",
            "0\n",
            "1/1 [==============================] - 0s 20ms/step\n",
            "1\n",
            "1/1 [==============================] - 0s 28ms/step\n",
            "0\n",
            "1/1 [==============================] - 0s 22ms/step\n",
            "1\n",
            "1/1 [==============================] - 0s 21ms/step\n",
            "0\n",
            "1/1 [==============================] - 0s 25ms/step\n",
            "0\n",
            "1/1 [==============================] - 0s 22ms/step\n",
            "0\n",
            "1/1 [==============================] - 0s 22ms/step\n",
            "0\n",
            "1/1 [==============================] - 0s 21ms/step\n",
            "0\n",
            "1/1 [==============================] - 0s 29ms/step\n",
            "1\n",
            "1/1 [==============================] - 0s 23ms/step\n",
            "0\n",
            "1/1 [==============================] - 0s 24ms/step\n",
            "0\n",
            "1/1 [==============================] - 0s 24ms/step\n",
            "0\n",
            "1/1 [==============================] - 0s 20ms/step\n",
            "0\n",
            "1/1 [==============================] - 0s 20ms/step\n",
            "0\n",
            "1/1 [==============================] - 0s 22ms/step\n",
            "0\n",
            "1/1 [==============================] - 0s 23ms/step\n",
            "0\n",
            "1/1 [==============================] - 0s 23ms/step\n",
            "0\n",
            "1/1 [==============================] - 0s 22ms/step\n",
            "1\n",
            "1/1 [==============================] - 0s 23ms/step\n",
            "0\n",
            "1/1 [==============================] - 0s 22ms/step\n",
            "0\n",
            "1/1 [==============================] - 0s 30ms/step\n",
            "0\n",
            "1/1 [==============================] - 0s 37ms/step\n",
            "0\n",
            "1/1 [==============================] - 0s 29ms/step\n",
            "0\n",
            "1/1 [==============================] - 0s 30ms/step\n",
            "0\n",
            "1/1 [==============================] - 0s 35ms/step\n",
            "0\n",
            "1/1 [==============================] - 0s 32ms/step\n",
            "0\n",
            "1/1 [==============================] - 0s 35ms/step\n",
            "0\n",
            "1/1 [==============================] - 0s 32ms/step\n",
            "0\n",
            "1/1 [==============================] - 0s 53ms/step\n",
            "0\n",
            "1/1 [==============================] - 0s 41ms/step\n",
            "0\n",
            "1/1 [==============================] - 0s 31ms/step\n",
            "0\n",
            "1/1 [==============================] - 0s 32ms/step\n",
            "1\n",
            "1/1 [==============================] - 0s 30ms/step\n",
            "0\n",
            "1/1 [==============================] - 0s 34ms/step\n",
            "0\n",
            "1/1 [==============================] - 0s 37ms/step\n",
            "0\n",
            "1/1 [==============================] - 0s 33ms/step\n",
            "1\n",
            "1/1 [==============================] - 0s 37ms/step\n",
            "2\n",
            "1/1 [==============================] - 0s 32ms/step\n",
            "0\n",
            "1/1 [==============================] - 0s 36ms/step\n",
            "0\n",
            "1/1 [==============================] - 0s 37ms/step\n",
            "1\n",
            "1/1 [==============================] - 0s 32ms/step\n",
            "1\n",
            "1/1 [==============================] - 0s 26ms/step\n",
            "0\n",
            "1/1 [==============================] - 0s 26ms/step\n",
            "1\n",
            "1/1 [==============================] - 0s 22ms/step\n",
            "0\n",
            "1/1 [==============================] - 0s 23ms/step\n",
            "0\n",
            "1/1 [==============================] - 0s 22ms/step\n",
            "0\n",
            "1/1 [==============================] - 0s 34ms/step\n",
            "0\n",
            "1/1 [==============================] - 0s 23ms/step\n",
            "1\n",
            "1/1 [==============================] - 0s 22ms/step\n",
            "0\n",
            "1/1 [==============================] - 0s 22ms/step\n",
            "0\n",
            "1/1 [==============================] - 0s 21ms/step\n",
            "2\n",
            "1/1 [==============================] - 0s 23ms/step\n",
            "0\n",
            "1/1 [==============================] - 0s 21ms/step\n",
            "1\n",
            "1/1 [==============================] - 0s 22ms/step\n",
            "1\n",
            "1/1 [==============================] - 0s 23ms/step\n",
            "0\n",
            "1/1 [==============================] - 0s 25ms/step\n",
            "1\n",
            "1/1 [==============================] - 0s 22ms/step\n",
            "0\n",
            "1/1 [==============================] - 0s 25ms/step\n",
            "2\n",
            "1/1 [==============================] - 0s 21ms/step\n",
            "0\n",
            "1/1 [==============================] - 0s 21ms/step\n",
            "0\n",
            "1/1 [==============================] - 0s 21ms/step\n",
            "1\n",
            "1/1 [==============================] - 0s 22ms/step\n",
            "0\n",
            "1/1 [==============================] - 0s 26ms/step\n",
            "0\n",
            "1/1 [==============================] - 0s 24ms/step\n",
            "1\n",
            "1/1 [==============================] - 0s 22ms/step\n",
            "0\n",
            "1/1 [==============================] - 0s 23ms/step\n",
            "0\n",
            "1/1 [==============================] - 0s 22ms/step\n",
            "0\n",
            "1/1 [==============================] - 0s 22ms/step\n",
            "2\n",
            "1/1 [==============================] - 0s 24ms/step\n",
            "2\n",
            "1/1 [==============================] - 0s 22ms/step\n",
            "0\n",
            "1/1 [==============================] - 0s 26ms/step\n",
            "0\n",
            "1/1 [==============================] - 0s 23ms/step\n",
            "0\n",
            "1/1 [==============================] - 0s 24ms/step\n",
            "2\n",
            "1/1 [==============================] - 0s 24ms/step\n",
            "0\n",
            "1/1 [==============================] - 0s 23ms/step\n",
            "0\n",
            "1/1 [==============================] - 0s 21ms/step\n",
            "0\n",
            "1/1 [==============================] - 0s 22ms/step\n",
            "1\n",
            "1/1 [==============================] - 0s 22ms/step\n",
            "0\n",
            "1/1 [==============================] - 0s 22ms/step\n",
            "0\n",
            "1/1 [==============================] - 0s 24ms/step\n",
            "0\n",
            "1/1 [==============================] - 0s 24ms/step\n",
            "1\n",
            "1/1 [==============================] - 0s 23ms/step\n",
            "1\n",
            "1/1 [==============================] - 0s 22ms/step\n",
            "1\n",
            "1/1 [==============================] - 0s 20ms/step\n",
            "0\n",
            "1/1 [==============================] - 0s 22ms/step\n",
            "0\n",
            "1/1 [==============================] - 0s 22ms/step\n",
            "0\n",
            "1/1 [==============================] - 0s 21ms/step\n",
            "2\n",
            "1/1 [==============================] - 0s 21ms/step\n",
            "0\n",
            "1/1 [==============================] - 0s 21ms/step\n",
            "0\n",
            "1/1 [==============================] - 0s 23ms/step\n",
            "0\n",
            "1/1 [==============================] - 0s 22ms/step\n",
            "0\n",
            "1/1 [==============================] - 0s 21ms/step\n",
            "0\n",
            "CPU times: user 13.2 s, sys: 328 ms, total: 13.6 s\n",
            "Wall time: 14 s\n"
          ]
        }
      ]
    },
    {
      "cell_type": "markdown",
      "source": [
        "# 6.1 Avaliando o modelo"
      ],
      "metadata": {
        "id": "0pqwOl0Oc7nE"
      }
    },
    {
      "cell_type": "markdown",
      "source": [
        "# 6.2 Plotando a acurácia do modelo"
      ],
      "metadata": {
        "id": "dEfh_F2NdMS4"
      }
    },
    {
      "cell_type": "code",
      "source": [
        "..."
      ],
      "metadata": {
        "id": "x90V9p6lMDWI"
      },
      "execution_count": null,
      "outputs": []
    },
    {
      "cell_type": "markdown",
      "source": [
        "# DagsHub\n",
        "<img src=\"https://api.flatworld.co/wp-content/uploads/2020/10/DAGsHub-Logo.png\" height=100>\n",
        "\n",
        "\n",
        "DagsHub é uma plataforma de colaboração e compartilhamento de código voltada para a comunidade de Ciência de Dados e Machine Learning. É uma plataforma que permite que os desenvolvedores, cientistas de dados e pesquisadores compartilhem seus projetos, coletem feedback de outros usuários, colaborem em projetos em equipe e gerenciem seu fluxo de trabalho de desenvolvimento de forma mais eficiente.\n",
        "\n",
        "A plataforma é baseada em Git e Git-LFS, o que significa que o controle de versão e o gerenciamento de arquivos são suportados nativamente. Além disso, o DagsHub oferece uma série de recursos adicionais que visam melhorar a experiência de desenvolvimento de projetos de Ciência de Dados e Machine Learning, como integração com ferramentas de treinamento de modelos, ambientes de execução, Jupyter notebooks e fluxos de trabalho de DAGs (gráficos acíclicos direcionados).\n",
        "\n",
        "\n",
        "Com o DagsHub, os usuários podem compartilhar seus projetos publicamente ou limitar o acesso a equipes específicas, criando uma comunidade de colaboração de dados e Machine Learning mais ampla. A plataforma também incentiva a colaboração em projetos de código aberto, com recursos para facilitar a contribuição e a revisão de código pelos usuários.\n",
        "\n",
        "Em resumo, o DagsHub é uma plataforma completa para compartilhamento, colaboração e gerenciamento de projetos de Ciência de Dados e Machine Learning, que tem como objetivo tornar o trabalho em equipe mais fácil e eficiente para os usuários.\n",
        "\n",
        "### [Link](https://dagshub.com/) para acesso."
      ],
      "metadata": {
        "id": "YKZtrzVuNaY3"
      }
    },
    {
      "cell_type": "code",
      "source": [
        "%%capture\n",
        "!pip install mlflow dagshub"
      ],
      "metadata": {
        "id": "t-QNqjomNayr"
      },
      "execution_count": null,
      "outputs": []
    },
    {
      "cell_type": "code",
      "source": [
        "import mlflow\n",
        "import dagshub\n",
        "\n",
        "mlflow.tensorflow.autolog()\n",
        "# dagshub.init(\"seu_repositorio\",\"seu_username\")"
      ],
      "metadata": {
        "id": "ShSp4GXzNdxy"
      },
      "execution_count": null,
      "outputs": []
    },
    {
      "cell_type": "code",
      "source": [],
      "metadata": {
        "id": "vjIFYH54VdKa"
      },
      "execution_count": null,
      "outputs": []
    },
    {
      "cell_type": "markdown",
      "source": [
        "# **Vendo a arquitetura do modelo**"
      ],
      "metadata": {
        "id": "PtUwuRnffvch"
      }
    },
    {
      "cell_type": "code",
      "source": [
        "from keras.utils import plot_model"
      ],
      "metadata": {
        "id": "QYjObnbZfuIy"
      },
      "execution_count": null,
      "outputs": []
    },
    {
      "cell_type": "code",
      "source": [
        "plot_model(model=model,\n",
        "           show_shapes=True,\n",
        "           show_dtype=True,\n",
        "           show_layer_names=True,\n",
        "           rankdir='LR', #'LR' or 'TB'\n",
        "           expand_nested=False,\n",
        "           dpi=96,\n",
        "           layer_range=None,\n",
        "           show_layer_activations=True,\n",
        "           show_trainable=True)"
      ],
      "metadata": {
        "id": "n7s7aWtwALtW"
      },
      "execution_count": null,
      "outputs": []
    },
    {
      "cell_type": "markdown",
      "source": [
        "# **CallBacks**\n",
        "\n",
        "Callbacks no Keras são objetos que podem ser passados como parâmetros ao treinar um modelo de rede neural. Eles permitem que o modelo execute ações durante o treinamento em momentos específicos, como no início ou fim de uma época de treinamento, ou após cada lote de amostras ter sido processado."
      ],
      "metadata": {
        "id": "OjVLFnjt_yxL"
      }
    },
    {
      "cell_type": "code",
      "source": [
        "def get_compiled_model():\n",
        "  reset_seeds()\n",
        "  ...\n",
        "  return model"
      ],
      "metadata": {
        "id": "FiD_dhXvAjEK"
      },
      "execution_count": null,
      "outputs": []
    },
    {
      "cell_type": "markdown",
      "source": [
        "## **ModelCheckpoint**"
      ],
      "metadata": {
        "id": "5jeAiclmAJai"
      }
    },
    {
      "cell_type": "code",
      "source": [
        "from keras.callbacks import ModelCheckpoint\n",
        "\n",
        "filepath = \"weights.best.hdf5\"\n",
        "checkpoint = ...\n",
        "\n",
        "model = get_compiled_model()\n",
        "\n",
        "with mlflow.start_run(run_name='callbacks_1'):\n",
        "  ..."
      ],
      "metadata": {
        "id": "MTUdRYqP_yZk"
      },
      "execution_count": null,
      "outputs": []
    },
    {
      "cell_type": "markdown",
      "source": [
        "## **EarlyStopping**"
      ],
      "metadata": {
        "id": "rbPNYKojBFmZ"
      }
    },
    {
      "cell_type": "code",
      "source": [
        "from keras.callbacks import EarlyStopping\n",
        "\n",
        "early_stopping = ...\n",
        "\n",
        "model = get_compiled_model()\n",
        "\n",
        "with mlflow.start_run(run_name='callbacks_2'):\n",
        " ..."
      ],
      "metadata": {
        "id": "_gkDrEZABFHE"
      },
      "execution_count": null,
      "outputs": []
    },
    {
      "cell_type": "code",
      "source": [],
      "metadata": {
        "id": "SfRcIV5XSLQV"
      },
      "execution_count": null,
      "outputs": []
    },
    {
      "cell_type": "markdown",
      "source": [
        "# Corrigindo Overfitting\n",
        "\n",
        "Overfitting é um conceito crucial em aprendizado de máquina e estatística que descreve a situação em que um modelo se ajusta tão bem aos dados de treinamento que perde sua capacidade de generalização para novos dados. Em outras palavras, o modelo \"decora\" os dados de treinamento em vez de aprender padrões subjacentes que se aplicam a dados não vistos. Isso resulta em um desempenho deficiente quando o modelo é testado em dados que não foram usados durante o treinamento.\n",
        "\n",
        "Existem várias razões pelas quais o overfitting pode ocorrer:\n",
        "\n",
        "- Modelo muito complexo: Um modelo excessivamente complexo pode capturar até mesmo o ruído nos dados de treinamento, o que não é representativo do verdadeiro relacionamento entre as variáveis.\n",
        "\n",
        "- Dados insuficientes: Quando os dados de treinamento são escassos em relação à complexidade do modelo, o modelo pode aprender padrões específicos dos dados de treinamento que não se aplicam a novos dados.\n",
        "\n",
        "- Falta de regularização: Técnicas de regularização, como penalização L1 ou L2, são frequentemente usadas para evitar overfitting. A ausência de tais técnicas pode permitir que o modelo se ajuste demais aos dados de treinamento.\n",
        "\n",
        "Corrigir o overfitting é crucial para garantir que nosso modelo seja útil na prática"
      ],
      "metadata": {
        "id": "TqB26t0ku5IV"
      }
    },
    {
      "cell_type": "code",
      "source": [
        "reset_seeds()\n",
        "model = Sequential()\n",
        "model.add(Dense(100, input_shape=(21,), activation='relu'))\n",
        "model.add(Dense(100, activation='relu'))\n",
        "model.add(Dense(100, activation='relu'))\n",
        "model.add(Dense(300, activation='relu'))\n",
        "model.add(Dense(200, activation='relu'))\n",
        "model.add(Dense(3, activation='softmax'))\n",
        "\n",
        "model.compile(loss='categorical_crossentropy',\n",
        "              optimizer='Adam',\n",
        "              metrics=['accuracy'])\n",
        "print(model.summary())\n",
        "with mlflow.start_run(run_name='model_overfitting'):\n",
        "  hist = model.fit(X_train,\n",
        "                  y_train,\n",
        "                  epochs=20,\n",
        "                  validation_split=0.2,\n",
        "                  verbose=3)\n",
        "\n",
        "print(model.evaluate(X_test, y_test))"
      ],
      "metadata": {
        "id": "phiYUngQqHr9"
      },
      "execution_count": null,
      "outputs": []
    },
    {
      "cell_type": "code",
      "source": [
        "plot_convergence(hist, 'loss')"
      ],
      "metadata": {
        "id": "YbzZN-H6Y33a"
      },
      "execution_count": null,
      "outputs": []
    },
    {
      "cell_type": "markdown",
      "source": [
        "# Regularização\n",
        "\n",
        "a regularização é uma técnica usada para evitar o overfitting, adicionando uma penalidade aos pesos do modelo durante o processo de otimização. Existem diferentes tipos de regularização, mas duas das mais comuns são a regularização L1 e L2.\n",
        "\n",
        "- Regularização L1 (Lasso): Na regularização L1, uma penalidade é adicionada à função de perda durante o treinamento, proporcional à magnitude absoluta dos pesos do modelo. Isso leva à \"esparsidade\" nos pesos, ou seja, alguns pesos podem se tornar exatamente zero, reduzindo a complexidade do modelo. No Keras, a regularização L1 pode ser aplicada usando a classe keras.regularizers.l1().\n",
        "\n",
        "- Regularização L2 (Ridge): Na regularização L2, uma penalidade é adicionada à função de perda durante o treinamento, proporcional à magnitude ao quadrado dos pesos do modelo. Isso desencoraja pesos grandes, tornando o modelo mais suave e menos propenso ao overfitting. No Keras, a regularização L2 pode ser aplicada usando a classe keras.regularizers.l2().\n",
        "\n",
        "Ambas as formas de regularização podem ser adicionadas como argumentos ao definir camadas em um modelo Keras."
      ],
      "metadata": {
        "id": "1wz_isDgzlNl"
      }
    },
    {
      "cell_type": "markdown",
      "source": [
        "### **L1 - Lasso**"
      ],
      "metadata": {
        "id": "80yBezvLb6mC"
      }
    },
    {
      "cell_type": "code",
      "source": [],
      "metadata": {
        "id": "ESqXbdeDzxWL"
      },
      "execution_count": null,
      "outputs": []
    },
    {
      "cell_type": "markdown",
      "source": [
        "### **L2 - Ridge**"
      ],
      "metadata": {
        "id": "n_-G3C1Pb_y0"
      }
    },
    {
      "cell_type": "code",
      "source": [],
      "metadata": {
        "id": "Tns4U-ZTcANi"
      },
      "execution_count": null,
      "outputs": []
    },
    {
      "cell_type": "markdown",
      "source": [
        "# Dropout\n",
        "\n",
        "O dropout é uma técnica de regularização popular para combater o overfitting em modelos de redes neurais. Durante o treinamento, o dropout desativa aleatoriamente um determinado número de unidades (neurônios) em uma camada, definindo suas saídas como zero. Isso significa que, temporariamente, essas unidades não contribuem para o processo de treinamento e não são atualizadas durante uma etapa de otimização. O dropout é aplicado durante o treinamento, mas não durante a inferência (ou seja, quando o modelo está fazendo previsões).\n",
        "\n",
        "A ideia principal por trás do dropout é forçar a rede neural a aprender representações mais robustas e distribuídas dos dados, em vez de depender excessivamente de neurônios específicos ou correlações entre eles. Isso ajuda a reduzir a coadaptação entre os neurônios e, consequentemente, o overfitting.\n",
        "\n",
        "No Keras, o dropout pode ser facilmente aplicado às camadas usando a classe Dropout no módulo keras.layers."
      ],
      "metadata": {
        "id": "O8H2YOj9zpcp"
      }
    },
    {
      "cell_type": "code",
      "source": [],
      "metadata": {
        "id": "W7T75FnCzxWM"
      },
      "execution_count": null,
      "outputs": []
    },
    {
      "cell_type": "markdown",
      "source": [
        "# **Modelo Funcional**\n",
        "\n",
        "O modelo funcional no Keras é uma API flexível e poderosa que permite construir modelos de redes neurais com topologias mais complexas do que a API sequencial oferece. Enquanto o modelo sequencial é adequado para uma pilha simples de camadas, o modelo funcional permite a criação de modelos com grafos de computação mais elaborados, incluindo múltiplas entradas, saídas e caminhos de conexão.\n",
        "\n",
        "A principal diferença entre o modelo funcional e o modelo sequencial é que, no modelo funcional, você define explicitamente as conexões entre as camadas. Isso permite que você crie arquiteturas de rede mais complexas, como modelos com múltiplas entradas ou saídas, compartilhamento de camadas e bifurcações.\n",
        "\n",
        "O modelo funcional no Keras oferece uma maneira flexível e intuitiva de construir arquiteturas de redes neurais mais complexas, permitindo criar modelos adaptados a uma ampla variedade de problemas de aprendizado profundo."
      ],
      "metadata": {
        "id": "zs8SI4yfFLvN"
      }
    },
    {
      "cell_type": "code",
      "source": [
        "%%time\n",
        "reset_seeds()\n",
        "inputs = ...\n",
        "fc1 = ...\n",
        "fc2 = ...\n",
        "outputs = ...\n",
        "\n",
        "model = ...\n",
        "\n",
        "model.summary()\n",
        "\n",
        "model.compile(loss='categorical_crossentropy',\n",
        "              metrics=['accuracy'])\n",
        "\n",
        "hist = model.fit(X_train,\n",
        "                 y_train,\n",
        "                 epochs=10,\n",
        "                 validation_split=0.2,\n",
        "                 verbose=3)"
      ],
      "metadata": {
        "id": "CxIiua0qFLvO"
      },
      "execution_count": null,
      "outputs": []
    },
    {
      "cell_type": "code",
      "source": [],
      "metadata": {
        "id": "OGnE5QuQFLvO"
      },
      "execution_count": null,
      "outputs": []
    },
    {
      "cell_type": "markdown",
      "source": [
        "# **Uso de objetos**"
      ],
      "metadata": {
        "id": "Lf_amzSQFLvP"
      }
    },
    {
      "cell_type": "code",
      "source": [
        "reset_seeds()\n",
        "model = Sequential()\n",
        "model.add(InputLayer(input_shape=(21,)))\n",
        "model.add(Dense(10, activation='relu' ))\n",
        "model.add(Dense(10, activation='relu' ))\n",
        "model.add(Dense(3, activation='softmax'))\n",
        "\n",
        "lr_schedule = ...\n",
        "\n",
        "opt = ...\n",
        "\n",
        "model.compile(loss='categorical_crossentropy',\n",
        "              optimizer=opt,\n",
        "              metrics=['accuracy'])\n",
        "\n",
        "hist = model.fit(X_train,\n",
        "                 y_train,\n",
        "                 epochs=10,\n",
        "                 validation_split=0.2,\n",
        "                 verbose=3)"
      ],
      "metadata": {
        "id": "E0BRf1sxFLvP"
      },
      "execution_count": null,
      "outputs": []
    },
    {
      "cell_type": "markdown",
      "source": [
        "# **AutoML - AutoKeras**\n",
        "\n",
        "AutoKeras é uma biblioteca de aprendizado de máquina automatizada (AutoML) de código aberto para Python, que permite a automatização de tarefas de seleção de modelo, pré-processamento de dados, ajuste de hiperparâmetros e treinamento de modelos de aprendizado de máquina de forma eficiente.\n",
        "\n",
        "O AutoKeras utiliza técnicas de busca automática de hiperparâmetros, como a busca aleatória, busca em grade e otimização bayesiana, para encontrar a melhor configuração de modelo e hiperparâmetros para um determinado problema de aprendizado de máquina. Ele suporta uma variedade de tarefas de aprendizado de máquina, incluindo classificação, regressão, segmentação de imagens e processamento de linguagem natural.\n",
        "\n",
        "Além disso, o AutoKeras possui uma interface fácil de usar que permite aos usuários treinar modelos sem a necessidade de conhecimentos avançados em aprendizado de máquina ou programação. Isso torna o AutoKeras uma ferramenta útil para usuários iniciantes e avançados que desejam economizar tempo e recursos ao treinar modelos de aprendizado de máquina de alta qualidade."
      ],
      "metadata": {
        "id": "TWO_XzoYFLvP"
      }
    },
    {
      "cell_type": "code",
      "source": [
        "from autokeras import StructuredDataClassifier"
      ],
      "metadata": {
        "id": "nwZbMxDJFLvP"
      },
      "execution_count": null,
      "outputs": []
    },
    {
      "cell_type": "code",
      "source": [
        "..."
      ],
      "metadata": {
        "id": "dg7PjLrrFLvP"
      },
      "execution_count": null,
      "outputs": []
    },
    {
      "cell_type": "code",
      "source": [
        "..."
      ],
      "metadata": {
        "id": "RHUCX_nZFLvQ"
      },
      "execution_count": null,
      "outputs": []
    }
  ]
}