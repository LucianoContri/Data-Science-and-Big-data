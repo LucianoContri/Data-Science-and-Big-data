{
 "cells": [
  {
   "cell_type": "code",
   "execution_count": 67,
   "source": [
    "from selenium import webdriver\n",
    "import pandas as pd\n",
    "from selenium.webdriver.chrome.service import Service\n",
    "from bs4 import BeautifulSoup\n",
    "import time\n",
    "urls = ['https://investidor10.com.br/acoes/petr4/']\n",
    "\n",
    "# Configurando o WebDriver e abrindo o Chrome\n",
    "\n",
    "\n",
    "service = Service()\n",
    "options = webdriver.ChromeOptions()\n",
    "options.add_argument(\"--headless\")\n",
    "options.add_argument(\"--disable-gpu\")\n",
    "options.add_argument(\"--window-size=1920x1080\")\n",
    "options.add_argument(\"--disable-notifications\")\n",
    "options.add_argument('--no-sandbox')\n",
    "options.add_argument('--verbose')\n",
    "options.add_argument(\"--user-agent=Mozilla/5.0 (Windows NT 10.0; Win64; x64) AppleWebKit/537.36 (KHTML, like Gecko) Chrome/91.0.4472.124 Safari/537.36\")\n",
    "\n",
    "# Inicie o navegador\n",
    "browser = webdriver.Chrome(service=service, options=options)\n",
    "\n",
    "# Vá para a URL\n",
    "browser.get(url)\n",
    "\n",
    "# Espere um pouco para garantir que o conteúdo da tabela seja carregado\n",
    "time.sleep(10)\n",
    "\n",
    "# Pegue o conteúdo da página\n",
    "page_content = browser.page_source\n",
    "\n",
    "# Use BeautifulSoup para analisar\n",
    "soup = BeautifulSoup(page_content, 'html.parser')\n",
    "\n",
    "# Encontrando a tabela com o ID 'table-indicators-history'\n",
    "table = soup.find(id='table-indicators-history')\n",
    "\n",
    "# Fechar o navegador\n",
    "browser.quit()\n",
    "# Se a tabela foi encontrada, extraia os anos\n",
    "\n"
   ],
   "metadata": {
    "collapsed": false,
    "ExecuteTime": {
     "end_time": "2023-10-05T20:08:59.962001100Z",
     "start_time": "2023-10-05T20:08:37.978669600Z"
    }
   },
   "id": "cac8da2158fa0259",
   "outputs": []
  },
  {
   "cell_type": "code",
   "execution_count": 69,
   "source": [
    "if table:\n",
    "    years = [th.get_text().strip() for th in table.find_all(\"th\", class_=\"year\")]\n",
    "    indicadores = [td.get_text().strip() for td in table.find_all(\"td\", class_=\"indicator\")]\n",
    "    data = {\"indicador\": indicadores}\n",
    "    all_values = []\n",
    "\n",
    "    for row in table.find_all(\"tr\", class_=[\"visible-even\", \"visible-odd\"]):\n",
    "        values = [value_td.get_text().strip() for value_td in row.find_all(\"td\", class_=\"value\")]\n",
    "        if len(values) == len(years):\n",
    "            all_values.append(values)\n",
    "    \n",
    "    # Criando o DataFrame\n",
    "    df = pd.DataFrame(all_values, columns=years, index=indicadores)\n",
    "    print(df)\n",
    "            \n",
    "\n",
    "else:\n",
    "    print(\"A tabela com o ID 'table-indicators-history' não foi encontrada.\")"
   ],
   "metadata": {
    "collapsed": false,
    "ExecuteTime": {
     "end_time": "2023-10-05T20:13:13.695026600Z",
     "start_time": "2023-10-05T20:13:13.679796900Z"
    }
   },
   "id": "c6298b8eeb155cb7",
   "outputs": []
  },
  {
   "cell_type": "code",
   "execution_count": 71,
   "source": [],
   "metadata": {
    "collapsed": false,
    "ExecuteTime": {
     "end_time": "2023-10-05T20:54:44.412418900Z",
     "start_time": "2023-10-05T20:54:44.385007Z"
    }
   },
   "id": "578d2a5328c80614",
   "outputs": []
  },
  {
   "cell_type": "code",
   "execution_count": null,
   "source": [],
   "metadata": {
    "collapsed": false
   },
   "id": "62c0fdd4d5bd4933",
   "outputs": []
  }
 ],
 "metadata": {
  "kernelspec": {
   "display_name": "Python 3",
   "language": "python",
   "name": "python3"
  },
  "language_info": {
   "codemirror_mode": {
    "name": "ipython",
    "version": 2
   },
   "file_extension": ".py",
   "mimetype": "text/x-python",
   "name": "python",
   "nbconvert_exporter": "python",
   "pygments_lexer": "ipython2",
   "version": "2.7.6"
  }
 },
 "nbformat": 4,
 "nbformat_minor": 5
}
