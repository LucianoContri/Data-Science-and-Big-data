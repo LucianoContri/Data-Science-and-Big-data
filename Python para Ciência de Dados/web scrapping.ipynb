{
 "cells": [
  {
   "cell_type": "code",
   "execution_count": 67,
   "outputs": [],
   "source": [
    "from selenium import webdriver\n",
    "import pandas as pd\n",
    "from selenium.webdriver.chrome.service import Service\n",
    "from bs4 import BeautifulSoup\n",
    "import time\n",
    "urls = ['https://investidor10.com.br/acoes/petr4/']\n",
    "\n",
    "# Configurando o WebDriver e abrindo o Chrome\n",
    "\n",
    "\n",
    "service = Service()\n",
    "options = webdriver.ChromeOptions()\n",
    "options.add_argument(\"--headless\")\n",
    "options.add_argument(\"--disable-gpu\")\n",
    "options.add_argument(\"--window-size=1920x1080\")\n",
    "options.add_argument(\"--disable-notifications\")\n",
    "options.add_argument('--no-sandbox')\n",
    "options.add_argument('--verbose')\n",
    "options.add_argument(\"--user-agent=Mozilla/5.0 (Windows NT 10.0; Win64; x64) AppleWebKit/537.36 (KHTML, like Gecko) Chrome/91.0.4472.124 Safari/537.36\")\n",
    "\n",
    "# Inicie o navegador\n",
    "browser = webdriver.Chrome(service=service, options=options)\n",
    "\n",
    "# Vá para a URL\n",
    "browser.get(url)\n",
    "\n",
    "# Espere um pouco para garantir que o conteúdo da tabela seja carregado\n",
    "time.sleep(10)\n",
    "\n",
    "# Pegue o conteúdo da página\n",
    "page_content = browser.page_source\n",
    "\n",
    "# Use BeautifulSoup para analisar\n",
    "soup = BeautifulSoup(page_content, 'html.parser')\n",
    "\n",
    "# Encontrando a tabela com o ID 'table-indicators-history'\n",
    "table = soup.find(id='table-indicators-history')\n",
    "\n",
    "# Fechar o navegador\n",
    "browser.quit()\n",
    "# Se a tabela foi encontrada, extraia os anos\n",
    "\n"
   ],
   "metadata": {
    "collapsed": false,
    "ExecuteTime": {
     "end_time": "2023-10-05T20:08:59.962001100Z",
     "start_time": "2023-10-05T20:08:37.978669600Z"
    }
   },
   "id": "cac8da2158fa0259"
  },
  {
   "cell_type": "code",
   "execution_count": 69,
   "outputs": [
    {
     "name": "stdout",
     "output_type": "stream",
     "text": [
      "                            Atual     2022    2021    2020      2019    2018\n",
      "P/L                          2,71     1,70    3,48   52,01      9,81   11,48\n",
      "P/RECEITA (PSR)              0,73     0,50    0,82    1,36      1,30    0,85\n",
      "P/VP                         1,14     0,88    0,96    1,59      1,33    1,07\n",
      "DIVIDEND YIELD (DY)        28,18%   67,99%  19,85%   0,00%     2,12%   0,88%\n",
      "PAYOUT                     63,64%  104,54%  69,13%  95,21%     0,27%  10,12%\n",
      "MARGEM LÍQUIDA             26,89%   29,37%  23,56%   2,61%    13,28%   7,37%\n",
      "MARGEM BRUTA               50,63%   52,10%  48,52%  45,56%    40,40%  35,60%\n",
      "MARGEM EBIT                40,34%   45,89%  46,58%  18,24%    27,19%  17,86%\n",
      "MARGEM EBITDA              51,66%   56,52%  60,50%  39,67%    47,95%  31,13%\n",
      "EV/EBITDA                    2,21     1,57    2,39    6,98      2,58    5,37\n",
      "EV/EBIT                      2,83     1,94    3,10   15,19      4,55    9,36\n",
      "P/EBITDA                     1,41     0,88    1,36    3,43      2,72    2,72\n",
      "P/EBIT                       1,81     1,09    1,76    7,45      4,79    4,74\n",
      "P/ATIVO                      0,43     0,33    0,38    0,38      0,43    0,34\n",
      "P/CAP.GIRO                 -28,68  -470,68   11,13   12,87    -97,30    6,36\n",
      "P/ATIVO CIRC LIQ            -0,50    -0,39   -0,46   -0,46     -0,48   -0,41\n",
      "VPA                         28,42    27,93   29,69   17,77     22,66   21,25\n",
      "LPA                         11,99    14,44    8,18    0,54      3,08    1,98\n",
      "GIRO ATIVOS                  0,59     0,66    0,47    0,28      0,33    0,41\n",
      "ROE                        42,19%   51,68%  27,54%   3,07%    13,58%   9,30%\n",
      "ROIC                       25,68%   43,17%  27,70%   4,70%    27,35%   9,93%\n",
      "ROA                        15,85%   19,35%  11,02%   0,64%     4,42%   3,10%\n",
      "DÍVIDA LÍQUIDA / EBITDA      0,73     0,62    0,97    3,52     -0,23    2,47\n",
      "DÍVIDA LÍQUIDA / EBIT        0,93     0,76    1,26    7,66     -0,40    4,30\n",
      "DÍVIDA BRUTA / PATRIMÔNIO    0,75     0,77    0,85    2,00  0,001188    1,18\n",
      "PATRIMÔNIO / ATIVOS          0,37     0,37    0,40    0,24      0,32    0,32\n",
      "PASSIVOS / ATIVOS            0,62     0,63    0,60    0,76      0,68    0,67\n",
      "LIQUIDEZ CORRENTE            0,90     1,00    1,25    1,21      0,97    1,48\n",
      "CAGR RECEITAS 5 ANOS       10,70%   17,72%   9,88%  -3,29%    -2,17%   2,79%\n",
      "CAGR LUCROS 5 ANOS         42,52%  246,76%      -%      -%        -%   3,02%\n"
     ]
    }
   ],
   "source": [
    "if table:\n",
    "    years = [th.get_text().strip() for th in table.find_all(\"th\", class_=\"year\")]\n",
    "    indicadores = [td.get_text().strip() for td in table.find_all(\"td\", class_=\"indicator\")]\n",
    "    data = {\"indicador\": indicadores}\n",
    "    all_values = []\n",
    "\n",
    "    for row in table.find_all(\"tr\", class_=[\"visible-even\", \"visible-odd\"]):\n",
    "        values = [value_td.get_text().strip() for value_td in row.find_all(\"td\", class_=\"value\")]\n",
    "        if len(values) == len(years):\n",
    "            all_values.append(values)\n",
    "    \n",
    "    # Criando o DataFrame\n",
    "    df = pd.DataFrame(all_values, columns=years, index=indicadores)\n",
    "    print(df)\n",
    "            \n",
    "\n",
    "else:\n",
    "    print(\"A tabela com o ID 'table-indicators-history' não foi encontrada.\")"
   ],
   "metadata": {
    "collapsed": false,
    "ExecuteTime": {
     "end_time": "2023-10-05T20:13:13.695026600Z",
     "start_time": "2023-10-05T20:13:13.679796900Z"
    }
   },
   "id": "c6298b8eeb155cb7"
  },
  {
   "cell_type": "code",
   "execution_count": 71,
   "outputs": [
    {
     "name": "stdout",
     "output_type": "stream",
     "text": [
      "  Atual-P/L 2022-P/L 2021-P/L 2020-P/L 2019-P/L 2018-P/L  \\\n",
      "0      2,71     1,70     3,48    52,01     9,81    11,48   \n",
      "\n",
      "  Atual-P/RECEITA (PSR) 2022-P/RECEITA (PSR) 2021-P/RECEITA (PSR)  \\\n",
      "0                  0,73                 0,50                 0,82   \n",
      "\n",
      "  2020-P/RECEITA (PSR)  ... 2021-CAGR RECEITAS 5 ANOS  \\\n",
      "0                 1,36  ...                     9,88%   \n",
      "\n",
      "  2020-CAGR RECEITAS 5 ANOS 2019-CAGR RECEITAS 5 ANOS  \\\n",
      "0                    -3,29%                    -2,17%   \n",
      "\n",
      "  2018-CAGR RECEITAS 5 ANOS Atual-CAGR LUCROS 5 ANOS 2022-CAGR LUCROS 5 ANOS  \\\n",
      "0                     2,79%                   42,52%                 246,76%   \n",
      "\n",
      "  2021-CAGR LUCROS 5 ANOS 2020-CAGR LUCROS 5 ANOS 2019-CAGR LUCROS 5 ANOS  \\\n",
      "0                      -%                      -%                      -%   \n",
      "\n",
      "  2018-CAGR LUCROS 5 ANOS  \n",
      "0                   3,02%  \n",
      "\n",
      "[1 rows x 180 columns]\n"
     ]
    }
   ],
   "source": [],
   "metadata": {
    "collapsed": false,
    "ExecuteTime": {
     "end_time": "2023-10-05T20:54:44.412418900Z",
     "start_time": "2023-10-05T20:54:44.385007Z"
    }
   },
   "id": "578d2a5328c80614"
  },
  {
   "cell_type": "code",
   "execution_count": null,
   "outputs": [],
   "source": [],
   "metadata": {
    "collapsed": false
   },
   "id": "62c0fdd4d5bd4933"
  }
 ],
 "metadata": {
  "kernelspec": {
   "display_name": "Python 3",
   "language": "python",
   "name": "python3"
  },
  "language_info": {
   "codemirror_mode": {
    "name": "ipython",
    "version": 2
   },
   "file_extension": ".py",
   "mimetype": "text/x-python",
   "name": "python",
   "nbconvert_exporter": "python",
   "pygments_lexer": "ipython2",
   "version": "2.7.6"
  }
 },
 "nbformat": 4,
 "nbformat_minor": 5
}
