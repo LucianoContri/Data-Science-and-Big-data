{
 "cells": [
  {
   "cell_type": "markdown",
   "metadata": {},
   "source": [
    "# PUC Minas\n",
    "## Pós-Graduação em Ciência de Dados e Big Data\n",
    "### Atividade Prática 1\n",
    "### Valor: 10 pontos"
   ]
  },
  {
   "cell_type": "markdown",
   "metadata": {},
   "source": [
    "#### Alunos:\n",
    "-Eduardo Junior de Almeida\n",
    "-Johann Herbert Jeronimo Albino\n",
    "-Luciano Augusto Scherer Contri\n",
    "-Marcio Roberto Garcia Drumond\n",
    "-Winclatis Filipe da Costa Ferreira"
   ]
  },
  {
   "cell_type": "markdown",
   "metadata": {},
   "source": [
    "#### Dados"
   ]
  },
  {
   "cell_type": "code",
   "execution_count": 1,
   "metadata": {
    "ExecuteTime": {
     "end_time": "2023-10-14T14:23:48.592173300Z",
     "start_time": "2023-10-14T14:23:48.581675900Z"
    }
   },
   "outputs": [],
   "source": [
    "lista = [23, 42, 3, 15, 32, 0, 13, 1, 52, 21, 11, 22, 18, 54, 64, 2, 6, 8, 22]"
   ]
  },
  {
   "cell_type": "markdown",
   "metadata": {},
   "source": [
    "#### 1. Imprima o que se pede:\n",
    "##### a) O elemento central da lista."
   ]
  },
  {
   "cell_type": "code",
   "execution_count": 9,
   "metadata": {
    "ExecuteTime": {
     "end_time": "2023-10-14T14:27:53.772623200Z",
     "start_time": "2023-10-14T14:27:53.745581200Z"
    }
   },
   "outputs": [
    {
     "name": "stdout",
     "output_type": "stream",
     "text": [
      "21\n"
     ]
    }
   ],
   "source": [
    "print(lista[int(len(lista)/2)])"
   ]
  },
  {
   "cell_type": "markdown",
   "metadata": {},
   "source": [
    " ##### b) O menor e o maior elemento da lista."
   ]
  },
  {
   "cell_type": "code",
   "execution_count": 22,
   "metadata": {
    "ExecuteTime": {
     "end_time": "2023-10-14T14:50:51.313031500Z",
     "start_time": "2023-10-14T14:50:51.308508100Z"
    }
   },
   "outputs": [
    {
     "name": "stdout",
     "output_type": "stream",
     "text": [
      "0\n",
      "64\n"
     ]
    }
   ],
   "source": [
    "print(min(lista))\n",
    "print(max(lista))"
   ]
  },
  {
   "cell_type": "markdown",
   "metadata": {},
   "source": [
    "##### c) A diferença entre o primeiro e penúltimo elemento da lista."
   ]
  },
  {
   "cell_type": "code",
   "execution_count": 11,
   "metadata": {
    "ExecuteTime": {
     "end_time": "2023-10-14T14:28:27.699622200Z",
     "start_time": "2023-10-14T14:28:27.696113700Z"
    }
   },
   "outputs": [
    {
     "name": "stdout",
     "output_type": "stream",
     "text": [
      "15\n"
     ]
    }
   ],
   "source": [
    "print(lista[0] - lista[-2])"
   ]
  },
  {
   "cell_type": "markdown",
   "metadata": {},
   "source": [
    "#### 2. Calcule:\n",
    "##### a) A média dos elementos da lista (use a função de comprimento)."
   ]
  },
  {
   "cell_type": "code",
   "execution_count": 13,
   "metadata": {
    "ExecuteTime": {
     "end_time": "2023-10-14T14:30:58.001903Z",
     "start_time": "2023-10-14T14:30:57.968871500Z"
    }
   },
   "outputs": [],
   "source": [
    "media = sum(lista) / len(lista)"
   ]
  },
  {
   "cell_type": "markdown",
   "metadata": {},
   "source": [
    "##### b) A média da lista elevada ao menor valor da lista."
   ]
  },
  {
   "cell_type": "code",
   "execution_count": 15,
   "metadata": {
    "ExecuteTime": {
     "end_time": "2023-10-14T14:32:34.004458Z",
     "start_time": "2023-10-14T14:32:33.998948200Z"
    }
   },
   "outputs": [
    {
     "name": "stdout",
     "output_type": "stream",
     "text": [
      "1.0\n"
     ]
    }
   ],
   "source": [
    "print(media ** min(lista))"
   ]
  },
  {
   "cell_type": "markdown",
   "metadata": {},
   "source": [
    "#### 3. Crie 4 tuplas para pessoas diferentes com informações de nome, idade, altura, peso, cidade natal e idade."
   ]
  },
  {
   "cell_type": "code",
   "execution_count": 17,
   "metadata": {
    "ExecuteTime": {
     "end_time": "2023-10-14T14:39:59.555523600Z",
     "start_time": "2023-10-14T14:39:59.552068400Z"
    }
   },
   "outputs": [],
   "source": [
    "pessoa1 = (\"João\", 30, 1.75, 70, \"São Paulo\", 1993)\n",
    "pessoa2 = (\"Maria\", 25, 1.60, 55, \"Rio de Janeiro\", 1998)\n",
    "pessoa3 = (\"Carlos\", 40, 1.80, 80, \"Belo Horizonte\", 1983)\n",
    "pessoa4 = (\"Fernanda\", 28, 1.65, 58, \"Curitiba\", 1995)"
   ]
  },
  {
   "cell_type": "markdown",
   "metadata": {},
   "source": [
    "#### 4. Para cada uma das 4 tuplas criadas, calcule o IMC (Índice de Massa Corporal) da pessoa, sabendo que o IMC é dado pela razão entre o peso e o quadrado da altura."
   ]
  },
  {
   "cell_type": "code",
   "execution_count": 20,
   "metadata": {
    "ExecuteTime": {
     "end_time": "2023-10-14T14:45:00.171206100Z",
     "start_time": "2023-10-14T14:45:00.166090400Z"
    }
   },
   "outputs": [
    {
     "name": "stdout",
     "output_type": "stream",
     "text": [
      "IMC pessoa 1: 22.86\n",
      "IMC pessoa 2: 21.48\n",
      "IMC pessoa 3: 24.69\n",
      "IMC pessoa 4: 21.30\n"
     ]
    }
   ],
   "source": [
    "imc_pessoa1 = pessoa1[3]/pessoa1[2]**2\n",
    "imc_pessoa2 = pessoa2[3]/pessoa2[2]**2\n",
    "imc_pessoa3 = pessoa3[3]/pessoa3[2]**2\n",
    "imc_pessoa4 = pessoa4[3]/pessoa4[2]**2\n",
    "\n",
    "print(f\"IMC pessoa 1: {imc_pessoa1:.2f}\")\n",
    "print(f\"IMC pessoa 2: {imc_pessoa2:.2f}\")\n",
    "print(f\"IMC pessoa 3: {imc_pessoa3:.2f}\")\n",
    "print(f\"IMC pessoa 4: {imc_pessoa4:.2f}\")\n"
   ]
  },
  {
   "cell_type": "markdown",
   "metadata": {},
   "source": [
    "#### 5. Crie um dicionário com o nome da pessoa associado a sua respectiva idade e IMC.\n",
    "- É necessário extrair as variáveis nome e idade diretamente da tupla inicial com dados da pessoa, já o IMC deve ser oriundo das variáveis criadas no exercício 4.\n",
    "- É necessário usar a função _update_ no dicionário."
   ]
  },
  {
   "cell_type": "code",
   "execution_count": 21,
   "metadata": {
    "ExecuteTime": {
     "end_time": "2023-10-14T14:47:09.288712700Z",
     "start_time": "2023-10-14T14:47:09.262576Z"
    }
   },
   "outputs": [
    {
     "name": "stdout",
     "output_type": "stream",
     "text": [
      "{'João': {'idade': 30, 'IMC': 22.857142857142858}, 'Maria': {'idade': 25, 'IMC': 21.484374999999996}, 'Carlos': {'idade': 40, 'IMC': 24.691358024691358}, 'Fernanda': {'idade': 28, 'IMC': 21.30394857667585}}\n"
     ]
    }
   ],
   "source": [
    "dados_pessoas = {}\n",
    "\n",
    "dados_pessoas.update({pessoa1[0]: {\"idade\": pessoa1[1], \"IMC\": imc_pessoa1}})\n",
    "dados_pessoas.update({pessoa2[0]: {\"idade\": pessoa2[1], \"IMC\": imc_pessoa2}})\n",
    "dados_pessoas.update({pessoa3[0]: {\"idade\": pessoa3[1], \"IMC\": imc_pessoa3}})\n",
    "dados_pessoas.update({pessoa4[0]: {\"idade\": pessoa4[1], \"IMC\": imc_pessoa4}})\n",
    "\n",
    "print(dados_pessoas)"
   ]
  },
  {
   "cell_type": "markdown",
   "metadata": {},
   "source": [
    "#### 6. Faça todas as operações a partir da lista inicial e o conjunto abaixo definido."
   ]
  },
  {
   "cell_type": "code",
   "execution_count": 36,
   "metadata": {
    "ExecuteTime": {
     "end_time": "2023-10-14T15:06:59.632415100Z",
     "start_time": "2023-10-14T15:06:59.610366500Z"
    }
   },
   "outputs": [
    {
     "name": "stdout",
     "output_type": "stream",
     "text": [
      "O elemento central da lista: 9\n",
      "O menor e o maior elemento da lista: 0 ,343\n",
      "A diferença entre o primeiro e penúltimo elemento da lista: -89\n",
      "A média dos elementos da lista: 46.5\n",
      "A média da lista elevada ao menor valor da lista: 1.0\n"
     ]
    }
   ],
   "source": [
    "c1 = {343, 56, 2, 4, 8, 3 , 8, 2, 15, 89, 0, 4, 2, 6, 23, 9,4}\n",
    "sortedc1 = list(c1)\n",
    "print(f\"O elemento central da lista: {sortedc1[int(len(sortedc1)/2)]}\")\n",
    "print(f\"O menor e o maior elemento da lista: {min(sortedc1)} ,{max(sortedc1)}\")\n",
    "print(f\"A diferença entre o primeiro e penúltimo elemento da lista: {sortedc1[0] - sortedc1[-2]}\")\n",
    "media = sum(sortedc1) / len(sortedc1)\n",
    "print(f\"A média dos elementos da lista: {media}\")\n",
    "print(f\"A média da lista elevada ao menor valor da lista: {media ** min(sortedc1)}\")"
   ]
  },
  {
   "cell_type": "code",
   "execution_count": null,
   "outputs": [],
   "source": [],
   "metadata": {
    "collapsed": false
   }
  }
 ],
 "metadata": {
  "kernelspec": {
   "display_name": "Python 3.10.7 64-bit (microsoft store)",
   "language": "python",
   "name": "python3"
  },
  "language_info": {
   "name": "python",
   "version": "3.10.7"
  },
  "orig_nbformat": 4,
  "vscode": {
   "interpreter": {
    "hash": "3114f789421a6dcb793c0e4c178ab03f61c2a8c10e907712efa50b3ae49d218e"
   }
  }
 },
 "nbformat": 4,
 "nbformat_minor": 2
}
