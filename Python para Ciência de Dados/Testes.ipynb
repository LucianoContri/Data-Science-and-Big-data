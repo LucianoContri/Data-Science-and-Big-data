{
 "cells": [
  {
   "cell_type": "code",
   "execution_count": 3,
   "id": "initial_id",
   "metadata": {
    "collapsed": true,
    "ExecuteTime": {
     "end_time": "2023-10-02T22:37:12.329879900Z",
     "start_time": "2023-10-02T22:37:12.318815800Z"
    }
   },
   "outputs": [
    {
     "data": {
      "text/plain": "{'Luciano': 10, 'Augusto': 15, 'Scherer': 21}"
     },
     "execution_count": 3,
     "metadata": {},
     "output_type": "execute_result"
    }
   ],
   "source": [
    "idades  = [10, 15 , 21,]\n",
    "nomes = ['Luciano', 'Augusto', 'Scherer', 'Contri']\n",
    "dicio = dict(zip(nomes, idades))\n",
    "dicio"
   ]
  },
  {
   "cell_type": "code",
   "execution_count": null,
   "outputs": [],
   "source": [],
   "metadata": {
    "collapsed": false
   },
   "id": "c62d94a9aa4fd776"
  }
 ],
 "metadata": {
  "kernelspec": {
   "display_name": "Python 3",
   "language": "python",
   "name": "python3"
  },
  "language_info": {
   "codemirror_mode": {
    "name": "ipython",
    "version": 2
   },
   "file_extension": ".py",
   "mimetype": "text/x-python",
   "name": "python",
   "nbconvert_exporter": "python",
   "pygments_lexer": "ipython2",
   "version": "2.7.6"
  }
 },
 "nbformat": 4,
 "nbformat_minor": 5
}
