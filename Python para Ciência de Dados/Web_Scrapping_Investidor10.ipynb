{
 "cells": [
  {
   "cell_type": "code",
   "execution_count": 6,
   "id": "initial_id",
   "metadata": {
    "collapsed": true,
    "ExecuteTime": {
     "end_time": "2023-10-05T21:03:37.930391900Z",
     "start_time": "2023-10-05T21:02:51.445106Z"
    }
   },
   "outputs": [
    {
     "name": "stderr",
     "output_type": "stream",
     "text": [
      "C:\\Users\\Lucia\\AppData\\Local\\Temp\\ipykernel_6708\\1234704277.py:45: FutureWarning: The frame.append method is deprecated and will be removed from pandas in a future version. Use pandas.concat instead.\n",
      "  df_final = df_final.append(df_temp)\n",
      "C:\\Users\\Lucia\\AppData\\Local\\Temp\\ipykernel_6708\\1234704277.py:45: FutureWarning: The frame.append method is deprecated and will be removed from pandas in a future version. Use pandas.concat instead.\n",
      "  df_final = df_final.append(df_temp)\n",
      "C:\\Users\\Lucia\\AppData\\Local\\Temp\\ipykernel_6708\\1234704277.py:45: FutureWarning: The frame.append method is deprecated and will be removed from pandas in a future version. Use pandas.concat instead.\n",
      "  df_final = df_final.append(df_temp)\n"
     ]
    },
    {
     "name": "stdout",
     "output_type": "stream",
     "text": [
      "                       Atual     2022    2021    2020    2019    2018    acao\n",
      "P/L                    10,15     8,24    5,66    5,07   10,72    7,59  taee11\n",
      "P/RECEITA (PSR)         5,05     4,56    3,61    3,22    5,98    4,97  taee11\n",
      "P/VP                    1,77     1,82    1,87    2,16    2,18    1,78  taee11\n",
      "DIVIDEND YIELD (DY)    9,87%   14,00%  12,38%   9,63%   6,06%  11,81%  taee11\n",
      "PAYOUT                99,75%  115,40%  70,09%  48,88%  65,01%  89,63%  taee11\n",
      "...                      ...      ...     ...     ...     ...     ...     ...\n",
      "PATRIMÔNIO / ATIVOS     0,37     0,37    0,40    0,24    0,32    0,32   petr4\n",
      "PASSIVOS / ATIVOS       0,62     0,63    0,60    0,76    0,68    0,67   petr4\n",
      "LIQUIDEZ CORRENTE       0,90     1,00    1,25    1,21    0,97    1,48   petr4\n",
      "CAGR RECEITAS 5 ANOS  10,70%   17,72%   9,88%  -3,29%  -2,17%   2,79%   petr4\n",
      "CAGR LUCROS 5 ANOS    42,52%  246,76%      -%      -%      -%   3,02%   petr4\n",
      "\n",
      "[90 rows x 7 columns]\n"
     ]
    }
   ],
   "source": [
    "import pandas as pd\n",
    "from selenium import webdriver\n",
    "from selenium.webdriver.chrome.service import Service\n",
    "from bs4 import BeautifulSoup\n",
    "import time\n",
    "\n",
    "# Configuração inicial do WebDriver\n",
    "service = Service()\n",
    "options = webdriver.ChromeOptions()\n",
    "options.add_argument(\"--headless\")\n",
    "options.add_argument(\"--disable-gpu\")\n",
    "options.add_argument(\"--window-size=1920x1080\")\n",
    "options.add_argument(\"--disable-notifications\")\n",
    "options.add_argument('--no-sandbox')\n",
    "options.add_argument('--verbose')\n",
    "options.add_argument(\"--user-agent=Mozilla/5.0 (Windows NT 10.0; Win64; x64) AppleWebKit/537.36 (KHTML, like Gecko) Chrome/91.0.4472.124 Safari/537.36\")\n",
    "\n",
    "# Inicie o navegador\n",
    "browser = webdriver.Chrome(service=service, options=options)\n",
    "\n",
    "# Lista de URLs das ações\n",
    "acoes_urls = ['https://investidor10.com.br/acoes/taee11/', 'https://investidor10.com.br/acoes/wege3/', 'https://investidor10.com.br/acoes/petr4/']\n",
    "\n",
    "df_final = pd.DataFrame()\n",
    "\n",
    "for url in acoes_urls:\n",
    "    browser.get(url)\n",
    "    time.sleep(10)\n",
    "    page_content = browser.page_source\n",
    "    soup = BeautifulSoup(page_content, 'html.parser')\n",
    "    table = soup.find(id='table-indicators-history')\n",
    "\n",
    "    if table:\n",
    "        years = [th.get_text().strip() for th in table.find_all(\"th\", class_=\"year\")]\n",
    "        indicadores = [td.get_text().strip() for td in table.find_all(\"td\", class_=\"indicator\")]\n",
    "\n",
    "        all_values = []\n",
    "        for row in table.find_all(\"tr\", class_=[\"visible-even\", \"visible-odd\"]):\n",
    "            values = [value_td.get_text().strip() for value_td in row.find_all(\"td\", class_=\"value\")]\n",
    "            if len(values) == len(years):\n",
    "                all_values.append(values)\n",
    "\n",
    "        df_temp = pd.DataFrame(all_values, columns=years, index=indicadores)\n",
    "        df_temp['acao'] = url[33:].strip(\"/\")   # Adiciona uma coluna para identificar a ação\n",
    "        df_final = df_final.append(df_temp)\n",
    "\n",
    "browser.quit()\n",
    "print(df_final)"
   ]
  },
  {
   "cell_type": "code",
   "execution_count": 8,
   "outputs": [],
   "source": [
    "df_final.to_csv(\"investidor10_acoes.csv\")"
   ],
   "metadata": {
    "collapsed": false,
    "ExecuteTime": {
     "end_time": "2023-10-05T23:16:02.440466500Z",
     "start_time": "2023-10-05T23:16:02.413264800Z"
    }
   },
   "id": "fc709b63bc057645"
  },
  {
   "cell_type": "code",
   "execution_count": null,
   "outputs": [],
   "source": [],
   "metadata": {
    "collapsed": false
   },
   "id": "13fe7b307605f3e6"
  }
 ],
 "metadata": {
  "kernelspec": {
   "display_name": "Python 3",
   "language": "python",
   "name": "python3"
  },
  "language_info": {
   "codemirror_mode": {
    "name": "ipython",
    "version": 2
   },
   "file_extension": ".py",
   "mimetype": "text/x-python",
   "name": "python",
   "nbconvert_exporter": "python",
   "pygments_lexer": "ipython2",
   "version": "2.7.6"
  }
 },
 "nbformat": 4,
 "nbformat_minor": 5
}
