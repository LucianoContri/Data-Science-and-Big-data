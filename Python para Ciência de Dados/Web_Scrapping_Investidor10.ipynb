{
 "cells": [
  {
   "cell_type": "code",
   "execution_count": 6,
   "id": "initial_id",
   "metadata": {
    "collapsed": true,
    "ExecuteTime": {
     "end_time": "2023-10-05T21:03:37.930391900Z",
     "start_time": "2023-10-05T21:02:51.445106Z"
    }
   },
   "source": [
    "import pandas as pd\n",
    "from selenium import webdriver\n",
    "from selenium.webdriver.chrome.service import Service\n",
    "from bs4 import BeautifulSoup\n",
    "import time\n",
    "\n",
    "# Configuração inicial do WebDriver\n",
    "service = Service()\n",
    "options = webdriver.ChromeOptions()\n",
    "options.add_argument(\"--headless\")\n",
    "options.add_argument(\"--disable-gpu\")\n",
    "options.add_argument(\"--window-size=1920x1080\")\n",
    "options.add_argument(\"--disable-notifications\")\n",
    "options.add_argument('--no-sandbox')\n",
    "options.add_argument('--verbose')\n",
    "options.add_argument(\"--user-agent=Mozilla/5.0 (Windows NT 10.0; Win64; x64) AppleWebKit/537.36 (KHTML, like Gecko) Chrome/91.0.4472.124 Safari/537.36\")\n",
    "\n",
    "# Inicie o navegador\n",
    "browser = webdriver.Chrome(service=service, options=options)\n",
    "\n",
    "# Lista de URLs das ações\n",
    "acoes_urls = ['https://investidor10.com.br/acoes/taee11/', 'https://investidor10.com.br/acoes/wege3/', 'https://investidor10.com.br/acoes/petr4/']\n",
    "\n",
    "df_final = pd.DataFrame()\n",
    "\n",
    "for url in acoes_urls:\n",
    "    browser.get(url)\n",
    "    time.sleep(10)\n",
    "    page_content = browser.page_source\n",
    "    soup = BeautifulSoup(page_content, 'html.parser')\n",
    "    table = soup.find(id='table-indicators-history')\n",
    "\n",
    "    if table:\n",
    "        years = [th.get_text().strip() for th in table.find_all(\"th\", class_=\"year\")]\n",
    "        indicadores = [td.get_text().strip() for td in table.find_all(\"td\", class_=\"indicator\")]\n",
    "\n",
    "        all_values = []\n",
    "        for row in table.find_all(\"tr\", class_=[\"visible-even\", \"visible-odd\"]):\n",
    "            values = [value_td.get_text().strip() for value_td in row.find_all(\"td\", class_=\"value\")]\n",
    "            if len(values) == len(years):\n",
    "                all_values.append(values)\n",
    "\n",
    "        df_temp = pd.DataFrame(all_values, columns=years, index=indicadores)\n",
    "        df_temp['acao'] = url[33:].strip(\"/\")   # Adiciona uma coluna para identificar a ação\n",
    "        df_final = df_final.append(df_temp)\n",
    "\n",
    "browser.quit()\n",
    "print(df_final)"
   ],
   "outputs": []
  },
  {
   "cell_type": "code",
   "execution_count": 8,
   "source": [
    "df_final.to_csv(\"investidor10_acoes.csv\")"
   ],
   "metadata": {
    "collapsed": false,
    "ExecuteTime": {
     "end_time": "2023-10-05T23:16:02.440466500Z",
     "start_time": "2023-10-05T23:16:02.413264800Z"
    }
   },
   "id": "fc709b63bc057645",
   "outputs": []
  },
  {
   "cell_type": "code",
   "execution_count": null,
   "source": [],
   "metadata": {
    "collapsed": false
   },
   "id": "13fe7b307605f3e6",
   "outputs": []
  }
 ],
 "metadata": {
  "kernelspec": {
   "display_name": "Python 3",
   "language": "python",
   "name": "python3"
  },
  "language_info": {
   "codemirror_mode": {
    "name": "ipython",
    "version": 2
   },
   "file_extension": ".py",
   "mimetype": "text/x-python",
   "name": "python",
   "nbconvert_exporter": "python",
   "pygments_lexer": "ipython2",
   "version": "2.7.6"
  }
 },
 "nbformat": 4,
 "nbformat_minor": 5
}
