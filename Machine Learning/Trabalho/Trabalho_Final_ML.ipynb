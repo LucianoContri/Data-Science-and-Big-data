{
 "cells": [
  {
   "cell_type": "markdown",
   "source": [
    "# Trabalho Final Machine Learning\n",
    "\n",
    "----------------------------------------------------------\n",
    "\n",
    "## Análise exploratória\n"
   ],
   "metadata": {
    "collapsed": false
   },
   "id": "f6a97b8e0b7119f"
  },
  {
   "cell_type": "code",
   "execution_count": 320,
   "id": "initial_id",
   "metadata": {
    "collapsed": true,
    "ExecuteTime": {
     "end_time": "2024-04-13T19:03:43.290511300Z",
     "start_time": "2024-04-13T19:03:43.139700300Z"
    }
   },
   "outputs": [],
   "source": [
    "import pandas as pd\n",
    "import numpy as np\n",
    "from ydata_profiling import ProfileReport"
   ]
  },
  {
   "cell_type": "code",
   "execution_count": 321,
   "outputs": [
    {
     "data": {
      "text/plain": "       Id  Age  Gender Hormonal Changes Family History    Race/Ethnicity  \\\n0  104866   69  Female           Normal            Yes             Asian   \n1  101999   32  Female           Normal            Yes             Asian   \n2  106567   89  Female   Postmenopausal             No         Caucasian   \n3  102316   78  Female           Normal             No         Caucasian   \n4  101944   38    Male   Postmenopausal            Yes  African American   \n\n   Body Weight Calcium Intake Vitamin D Intake Physical Activity Smoking  \\\n0  Underweight            Low       Sufficient         Sedentary     Yes   \n1  Underweight            Low       Sufficient         Sedentary      No   \n2       Normal       Adequate       Sufficient            Active      No   \n3  Underweight       Adequate     Insufficient         Sedentary     Yes   \n4       Normal            Low       Sufficient            Active     Yes   \n\n  Alcohol Consumption    Medical Conditions      Medications Prior Fractures  \\\n0            Moderate  Rheumatoid Arthritis  Corticosteroids             Yes   \n1                None                  None             None             Yes   \n2            Moderate       Hyperthyroidism  Corticosteroids              No   \n3                None  Rheumatoid Arthritis  Corticosteroids              No   \n4                None  Rheumatoid Arthritis             None             Yes   \n\n   Osteoporosis  \n0             1  \n1             1  \n2             1  \n3             1  \n4             1  ",
      "text/html": "<div>\n<style scoped>\n    .dataframe tbody tr th:only-of-type {\n        vertical-align: middle;\n    }\n\n    .dataframe tbody tr th {\n        vertical-align: top;\n    }\n\n    .dataframe thead th {\n        text-align: right;\n    }\n</style>\n<table border=\"1\" class=\"dataframe\">\n  <thead>\n    <tr style=\"text-align: right;\">\n      <th></th>\n      <th>Id</th>\n      <th>Age</th>\n      <th>Gender</th>\n      <th>Hormonal Changes</th>\n      <th>Family History</th>\n      <th>Race/Ethnicity</th>\n      <th>Body Weight</th>\n      <th>Calcium Intake</th>\n      <th>Vitamin D Intake</th>\n      <th>Physical Activity</th>\n      <th>Smoking</th>\n      <th>Alcohol Consumption</th>\n      <th>Medical Conditions</th>\n      <th>Medications</th>\n      <th>Prior Fractures</th>\n      <th>Osteoporosis</th>\n    </tr>\n  </thead>\n  <tbody>\n    <tr>\n      <th>0</th>\n      <td>104866</td>\n      <td>69</td>\n      <td>Female</td>\n      <td>Normal</td>\n      <td>Yes</td>\n      <td>Asian</td>\n      <td>Underweight</td>\n      <td>Low</td>\n      <td>Sufficient</td>\n      <td>Sedentary</td>\n      <td>Yes</td>\n      <td>Moderate</td>\n      <td>Rheumatoid Arthritis</td>\n      <td>Corticosteroids</td>\n      <td>Yes</td>\n      <td>1</td>\n    </tr>\n    <tr>\n      <th>1</th>\n      <td>101999</td>\n      <td>32</td>\n      <td>Female</td>\n      <td>Normal</td>\n      <td>Yes</td>\n      <td>Asian</td>\n      <td>Underweight</td>\n      <td>Low</td>\n      <td>Sufficient</td>\n      <td>Sedentary</td>\n      <td>No</td>\n      <td>None</td>\n      <td>None</td>\n      <td>None</td>\n      <td>Yes</td>\n      <td>1</td>\n    </tr>\n    <tr>\n      <th>2</th>\n      <td>106567</td>\n      <td>89</td>\n      <td>Female</td>\n      <td>Postmenopausal</td>\n      <td>No</td>\n      <td>Caucasian</td>\n      <td>Normal</td>\n      <td>Adequate</td>\n      <td>Sufficient</td>\n      <td>Active</td>\n      <td>No</td>\n      <td>Moderate</td>\n      <td>Hyperthyroidism</td>\n      <td>Corticosteroids</td>\n      <td>No</td>\n      <td>1</td>\n    </tr>\n    <tr>\n      <th>3</th>\n      <td>102316</td>\n      <td>78</td>\n      <td>Female</td>\n      <td>Normal</td>\n      <td>No</td>\n      <td>Caucasian</td>\n      <td>Underweight</td>\n      <td>Adequate</td>\n      <td>Insufficient</td>\n      <td>Sedentary</td>\n      <td>Yes</td>\n      <td>None</td>\n      <td>Rheumatoid Arthritis</td>\n      <td>Corticosteroids</td>\n      <td>No</td>\n      <td>1</td>\n    </tr>\n    <tr>\n      <th>4</th>\n      <td>101944</td>\n      <td>38</td>\n      <td>Male</td>\n      <td>Postmenopausal</td>\n      <td>Yes</td>\n      <td>African American</td>\n      <td>Normal</td>\n      <td>Low</td>\n      <td>Sufficient</td>\n      <td>Active</td>\n      <td>Yes</td>\n      <td>None</td>\n      <td>Rheumatoid Arthritis</td>\n      <td>None</td>\n      <td>Yes</td>\n      <td>1</td>\n    </tr>\n  </tbody>\n</table>\n</div>"
     },
     "execution_count": 321,
     "metadata": {},
     "output_type": "execute_result"
    }
   ],
   "source": [
    "df = pd.read_csv('osteoporosis.csv')\n",
    "df.head()"
   ],
   "metadata": {
    "collapsed": false,
    "ExecuteTime": {
     "end_time": "2024-04-13T19:03:43.294016Z",
     "start_time": "2024-04-13T19:03:43.143212700Z"
    }
   },
   "id": "3bb49743c0ed1151"
  },
  {
   "cell_type": "code",
   "execution_count": 322,
   "outputs": [
    {
     "data": {
      "text/plain": "(1958, 16)"
     },
     "execution_count": 322,
     "metadata": {},
     "output_type": "execute_result"
    }
   ],
   "source": [
    "df.shape"
   ],
   "metadata": {
    "collapsed": false,
    "ExecuteTime": {
     "end_time": "2024-04-13T19:03:43.361980500Z",
     "start_time": "2024-04-13T19:03:43.158244300Z"
    }
   },
   "id": "180754bc4db56f87"
  },
  {
   "cell_type": "code",
   "execution_count": 323,
   "outputs": [
    {
     "name": "stdout",
     "output_type": "stream",
     "text": [
      "<class 'pandas.core.frame.DataFrame'>\n",
      "RangeIndex: 1958 entries, 0 to 1957\n",
      "Data columns (total 16 columns):\n",
      " #   Column               Non-Null Count  Dtype \n",
      "---  ------               --------------  ----- \n",
      " 0   Id                   1958 non-null   int64 \n",
      " 1   Age                  1958 non-null   int64 \n",
      " 2   Gender               1958 non-null   object\n",
      " 3   Hormonal Changes     1958 non-null   object\n",
      " 4   Family History       1958 non-null   object\n",
      " 5   Race/Ethnicity       1958 non-null   object\n",
      " 6   Body Weight          1958 non-null   object\n",
      " 7   Calcium Intake       1958 non-null   object\n",
      " 8   Vitamin D Intake     1958 non-null   object\n",
      " 9   Physical Activity    1958 non-null   object\n",
      " 10  Smoking              1958 non-null   object\n",
      " 11  Alcohol Consumption  1958 non-null   object\n",
      " 12  Medical Conditions   1958 non-null   object\n",
      " 13  Medications          1958 non-null   object\n",
      " 14  Prior Fractures      1958 non-null   object\n",
      " 15  Osteoporosis         1958 non-null   int64 \n",
      "dtypes: int64(3), object(13)\n",
      "memory usage: 244.9+ KB\n"
     ]
    }
   ],
   "source": [
    "df.info()"
   ],
   "metadata": {
    "collapsed": false,
    "ExecuteTime": {
     "end_time": "2024-04-13T19:03:43.406708600Z",
     "start_time": "2024-04-13T19:03:43.162098700Z"
    }
   },
   "id": "cba431812ea0ea36"
  },
  {
   "cell_type": "markdown",
   "source": [
    "### Análise de valores nulos"
   ],
   "metadata": {
    "collapsed": false
   },
   "id": "2fccec17b61ed3b8"
  },
  {
   "cell_type": "code",
   "execution_count": 324,
   "outputs": [
    {
     "data": {
      "text/plain": "Id                     0\nAge                    0\nGender                 0\nHormonal Changes       0\nFamily History         0\nRace/Ethnicity         0\nBody Weight            0\nCalcium Intake         0\nVitamin D Intake       0\nPhysical Activity      0\nSmoking                0\nAlcohol Consumption    0\nMedical Conditions     0\nMedications            0\nPrior Fractures        0\nOsteoporosis           0\ndtype: int64"
     },
     "execution_count": 324,
     "metadata": {},
     "output_type": "execute_result"
    }
   ],
   "source": [
    "df.isna().sum()"
   ],
   "metadata": {
    "collapsed": false,
    "ExecuteTime": {
     "end_time": "2024-04-13T19:03:43.426586Z",
     "start_time": "2024-04-13T19:03:43.173323200Z"
    }
   },
   "id": "e3ed3b74e6b54971"
  },
  {
   "cell_type": "markdown",
   "source": [
    "nesse caso, não há valores nulos no dataset escolhido."
   ],
   "metadata": {
    "collapsed": false
   },
   "id": "22c5c2a6d74a6b28"
  },
  {
   "cell_type": "markdown",
   "source": [
    "### contagem de valores únicos"
   ],
   "metadata": {
    "collapsed": false
   },
   "id": "f31e72ae63e82fe5"
  },
  {
   "cell_type": "code",
   "execution_count": 325,
   "outputs": [
    {
     "data": {
      "text/plain": "Id                     1749\nAge                      73\nGender                    2\nHormonal Changes          2\nFamily History            2\nRace/Ethnicity            3\nBody Weight               2\nCalcium Intake            2\nVitamin D Intake          2\nPhysical Activity         2\nSmoking                   2\nAlcohol Consumption       2\nMedical Conditions        3\nMedications               2\nPrior Fractures           2\nOsteoporosis              2\ndtype: int64"
     },
     "execution_count": 325,
     "metadata": {},
     "output_type": "execute_result"
    }
   ],
   "source": [
    "df.nunique()"
   ],
   "metadata": {
    "collapsed": false,
    "ExecuteTime": {
     "end_time": "2024-04-13T19:03:43.429588800Z",
     "start_time": "2024-04-13T19:03:43.180869100Z"
    }
   },
   "id": "5ad18b18f9772083"
  },
  {
   "cell_type": "markdown",
   "source": [
    "Fora os valores inteiros, temos muitas variáveis categóricas com pouco valores únicos. podemos fazer um onehot encoding para essas variáveis."
   ],
   "metadata": {
    "collapsed": false
   },
   "id": "76b183067f78d986"
  },
  {
   "cell_type": "markdown",
   "source": [
    "### análise de balanceamento"
   ],
   "metadata": {
    "collapsed": false
   },
   "id": "96eb76ab70b72595"
  },
  {
   "cell_type": "code",
   "execution_count": 326,
   "outputs": [
    {
     "data": {
      "text/plain": "1    979\n0    979\nName: Osteoporosis, dtype: int64"
     },
     "execution_count": 326,
     "metadata": {},
     "output_type": "execute_result"
    }
   ],
   "source": [
    "df['Osteoporosis'].value_counts()"
   ],
   "metadata": {
    "collapsed": false,
    "ExecuteTime": {
     "end_time": "2024-04-13T19:03:43.429588800Z",
     "start_time": "2024-04-13T19:03:43.188833500Z"
    }
   },
   "id": "c6a18e95ce190437"
  },
  {
   "cell_type": "markdown",
   "source": [
    "O dataset está balanceado, com 50% dos valores para cada classe.\n",
    "Isso indica para mim que provavelmente a melhor métrica para \n",
    "avaliar os modelos será o Recall, pois queremos minimizar os \n",
    "falsos negativos."
   ],
   "metadata": {
    "collapsed": false
   },
   "id": "53031cb0b019b997"
  },
  {
   "cell_type": "markdown",
   "source": [
    "## Pré-processamento\n",
    "\n",
    "----------------------------------------------------------\n",
    "### OneHot Encoding"
   ],
   "metadata": {
    "collapsed": false
   },
   "id": "e0efa30d507c85d6"
  },
  {
   "cell_type": "code",
   "execution_count": 327,
   "outputs": [],
   "source": [
    "listDummies= df.select_dtypes(include='object').columns.to_list()"
   ],
   "metadata": {
    "collapsed": false,
    "ExecuteTime": {
     "end_time": "2024-04-13T19:03:43.445866400Z",
     "start_time": "2024-04-13T19:03:43.192718200Z"
    }
   },
   "id": "cb791dfc8b34a51f"
  },
  {
   "cell_type": "code",
   "execution_count": 328,
   "outputs": [
    {
     "data": {
      "text/plain": "       Id  Age  Osteoporosis  Gender_Male  Hormonal Changes_Postmenopausal  \\\n0  104866   69             1            0                                0   \n1  101999   32             1            0                                0   \n2  106567   89             1            0                                1   \n3  102316   78             1            0                                0   \n4  101944   38             1            1                                1   \n\n   Family History_Yes  Race/Ethnicity_Asian  Race/Ethnicity_Caucasian  \\\n0                   1                     1                         0   \n1                   1                     1                         0   \n2                   0                     0                         1   \n3                   0                     0                         1   \n4                   1                     0                         0   \n\n   Body Weight_Underweight  Calcium Intake_Low  Vitamin D Intake_Sufficient  \\\n0                        1                   1                            1   \n1                        1                   1                            1   \n2                        0                   0                            1   \n3                        1                   0                            0   \n4                        0                   1                            1   \n\n   Physical Activity_Sedentary  Smoking_Yes  Alcohol Consumption_None  \\\n0                            1            1                         0   \n1                            1            0                         1   \n2                            0            0                         0   \n3                            1            1                         1   \n4                            0            1                         1   \n\n   Medical Conditions_None  Medical Conditions_Rheumatoid Arthritis  \\\n0                        0                                        1   \n1                        1                                        0   \n2                        0                                        0   \n3                        0                                        1   \n4                        0                                        1   \n\n   Medications_None  Prior Fractures_Yes  \n0                 0                    1  \n1                 1                    1  \n2                 0                    0  \n3                 0                    0  \n4                 1                    1  ",
      "text/html": "<div>\n<style scoped>\n    .dataframe tbody tr th:only-of-type {\n        vertical-align: middle;\n    }\n\n    .dataframe tbody tr th {\n        vertical-align: top;\n    }\n\n    .dataframe thead th {\n        text-align: right;\n    }\n</style>\n<table border=\"1\" class=\"dataframe\">\n  <thead>\n    <tr style=\"text-align: right;\">\n      <th></th>\n      <th>Id</th>\n      <th>Age</th>\n      <th>Osteoporosis</th>\n      <th>Gender_Male</th>\n      <th>Hormonal Changes_Postmenopausal</th>\n      <th>Family History_Yes</th>\n      <th>Race/Ethnicity_Asian</th>\n      <th>Race/Ethnicity_Caucasian</th>\n      <th>Body Weight_Underweight</th>\n      <th>Calcium Intake_Low</th>\n      <th>Vitamin D Intake_Sufficient</th>\n      <th>Physical Activity_Sedentary</th>\n      <th>Smoking_Yes</th>\n      <th>Alcohol Consumption_None</th>\n      <th>Medical Conditions_None</th>\n      <th>Medical Conditions_Rheumatoid Arthritis</th>\n      <th>Medications_None</th>\n      <th>Prior Fractures_Yes</th>\n    </tr>\n  </thead>\n  <tbody>\n    <tr>\n      <th>0</th>\n      <td>104866</td>\n      <td>69</td>\n      <td>1</td>\n      <td>0</td>\n      <td>0</td>\n      <td>1</td>\n      <td>1</td>\n      <td>0</td>\n      <td>1</td>\n      <td>1</td>\n      <td>1</td>\n      <td>1</td>\n      <td>1</td>\n      <td>0</td>\n      <td>0</td>\n      <td>1</td>\n      <td>0</td>\n      <td>1</td>\n    </tr>\n    <tr>\n      <th>1</th>\n      <td>101999</td>\n      <td>32</td>\n      <td>1</td>\n      <td>0</td>\n      <td>0</td>\n      <td>1</td>\n      <td>1</td>\n      <td>0</td>\n      <td>1</td>\n      <td>1</td>\n      <td>1</td>\n      <td>1</td>\n      <td>0</td>\n      <td>1</td>\n      <td>1</td>\n      <td>0</td>\n      <td>1</td>\n      <td>1</td>\n    </tr>\n    <tr>\n      <th>2</th>\n      <td>106567</td>\n      <td>89</td>\n      <td>1</td>\n      <td>0</td>\n      <td>1</td>\n      <td>0</td>\n      <td>0</td>\n      <td>1</td>\n      <td>0</td>\n      <td>0</td>\n      <td>1</td>\n      <td>0</td>\n      <td>0</td>\n      <td>0</td>\n      <td>0</td>\n      <td>0</td>\n      <td>0</td>\n      <td>0</td>\n    </tr>\n    <tr>\n      <th>3</th>\n      <td>102316</td>\n      <td>78</td>\n      <td>1</td>\n      <td>0</td>\n      <td>0</td>\n      <td>0</td>\n      <td>0</td>\n      <td>1</td>\n      <td>1</td>\n      <td>0</td>\n      <td>0</td>\n      <td>1</td>\n      <td>1</td>\n      <td>1</td>\n      <td>0</td>\n      <td>1</td>\n      <td>0</td>\n      <td>0</td>\n    </tr>\n    <tr>\n      <th>4</th>\n      <td>101944</td>\n      <td>38</td>\n      <td>1</td>\n      <td>1</td>\n      <td>1</td>\n      <td>1</td>\n      <td>0</td>\n      <td>0</td>\n      <td>0</td>\n      <td>1</td>\n      <td>1</td>\n      <td>0</td>\n      <td>1</td>\n      <td>1</td>\n      <td>0</td>\n      <td>1</td>\n      <td>1</td>\n      <td>1</td>\n    </tr>\n  </tbody>\n</table>\n</div>"
     },
     "execution_count": 328,
     "metadata": {},
     "output_type": "execute_result"
    }
   ],
   "source": [
    "#onehot encoding\n",
    "oneHot = pd.get_dummies(df[listDummies], drop_first=True)\n",
    "df = df.drop(listDummies, axis=1)\n",
    "df = pd.concat([df, oneHot], axis=1)\n",
    "df.head()"
   ],
   "metadata": {
    "collapsed": false,
    "ExecuteTime": {
     "end_time": "2024-04-13T19:03:43.454901400Z",
     "start_time": "2024-04-13T19:03:43.196865900Z"
    }
   },
   "id": "bce746ecd9e43555"
  },
  {
   "cell_type": "code",
   "execution_count": 329,
   "outputs": [],
   "source": [
    "from sklearn.metrics import classification_report, confusion_matrix, roc_auc_score, roc_curve, RocCurveDisplay\n",
    "from sklearn.metrics import recall_score"
   ],
   "metadata": {
    "collapsed": false,
    "ExecuteTime": {
     "end_time": "2024-04-13T19:03:43.456083700Z",
     "start_time": "2024-04-13T19:03:43.213320400Z"
    }
   },
   "id": "972a5c126596f9d3"
  },
  {
   "cell_type": "code",
   "execution_count": 330,
   "outputs": [],
   "source": [
    "Y = df['Osteoporosis']\n",
    "\n",
    "# Definir as variáveis de entrada (features)\n",
    "X = df.drop(['Osteoporosis'], axis=1)"
   ],
   "metadata": {
    "collapsed": false,
    "ExecuteTime": {
     "end_time": "2024-04-13T19:03:43.456083700Z",
     "start_time": "2024-04-13T19:03:43.219732200Z"
    }
   },
   "id": "ebbd5a7a1c8a7f48"
  },
  {
   "cell_type": "markdown",
   "source": [
    "### Dividir os dados em treino e teste"
   ],
   "metadata": {
    "collapsed": false
   },
   "id": "5a05dc9793a9a5e8"
  },
  {
   "cell_type": "code",
   "execution_count": 331,
   "outputs": [],
   "source": [
    "from sklearn.model_selection import train_test_split\n",
    "\n",
    "X_train, X_test, Y_train, Y_test = train_test_split(X, Y, test_size=.3, random_state=15)\n"
   ],
   "metadata": {
    "collapsed": false,
    "ExecuteTime": {
     "end_time": "2024-04-13T19:03:43.487071700Z",
     "start_time": "2024-04-13T19:03:43.226972100Z"
    }
   },
   "id": "789913aa7a1177"
  },
  {
   "cell_type": "markdown",
   "source": [
    "## Busca aleatória de hiperparâmetros\n",
    "\n",
    "----------------------------------------------------------\n",
    "### Espaços de hiperparâmetros"
   ],
   "metadata": {
    "collapsed": false
   },
   "id": "5e5b7d0d568934a"
  },
  {
   "cell_type": "code",
   "execution_count": 332,
   "outputs": [],
   "source": [
    "from scipy.stats import randint, uniform\n",
    "\n",
    "param_dist_xgb = {\n",
    "    'n_estimators': randint(50, 300),\n",
    "    'learning_rate': uniform(0.01, 0.6),\n",
    "    'subsample': uniform(0.3, 0.7),\n",
    "    'max_depth': randint(3, 10),\n",
    "    'colsample_bytree': uniform(0.5, 0.5),\n",
    "    'min_child_weight': randint(1, 6)\n",
    "}\n",
    "\n",
    "param_dist_rf = {\n",
    "    'n_estimators': randint(100, 500),\n",
    "    'max_features': ['sqrt', 'log2', None],  # Updated to remove 'auto'\n",
    "    'max_depth': randint(3, 20),\n",
    "    'min_samples_split': randint(2, 11),\n",
    "    'min_samples_leaf': randint(1, 11)\n",
    "}\n",
    "\n",
    "param_dist_lr = {\n",
    "    'C': uniform(0.01, 10),\n",
    "    'penalty': ['l2'],  \n",
    "    'solver': ['liblinear', 'saga'], \n",
    "    'max_iter': [10000]  \n",
    "}\n",
    "\n",
    "\n"
   ],
   "metadata": {
    "collapsed": false,
    "ExecuteTime": {
     "end_time": "2024-04-13T19:03:43.496495700Z",
     "start_time": "2024-04-13T19:03:43.234699800Z"
    }
   },
   "id": "c3957637b563db8a"
  },
  {
   "cell_type": "markdown",
   "source": [
    "### Escolhendo o Scorer"
   ],
   "metadata": {
    "collapsed": false
   },
   "id": "9d96b17bd129e2e1"
  },
  {
   "cell_type": "code",
   "execution_count": 333,
   "outputs": [],
   "source": [
    "from sklearn.metrics import make_scorer, f1_score, roc_auc_score, average_precision_score,recall_score\n",
    "metric_function = recall_score # Escolher a métrica a ser utilizada\n",
    "scorer = make_scorer(metric_function, pos_label=1)  # pos_label=1 para selecionar a classe positiva"
   ],
   "metadata": {
    "collapsed": false,
    "ExecuteTime": {
     "end_time": "2024-04-13T19:03:43.497497600Z",
     "start_time": "2024-04-13T19:03:43.241697500Z"
    }
   },
   "id": "6056d8e57ed1309f"
  },
  {
   "cell_type": "markdown",
   "source": [
    "### Treinamento do modelo Random Forest"
   ],
   "metadata": {
    "collapsed": false
   },
   "id": "55cac905e1c45a5e"
  },
  {
   "cell_type": "markdown",
   "source": [
    "O número de iterações foi escolhido de tal forma que cada modelo demore aproximadamente o mesmo tempo para treinar.\n",
    "A quantia de folds foi escolhida para ser 5, pois é um valor comum e que não é muito alto."
   ],
   "metadata": {
    "collapsed": false
   },
   "id": "23e58f70b55f3a7c"
  },
  {
   "cell_type": "code",
   "execution_count": 334,
   "outputs": [
    {
     "name": "stdout",
     "output_type": "stream",
     "text": [
      "Fitting 5 folds for each of 12 candidates, totalling 60 fits\n",
      "[CV] END max_depth=9, max_features=sqrt, min_samples_leaf=8, min_samples_split=6, n_estimators=202; total time=   0.2s\n",
      "[CV] END max_depth=9, max_features=sqrt, min_samples_leaf=8, min_samples_split=6, n_estimators=202; total time=   0.2s\n",
      "[CV] END max_depth=9, max_features=sqrt, min_samples_leaf=8, min_samples_split=6, n_estimators=202; total time=   0.2s\n",
      "[CV] END max_depth=9, max_features=sqrt, min_samples_leaf=8, min_samples_split=6, n_estimators=202; total time=   0.3s\n",
      "[CV] END max_depth=9, max_features=sqrt, min_samples_leaf=8, min_samples_split=6, n_estimators=202; total time=   0.3s\n",
      "[CV] END max_depth=13, max_features=None, min_samples_leaf=8, min_samples_split=6, n_estimators=199; total time=   0.4s\n",
      "[CV] END max_depth=13, max_features=None, min_samples_leaf=8, min_samples_split=6, n_estimators=199; total time=   0.4s\n",
      "[CV] END max_depth=13, max_features=None, min_samples_leaf=8, min_samples_split=6, n_estimators=199; total time=   0.4s\n",
      "[CV] END max_depth=13, max_features=None, min_samples_leaf=8, min_samples_split=6, n_estimators=199; total time=   0.4s\n",
      "[CV] END max_depth=13, max_features=None, min_samples_leaf=8, min_samples_split=6, n_estimators=199; total time=   0.4s\n",
      "[CV] END max_depth=10, max_features=None, min_samples_leaf=6, min_samples_split=6, n_estimators=357; total time=   0.8s\n",
      "[CV] END max_depth=10, max_features=None, min_samples_leaf=6, min_samples_split=6, n_estimators=357; total time=   0.8s\n",
      "[CV] END max_depth=10, max_features=None, min_samples_leaf=6, min_samples_split=6, n_estimators=357; total time=   0.8s\n",
      "[CV] END max_depth=10, max_features=None, min_samples_leaf=6, min_samples_split=6, n_estimators=357; total time=   0.8s\n",
      "[CV] END max_depth=10, max_features=None, min_samples_leaf=6, min_samples_split=6, n_estimators=357; total time=   0.8s\n",
      "[CV] END max_depth=14, max_features=log2, min_samples_leaf=6, min_samples_split=3, n_estimators=291; total time=   0.4s\n",
      "[CV] END max_depth=14, max_features=log2, min_samples_leaf=6, min_samples_split=3, n_estimators=291; total time=   0.4s\n",
      "[CV] END max_depth=14, max_features=log2, min_samples_leaf=6, min_samples_split=3, n_estimators=291; total time=   0.4s\n",
      "[CV] END max_depth=14, max_features=log2, min_samples_leaf=6, min_samples_split=3, n_estimators=291; total time=   0.4s\n",
      "[CV] END max_depth=14, max_features=log2, min_samples_leaf=6, min_samples_split=3, n_estimators=291; total time=   0.4s\n",
      "[CV] END max_depth=3, max_features=log2, min_samples_leaf=6, min_samples_split=10, n_estimators=148; total time=   0.1s\n",
      "[CV] END max_depth=3, max_features=log2, min_samples_leaf=6, min_samples_split=10, n_estimators=148; total time=   0.1s\n",
      "[CV] END max_depth=3, max_features=log2, min_samples_leaf=6, min_samples_split=10, n_estimators=148; total time=   0.1s\n",
      "[CV] END max_depth=3, max_features=log2, min_samples_leaf=6, min_samples_split=10, n_estimators=148; total time=   0.1s\n",
      "[CV] END max_depth=3, max_features=log2, min_samples_leaf=6, min_samples_split=10, n_estimators=148; total time=   0.1s\n",
      "[CV] END max_depth=12, max_features=None, min_samples_leaf=3, min_samples_split=8, n_estimators=343; total time=   0.9s\n",
      "[CV] END max_depth=12, max_features=None, min_samples_leaf=3, min_samples_split=8, n_estimators=343; total time=   0.9s\n",
      "[CV] END max_depth=12, max_features=None, min_samples_leaf=3, min_samples_split=8, n_estimators=343; total time=   0.9s\n",
      "[CV] END max_depth=12, max_features=None, min_samples_leaf=3, min_samples_split=8, n_estimators=343; total time=   0.9s\n",
      "[CV] END max_depth=12, max_features=None, min_samples_leaf=3, min_samples_split=8, n_estimators=343; total time=   0.9s\n",
      "[CV] END max_depth=5, max_features=sqrt, min_samples_leaf=3, min_samples_split=8, n_estimators=120; total time=   0.1s\n",
      "[CV] END max_depth=5, max_features=sqrt, min_samples_leaf=3, min_samples_split=8, n_estimators=120; total time=   0.1s\n",
      "[CV] END max_depth=5, max_features=sqrt, min_samples_leaf=3, min_samples_split=8, n_estimators=120; total time=   0.1s\n",
      "[CV] END max_depth=5, max_features=sqrt, min_samples_leaf=3, min_samples_split=8, n_estimators=120; total time=   0.1s\n",
      "[CV] END max_depth=5, max_features=sqrt, min_samples_leaf=3, min_samples_split=8, n_estimators=120; total time=   0.1s\n",
      "[CV] END max_depth=11, max_features=None, min_samples_leaf=2, min_samples_split=5, n_estimators=188; total time=   0.4s\n",
      "[CV] END max_depth=11, max_features=None, min_samples_leaf=2, min_samples_split=5, n_estimators=188; total time=   0.5s\n",
      "[CV] END max_depth=11, max_features=None, min_samples_leaf=2, min_samples_split=5, n_estimators=188; total time=   0.5s\n",
      "[CV] END max_depth=11, max_features=None, min_samples_leaf=2, min_samples_split=5, n_estimators=188; total time=   0.5s\n",
      "[CV] END max_depth=11, max_features=None, min_samples_leaf=2, min_samples_split=5, n_estimators=188; total time=   0.5s\n",
      "[CV] END max_depth=16, max_features=log2, min_samples_leaf=10, min_samples_split=10, n_estimators=445; total time=   0.6s\n",
      "[CV] END max_depth=16, max_features=log2, min_samples_leaf=10, min_samples_split=10, n_estimators=445; total time=   0.6s\n",
      "[CV] END max_depth=16, max_features=log2, min_samples_leaf=10, min_samples_split=10, n_estimators=445; total time=   0.6s\n",
      "[CV] END max_depth=16, max_features=log2, min_samples_leaf=10, min_samples_split=10, n_estimators=445; total time=   0.6s\n",
      "[CV] END max_depth=16, max_features=log2, min_samples_leaf=10, min_samples_split=10, n_estimators=445; total time=   0.6s\n",
      "[CV] END max_depth=4, max_features=None, min_samples_leaf=7, min_samples_split=9, n_estimators=134; total time=   0.2s\n",
      "[CV] END max_depth=4, max_features=None, min_samples_leaf=7, min_samples_split=9, n_estimators=134; total time=   0.2s\n",
      "[CV] END max_depth=4, max_features=None, min_samples_leaf=7, min_samples_split=9, n_estimators=134; total time=   0.2s\n",
      "[CV] END max_depth=4, max_features=None, min_samples_leaf=7, min_samples_split=9, n_estimators=134; total time=   0.2s\n",
      "[CV] END max_depth=4, max_features=None, min_samples_leaf=7, min_samples_split=9, n_estimators=134; total time=   0.2s\n",
      "[CV] END max_depth=16, max_features=sqrt, min_samples_leaf=4, min_samples_split=3, n_estimators=459; total time=   0.7s\n",
      "[CV] END max_depth=16, max_features=sqrt, min_samples_leaf=4, min_samples_split=3, n_estimators=459; total time=   0.7s\n",
      "[CV] END max_depth=16, max_features=sqrt, min_samples_leaf=4, min_samples_split=3, n_estimators=459; total time=   0.7s\n",
      "[CV] END max_depth=16, max_features=sqrt, min_samples_leaf=4, min_samples_split=3, n_estimators=459; total time=   0.7s\n",
      "[CV] END max_depth=16, max_features=sqrt, min_samples_leaf=4, min_samples_split=3, n_estimators=459; total time=   0.7s\n",
      "[CV] END max_depth=6, max_features=log2, min_samples_leaf=6, min_samples_split=7, n_estimators=205; total time=   0.2s\n",
      "[CV] END max_depth=6, max_features=log2, min_samples_leaf=6, min_samples_split=7, n_estimators=205; total time=   0.2s\n",
      "[CV] END max_depth=6, max_features=log2, min_samples_leaf=6, min_samples_split=7, n_estimators=205; total time=   0.2s\n",
      "[CV] END max_depth=6, max_features=log2, min_samples_leaf=6, min_samples_split=7, n_estimators=205; total time=   0.2s\n",
      "[CV] END max_depth=6, max_features=log2, min_samples_leaf=6, min_samples_split=7, n_estimators=205; total time=   0.2s\n",
      "Execution Time: 31.77 seconds\n",
      "Random Forest best score: 1.00\n",
      "Best parameters found: {'max_depth': 4, 'max_features': None, 'min_samples_leaf': 7, 'min_samples_split': 9, 'n_estimators': 134}\n"
     ]
    }
   ],
   "source": [
    "import time\n",
    "from sklearn.model_selection import RandomizedSearchCV\n",
    "from sklearn.ensemble import RandomForestClassifier\n",
    "\n",
    "# Configurando RandomizedSearchCV para RandomForest\n",
    "search_rf = RandomizedSearchCV(RandomForestClassifier(), param_distributions=param_dist_rf,\n",
    "                               n_iter=12, cv=5, random_state=42, scoring=scorer, verbose=2)\n",
    "\n",
    "# Executando a busca aleatória \n",
    "start_time = time.time()\n",
    "search_rf.fit(X_train, Y_train)\n",
    "end_time = time.time()\n",
    "\n",
    "# Tempo total de execução\n",
    "execution_time = end_time - start_time\n",
    "\n",
    "print(f\"Execution Time: {execution_time:.2f} seconds\")\n",
    "print(f\"Random Forest best score: {search_rf.best_score_:.2f}\")\n",
    "print(f\"Best parameters found: {search_rf.best_params_}\")\n"
   ],
   "metadata": {
    "collapsed": false,
    "ExecuteTime": {
     "end_time": "2024-04-13T19:04:15.016047100Z",
     "start_time": "2024-04-13T19:03:43.245967Z"
    }
   },
   "id": "6601b8f419a937e1"
  },
  {
   "cell_type": "markdown",
   "source": [
    "### Treinamento do modelo XGBoost"
   ],
   "metadata": {
    "collapsed": false
   },
   "id": "29471b82bf4fb83e"
  },
  {
   "cell_type": "code",
   "execution_count": 335,
   "outputs": [
    {
     "name": "stdout",
     "output_type": "stream",
     "text": [
      "Fitting 5 folds for each of 58 candidates, totalling 290 fits\n",
      "[CV] END colsample_bytree=0.6872700594236812, learning_rate=0.5804285838459496, max_depth=5, min_child_weight=5, n_estimators=70, subsample=0.40921304830970556; total time=   0.0s\n",
      "[CV] END colsample_bytree=0.6872700594236812, learning_rate=0.5804285838459496, max_depth=5, min_child_weight=5, n_estimators=70, subsample=0.40921304830970556; total time=   0.0s\n",
      "[CV] END colsample_bytree=0.6872700594236812, learning_rate=0.5804285838459496, max_depth=5, min_child_weight=5, n_estimators=70, subsample=0.40921304830970556; total time=   0.0s\n",
      "[CV] END colsample_bytree=0.6872700594236812, learning_rate=0.5804285838459496, max_depth=5, min_child_weight=5, n_estimators=70, subsample=0.40921304830970556; total time=   0.0s\n",
      "[CV] END colsample_bytree=0.6872700594236812, learning_rate=0.5804285838459496, max_depth=5, min_child_weight=5, n_estimators=70, subsample=0.40921304830970556; total time=   0.0s\n",
      "[CV] END colsample_bytree=0.5779972601681014, learning_rate=0.044850167300919674, max_depth=7, min_child_weight=4, n_estimators=153, subsample=0.7956508044572318; total time=   0.0s\n",
      "[CV] END colsample_bytree=0.5779972601681014, learning_rate=0.044850167300919674, max_depth=7, min_child_weight=4, n_estimators=153, subsample=0.7956508044572318; total time=   0.0s\n",
      "[CV] END colsample_bytree=0.5779972601681014, learning_rate=0.044850167300919674, max_depth=7, min_child_weight=4, n_estimators=153, subsample=0.7956508044572318; total time=   0.0s\n",
      "[CV] END colsample_bytree=0.5779972601681014, learning_rate=0.044850167300919674, max_depth=7, min_child_weight=4, n_estimators=153, subsample=0.7956508044572318; total time=   0.0s\n",
      "[CV] END colsample_bytree=0.5779972601681014, learning_rate=0.044850167300919674, max_depth=7, min_child_weight=4, n_estimators=153, subsample=0.7956508044572318; total time=   0.0s\n",
      "[CV] END colsample_bytree=0.5102922471479012, learning_rate=0.5919459112971965, max_depth=6, min_child_weight=2, n_estimators=241, subsample=0.9945480915038523; total time=   0.0s\n",
      "[CV] END colsample_bytree=0.5102922471479012, learning_rate=0.5919459112971965, max_depth=6, min_child_weight=2, n_estimators=241, subsample=0.9945480915038523; total time=   0.0s\n",
      "[CV] END colsample_bytree=0.5102922471479012, learning_rate=0.5919459112971965, max_depth=6, min_child_weight=2, n_estimators=241, subsample=0.9945480915038523; total time=   0.0s\n",
      "[CV] END colsample_bytree=0.5102922471479012, learning_rate=0.5919459112971965, max_depth=6, min_child_weight=2, n_estimators=241, subsample=0.9945480915038523; total time=   0.0s\n",
      "[CV] END colsample_bytree=0.5102922471479012, learning_rate=0.5919459112971965, max_depth=6, min_child_weight=2, n_estimators=241, subsample=0.9945480915038523; total time=   0.0s\n",
      "[CV] END colsample_bytree=0.8087407548138583, learning_rate=0.37699189629296853, max_depth=7, min_child_weight=4, n_estimators=138, subsample=0.5038603981386294; total time=   0.0s\n",
      "[CV] END colsample_bytree=0.8087407548138583, learning_rate=0.37699189629296853, max_depth=7, min_child_weight=4, n_estimators=138, subsample=0.5038603981386294; total time=   0.0s\n",
      "[CV] END colsample_bytree=0.8087407548138583, learning_rate=0.37699189629296853, max_depth=7, min_child_weight=4, n_estimators=138, subsample=0.5038603981386294; total time=   0.0s\n",
      "[CV] END colsample_bytree=0.8087407548138583, learning_rate=0.37699189629296853, max_depth=7, min_child_weight=4, n_estimators=138, subsample=0.5038603981386294; total time=   0.0s\n",
      "[CV] END colsample_bytree=0.8087407548138583, learning_rate=0.37699189629296853, max_depth=7, min_child_weight=4, n_estimators=138, subsample=0.5038603981386294; total time=   0.0s\n",
      "[CV] END colsample_bytree=0.8059264473611898, learning_rate=0.0936963163912251, max_depth=6, min_child_weight=4, n_estimators=257, subsample=0.46293993830121294; total time=   0.0s\n",
      "[CV] END colsample_bytree=0.8059264473611898, learning_rate=0.0936963163912251, max_depth=6, min_child_weight=4, n_estimators=257, subsample=0.46293993830121294; total time=   0.0s\n",
      "[CV] END colsample_bytree=0.8059264473611898, learning_rate=0.0936963163912251, max_depth=6, min_child_weight=4, n_estimators=257, subsample=0.46293993830121294; total time=   0.0s\n",
      "[CV] END colsample_bytree=0.8059264473611898, learning_rate=0.0936963163912251, max_depth=6, min_child_weight=4, n_estimators=257, subsample=0.46293993830121294; total time=   0.0s\n",
      "[CV] END colsample_bytree=0.8059264473611898, learning_rate=0.0936963163912251, max_depth=6, min_child_weight=4, n_estimators=257, subsample=0.46293993830121294; total time=   0.0s\n",
      "[CV] END colsample_bytree=0.5453032172664104, learning_rate=0.3810316055998524, max_depth=6, min_child_weight=4, n_estimators=113, subsample=0.6267340252735859; total time=   0.0s\n",
      "[CV] END colsample_bytree=0.5453032172664104, learning_rate=0.3810316055998524, max_depth=6, min_child_weight=4, n_estimators=113, subsample=0.6267340252735859; total time=   0.0s\n",
      "[CV] END colsample_bytree=0.5453032172664104, learning_rate=0.3810316055998524, max_depth=6, min_child_weight=4, n_estimators=113, subsample=0.6267340252735859; total time=   0.0s\n",
      "[CV] END colsample_bytree=0.5453032172664104, learning_rate=0.3810316055998524, max_depth=6, min_child_weight=4, n_estimators=113, subsample=0.6267340252735859; total time=   0.0s\n",
      "[CV] END colsample_bytree=0.5453032172664104, learning_rate=0.3810316055998524, max_depth=6, min_child_weight=4, n_estimators=113, subsample=0.6267340252735859; total time=   0.0s\n",
      "[CV] END colsample_bytree=0.9299702033681603, learning_rate=0.4181845231526678, max_depth=3, min_child_weight=2, n_estimators=181, subsample=0.959541228979397; total time=   0.0s\n",
      "[CV] END colsample_bytree=0.9299702033681603, learning_rate=0.4181845231526678, max_depth=3, min_child_weight=2, n_estimators=181, subsample=0.959541228979397; total time=   0.0s\n",
      "[CV] END colsample_bytree=0.9299702033681603, learning_rate=0.4181845231526678, max_depth=3, min_child_weight=2, n_estimators=181, subsample=0.959541228979397; total time=   0.0s\n",
      "[CV] END colsample_bytree=0.9299702033681603, learning_rate=0.4181845231526678, max_depth=3, min_child_weight=2, n_estimators=181, subsample=0.959541228979397; total time=   0.0s\n",
      "[CV] END colsample_bytree=0.9299702033681603, learning_rate=0.4181845231526678, max_depth=3, min_child_weight=2, n_estimators=181, subsample=0.959541228979397; total time=   0.0s\n",
      "[CV] END colsample_bytree=0.7816441089227697, learning_rate=0.24124990152394965, max_depth=4, min_child_weight=5, n_estimators=179, subsample=0.7789631185585097; total time=   0.0s\n",
      "[CV] END colsample_bytree=0.7816441089227697, learning_rate=0.24124990152394965, max_depth=4, min_child_weight=5, n_estimators=179, subsample=0.7789631185585097; total time=   0.0s\n",
      "[CV] END colsample_bytree=0.7816441089227697, learning_rate=0.24124990152394965, max_depth=4, min_child_weight=5, n_estimators=179, subsample=0.7789631185585097; total time=   0.0s\n",
      "[CV] END colsample_bytree=0.7816441089227697, learning_rate=0.24124990152394965, max_depth=4, min_child_weight=5, n_estimators=179, subsample=0.7789631185585097; total time=   0.0s\n",
      "[CV] END colsample_bytree=0.7816441089227697, learning_rate=0.24124990152394965, max_depth=4, min_child_weight=5, n_estimators=179, subsample=0.7789631185585097; total time=   0.0s\n",
      "[CV] END colsample_bytree=0.7200762468698007, learning_rate=0.08322294090686728, max_depth=7, min_child_weight=3, n_estimators=255, subsample=0.5737424253012685; total time=   0.1s\n",
      "[CV] END colsample_bytree=0.7200762468698007, learning_rate=0.08322294090686728, max_depth=7, min_child_weight=3, n_estimators=255, subsample=0.5737424253012685; total time=   0.1s\n",
      "[CV] END colsample_bytree=0.7200762468698007, learning_rate=0.08322294090686728, max_depth=7, min_child_weight=3, n_estimators=255, subsample=0.5737424253012685; total time=   0.1s\n",
      "[CV] END colsample_bytree=0.7200762468698007, learning_rate=0.08322294090686728, max_depth=7, min_child_weight=3, n_estimators=255, subsample=0.5737424253012685; total time=   0.1s\n",
      "[CV] END colsample_bytree=0.7200762468698007, learning_rate=0.08322294090686728, max_depth=7, min_child_weight=3, n_estimators=255, subsample=0.5737424253012685; total time=   0.1s\n",
      "[CV] END colsample_bytree=0.5911180438940311, learning_rate=0.46321684619059145, max_depth=8, min_child_weight=2, n_estimators=53, subsample=0.42939811886786894; total time=   0.0s\n",
      "[CV] END colsample_bytree=0.5911180438940311, learning_rate=0.46321684619059145, max_depth=8, min_child_weight=2, n_estimators=53, subsample=0.42939811886786894; total time=   0.0s\n",
      "[CV] END colsample_bytree=0.5911180438940311, learning_rate=0.46321684619059145, max_depth=8, min_child_weight=2, n_estimators=53, subsample=0.42939811886786894; total time=   0.0s\n",
      "[CV] END colsample_bytree=0.5911180438940311, learning_rate=0.46321684619059145, max_depth=8, min_child_weight=2, n_estimators=53, subsample=0.42939811886786894; total time=   0.0s\n",
      "[CV] END colsample_bytree=0.5911180438940311, learning_rate=0.46321684619059145, max_depth=8, min_child_weight=2, n_estimators=53, subsample=0.42939811886786894; total time=   0.0s\n",
      "[CV] END colsample_bytree=0.9847923138822793, learning_rate=0.4750796940166687, max_depth=4, min_child_weight=2, n_estimators=239, subsample=0.9486612060556558; total time=   0.0s\n",
      "[CV] END colsample_bytree=0.9847923138822793, learning_rate=0.4750796940166687, max_depth=4, min_child_weight=2, n_estimators=239, subsample=0.9486612060556558; total time=   0.0s\n",
      "[CV] END colsample_bytree=0.9847923138822793, learning_rate=0.4750796940166687, max_depth=4, min_child_weight=2, n_estimators=239, subsample=0.9486612060556558; total time=   0.0s\n",
      "[CV] END colsample_bytree=0.9847923138822793, learning_rate=0.4750796940166687, max_depth=4, min_child_weight=2, n_estimators=239, subsample=0.9486612060556558; total time=   0.0s\n",
      "[CV] END colsample_bytree=0.9847923138822793, learning_rate=0.4750796940166687, max_depth=4, min_child_weight=2, n_estimators=239, subsample=0.9486612060556558; total time=   0.0s\n",
      "[CV] END colsample_bytree=0.8636359979282104, learning_rate=0.20592446128350123, max_depth=8, min_child_weight=4, n_estimators=298, subsample=0.9728204170445443; total time=   0.1s\n",
      "[CV] END colsample_bytree=0.8636359979282104, learning_rate=0.20592446128350123, max_depth=8, min_child_weight=4, n_estimators=298, subsample=0.9728204170445443; total time=   0.1s\n",
      "[CV] END colsample_bytree=0.8636359979282104, learning_rate=0.20592446128350123, max_depth=8, min_child_weight=4, n_estimators=298, subsample=0.9728204170445443; total time=   0.1s\n",
      "[CV] END colsample_bytree=0.8636359979282104, learning_rate=0.20592446128350123, max_depth=8, min_child_weight=4, n_estimators=298, subsample=0.9728204170445443; total time=   0.1s\n",
      "[CV] END colsample_bytree=0.8636359979282104, learning_rate=0.20592446128350123, max_depth=8, min_child_weight=4, n_estimators=298, subsample=0.9728204170445443; total time=   0.1s\n",
      "[CV] END colsample_bytree=0.9222669243390758, learning_rate=0.4583920660824285, max_depth=9, min_child_weight=5, n_estimators=73, subsample=0.5497273286855124; total time=   0.0s\n",
      "[CV] END colsample_bytree=0.9222669243390758, learning_rate=0.4583920660824285, max_depth=9, min_child_weight=5, n_estimators=73, subsample=0.5497273286855124; total time=   0.0s\n",
      "[CV] END colsample_bytree=0.9222669243390758, learning_rate=0.4583920660824285, max_depth=9, min_child_weight=5, n_estimators=73, subsample=0.5497273286855124; total time=   0.0s\n",
      "[CV] END colsample_bytree=0.9222669243390758, learning_rate=0.4583920660824285, max_depth=9, min_child_weight=5, n_estimators=73, subsample=0.5497273286855124; total time=   0.0s\n",
      "[CV] END colsample_bytree=0.9222669243390758, learning_rate=0.4583920660824285, max_depth=9, min_child_weight=5, n_estimators=73, subsample=0.5497273286855124; total time=   0.0s\n",
      "[CV] END colsample_bytree=0.6404672548436904, learning_rate=0.3356176498949491, max_depth=3, min_child_weight=5, n_estimators=64, subsample=0.4156868573441017; total time=   0.0s\n",
      "[CV] END colsample_bytree=0.6404672548436904, learning_rate=0.3356176498949491, max_depth=3, min_child_weight=5, n_estimators=64, subsample=0.4156868573441017; total time=   0.0s\n",
      "[CV] END colsample_bytree=0.6404672548436904, learning_rate=0.3356176498949491, max_depth=3, min_child_weight=5, n_estimators=64, subsample=0.4156868573441017; total time=   0.0s\n",
      "[CV] END colsample_bytree=0.6404672548436904, learning_rate=0.3356176498949491, max_depth=3, min_child_weight=5, n_estimators=64, subsample=0.4156868573441017; total time=   0.0s\n",
      "[CV] END colsample_bytree=0.6404672548436904, learning_rate=0.3356176498949491, max_depth=3, min_child_weight=5, n_estimators=64, subsample=0.4156868573441017; total time=   0.0s\n",
      "[CV] END colsample_bytree=0.5078182033705969, learning_rate=0.2640408884238218, max_depth=3, min_child_weight=4, n_estimators=185, subsample=0.3038654819865217; total time=   0.0s\n",
      "[CV] END colsample_bytree=0.5078182033705969, learning_rate=0.2640408884238218, max_depth=3, min_child_weight=4, n_estimators=185, subsample=0.3038654819865217; total time=   0.0s\n",
      "[CV] END colsample_bytree=0.5078182033705969, learning_rate=0.2640408884238218, max_depth=3, min_child_weight=4, n_estimators=185, subsample=0.3038654819865217; total time=   0.0s\n",
      "[CV] END colsample_bytree=0.5078182033705969, learning_rate=0.2640408884238218, max_depth=3, min_child_weight=4, n_estimators=185, subsample=0.3038654819865217; total time=   0.0s\n",
      "[CV] END colsample_bytree=0.5078182033705969, learning_rate=0.2640408884238218, max_depth=3, min_child_weight=4, n_estimators=185, subsample=0.3038654819865217; total time=   0.0s\n",
      "[CV] END colsample_bytree=0.9077307142274171, learning_rate=0.4341144063085703, max_depth=5, min_child_weight=3, n_estimators=82, subsample=0.7241719823467079; total time=   0.0s\n",
      "[CV] END colsample_bytree=0.9077307142274171, learning_rate=0.4341144063085703, max_depth=5, min_child_weight=3, n_estimators=82, subsample=0.7241719823467079; total time=   0.0s\n",
      "[CV] END colsample_bytree=0.9077307142274171, learning_rate=0.4341144063085703, max_depth=5, min_child_weight=3, n_estimators=82, subsample=0.7241719823467079; total time=   0.0s\n",
      "[CV] END colsample_bytree=0.9077307142274171, learning_rate=0.4341144063085703, max_depth=5, min_child_weight=3, n_estimators=82, subsample=0.7241719823467079; total time=   0.0s\n",
      "[CV] END colsample_bytree=0.9077307142274171, learning_rate=0.4341144063085703, max_depth=5, min_child_weight=3, n_estimators=82, subsample=0.7241719823467079; total time=   0.0s\n",
      "[CV] END colsample_bytree=0.9631504392566745, learning_rate=0.4006462153011667, max_depth=6, min_child_weight=1, n_estimators=121, subsample=0.6146154718967423; total time=   0.0s\n",
      "[CV] END colsample_bytree=0.9631504392566745, learning_rate=0.4006462153011667, max_depth=6, min_child_weight=1, n_estimators=121, subsample=0.6146154718967423; total time=   0.0s\n",
      "[CV] END colsample_bytree=0.9631504392566745, learning_rate=0.4006462153011667, max_depth=6, min_child_weight=1, n_estimators=121, subsample=0.6146154718967423; total time=   0.0s\n",
      "[CV] END colsample_bytree=0.9631504392566745, learning_rate=0.4006462153011667, max_depth=6, min_child_weight=1, n_estimators=121, subsample=0.6146154718967423; total time=   0.0s\n",
      "[CV] END colsample_bytree=0.9631504392566745, learning_rate=0.4006462153011667, max_depth=6, min_child_weight=1, n_estimators=121, subsample=0.6146154718967423; total time=   0.0s\n",
      "[CV] END colsample_bytree=0.5477050582452057, learning_rate=0.23249095131895983, max_depth=8, min_child_weight=5, n_estimators=148, subsample=0.7139084513954089; total time=   0.0s\n",
      "[CV] END colsample_bytree=0.5477050582452057, learning_rate=0.23249095131895983, max_depth=8, min_child_weight=5, n_estimators=148, subsample=0.7139084513954089; total time=   0.0s\n",
      "[CV] END colsample_bytree=0.5477050582452057, learning_rate=0.23249095131895983, max_depth=8, min_child_weight=5, n_estimators=148, subsample=0.7139084513954089; total time=   0.0s\n",
      "[CV] END colsample_bytree=0.5477050582452057, learning_rate=0.23249095131895983, max_depth=8, min_child_weight=5, n_estimators=148, subsample=0.7139084513954089; total time=   0.0s\n",
      "[CV] END colsample_bytree=0.5477050582452057, learning_rate=0.23249095131895983, max_depth=8, min_child_weight=5, n_estimators=148, subsample=0.7139084513954089; total time=   0.0s\n",
      "[CV] END colsample_bytree=0.6373608964950321, learning_rate=0.3467460555086207, max_depth=5, min_child_weight=5, n_estimators=224, subsample=0.7992713510560965; total time=   0.0s\n",
      "[CV] END colsample_bytree=0.6373608964950321, learning_rate=0.3467460555086207, max_depth=5, min_child_weight=5, n_estimators=224, subsample=0.7992713510560965; total time=   0.0s\n",
      "[CV] END colsample_bytree=0.6373608964950321, learning_rate=0.3467460555086207, max_depth=5, min_child_weight=5, n_estimators=224, subsample=0.7992713510560965; total time=   0.0s\n",
      "[CV] END colsample_bytree=0.6373608964950321, learning_rate=0.3467460555086207, max_depth=5, min_child_weight=5, n_estimators=224, subsample=0.7992713510560965; total time=   0.0s\n",
      "[CV] END colsample_bytree=0.6373608964950321, learning_rate=0.3467460555086207, max_depth=5, min_child_weight=5, n_estimators=224, subsample=0.7992713510560965; total time=   0.0s\n",
      "[CV] END colsample_bytree=0.8803925243084487, learning_rate=0.34676631854169776, max_depth=9, min_child_weight=3, n_estimators=186, subsample=0.7974640227800511; total time=   0.0s\n",
      "[CV] END colsample_bytree=0.8803925243084487, learning_rate=0.34676631854169776, max_depth=9, min_child_weight=3, n_estimators=186, subsample=0.7974640227800511; total time=   0.0s\n",
      "[CV] END colsample_bytree=0.8803925243084487, learning_rate=0.34676631854169776, max_depth=9, min_child_weight=3, n_estimators=186, subsample=0.7974640227800511; total time=   0.0s\n",
      "[CV] END colsample_bytree=0.8803925243084487, learning_rate=0.34676631854169776, max_depth=9, min_child_weight=3, n_estimators=186, subsample=0.7974640227800511; total time=   0.0s\n",
      "[CV] END colsample_bytree=0.8803925243084487, learning_rate=0.34676631854169776, max_depth=9, min_child_weight=3, n_estimators=186, subsample=0.7974640227800511; total time=   0.0s\n",
      "[CV] END colsample_bytree=0.5554454104059157, learning_rate=0.2736019011194621, max_depth=5, min_child_weight=1, n_estimators=101, subsample=0.6942929003834686; total time=   0.0s\n",
      "[CV] END colsample_bytree=0.5554454104059157, learning_rate=0.2736019011194621, max_depth=5, min_child_weight=1, n_estimators=101, subsample=0.6942929003834686; total time=   0.0s\n",
      "[CV] END colsample_bytree=0.5554454104059157, learning_rate=0.2736019011194621, max_depth=5, min_child_weight=1, n_estimators=101, subsample=0.6942929003834686; total time=   0.0s\n",
      "[CV] END colsample_bytree=0.5554454104059157, learning_rate=0.2736019011194621, max_depth=5, min_child_weight=1, n_estimators=101, subsample=0.6942929003834686; total time=   0.0s\n",
      "[CV] END colsample_bytree=0.5554454104059157, learning_rate=0.2736019011194621, max_depth=5, min_child_weight=1, n_estimators=101, subsample=0.6942929003834686; total time=   0.0s\n",
      "[CV] END colsample_bytree=0.8477580432130638, learning_rate=0.0935988726435254, max_depth=9, min_child_weight=5, n_estimators=192, subsample=0.828885796980134; total time=   0.0s\n",
      "[CV] END colsample_bytree=0.8477580432130638, learning_rate=0.0935988726435254, max_depth=9, min_child_weight=5, n_estimators=192, subsample=0.828885796980134; total time=   0.0s\n",
      "[CV] END colsample_bytree=0.8477580432130638, learning_rate=0.0935988726435254, max_depth=9, min_child_weight=5, n_estimators=192, subsample=0.828885796980134; total time=   0.0s\n",
      "[CV] END colsample_bytree=0.8477580432130638, learning_rate=0.0935988726435254, max_depth=9, min_child_weight=5, n_estimators=192, subsample=0.828885796980134; total time=   0.0s\n",
      "[CV] END colsample_bytree=0.8477580432130638, learning_rate=0.0935988726435254, max_depth=9, min_child_weight=5, n_estimators=192, subsample=0.828885796980134; total time=   0.0s\n",
      "[CV] END colsample_bytree=0.6143990827458112, learning_rate=0.0561879458972758, max_depth=5, min_child_weight=3, n_estimators=135, subsample=0.9163274873106804; total time=   0.0s\n",
      "[CV] END colsample_bytree=0.6143990827458112, learning_rate=0.0561879458972758, max_depth=5, min_child_weight=3, n_estimators=135, subsample=0.9163274873106804; total time=   0.0s\n",
      "[CV] END colsample_bytree=0.6143990827458112, learning_rate=0.0561879458972758, max_depth=5, min_child_weight=3, n_estimators=135, subsample=0.9163274873106804; total time=   0.0s\n",
      "[CV] END colsample_bytree=0.6143990827458112, learning_rate=0.0561879458972758, max_depth=5, min_child_weight=3, n_estimators=135, subsample=0.9163274873106804; total time=   0.0s\n",
      "[CV] END colsample_bytree=0.6143990827458112, learning_rate=0.0561879458972758, max_depth=5, min_child_weight=3, n_estimators=135, subsample=0.9163274873106804; total time=   0.0s\n",
      "[CV] END colsample_bytree=0.8121770240668966, learning_rate=0.1873802115026284, max_depth=7, min_child_weight=4, n_estimators=77, subsample=0.4529083060517835; total time=   0.0s\n",
      "[CV] END colsample_bytree=0.8121770240668966, learning_rate=0.1873802115026284, max_depth=7, min_child_weight=4, n_estimators=77, subsample=0.4529083060517835; total time=   0.0s\n",
      "[CV] END colsample_bytree=0.8121770240668966, learning_rate=0.1873802115026284, max_depth=7, min_child_weight=4, n_estimators=77, subsample=0.4529083060517835; total time=   0.0s\n",
      "[CV] END colsample_bytree=0.8121770240668966, learning_rate=0.1873802115026284, max_depth=7, min_child_weight=4, n_estimators=77, subsample=0.4529083060517835; total time=   0.0s\n",
      "[CV] END colsample_bytree=0.8121770240668966, learning_rate=0.1873802115026284, max_depth=7, min_child_weight=4, n_estimators=77, subsample=0.4529083060517835; total time=   0.0s\n",
      "[CV] END colsample_bytree=0.7082549739351831, learning_rate=0.5399681553513209, max_depth=4, min_child_weight=4, n_estimators=266, subsample=0.5226024324803047; total time=   0.0s\n",
      "[CV] END colsample_bytree=0.7082549739351831, learning_rate=0.5399681553513209, max_depth=4, min_child_weight=4, n_estimators=266, subsample=0.5226024324803047; total time=   0.0s\n",
      "[CV] END colsample_bytree=0.7082549739351831, learning_rate=0.5399681553513209, max_depth=4, min_child_weight=4, n_estimators=266, subsample=0.5226024324803047; total time=   0.0s\n",
      "[CV] END colsample_bytree=0.7082549739351831, learning_rate=0.5399681553513209, max_depth=4, min_child_weight=4, n_estimators=266, subsample=0.5226024324803047; total time=   0.0s\n",
      "[CV] END colsample_bytree=0.7082549739351831, learning_rate=0.5399681553513209, max_depth=4, min_child_weight=4, n_estimators=266, subsample=0.5226024324803047; total time=   0.0s\n",
      "[CV] END colsample_bytree=0.5550259622638384, learning_rate=0.146761097525165, max_depth=8, min_child_weight=1, n_estimators=165, subsample=0.5467981994339183; total time=   0.0s\n",
      "[CV] END colsample_bytree=0.5550259622638384, learning_rate=0.146761097525165, max_depth=8, min_child_weight=1, n_estimators=165, subsample=0.5467981994339183; total time=   0.0s\n",
      "[CV] END colsample_bytree=0.5550259622638384, learning_rate=0.146761097525165, max_depth=8, min_child_weight=1, n_estimators=165, subsample=0.5467981994339183; total time=   0.0s\n",
      "[CV] END colsample_bytree=0.5550259622638384, learning_rate=0.146761097525165, max_depth=8, min_child_weight=1, n_estimators=165, subsample=0.5467981994339183; total time=   0.0s\n",
      "[CV] END colsample_bytree=0.5550259622638384, learning_rate=0.146761097525165, max_depth=8, min_child_weight=1, n_estimators=165, subsample=0.5467981994339183; total time=   0.0s\n",
      "[CV] END colsample_bytree=0.6523906290790145, learning_rate=0.10879351188576503, max_depth=5, min_child_weight=1, n_estimators=111, subsample=0.45547546732951116; total time=   0.0s\n",
      "[CV] END colsample_bytree=0.6523906290790145, learning_rate=0.10879351188576503, max_depth=5, min_child_weight=1, n_estimators=111, subsample=0.45547546732951116; total time=   0.0s\n",
      "[CV] END colsample_bytree=0.6523906290790145, learning_rate=0.10879351188576503, max_depth=5, min_child_weight=1, n_estimators=111, subsample=0.45547546732951116; total time=   0.0s\n",
      "[CV] END colsample_bytree=0.6523906290790145, learning_rate=0.10879351188576503, max_depth=5, min_child_weight=1, n_estimators=111, subsample=0.45547546732951116; total time=   0.0s\n",
      "[CV] END colsample_bytree=0.6523906290790145, learning_rate=0.10879351188576503, max_depth=5, min_child_weight=1, n_estimators=111, subsample=0.45547546732951116; total time=   0.0s\n",
      "[CV] END colsample_bytree=0.5599326836668415, learning_rate=0.21256910284217678, max_depth=9, min_child_weight=3, n_estimators=167, subsample=0.45313495370114915; total time=   0.0s\n",
      "[CV] END colsample_bytree=0.5599326836668415, learning_rate=0.21256910284217678, max_depth=9, min_child_weight=3, n_estimators=167, subsample=0.45313495370114915; total time=   0.0s\n",
      "[CV] END colsample_bytree=0.5599326836668415, learning_rate=0.21256910284217678, max_depth=9, min_child_weight=3, n_estimators=167, subsample=0.45313495370114915; total time=   0.0s\n",
      "[CV] END colsample_bytree=0.5599326836668415, learning_rate=0.21256910284217678, max_depth=9, min_child_weight=3, n_estimators=167, subsample=0.45313495370114915; total time=   0.0s\n",
      "[CV] END colsample_bytree=0.5599326836668415, learning_rate=0.21256910284217678, max_depth=9, min_child_weight=3, n_estimators=167, subsample=0.45313495370114915; total time=   0.0s\n",
      "[CV] END colsample_bytree=0.7790510010086706, learning_rate=0.2523017026348245, max_depth=8, min_child_weight=1, n_estimators=235, subsample=0.9737131064594777; total time=   0.1s\n",
      "[CV] END colsample_bytree=0.7790510010086706, learning_rate=0.2523017026348245, max_depth=8, min_child_weight=1, n_estimators=235, subsample=0.9737131064594777; total time=   0.1s\n",
      "[CV] END colsample_bytree=0.7790510010086706, learning_rate=0.2523017026348245, max_depth=8, min_child_weight=1, n_estimators=235, subsample=0.9737131064594777; total time=   0.1s\n",
      "[CV] END colsample_bytree=0.7790510010086706, learning_rate=0.2523017026348245, max_depth=8, min_child_weight=1, n_estimators=235, subsample=0.9737131064594777; total time=   0.1s\n",
      "[CV] END colsample_bytree=0.7790510010086706, learning_rate=0.2523017026348245, max_depth=8, min_child_weight=1, n_estimators=235, subsample=0.9737131064594777; total time=   0.1s\n",
      "[CV] END colsample_bytree=0.6258911479126821, learning_rate=0.30834910353543127, max_depth=3, min_child_weight=5, n_estimators=162, subsample=0.9984183395342592; total time=   0.0s\n",
      "[CV] END colsample_bytree=0.6258911479126821, learning_rate=0.30834910353543127, max_depth=3, min_child_weight=5, n_estimators=162, subsample=0.9984183395342592; total time=   0.0s\n",
      "[CV] END colsample_bytree=0.6258911479126821, learning_rate=0.30834910353543127, max_depth=3, min_child_weight=5, n_estimators=162, subsample=0.9984183395342592; total time=   0.0s\n",
      "[CV] END colsample_bytree=0.6258911479126821, learning_rate=0.30834910353543127, max_depth=3, min_child_weight=5, n_estimators=162, subsample=0.9984183395342592; total time=   0.0s\n",
      "[CV] END colsample_bytree=0.6258911479126821, learning_rate=0.30834910353543127, max_depth=3, min_child_weight=5, n_estimators=162, subsample=0.9984183395342592; total time=   0.0s\n",
      "[CV] END colsample_bytree=0.6333905071376424, learning_rate=0.5959689734995918, max_depth=6, min_child_weight=5, n_estimators=273, subsample=0.9357861201766575; total time=   0.0s\n",
      "[CV] END colsample_bytree=0.6333905071376424, learning_rate=0.5959689734995918, max_depth=6, min_child_weight=5, n_estimators=273, subsample=0.9357861201766575; total time=   0.0s\n",
      "[CV] END colsample_bytree=0.6333905071376424, learning_rate=0.5959689734995918, max_depth=6, min_child_weight=5, n_estimators=273, subsample=0.9357861201766575; total time=   0.0s\n",
      "[CV] END colsample_bytree=0.6333905071376424, learning_rate=0.5959689734995918, max_depth=6, min_child_weight=5, n_estimators=273, subsample=0.9357861201766575; total time=   0.0s\n",
      "[CV] END colsample_bytree=0.6333905071376424, learning_rate=0.5959689734995918, max_depth=6, min_child_weight=5, n_estimators=273, subsample=0.9357861201766575; total time=   0.0s\n",
      "[CV] END colsample_bytree=0.6197809453334862, learning_rate=0.09693692325473385, max_depth=6, min_child_weight=2, n_estimators=209, subsample=0.6870251623499295; total time=   0.0s\n",
      "[CV] END colsample_bytree=0.6197809453334862, learning_rate=0.09693692325473385, max_depth=6, min_child_weight=2, n_estimators=209, subsample=0.6870251623499295; total time=   0.0s\n",
      "[CV] END colsample_bytree=0.6197809453334862, learning_rate=0.09693692325473385, max_depth=6, min_child_weight=2, n_estimators=209, subsample=0.6870251623499295; total time=   0.0s\n",
      "[CV] END colsample_bytree=0.6197809453334862, learning_rate=0.09693692325473385, max_depth=6, min_child_weight=2, n_estimators=209, subsample=0.6870251623499295; total time=   0.0s\n",
      "[CV] END colsample_bytree=0.6197809453334862, learning_rate=0.09693692325473385, max_depth=6, min_child_weight=2, n_estimators=209, subsample=0.6870251623499295; total time=   0.0s\n",
      "[CV] END colsample_bytree=0.7963483619396967, learning_rate=0.05851199579962915, max_depth=5, min_child_weight=1, n_estimators=87, subsample=0.5574481929034772; total time=   0.0s\n",
      "[CV] END colsample_bytree=0.7963483619396967, learning_rate=0.05851199579962915, max_depth=5, min_child_weight=1, n_estimators=87, subsample=0.5574481929034772; total time=   0.0s\n",
      "[CV] END colsample_bytree=0.7963483619396967, learning_rate=0.05851199579962915, max_depth=5, min_child_weight=1, n_estimators=87, subsample=0.5574481929034772; total time=   0.0s\n",
      "[CV] END colsample_bytree=0.7963483619396967, learning_rate=0.05851199579962915, max_depth=5, min_child_weight=1, n_estimators=87, subsample=0.5574481929034772; total time=   0.0s\n",
      "[CV] END colsample_bytree=0.7963483619396967, learning_rate=0.05851199579962915, max_depth=5, min_child_weight=1, n_estimators=87, subsample=0.5574481929034772; total time=   0.0s\n",
      "[CV] END colsample_bytree=0.8161529152967897, learning_rate=0.3901178264565368, max_depth=5, min_child_weight=1, n_estimators=250, subsample=0.5245460454802151; total time=   0.0s\n",
      "[CV] END colsample_bytree=0.8161529152967897, learning_rate=0.3901178264565368, max_depth=5, min_child_weight=1, n_estimators=250, subsample=0.5245460454802151; total time=   0.0s\n",
      "[CV] END colsample_bytree=0.8161529152967897, learning_rate=0.3901178264565368, max_depth=5, min_child_weight=1, n_estimators=250, subsample=0.5245460454802151; total time=   0.0s\n",
      "[CV] END colsample_bytree=0.8161529152967897, learning_rate=0.3901178264565368, max_depth=5, min_child_weight=1, n_estimators=250, subsample=0.5245460454802151; total time=   0.0s\n",
      "[CV] END colsample_bytree=0.8161529152967897, learning_rate=0.3901178264565368, max_depth=5, min_child_weight=1, n_estimators=250, subsample=0.5245460454802151; total time=   0.0s\n",
      "[CV] END colsample_bytree=0.5932592551999272, learning_rate=0.034465084932858346, max_depth=6, min_child_weight=4, n_estimators=236, subsample=0.4541687332958838; total time=   0.0s\n",
      "[CV] END colsample_bytree=0.5932592551999272, learning_rate=0.034465084932858346, max_depth=6, min_child_weight=4, n_estimators=236, subsample=0.4541687332958838; total time=   0.0s\n",
      "[CV] END colsample_bytree=0.5932592551999272, learning_rate=0.034465084932858346, max_depth=6, min_child_weight=4, n_estimators=236, subsample=0.4541687332958838; total time=   0.0s\n",
      "[CV] END colsample_bytree=0.5932592551999272, learning_rate=0.034465084932858346, max_depth=6, min_child_weight=4, n_estimators=236, subsample=0.4541687332958838; total time=   0.0s\n",
      "[CV] END colsample_bytree=0.5932592551999272, learning_rate=0.034465084932858346, max_depth=6, min_child_weight=4, n_estimators=236, subsample=0.4541687332958838; total time=   0.0s\n",
      "[CV] END colsample_bytree=0.855574766219009, learning_rate=0.4957006276838292, max_depth=6, min_child_weight=4, n_estimators=282, subsample=0.7836564166717261; total time=   0.0s\n",
      "[CV] END colsample_bytree=0.855574766219009, learning_rate=0.4957006276838292, max_depth=6, min_child_weight=4, n_estimators=282, subsample=0.7836564166717261; total time=   0.0s\n",
      "[CV] END colsample_bytree=0.855574766219009, learning_rate=0.4957006276838292, max_depth=6, min_child_weight=4, n_estimators=282, subsample=0.7836564166717261; total time=   0.1s\n",
      "[CV] END colsample_bytree=0.855574766219009, learning_rate=0.4957006276838292, max_depth=6, min_child_weight=4, n_estimators=282, subsample=0.7836564166717261; total time=   0.0s\n",
      "[CV] END colsample_bytree=0.855574766219009, learning_rate=0.4957006276838292, max_depth=6, min_child_weight=4, n_estimators=282, subsample=0.7836564166717261; total time=   0.1s\n",
      "[CV] END colsample_bytree=0.6933676731502687, learning_rate=0.5720379932420407, max_depth=3, min_child_weight=3, n_estimators=269, subsample=0.8146512834685404; total time=   0.0s\n",
      "[CV] END colsample_bytree=0.6933676731502687, learning_rate=0.5720379932420407, max_depth=3, min_child_weight=3, n_estimators=269, subsample=0.8146512834685404; total time=   0.0s\n",
      "[CV] END colsample_bytree=0.6933676731502687, learning_rate=0.5720379932420407, max_depth=3, min_child_weight=3, n_estimators=269, subsample=0.8146512834685404; total time=   0.0s\n",
      "[CV] END colsample_bytree=0.6933676731502687, learning_rate=0.5720379932420407, max_depth=3, min_child_weight=3, n_estimators=269, subsample=0.8146512834685404; total time=   0.0s\n",
      "[CV] END colsample_bytree=0.6933676731502687, learning_rate=0.5720379932420407, max_depth=3, min_child_weight=3, n_estimators=269, subsample=0.8146512834685404; total time=   0.0s\n",
      "[CV] END colsample_bytree=0.6045358103688568, learning_rate=0.3348687842965395, max_depth=4, min_child_weight=3, n_estimators=56, subsample=0.7619888322239252; total time=   0.0s\n",
      "[CV] END colsample_bytree=0.6045358103688568, learning_rate=0.3348687842965395, max_depth=4, min_child_weight=3, n_estimators=56, subsample=0.7619888322239252; total time=   0.0s\n",
      "[CV] END colsample_bytree=0.6045358103688568, learning_rate=0.3348687842965395, max_depth=4, min_child_weight=3, n_estimators=56, subsample=0.7619888322239252; total time=   0.0s\n",
      "[CV] END colsample_bytree=0.6045358103688568, learning_rate=0.3348687842965395, max_depth=4, min_child_weight=3, n_estimators=56, subsample=0.7619888322239252; total time=   0.0s\n",
      "[CV] END colsample_bytree=0.6045358103688568, learning_rate=0.3348687842965395, max_depth=4, min_child_weight=3, n_estimators=56, subsample=0.7619888322239252; total time=   0.0s\n",
      "[CV] END colsample_bytree=0.9086111001006079, learning_rate=0.3431204869596774, max_depth=6, min_child_weight=1, n_estimators=51, subsample=0.997377589830547; total time=   0.0s\n",
      "[CV] END colsample_bytree=0.9086111001006079, learning_rate=0.3431204869596774, max_depth=6, min_child_weight=1, n_estimators=51, subsample=0.997377589830547; total time=   0.0s\n",
      "[CV] END colsample_bytree=0.9086111001006079, learning_rate=0.3431204869596774, max_depth=6, min_child_weight=1, n_estimators=51, subsample=0.997377589830547; total time=   0.0s\n",
      "[CV] END colsample_bytree=0.9086111001006079, learning_rate=0.3431204869596774, max_depth=6, min_child_weight=1, n_estimators=51, subsample=0.997377589830547; total time=   0.0s\n",
      "[CV] END colsample_bytree=0.9086111001006079, learning_rate=0.3431204869596774, max_depth=6, min_child_weight=1, n_estimators=51, subsample=0.997377589830547; total time=   0.0s\n",
      "[CV] END colsample_bytree=0.9827096756443968, learning_rate=0.3449760721642586, max_depth=5, min_child_weight=1, n_estimators=282, subsample=0.5444467022288626; total time=   0.1s\n",
      "[CV] END colsample_bytree=0.9827096756443968, learning_rate=0.3449760721642586, max_depth=5, min_child_weight=1, n_estimators=282, subsample=0.5444467022288626; total time=   0.1s\n",
      "[CV] END colsample_bytree=0.9827096756443968, learning_rate=0.3449760721642586, max_depth=5, min_child_weight=1, n_estimators=282, subsample=0.5444467022288626; total time=   0.1s\n",
      "[CV] END colsample_bytree=0.9827096756443968, learning_rate=0.3449760721642586, max_depth=5, min_child_weight=1, n_estimators=282, subsample=0.5444467022288626; total time=   0.1s\n",
      "[CV] END colsample_bytree=0.9827096756443968, learning_rate=0.3449760721642586, max_depth=5, min_child_weight=1, n_estimators=282, subsample=0.5444467022288626; total time=   0.1s\n",
      "[CV] END colsample_bytree=0.8629778394351197, learning_rate=0.5482661559715463, max_depth=8, min_child_weight=1, n_estimators=201, subsample=0.8956499141372589; total time=   0.0s\n",
      "[CV] END colsample_bytree=0.8629778394351197, learning_rate=0.5482661559715463, max_depth=8, min_child_weight=1, n_estimators=201, subsample=0.8956499141372589; total time=   0.0s\n",
      "[CV] END colsample_bytree=0.8629778394351197, learning_rate=0.5482661559715463, max_depth=8, min_child_weight=1, n_estimators=201, subsample=0.8956499141372589; total time=   0.0s\n",
      "[CV] END colsample_bytree=0.8629778394351197, learning_rate=0.5482661559715463, max_depth=8, min_child_weight=1, n_estimators=201, subsample=0.8956499141372589; total time=   0.0s\n",
      "[CV] END colsample_bytree=0.8629778394351197, learning_rate=0.5482661559715463, max_depth=8, min_child_weight=1, n_estimators=201, subsample=0.8956499141372589; total time=   0.0s\n",
      "[CV] END colsample_bytree=0.9678174971104738, learning_rate=0.4812043906683661, max_depth=6, min_child_weight=3, n_estimators=161, subsample=0.37103008000622245; total time=   0.0s\n",
      "[CV] END colsample_bytree=0.9678174971104738, learning_rate=0.4812043906683661, max_depth=6, min_child_weight=3, n_estimators=161, subsample=0.37103008000622245; total time=   0.0s\n",
      "[CV] END colsample_bytree=0.9678174971104738, learning_rate=0.4812043906683661, max_depth=6, min_child_weight=3, n_estimators=161, subsample=0.37103008000622245; total time=   0.0s\n",
      "[CV] END colsample_bytree=0.9678174971104738, learning_rate=0.4812043906683661, max_depth=6, min_child_weight=3, n_estimators=161, subsample=0.37103008000622245; total time=   0.0s\n",
      "[CV] END colsample_bytree=0.9678174971104738, learning_rate=0.4812043906683661, max_depth=6, min_child_weight=3, n_estimators=161, subsample=0.37103008000622245; total time=   0.0s\n",
      "[CV] END colsample_bytree=0.8317508845540279, learning_rate=0.013036950307731212, max_depth=8, min_child_weight=2, n_estimators=243, subsample=0.7843266383848853; total time=   0.1s\n",
      "[CV] END colsample_bytree=0.8317508845540279, learning_rate=0.013036950307731212, max_depth=8, min_child_weight=2, n_estimators=243, subsample=0.7843266383848853; total time=   0.1s\n",
      "[CV] END colsample_bytree=0.8317508845540279, learning_rate=0.013036950307731212, max_depth=8, min_child_weight=2, n_estimators=243, subsample=0.7843266383848853; total time=   0.1s\n",
      "[CV] END colsample_bytree=0.8317508845540279, learning_rate=0.013036950307731212, max_depth=8, min_child_weight=2, n_estimators=243, subsample=0.7843266383848853; total time=   0.1s\n",
      "[CV] END colsample_bytree=0.8317508845540279, learning_rate=0.013036950307731212, max_depth=8, min_child_weight=2, n_estimators=243, subsample=0.7843266383848853; total time=   0.1s\n",
      "[CV] END colsample_bytree=0.8259806297513003, learning_rate=0.14456158567633587, max_depth=3, min_child_weight=4, n_estimators=82, subsample=0.6457256006284042; total time=   0.0s\n",
      "[CV] END colsample_bytree=0.8259806297513003, learning_rate=0.14456158567633587, max_depth=3, min_child_weight=4, n_estimators=82, subsample=0.6457256006284042; total time=   0.0s\n",
      "[CV] END colsample_bytree=0.8259806297513003, learning_rate=0.14456158567633587, max_depth=3, min_child_weight=4, n_estimators=82, subsample=0.6457256006284042; total time=   0.0s\n",
      "[CV] END colsample_bytree=0.8259806297513003, learning_rate=0.14456158567633587, max_depth=3, min_child_weight=4, n_estimators=82, subsample=0.6457256006284042; total time=   0.0s\n",
      "[CV] END colsample_bytree=0.8259806297513003, learning_rate=0.14456158567633587, max_depth=3, min_child_weight=4, n_estimators=82, subsample=0.6457256006284042; total time=   0.0s\n",
      "[CV] END colsample_bytree=0.5894113546106644, learning_rate=0.22988127074971595, max_depth=9, min_child_weight=3, n_estimators=194, subsample=0.5156425542966725; total time=   0.0s\n",
      "[CV] END colsample_bytree=0.5894113546106644, learning_rate=0.22988127074971595, max_depth=9, min_child_weight=3, n_estimators=194, subsample=0.5156425542966725; total time=   0.0s\n",
      "[CV] END colsample_bytree=0.5894113546106644, learning_rate=0.22988127074971595, max_depth=9, min_child_weight=3, n_estimators=194, subsample=0.5156425542966725; total time=   0.0s\n",
      "[CV] END colsample_bytree=0.5894113546106644, learning_rate=0.22988127074971595, max_depth=9, min_child_weight=3, n_estimators=194, subsample=0.5156425542966725; total time=   0.0s\n",
      "[CV] END colsample_bytree=0.5894113546106644, learning_rate=0.22988127074971595, max_depth=9, min_child_weight=3, n_estimators=194, subsample=0.5156425542966725; total time=   0.0s\n",
      "[CV] END colsample_bytree=0.7712701152774497, learning_rate=0.315288446103256, max_depth=8, min_child_weight=5, n_estimators=100, subsample=0.9244325886239793; total time=   0.0s\n",
      "[CV] END colsample_bytree=0.7712701152774497, learning_rate=0.315288446103256, max_depth=8, min_child_weight=5, n_estimators=100, subsample=0.9244325886239793; total time=   0.0s\n",
      "[CV] END colsample_bytree=0.7712701152774497, learning_rate=0.315288446103256, max_depth=8, min_child_weight=5, n_estimators=100, subsample=0.9244325886239793; total time=   0.0s\n",
      "[CV] END colsample_bytree=0.7712701152774497, learning_rate=0.315288446103256, max_depth=8, min_child_weight=5, n_estimators=100, subsample=0.9244325886239793; total time=   0.0s\n",
      "[CV] END colsample_bytree=0.7712701152774497, learning_rate=0.315288446103256, max_depth=8, min_child_weight=5, n_estimators=100, subsample=0.9244325886239793; total time=   0.0s\n",
      "[CV] END colsample_bytree=0.8155693129986314, learning_rate=0.48688678212498904, max_depth=8, min_child_weight=1, n_estimators=77, subsample=0.7682468417641697; total time=   0.0s\n",
      "[CV] END colsample_bytree=0.8155693129986314, learning_rate=0.48688678212498904, max_depth=8, min_child_weight=1, n_estimators=77, subsample=0.7682468417641697; total time=   0.0s\n",
      "[CV] END colsample_bytree=0.8155693129986314, learning_rate=0.48688678212498904, max_depth=8, min_child_weight=1, n_estimators=77, subsample=0.7682468417641697; total time=   0.0s\n",
      "[CV] END colsample_bytree=0.8155693129986314, learning_rate=0.48688678212498904, max_depth=8, min_child_weight=1, n_estimators=77, subsample=0.7682468417641697; total time=   0.0s\n",
      "[CV] END colsample_bytree=0.8155693129986314, learning_rate=0.48688678212498904, max_depth=8, min_child_weight=1, n_estimators=77, subsample=0.7682468417641697; total time=   0.0s\n",
      "[CV] END colsample_bytree=0.9320837825359516, learning_rate=0.14811116094493318, max_depth=5, min_child_weight=4, n_estimators=84, subsample=0.8379878100144162; total time=   0.0s\n",
      "[CV] END colsample_bytree=0.9320837825359516, learning_rate=0.14811116094493318, max_depth=5, min_child_weight=4, n_estimators=84, subsample=0.8379878100144162; total time=   0.0s\n",
      "[CV] END colsample_bytree=0.9320837825359516, learning_rate=0.14811116094493318, max_depth=5, min_child_weight=4, n_estimators=84, subsample=0.8379878100144162; total time=   0.0s\n",
      "[CV] END colsample_bytree=0.9320837825359516, learning_rate=0.14811116094493318, max_depth=5, min_child_weight=4, n_estimators=84, subsample=0.8379878100144162; total time=   0.0s\n",
      "[CV] END colsample_bytree=0.9320837825359516, learning_rate=0.14811116094493318, max_depth=5, min_child_weight=4, n_estimators=84, subsample=0.8379878100144162; total time=   0.0s\n",
      "[CV] END colsample_bytree=0.5218018858772169, learning_rate=0.6067303064784046, max_depth=8, min_child_weight=5, n_estimators=95, subsample=0.9404050731543139; total time=   0.0s\n",
      "[CV] END colsample_bytree=0.5218018858772169, learning_rate=0.6067303064784046, max_depth=8, min_child_weight=5, n_estimators=95, subsample=0.9404050731543139; total time=   0.3s\n",
      "[CV] END colsample_bytree=0.5218018858772169, learning_rate=0.6067303064784046, max_depth=8, min_child_weight=5, n_estimators=95, subsample=0.9404050731543139; total time=   0.0s\n",
      "[CV] END colsample_bytree=0.5218018858772169, learning_rate=0.6067303064784046, max_depth=8, min_child_weight=5, n_estimators=95, subsample=0.9404050731543139; total time=   0.0s\n",
      "[CV] END colsample_bytree=0.5218018858772169, learning_rate=0.6067303064784046, max_depth=8, min_child_weight=5, n_estimators=95, subsample=0.9404050731543139; total time=   0.0s\n",
      "[CV] END colsample_bytree=0.6850793501277221, learning_rate=0.019273969917320458, max_depth=7, min_child_weight=1, n_estimators=95, subsample=0.9766583733305687; total time=   0.0s\n",
      "[CV] END colsample_bytree=0.6850793501277221, learning_rate=0.019273969917320458, max_depth=7, min_child_weight=1, n_estimators=95, subsample=0.9766583733305687; total time=   0.0s\n",
      "[CV] END colsample_bytree=0.6850793501277221, learning_rate=0.019273969917320458, max_depth=7, min_child_weight=1, n_estimators=95, subsample=0.9766583733305687; total time=   0.0s\n",
      "[CV] END colsample_bytree=0.6850793501277221, learning_rate=0.019273969917320458, max_depth=7, min_child_weight=1, n_estimators=95, subsample=0.9766583733305687; total time=   0.0s\n",
      "[CV] END colsample_bytree=0.6850793501277221, learning_rate=0.019273969917320458, max_depth=7, min_child_weight=1, n_estimators=95, subsample=0.9766583733305687; total time=   0.0s\n",
      "[CV] END colsample_bytree=0.9818099885446264, learning_rate=0.521805673280416, max_depth=9, min_child_weight=5, n_estimators=262, subsample=0.4336377218052422; total time=   0.0s\n",
      "[CV] END colsample_bytree=0.9818099885446264, learning_rate=0.521805673280416, max_depth=9, min_child_weight=5, n_estimators=262, subsample=0.4336377218052422; total time=   0.0s\n",
      "[CV] END colsample_bytree=0.9818099885446264, learning_rate=0.521805673280416, max_depth=9, min_child_weight=5, n_estimators=262, subsample=0.4336377218052422; total time=   0.0s\n",
      "[CV] END colsample_bytree=0.9818099885446264, learning_rate=0.521805673280416, max_depth=9, min_child_weight=5, n_estimators=262, subsample=0.4336377218052422; total time=   0.0s\n",
      "[CV] END colsample_bytree=0.9818099885446264, learning_rate=0.521805673280416, max_depth=9, min_child_weight=5, n_estimators=262, subsample=0.4336377218052422; total time=   0.0s\n",
      "[CV] END colsample_bytree=0.6342374284450785, learning_rate=0.3011679245657894, max_depth=4, min_child_weight=1, n_estimators=283, subsample=0.9553083419125465; total time=   0.1s\n",
      "[CV] END colsample_bytree=0.6342374284450785, learning_rate=0.3011679245657894, max_depth=4, min_child_weight=1, n_estimators=283, subsample=0.9553083419125465; total time=   0.1s\n",
      "[CV] END colsample_bytree=0.6342374284450785, learning_rate=0.3011679245657894, max_depth=4, min_child_weight=1, n_estimators=283, subsample=0.9553083419125465; total time=   0.1s\n",
      "[CV] END colsample_bytree=0.6342374284450785, learning_rate=0.3011679245657894, max_depth=4, min_child_weight=1, n_estimators=283, subsample=0.9553083419125465; total time=   0.1s\n",
      "[CV] END colsample_bytree=0.6342374284450785, learning_rate=0.3011679245657894, max_depth=4, min_child_weight=1, n_estimators=283, subsample=0.9553083419125465; total time=   0.1s\n",
      "[CV] END colsample_bytree=0.8480148983374864, learning_rate=0.352036702053619, max_depth=4, min_child_weight=2, n_estimators=176, subsample=0.6628307566546157; total time=   0.0s\n",
      "[CV] END colsample_bytree=0.8480148983374864, learning_rate=0.352036702053619, max_depth=4, min_child_weight=2, n_estimators=176, subsample=0.6628307566546157; total time=   0.0s\n",
      "[CV] END colsample_bytree=0.8480148983374864, learning_rate=0.352036702053619, max_depth=4, min_child_weight=2, n_estimators=176, subsample=0.6628307566546157; total time=   0.0s\n",
      "[CV] END colsample_bytree=0.8480148983374864, learning_rate=0.352036702053619, max_depth=4, min_child_weight=2, n_estimators=176, subsample=0.6628307566546157; total time=   0.0s\n",
      "[CV] END colsample_bytree=0.8480148983374864, learning_rate=0.352036702053619, max_depth=4, min_child_weight=2, n_estimators=176, subsample=0.6628307566546157; total time=   0.0s\n",
      "[CV] END colsample_bytree=0.9386865359639778, learning_rate=0.4544611706525227, max_depth=3, min_child_weight=1, n_estimators=92, subsample=0.796237697837083; total time=   0.0s\n",
      "[CV] END colsample_bytree=0.9386865359639778, learning_rate=0.4544611706525227, max_depth=3, min_child_weight=1, n_estimators=92, subsample=0.796237697837083; total time=   0.0s\n",
      "[CV] END colsample_bytree=0.9386865359639778, learning_rate=0.4544611706525227, max_depth=3, min_child_weight=1, n_estimators=92, subsample=0.796237697837083; total time=   0.0s\n",
      "[CV] END colsample_bytree=0.9386865359639778, learning_rate=0.4544611706525227, max_depth=3, min_child_weight=1, n_estimators=92, subsample=0.796237697837083; total time=   0.0s\n",
      "[CV] END colsample_bytree=0.9386865359639778, learning_rate=0.4544611706525227, max_depth=3, min_child_weight=1, n_estimators=92, subsample=0.796237697837083; total time=   0.0s\n",
      "[CV] END colsample_bytree=0.7764099884539539, learning_rate=0.1879060861886791, max_depth=4, min_child_weight=3, n_estimators=99, subsample=0.9069506230060724; total time=   0.0s\n",
      "[CV] END colsample_bytree=0.7764099884539539, learning_rate=0.1879060861886791, max_depth=4, min_child_weight=3, n_estimators=99, subsample=0.9069506230060724; total time=   0.0s\n",
      "[CV] END colsample_bytree=0.7764099884539539, learning_rate=0.1879060861886791, max_depth=4, min_child_weight=3, n_estimators=99, subsample=0.9069506230060724; total time=   0.0s\n",
      "[CV] END colsample_bytree=0.7764099884539539, learning_rate=0.1879060861886791, max_depth=4, min_child_weight=3, n_estimators=99, subsample=0.9069506230060724; total time=   0.0s\n",
      "[CV] END colsample_bytree=0.7764099884539539, learning_rate=0.1879060861886791, max_depth=4, min_child_weight=3, n_estimators=99, subsample=0.9069506230060724; total time=   0.0s\n",
      "[CV] END colsample_bytree=0.9566202762782356, learning_rate=0.3168054393165627, max_depth=3, min_child_weight=4, n_estimators=222, subsample=0.43599176745842955; total time=   0.0s\n",
      "[CV] END colsample_bytree=0.9566202762782356, learning_rate=0.3168054393165627, max_depth=3, min_child_weight=4, n_estimators=222, subsample=0.43599176745842955; total time=   0.0s\n",
      "[CV] END colsample_bytree=0.9566202762782356, learning_rate=0.3168054393165627, max_depth=3, min_child_weight=4, n_estimators=222, subsample=0.43599176745842955; total time=   0.0s\n",
      "[CV] END colsample_bytree=0.9566202762782356, learning_rate=0.3168054393165627, max_depth=3, min_child_weight=4, n_estimators=222, subsample=0.43599176745842955; total time=   0.0s\n",
      "[CV] END colsample_bytree=0.9566202762782356, learning_rate=0.3168054393165627, max_depth=3, min_child_weight=4, n_estimators=222, subsample=0.43599176745842955; total time=   0.0s\n",
      "[CV] END colsample_bytree=0.5354704584999639, learning_rate=0.24807029632833302, max_depth=8, min_child_weight=4, n_estimators=164, subsample=0.536596609796075; total time=   0.0s\n",
      "[CV] END colsample_bytree=0.5354704584999639, learning_rate=0.24807029632833302, max_depth=8, min_child_weight=4, n_estimators=164, subsample=0.536596609796075; total time=   0.0s\n",
      "[CV] END colsample_bytree=0.5354704584999639, learning_rate=0.24807029632833302, max_depth=8, min_child_weight=4, n_estimators=164, subsample=0.536596609796075; total time=   0.0s\n",
      "[CV] END colsample_bytree=0.5354704584999639, learning_rate=0.24807029632833302, max_depth=8, min_child_weight=4, n_estimators=164, subsample=0.536596609796075; total time=   0.0s\n",
      "[CV] END colsample_bytree=0.5354704584999639, learning_rate=0.24807029632833302, max_depth=8, min_child_weight=4, n_estimators=164, subsample=0.536596609796075; total time=   0.0s\n",
      "[CV] END colsample_bytree=0.687791476319972, learning_rate=0.06638916390452139, max_depth=9, min_child_weight=3, n_estimators=202, subsample=0.4085291317094209; total time=   0.0s\n",
      "[CV] END colsample_bytree=0.687791476319972, learning_rate=0.06638916390452139, max_depth=9, min_child_weight=3, n_estimators=202, subsample=0.4085291317094209; total time=   0.0s\n",
      "[CV] END colsample_bytree=0.687791476319972, learning_rate=0.06638916390452139, max_depth=9, min_child_weight=3, n_estimators=202, subsample=0.4085291317094209; total time=   0.0s\n",
      "[CV] END colsample_bytree=0.687791476319972, learning_rate=0.06638916390452139, max_depth=9, min_child_weight=3, n_estimators=202, subsample=0.4085291317094209; total time=   0.0s\n",
      "[CV] END colsample_bytree=0.687791476319972, learning_rate=0.06638916390452139, max_depth=9, min_child_weight=3, n_estimators=202, subsample=0.4085291317094209; total time=   0.0s\n",
      "Execution Time: 29.43 seconds\n",
      "XGBoost best score: 0.99\n",
      "Best parameters found: {'colsample_bytree': 0.6850793501277221, 'learning_rate': 0.019273969917320458, 'max_depth': 7, 'min_child_weight': 1, 'n_estimators': 95, 'subsample': 0.9766583733305687}\n"
     ]
    }
   ],
   "source": [
    "from xgboost import XGBClassifier\n",
    "\n",
    "search_xgb = RandomizedSearchCV(XGBClassifier(), param_distributions=param_dist_xgb,\n",
    "                               n_iter=58, cv=5, random_state=42, scoring=scorer, verbose=2)\n",
    "\n",
    "start_time = time.time()\n",
    "search_xgb.fit(X_train, Y_train)\n",
    "end_time = time.time()\n",
    "\n",
    "# Tempo total de execução\n",
    "execution_time = end_time - start_time\n",
    "\n",
    "print(f\"Execution Time: {execution_time:.2f} seconds\")\n",
    "print(f\"XGBoost best score: {search_xgb.best_score_:.2f}\")\n",
    "print(f\"Best parameters found: {search_xgb.best_params_}\")"
   ],
   "metadata": {
    "collapsed": false,
    "ExecuteTime": {
     "end_time": "2024-04-13T19:04:44.457299900Z",
     "start_time": "2024-04-13T19:04:15.016047100Z"
    }
   },
   "id": "79ed20fc90988d5c"
  },
  {
   "cell_type": "markdown",
   "source": [
    "### Treinamento do modelo de Regressão Logística"
   ],
   "metadata": {
    "collapsed": false
   },
   "id": "70fdf340adaab19b"
  },
  {
   "cell_type": "code",
   "execution_count": 336,
   "outputs": [
    {
     "name": "stdout",
     "output_type": "stream",
     "text": [
      "Fitting 5 folds for each of 7 candidates, totalling 35 fits\n",
      "[CV] END C=3.7554011884736247, max_iter=10000, penalty=l2, solver=liblinear; total time=   0.0s\n",
      "[CV] END C=3.7554011884736247, max_iter=10000, penalty=l2, solver=liblinear; total time=   0.0s\n",
      "[CV] END C=3.7554011884736247, max_iter=10000, penalty=l2, solver=liblinear; total time=   0.0s\n",
      "[CV] END C=3.7554011884736247, max_iter=10000, penalty=l2, solver=liblinear; total time=   0.0s\n",
      "[CV] END C=3.7554011884736247, max_iter=10000, penalty=l2, solver=liblinear; total time=   0.0s\n",
      "[CV] END C=1.844347898661638, max_iter=10000, penalty=l2, solver=saga; total time=   1.6s\n",
      "[CV] END C=1.844347898661638, max_iter=10000, penalty=l2, solver=saga; total time=   1.6s\n",
      "[CV] END C=1.844347898661638, max_iter=10000, penalty=l2, solver=saga; total time=   1.5s\n",
      "[CV] END C=1.844347898661638, max_iter=10000, penalty=l2, solver=saga; total time=   1.5s\n",
      "[CV] END C=1.844347898661638, max_iter=10000, penalty=l2, solver=saga; total time=   1.5s\n",
      "[CV] END C=5.996584841970366, max_iter=10000, penalty=l2, solver=liblinear; total time=   0.0s\n",
      "[CV] END C=5.996584841970366, max_iter=10000, penalty=l2, solver=liblinear; total time=   0.0s\n",
      "[CV] END C=5.996584841970366, max_iter=10000, penalty=l2, solver=liblinear; total time=   0.0s\n",
      "[CV] END C=5.996584841970366, max_iter=10000, penalty=l2, solver=liblinear; total time=   0.0s\n",
      "[CV] END C=5.996584841970366, max_iter=10000, penalty=l2, solver=liblinear; total time=   0.0s\n",
      "[CV] END C=4.468327528535911, max_iter=10000, penalty=l2, solver=liblinear; total time=   0.0s\n",
      "[CV] END C=4.468327528535911, max_iter=10000, penalty=l2, solver=liblinear; total time=   0.0s\n",
      "[CV] END C=4.468327528535911, max_iter=10000, penalty=l2, solver=liblinear; total time=   0.0s\n",
      "[CV] END C=4.468327528535911, max_iter=10000, penalty=l2, solver=liblinear; total time=   0.0s\n",
      "[CV] END C=4.468327528535911, max_iter=10000, penalty=l2, solver=liblinear; total time=   0.0s\n",
      "[CV] END C=0.5908361216819946, max_iter=10000, penalty=l2, solver=saga; total time=   1.6s\n",
      "[CV] END C=0.5908361216819946, max_iter=10000, penalty=l2, solver=saga; total time=   1.6s\n",
      "[CV] END C=0.5908361216819946, max_iter=10000, penalty=l2, solver=saga; total time=   1.6s\n",
      "[CV] END C=0.5908361216819946, max_iter=10000, penalty=l2, solver=saga; total time=   1.5s\n",
      "[CV] END C=0.5908361216819946, max_iter=10000, penalty=l2, solver=saga; total time=   1.6s\n",
      "[CV] END C=3.347086111390218, max_iter=10000, penalty=l2, solver=saga; total time=   1.5s\n",
      "[CV] END C=3.347086111390218, max_iter=10000, penalty=l2, solver=saga; total time=   1.5s\n",
      "[CV] END C=3.347086111390218, max_iter=10000, penalty=l2, solver=saga; total time=   1.5s\n",
      "[CV] END C=3.347086111390218, max_iter=10000, penalty=l2, solver=saga; total time=   1.6s\n",
      "[CV] END C=3.347086111390218, max_iter=10000, penalty=l2, solver=saga; total time=   1.6s\n",
      "[CV] END C=7.090725777960454, max_iter=10000, penalty=l2, solver=saga; total time=   1.5s\n",
      "[CV] END C=7.090725777960454, max_iter=10000, penalty=l2, solver=saga; total time=   1.6s\n",
      "[CV] END C=7.090725777960454, max_iter=10000, penalty=l2, solver=saga; total time=   1.5s\n",
      "[CV] END C=7.090725777960454, max_iter=10000, penalty=l2, solver=saga; total time=   1.5s\n",
      "[CV] END C=7.090725777960454, max_iter=10000, penalty=l2, solver=saga; total time=   1.5s\n",
      "Execution Time: 35.15 seconds\n",
      "Linear Regression best score: 0.91\n",
      "Best parameters found: {'C': 1.844347898661638, 'max_iter': 10000, 'penalty': 'l2', 'solver': 'saga'}\n"
     ]
    }
   ],
   "source": [
    "from sklearn.linear_model import LogisticRegression\n",
    "\n",
    "search_lr = RandomizedSearchCV(LogisticRegression(), param_distributions=param_dist_lr,\n",
    "                               n_iter=7, cv=5, random_state=42, scoring=scorer, verbose=2)\n",
    "\n",
    "\n",
    "\n",
    "start_time = time.time()\n",
    "search_lr.fit(X_train, Y_train)\n",
    "end_time = time.time()\n",
    "\n",
    "# Tempo total de execução\n",
    "execution_time = end_time - start_time\n",
    "\n",
    "print(f\"Execution Time: {execution_time:.2f} seconds\")\n",
    "print(f\"Linear Regression best score: {search_lr.best_score_:.2f}\")\n",
    "print(f\"Best parameters found: {search_lr.best_params_}\")"
   ],
   "metadata": {
    "collapsed": false,
    "ExecuteTime": {
     "end_time": "2024-04-13T19:05:19.608591700Z",
     "start_time": "2024-04-13T19:04:44.450666300Z"
    }
   },
   "id": "fac6191fa6d94752"
  },
  {
   "cell_type": "markdown",
   "source": [
    "## Avaliação dos modelos na base de teste\n",
    "\n",
    "----------------------------------------------------------\n",
    "\n",
    "Achando o melhor threshold de probabilidade para cada modelo e obtendo o classification report."
   ],
   "metadata": {
    "collapsed": false
   },
   "id": "87f19980bfda26c9"
  },
  {
   "cell_type": "code",
   "execution_count": 337,
   "outputs": [
    {
     "name": "stdout",
     "output_type": "stream",
     "text": [
      "XGBoost - Best Threshold: 0.01, Best Recall: 1.0000\n",
      "Random Forest - Best Threshold: 0.01, Best Recall: 1.0000\n",
      "Logistic Regression - Best Threshold: 0.01, Best Recall: 1.0000\n"
     ]
    }
   ],
   "source": [
    "from sklearn.metrics import recall_score\n",
    "\n",
    "def find_best_threshold(y_true, y_probas, score_func):\n",
    "    thresholds = np.linspace(0.01, 0.99, 100)\n",
    "    best_score = 0\n",
    "    best_thresh = 0.5\n",
    "    for thresh in thresholds:\n",
    "        y_pred = (y_probas > thresh).astype(int)\n",
    "        score = score_func(y_true, y_pred)\n",
    "        if score > best_score:\n",
    "            best_score = score\n",
    "            best_thresh = thresh\n",
    "    return best_thresh, best_score\n",
    "\n",
    "# Lista de modelos e métricas\n",
    "model_list = [search_xgb, search_rf, search_lr]\n",
    "model_names = ['XGBoost', 'Random Forest', 'Logistic Regression']\n",
    "metric_name = metric_function.__name__.split('_')[0]  # Para capturar o nome da métrica para impressão\n",
    "\n",
    "for model, name in zip(model_list, model_names):\n",
    "    y_test_proba = model.best_estimator_.predict_proba(X_test)\n",
    "    # Verificar se precisa acessar a segunda coluna ou não\n",
    "    if y_test_proba.ndim == 2 and y_test_proba.shape[1] > 1:\n",
    "        y_test_proba = y_test_proba[:, 1]\n",
    "    best_thresh, best_metric = find_best_threshold(Y_test, y_test_proba, metric_function)\n",
    "    print(f\"{name} - Best Threshold: {best_thresh}, Best {metric_name.capitalize()}: {best_metric:.4f}\")\n",
    "\n"
   ],
   "metadata": {
    "collapsed": false,
    "ExecuteTime": {
     "end_time": "2024-04-13T19:05:20.120493600Z",
     "start_time": "2024-04-13T19:05:19.609592800Z"
    }
   },
   "id": "69d7d7dd0b7b0e61"
  },
  {
   "cell_type": "code",
   "execution_count": 338,
   "outputs": [
    {
     "name": "stdout",
     "output_type": "stream",
     "text": [
      "Classification Report for XGBoost:\n",
      "              precision    recall  f1-score   support\n",
      "\n",
      "           0       0.87      0.99      0.93       313\n",
      "           1       0.99      0.83      0.90       275\n",
      "\n",
      "    accuracy                           0.91       588\n",
      "   macro avg       0.93      0.91      0.91       588\n",
      "weighted avg       0.92      0.91      0.91       588\n",
      "\n",
      "\n",
      "Classification Report for Random Forest:\n",
      "              precision    recall  f1-score   support\n",
      "\n",
      "           0       0.85      1.00      0.92       313\n",
      "           1       1.00      0.80      0.89       275\n",
      "\n",
      "    accuracy                           0.91       588\n",
      "   macro avg       0.93      0.90      0.91       588\n",
      "weighted avg       0.92      0.91      0.91       588\n",
      "\n",
      "\n",
      "Classification Report for Logistic Regression:\n",
      "              precision    recall  f1-score   support\n",
      "\n",
      "           0       0.82      0.95      0.88       313\n",
      "           1       0.93      0.76      0.83       275\n",
      "\n",
      "    accuracy                           0.86       588\n",
      "   macro avg       0.87      0.85      0.86       588\n",
      "weighted avg       0.87      0.86      0.86       588\n",
      "\n"
     ]
    }
   ],
   "source": [
    "# Assumindo que você tem os seguintes objetos de busca configurados e treinados:\n",
    "# search_xgb, search_rf, search_lr\n",
    "\n",
    "model_searches = [\n",
    "    (\"XGBoost\", search_xgb),\n",
    "    (\"Random Forest\", search_rf),\n",
    "    (\"Logistic Regression\", search_lr)\n",
    "]\n",
    "\n",
    "# Testar cada modelo e gerar o classification report\n",
    "for model_name, search in model_searches:\n",
    "    best_model = search.best_estimator_\n",
    "    y_pred = best_model.predict(X_test)  # Usar .predict() para obter as classes previstas diretamente\n",
    "    report = classification_report(Y_test, y_pred)\n",
    "    print(f\"Classification Report for {model_name}:\\n{report}\\n\")\n"
   ],
   "metadata": {
    "collapsed": false,
    "ExecuteTime": {
     "end_time": "2024-04-13T19:05:20.174316700Z",
     "start_time": "2024-04-13T19:05:20.121494Z"
    }
   },
   "id": "fbb214a695dcac59"
  },
  {
   "cell_type": "markdown",
   "source": [],
   "metadata": {
    "collapsed": false
   },
   "id": "64cdf5dfc7decbff"
  },
  {
   "cell_type": "markdown",
   "source": [],
   "metadata": {
    "collapsed": false
   },
   "id": "311e0f1c84408c5a"
  },
  {
   "cell_type": "markdown",
   "source": [
    "## Classification Report de cada modelo\n",
    "\n",
    "----------------------------------------------------------"
   ],
   "metadata": {
    "collapsed": false
   },
   "id": "debcf3bc2f806d39"
  },
  {
   "cell_type": "markdown",
   "source": [
    "### Avaliação dos modelos com score de Recall\n",
    "\n",
    "----------------------------------------------------------\n",
    "Classification Report for XGBoost:\n",
    "              precision    recall  f1-score   support\n",
    "\n",
    "           0       0.86      0.90      0.88       313\n",
    "           1       0.88      0.84      0.86       275\n",
    "\n",
    "    accuracy                           0.87       588\n",
    "   macro avg       0.87      0.87      0.87       588\n",
    "weighted avg       0.87      0.87      0.87       588\n",
    "\n",
    "\n",
    "Classification Report for Random Forest:\n",
    "              precision    recall  f1-score   support\n",
    "\n",
    "           0       0.87      0.99      0.93       313\n",
    "           1       0.98      0.83      0.90       275\n",
    "\n",
    "    accuracy                           0.91       588\n",
    "   macro avg       0.93      0.91      0.91       588\n",
    "weighted avg       0.92      0.91      0.91       588\n",
    "\n",
    "\n",
    "Classification Report for Logistic Regression:\n",
    "              precision    recall  f1-score   support\n",
    "\n",
    "           0       0.81      0.84      0.83       313\n",
    "           1       0.81      0.78      0.80       275\n",
    "\n",
    "    accuracy                           0.81       588\n",
    "   macro avg       0.81      0.81      0.81       588\n",
    "weighted avg       0.81      0.81      0.81       588\n",
    "\n",
    "\n"
   ],
   "metadata": {
    "collapsed": false
   },
   "id": "7480f923bddefc08"
  },
  {
   "cell_type": "markdown",
   "source": [
    "### Avaliação dos modelos com score de ROC AUC\n",
    "\n",
    "----------------------------------------------------------\n",
    "Classification Report for XGBoost:\n",
    "              precision    recall  f1-score   support\n",
    "\n",
    "           0       0.85      0.86      0.85       313\n",
    "           1       0.84      0.83      0.83       275\n",
    "\n",
    "    accuracy                           0.84       588\n",
    "   macro avg       0.84      0.84      0.84       588\n",
    "weighted avg       0.84      0.84      0.84       588\n",
    "\n",
    "\n",
    "Classification Report for Random Forest:\n",
    "              precision    recall  f1-score   support\n",
    "\n",
    "           0       0.81      0.98      0.88       313\n",
    "           1       0.97      0.73      0.83       275\n",
    "\n",
    "    accuracy                           0.86       588\n",
    "   macro avg       0.89      0.86      0.86       588\n",
    "weighted avg       0.88      0.86      0.86       588\n",
    "\n",
    "\n",
    "Classification Report for Logistic Regression:\n",
    "              precision    recall  f1-score   support\n",
    "\n",
    "           0       0.81      0.84      0.83       313\n",
    "           1       0.81      0.78      0.80       275\n",
    "\n",
    "    accuracy                           0.81       588\n",
    "   macro avg       0.81      0.81      0.81       588\n",
    "weighted avg       0.81      0.81      0.81       588\n",
    "\n"
   ],
   "metadata": {
    "collapsed": false
   },
   "id": "83c1da2ac4de5b9"
  },
  {
   "cell_type": "markdown",
   "source": [
    "### Avaliação dos modelos com score de F1\n",
    "\n",
    "----------------------------------------------------------\n",
    "Classification Report for XGBoost:\n",
    "              precision    recall  f1-score   support\n",
    "\n",
    "           0       0.87      0.99      0.93       313\n",
    "           1       0.99      0.83      0.90       275\n",
    "\n",
    "    accuracy                           0.91       588\n",
    "   macro avg       0.93      0.91      0.91       588\n",
    "weighted avg       0.92      0.91      0.91       588\n",
    "\n",
    "\n",
    "Classification Report for Random Forest:\n",
    "              precision    recall  f1-score   support\n",
    "\n",
    "           0       0.87      0.99      0.93       313\n",
    "           1       0.98      0.83      0.90       275\n",
    "\n",
    "    accuracy                           0.91       588\n",
    "   macro avg       0.93      0.91      0.91       588\n",
    "weighted avg       0.92      0.91      0.91       588\n",
    "\n",
    "\n",
    "Classification Report for Logistic Regression:\n",
    "              precision    recall  f1-score   support\n",
    "\n",
    "           0       0.82      0.95      0.88       313\n",
    "           1       0.93      0.76      0.83       275\n",
    "\n",
    "    accuracy                           0.86       588\n",
    "   macro avg       0.87      0.85      0.86       588\n",
    "weighted avg       0.87      0.86      0.86       588\n",
    "\n"
   ],
   "metadata": {
    "collapsed": false
   },
   "id": "5995965afce8d95c"
  },
  {
   "cell_type": "markdown",
   "source": [
    "### Avaliação dos modelos com score de Average Precision\n",
    "\n",
    "----------------------------------------------------------\n",
    "Classification Report for XGBoost:\n",
    "              precision    recall  f1-score   support\n",
    "\n",
    "           0       0.87      0.99      0.93       313\n",
    "           1       0.99      0.83      0.90       275\n",
    "\n",
    "    accuracy                           0.91       588\n",
    "   macro avg       0.93      0.91      0.91       588\n",
    "weighted avg       0.92      0.91      0.91       588\n",
    "\n",
    "Classification Report for Random Forest:\n",
    "              precision    recall  f1-score   support\n",
    "\n",
    "           0       0.86      1.00      0.93       313\n",
    "           1       1.00      0.82      0.90       275\n",
    "\n",
    "    accuracy                           0.91       588\n",
    "   macro avg       0.93      0.91      0.91       588\n",
    "weighted avg       0.93      0.91      0.91       588\n",
    "\n",
    "\n",
    "Classification Report for Logistic Regression:\n",
    "              precision    recall  f1-score   support\n",
    "\n",
    "           0       0.82      0.95      0.88       313\n",
    "           1       0.93      0.76      0.83       275\n",
    "\n",
    "    accuracy                           0.86       588\n",
    "   macro avg       0.87      0.85      0.86       588\n",
    "weighted avg       0.87      0.86      0.86       588\n",
    "\n"
   ],
   "metadata": {
    "collapsed": false
   },
   "id": "5074a087a2e61377"
  },
  {
   "cell_type": "markdown",
   "source": [
    "## Conclusão\n",
    "\n",
    "----------------------------------------------------------\n",
    "A julgar pelos resultados, o modelo Random Forest foi melhor ou igual a todos os outros independente da métrica.\n",
    "Obviamente levando em consideração que o tempo de execução foi equalizado para cada treino, com mais tempo os resultados poderiam ser diferentes.\n",
    "\n",
    "No entanto para nosso caso, tanto o Random Forest quanto o XGBoost tiveram resultados muito próximos utilizando o score F1, que teve melhor resultado no recall de positivos.\n",
    "\n",
    "\n",
    "obs: o modelo de regressão logística teve resultados piores em todas as métricas, provavelmente por ser um modelo mais simples e menos flexível.\n",
    "além disso, me parece que mudar o pos_label para 1 no make_scorer não está funcionando, pois os resultados de recall estão muito baixos, o que não faz sentido para um dataset balanceado."
   ],
   "metadata": {
    "collapsed": false
   },
   "id": "3e6761988f80b0f1"
  },
  {
   "cell_type": "code",
   "execution_count": null,
   "outputs": [],
   "source": [],
   "metadata": {
    "collapsed": false
   },
   "id": "fa7e76c5f14831c9"
  },
  {
   "cell_type": "markdown",
   "source": [],
   "metadata": {
    "collapsed": false
   },
   "id": "9562181304f5826f"
  }
 ],
 "metadata": {
  "kernelspec": {
   "display_name": "Python 3",
   "language": "python",
   "name": "python3"
  },
  "language_info": {
   "codemirror_mode": {
    "name": "ipython",
    "version": 2
   },
   "file_extension": ".py",
   "mimetype": "text/x-python",
   "name": "python",
   "nbconvert_exporter": "python",
   "pygments_lexer": "ipython2",
   "version": "2.7.6"
  }
 },
 "nbformat": 4,
 "nbformat_minor": 5
}
