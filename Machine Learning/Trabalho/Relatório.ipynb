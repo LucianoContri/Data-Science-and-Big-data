{
 "cells": [
  {
   "cell_type": "markdown",
   "source": [
    "# Relatório sobre a Base de Dados de Osteoporose\n",
    "\n",
    "## Equipe\n",
    "\n",
    "| Nome                            | Matrícula |\n",
    "| ------------------------------- | --------- |\n",
    "| Vitoria Maria Ambrosio Rodrigues | 1222170   |\n",
    "| Rafaela Rodrigues Borges        | 161690    |\n",
    "| Daniel Silva Guimaraes          | 1501981   |\n",
    "| Luciano Augusto Scherer Contri  | 1500596   |\n",
    "\n",
    "## Fonte dos Dados\n",
    "\n",
    "Os dados foram obtidos a partir do **Kaggle**, uma plataforma que hospeda competições de ciência de dados, oferecendo diversos conjuntos de dados para análise e modelagem. O conjunto de dados específico utilizado neste relatório se concentra em informações relacionadas à osteoporose.\n",
    "\n",
    "## Objetivo\n",
    "\n",
    "O principal objetivo deste estudo é criar um modelo de machine learning que possa prever a propensão de um indivíduo a desenvolver osteoporose com base em diversas características clínicas e demográficas.\n",
    "\n",
    "## Descrição das Variáveis\n",
    "\n",
    "O conjunto de dados inclui as seguintes variáveis:\n",
    "\n",
    "- **Id**: Identificação única para cada paciente. Este é um identificador numérico que não possui valor preditivo e será excluído da análise.\n",
    "- **Age**: A idade do indivíduo, expressa em anos.\n",
    "- **Gender**: O gênero do indivíduo, que pode ser \"Masculino\" ou \"Feminino\".\n",
    "- **Hormonal Changes**: Indica alterações hormonais significativas, principalmente relacionadas à menopausa.\n",
    "- **Family History**: Presença de história familiar de osteoporose ou fraturas.\n",
    "- **Race/Ethnicity**: A etnia do indivíduo.\n",
    "- **Body Weight**: Categoria de peso corporal do indivíduo, \"Abaixo do peso\" ou \"Normal\".\n",
    "- **Calcium Intake**: Nível de ingestão de cálcio, \"Baixo\" ou \"Adequado\".\n",
    "- **Vitamin D Intake**: Nível de ingestão de vitamina D, \"Insuficiente\" ou \"Suficiente\".\n",
    "- **Physical Activity**: Nível de atividade física, \"Sedentário\" ou \"Ativo\".\n",
    "- **Smoking**: Indica se o indivíduo fuma, \"Sim\" ou \"Não\".\n",
    "- **Alcohol Consumption**: Nível de consumo de álcool, \"Nenhum\" ou \"Moderado\".\n",
    "- **Medical Conditions**: Condições médicas existentes.\n",
    "- **Medications**: Medicamentos que o indivíduo está tomando.\n",
    "- **Prior Fractures**: Presença de fraturas prévias, \"Sim\" ou \"Não\".\n",
    "- **Osteoporosis** (Variável Alvo): Presença ou ausência de osteoporose.\n",
    "\n",
    "## Estatísticas do Dataset\n",
    "\n",
    "- **Número de variáveis**: 16\n",
    "- **Número de observações**: 1958\n",
    "- **Células faltantes**: 0\n",
    "- **Células faltantes (%)**: 0.0%\n",
    "- **Linhas duplicadas**: 0\n",
    "- **Linhas duplicadas (%)**: 0.0%\n",
    "\n",
    "### Tipos de Variáveis\n",
    "\n",
    "- **Numéricas**: 2\n",
    "- **Categóricas**: 11\n",
    "- **Booleanas**: 3\n",
    "\n",
    "### Alertas\n",
    "\n",
    "- A idade está altamente correlacionada com a Osteoporose.\n",
    "- A Osteoporose está distribuída uniformemente.\n",
    "\n"
   ],
   "metadata": {
    "collapsed": false
   },
   "id": "19b1292204bbc90f"
  },
  {
   "cell_type": "code",
   "execution_count": null,
   "id": "initial_id",
   "metadata": {
    "collapsed": true
   },
   "outputs": [],
   "source": []
  }
 ],
 "metadata": {
  "kernelspec": {
   "display_name": "Python 3",
   "language": "python",
   "name": "python3"
  },
  "language_info": {
   "codemirror_mode": {
    "name": "ipython",
    "version": 2
   },
   "file_extension": ".py",
   "mimetype": "text/x-python",
   "name": "python",
   "nbconvert_exporter": "python",
   "pygments_lexer": "ipython2",
   "version": "2.7.6"
  }
 },
 "nbformat": 4,
 "nbformat_minor": 5
}
