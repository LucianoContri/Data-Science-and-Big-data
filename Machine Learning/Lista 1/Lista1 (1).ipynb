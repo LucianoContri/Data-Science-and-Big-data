{
 "nbformat": 4,
 "nbformat_minor": 0,
 "metadata": {
  "colab": {
   "provenance": []
  },
  "kernelspec": {
   "name": "python3",
   "language": "python",
   "display_name": "Python 3 (ipykernel)"
  },
  "language_info": {
   "name": "python"
  }
 },
 "cells": [
  {
   "cell_type": "markdown",
   "source": [
    "#Lista 1\n",
    "-------------\n",
    "\n",
    "\n",
    "Objetivo: treinar um modelo de classificação utilizando o modelo de regressão Logística e árvore de decisão.\n",
    "\n",
    "\n",
    "Banco utilizado: Detecção de doenças no fígado.\n",
    "\n",
    "\n",
    "[Link](https://drive.google.com/file/d/1jnLwuv4e_ZeCqluMXs3Mar2TGetumtVv/view?usp=drive_link) para o banco\n",
    "\n",
    "\n",
    "Descrição do banco:\n",
    "> Este banco contém registro de 416 pacientes diagnosticados com doença no fígado e 167 pacientes sem. Esta informação está na coluna Selector.\n",
    ">\n",
    "> Há 10 variáveis no banco:\n",
    ">\n",
    "> * age: idade\n",
    "> * Gender: gênero do paciente\n",
    "> * TB: Bilirrubina total\n",
    "> * DB: Bilirrubina direta\n",
    "> * Alkphos: fosfatase alcalina.\n",
    "> * Sgpt: transaminase glutâmico-pirúvica sérica (TGP)\n",
    "> * Sgot: transaminase glutâmico-oxalacética sérica (TGO)\n",
    "> * TP: Proteína total\n",
    "> * ALB: Albumina\n",
    "> * A/G Ratio: Relação Albumina:Globulina\n",
    "\n",
    "\n",
    "Exercício:\n",
    "\n",
    "\n",
    "1. Carregue o banco de dados e analise suas features. Transforme a feature sexo em uma variavel dummy.\n",
    "2. Separe o banco em 80% para treino e 20% para teste.\n",
    "3. Treine um modelo de regressão logística.\n",
    "  3.1 Interprete dois coeficientes.\n",
    "4. Treine um modelo de árvore de decisão. Utilize max_depth de 4.\n",
    "  4.1 Quais são as duas features mais importantes?\n",
    "5. Construa um relatório dos dois modelos.\n",
    "  5.1 Tomando como decisão a precisão para detectar doença no fígado qual é o melhor modelo?\n",
    "\n",
    "\n",
    " 5.2 Tomando como decisão o f1 score do rótulo de pacientes com doença no fígado qual é o melhor modelo?\n",
    "\n",
    "\n",
    "Obs.: Utilize o **mesmo** banco de treino e de teste para construir e avaliar os dois modelos."
   ],
   "metadata": {
    "id": "e9yTIwo6WDBU"
   }
  },
  {
   "cell_type": "markdown",
   "source": [
    "##1. Carga do banco\n",
    "--------------------"
   ],
   "metadata": {
    "id": "407ENJcYYaQN"
   }
  },
  {
   "cell_type": "code",
   "execution_count": 252,
   "metadata": {
    "id": "4zQuqod4V-Wp",
    "ExecuteTime": {
     "end_time": "2024-03-17T20:28:15.967356900Z",
     "start_time": "2024-03-17T20:28:15.684701600Z"
    }
   },
   "source": [
    "import pandas as pd\n",
    "import numpy as np\n",
    "df = pd.read_csv('Indian Liver Patient Dataset (ILPD).csv')\n",
    "df.head()"
   ],
   "outputs": []
  },
  {
   "cell_type": "code",
   "execution_count": 253,
   "source": [
    "df.info()"
   ],
   "metadata": {
    "collapsed": false,
    "ExecuteTime": {
     "end_time": "2024-03-17T20:28:16.089973200Z",
     "start_time": "2024-03-17T20:28:15.697283800Z"
    }
   },
   "outputs": []
  },
  {
   "cell_type": "code",
   "execution_count": 254,
   "source": [
    "df.isna().sum()"
   ],
   "metadata": {
    "collapsed": false,
    "ExecuteTime": {
     "end_time": "2024-03-17T20:28:16.089973200Z",
     "start_time": "2024-03-17T20:28:15.704517600Z"
    }
   },
   "outputs": []
  },
  {
   "cell_type": "code",
   "execution_count": 255,
   "source": [
    "df = df.dropna()"
   ],
   "metadata": {
    "collapsed": false,
    "ExecuteTime": {
     "end_time": "2024-03-17T20:28:16.197143800Z",
     "start_time": "2024-03-17T20:28:15.709403200Z"
    }
   },
   "outputs": []
  },
  {
   "cell_type": "code",
   "execution_count": 256,
   "source": [
    "df['Selector'].value_counts()"
   ],
   "metadata": {
    "collapsed": false,
    "ExecuteTime": {
     "end_time": "2024-03-17T20:28:16.198144300Z",
     "start_time": "2024-03-17T20:28:15.717156500Z"
    }
   },
   "outputs": []
  },
  {
   "cell_type": "code",
   "execution_count": 257,
   "source": [
    "# transformando selector em 0 e 1   \n",
    "df['Selector'] = df['Selector'].map({1:0, 2:1})"
   ],
   "metadata": {
    "collapsed": false,
    "ExecuteTime": {
     "end_time": "2024-03-17T20:28:16.198144300Z",
     "start_time": "2024-03-17T20:28:15.722594900Z"
    }
   },
   "outputs": []
  },
  {
   "cell_type": "code",
   "execution_count": 258,
   "source": [
    "# dummies sexo\n",
    "df = pd.get_dummies(df , columns=['Gender'], drop_first=True)"
   ],
   "metadata": {
    "collapsed": false,
    "ExecuteTime": {
     "end_time": "2024-03-17T20:28:16.198144300Z",
     "start_time": "2024-03-17T20:28:15.724915700Z"
    }
   },
   "outputs": []
  },
  {
   "cell_type": "code",
   "execution_count": 259,
   "source": [
    "df.head()"
   ],
   "metadata": {
    "collapsed": false,
    "ExecuteTime": {
     "end_time": "2024-03-17T20:28:16.199145300Z",
     "start_time": "2024-03-17T20:28:15.731538Z"
    }
   },
   "outputs": []
  },
  {
   "cell_type": "markdown",
   "source": [
    "##2. Quebra do banco\n",
    "--------------------"
   ],
   "metadata": {
    "id": "m9iALm4eYchZ"
   }
  },
  {
   "cell_type": "code",
   "source": [
    "from sklearn.model_selection import train_test_split\n",
    "X = df.drop('Selector', axis=1)\n",
    "Y = df['Selector']\n",
    "X_train, X_test, Y_train, Y_test = train_test_split(X, Y, test_size=.2, random_state=15)"
   ],
   "metadata": {
    "id": "w-Sk_EqjYpJL",
    "ExecuteTime": {
     "end_time": "2024-03-17T20:28:16.200146100Z",
     "start_time": "2024-03-17T20:28:15.743263600Z"
    }
   },
   "execution_count": 260,
   "outputs": []
  },
  {
   "cell_type": "markdown",
   "source": [
    "##3. Primeiro modelo\n",
    "--------------------"
   ],
   "metadata": {
    "id": "uxtfBEUQYpna"
   }
  },
  {
   "cell_type": "code",
   "source": [
    "from sklearn.linear_model import LogisticRegression\n",
    "model = LogisticRegression(penalty='none')\n",
    "model.fit(X_train, Y_train)"
   ],
   "metadata": {
    "id": "kvyAvj98Ys1l",
    "ExecuteTime": {
     "end_time": "2024-03-17T20:28:16.222197Z",
     "start_time": "2024-03-17T20:28:15.748336100Z"
    }
   },
   "execution_count": 261,
   "outputs": []
  },
  {
   "cell_type": "code",
   "execution_count": 262,
   "source": [
    "pd.DataFrame(model.coef_.T, index=X_train.columns) # coeficientes do modelo de regressão logística "
   ],
   "metadata": {
    "collapsed": false,
    "ExecuteTime": {
     "end_time": "2024-03-17T20:28:16.223198Z",
     "start_time": "2024-03-17T20:28:15.768236500Z"
    }
   },
   "outputs": []
  },
  {
   "cell_type": "markdown",
   "source": [
    "##3.1 Interpretação de dois coeficientes\n",
    "--------------------"
   ],
   "metadata": {
    "id": "MhqIEkqzY94Q"
   }
  },
  {
   "cell_type": "code",
   "execution_count": 263,
   "source": [
    "from sklearn.metrics import classification_report, confusion_matrix, roc_auc_score, roc_curve, RocCurveDisplay\n",
    "Y_pred = model.predict(X_test)\n",
    "print(classification_report(Y_test, Y_pred))"
   ],
   "metadata": {
    "collapsed": false,
    "ExecuteTime": {
     "end_time": "2024-03-17T20:28:16.223198Z",
     "start_time": "2024-03-17T20:28:15.775147800Z"
    }
   },
   "outputs": []
  },
  {
   "cell_type": "code",
   "execution_count": 264,
   "source": [
    "confusion_matrix(Y_test, Y_pred)"
   ],
   "metadata": {
    "collapsed": false,
    "ExecuteTime": {
     "end_time": "2024-03-17T20:28:16.223198Z",
     "start_time": "2024-03-17T20:28:15.786502200Z"
    }
   },
   "outputs": []
  },
  {
   "cell_type": "code",
   "execution_count": 265,
   "source": [
    "fpr, tpr, thresholds = roc_curve(Y_test, Y_pred)\n",
    "roc_auc = roc_auc_score(Y_test, Y_pred)\n",
    "display = RocCurveDisplay(fpr=fpr, tpr=tpr, roc_auc=roc_auc)\n",
    "display.plot()"
   ],
   "metadata": {
    "collapsed": false,
    "ExecuteTime": {
     "end_time": "2024-03-17T20:28:16.247219900Z",
     "start_time": "2024-03-17T20:28:15.795178100Z"
    }
   },
   "outputs": []
  },
  {
   "cell_type": "code",
   "execution_count": 266,
   "source": [
    "from sklearn.metrics import accuracy_score,precision_score,f1_score\n",
    "import plotly.express as px\n",
    "\n",
    "predict_proba = model.predict_proba(X_test)[:, 1]\n",
    "\n",
    "f1_lista = []\n",
    "precision_lista = []\n",
    "for thr in np.arange(0, 1, .01):\n",
    "    f1_lista.append(f1_score(Y_test, predict_proba >= thr))\n",
    "    precision_lista.append(precision_score(Y_test, predict_proba >= thr))\n"
   ],
   "metadata": {
    "collapsed": false,
    "ExecuteTime": {
     "end_time": "2024-03-17T20:28:16.552436600Z",
     "start_time": "2024-03-17T20:28:15.930323900Z"
    }
   },
   "outputs": []
  },
  {
   "cell_type": "code",
   "execution_count": 267,
   "source": [
    "px.line(x=np.arange(0, 1, .01), y=f1_lista, labels={'x':'Threshold', 'y':'F1 Score'})"
   ],
   "metadata": {
    "collapsed": false,
    "ExecuteTime": {
     "end_time": "2024-03-17T20:28:16.562445400Z",
     "start_time": "2024-03-17T20:28:16.277683300Z"
    }
   },
   "outputs": []
  },
  {
   "cell_type": "code",
   "execution_count": 268,
   "source": [
    "print(classification_report(Y_test, predict_proba >= .31))"
   ],
   "metadata": {
    "collapsed": false,
    "ExecuteTime": {
     "end_time": "2024-03-17T20:28:16.563446100Z",
     "start_time": "2024-03-17T20:28:16.316254Z"
    }
   },
   "outputs": []
  },
  {
   "cell_type": "code",
   "execution_count": 269,
   "source": [
    "px.line(x=np.arange(0, 1, .01), y=precision_lista, labels={'x':'Threshold', 'y':'Precision'})"
   ],
   "metadata": {
    "collapsed": false,
    "ExecuteTime": {
     "end_time": "2024-03-17T20:28:16.563446100Z",
     "start_time": "2024-03-17T20:28:16.328361500Z"
    }
   },
   "outputs": []
  },
  {
   "cell_type": "code",
   "execution_count": 270,
   "source": [
    "print(classification_report(Y_test, predict_proba >= .49))"
   ],
   "metadata": {
    "collapsed": false,
    "ExecuteTime": {
     "end_time": "2024-03-17T20:28:16.614998700Z",
     "start_time": "2024-03-17T20:28:16.367601200Z"
    }
   },
   "outputs": []
  },
  {
   "cell_type": "markdown",
   "source": [
    "##4. Segundo modelo\n",
    "--------------------"
   ],
   "metadata": {
    "id": "iHa9mKShYsRy"
   }
  },
  {
   "cell_type": "code",
   "execution_count": 271,
   "source": [
    "# árvore de decisão \n",
    "from sklearn.tree import DecisionTreeClassifier\n",
    "model = DecisionTreeClassifier(max_depth=4,random_state=15)\n",
    "model.fit(X_train, Y_train)"
   ],
   "metadata": {
    "collapsed": false,
    "ExecuteTime": {
     "end_time": "2024-03-17T20:28:16.634016800Z",
     "start_time": "2024-03-17T20:28:16.377450200Z"
    }
   },
   "outputs": []
  },
  {
   "cell_type": "code",
   "execution_count": 271,
   "source": [],
   "metadata": {
    "collapsed": false,
    "ExecuteTime": {
     "end_time": "2024-03-17T20:28:16.650031Z",
     "start_time": "2024-03-17T20:28:16.384623300Z"
    }
   },
   "outputs": []
  },
  {
   "cell_type": "markdown",
   "source": [
    "##4.1 Duas features mais importantes\n",
    "--------------------"
   ],
   "metadata": {
    "id": "m_mA--yyZDMS"
   }
  },
  {
   "cell_type": "code",
   "execution_count": 272,
   "source": [
    "pd.DataFrame(model.feature_importances_, index=X_train.columns, columns=['importance']).sort_values(by='importance', ascending=False).head(2)"
   ],
   "metadata": {
    "collapsed": false,
    "ExecuteTime": {
     "end_time": "2024-03-17T20:28:16.651031800Z",
     "start_time": "2024-03-17T20:28:16.389227300Z"
    }
   },
   "outputs": []
  },
  {
   "cell_type": "markdown",
   "source": [
    "##5. Avaliação do modelo\n",
    "--------------------"
   ],
   "metadata": {
    "id": "EGFBuaF_Y4kg"
   }
  },
  {
   "cell_type": "code",
   "source": [
    "Y_pred = model.predict(X_test)\n",
    "print(classification_report(Y_test, Y_pred))"
   ],
   "metadata": {
    "id": "D5X9-jtJY73h",
    "ExecuteTime": {
     "end_time": "2024-03-17T20:28:16.651031800Z",
     "start_time": "2024-03-17T20:28:16.395924100Z"
    }
   },
   "execution_count": 273,
   "outputs": []
  },
  {
   "cell_type": "code",
   "execution_count": 274,
   "source": [
    "predict_proba = model.predict_proba(X_test)\n",
    "predict_proba"
   ],
   "metadata": {
    "collapsed": false,
    "ExecuteTime": {
     "end_time": "2024-03-17T20:28:16.651031800Z",
     "start_time": "2024-03-17T20:28:16.407177100Z"
    }
   },
   "outputs": []
  },
  {
   "cell_type": "code",
   "execution_count": 275,
   "source": [
    "\n",
    "predict_proba = model.predict_proba(X_test)[:, 1]\n",
    "\n",
    "f1_lista = []\n",
    "precision_lista = []\n",
    "for thr in np.arange(0, 1, .01):\n",
    "    f1_lista.append(f1_score(Y_test, predict_proba>=thr))\n",
    "    precision_lista.append(precision_score(Y_test, predict_proba>=thr))\n",
    "\n"
   ],
   "metadata": {
    "collapsed": false,
    "ExecuteTime": {
     "end_time": "2024-03-17T20:28:16.921902400Z",
     "start_time": "2024-03-17T20:28:16.416808500Z"
    }
   },
   "outputs": []
  },
  {
   "cell_type": "code",
   "execution_count": 276,
   "source": [
    "px.line(x=np.arange(0, 1, .01), y=precision_lista, labels={'x':'Threshold', 'y':'Precision'})"
   ],
   "metadata": {
    "collapsed": false,
    "ExecuteTime": {
     "end_time": "2024-03-17T20:28:16.922903400Z",
     "start_time": "2024-03-17T20:28:16.722668100Z"
    }
   },
   "outputs": []
  },
  {
   "cell_type": "code",
   "execution_count": 277,
   "source": [
    "print(classification_report(Y_test, predict_proba >= .73))"
   ],
   "metadata": {
    "collapsed": false,
    "ExecuteTime": {
     "end_time": "2024-03-17T20:28:16.923905100Z",
     "start_time": "2024-03-17T20:28:16.756741400Z"
    }
   },
   "outputs": []
  },
  {
   "cell_type": "code",
   "execution_count": 278,
   "source": [
    "px.line(x=np.arange(0, 1, .01), y=f1_lista, labels={'x':'Threshold', 'y':'F1 Score'})"
   ],
   "metadata": {
    "collapsed": false,
    "ExecuteTime": {
     "end_time": "2024-03-17T20:28:16.934914500Z",
     "start_time": "2024-03-17T20:28:16.766412700Z"
    }
   },
   "outputs": []
  },
  {
   "cell_type": "code",
   "execution_count": 279,
   "source": [
    "print(classification_report(Y_test, predict_proba >= .15))"
   ],
   "metadata": {
    "collapsed": false,
    "ExecuteTime": {
     "end_time": "2024-03-17T20:28:16.935915500Z",
     "start_time": "2024-03-17T20:28:16.802495100Z"
    }
   },
   "outputs": []
  },
  {
   "cell_type": "markdown",
   "source": [
    "##5.1 Qual modelo escolhido olhando para a precisão de detecção de doença no fígado?\n",
    "--------------------\n",
    "Olhando para os resultados ótimos dos modelos:\n",
    "- Regressão Logística: Threshold de 0.49\n",
    "- Árvore de Decisão: Threshold de 0.73\n",
    "- A precisão da Regressão Logística é de 0.55 e da Árvore de Decisão é de 0.75\n",
    "- O modelo escolhido é a Árvore de Decisão"
   ],
   "metadata": {
    "id": "y98QDkPAZGjP"
   }
  },
  {
   "cell_type": "markdown",
   "source": [],
   "metadata": {
    "collapsed": false
   }
  },
  {
   "cell_type": "markdown",
   "source": [
    "##5.2 Qual modelo escolhido olhando para o f1-score do rótulo de doença do fígado?\n",
    "--------------------\n",
    "Olhando para os resultados ótimos dos modelos onde 1 é o rótulo de doença no fígado:\n",
    "- Regressão Logística: Threshold de 0.31\n",
    "- Árvore de Decisão: Threshold de 0.15\n",
    "- O f1-score da Regressão Logística é de 0.57 e da Árvore de Decisão é de 0.49\n",
    "- O modelo escolhido é a Regressão Logística"
   ],
   "metadata": {
    "id": "val9nAmnZPyB"
   }
  },
  {
   "cell_type": "code",
   "execution_count": null,
   "source": [],
   "metadata": {
    "collapsed": false
   },
   "outputs": []
  }
 ]
}
