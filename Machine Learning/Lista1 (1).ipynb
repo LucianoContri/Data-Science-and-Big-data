{
  "nbformat": 4,
  "nbformat_minor": 0,
  "metadata": {
    "colab": {
      "provenance": []
    },
    "kernelspec": {
      "name": "python3",
      "display_name": "Python 3"
    },
    "language_info": {
      "name": "python"
    }
  },
  "cells": [
    {
      "cell_type": "markdown",
      "source": [
        "#Lista 1\n",
        "-------------\n",
        "\n",
        "\n",
        "Objetivo: treinar um modelo de classificação utilizando o modelo de regressão Logística e árvore de decisão.\n",
        "\n",
        "\n",
        "Banco utilizado: Detecção de doenças no fígado.\n",
        "\n",
        "\n",
        "[Link](https://drive.google.com/file/d/1jnLwuv4e_ZeCqluMXs3Mar2TGetumtVv/view?usp=drive_link) para o banco\n",
        "\n",
        "\n",
        "Descrição do banco:\n",
        "> Este banco contém registro de 416 pacientes diagnosticados com doença no fígado e 167 pacientes sem. Esta informação está na coluna Selector.\n",
        ">\n",
        "> Há 10 variáveis no banco:\n",
        ">\n",
        "> * age: idade\n",
        "> * Gender: gênero do paciente\n",
        "> * TB: Bilirrubina total\n",
        "> * DB: Bilirrubina direta\n",
        "> * Alkphos: fosfatase alcalina.\n",
        "> * Sgpt: transaminase glutâmico-pirúvica sérica (TGP)\n",
        "> * Sgot: transaminase glutâmico-oxalacética sérica (TGO)\n",
        "> * TP: Proteína total\n",
        "> * ALB: Albumina\n",
        "> * A/G Ratio: Relação Albumina:Globulina\n",
        "\n",
        "\n",
        "Exercício:\n",
        "\n",
        "\n",
        "1. Carregue o banco de dados e analise suas features. Transforme a feature sexo em uma variavel dummy.\n",
        "2. Separe o banco em 80% para treino e 20% para teste.\n",
        "3. Treine um modelo de regressão logística.\n",
        "  3.1 Interprete dois coeficientes.\n",
        "4. Treine um modelo de árvore de decisão. Utilize max_depth de 4.\n",
        "  4.1 Quais são as duas features mais importantes?\n",
        "5. Construa um relatório dos dois modelos.\n",
        "  5.1 Tomando como decisão a precisão para detectar doença no fígado qual é o melhor modelo?\n",
        "\n",
        "\n",
        " 5.2 Tomando como decisão o f1 score do rótulo de pacientes com doença no fígado qual é o melhor modelo?\n",
        "\n",
        "\n",
        "Obs.: Utilize o **mesmo** banco de treino e de teste para construir e avaliar os dois modelos."
      ],
      "metadata": {
        "id": "e9yTIwo6WDBU"
      }
    },
    {
      "cell_type": "markdown",
      "source": [
        "##1. Carga do banco\n",
        "--------------------"
      ],
      "metadata": {
        "id": "407ENJcYYaQN"
      }
    },
    {
      "cell_type": "code",
      "execution_count": null,
      "metadata": {
        "id": "4zQuqod4V-Wp"
      },
      "outputs": [],
      "source": []
    },
    {
      "cell_type": "markdown",
      "source": [
        "##2. Quebra do banco\n",
        "--------------------"
      ],
      "metadata": {
        "id": "m9iALm4eYchZ"
      }
    },
    {
      "cell_type": "code",
      "source": [],
      "metadata": {
        "id": "w-Sk_EqjYpJL"
      },
      "execution_count": null,
      "outputs": []
    },
    {
      "cell_type": "markdown",
      "source": [
        "##3. Primeiro modelo\n",
        "--------------------"
      ],
      "metadata": {
        "id": "uxtfBEUQYpna"
      }
    },
    {
      "cell_type": "code",
      "source": [],
      "metadata": {
        "id": "kvyAvj98Ys1l"
      },
      "execution_count": null,
      "outputs": []
    },
    {
      "cell_type": "markdown",
      "source": [
        "##3.1 Interpretação de dois coeficientes\n",
        "--------------------"
      ],
      "metadata": {
        "id": "MhqIEkqzY94Q"
      }
    },
    {
      "cell_type": "markdown",
      "source": [
        "##4. Segundo modelo\n",
        "--------------------"
      ],
      "metadata": {
        "id": "iHa9mKShYsRy"
      }
    },
    {
      "cell_type": "code",
      "source": [],
      "metadata": {
        "id": "bR3xFRxAY2hr"
      },
      "execution_count": null,
      "outputs": []
    },
    {
      "cell_type": "markdown",
      "source": [
        "##4.1 Duas features mais importantes\n",
        "--------------------"
      ],
      "metadata": {
        "id": "m_mA--yyZDMS"
      }
    },
    {
      "cell_type": "markdown",
      "source": [
        "##5. Avaliação do modelo\n",
        "--------------------"
      ],
      "metadata": {
        "id": "EGFBuaF_Y4kg"
      }
    },
    {
      "cell_type": "code",
      "source": [],
      "metadata": {
        "id": "D5X9-jtJY73h"
      },
      "execution_count": null,
      "outputs": []
    },
    {
      "cell_type": "markdown",
      "source": [
        "##5.1 Qual modelo escolhido olhando para a precisão de detecção de doença no fígado?\n",
        "--------------------"
      ],
      "metadata": {
        "id": "y98QDkPAZGjP"
      }
    },
    {
      "cell_type": "markdown",
      "source": [
        "##5.2 Qual modelo escolhido olhando para o f1-score do rótulo de doença do fígado?\n",
        "--------------------"
      ],
      "metadata": {
        "id": "val9nAmnZPyB"
      }
    }
  ]
}