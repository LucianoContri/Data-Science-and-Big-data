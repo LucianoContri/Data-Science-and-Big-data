{
 "nbformat": 4,
 "nbformat_minor": 0,
 "metadata": {
  "colab": {
   "provenance": [],
   "collapsed_sections": [
    "K-LIzm41ax3o"
   ]
  },
  "kernelspec": {
   "name": "python3",
   "display_name": "Python 3"
  },
  "language_info": {
   "name": "python"
  }
 },
 "cells": [
  {
   "cell_type": "markdown",
   "source": [
    "#Regressão - Treino do modelo\n",
    "---\n",
    "**Aula Prática 03**: Treinando modelo de regressão linear\n",
    "\n",
    "**Objetivo**: Treinar um modelo de regressão linear\n",
    "\n",
    "Banco de dados:\n",
    "\n",
    "**Gorjeta em restaurante**:\n",
    "\n",
    "Dataset disponibilizado pelo pacote plotly\n",
    "\n",
    "\"One waiter recorded information about each tip he received over a period of a few months working in one restaurant. He collected several variables:\n",
    "\n",
    "* tip in dollars,\n",
    "\n",
    "* bill in dollars,\n",
    "\n",
    "* sex of the bill payer,\n",
    "\n",
    "* whether there were smokers in the party,\n",
    "\n",
    "* day of the week,\n",
    "\n",
    "* time of day,\n",
    "\n",
    "* size of the party.\"\n",
    "\n",
    "**Preço de carros usados**\n",
    "\n",
    "[Disponivel no kaggle](https://www.kaggle.com/datasets/rishabhkarn/used-car-dataset/data)\n",
    "\n",
    "[Disponível para download](https://drive.google.com/file/d/1Ny6GypPH4AtJi6CJHmEUEI3KN11hDuGG/view?usp=drive_link)\n",
    "\n",
    "Usaremos o dado tratado na aula 2"
   ],
   "metadata": {
    "id": "wPe4zyAkaXU3"
   }
  },
  {
   "cell_type": "markdown",
   "source": [
    "##Import das principais funções e leitura dos dados\n",
    "\n",
    "\n",
    "---"
   ],
   "metadata": {
    "id": "K-LIzm41ax3o"
   }
  },
  {
   "cell_type": "code",
   "source": [
    "import pandas as pd #pacote para leitura dos dados\n",
    "import numpy as np\n",
    "import plotly.express as px"
   ],
   "metadata": {
    "id": "IeClxXVaazlo"
   },
   "execution_count": null,
   "outputs": []
  },
  {
   "cell_type": "code",
   "source": [
    "df_tips = px.data.tips()"
   ],
   "metadata": {
    "id": "DZNbQm18Ksso"
   },
   "execution_count": null,
   "outputs": []
  },
  {
   "cell_type": "code",
   "source": [
    "df_tips.head()"
   ],
   "metadata": {
    "colab": {
     "base_uri": "https://localhost:8080/",
     "height": 206
    },
    "id": "VXah87VpLh4G",
    "outputId": "bed9687a-10f0-4f3e-d8d6-22f9726a1151"
   },
   "execution_count": null,
   "outputs": []
  },
  {
   "cell_type": "code",
   "source": [
    "path = 'dado_tratado.csv'\n",
    "df = pd.read_csv(path)"
   ],
   "metadata": {
    "id": "5UxZr9mRauW0"
   },
   "execution_count": null,
   "outputs": []
  },
  {
   "cell_type": "code",
   "source": [
    "df.head()"
   ],
   "metadata": {
    "colab": {
     "base_uri": "https://localhost:8080/",
     "height": 243
    },
    "id": "AHmnJLO_awNY",
    "outputId": "47613b44-cd8d-4342-93b2-60a003585a0d"
   },
   "execution_count": null,
   "outputs": []
  },
  {
   "cell_type": "markdown",
   "source": [
    "## Treino de modelo de regressão - dataset Tips\n",
    "\n",
    "\n",
    "---\n",
    "\n",
    "\n",
    "Para treinar um modelo de regressão utilizaremos o pacote sklearn.\n",
    "\n",
    "\n",
    "### Separação do banco entre treino e teste\n",
    "O primeiro passo para se treinar um modelo é separar o banco entre treino e teste. Para isso utilizaremos a função train_test_split\n",
    "\n",
    "\n",
    "``` python\n",
    "from sklearn.model_selection import train_test_split\n",
    "X_train, X_test, Y_train, Y_test = train_test_split(X, Y, test_size=.3, random_state=15)\n",
    "```\n",
    "No exemplo acima X é um dataframe contendo as features do modelo e Y um dataframe com a variável target.\n",
    "\n",
    "\n",
    "O parâmetro test_size controla o percentual de dados que será utilizado para teste.\n",
    "\n",
    "\n",
    "O parâmetro random_state controla a aleatoriedade da geração do dado, permitindo que ao reexecutar o código seja gerado os mesmos bancos de treino e teste.\n",
    "\n",
    "\n",
    "É importante separar o banco entre treino e teste, pois utilizaremos o banco de treino para treinar modelos e o banco de teste para avaliar os modelos.\n",
    "\n",
    "\n",
    "### Treino do modelo\n",
    "Agora que já possuímos os dados de treino e teste vamos treinar o nosso modelo de regressão para isso utilizaremos o módulo LinearRegression\n",
    "\n",
    "\n",
    "``` python\n",
    "from sklearn.linear_model import LinearRegression\n",
    "model = LinearRegression()\n",
    "model.fit(X_train, Y_train)\n",
    "```\n",
    "\n",
    "\n",
    "No código acima o objeto model é do tipo LinearRegression, nele iremos fazer o ajuste do nosso modelo, realizar predições e também ficará armazenado nele os coeficientes do modelo.\n",
    "\n",
    "\n",
    "``` python\n",
    "# Para acessar os coeficientes\n",
    "model.coef_\n",
    "# Para acessar o intercepto\n",
    "model.intercept_\n",
    "# Para fazer predições\n",
    "model.predict(Y_test)\n",
    "```\n",
    "\n",
    "\n",
    "### Avaliação do modelo\n",
    "Para avaliar o modelo treinado utilizaremos as métricas vistas na aula teórica.\n",
    "\n",
    "\n",
    "``` python\n",
    "from sklearn.metrics import mean_squared_error, mean_absolute_error, r2_score\n",
    "\n",
    "# Erro médio quadrado\n",
    "mean_squared_error(Y_test, X_test)\n",
    "\n",
    "# Erro médio absoluto\n",
    "mean_absolute_error(Y_test, X_test)\n",
    "\n",
    "# R2 score\n",
    "r2_score(Y_test, X_test)\n",
    "```"
   ],
   "metadata": {
    "id": "Zx5RaivsLtCk"
   }
  },
  {
   "cell_type": "code",
   "source": [
    "from sklearn.model_selection import train_test_split\n",
    "from sklearn.linear_model import LinearRegression\n",
    "from sklearn.metrics import mean_squared_error, mean_absolute_error, r2_score"
   ],
   "metadata": {
    "id": "NXa0CyR_OKrU"
   },
   "execution_count": null,
   "outputs": []
  },
  {
   "cell_type": "markdown",
   "source": [
    "### Análise e processamento do dado\n",
    "\n",
    "\n",
    "---\n",
    "\n",
    "Exercício:\n",
    "\n",
    "\n",
    "* Análise o banco de dados de tips através da correlação das variáveis, há correlação?\n",
    "* Análise as variáveis categóricas e crie variáveis dummy para elas.\n",
    "\n",
    "\n"
   ],
   "metadata": {
    "id": "w4vRrsUFNsw6"
   }
  },
  {
   "cell_type": "code",
   "source": [],
   "metadata": {
    "id": "BhOL1xy6Y9Wi"
   },
   "execution_count": null,
   "outputs": []
  },
  {
   "cell_type": "markdown",
   "source": [
    "### Primeiro modelo\n",
    "\n",
    "\n",
    "---\n",
    "\n",
    "\n",
    "Exercício:\n",
    "\n",
    "\n",
    "* Construa um primeiro modelo utilizando a variável total_bill para explicar a variável tip. Use 30% do banco para teste.\n",
    "\n",
    "\n",
    "* Qual a interpretação do coeficiente?\n",
    "* Qual a interpretação do intercepto?\n",
    "* Faça as análises de apuração do modelo\n",
    "\n",
    "\n",
    "Dica:\n",
    "\n",
    "\n",
    "Ao se usar uma única variável é necessário modificar o formato do dado para que ele seja uma matriz. Para isso faça:\n",
    "\n",
    "\n",
    "``` python\n",
    "model.fit(np.array(X_train).reshape(-1,1), Y_train)\n",
    "```\n",
    "\n",
    "\n"
   ],
   "metadata": {
    "id": "dM-VqZE4Nyq6"
   }
  },
  {
   "cell_type": "code",
   "source": [],
   "metadata": {
    "id": "TF7_uV6IY8Zl"
   },
   "execution_count": null,
   "outputs": []
  },
  {
   "cell_type": "markdown",
   "source": [
    "### Modelo completo\n",
    "\n",
    "\n",
    "---\n",
    "Exercício:\n",
    "\n",
    "\n",
    "* Construa um modelo utilizando todas as variáveis disponíveis no banco. Use 30% do banco para teste.\n",
    "\n",
    "\n",
    "* Qual a interpretação do coeficiente?\n",
    "* Qual a interpretação do intercepto?\n",
    "* Faça as análises de apuração do modelo. Este modelo é melhor que o anterior?\n",
    "\n",
    "Dica:\n",
    "\n",
    "Para se obter um dataframe com os coeficientes e seus respectivos nomes faça:\n",
    "\n",
    "``` python\n",
    "pd.DataFrame(model.coef_, index=X_train.columns[X_train.columns!='tip'])\n",
    "```"
   ],
   "metadata": {
    "id": "WMygDv_6OQsA"
   }
  },
  {
   "cell_type": "code",
   "source": [],
   "metadata": {
    "id": "D5ZyXcyHZBFV"
   },
   "execution_count": null,
   "outputs": []
  },
  {
   "cell_type": "markdown",
   "source": [
    "## Treino de modelo de regressão - dataset preço carro\n",
    "\n",
    "---\n",
    "Exercício:\n",
    "\n",
    "* Análise o banco de dados de preço de carros utilizando a correlação.\n",
    "* Há alguma variável correlacionada?"
   ],
   "metadata": {
    "id": "78Da9a7-NfBV"
   }
  },
  {
   "cell_type": "code",
   "source": [],
   "metadata": {
    "id": "n_Y11PquZDqL"
   },
   "execution_count": null,
   "outputs": []
  },
  {
   "cell_type": "markdown",
   "source": [
    "### Primeiro modelo\n",
    "\n",
    "---\n",
    "\n",
    "Exercício:\n",
    "\n",
    "\n",
    "* Construa um primeiro modelo utilizando a variável kms_driven para explicar a variável price. Use 30% do banco para teste.\n",
    "\n",
    "\n",
    "* Qual a interpretação do coeficiente?\n",
    "* Qual a interpretação do intercepto?\n",
    "* Faça as análises de apuração do modelo"
   ],
   "metadata": {
    "id": "5qV7Cc_DPZmY"
   }
  },
  {
   "cell_type": "markdown",
   "source": [
    "#### Solução"
   ],
   "metadata": {
    "id": "d66TSmfeVykz"
   }
  },
  {
   "cell_type": "code",
   "source": [],
   "metadata": {
    "id": "fh9eM5oyZHDG"
   },
   "execution_count": null,
   "outputs": []
  },
  {
   "cell_type": "markdown",
   "source": [
    "### Modelo completo\n",
    "---\n",
    "Exercício:\n",
    "\n",
    "\n",
    "* Construa um modelo utilizando todas as variáveis disponíveis no banco. Use 30% do banco para teste.\n",
    "\n",
    "* Qual a interpretação do coeficiente?\n",
    "* Qual a interpretação do intercepto?\n",
    "* Faça as análises de apuração do modelo. Este modelo é melhor que o anterior?\n",
    "\n",
    "Remova as observações em que price é maior que 90 e treine um novo modelo.\n",
    "\n",
    "* Qual a interpretação do coeficiente?\n",
    "* Qual a interpretação do intercepto?\n",
    "* Plot a predição vs valor real, você percebe algo estranho?\n"
   ],
   "metadata": {
    "id": "f9K0UPGaPgvL"
   }
  },
  {
   "cell_type": "code",
   "source": [],
   "metadata": {
    "id": "RA1PTugvZKhO"
   },
   "execution_count": null,
   "outputs": []
  },
  {
   "cell_type": "markdown",
   "source": [
    "### Transformação nos dados\n",
    "---\n",
    "Exercício:\n",
    "\n",
    "* Transforme a variável price para o seu logaritmo\n",
    "* Ajuste um modelo utilizando o logaritmo\n",
    "* Plot o exponencial da predição vs valor real. O modelo melhorou?"
   ],
   "metadata": {
    "id": "WuRx82m3QuhN"
   }
  },
  {
   "cell_type": "code",
   "source": [],
   "metadata": {
    "id": "7bBu5gmRZNKs"
   },
   "execution_count": null,
   "outputs": []
  }
 ]
}
