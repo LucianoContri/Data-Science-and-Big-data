{
 "nbformat": 4,
 "nbformat_minor": 0,
 "metadata": {
  "colab": {
   "provenance": [],
   "authorship_tag": "ABX9TyPFqaIGz7FbuMLAY7yR5gcN"
  },
  "kernelspec": {
   "name": "python3",
   "display_name": "Python 3"
  },
  "language_info": {
   "name": "python"
  }
 },
 "cells": [
  {
   "cell_type": "markdown",
   "source": [
    "#Regressão Logística\n",
    "---\n",
    "**Aula Prática 04**: Regressão Logística\n",
    "\n",
    "\n",
    "**Objetivo**: Treinar modelo de classificação\n",
    "\n",
    "\n",
    "Banco de dados:\n",
    "\n",
    "\n",
    "**Breast cancer wisconsin dataset**\n",
    "\n",
    "\n",
    "Disponível via sklearn\n",
    "\n",
    "\n",
    "> Features are computed from a digitized image of a fine needle aspirate (FNA) of a breast mass.  They describe characteristics of the cell nuclei present in the image.\n",
    ">\n",
    "> 1) ID number\n",
    ">\n",
    "> 2) Diagnosis (0 = malignant, 1 = benign)\n",
    ">\n",
    "> 3-32)\n",
    ">\n",
    "> Ten real-valued features are computed for each cell nucleus:\n",
    ">\n",
    "> a) radius (mean of distances from center to points on the perimeter)\n",
    ">\n",
    "> b) texture (standard deviation of gray-scale values)\n",
    ">\n",
    "> c) perimeter\n",
    ">\n",
    "> d) area\n",
    ">\n",
    "> e) smoothness (local variation in radius lengths)\n",
    ">\n",
    "> f) compactness (perimeter^2 / area - 1.0)\n",
    ">\n",
    "> g) concavity (severity of concave portions of the contour)\n",
    ">\n",
    "> h) concave points (number of concave portions of the contour)\n",
    ">\n",
    "> i) symmetry\n",
    ">\n",
    "> j) fractal dimension (\"coastline approximation\" - 1)"
   ],
   "metadata": {
    "id": "zxHUgPSFM1fc"
   }
  },
  {
   "cell_type": "markdown",
   "source": [
    "##Import das principais funções e leitura dos dados\n",
    "\n",
    "\n",
    "---\n",
    "\n"
   ],
   "metadata": {
    "id": "w1NLIkJMRP4U"
   }
  },
  {
   "cell_type": "code",
   "source": [
    "import pandas as pd\n",
    "import numpy as np\n",
    "from sklearn import datasets"
   ],
   "metadata": {
    "id": "Wfg5H5k7QUoz",
    "executionInfo": {
     "status": "ok",
     "timestamp": 1709163144660,
     "user_tz": 180,
     "elapsed": 1152,
     "user": {
      "displayName": "Gabriel Oliveira",
      "userId": "12617440199896804275"
     }
    }
   },
   "execution_count": 1,
   "outputs": []
  },
  {
   "cell_type": "code",
   "source": [
    "data = datasets.load_breast_cancer()"
   ],
   "metadata": {
    "id": "cz13V0q4Q5ZJ",
    "executionInfo": {
     "status": "ok",
     "timestamp": 1709163150655,
     "user_tz": 180,
     "elapsed": 3,
     "user": {
      "displayName": "Gabriel Oliveira",
      "userId": "12617440199896804275"
     }
    }
   },
   "execution_count": 2,
   "outputs": []
  },
  {
   "cell_type": "code",
   "source": [
    "df = pd.DataFrame(data.data, columns=data.feature_names)"
   ],
   "metadata": {
    "id": "39H8czgiIvdT",
    "executionInfo": {
     "status": "ok",
     "timestamp": 1709163218079,
     "user_tz": 180,
     "elapsed": 278,
     "user": {
      "displayName": "Gabriel Oliveira",
      "userId": "12617440199896804275"
     }
    }
   },
   "execution_count": 11,
   "outputs": []
  },
  {
   "cell_type": "code",
   "source": [
    "target = pd.DataFrame(data.target, columns=['Target'])\n",
    "df = pd.concat([df, target], axis=1)"
   ],
   "metadata": {
    "id": "do_VDG4RJICz",
    "executionInfo": {
     "status": "ok",
     "timestamp": 1709163239741,
     "user_tz": 180,
     "elapsed": 2,
     "user": {
      "displayName": "Gabriel Oliveira",
      "userId": "12617440199896804275"
     }
    }
   },
   "execution_count": 13,
   "outputs": []
  },
  {
   "cell_type": "code",
   "source": [
    "df.head()"
   ],
   "metadata": {
    "id": "gE2hH2_8SHHZ",
    "colab": {
     "base_uri": "https://localhost:8080/",
     "height": 290
    },
    "executionInfo": {
     "status": "ok",
     "timestamp": 1709163242015,
     "user_tz": 180,
     "elapsed": 281,
     "user": {
      "displayName": "Gabriel Oliveira",
      "userId": "12617440199896804275"
     }
    },
    "outputId": "eea7dc98-d92e-4f0d-fa6a-0a9a65ceadc8"
   },
   "execution_count": 14,
   "outputs": []
  },
  {
   "cell_type": "code",
   "source": [
    "df.shape"
   ],
   "metadata": {
    "id": "K94v4s0lSNC4",
    "colab": {
     "base_uri": "https://localhost:8080/"
    },
    "executionInfo": {
     "status": "ok",
     "timestamp": 1709163248890,
     "user_tz": 180,
     "elapsed": 305,
     "user": {
      "displayName": "Gabriel Oliveira",
      "userId": "12617440199896804275"
     }
    },
    "outputId": "724e124c-398b-4623-a2de-3e7d3e5f36d6"
   },
   "execution_count": 15,
   "outputs": []
  },
  {
   "cell_type": "code",
   "source": [
    "df.dtypes"
   ],
   "metadata": {
    "id": "iyj0P08tSR5M",
    "colab": {
     "base_uri": "https://localhost:8080/"
    },
    "executionInfo": {
     "status": "ok",
     "timestamp": 1709163255589,
     "user_tz": 180,
     "elapsed": 265,
     "user": {
      "displayName": "Gabriel Oliveira",
      "userId": "12617440199896804275"
     }
    },
    "outputId": "6d3b1e09-aad2-47de-922b-8a33438cb590"
   },
   "execution_count": 16,
   "outputs": []
  },
  {
   "cell_type": "code",
   "source": [
    "df.describe().T"
   ],
   "metadata": {
    "id": "D4JMYa2ZJSto",
    "colab": {
     "base_uri": "https://localhost:8080/",
     "height": 1000
    },
    "executionInfo": {
     "status": "ok",
     "timestamp": 1709163271022,
     "user_tz": 180,
     "elapsed": 366,
     "user": {
      "displayName": "Gabriel Oliveira",
      "userId": "12617440199896804275"
     }
    },
    "outputId": "d3fe9efd-1b07-4c92-9887-97387eb8b515"
   },
   "execution_count": 17,
   "outputs": []
  },
  {
   "cell_type": "markdown",
   "source": [
    "##Treino de modelo de regressão Logística\n",
    "---\n",
    "\n",
    "\n",
    "Para treinar um modelo de regressão utilizaremos o pacote sklearn.\n",
    "\n",
    "\n",
    "### Separação do banco entre treino e teste\n",
    "O primeiro passo para se treinar um modelo é separar o banco entre treino e teste. Para isso utilizaremos a função train_test_split\n",
    "\n",
    "\n",
    "``` python\n",
    "from sklearn.model_selection import train_test_split\n",
    "X_train, X_test, Y_train, Y_test = train_test_split(X, Y, test_size=.3, random_state=15)\n",
    "```\n",
    "No exemplo acima X é um dataframe contendo as features do modelo e Y um dataframe com a variável target.\n",
    "\n",
    "\n",
    "O parâmetro test_size controla o percentual de dados que será utilizado para teste.\n",
    "\n",
    "\n",
    "O parâmetro random_state controla a aleatoriedade da geração do dado, permitindo que ao reexecutar o código seja gerado os mesmos bancos de treino e teste.\n",
    "\n",
    "\n",
    "É importante separar o banco entre treino e teste, pois utilizaremos o banco de treino para treinar modelos e o banco de teste para avaliar os modelos.\n",
    "\n",
    "\n",
    "### Treino do modelo\n",
    "Agora que já possuímos os dados de treino e teste vamos treinar o nosso modelo de regressão para isso utilizaremos o módulo LogisticRegression\n",
    "\n",
    "\n",
    "\n",
    "\n",
    "``` python\n",
    "from sklearn.linear_model import LogisticRegression\n",
    "model = LogisticRegression(penalty='none')\n",
    "model.fit(X_train, Y_train)\n",
    "```\n",
    "\n",
    "\n",
    "No código acima o objeto model é do tipo LogisticRegression, nele iremos fazer o ajuste do nosso modelo, realizar predições e também ficará armazenado nele os coeficientes do modelo.\n",
    "\n",
    "\n",
    "``` python\n",
    "# Para acessar os coeficientes\n",
    "model.coef_\n",
    "# Para acessar o intercepto\n",
    "model.intercept_\n",
    "# Para fazer predições de classes\n",
    "model.predict(X_test)\n",
    "# Para fazer predições de probabilidade\n",
    "model.predict_proba(X_test)\n",
    "```\n",
    "\n",
    "\n",
    "### Avaliação do modelo\n",
    "Para avaliar o modelo treinado utilizaremos as métricas vistas na aula teórica.\n",
    "\n",
    "\n",
    "\n",
    "\n",
    "``` python\n",
    "from sklearn.metrics import classification_report, confusion_matrix, roc_auc_score, roc_curve, RocCurveDisplay\n",
    "\n",
    "\n",
    "# Métricas acurácia, precisão, recall, f1-score\n",
    "print(classification_report(Y_test, Y_predit))\n",
    "\n",
    "\n",
    "# Matriz de confusão\n",
    "confusion_matrix(Y_test, Y_predit)\n",
    "\n",
    "\n",
    "# AUC\n",
    "roc_auc = roc_auc_score(Y_test, Y_predict)\n",
    "fpr, tpr, thresholds = roc_curve(Y_test, Y_predict)\n",
    "display = RocCurveDisplay(fpr=fpr, tpr=tpr, roc_auc=roc_auc)\n",
    "display.plot()\n",
    "```\n",
    "\n",
    "\n",
    "Também é possível se obter cada uma das métricas do report\n",
    "``` python\n",
    "from sklearn.metrics import recall_score, precision_score, f1_score, accuracy_score\n",
    "\n",
    "\n",
    "recall_score(Y_test, Y_predict, pos_label=1)\n",
    "```\n",
    "\n",
    "\n",
    "### Primeiro modelo\n",
    "\n",
    "\n",
    "\n",
    "\n",
    "---\n",
    "\n",
    "\n",
    "\n",
    "\n",
    "Exercício:\n",
    "\n",
    "\n",
    "* Separe o banco entre treino e teste. Use 30% do banco para teste. Faça a quebra com todas as variáveis.\n",
    "\n",
    "\n",
    "* Treine um modelo.\n",
    "* Qual a interpretação do coeficiente para mean radius?\n",
    "* Qual a interpretação do coeficiente para mean concavity?\n",
    "* Faça as análises de apuração do modelo\n",
    "\n",
    "\n",
    "Dica:\n",
    "\n",
    "\n",
    "Para se obter um dataframe com os coeficientes e seus respectivos nomes faça:\n",
    "\n",
    "\n",
    "``` python\n",
    "pd.DataFrame(model.coef_.T, index=X_train.columns)\n",
    "```"
   ],
   "metadata": {
    "id": "M9mSwwoqRbef"
   }
  },
  {
   "cell_type": "code",
   "source": [
    "X = pd.DataFrame(data.data, columns=data.feature_names)\n",
    "Y = data.target"
   ],
   "metadata": {
    "id": "G4pgJuxgN_XX",
    "executionInfo": {
     "status": "ok",
     "timestamp": 1709164310496,
     "user_tz": 180,
     "elapsed": 1,
     "user": {
      "displayName": "Gabriel Oliveira",
      "userId": "12617440199896804275"
     }
    }
   },
   "execution_count": 20,
   "outputs": []
  },
  {
   "cell_type": "markdown",
   "source": [
    "#### Solução"
   ],
   "metadata": {
    "id": "idl1fuKB-1TJ"
   }
  },
  {
   "cell_type": "code",
   "source": [
    "from sklearn.model_selection import train_test_split\n",
    "X_train, X_test, Y_train, Y_test = train_test_split(X, Y, test_size=.3, random_state=15)"
   ],
   "metadata": {
    "id": "djHH_xBsT-0Z",
    "executionInfo": {
     "status": "ok",
     "timestamp": 1709165293756,
     "user_tz": 180,
     "elapsed": 309,
     "user": {
      "displayName": "Gabriel Oliveira",
      "userId": "12617440199896804275"
     }
    }
   },
   "execution_count": 41,
   "outputs": []
  },
  {
   "cell_type": "code",
   "source": [
    "Y_train.mean()"
   ],
   "metadata": {
    "id": "_nAxgZq8OCio",
    "colab": {
     "base_uri": "https://localhost:8080/"
    },
    "executionInfo": {
     "status": "ok",
     "timestamp": 1709165296102,
     "user_tz": 180,
     "elapsed": 311,
     "user": {
      "displayName": "Gabriel Oliveira",
      "userId": "12617440199896804275"
     }
    },
    "outputId": "33729c24-7b21-42e5-9a57-d79b110ca270"
   },
   "execution_count": 42,
   "outputs": []
  },
  {
   "cell_type": "code",
   "source": [
    "X_train.head()"
   ],
   "metadata": {
    "id": "fXfocudAOD-H",
    "colab": {
     "base_uri": "https://localhost:8080/",
     "height": 290
    },
    "executionInfo": {
     "status": "ok",
     "timestamp": 1709165302269,
     "user_tz": 180,
     "elapsed": 313,
     "user": {
      "displayName": "Gabriel Oliveira",
      "userId": "12617440199896804275"
     }
    },
    "outputId": "e0dfecf7-d0fb-4a9d-e98b-c49300e6191a"
   },
   "execution_count": 43,
   "outputs": []
  },
  {
   "cell_type": "code",
   "source": [
    "X_train.shape"
   ],
   "metadata": {
    "id": "kcmF8ckROFv1",
    "colab": {
     "base_uri": "https://localhost:8080/"
    },
    "executionInfo": {
     "status": "ok",
     "timestamp": 1709164762077,
     "user_tz": 180,
     "elapsed": 2,
     "user": {
      "displayName": "Gabriel Oliveira",
      "userId": "12617440199896804275"
     }
    },
    "outputId": "bb70aece-4bab-428e-e43c-9fb65bda5e0f"
   },
   "execution_count": 25,
   "outputs": []
  },
  {
   "cell_type": "code",
   "source": [
    "from sklearn.linear_model import LogisticRegression\n",
    "model = LogisticRegression(penalty='none')\n",
    "model.fit(X_train, Y_train)"
   ],
   "metadata": {
    "id": "q7bp0j7kOJax",
    "colab": {
     "base_uri": "https://localhost:8080/",
     "height": 268
    },
    "executionInfo": {
     "status": "ok",
     "timestamp": 1709165331010,
     "user_tz": 180,
     "elapsed": 295,
     "user": {
      "displayName": "Gabriel Oliveira",
      "userId": "12617440199896804275"
     }
    },
    "outputId": "16ed82f3-e5ec-4f1c-d429-3e059552a06a"
   },
   "execution_count": 44,
   "outputs": []
  },
  {
   "cell_type": "code",
   "source": [
    "pd.DataFrame(model.coef_.T, index=X_train.columns)"
   ],
   "metadata": {
    "id": "b5iM_Ix0Y_9f",
    "colab": {
     "base_uri": "https://localhost:8080/",
     "height": 990
    },
    "executionInfo": {
     "status": "ok",
     "timestamp": 1709165339221,
     "user_tz": 180,
     "elapsed": 288,
     "user": {
      "displayName": "Gabriel Oliveira",
      "userId": "12617440199896804275"
     }
    },
    "outputId": "f8b77896-6474-463e-d6cd-106536aba24a"
   },
   "execution_count": 45,
   "outputs": []
  },
  {
   "cell_type": "code",
   "source": [
    "model.intercept_"
   ],
   "metadata": {
    "id": "np-bVT4gOYZj",
    "colab": {
     "base_uri": "https://localhost:8080/"
    },
    "executionInfo": {
     "status": "ok",
     "timestamp": 1709164789474,
     "user_tz": 180,
     "elapsed": 385,
     "user": {
      "displayName": "Gabriel Oliveira",
      "userId": "12617440199896804275"
     }
    },
    "outputId": "2e9a59bc-6189-40ad-ac76-9236d672a0b5"
   },
   "execution_count": 28,
   "outputs": []
  },
  {
   "cell_type": "code",
   "source": [
    "1/(1+np.exp(-model.intercept_))"
   ],
   "metadata": {
    "id": "fzRcY3fbZPHN",
    "colab": {
     "base_uri": "https://localhost:8080/"
    },
    "executionInfo": {
     "status": "ok",
     "timestamp": 1709164791710,
     "user_tz": 180,
     "elapsed": 278,
     "user": {
      "displayName": "Gabriel Oliveira",
      "userId": "12617440199896804275"
     }
    },
    "outputId": "1b7f8959-2070-4b4b-8a64-b3c270e1dd77"
   },
   "execution_count": 29,
   "outputs": []
  },
  {
   "cell_type": "code",
   "source": [
    "from sklearn.metrics import classification_report, confusion_matrix, roc_auc_score, roc_curve, RocCurveDisplay"
   ],
   "metadata": {
    "id": "bIuyZ_VxOhQC",
    "executionInfo": {
     "status": "ok",
     "timestamp": 1709164797936,
     "user_tz": 180,
     "elapsed": 7,
     "user": {
      "displayName": "Gabriel Oliveira",
      "userId": "12617440199896804275"
     }
    }
   },
   "execution_count": 30,
   "outputs": []
  },
  {
   "cell_type": "code",
   "source": [
    "pred_class = model.predict(X_test)"
   ],
   "metadata": {
    "id": "IxU_skYOOsXt",
    "executionInfo": {
     "status": "ok",
     "timestamp": 1709165513858,
     "user_tz": 180,
     "elapsed": 312,
     "user": {
      "displayName": "Gabriel Oliveira",
      "userId": "12617440199896804275"
     }
    }
   },
   "execution_count": 46,
   "outputs": []
  },
  {
   "cell_type": "code",
   "source": [
    "pred_class"
   ],
   "metadata": {
    "colab": {
     "base_uri": "https://localhost:8080/"
    },
    "id": "3jVd5ebfNGbh",
    "executionInfo": {
     "status": "ok",
     "timestamp": 1709165543381,
     "user_tz": 180,
     "elapsed": 3,
     "user": {
      "displayName": "Gabriel Oliveira",
      "userId": "12617440199896804275"
     }
    },
    "outputId": "60fd83bf-1084-47ef-b797-a56f371944e5"
   },
   "execution_count": 47,
   "outputs": []
  },
  {
   "cell_type": "code",
   "source": [
    "sum(Y_test)"
   ],
   "metadata": {
    "colab": {
     "base_uri": "https://localhost:8080/"
    },
    "id": "m30xv6KVNnkl",
    "executionInfo": {
     "status": "ok",
     "timestamp": 1709165682130,
     "user_tz": 180,
     "elapsed": 4,
     "user": {
      "displayName": "Gabriel Oliveira",
      "userId": "12617440199896804275"
     }
    },
    "outputId": "617545b2-84f9-4f25-c57e-4f06926b6fa6"
   },
   "execution_count": 50,
   "outputs": []
  },
  {
   "cell_type": "code",
   "source": [
    "len(Y_test)"
   ],
   "metadata": {
    "colab": {
     "base_uri": "https://localhost:8080/"
    },
    "id": "QDhRErY_N5Uc",
    "executionInfo": {
     "status": "ok",
     "timestamp": 1709165751759,
     "user_tz": 180,
     "elapsed": 2,
     "user": {
      "displayName": "Gabriel Oliveira",
      "userId": "12617440199896804275"
     }
    },
    "outputId": "c413d87e-950e-4a91-dd2a-cd88a9f8baa1"
   },
   "execution_count": 52,
   "outputs": []
  },
  {
   "cell_type": "code",
   "source": [
    "print(classification_report(Y_test, pred_class))"
   ],
   "metadata": {
    "id": "AZ72bQ8qOp2h",
    "colab": {
     "base_uri": "https://localhost:8080/"
    },
    "executionInfo": {
     "status": "ok",
     "timestamp": 1709164799746,
     "user_tz": 180,
     "elapsed": 5,
     "user": {
      "displayName": "Gabriel Oliveira",
      "userId": "12617440199896804275"
     }
    },
    "outputId": "fbca3cbb-8e39-4116-fd06-c71551c8ac77"
   },
   "execution_count": 32,
   "outputs": []
  },
  {
   "cell_type": "code",
   "source": [
    "(0.86+0.94)/2 macro"
   ],
   "metadata": {
    "colab": {
     "base_uri": "https://localhost:8080/"
    },
    "id": "umdnrUx_OskR",
    "executionInfo": {
     "status": "ok",
     "timestamp": 1709165966889,
     "user_tz": 180,
     "elapsed": 2,
     "user": {
      "displayName": "Gabriel Oliveira",
      "userId": "12617440199896804275"
     }
    },
    "outputId": "03295e37-b2df-449c-9db9-fe45ef478389"
   },
   "execution_count": 55,
   "outputs": []
  },
  {
   "cell_type": "code",
   "source": [
    "(0.86*63 + 0.94*108)/(63+108) weighted"
   ],
   "metadata": {
    "colab": {
     "base_uri": "https://localhost:8080/"
    },
    "id": "kraKWARqO2y2",
    "executionInfo": {
     "status": "ok",
     "timestamp": 1709166017158,
     "user_tz": 180,
     "elapsed": 270,
     "user": {
      "displayName": "Gabriel Oliveira",
      "userId": "12617440199896804275"
     }
    },
    "outputId": "404b1596-1d74-4bc0-d39b-fd839f93bf7e"
   },
   "execution_count": 56,
   "outputs": []
  },
  {
   "cell_type": "code",
   "source": [
    "(57+99)/(63+108)  acuracia"
   ],
   "metadata": {
    "colab": {
     "base_uri": "https://localhost:8080/"
    },
    "id": "lSw82S44Ogjz",
    "executionInfo": {
     "status": "ok",
     "timestamp": 1709165927431,
     "user_tz": 180,
     "elapsed": 298,
     "user": {
      "displayName": "Gabriel Oliveira",
      "userId": "12617440199896804275"
     }
    },
    "outputId": "76899c00-e07e-4a7f-826d-fc0bc4acf5f4"
   },
   "execution_count": 54,
   "outputs": []
  },
  {
   "cell_type": "code",
   "source": [
    "57/(57+9) precisao para o 0"
   ],
   "metadata": {
    "colab": {
     "base_uri": "https://localhost:8080/"
    },
    "id": "BcjEA-7mOoAR",
    "executionInfo": {
     "status": "ok",
     "timestamp": 1709166111778,
     "user_tz": 180,
     "elapsed": 2,
     "user": {
      "displayName": "Gabriel Oliveira",
      "userId": "12617440199896804275"
     }
    },
    "outputId": "9da3d2d9-f77f-4dc1-ff3e-ca7e8217159c"
   },
   "execution_count": 57,
   "outputs": []
  },
  {
   "cell_type": "code",
   "source": [
    "99/(99+6) precisao para o 1"
   ],
   "metadata": {
    "colab": {
     "base_uri": "https://localhost:8080/"
    },
    "id": "bp1f2VnOPU3C",
    "executionInfo": {
     "status": "ok",
     "timestamp": 1709166136857,
     "user_tz": 180,
     "elapsed": 339,
     "user": {
      "displayName": "Gabriel Oliveira",
      "userId": "12617440199896804275"
     }
    },
    "outputId": "af93182b-d3fc-42c8-cd7f-35781be7c9d9"
   },
   "execution_count": 58,
   "outputs": []
  },
  {
   "cell_type": "code",
   "source": [
    "57/(57+6) recall para o 0"
   ],
   "metadata": {
    "colab": {
     "base_uri": "https://localhost:8080/"
    },
    "id": "QUVNQ6CgPcgk",
    "executionInfo": {
     "status": "ok",
     "timestamp": 1709166174323,
     "user_tz": 180,
     "elapsed": 286,
     "user": {
      "displayName": "Gabriel Oliveira",
      "userId": "12617440199896804275"
     }
    },
    "outputId": "31dbb8be-22a3-4c39-f39b-05d50b61b98d"
   },
   "execution_count": 59,
   "outputs": []
  },
  {
   "cell_type": "code",
   "source": [
    "99/(99+9) recall para o 1"
   ],
   "metadata": {
    "colab": {
     "base_uri": "https://localhost:8080/"
    },
    "id": "SNElt3goPkc4",
    "executionInfo": {
     "status": "ok",
     "timestamp": 1709166193207,
     "user_tz": 180,
     "elapsed": 2,
     "user": {
      "displayName": "Gabriel Oliveira",
      "userId": "12617440199896804275"
     }
    },
    "outputId": "afb2834b-107e-4ac4-bbd8-835174acf63a"
   },
   "execution_count": 60,
   "outputs": []
  },
  {
   "cell_type": "code",
   "source": [
    "confusion_matrix(Y_test, pred_class)"
   ],
   "metadata": {
    "colab": {
     "base_uri": "https://localhost:8080/"
    },
    "id": "DjUcqSI9KS8s",
    "executionInfo": {
     "status": "ok",
     "timestamp": 1709165859687,
     "user_tz": 180,
     "elapsed": 263,
     "user": {
      "displayName": "Gabriel Oliveira",
      "userId": "12617440199896804275"
     }
    },
    "outputId": "60b1728f-c6ac-4dd7-a5bd-d7279f825cb9"
   },
   "execution_count": 53,
   "outputs": []
  },
  {
   "cell_type": "code",
   "source": [
    "from sklearn.metrics import recall_score"
   ],
   "metadata": {
    "id": "RLnF6yJ5PEs6",
    "executionInfo": {
     "status": "ok",
     "timestamp": 1709164863276,
     "user_tz": 180,
     "elapsed": 266,
     "user": {
      "displayName": "Gabriel Oliveira",
      "userId": "12617440199896804275"
     }
    }
   },
   "execution_count": 36,
   "outputs": []
  },
  {
   "cell_type": "code",
   "source": [
    "recall_score(Y_test, pred_class)"
   ],
   "metadata": {
    "id": "xc5qRXEWPHna",
    "colab": {
     "base_uri": "https://localhost:8080/"
    },
    "executionInfo": {
     "status": "ok",
     "timestamp": 1709166223654,
     "user_tz": 180,
     "elapsed": 256,
     "user": {
      "displayName": "Gabriel Oliveira",
      "userId": "12617440199896804275"
     }
    },
    "outputId": "b9cec9a7-976f-41b3-e1d2-3ee67d567164"
   },
   "execution_count": 61,
   "outputs": []
  },
  {
   "cell_type": "code",
   "source": [
    "recall_score(Y_test, pred_class, pos_label=0)"
   ],
   "metadata": {
    "id": "Zi7rMBoFPKw2",
    "colab": {
     "base_uri": "https://localhost:8080/"
    },
    "executionInfo": {
     "status": "ok",
     "timestamp": 1709166233489,
     "user_tz": 180,
     "elapsed": 273,
     "user": {
      "displayName": "Gabriel Oliveira",
      "userId": "12617440199896804275"
     }
    },
    "outputId": "eecb3069-8050-4f79-c4fb-22f061248a96"
   },
   "execution_count": 62,
   "outputs": []
  },
  {
   "cell_type": "code",
   "source": [
    "roc_auc = roc_auc_score(Y_test, pred_class)\n",
    "roc_auc"
   ],
   "metadata": {
    "id": "zQwyRGnnPB0k",
    "colab": {
     "base_uri": "https://localhost:8080/"
    },
    "executionInfo": {
     "status": "ok",
     "timestamp": 1709166237661,
     "user_tz": 180,
     "elapsed": 270,
     "user": {
      "displayName": "Gabriel Oliveira",
      "userId": "12617440199896804275"
     }
    },
    "outputId": "5c5e276c-d1fa-4816-98ae-a7d4a7deba92"
   },
   "execution_count": 63,
   "outputs": []
  },
  {
   "cell_type": "code",
   "source": [
    "fpr, tpr, thresholds = roc_curve(Y_test, pred_class)\n",
    "display = RocCurveDisplay(fpr=fpr, tpr=tpr, roc_auc=roc_auc)\n",
    "display.plot()"
   ],
   "metadata": {
    "id": "_J3ljOhyPpkx",
    "colab": {
     "base_uri": "https://localhost:8080/",
     "height": 466
    },
    "executionInfo": {
     "status": "ok",
     "timestamp": 1709166247217,
     "user_tz": 180,
     "elapsed": 346,
     "user": {
      "displayName": "Gabriel Oliveira",
      "userId": "12617440199896804275"
     }
    },
    "outputId": "cf132755-34d7-4e53-fffc-5e902e1d7147"
   },
   "execution_count": 64,
   "outputs": []
  },
  {
   "cell_type": "markdown",
   "source": [
    "Exercício:\n",
    "\n",
    "* Busca o limiar em que se obtém a melhor acurácia.\n",
    "\n",
    "Dica:\n",
    "Para realizar a busca faça:\n",
    "1. Gere o score de probabilidade\n",
    "2. Percorra uma lista de valores de limiar e a cada valor calcule a acurácia\n",
    "3. Obtenha o limiar com maior acurácia\n",
    "\n",
    "\n",
    "Para acessar P(Y=1) faça predict_proba()[:, 1]"
   ],
   "metadata": {
    "id": "sztPnLqBUBm4"
   }
  },
  {
   "cell_type": "code",
   "source": [
    "np.arange(0, 1, .1)"
   ],
   "metadata": {
    "colab": {
     "base_uri": "https://localhost:8080/"
    },
    "id": "7zvLO1_iQUjW",
    "executionInfo": {
     "status": "ok",
     "timestamp": 1709166392949,
     "user_tz": 180,
     "elapsed": 285,
     "user": {
      "displayName": "Gabriel Oliveira",
      "userId": "12617440199896804275"
     }
    },
    "outputId": "8b11bb5d-b535-42a9-e484-ebf881f8a344"
   },
   "execution_count": 72,
   "outputs": []
  },
  {
   "cell_type": "markdown",
   "source": [
    "#### Solução"
   ],
   "metadata": {
    "id": "265K8AE9UgWU"
   }
  },
  {
   "cell_type": "code",
   "source": [
    "predict_proba = model.predict_proba(X_test)"
   ],
   "metadata": {
    "id": "0PjrAU7mVGc6",
    "executionInfo": {
     "status": "ok",
     "timestamp": 1709166486262,
     "user_tz": 180,
     "elapsed": 282,
     "user": {
      "displayName": "Gabriel Oliveira",
      "userId": "12617440199896804275"
     }
    }
   },
   "execution_count": 73,
   "outputs": []
  },
  {
   "cell_type": "code",
   "source": [
    "predict_proba[:, 1]"
   ],
   "metadata": {
    "id": "dn_8t6vgVTAk",
    "colab": {
     "base_uri": "https://localhost:8080/"
    },
    "executionInfo": {
     "status": "ok",
     "timestamp": 1709166511443,
     "user_tz": 180,
     "elapsed": 260,
     "user": {
      "displayName": "Gabriel Oliveira",
      "userId": "12617440199896804275"
     }
    },
    "outputId": "ffc1201a-28f3-4ace-c45c-f8b7978dbdc5"
   },
   "execution_count": 75,
   "outputs": []
  },
  {
   "cell_type": "code",
   "source": [
    "predict_proba[:, 1] >= .5"
   ],
   "metadata": {
    "colab": {
     "base_uri": "https://localhost:8080/"
    },
    "id": "uKHEJLMLQ_ZA",
    "executionInfo": {
     "status": "ok",
     "timestamp": 1709166566699,
     "user_tz": 180,
     "elapsed": 2,
     "user": {
      "displayName": "Gabriel Oliveira",
      "userId": "12617440199896804275"
     }
    },
    "outputId": "52017665-eb79-41cb-aadb-4a73ce0eed57"
   },
   "execution_count": 76,
   "outputs": []
  },
  {
   "cell_type": "code",
   "source": [
    "from sklearn.metrics import accuracy_score\n",
    "\n",
    "\n",
    "predict_proba = model.predict_proba(X_test)[:, 1]\n",
    "acc_atual = 0\n",
    "thr_otimo = 0\n",
    "for thr in np.arange(0, 1, .1):\n",
    "  acc = accuracy_score(Y_test, predict_proba>=thr)\n",
    "  if acc >= acc_atual:\n",
    "    thr_otimo = thr\n",
    "    acc_atual = acc"
   ],
   "metadata": {
    "id": "QsAVnXpUUg_m",
    "executionInfo": {
     "status": "ok",
     "timestamp": 1709166626122,
     "user_tz": 180,
     "elapsed": 271,
     "user": {
      "displayName": "Gabriel Oliveira",
      "userId": "12617440199896804275"
     }
    }
   },
   "execution_count": 77,
   "outputs": []
  },
  {
   "cell_type": "code",
   "source": [
    "acc_atual"
   ],
   "metadata": {
    "id": "G_4uCmksVU4A",
    "colab": {
     "base_uri": "https://localhost:8080/"
    },
    "executionInfo": {
     "status": "ok",
     "timestamp": 1709166630517,
     "user_tz": 180,
     "elapsed": 382,
     "user": {
      "displayName": "Gabriel Oliveira",
      "userId": "12617440199896804275"
     }
    },
    "outputId": "8f7373d8-e552-44a2-8ebd-cbbeb2ddd308"
   },
   "execution_count": 78,
   "outputs": []
  },
  {
   "cell_type": "code",
   "source": [
    "thr_otimo"
   ],
   "metadata": {
    "id": "RlXQDlKSVV-k",
    "colab": {
     "base_uri": "https://localhost:8080/"
    },
    "executionInfo": {
     "status": "ok",
     "timestamp": 1709166635620,
     "user_tz": 180,
     "elapsed": 267,
     "user": {
      "displayName": "Gabriel Oliveira",
      "userId": "12617440199896804275"
     }
    },
    "outputId": "7d8044c2-07b5-4389-cc77-3bad27063043"
   },
   "execution_count": 79,
   "outputs": []
  },
  {
   "cell_type": "code",
   "source": [
    "np.round(predict_proba[100:110],3)"
   ],
   "metadata": {
    "colab": {
     "base_uri": "https://localhost:8080/"
    },
    "id": "FsLG_ir3SBrs",
    "executionInfo": {
     "status": "ok",
     "timestamp": 1709166943303,
     "user_tz": 180,
     "elapsed": 268,
     "user": {
      "displayName": "Gabriel Oliveira",
      "userId": "12617440199896804275"
     }
    },
    "outputId": "20f0efd4-7a7d-48c0-e0c8-c9feab31269c"
   },
   "execution_count": 95,
   "outputs": []
  },
  {
   "cell_type": "code",
   "source": [
    "pred_class[100:110]"
   ],
   "metadata": {
    "colab": {
     "base_uri": "https://localhost:8080/"
    },
    "id": "iI-JY0CJSm7a",
    "executionInfo": {
     "status": "ok",
     "timestamp": 1709167009919,
     "user_tz": 180,
     "elapsed": 3,
     "user": {
      "displayName": "Gabriel Oliveira",
      "userId": "12617440199896804275"
     }
    },
    "outputId": "ab792467-4008-446d-cc29-aead1571c6ca"
   },
   "execution_count": 98,
   "outputs": []
  },
  {
   "cell_type": "code",
   "source": [
    "predict_proba[100:110] >= .5"
   ],
   "metadata": {
    "colab": {
     "base_uri": "https://localhost:8080/"
    },
    "id": "6d29Jx_AR7zO",
    "executionInfo": {
     "status": "ok",
     "timestamp": 1709166978611,
     "user_tz": 180,
     "elapsed": 5,
     "user": {
      "displayName": "Gabriel Oliveira",
      "userId": "12617440199896804275"
     }
    },
    "outputId": "656e3baf-919f-44ae-a891-d7cfbbb0ef68"
   },
   "execution_count": 96,
   "outputs": []
  },
  {
   "cell_type": "code",
   "source": [
    "predict_proba[100:110] >= .7"
   ],
   "metadata": {
    "colab": {
     "base_uri": "https://localhost:8080/"
    },
    "id": "67vyVMXjS25V",
    "executionInfo": {
     "status": "ok",
     "timestamp": 1709167050683,
     "user_tz": 180,
     "elapsed": 287,
     "user": {
      "displayName": "Gabriel Oliveira",
      "userId": "12617440199896804275"
     }
    },
    "outputId": "2897816f-0924-4776-eaec-798f9f2265c6"
   },
   "execution_count": 99,
   "outputs": []
  },
  {
   "cell_type": "code",
   "source": [
    "np.round(predict_proba, 3)"
   ],
   "metadata": {
    "colab": {
     "base_uri": "https://localhost:8080/"
    },
    "id": "H9U3bSkqdliE",
    "executionInfo": {
     "status": "ok",
     "timestamp": 1709169894221,
     "user_tz": 180,
     "elapsed": 2,
     "user": {
      "displayName": "Gabriel Oliveira",
      "userId": "12617440199896804275"
     }
    },
    "outputId": "ede11fe0-2d28-4c62-aa24-a5e14a178d74"
   },
   "execution_count": 110,
   "outputs": []
  },
  {
   "cell_type": "code",
   "source": [
    "import plotly.express as px\n",
    "\n",
    "acc_lista = []\n",
    "for thr in np.arange(0, 1, .01):\n",
    "  acc_lista.append(accuracy_score(Y_test, predict_proba>=thr))\n",
    "\n",
    "px.line(x=np.arange(0, 1, .01), y=acc_lista)"
   ],
   "metadata": {
    "id": "VZCmqIVCVdK9",
    "colab": {
     "base_uri": "https://localhost:8080/",
     "height": 542
    },
    "executionInfo": {
     "status": "ok",
     "timestamp": 1709170035019,
     "user_tz": 180,
     "elapsed": 295,
     "user": {
      "displayName": "Gabriel Oliveira",
      "userId": "12617440199896804275"
     }
    },
    "outputId": "f28dc33a-3e1d-480e-a300-3a56ed5a8ee7"
   },
   "execution_count": 113,
   "outputs": []
  },
  {
   "cell_type": "code",
   "source": [
    "confusion_matrix(Y_test, pred_class)"
   ],
   "metadata": {
    "colab": {
     "base_uri": "https://localhost:8080/"
    },
    "id": "cxHrznXNTJ8D",
    "executionInfo": {
     "status": "ok",
     "timestamp": 1709167248334,
     "user_tz": 180,
     "elapsed": 284,
     "user": {
      "displayName": "Gabriel Oliveira",
      "userId": "12617440199896804275"
     }
    },
    "outputId": "00d65359-7e6a-472f-8873-89ca10fd98d4"
   },
   "execution_count": 103,
   "outputs": []
  },
  {
   "cell_type": "code",
   "source": [
    "confusion_matrix(Y_test, predict_proba>=.7)"
   ],
   "metadata": {
    "colab": {
     "base_uri": "https://localhost:8080/"
    },
    "id": "4Wy5M9DeTLBp",
    "executionInfo": {
     "status": "ok",
     "timestamp": 1709167144926,
     "user_tz": 180,
     "elapsed": 3,
     "user": {
      "displayName": "Gabriel Oliveira",
      "userId": "12617440199896804275"
     }
    },
    "outputId": "bcea725a-7052-41cc-8736-048fa13ee94e"
   },
   "execution_count": 101,
   "outputs": []
  },
  {
   "cell_type": "markdown",
   "source": [
    "Exercício:\n",
    "\n",
    "\n",
    "* Construa um gráfico que analise os valores de precisão, recall e f1 score para cada limiar.\n",
    "\n",
    "\n",
    "Dica:\n",
    "Para realizar a busca faça:\n",
    "1. Gere o score de probabilidade\n",
    "2. Percorra uma lista de valores de limiar e a cada valor calcule as métricas e salve em uma lista\n",
    "\n",
    "\n",
    "Construa um dataframe através dessa lista\n",
    "Utilize a função de line do plotly.express para gerar o gráfico.\n",
    "\n",
    "\n",
    "``` python\n",
    "import plotly.express as px\n",
    "px.line(df, x='limiar', y=['precisao', 'recall', 'f1'])\n",
    "```"
   ],
   "metadata": {
    "id": "CiWAhbMEXZAp"
   }
  },
  {
   "cell_type": "markdown",
   "source": [
    "#### Solução"
   ],
   "metadata": {
    "id": "LoNuqj20horJ"
   }
  },
  {
   "cell_type": "code",
   "source": [
    "from sklearn.metrics import f1_score, precision_score, recall_score\n",
    "\n",
    "\n",
    "predict_proba = model.predict_proba(X_test)[:, 1]\n",
    "row = []\n",
    "for thr in np.arange(0, 1, .1):\n",
    "  pre = precision_score(Y_test, predict_proba>thr)\n",
    "  rec = recall_score(Y_test, predict_proba>thr)\n",
    "  f1 = f1_score(Y_test, predict_proba>thr)\n",
    "\n",
    "  row.append((thr, pre, rec, f1))\n",
    "\n",
    "df = pd.DataFrame(row, columns=['thr', 'pre', 'rec', 'f1'])\n",
    "px.line(df, x='thr', y=['pre', 'rec'])"
   ],
   "metadata": {
    "id": "djotMTGBV1Ns",
    "colab": {
     "base_uri": "https://localhost:8080/",
     "height": 542
    },
    "executionInfo": {
     "status": "ok",
     "timestamp": 1709167311301,
     "user_tz": 180,
     "elapsed": 678,
     "user": {
      "displayName": "Gabriel Oliveira",
      "userId": "12617440199896804275"
     }
    },
    "outputId": "2f343126-09d7-4dc8-c6ce-36245f6d900e"
   },
   "execution_count": 105,
   "outputs": []
  },
  {
   "cell_type": "code",
   "source": [
    "from sklearn.metrics import f1_score, precision_score, recall_score\n",
    "\n",
    "\n",
    "predict_proba = model.predict_proba(X_test)[:, 1]\n",
    "row = []\n",
    "for thr in np.arange(0, 1, .1):\n",
    "  pre = precision_score(Y_test, predict_proba>thr, pos_label=0)\n",
    "  rec = recall_score(Y_test, predict_proba>thr, pos_label=0)\n",
    "  f1 = f1_score(Y_test, predict_proba>thr, pos_label=0)\n",
    "\n",
    "  row.append((thr, pre, rec, f1))\n",
    "\n",
    "df = pd.DataFrame(row, columns=['thr', 'pre', 'rec', 'f1'])\n",
    "px.line(df, x='thr', y=['pre', 'rec', 'f1'])"
   ],
   "metadata": {
    "id": "eIvjYZInW521",
    "colab": {
     "base_uri": "https://localhost:8080/",
     "height": 611
    },
    "executionInfo": {
     "status": "ok",
     "timestamp": 1709167822838,
     "user_tz": 180,
     "elapsed": 302,
     "user": {
      "displayName": "Gabriel Oliveira",
      "userId": "12617440199896804275"
     }
    },
    "outputId": "5926656b-d2b0-4901-fb93-7f1e9f07c923"
   },
   "execution_count": 106,
   "outputs": []
  }
 ]
}
