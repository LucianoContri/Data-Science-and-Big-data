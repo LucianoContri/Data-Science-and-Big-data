{
 "nbformat": 4,
 "nbformat_minor": 0,
 "metadata": {
  "colab": {
   "provenance": [],
   "authorship_tag": "ABX9TyMEFR/MG5AkloA0/9jsaY7Q"
  },
  "kernelspec": {
   "name": "python3",
   "display_name": "Python 3"
  },
  "language_info": {
   "name": "python"
  }
 },
 "cells": [
  {
   "cell_type": "markdown",
   "source": [
    "#Regressão - Treino do modelo\n",
    "---\n",
    "**Aula Prática 03**: Treinando modelo de regressão linear\n",
    "\n",
    "**Objetivo**: Treinar um modelo de regressão linear\n",
    "\n",
    "Banco de dados:\n",
    "\n",
    "**Gorjeta em restaurante**:\n",
    "\n",
    "Dataset disponibilizado pelo pacote plotly\n",
    "\n",
    "\"One waiter recorded information about each tip he received over a period of a few months working in one restaurant. He collected several variables:\n",
    "\n",
    "* tip in dollars,\n",
    "\n",
    "* bill in dollars,\n",
    "\n",
    "* sex of the bill payer,\n",
    "\n",
    "* whether there were smokers in the party,\n",
    "\n",
    "* day of the week,\n",
    "\n",
    "* time of day,\n",
    "\n",
    "* size of the party.\"\n",
    "\n",
    "**Preço de carros usados**\n",
    "\n",
    "[Disponivel no kaggle](https://www.kaggle.com/datasets/rishabhkarn/used-car-dataset/data)\n",
    "\n",
    "[Disponível para download](https://drive.google.com/file/d/1Ny6GypPH4AtJi6CJHmEUEI3KN11hDuGG/view?usp=drive_link)\n",
    "\n",
    "Usaremos o dado tratado na aula 2"
   ],
   "metadata": {
    "id": "wPe4zyAkaXU3"
   }
  },
  {
   "cell_type": "markdown",
   "source": [
    "##Import das principais funções e leitura dos dados\n",
    "\n",
    "\n",
    "---"
   ],
   "metadata": {
    "id": "K-LIzm41ax3o"
   }
  },
  {
   "cell_type": "code",
   "source": [
    "import pandas as pd #pacote para leitura dos dados\n",
    "import numpy as np\n",
    "import plotly.express as px"
   ],
   "metadata": {
    "id": "IeClxXVaazlo",
    "executionInfo": {
     "status": "ok",
     "timestamp": 1708560349746,
     "user_tz": 180,
     "elapsed": 954,
     "user": {
      "displayName": "Gabriel Oliveira",
      "userId": "12617440199896804275"
     }
    }
   },
   "execution_count": 1,
   "outputs": []
  },
  {
   "cell_type": "code",
   "source": [
    "df_tips = px.data.tips()"
   ],
   "metadata": {
    "id": "DZNbQm18Ksso",
    "executionInfo": {
     "status": "ok",
     "timestamp": 1708561184408,
     "user_tz": 180,
     "elapsed": 9,
     "user": {
      "displayName": "Gabriel Oliveira",
      "userId": "12617440199896804275"
     }
    }
   },
   "execution_count": 14,
   "outputs": []
  },
  {
   "cell_type": "code",
   "source": [
    "df_tips.head()"
   ],
   "metadata": {
    "colab": {
     "base_uri": "https://localhost:8080/",
     "height": 206
    },
    "id": "VXah87VpLh4G",
    "executionInfo": {
     "status": "ok",
     "timestamp": 1708560357599,
     "user_tz": 180,
     "elapsed": 19,
     "user": {
      "displayName": "Gabriel Oliveira",
      "userId": "12617440199896804275"
     }
    },
    "outputId": "62c74f68-9ee9-4785-998b-f04b6a2431e8"
   },
   "execution_count": 3,
   "outputs": []
  },
  {
   "cell_type": "code",
   "source": [
    "path = 'dado_tratado.csv'\n",
    "df = pd.read_csv(path)"
   ],
   "metadata": {
    "id": "5UxZr9mRauW0",
    "executionInfo": {
     "status": "ok",
     "timestamp": 1708560392959,
     "user_tz": 180,
     "elapsed": 405,
     "user": {
      "displayName": "Gabriel Oliveira",
      "userId": "12617440199896804275"
     }
    }
   },
   "execution_count": 4,
   "outputs": []
  },
  {
   "cell_type": "code",
   "source": [
    "df.head()"
   ],
   "metadata": {
    "colab": {
     "base_uri": "https://localhost:8080/",
     "height": 243
    },
    "id": "AHmnJLO_awNY",
    "executionInfo": {
     "status": "ok",
     "timestamp": 1708560395241,
     "user_tz": 180,
     "elapsed": 18,
     "user": {
      "displayName": "Gabriel Oliveira",
      "userId": "12617440199896804275"
     }
    },
    "outputId": "ce0cac0b-9e5c-4edf-9597-fca1261a11cb"
   },
   "execution_count": 5,
   "outputs": []
  },
  {
   "cell_type": "markdown",
   "source": [
    "## Treino de modelo de regressão - dataset Tips\n",
    "\n",
    "\n",
    "---\n",
    "\n",
    "\n",
    "Para treinar um modelo de regressão utilizaremos o pacote sklearn.\n",
    "\n",
    "\n",
    "### Separação do banco entre treino e teste\n",
    "O primeiro passo para se treinar um modelo é separar o banco entre treino e teste. Para isso utilizaremos a função train_test_split\n",
    "\n",
    "\n",
    "``` python\n",
    "from sklearn.model_selection import train_test_split\n",
    "X_train, X_test, Y_train, Y_test = train_test_split(X, Y, test_size=.3, random_state=15)\n",
    "```\n",
    "No exemplo acima X é um dataframe contendo as features do modelo e Y um dataframe com a variável target.\n",
    "\n",
    "\n",
    "O parâmetro test_size controla o percentual de dados que será utilizado para teste.\n",
    "\n",
    "\n",
    "O parâmetro random_state controla a aleatoriedade da geração do dado, permitindo que ao reexecutar o código seja gerado os mesmos bancos de treino e teste.\n",
    "\n",
    "\n",
    "É importante separar o banco entre treino e teste, pois utilizaremos o banco de treino para treinar modelos e o banco de teste para avaliar os modelos.\n",
    "\n",
    "\n",
    "### Treino do modelo\n",
    "Agora que já possuímos os dados de treino e teste vamos treinar o nosso modelo de regressão para isso utilizaremos o módulo LinearRegression\n",
    "\n",
    "\n",
    "``` python\n",
    "from sklearn.linear_model import LinearRegression\n",
    "model = LinearRegression()\n",
    "model.fit(X_train, Y_train)\n",
    "```\n",
    "\n",
    "\n",
    "No código acima o objeto model é do tipo LinearRegression, nele iremos fazer o ajuste do nosso modelo, realizar predições e também ficará armazenado nele os coeficientes do modelo.\n",
    "\n",
    "\n",
    "``` python\n",
    "# Para acessar os coeficientes\n",
    "model.coef_\n",
    "# Para acessar o intercepto\n",
    "model.intercept_\n",
    "# Para fazer predições\n",
    "model.predict(Y_test)\n",
    "```\n",
    "\n",
    "\n",
    "### Avaliação do modelo\n",
    "Para avaliar o modelo treinado utilizaremos as métricas vistas na aula teórica.\n",
    "\n",
    "\n",
    "``` python\n",
    "from sklearn.metrics import mean_squared_error, mean_absolute_error, r2_score\n",
    "\n",
    "# Erro médio quadrado\n",
    "mean_squared_error(Y_test, Y_predict)\n",
    "\n",
    "# Erro médio absoluto\n",
    "mean_absolute_error(Y_test, Y_predict)\n",
    "\n",
    "# R2 score\n",
    "r2_score(Y_test, Y_predict)\n",
    "```"
   ],
   "metadata": {
    "id": "Zx5RaivsLtCk"
   }
  },
  {
   "cell_type": "code",
   "source": [
    "from sklearn.model_selection import train_test_split\n",
    "from sklearn.linear_model import LinearRegression\n",
    "from sklearn.metrics import mean_squared_error, mean_absolute_error, r2_score"
   ],
   "metadata": {
    "id": "NXa0CyR_OKrU",
    "executionInfo": {
     "status": "ok",
     "timestamp": 1708560586985,
     "user_tz": 180,
     "elapsed": 1411,
     "user": {
      "displayName": "Gabriel Oliveira",
      "userId": "12617440199896804275"
     }
    }
   },
   "execution_count": 6,
   "outputs": []
  },
  {
   "cell_type": "markdown",
   "source": [
    "### Análise e processamento do dado\n",
    "\n",
    "\n",
    "---\n",
    "\n",
    "Exercício:\n",
    "\n",
    "\n",
    "* Análise o banco de dados de tips através da correlação das variáveis, há correlação?\n",
    "* Análise as variáveis categóricas e crie variáveis dummy para elas.\n",
    "\n",
    "\n"
   ],
   "metadata": {
    "id": "w4vRrsUFNsw6"
   }
  },
  {
   "cell_type": "markdown",
   "source": [
    "#### Solução"
   ],
   "metadata": {
    "id": "8WnWCwoMUKfG"
   }
  },
  {
   "cell_type": "code",
   "source": [
    "df_tips.corr(numeric_only=True)"
   ],
   "metadata": {
    "colab": {
     "base_uri": "https://localhost:8080/",
     "height": 143
    },
    "id": "M1kN96lBLwyT",
    "executionInfo": {
     "status": "ok",
     "timestamp": 1708561213213,
     "user_tz": 180,
     "elapsed": 484,
     "user": {
      "displayName": "Gabriel Oliveira",
      "userId": "12617440199896804275"
     }
    },
    "outputId": "931ae288-8d83-452f-990e-4239785a2e82"
   },
   "execution_count": 16,
   "outputs": []
  },
  {
   "cell_type": "code",
   "source": [
    "df_tips[['sex']].value_counts(dropna=False)"
   ],
   "metadata": {
    "colab": {
     "base_uri": "https://localhost:8080/"
    },
    "id": "I1RIGlB2MCBc",
    "executionInfo": {
     "status": "ok",
     "timestamp": 1708560966791,
     "user_tz": 180,
     "elapsed": 6,
     "user": {
      "displayName": "Gabriel Oliveira",
      "userId": "12617440199896804275"
     }
    },
    "outputId": "775913d6-c94a-4205-e524-ffa3fc277301"
   },
   "execution_count": 8,
   "outputs": []
  },
  {
   "cell_type": "code",
   "source": [
    "df_tips[['smoker']].value_counts(dropna=False)"
   ],
   "metadata": {
    "colab": {
     "base_uri": "https://localhost:8080/"
    },
    "id": "x85aHwruMKSy",
    "executionInfo": {
     "status": "ok",
     "timestamp": 1708560970972,
     "user_tz": 180,
     "elapsed": 432,
     "user": {
      "displayName": "Gabriel Oliveira",
      "userId": "12617440199896804275"
     }
    },
    "outputId": "0a512967-1f0a-4544-afe8-d001966026e8"
   },
   "execution_count": 9,
   "outputs": []
  },
  {
   "cell_type": "code",
   "source": [
    "df_tips[['day']].value_counts(dropna=False)"
   ],
   "metadata": {
    "colab": {
     "base_uri": "https://localhost:8080/"
    },
    "id": "Ahw9jWobMO8x",
    "executionInfo": {
     "status": "ok",
     "timestamp": 1708560977147,
     "user_tz": 180,
     "elapsed": 8,
     "user": {
      "displayName": "Gabriel Oliveira",
      "userId": "12617440199896804275"
     }
    },
    "outputId": "6c2f8c34-7287-4ce9-a0f4-54cfca6b0d3b"
   },
   "execution_count": 10,
   "outputs": []
  },
  {
   "cell_type": "code",
   "source": [
    "df_tips[['time']].value_counts(dropna=False)"
   ],
   "metadata": {
    "colab": {
     "base_uri": "https://localhost:8080/"
    },
    "id": "3MNRDa89MUzR",
    "executionInfo": {
     "status": "ok",
     "timestamp": 1708560982281,
     "user_tz": 180,
     "elapsed": 398,
     "user": {
      "displayName": "Gabriel Oliveira",
      "userId": "12617440199896804275"
     }
    },
    "outputId": "5d3a2e60-d49c-4e70-fc8f-d4087abe6d2c"
   },
   "execution_count": 11,
   "outputs": []
  },
  {
   "cell_type": "code",
   "source": [
    "df_tips = pd.get_dummies(df_tips, drop_first=True)\n",
    "df_tips.head()"
   ],
   "metadata": {
    "colab": {
     "base_uri": "https://localhost:8080/",
     "height": 206
    },
    "id": "yZDFCni_LzTt",
    "executionInfo": {
     "status": "ok",
     "timestamp": 1708560986290,
     "user_tz": 180,
     "elapsed": 558,
     "user": {
      "displayName": "Gabriel Oliveira",
      "userId": "12617440199896804275"
     }
    },
    "outputId": "aefbbb19-a991-4481-c5ef-87eeb59f6ccf"
   },
   "execution_count": 12,
   "outputs": []
  },
  {
   "cell_type": "markdown",
   "source": [
    "### Primeiro modelo\n",
    "\n",
    "\n",
    "---\n",
    "\n",
    "\n",
    "Exercício:\n",
    "\n",
    "\n",
    "* Construa um primeiro modelo utilizando a variável total_bill para explicar a variável tip. Use 30% do banco para teste.\n",
    "\n",
    "\n",
    "* Qual a interpretação do coeficiente?\n",
    "* Qual a interpretação do intercepto?\n",
    "* Faça as análises de apuração do modelo\n",
    "\n",
    "\n",
    "Dica:\n",
    "\n",
    "\n",
    "Ao se usar uma única variável é necessário modificar o formato do dado para que ele seja uma matriz. Para isso faça:\n",
    "\n",
    "\n",
    "``` python\n",
    "model.fit(np.array(X_train).reshape(-1,1), Y_train)\n",
    "```\n",
    "\n",
    "\n"
   ],
   "metadata": {
    "id": "dM-VqZE4Nyq6"
   }
  },
  {
   "cell_type": "markdown",
   "source": [
    "#### Solução"
   ],
   "metadata": {
    "id": "CEllxy8hUlgc"
   }
  },
  {
   "cell_type": "code",
   "source": [
    "X_train, X_test, Y_train, Y_test = train_test_split(df_tips['total_bill'],\n",
    "                                                    df_tips['tip'],\n",
    "                                                    test_size=.3,\n",
    "                                                    random_state=15)"
   ],
   "metadata": {
    "id": "eNFi1OTzMaip"
   },
   "execution_count": null,
   "outputs": []
  },
  {
   "cell_type": "code",
   "source": [
    "X_train.head()"
   ],
   "metadata": {
    "colab": {
     "base_uri": "https://localhost:8080/"
    },
    "id": "H8FdVFKPMfFw",
    "executionInfo": {
     "status": "ok",
     "timestamp": 1708512091981,
     "user_tz": 180,
     "elapsed": 38,
     "user": {
      "displayName": "Gabriel Oliveira",
      "userId": "12617440199896804275"
     }
    },
    "outputId": "521e7009-2d45-4979-dcc4-24ccfceaa0a7"
   },
   "execution_count": null,
   "outputs": []
  },
  {
   "cell_type": "code",
   "source": [
    "model = LinearRegression()\n",
    "model.fit(np.array(X_train).reshape(-1,1), Y_train)"
   ],
   "metadata": {
    "colab": {
     "base_uri": "https://localhost:8080/",
     "height": 74
    },
    "id": "nwhjiplWMgff",
    "executionInfo": {
     "status": "ok",
     "timestamp": 1708512091981,
     "user_tz": 180,
     "elapsed": 36,
     "user": {
      "displayName": "Gabriel Oliveira",
      "userId": "12617440199896804275"
     }
    },
    "outputId": "f7dfb5f5-ee9e-4d2d-ab5f-28f5694f5ee4"
   },
   "execution_count": null,
   "outputs": []
  },
  {
   "cell_type": "code",
   "source": [
    "model.coef_"
   ],
   "metadata": {
    "colab": {
     "base_uri": "https://localhost:8080/"
    },
    "id": "4T-PfuoHMizw",
    "executionInfo": {
     "status": "ok",
     "timestamp": 1708512091981,
     "user_tz": 180,
     "elapsed": 35,
     "user": {
      "displayName": "Gabriel Oliveira",
      "userId": "12617440199896804275"
     }
    },
    "outputId": "af7d9353-3a38-454d-9ac3-6ad62948043c"
   },
   "execution_count": null,
   "outputs": []
  },
  {
   "cell_type": "code",
   "source": [
    "model.intercept_"
   ],
   "metadata": {
    "colab": {
     "base_uri": "https://localhost:8080/"
    },
    "id": "L7ON1nXHMmDZ",
    "executionInfo": {
     "status": "ok",
     "timestamp": 1708512091982,
     "user_tz": 180,
     "elapsed": 33,
     "user": {
      "displayName": "Gabriel Oliveira",
      "userId": "12617440199896804275"
     }
    },
    "outputId": "b5518dfe-6e0e-4898-e37c-379589bb951f"
   },
   "execution_count": null,
   "outputs": []
  },
  {
   "cell_type": "code",
   "source": [
    "x_range = np.arange(0,10)\n",
    "\n",
    "px.line(x=x_range, y=model.predict(x_range.reshape(-1,1)))"
   ],
   "metadata": {
    "colab": {
     "base_uri": "https://localhost:8080/",
     "height": 542
    },
    "id": "8EMAPbs7Mu2r",
    "executionInfo": {
     "status": "ok",
     "timestamp": 1708512091982,
     "user_tz": 180,
     "elapsed": 31,
     "user": {
      "displayName": "Gabriel Oliveira",
      "userId": "12617440199896804275"
     }
    },
    "outputId": "9e3b3f40-af89-462e-903d-075744a06bd2"
   },
   "execution_count": null,
   "outputs": []
  },
  {
   "cell_type": "code",
   "source": [
    "predicao = model.predict(np.array(X_test).reshape(-1,1))\n",
    "real = Y_test\n",
    "\n",
    "\n",
    "px.scatter(x=X_test, y=[Y_test, predicao])"
   ],
   "metadata": {
    "colab": {
     "base_uri": "https://localhost:8080/",
     "height": 542
    },
    "id": "YmhA2MvnM7uu",
    "executionInfo": {
     "status": "ok",
     "timestamp": 1708512091982,
     "user_tz": 180,
     "elapsed": 29,
     "user": {
      "displayName": "Gabriel Oliveira",
      "userId": "12617440199896804275"
     }
    },
    "outputId": "251ee5d3-2730-4b25-e5a0-2f6fdadbb440"
   },
   "execution_count": null,
   "outputs": []
  },
  {
   "cell_type": "code",
   "source": [
    "mean_squared_error(Y_test, model.predict(np.array(X_test).reshape(-1,1)))"
   ],
   "metadata": {
    "colab": {
     "base_uri": "https://localhost:8080/"
    },
    "id": "-Izf14ocNoxF",
    "executionInfo": {
     "status": "ok",
     "timestamp": 1708512091982,
     "user_tz": 180,
     "elapsed": 28,
     "user": {
      "displayName": "Gabriel Oliveira",
      "userId": "12617440199896804275"
     }
    },
    "outputId": "a2a5b859-250a-4499-a6cf-460cbcda85c2"
   },
   "execution_count": null,
   "outputs": []
  },
  {
   "cell_type": "code",
   "source": [
    "mean_absolute_error(Y_test, model.predict(np.array(X_test).reshape(-1,1)))"
   ],
   "metadata": {
    "colab": {
     "base_uri": "https://localhost:8080/"
    },
    "id": "T-g_UTGQN_UF",
    "executionInfo": {
     "status": "ok",
     "timestamp": 1708512093023,
     "user_tz": 180,
     "elapsed": 1066,
     "user": {
      "displayName": "Gabriel Oliveira",
      "userId": "12617440199896804275"
     }
    },
    "outputId": "ec96b644-d058-4208-cf8c-07471ccf3c79"
   },
   "execution_count": null,
   "outputs": []
  },
  {
   "cell_type": "code",
   "source": [
    "r2_score(Y_test, model.predict(np.array(X_test).reshape(-1,1)))"
   ],
   "metadata": {
    "colab": {
     "base_uri": "https://localhost:8080/"
    },
    "id": "WJ6avFt8OBnB",
    "executionInfo": {
     "status": "ok",
     "timestamp": 1708512093023,
     "user_tz": 180,
     "elapsed": 73,
     "user": {
      "displayName": "Gabriel Oliveira",
      "userId": "12617440199896804275"
     }
    },
    "outputId": "ef46cbd1-eda7-4dcc-fedc-26e1774b5d3e"
   },
   "execution_count": null,
   "outputs": []
  },
  {
   "cell_type": "markdown",
   "source": [
    "### Modelo completo\n",
    "\n",
    "\n",
    "---\n",
    "Exercício:\n",
    "\n",
    "\n",
    "* Construa um modelo utilizando todas as variáveis disponíveis no banco. Use 30% do banco para teste.\n",
    "\n",
    "\n",
    "* Qual a interpretação do coeficiente?\n",
    "* Qual a interpretação do intercepto?\n",
    "* Faça as análises de apuração do modelo. Este modelo é melhor que o anterior?\n",
    "\n",
    "Dica:\n",
    "\n",
    "Para se obter um dataframe com os coeficientes e seus respectivos nomes faça:\n",
    "\n",
    "``` python\n",
    "pd.DataFrame(model.coef_, index=X_train.columns[X_train.columns!='tip'])\n",
    "```"
   ],
   "metadata": {
    "id": "WMygDv_6OQsA"
   }
  },
  {
   "cell_type": "markdown",
   "source": [
    "#### Solução"
   ],
   "metadata": {
    "id": "lw1cSrKbVmEI"
   }
  },
  {
   "cell_type": "code",
   "source": [
    "X_train, X_test, Y_train, Y_test = train_test_split(df_tips.loc[:, df_tips.columns != 'tip'],\n",
    "                                                    df_tips['tip'],\n",
    "                                                    test_size=.3,\n",
    "                                                    random_state=15)"
   ],
   "metadata": {
    "id": "rNKlVQfiOZBg"
   },
   "execution_count": null,
   "outputs": []
  },
  {
   "cell_type": "code",
   "source": [
    "model = LinearRegression()\n",
    "model.fit(X_train, Y_train)"
   ],
   "metadata": {
    "colab": {
     "base_uri": "https://localhost:8080/",
     "height": 74
    },
    "id": "UZBMmQWjOqEY",
    "executionInfo": {
     "status": "ok",
     "timestamp": 1708512093024,
     "user_tz": 180,
     "elapsed": 70,
     "user": {
      "displayName": "Gabriel Oliveira",
      "userId": "12617440199896804275"
     }
    },
    "outputId": "65f1945c-54f2-4636-f089-f4b6291ab64e"
   },
   "execution_count": null,
   "outputs": []
  },
  {
   "cell_type": "code",
   "source": [
    "pd.DataFrame(model.coef_, index=df_tips.columns[df_tips.columns!='tip'])"
   ],
   "metadata": {
    "colab": {
     "base_uri": "https://localhost:8080/",
     "height": 300
    },
    "id": "N4wJpoXqOuKm",
    "executionInfo": {
     "status": "ok",
     "timestamp": 1708512093024,
     "user_tz": 180,
     "elapsed": 68,
     "user": {
      "displayName": "Gabriel Oliveira",
      "userId": "12617440199896804275"
     }
    },
    "outputId": "0101c6d8-1ef9-488a-bbbb-3861525d7015"
   },
   "execution_count": null,
   "outputs": []
  },
  {
   "cell_type": "code",
   "source": [
    "model.intercept_"
   ],
   "metadata": {
    "colab": {
     "base_uri": "https://localhost:8080/"
    },
    "id": "PIbITnO6O3Ei",
    "executionInfo": {
     "status": "ok",
     "timestamp": 1708512093025,
     "user_tz": 180,
     "elapsed": 68,
     "user": {
      "displayName": "Gabriel Oliveira",
      "userId": "12617440199896804275"
     }
    },
    "outputId": "63c0bb6e-8817-48b1-e794-9b8e6dd3ef72"
   },
   "execution_count": null,
   "outputs": []
  },
  {
   "cell_type": "code",
   "source": [
    "mean_squared_error(Y_test, model.predict(X_test))"
   ],
   "metadata": {
    "colab": {
     "base_uri": "https://localhost:8080/"
    },
    "id": "zllABLm_O5JJ",
    "executionInfo": {
     "status": "ok",
     "timestamp": 1708512093025,
     "user_tz": 180,
     "elapsed": 65,
     "user": {
      "displayName": "Gabriel Oliveira",
      "userId": "12617440199896804275"
     }
    },
    "outputId": "6aa589fd-a5b9-488c-dd90-4d3c0c97882c"
   },
   "execution_count": null,
   "outputs": []
  },
  {
   "cell_type": "code",
   "source": [
    "mean_absolute_error(Y_test, model.predict(X_test))"
   ],
   "metadata": {
    "colab": {
     "base_uri": "https://localhost:8080/"
    },
    "id": "fHPu0R_OO9SI",
    "executionInfo": {
     "status": "ok",
     "timestamp": 1708512093025,
     "user_tz": 180,
     "elapsed": 63,
     "user": {
      "displayName": "Gabriel Oliveira",
      "userId": "12617440199896804275"
     }
    },
    "outputId": "4dc64f4f-9b0f-44f8-b53f-e4978daf0b8e"
   },
   "execution_count": null,
   "outputs": []
  },
  {
   "cell_type": "code",
   "source": [
    "r2_score(Y_test, model.predict(X_test))"
   ],
   "metadata": {
    "colab": {
     "base_uri": "https://localhost:8080/"
    },
    "id": "eQ9Ek7laPCnp",
    "executionInfo": {
     "status": "ok",
     "timestamp": 1708512093025,
     "user_tz": 180,
     "elapsed": 61,
     "user": {
      "displayName": "Gabriel Oliveira",
      "userId": "12617440199896804275"
     }
    },
    "outputId": "0c7e5adb-b4f7-48dc-a7b9-044b34b1cc94"
   },
   "execution_count": null,
   "outputs": []
  },
  {
   "cell_type": "markdown",
   "source": [
    "## Treino de modelo de regressão - dataset preço carro\n",
    "\n",
    "---\n",
    "Exercício:\n",
    "\n",
    "* Análise o banco de dados de preço de carros utilizando a correlação.\n",
    "* Há alguma variável correlacionada?"
   ],
   "metadata": {
    "id": "78Da9a7-NfBV"
   }
  },
  {
   "cell_type": "markdown",
   "source": [
    "#### Solução"
   ],
   "metadata": {
    "id": "uxLtKCmTVnmo"
   }
  },
  {
   "cell_type": "code",
   "source": [
    "df.corr()"
   ],
   "metadata": {
    "colab": {
     "base_uri": "https://localhost:8080/",
     "height": 720
    },
    "id": "2uoy6Tj-PmKC",
    "executionInfo": {
     "status": "ok",
     "timestamp": 1708512093026,
     "user_tz": 180,
     "elapsed": 59,
     "user": {
      "displayName": "Gabriel Oliveira",
      "userId": "12617440199896804275"
     }
    },
    "outputId": "3a219878-09a8-4e19-ef6c-090a7bac2257"
   },
   "execution_count": null,
   "outputs": []
  },
  {
   "cell_type": "code",
   "source": [
    "df = df.drop(columns=['max_power'])"
   ],
   "metadata": {
    "id": "HFPeU_qsPr9x"
   },
   "execution_count": null,
   "outputs": []
  },
  {
   "cell_type": "code",
   "source": [
    "df[df.transmission_tratado_None==1]"
   ],
   "metadata": {
    "colab": {
     "base_uri": "https://localhost:8080/",
     "height": 1000
    },
    "id": "8Wei_kPLP2x4",
    "executionInfo": {
     "status": "ok",
     "timestamp": 1708512093026,
     "user_tz": 180,
     "elapsed": 57,
     "user": {
      "displayName": "Gabriel Oliveira",
      "userId": "12617440199896804275"
     }
    },
    "outputId": "43d98456-371e-43e6-ff6d-207471ac5bcb"
   },
   "execution_count": null,
   "outputs": []
  },
  {
   "cell_type": "code",
   "source": [
    "df=df[df.transmission_tratado_None==0]"
   ],
   "metadata": {
    "id": "KqhMghf7P2Q4"
   },
   "execution_count": null,
   "outputs": []
  },
  {
   "cell_type": "code",
   "source": [
    "df = df.drop(columns=['ownsership_tratado_None', 'transmission_tratado_None'])"
   ],
   "metadata": {
    "id": "d2acIDUmQWU_"
   },
   "execution_count": null,
   "outputs": []
  },
  {
   "cell_type": "markdown",
   "source": [
    "### Primeiro modelo\n",
    "\n",
    "---\n",
    "\n",
    "Exercício:\n",
    "\n",
    "\n",
    "* Construa um primeiro modelo utilizando a variável kms_driven para explicar a variável price. Use 30% do banco para teste.\n",
    "\n",
    "\n",
    "* Qual a interpretação do coeficiente?\n",
    "* Qual a interpretação do intercepto?\n",
    "* Faça as análises de apuração do modelo"
   ],
   "metadata": {
    "id": "5qV7Cc_DPZmY"
   }
  },
  {
   "cell_type": "markdown",
   "source": [
    "#### Solução"
   ],
   "metadata": {
    "id": "d66TSmfeVykz"
   }
  },
  {
   "cell_type": "code",
   "source": [
    "X_train, X_test, Y_train, Y_test = train_test_split(df['kms_driven'],\n",
    "                                                    df['price'],\n",
    "                                                    test_size=.3,\n",
    "                                                    random_state=15)"
   ],
   "metadata": {
    "id": "_7VbjpHlbasY"
   },
   "execution_count": null,
   "outputs": []
  },
  {
   "cell_type": "code",
   "source": [
    "X_train.head()"
   ],
   "metadata": {
    "colab": {
     "base_uri": "https://localhost:8080/"
    },
    "id": "njHkGtN9cJBI",
    "executionInfo": {
     "status": "ok",
     "timestamp": 1708512093027,
     "user_tz": 180,
     "elapsed": 55,
     "user": {
      "displayName": "Gabriel Oliveira",
      "userId": "12617440199896804275"
     }
    },
    "outputId": "e94d4d13-3bf0-4ee8-c7c0-96d541cb2ce7"
   },
   "execution_count": null,
   "outputs": []
  },
  {
   "cell_type": "code",
   "source": [
    "Y_train.head()"
   ],
   "metadata": {
    "colab": {
     "base_uri": "https://localhost:8080/"
    },
    "id": "P0oQxyOHcKzd",
    "executionInfo": {
     "status": "ok",
     "timestamp": 1708512093027,
     "user_tz": 180,
     "elapsed": 54,
     "user": {
      "displayName": "Gabriel Oliveira",
      "userId": "12617440199896804275"
     }
    },
    "outputId": "7e33b41d-3fd4-4b22-802f-80836e4d8f96"
   },
   "execution_count": null,
   "outputs": []
  },
  {
   "cell_type": "code",
   "source": [
    "X_train.shape, X_test.shape"
   ],
   "metadata": {
    "colab": {
     "base_uri": "https://localhost:8080/"
    },
    "id": "I-nEyCD7cMzZ",
    "executionInfo": {
     "status": "ok",
     "timestamp": 1708512093028,
     "user_tz": 180,
     "elapsed": 51,
     "user": {
      "displayName": "Gabriel Oliveira",
      "userId": "12617440199896804275"
     }
    },
    "outputId": "2fa38a07-b370-4579-a308-c5369642fd13"
   },
   "execution_count": null,
   "outputs": []
  },
  {
   "cell_type": "code",
   "source": [
    "model = LinearRegression()\n",
    "model.fit(np.array(X_train).reshape(-1,1), Y_train)"
   ],
   "metadata": {
    "colab": {
     "base_uri": "https://localhost:8080/",
     "height": 74
    },
    "id": "oSxWVp8LcQ5J",
    "executionInfo": {
     "status": "ok",
     "timestamp": 1708512093028,
     "user_tz": 180,
     "elapsed": 48,
     "user": {
      "displayName": "Gabriel Oliveira",
      "userId": "12617440199896804275"
     }
    },
    "outputId": "5268a047-8af2-4773-c268-eef6c718d0af"
   },
   "execution_count": null,
   "outputs": []
  },
  {
   "cell_type": "code",
   "source": [
    "model.coef_"
   ],
   "metadata": {
    "colab": {
     "base_uri": "https://localhost:8080/"
    },
    "id": "HjLK9DHEceGt",
    "executionInfo": {
     "status": "ok",
     "timestamp": 1708512093028,
     "user_tz": 180,
     "elapsed": 47,
     "user": {
      "displayName": "Gabriel Oliveira",
      "userId": "12617440199896804275"
     }
    },
    "outputId": "e16e9fc7-a0ee-4ef5-8912-272d5e67a77e"
   },
   "execution_count": null,
   "outputs": []
  },
  {
   "cell_type": "code",
   "source": [
    "model.intercept_"
   ],
   "metadata": {
    "colab": {
     "base_uri": "https://localhost:8080/"
    },
    "id": "px23zCJwctcN",
    "executionInfo": {
     "status": "ok",
     "timestamp": 1708512093033,
     "user_tz": 180,
     "elapsed": 49,
     "user": {
      "displayName": "Gabriel Oliveira",
      "userId": "12617440199896804275"
     }
    },
    "outputId": "bb2a71f0-d084-4b2a-d1d5-95e02e8a5787"
   },
   "execution_count": null,
   "outputs": []
  },
  {
   "cell_type": "code",
   "source": [
    "model.predict(np.array([[100]]))"
   ],
   "metadata": {
    "colab": {
     "base_uri": "https://localhost:8080/"
    },
    "id": "KzESyh_Qc_9q",
    "executionInfo": {
     "status": "ok",
     "timestamp": 1708512093033,
     "user_tz": 180,
     "elapsed": 47,
     "user": {
      "displayName": "Gabriel Oliveira",
      "userId": "12617440199896804275"
     }
    },
    "outputId": "d6a0f0a9-5845-414e-d829-e4b6e37b27fc"
   },
   "execution_count": null,
   "outputs": []
  },
  {
   "cell_type": "code",
   "source": [
    "import plotly.express as px\n",
    "\n",
    "x_range = np.arange(0,10000)\n",
    "\n",
    "px.line(x=x_range, y=model.predict(x_range.reshape(-1,1)))"
   ],
   "metadata": {
    "colab": {
     "base_uri": "https://localhost:8080/",
     "height": 542
    },
    "id": "lR0m0ZYdc2eU",
    "executionInfo": {
     "status": "ok",
     "timestamp": 1708512093033,
     "user_tz": 180,
     "elapsed": 44,
     "user": {
      "displayName": "Gabriel Oliveira",
      "userId": "12617440199896804275"
     }
    },
    "outputId": "6547925a-53b0-4a9a-d183-1a120a7883de"
   },
   "execution_count": null,
   "outputs": []
  },
  {
   "cell_type": "code",
   "source": [
    "px.scatter(x=X_train, y=Y_train, trendline=\"ols\")"
   ],
   "metadata": {
    "colab": {
     "base_uri": "https://localhost:8080/",
     "height": 542
    },
    "id": "KVlgWXZ0drsz",
    "executionInfo": {
     "status": "ok",
     "timestamp": 1708512093034,
     "user_tz": 180,
     "elapsed": 42,
     "user": {
      "displayName": "Gabriel Oliveira",
      "userId": "12617440199896804275"
     }
    },
    "outputId": "1dac929a-6a18-4fed-a089-72a5936af46b"
   },
   "execution_count": null,
   "outputs": []
  },
  {
   "cell_type": "code",
   "source": [
    "mean_squared_error(Y_test, model.predict(np.array(X_test).reshape(-1,1)))"
   ],
   "metadata": {
    "colab": {
     "base_uri": "https://localhost:8080/"
    },
    "id": "Rr42JLnee54T",
    "executionInfo": {
     "status": "ok",
     "timestamp": 1708512093034,
     "user_tz": 180,
     "elapsed": 40,
     "user": {
      "displayName": "Gabriel Oliveira",
      "userId": "12617440199896804275"
     }
    },
    "outputId": "6c96dfc9-d086-45ab-b24f-9d9820caf366"
   },
   "execution_count": null,
   "outputs": []
  },
  {
   "cell_type": "code",
   "source": [
    "mean_absolute_error(Y_test, model.predict(np.array(X_test).reshape(-1,1)))"
   ],
   "metadata": {
    "colab": {
     "base_uri": "https://localhost:8080/"
    },
    "id": "NdGo8woQfFcG",
    "executionInfo": {
     "status": "ok",
     "timestamp": 1708512093904,
     "user_tz": 180,
     "elapsed": 907,
     "user": {
      "displayName": "Gabriel Oliveira",
      "userId": "12617440199896804275"
     }
    },
    "outputId": "4a8e25f3-f07b-40a0-8f17-50703dbec8dd"
   },
   "execution_count": null,
   "outputs": []
  },
  {
   "cell_type": "code",
   "source": [
    "r2_score(Y_test, model.predict(np.array(X_test).reshape(-1,1)))"
   ],
   "metadata": {
    "colab": {
     "base_uri": "https://localhost:8080/"
    },
    "id": "Xv1cN3AtfI-6",
    "executionInfo": {
     "status": "ok",
     "timestamp": 1708512093906,
     "user_tz": 180,
     "elapsed": 907,
     "user": {
      "displayName": "Gabriel Oliveira",
      "userId": "12617440199896804275"
     }
    },
    "outputId": "7b1bc2f8-3931-4354-9b04-3f60c11ead91"
   },
   "execution_count": null,
   "outputs": []
  },
  {
   "cell_type": "markdown",
   "source": [
    "### Modelo completo\n",
    "---\n",
    "Exercício:\n",
    "\n",
    "\n",
    "* Construa um modelo utilizando todas as variáveis disponíveis no banco. Use 30% do banco para teste.\n",
    "\n",
    "* Qual a interpretação do coeficiente?\n",
    "* Qual a interpretação do intercepto?\n",
    "* Faça as análises de apuração do modelo. Este modelo é melhor que o anterior?\n",
    "\n",
    "Remova as observações em que price é maior que 90 e treine um novo modelo.\n",
    "\n",
    "* Qual a interpretação do coeficiente?\n",
    "* Qual a interpretação do intercepto?\n",
    "* Plot a predição vs valor real, você percebe algo estranho?\n"
   ],
   "metadata": {
    "id": "f9K0UPGaPgvL"
   }
  },
  {
   "cell_type": "markdown",
   "source": [
    "#### Solução"
   ],
   "metadata": {
    "id": "3LoyKSrdWM62"
   }
  },
  {
   "cell_type": "code",
   "source": [
    "var = [col for col in df.columns if col!='price']"
   ],
   "metadata": {
    "id": "MizJwrX1fa-v"
   },
   "execution_count": null,
   "outputs": []
  },
  {
   "cell_type": "code",
   "source": [
    "X_train, X_test, Y_train, Y_test = train_test_split(df[var],\n",
    "                                                    df['price'],\n",
    "                                                    test_size=.3,\n",
    "                                                    random_state=15)"
   ],
   "metadata": {
    "id": "XU_7jpXWfWxI"
   },
   "execution_count": null,
   "outputs": []
  },
  {
   "cell_type": "code",
   "source": [
    "model = LinearRegression()\n",
    "model.fit(X_train, Y_train)"
   ],
   "metadata": {
    "colab": {
     "base_uri": "https://localhost:8080/",
     "height": 74
    },
    "id": "KOa9yOCFfkIt",
    "executionInfo": {
     "status": "ok",
     "timestamp": 1708512093907,
     "user_tz": 180,
     "elapsed": 69,
     "user": {
      "displayName": "Gabriel Oliveira",
      "userId": "12617440199896804275"
     }
    },
    "outputId": "b6beed3c-e089-4113-e043-5ca22bd8ff5c"
   },
   "execution_count": null,
   "outputs": []
  },
  {
   "cell_type": "code",
   "source": [
    "pd.DataFrame(model.coef_, index=var)"
   ],
   "metadata": {
    "colab": {
     "base_uri": "https://localhost:8080/",
     "height": 488
    },
    "id": "9rcdOdBMfqbC",
    "executionInfo": {
     "status": "ok",
     "timestamp": 1708512093908,
     "user_tz": 180,
     "elapsed": 68,
     "user": {
      "displayName": "Gabriel Oliveira",
      "userId": "12617440199896804275"
     }
    },
    "outputId": "21bba645-8ffd-4125-d8d8-143a66f75473"
   },
   "execution_count": null,
   "outputs": []
  },
  {
   "cell_type": "code",
   "source": [
    "df.price.quantile([.9, .95, .99])"
   ],
   "metadata": {
    "colab": {
     "base_uri": "https://localhost:8080/"
    },
    "id": "_bP0aAjnfuW2",
    "executionInfo": {
     "status": "ok",
     "timestamp": 1708512093908,
     "user_tz": 180,
     "elapsed": 65,
     "user": {
      "displayName": "Gabriel Oliveira",
      "userId": "12617440199896804275"
     }
    },
    "outputId": "32cb986c-08e1-4f48-cf8c-23ca5f259461"
   },
   "execution_count": null,
   "outputs": []
  },
  {
   "cell_type": "code",
   "source": [
    "df = df[df.price < 90]"
   ],
   "metadata": {
    "id": "OW86KjNpgFDp"
   },
   "execution_count": null,
   "outputs": []
  },
  {
   "cell_type": "code",
   "source": [
    "X_train, X_test, Y_train, Y_test = train_test_split(df[var],\n",
    "                                                    df['price'],\n",
    "                                                    test_size=.3,\n",
    "                                                    random_state=15)\n",
    "model = LinearRegression()\n",
    "model.fit(X_train, Y_train)"
   ],
   "metadata": {
    "colab": {
     "base_uri": "https://localhost:8080/",
     "height": 74
    },
    "id": "dnGby3WbgIhq",
    "executionInfo": {
     "status": "ok",
     "timestamp": 1708512093909,
     "user_tz": 180,
     "elapsed": 60,
     "user": {
      "displayName": "Gabriel Oliveira",
      "userId": "12617440199896804275"
     }
    },
    "outputId": "217b1949-c71f-4203-b8a2-f011f145e2a3"
   },
   "execution_count": null,
   "outputs": []
  },
  {
   "cell_type": "code",
   "source": [
    "pd.DataFrame(model.coef_, index=var)"
   ],
   "metadata": {
    "colab": {
     "base_uri": "https://localhost:8080/",
     "height": 488
    },
    "id": "T3LjD0kEgK65",
    "executionInfo": {
     "status": "ok",
     "timestamp": 1708512093909,
     "user_tz": 180,
     "elapsed": 59,
     "user": {
      "displayName": "Gabriel Oliveira",
      "userId": "12617440199896804275"
     }
    },
    "outputId": "dc94a8ef-c9dc-412e-f3cd-17898bb58dd4"
   },
   "execution_count": null,
   "outputs": []
  },
  {
   "cell_type": "code",
   "source": [
    "model.intercept_"
   ],
   "metadata": {
    "colab": {
     "base_uri": "https://localhost:8080/"
    },
    "id": "TwxxOvS4QPRK",
    "executionInfo": {
     "status": "ok",
     "timestamp": 1708512093909,
     "user_tz": 180,
     "elapsed": 57,
     "user": {
      "displayName": "Gabriel Oliveira",
      "userId": "12617440199896804275"
     }
    },
    "outputId": "559a053f-ed31-46fd-b040-00966b234e97"
   },
   "execution_count": null,
   "outputs": []
  },
  {
   "cell_type": "code",
   "source": [
    "r2_score(Y_test, model.predict(X_test))"
   ],
   "metadata": {
    "colab": {
     "base_uri": "https://localhost:8080/"
    },
    "id": "AUmUVDBxg3uA",
    "executionInfo": {
     "status": "ok",
     "timestamp": 1708512093910,
     "user_tz": 180,
     "elapsed": 54,
     "user": {
      "displayName": "Gabriel Oliveira",
      "userId": "12617440199896804275"
     }
    },
    "outputId": "337ed4c0-ae46-45c1-8c5a-2ddf2ef4cac2"
   },
   "execution_count": null,
   "outputs": []
  },
  {
   "cell_type": "code",
   "source": [
    "mean_absolute_error(Y_test, model.predict(X_test))"
   ],
   "metadata": {
    "colab": {
     "base_uri": "https://localhost:8080/"
    },
    "id": "oe2PmtLwhAvg",
    "executionInfo": {
     "status": "ok",
     "timestamp": 1708512093910,
     "user_tz": 180,
     "elapsed": 50,
     "user": {
      "displayName": "Gabriel Oliveira",
      "userId": "12617440199896804275"
     }
    },
    "outputId": "72a8c863-f0db-4ecc-9ffb-bca4f9b58a9d"
   },
   "execution_count": null,
   "outputs": []
  },
  {
   "cell_type": "code",
   "source": [
    "px.scatter(x=Y_train, y=model.predict(X_train))"
   ],
   "metadata": {
    "colab": {
     "base_uri": "https://localhost:8080/",
     "height": 542
    },
    "id": "5wrnz42ehKJB",
    "executionInfo": {
     "status": "ok",
     "timestamp": 1708512093910,
     "user_tz": 180,
     "elapsed": 47,
     "user": {
      "displayName": "Gabriel Oliveira",
      "userId": "12617440199896804275"
     }
    },
    "outputId": "d7960c61-aaea-4d35-f0d5-05c5b26e579a"
   },
   "execution_count": null,
   "outputs": []
  },
  {
   "cell_type": "markdown",
   "source": [
    "### Transformação nos dados\n",
    "---\n",
    "Exercício:\n",
    "\n",
    "* Transforme a variável price para o seu logaritmo\n",
    "* Ajuste um modelo utilizando o logaritmo\n",
    "* Plot o exponencial da predição vs valor real. O modelo melhorou?"
   ],
   "metadata": {
    "id": "WuRx82m3QuhN"
   }
  },
  {
   "cell_type": "markdown",
   "source": [
    "#### Solução"
   ],
   "metadata": {
    "id": "_vnbxzHyWesj"
   }
  },
  {
   "cell_type": "code",
   "source": [
    "model = LinearRegression()\n",
    "model.fit(X_train, np.log(Y_train))\n",
    "pd.DataFrame(np.round(model.coef_,4), index=var)"
   ],
   "metadata": {
    "colab": {
     "base_uri": "https://localhost:8080/",
     "height": 488
    },
    "id": "DBUq8LFDJ1LR",
    "executionInfo": {
     "status": "ok",
     "timestamp": 1708512093911,
     "user_tz": 180,
     "elapsed": 46,
     "user": {
      "displayName": "Gabriel Oliveira",
      "userId": "12617440199896804275"
     }
    },
    "outputId": "d5a29971-669e-4140-f698-cb4140bcd8d7"
   },
   "execution_count": null,
   "outputs": []
  },
  {
   "cell_type": "code",
   "source": [
    "px.scatter(x=np.log(Y_train), y=model.predict(X_train))"
   ],
   "metadata": {
    "colab": {
     "base_uri": "https://localhost:8080/",
     "height": 542
    },
    "id": "xok5oye1KDOs",
    "executionInfo": {
     "status": "ok",
     "timestamp": 1708512093911,
     "user_tz": 180,
     "elapsed": 45,
     "user": {
      "displayName": "Gabriel Oliveira",
      "userId": "12617440199896804275"
     }
    },
    "outputId": "77a0b000-9d9b-448e-eeb5-cd9a1d571be7"
   },
   "execution_count": null,
   "outputs": []
  },
  {
   "cell_type": "code",
   "source": [
    "px.scatter(x=Y_test, y=np.exp(model.predict(X_test)))"
   ],
   "metadata": {
    "colab": {
     "base_uri": "https://localhost:8080/",
     "height": 542
    },
    "id": "rASz1WUrKcdj",
    "executionInfo": {
     "status": "ok",
     "timestamp": 1708512138983,
     "user_tz": 180,
     "elapsed": 9,
     "user": {
      "displayName": "Gabriel Oliveira",
      "userId": "12617440199896804275"
     }
    },
    "outputId": "f99c5cec-a898-4708-aff2-0fe9668dbd5c"
   },
   "execution_count": null,
   "outputs": []
  }
 ]
}
