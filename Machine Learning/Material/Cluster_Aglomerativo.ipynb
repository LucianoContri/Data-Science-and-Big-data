{
  "nbformat": 4,
  "nbformat_minor": 0,
  "metadata": {
    "colab": {
      "provenance": [],
      "toc_visible": true
    },
    "kernelspec": {
      "name": "python3",
      "display_name": "Python 3"
    },
    "language_info": {
      "name": "python"
    }
  },
  "cells": [
    {
      "cell_type": "markdown",
      "source": [
        "#Agrupamento\n",
        "---\n",
        "**Aula Prática 13**: Agrupamento utilizando Aglomerativo\n",
        "\n",
        "\n",
        "**Objetivo**: Realizar o agrupamento de um banco de dados\n",
        "\n",
        "\n",
        "Banco de dados:\n",
        "Iremos utilizar um banco de dados sintético\n",
        "\n",
        "\n",
        "--------------------------------------------------------------\n",
        "# Aglomerativo\n",
        "\n",
        "\n",
        "Para realizar a aplicação do modelo Aglomerativo utilizaremos a função do sklearn.\n",
        "\n",
        "\n",
        "```python\n",
        "from sklearn.cluster import AgglomerativeClustering\n",
        "\n",
        "\n",
        "agg = AgglomerativeClustering(n_cluster=3)\n",
        "y_pred = agg.fit_predict(X)\n",
        "```\n",
        "\n",
        "\n",
        "Para o AgglomerativeClustering é possível passar o número de clusters que serão gerados (n_cluster) ou é possível passar a distância maxima aceita entre clusters (distance_threshold).\n",
        "\n",
        "Outros parâmetros:\n",
        "* metric: métrica de distância a ser usada. Default: euclidiana.\n",
        "* linkage: método de ligação dos clusters. Default: Ward\n",
        "\n",
        "O objeto y_pred irá conter o rótulo do cluster de cada observação.\n",
        "\n",
        "\n",
        "Para avaliar a qualidade do agrupamento:\n",
        "\n",
        "\n",
        "1. Quando se possui os rótulos:\n",
        "Utilizar os métodos ARI e NMI\n",
        "\n",
        "\n",
        "```python\n",
        "from sklearn.metrics.cluster import adjusted_rand_score normalized_mutual_info_score\n",
        "adjusted_rand_score(y_real, y_pred)\n",
        "normalized_mutual_info_score(y_real, y_pred)\n",
        "```\n",
        "\n",
        "\n",
        "Quanto mais próximo de 1 melhor.\n",
        "\n",
        "\n",
        "2. Quando não se possui os rótulos:\n",
        "Utilizar o silhouette score\n",
        "```python\n",
        "from sklearn.metrics.cluster import silhouette_score\n",
        "silhouette_score(X, y_pred)\n",
        "```\n",
        "\n",
        "\n",
        "Quanto mais próximo de 1 indicativo de grupos bons, quanto mais próximos de -1 indicativo de agrupamentos ruins (misturados)\n",
        "\n",
        "\n"
      ],
      "metadata": {
        "id": "7BcK0juwdT_h"
      }
    },
    {
      "cell_type": "markdown",
      "source": [
        "## Agrupamento para dados simples"
      ],
      "metadata": {
        "id": "QHuW78hwbtWq"
      }
    },
    {
      "cell_type": "code",
      "execution_count": null,
      "metadata": {
        "id": "ZBmZZsPSHQKp"
      },
      "outputs": [],
      "source": [
        "from sklearn.datasets import make_moons, make_blobs\n",
        "from sklearn.cluster import AgglomerativeClustering"
      ]
    },
    {
      "cell_type": "code",
      "source": [
        "X_varied, y_varied = make_blobs(n_samples=200,\n",
        "                                cluster_std=[1.0, 2.5, 0.5],\n",
        "                                random_state=170)"
      ],
      "metadata": {
        "id": "qSUiwranQUp2"
      },
      "execution_count": null,
      "outputs": []
    },
    {
      "cell_type": "code",
      "source": [
        "px.scatter(x=X_varied[:, 0], y=X_varied[:, 1], color=y_varied.astype(str))"
      ],
      "metadata": {
        "id": "rRXav5xlfUhB"
      },
      "execution_count": null,
      "outputs": []
    },
    {
      "cell_type": "code",
      "source": [
        "y_pred = AgglomerativeClustering(n_clusters=3).fit_predict(X_varied)"
      ],
      "metadata": {
        "id": "gB-r9JA_Qd_p"
      },
      "execution_count": null,
      "outputs": []
    },
    {
      "cell_type": "code",
      "source": [
        "import plotly.express as px"
      ],
      "metadata": {
        "id": "s1_t5wpwQuPr"
      },
      "execution_count": null,
      "outputs": []
    },
    {
      "cell_type": "code",
      "source": [
        "px.scatter(x=X_varied[:, 0], y=X_varied[:, 1], color=y_pred.astype(str))"
      ],
      "metadata": {
        "id": "2SQKSW6VQxEk"
      },
      "execution_count": null,
      "outputs": []
    },
    {
      "cell_type": "markdown",
      "source": [
        "## Avaliação"
      ],
      "metadata": {
        "id": "KLl6CaZjbxpU"
      }
    },
    {
      "cell_type": "code",
      "source": [
        "from sklearn.metrics.cluster import adjusted_rand_score, silhouette_score, normalized_mutual_info_score"
      ],
      "metadata": {
        "id": "JqOyTBsjSRd-"
      },
      "execution_count": null,
      "outputs": []
    },
    {
      "cell_type": "code",
      "source": [
        "adjusted_rand_score(y_varied, y_pred)"
      ],
      "metadata": {
        "id": "RLZiLyCpSYUj"
      },
      "execution_count": null,
      "outputs": []
    },
    {
      "cell_type": "code",
      "source": [
        "normalized_mutual_info_score(y_varied, y_pred)"
      ],
      "metadata": {
        "id": "BweuusfsTMgz"
      },
      "execution_count": null,
      "outputs": []
    },
    {
      "cell_type": "code",
      "source": [
        "silhouette_score(X_varied, y_pred)"
      ],
      "metadata": {
        "id": "N7ZqgewwSnKp"
      },
      "execution_count": null,
      "outputs": []
    },
    {
      "cell_type": "code",
      "source": [
        "y_pred = AgglomerativeClustering(n_clusters=3, linkage='ward').fit_predict(X_varied)\n",
        "px.scatter(x=X_varied[:, 0], y=X_varied[:, 1], color=y_pred.astype(str))"
      ],
      "metadata": {
        "id": "17oCnS50Reeu"
      },
      "execution_count": null,
      "outputs": []
    },
    {
      "cell_type": "code",
      "source": [
        "y_pred = AgglomerativeClustering(n_clusters=3, linkage='complete').fit_predict(X_varied)\n",
        "px.scatter(x=X_varied[:, 0], y=X_varied[:, 1], color=y_pred.astype(str))"
      ],
      "metadata": {
        "id": "86PLTPtAR2Yw"
      },
      "execution_count": null,
      "outputs": []
    },
    {
      "cell_type": "code",
      "source": [
        "y_pred = AgglomerativeClustering(n_clusters=3, linkage='average').fit_predict(X_varied)\n",
        "px.scatter(x=X_varied[:, 0], y=X_varied[:, 1], color=y_pred.astype(str))"
      ],
      "metadata": {
        "id": "26kJrWJddUlO"
      },
      "execution_count": null,
      "outputs": []
    },
    {
      "cell_type": "markdown",
      "source": [
        "## Agrupamento dados complexos"
      ],
      "metadata": {
        "id": "uf5EPFejb8WO"
      }
    },
    {
      "cell_type": "code",
      "source": [
        "X, y = make_moons(n_samples=200, noise=0.05, random_state=0)\n",
        "agg = AgglomerativeClustering(n_clusters=2)\n",
        "y_pred = agg.fit_predict(X)\n",
        "px.scatter(x=X[:, 0], y=X[:, 1], color=y_pred.astype(str))"
      ],
      "metadata": {
        "id": "YBLbVWw_SD9X"
      },
      "execution_count": null,
      "outputs": []
    },
    {
      "cell_type": "code",
      "source": [
        "adjusted_rand_score(y, y_pred)"
      ],
      "metadata": {
        "id": "NlE2P0NuSAXA"
      },
      "execution_count": null,
      "outputs": []
    },
    {
      "cell_type": "code",
      "source": [
        "normalized_mutual_info_score(y, y_pred)"
      ],
      "metadata": {
        "id": "qMNJ943ETPHd"
      },
      "execution_count": null,
      "outputs": []
    },
    {
      "cell_type": "code",
      "source": [
        "silhouette_score(X, y_pred)"
      ],
      "metadata": {
        "id": "M_PicmyPS2VL"
      },
      "execution_count": null,
      "outputs": []
    },
    {
      "cell_type": "markdown",
      "source": [
        "## Analisando hierarquia"
      ],
      "metadata": {
        "id": "XlqMhexidnLI"
      }
    },
    {
      "cell_type": "code",
      "source": [
        "from scipy.cluster.hierarchy import linkage"
      ],
      "metadata": {
        "id": "l71rPPxidppU"
      },
      "execution_count": null,
      "outputs": []
    },
    {
      "cell_type": "code",
      "source": [
        "X_varied, y_varied = make_blobs(n_samples=200,\n",
        "                                cluster_std=[1.0, 2.5, 0.5],\n",
        "                                random_state=170)"
      ],
      "metadata": {
        "id": "sBPnF6G8dt9h"
      },
      "execution_count": null,
      "outputs": []
    },
    {
      "cell_type": "code",
      "source": [
        "import plotly.figure_factory as ff"
      ],
      "metadata": {
        "id": "13BVQHszejZ8"
      },
      "execution_count": null,
      "outputs": []
    },
    {
      "cell_type": "code",
      "source": [
        "ff.create_dendrogram(\n",
        "    X_varied, orientation='bottom',\n",
        "    linkagefun=lambda x: linkage(X_varied, 'ward', metric='euclidean')\n",
        ")"
      ],
      "metadata": {
        "id": "6VO4xzModxK-"
      },
      "execution_count": null,
      "outputs": []
    },
    {
      "cell_type": "code",
      "source": [
        "ff.create_dendrogram(\n",
        "    X_varied, orientation='bottom',\n",
        "    linkagefun=lambda x: linkage(X_varied, 'complete', metric='euclidean')\n",
        ")"
      ],
      "metadata": {
        "id": "i1ZvU9CcfLJK"
      },
      "execution_count": null,
      "outputs": []
    }
  ]
}