{
 "nbformat": 4,
 "nbformat_minor": 0,
 "metadata": {
  "colab": {
   "provenance": [],
   "authorship_tag": "ABX9TyP2h+9/+oh6PX6Exmoa9nSM"
  },
  "kernelspec": {
   "name": "python3",
   "display_name": "Python 3"
  },
  "language_info": {
   "name": "python"
  }
 },
 "cells": [
  {
   "cell_type": "markdown",
   "source": [
    "#Regressão -Preparação de features\n",
    "---\n",
    "**Aula Prática 02**: Preparamento de features\n",
    "\n",
    "\n",
    "**Objetivo**: Preparar features para serem treinadas em um modelo.\n",
    "\n",
    "\n",
    "Banco de dados:\n",
    "\n",
    "\n",
    "Preço de carros usados\n",
    "\n",
    "\n",
    "[Disponivel no kaggle](https://www.kaggle.com/datasets/rishabhkarn/used-car-dataset/data)\n",
    "\n",
    "\n",
    "[Disponível para download](https://drive.google.com/file/d/1Ny6GypPH4AtJi6CJHmEUEI3KN11hDuGG/view?usp=drive_link)\n",
    "\n",
    "\n",
    "Descrição dos dados:\n",
    "* car_name: nome do carro\n",
    "* registration_year: ano de registro\n",
    "* insurance_validity: tipo de seguro\n",
    "* fuel_type: tipo de combustivel\n",
    "* seats: número de assentos\n",
    "* kms_drive: total km dirigidos\n",
    "* ownsership: número de proprietarios\n",
    "* transmission: tipo de cambio\n",
    "* manufacturing_year: ano de fabricação\n",
    "* mileage(kmpl): km por litro\n",
    "* engine (cc): tamanho do motor\n",
    "* max_power(bhp): potência do carro\n",
    "* torque(Nm): torque do motor\n",
    "* price (in lakhs): preço em lakhs (medida indiana para 100.000)"
   ],
   "metadata": {
    "id": "ZxfDg8mmPiGi"
   }
  },
  {
   "cell_type": "markdown",
   "source": [
    "##Import das principais funções e leitura dos dados\n",
    "\n",
    "\n",
    "---\n"
   ],
   "metadata": {
    "id": "h_zic1TnPvO4"
   }
  },
  {
   "cell_type": "code",
   "execution_count": null,
   "metadata": {
    "id": "8hv3yiY4Phor"
   },
   "source": [
    "import pandas as pd #pacote para leitura dos dados\n",
    "import numpy as np"
   ],
   "outputs": []
  },
  {
   "cell_type": "code",
   "source": [
    "#opção 1 -> montar o drive no colab e acessar o arquivo\n",
    "#from google.colab import drive\n",
    "#drive.mount('/content/drive')\n",
    "\n",
    "\n",
    "#opção 2 -> fazer download e fazer upload por aqui\n",
    "from google.colab import files\n",
    "uploaded = files.upload()"
   ],
   "metadata": {
    "id": "XtXVWvXfPzlU",
    "colab": {
     "base_uri": "https://localhost:8080/",
     "height": 73
    },
    "executionInfo": {
     "status": "ok",
     "timestamp": 1708556804665,
     "user_tz": 180,
     "elapsed": 13780,
     "user": {
      "displayName": "Gabriel Oliveira",
      "userId": "12617440199896804275"
     }
    },
    "outputId": "d79e70c2-953d-4b8d-c44d-51479de5a5df"
   },
   "execution_count": null,
   "outputs": []
  },
  {
   "cell_type": "code",
   "source": [
    "path = 'Used Car Dataset.csv'\n",
    "df = pd.read_csv(path)"
   ],
   "metadata": {
    "id": "JlkujkTeP1V5"
   },
   "execution_count": null,
   "outputs": []
  },
  {
   "cell_type": "code",
   "source": [
    "df.head()"
   ],
   "metadata": {
    "colab": {
     "base_uri": "https://localhost:8080/",
     "height": 556
    },
    "id": "HxlNboKCP3bh",
    "executionInfo": {
     "status": "ok",
     "timestamp": 1708556811708,
     "user_tz": 180,
     "elapsed": 19,
     "user": {
      "displayName": "Gabriel Oliveira",
      "userId": "12617440199896804275"
     }
    },
    "outputId": "07f33cfe-9e4a-4108-c437-58bd8580d9c5"
   },
   "execution_count": null,
   "outputs": []
  },
  {
   "cell_type": "code",
   "source": [
    "df.dtypes"
   ],
   "metadata": {
    "colab": {
     "base_uri": "https://localhost:8080/"
    },
    "id": "qYJeYrsoP31w",
    "executionInfo": {
     "status": "ok",
     "timestamp": 1708556821521,
     "user_tz": 180,
     "elapsed": 347,
     "user": {
      "displayName": "Gabriel Oliveira",
      "userId": "12617440199896804275"
     }
    },
    "outputId": "e5818c08-ffd4-4a9e-ec6d-0395f6744654"
   },
   "execution_count": null,
   "outputs": []
  },
  {
   "cell_type": "code",
   "source": [
    "df = df.rename(columns = {'mileage(kmpl)':'mileage',\n",
    "                          'engine(cc)':'engine',\n",
    "                          'max_power(bhp)': 'max_power',\n",
    "                          'torque(Nm)': 'torque',\n",
    "                          'price(in lakhs)': 'price'})\n",
    "\n",
    "df.drop(columns='Unnamed: 0', inplace=True)"
   ],
   "metadata": {
    "id": "Qp0CrUoNQCW-"
   },
   "execution_count": null,
   "outputs": []
  },
  {
   "cell_type": "markdown",
   "source": [
    "## Preparação de dados numéricos\n",
    "---\n",
    "Para o processamento das variáveis numéricas faremos o seguinte:\n",
    "\n",
    "\n",
    "1. Imputação/exclusão em dados faltantes\n",
    "\n",
    "```python\n",
    "# Preencher dado faltante\n",
    "df['coluna'].fillna(valor)\n",
    "```\n",
    "\n",
    "Exercícios:\n",
    "\n",
    "Preencha as variáveis que possuem dados faltantes com a mediana das observações."
   ],
   "metadata": {
    "id": "XSlctAGxP7UE"
   }
  },
  {
   "cell_type": "code",
   "source": [
    "df.dtypes"
   ],
   "metadata": {
    "colab": {
     "base_uri": "https://localhost:8080/"
    },
    "id": "TFBkPSBTS-LG",
    "executionInfo": {
     "status": "ok",
     "timestamp": 1708557338995,
     "user_tz": 180,
     "elapsed": 338,
     "user": {
      "displayName": "Gabriel Oliveira",
      "userId": "12617440199896804275"
     }
    },
    "outputId": "2f8ef838-8a29-466e-9ecf-8a6336d42dd8"
   },
   "execution_count": null,
   "outputs": []
  },
  {
   "cell_type": "code",
   "source": [
    "var_numerica = ['seats', 'kms_driven', 'mileage', 'engine', 'max_power', 'torque']"
   ],
   "metadata": {
    "id": "J3SVWH3DS8Je"
   },
   "execution_count": null,
   "outputs": []
  },
  {
   "cell_type": "markdown",
   "source": [
    "#### Solução"
   ],
   "metadata": {
    "id": "6m9AZIiMSuBO"
   }
  },
  {
   "cell_type": "code",
   "source": [
    "df[var_numerica].isnull().sum()"
   ],
   "metadata": {
    "colab": {
     "base_uri": "https://localhost:8080/"
    },
    "id": "OHQx-ws0Sud0",
    "executionInfo": {
     "status": "ok",
     "timestamp": 1708557343217,
     "user_tz": 180,
     "elapsed": 7,
     "user": {
      "displayName": "Gabriel Oliveira",
      "userId": "12617440199896804275"
     }
    },
    "outputId": "a04a6115-0581-47fd-ec80-8604497a7216"
   },
   "execution_count": null,
   "outputs": []
  },
  {
   "cell_type": "code",
   "source": [
    "for var in var_numerica:\n",
    "  mediana = df[var].median()\n",
    "  df[var] = df[var].fillna(mediana)"
   ],
   "metadata": {
    "id": "CixoHh_hTTwB"
   },
   "execution_count": null,
   "outputs": []
  },
  {
   "cell_type": "code",
   "source": [
    "df[var_numerica].isnull().sum()"
   ],
   "metadata": {
    "colab": {
     "base_uri": "https://localhost:8080/"
    },
    "id": "yGX9P1tV9NKk",
    "executionInfo": {
     "status": "ok",
     "timestamp": 1708557392436,
     "user_tz": 180,
     "elapsed": 9,
     "user": {
      "displayName": "Gabriel Oliveira",
      "userId": "12617440199896804275"
     }
    },
    "outputId": "883d6f12-54d0-47cd-928a-119ddb5e4241"
   },
   "execution_count": null,
   "outputs": []
  },
  {
   "cell_type": "markdown",
   "source": [
    "## Preparação de dados categóricos\n",
    "\n",
    "\n",
    "---\n",
    "Para o processamento das variáveis categóricas faremos o seguinte:\n",
    "\n",
    "\n",
    "1. Transformação de variáveis numéricas que representam a categoria:\n",
    "  a. Dummy\n",
    "  b. One hot encoding\n",
    "\n",
    "\n",
    "\n",
    "\n",
    "---\n",
    "### Variáveis Dummy\n",
    "\n",
    "\n",
    "Variáveis Dummy é uma representação de uma variável categórica com k categorias em k-1 variáveis, todas as novas variáveis são binárias.\n",
    "\n",
    "\n",
    "Exemplo:\n",
    "Variável faixa de idade\n",
    "\n",
    "\n",
    "|Variável original|18-30|30-50|50+|\n",
    "|---|---|---|---|\n",
    "|0-18|0|0|0|\n",
    "|18-30|1|0|0|\n",
    "|30-50|0|1|0|\n",
    "|50+|0|0|1|\n",
    "\n",
    "\n",
    "Para criar variáveis dummy iremos utilizar a função get_dummy do pacote Pandas\n",
    "\n",
    "\n",
    "Exemplo:\n",
    "``` python\n",
    "import pandas as pd\n",
    "df_dummy = pd.get_dummies(df, drop_first=True)\n",
    "```\n",
    " Exercícios:\n",
    "\n",
    "\n",
    "Crie uma variável dummy para o conjunto de dados? Notou algum problema na criação das dummys?"
   ],
   "metadata": {
    "id": "g4UtckgAQQva"
   }
  },
  {
   "cell_type": "code",
   "source": [
    "df.dtypes"
   ],
   "metadata": {
    "colab": {
     "base_uri": "https://localhost:8080/"
    },
    "id": "-vMO_CesTqke",
    "executionInfo": {
     "status": "ok",
     "timestamp": 1708481066995,
     "user_tz": 180,
     "elapsed": 13,
     "user": {
      "displayName": "Gabriel Oliveira",
      "userId": "12617440199896804275"
     }
    },
    "outputId": "bc4e0172-0ac7-4eb9-998d-8fccc75fe06b"
   },
   "execution_count": null,
   "outputs": []
  },
  {
   "cell_type": "code",
   "source": [
    "var_cat = ['registration_year',\n",
    "           'fuel_type',\n",
    "           'ownsership',\n",
    "           'transmission']"
   ],
   "metadata": {
    "id": "jC9YRvb6To0R"
   },
   "execution_count": null,
   "outputs": []
  },
  {
   "cell_type": "code",
   "source": [
    "var_cat + var_numerica"
   ],
   "metadata": {
    "colab": {
     "base_uri": "https://localhost:8080/"
    },
    "id": "AH9WV-CAT_F3",
    "executionInfo": {
     "status": "ok",
     "timestamp": 1708557842111,
     "user_tz": 180,
     "elapsed": 390,
     "user": {
      "displayName": "Gabriel Oliveira",
      "userId": "12617440199896804275"
     }
    },
    "outputId": "5edfd9ac-9990-4034-e02f-648c2ad65530"
   },
   "execution_count": null,
   "outputs": []
  },
  {
   "cell_type": "code",
   "source": [
    "df[var_cat + var_numerica]"
   ],
   "metadata": {
    "colab": {
     "base_uri": "https://localhost:8080/",
     "height": 423
    },
    "id": "Gz6Rv7Ks-2yR",
    "executionInfo": {
     "status": "ok",
     "timestamp": 1708557832871,
     "user_tz": 180,
     "elapsed": 14,
     "user": {
      "displayName": "Gabriel Oliveira",
      "userId": "12617440199896804275"
     }
    },
    "outputId": "cb14240b-9635-4a1f-e564-faf7f6a66798"
   },
   "execution_count": null,
   "outputs": []
  },
  {
   "cell_type": "markdown",
   "source": [
    "#### Solução"
   ],
   "metadata": {
    "id": "x39Kmf0eSrk6"
   }
  },
  {
   "cell_type": "code",
   "source": [
    "df_dummy = pd.get_dummies(df[var_cat + var_numerica], drop_first=True)"
   ],
   "metadata": {
    "id": "w1hQIZskSsGQ"
   },
   "execution_count": null,
   "outputs": []
  },
  {
   "cell_type": "code",
   "source": [
    "df_dummy.columns"
   ],
   "metadata": {
    "colab": {
     "base_uri": "https://localhost:8080/"
    },
    "id": "L6g0Alk2TlmY",
    "executionInfo": {
     "status": "ok",
     "timestamp": 1708557916559,
     "user_tz": 180,
     "elapsed": 293,
     "user": {
      "displayName": "Gabriel Oliveira",
      "userId": "12617440199896804275"
     }
    },
    "outputId": "21831a90-8d3a-4178-db77-d06ff1741107"
   },
   "execution_count": null,
   "outputs": []
  },
  {
   "cell_type": "markdown",
   "source": [
    "### Limpeza das categorias"
   ],
   "metadata": {
    "id": "JRPJx7USUC7X"
   }
  },
  {
   "cell_type": "code",
   "source": [
    "df[var_cat[0]].value_counts()"
   ],
   "metadata": {
    "colab": {
     "base_uri": "https://localhost:8080/"
    },
    "id": "wZ4zIRSfUMSQ",
    "executionInfo": {
     "status": "ok",
     "timestamp": 1708557944714,
     "user_tz": 180,
     "elapsed": 385,
     "user": {
      "displayName": "Gabriel Oliveira",
      "userId": "12617440199896804275"
     }
    },
    "outputId": "f373e6e7-cf47-43c1-f35d-d9fa60a7c19e"
   },
   "execution_count": null,
   "outputs": []
  },
  {
   "cell_type": "code",
   "source": [
    "def gera_data(registration_year):\n",
    "  if len(registration_year)!=4:\n",
    "    try:\n",
    "      return '20' + registration_year.split('-')[1]\n",
    "    except:\n",
    "      return '200000'\n",
    "  return registration_year"
   ],
   "metadata": {
    "id": "72z5Yq72UrK1"
   },
   "execution_count": null,
   "outputs": []
  },
  {
   "cell_type": "code",
   "source": [
    "df[var_cat[0]].apply(gera_data).value_counts()"
   ],
   "metadata": {
    "colab": {
     "base_uri": "https://localhost:8080/"
    },
    "id": "_cpHs0KiUOKO",
    "executionInfo": {
     "status": "ok",
     "timestamp": 1708558130642,
     "user_tz": 180,
     "elapsed": 297,
     "user": {
      "displayName": "Gabriel Oliveira",
      "userId": "12617440199896804275"
     }
    },
    "outputId": "924ab033-b9fb-498c-8cb4-dacacbee28c7"
   },
   "execution_count": null,
   "outputs": []
  },
  {
   "cell_type": "code",
   "source": [
    "df['registration_tratada'] = df[var_cat[0]].apply(gera_data).astype(int)"
   ],
   "metadata": {
    "id": "mP6umMOOUOFC"
   },
   "execution_count": null,
   "outputs": []
  },
  {
   "cell_type": "code",
   "source": [
    "def categoria_idade(registration_year):\n",
    "  if registration_year < 2010:\n",
    "    return 'antes_2010'\n",
    "  elif registration_year < 2020:\n",
    "    return 'antes 2020'\n",
    "  elif registration_year < 2030:\n",
    "    return 'depois 2020'\n",
    "  else:\n",
    "    return 'None'"
   ],
   "metadata": {
    "id": "QplDfdzrVN9s"
   },
   "execution_count": null,
   "outputs": []
  },
  {
   "cell_type": "code",
   "source": [
    "df['registration_tratada'].apply(categoria_idade).value_counts(dropna=False)"
   ],
   "metadata": {
    "colab": {
     "base_uri": "https://localhost:8080/"
    },
    "id": "Rv29JuftVdzO",
    "executionInfo": {
     "status": "ok",
     "timestamp": 1708558176354,
     "user_tz": 180,
     "elapsed": 300,
     "user": {
      "displayName": "Gabriel Oliveira",
      "userId": "12617440199896804275"
     }
    },
    "outputId": "e04225e5-919c-4e8a-f30e-7258147c77b4"
   },
   "execution_count": null,
   "outputs": []
  },
  {
   "cell_type": "code",
   "source": [
    "df['registration_tratada'] = df['registration_tratada'].apply(categoria_idade)"
   ],
   "metadata": {
    "id": "kEn-01EUXj-d"
   },
   "execution_count": null,
   "outputs": []
  },
  {
   "cell_type": "code",
   "source": [
    "df['registration_tratada']"
   ],
   "metadata": {
    "colab": {
     "base_uri": "https://localhost:8080/"
    },
    "id": "luYMD8KcAQhb",
    "executionInfo": {
     "status": "ok",
     "timestamp": 1708558192541,
     "user_tz": 180,
     "elapsed": 21,
     "user": {
      "displayName": "Gabriel Oliveira",
      "userId": "12617440199896804275"
     }
    },
    "outputId": "53f41007-0ea6-4442-fa68-e5ba935daaa9"
   },
   "execution_count": null,
   "outputs": []
  },
  {
   "cell_type": "code",
   "source": [
    "df[var_cat[1]].value_counts(dropna=False)"
   ],
   "metadata": {
    "colab": {
     "base_uri": "https://localhost:8080/"
    },
    "id": "mQo5rAZXV8pR",
    "executionInfo": {
     "status": "ok",
     "timestamp": 1708558203831,
     "user_tz": 180,
     "elapsed": 295,
     "user": {
      "displayName": "Gabriel Oliveira",
      "userId": "12617440199896804275"
     }
    },
    "outputId": "d991e41b-6d97-48fe-9724-4269d0ee0301"
   },
   "execution_count": null,
   "outputs": []
  },
  {
   "cell_type": "code",
   "source": [
    "df = df[df[var_cat[1]] != '5 Seats']"
   ],
   "metadata": {
    "id": "A5jWXaC1WQJb"
   },
   "execution_count": null,
   "outputs": []
  },
  {
   "cell_type": "code",
   "source": [
    "df[var_cat[1]].value_counts()"
   ],
   "metadata": {
    "colab": {
     "base_uri": "https://localhost:8080/"
    },
    "id": "He3NYL4fAfQg",
    "executionInfo": {
     "status": "ok",
     "timestamp": 1708558259891,
     "user_tz": 180,
     "elapsed": 8,
     "user": {
      "displayName": "Gabriel Oliveira",
      "userId": "12617440199896804275"
     }
    },
    "outputId": "9717813c-280d-45f3-8bb1-247da0322cbf"
   },
   "execution_count": null,
   "outputs": []
  },
  {
   "cell_type": "code",
   "source": [
    "df['registration_tratada'].value_counts()"
   ],
   "metadata": {
    "colab": {
     "base_uri": "https://localhost:8080/"
    },
    "id": "DtNiUwERAXbx",
    "executionInfo": {
     "status": "ok",
     "timestamp": 1708558227940,
     "user_tz": 180,
     "elapsed": 13,
     "user": {
      "displayName": "Gabriel Oliveira",
      "userId": "12617440199896804275"
     }
    },
    "outputId": "a51f08a2-6eb7-423c-d527-ec274215d966"
   },
   "execution_count": null,
   "outputs": []
  },
  {
   "cell_type": "code",
   "source": [
    "df[var_cat[2]].value_counts()"
   ],
   "metadata": {
    "colab": {
     "base_uri": "https://localhost:8080/"
    },
    "id": "-9Vj_ZiWWVj4",
    "executionInfo": {
     "status": "ok",
     "timestamp": 1708558277784,
     "user_tz": 180,
     "elapsed": 324,
     "user": {
      "displayName": "Gabriel Oliveira",
      "userId": "12617440199896804275"
     }
    },
    "outputId": "9d732aff-01c3-4d65-df0a-f0cc2d7cc2f4"
   },
   "execution_count": null,
   "outputs": []
  },
  {
   "cell_type": "code",
   "source": [
    "def tratamento_ownsership(ownsership):\n",
    "  if ownsership in ['First Owner', 'Second Owner', 'Third Owner', 'Fifth Owner']:\n",
    "    return ownsership\n",
    "  else:\n",
    "    return 'None'"
   ],
   "metadata": {
    "id": "DBMSrdh-WaiK"
   },
   "execution_count": null,
   "outputs": []
  },
  {
   "cell_type": "code",
   "source": [
    "df['ownsership_tratado'] = df.ownsership.apply(tratamento_ownsership)"
   ],
   "metadata": {
    "id": "fctGp36HWqOT"
   },
   "execution_count": null,
   "outputs": []
  },
  {
   "cell_type": "code",
   "source": [
    "df['ownsership_tratado'].value_counts()"
   ],
   "metadata": {
    "colab": {
     "base_uri": "https://localhost:8080/"
    },
    "id": "nvs54-ViAuWD",
    "executionInfo": {
     "status": "ok",
     "timestamp": 1708558318337,
     "user_tz": 180,
     "elapsed": 8,
     "user": {
      "displayName": "Gabriel Oliveira",
      "userId": "12617440199896804275"
     }
    },
    "outputId": "1fbad13f-f2fa-48b0-99b4-3ab7346e14b8"
   },
   "execution_count": null,
   "outputs": []
  },
  {
   "cell_type": "code",
   "source": [
    "df[var_cat[3]].value_counts()"
   ],
   "metadata": {
    "colab": {
     "base_uri": "https://localhost:8080/"
    },
    "id": "OUjUmQnmWx29",
    "executionInfo": {
     "status": "ok",
     "timestamp": 1708558326013,
     "user_tz": 180,
     "elapsed": 311,
     "user": {
      "displayName": "Gabriel Oliveira",
      "userId": "12617440199896804275"
     }
    },
    "outputId": "208c9797-d4a3-47a6-8fa3-14665390a111"
   },
   "execution_count": null,
   "outputs": []
  },
  {
   "cell_type": "code",
   "source": [
    "df['transmission_tratado'] = df[var_cat[3]].apply(lambda x: x if x in ['Manual', 'Automatic'] else 'None')"
   ],
   "metadata": {
    "id": "LSpWDZwGW4Qr"
   },
   "execution_count": null,
   "outputs": []
  },
  {
   "cell_type": "code",
   "source": [
    "df['transmission_tratado'].value_counts()"
   ],
   "metadata": {
    "colab": {
     "base_uri": "https://localhost:8080/"
    },
    "id": "4J6cBpPnA2Dt",
    "executionInfo": {
     "status": "ok",
     "timestamp": 1708558349957,
     "user_tz": 180,
     "elapsed": 11,
     "user": {
      "displayName": "Gabriel Oliveira",
      "userId": "12617440199896804275"
     }
    },
    "outputId": "19ad6267-45ec-4c45-b53e-0dda9be69eca"
   },
   "execution_count": null,
   "outputs": []
  },
  {
   "cell_type": "code",
   "source": [
    "var_cat = ['registration_tratada',\n",
    "           'fuel_type',\n",
    "           'ownsership_tratado',\n",
    "           'transmission_tratado']"
   ],
   "metadata": {
    "id": "g6hZVOHmXnh8"
   },
   "execution_count": null,
   "outputs": []
  },
  {
   "cell_type": "code",
   "source": [
    "df_dummy = pd.get_dummies(df[var_cat + var_numerica],drop_first=True)"
   ],
   "metadata": {
    "id": "9O_MmC0xXvwd"
   },
   "execution_count": null,
   "outputs": []
  },
  {
   "cell_type": "code",
   "source": [
    "df_dummy.head()"
   ],
   "metadata": {
    "colab": {
     "base_uri": "https://localhost:8080/",
     "height": 243
    },
    "id": "g22XrRADXzLY",
    "executionInfo": {
     "status": "ok",
     "timestamp": 1708558364735,
     "user_tz": 180,
     "elapsed": 18,
     "user": {
      "displayName": "Gabriel Oliveira",
      "userId": "12617440199896804275"
     }
    },
    "outputId": "8a01fec0-b51c-4d91-c940-bb4edbe45322"
   },
   "execution_count": null,
   "outputs": []
  },
  {
   "cell_type": "code",
   "source": [
    "y = a + b * registration_tratada_antes_2010 + c*registration_tratada_depois 2020 + d * fuel_type_Diesel + e * fuel_type_Petrol\n",
    "y = a -> antes de 2020 e combustivel CNG\n",
    "y = a + b\n",
    "y = a + c"
   ],
   "metadata": {
    "id": "mSl91mAdHS1M"
   },
   "execution_count": null,
   "outputs": []
  },
  {
   "cell_type": "code",
   "source": [
    "var_numerica.append('price')\n",
    "df_dummy = pd.get_dummies(df[var_cat + var_numerica],drop_first=True)\n",
    "df_dummy.to_csv('dado_tratado.csv', index=False)"
   ],
   "metadata": {
    "id": "by7086zZbmPA"
   },
   "execution_count": null,
   "outputs": []
  },
  {
   "cell_type": "markdown",
   "source": [
    "### Variáveis one hot\n",
    "\n",
    "Variáveis one hot encoding é uma representação de uma variável categórica com k categorias em k variáveis, todas as novas variáveis são binárias.\n",
    "\n",
    "Exemplo:\n",
    "Variável faixa de idade\n",
    "\n",
    "|Variável original|0-18|18-30|30-50|50+|\n",
    "|---|---|---|---|---|\n",
    "|0-18|1|0|0|0|\n",
    "|18-30|0|1|0|0|\n",
    "|30-50|0|0|1|0|\n",
    "|50+|0|0|0|1|\n",
    "\n",
    "Para criar variáveis dummy iremos utilizar a função get_dummy do pacote Pandas\n",
    "\n",
    "Exemplo:\n",
    "``` python\n",
    "import pandas as pd\n",
    "df_dummy = pd.get_dummies(df)\n",
    "```\n",
    "\n",
    "Exercícios:\n",
    "\n",
    "Crie uma variável dummy com representação one-hot encoding para o dado tratado."
   ],
   "metadata": {
    "id": "CZBHPoCXX03m"
   }
  },
  {
   "cell_type": "markdown",
   "source": [
    "#### Solução"
   ],
   "metadata": {
    "id": "xTCkkqqCZ0e5"
   }
  },
  {
   "cell_type": "code",
   "source": [
    "df_dummy = pd.get_dummies(df[var_cat + var_numerica])"
   ],
   "metadata": {
    "id": "1L4pHehgX0l3"
   },
   "execution_count": null,
   "outputs": []
  },
  {
   "cell_type": "code",
   "source": [
    "df_dummy.head()"
   ],
   "metadata": {
    "colab": {
     "base_uri": "https://localhost:8080/",
     "height": 273
    },
    "id": "LiFcWauCaKJs",
    "executionInfo": {
     "status": "ok",
     "timestamp": 1708558510839,
     "user_tz": 180,
     "elapsed": 23,
     "user": {
      "displayName": "Gabriel Oliveira",
      "userId": "12617440199896804275"
     }
    },
    "outputId": "709cbbed-ac1d-48d9-c97f-37abd38d7ebf"
   },
   "execution_count": null,
   "outputs": []
  }
 ]
}
