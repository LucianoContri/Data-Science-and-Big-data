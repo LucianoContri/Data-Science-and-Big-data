{
 "nbformat": 4,
 "nbformat_minor": 0,
 "metadata": {
  "colab": {
   "provenance": []
  },
  "kernelspec": {
   "name": "python3",
   "language": "python",
   "display_name": "Python 3 (ipykernel)"
  },
  "language_info": {
   "name": "python"
  }
 },
 "cells": [
  {
   "cell_type": "markdown",
   "source": [
    "# Lista 3\n",
    "-------------\n",
    "\n",
    "\n",
    "Objetivo: agrupar conjunto de observações de um banco de dados.\n",
    "\n",
    "\n",
    "Banco utilizado:\n",
    "\n",
    "\n",
    "[Link](https://drive.google.com/file/d/1VMIUfwWfdeYRlABkqEppFT6f1sOj3q5B/view?usp=drive_link) para o banco\n",
    "\n",
    "\n",
    "Descrição das variáveis:\n",
    "> * gradyear: The graduation year of the high school student.\n",
    "> * gender: The gender of the student (e.g., male or female).\n",
    "> * age: The age of the student at the time of the survey.\n",
    "> * NumberOffriends: The number of contacts or friends the student had on the social network.\n",
    "> * basketball: The frequency or count of mentions of basketball in the student's profile.\n",
    "> * football: The frequency or count of mentions of football in the student's profile.\n",
    "> * soccer: The frequency or count of mentions of soccer in the student's profile.\n",
    "> * softball: The frequency or count of mentions of softball in the student's profile.\n",
    "> * volleyball: The frequency or count of mentions of volleyball in the student's profile.\n",
    "> * swimming: The frequency or count of mentions of swimming in the student's profile.\n",
    "> * cheerleading: The frequency or count of mentions of cheerleading in the student's profile.\n",
    "> * baseball: The frequency or count of mentions of baseball in the student's profile.\n",
    "> * tennis: The frequency or count of mentions of tennis in the student's profile.\n",
    "> * sports: The overall frequency or count of mentions of sports in the student's profile.\n",
    "> * cute: The frequency or count of mentions of cute in the student's profile.\n",
    "> * sex: The frequency or count of mentions of sex in the student's profile.\n",
    "> * sexy: The frequency or count of mentions of sexy in the student's profile.\n",
    "> * hot: The frequency or count of mentions of hot in the student's profile.\n",
    "> * kissed: The frequency or count of mentions of kissed in the student's profile.\n",
    "> * dance: The frequency or count of mentions of dance in the student's profile.\n",
    "> * band: The frequency or count of mentions of band in the student's profile.\n",
    "> * marching: The frequency or count of mentions of marching in the student's profile.\n",
    "> * music: The frequency or count of mentions of music in the student's profile.\n",
    "> * rock: The frequency or count of mentions of rock in the student's profile.\n",
    "> * god: The frequency or count of mentions of god in the student's profile.\n",
    "> * church: The frequency or count of mentions of church in the student's profile.\n",
    "> * jesus: The frequency or count of mentions of Jesus in the student's profile.\n",
    "> * bible: The frequency or count of mentions of the Bible in the student's profile.\n",
    "> * hair: The frequency or count of mentions of hair in the student's profile.\n",
    "> * dress: The frequency or count of mentions of dress in the student's profile.\n",
    "> * blonde: The frequency or count of mentions of blonde in the student's profile.\n",
    "> * mall: The frequency or count of mentions of mall in the student's profile.\n",
    "> * shopping: The frequency or count of mentions of shopping in the student's profile.\n",
    "> * clothes: The frequency or count of mentions of clothes in the student's profile.\n",
    "> * hollister: The frequency or count of mentions of Hollister (a brand) in the student's profile.\n",
    "> * abercrombie: The frequency or count of mentions of Abercrombie (a brand) in the student's profile.\n",
    "> * die: The frequency or count of mentions of die in the student's profile.\n",
    "> * death: The frequency or count of mentions of death in the student's profile.\n",
    "> * drunk: The frequency or count of mentions of drunk in the student's profile.\n",
    "> * drugs: The frequency or count of mentions of drugs in the student's profile.\n",
    "\n",
    "\n",
    "Exercício:\n",
    "\n",
    "1. Carregue o banco de dados e analise suas features. Não utilizar as variaveis de idade e genero.\n",
    "2. Gere 5 clusters dos estudantes com os algortimos KNN, aglomerativo e DBSCAN. Para o DBSCAN use eps = 5.\n",
    "3. Há diferença nos agrupamentos entre os três algoritmos?\n",
    "4. Realize a decomposição de componentes principais (PCA) com duas componentes para o dado.\n",
    "\n",
    "  4.1 Qual o percentual da varibilidade é explicado com duas componentes?\n",
    "\n",
    "  4.2 Construa um gráfico de pontos (scatterplot) onde no eixo x temos a primeira componente e no eixo y temos a segunda componente. A cor dos pontos deve representar os clusters formados por um dos algoritmos."
   ],
   "metadata": {
    "id": "dKe9BbZvDD9k"
   }
  },
  {
   "cell_type": "markdown",
   "source": [
    "## 1.\n",
    "--------------------\n",
    "Carregue o banco de dados e analise suas features. Não utilizar as variaveis de idade e genero."
   ],
   "metadata": {
    "id": "32Uw8urRHyAs"
   }
  },
  {
   "cell_type": "code",
   "execution_count": 39,
   "metadata": {
    "id": "gl1M_mJqC7p6",
    "ExecuteTime": {
     "end_time": "2024-04-02T18:26:50.377265500Z",
     "start_time": "2024-04-02T18:26:50.122516200Z"
    }
   },
   "source": [
    "import pandas as pd\n",
    "import numpy as np\n",
    "\n",
    "# Carregar o arquivo CSV em um DataFrame\n",
    "df = pd.read_csv(\"03_Clustering_Marketing.csv\")"
   ],
   "outputs": []
  },
  {
   "cell_type": "code",
   "execution_count": 40,
   "source": [
    "df.info()"
   ],
   "metadata": {
    "collapsed": false,
    "ExecuteTime": {
     "end_time": "2024-04-02T18:26:50.401580400Z",
     "start_time": "2024-04-02T18:26:50.151952800Z"
    }
   },
   "outputs": []
  },
  {
   "cell_type": "code",
   "source": [
    "#não utilizar as variaveis de idade e genero\n",
    "df_cleaned = df.drop(columns=['age', 'gender'])"
   ],
   "metadata": {
    "colab": {
     "base_uri": "https://localhost:8080/"
    },
    "id": "QOvPm3Wq2Dyl",
    "outputId": "249b7775-bbe1-446e-ad6e-ea02fa94e24d",
    "ExecuteTime": {
     "end_time": "2024-04-02T18:26:50.406152100Z",
     "start_time": "2024-04-02T18:26:50.165044800Z"
    }
   },
   "execution_count": 41,
   "outputs": []
  },
  {
   "cell_type": "markdown",
   "source": [
    "#### Todos os dados são numéricos e não há valores nulos."
   ],
   "metadata": {
    "collapsed": false
   }
  },
  {
   "cell_type": "markdown",
   "source": [
    "# 2.\n",
    "--------------------\n",
    "Gere 5 clusters dos estudantes com os algortimos KNN, aglomerativo e DBSCAN. Para o DBSCAN use eps = 5."
   ],
   "metadata": {
    "id": "WtK7XgksHzUf"
   }
  },
  {
   "cell_type": "markdown",
   "source": [
    "## KNN\n"
   ],
   "metadata": {
    "collapsed": false
   }
  },
  {
   "cell_type": "code",
   "execution_count": 42,
   "source": [
    "from sklearn.cluster import KMeans, AgglomerativeClustering, DBSCAN\n",
    "from sklearn.preprocessing import StandardScaler"
   ],
   "metadata": {
    "collapsed": false,
    "ExecuteTime": {
     "end_time": "2024-04-02T18:26:50.424678100Z",
     "start_time": "2024-04-02T18:26:50.169211800Z"
    }
   },
   "outputs": []
  },
  {
   "cell_type": "code",
   "source": [
    "scaler = StandardScaler()\n",
    "df_scaled = scaler.fit_transform(df_cleaned.iloc[:, 1:])  # Ignorando a coluna 'gradyear' para a clusterização\n",
    "\n",
    "# Aplicando K-Means\n",
    "kmeans = KMeans(n_clusters=5, random_state=42)\n",
    "kmeans_labels = kmeans.fit_predict(df_scaled)\n",
    "\n",
    "# Adicionar os clusters ao dataframe original\n",
    "df['KMeans_cluster'] = pd.Series(kmeans_labels, index=df_cleaned.index)\n"
   ],
   "metadata": {
    "id": "0W9cIhPnIRg0",
    "colab": {
     "base_uri": "https://localhost:8080/"
    },
    "outputId": "300cd8e0-18da-484b-bae0-ef03624042b5",
    "ExecuteTime": {
     "end_time": "2024-04-02T18:26:50.633633300Z",
     "start_time": "2024-04-02T18:26:50.175059700Z"
    }
   },
   "execution_count": 43,
   "outputs": []
  },
  {
   "cell_type": "markdown",
   "source": [
    "## Aglomerativo"
   ],
   "metadata": {
    "id": "aQe_F8AVH50I"
   }
  },
  {
   "cell_type": "code",
   "source": [
    "# Agglomerative Clustering\n",
    "agglomerative = AgglomerativeClustering(n_clusters=5)\n",
    "agglo_labels = agglomerative.fit_predict(df_scaled)\n",
    "\n",
    "# Adicionar os clusters ao dataframe original\n",
    "df['Agglomerative_cluster'] = pd.Series(agglo_labels, index=df_cleaned.index)"
   ],
   "metadata": {
    "id": "3e-H8vLCIRxW",
    "ExecuteTime": {
     "end_time": "2024-04-02T18:26:58.370214200Z",
     "start_time": "2024-04-02T18:26:50.634634500Z"
    }
   },
   "execution_count": 44,
   "outputs": []
  },
  {
   "cell_type": "markdown",
   "source": [
    "## DBSCAN"
   ],
   "metadata": {
    "id": "7DVVAO3kH8-O"
   }
  },
  {
   "cell_type": "code",
   "source": [
    "# DBSCAN\n",
    "dbscan = DBSCAN(eps=5, min_samples=5)\n",
    "dbscan_labels = dbscan.fit_predict(df_scaled)\n",
    "\n",
    "# Adicionar os clusters ao dataframe original\n",
    "df['DBSCAN_cluster'] = pd.Series(dbscan_labels, index=df_cleaned.index)"
   ],
   "metadata": {
    "id": "pndr2vY1ISHE",
    "ExecuteTime": {
     "end_time": "2024-04-02T18:27:01.468484700Z",
     "start_time": "2024-04-02T18:26:58.371215400Z"
    }
   },
   "execution_count": 45,
   "outputs": []
  },
  {
   "cell_type": "markdown",
   "source": [
    "## 3.\n",
    "-------------------------------\n",
    "Há diferença nos agrupamentos?"
   ],
   "metadata": {
    "id": "L54JLF7EH_ya"
   }
  },
  {
   "cell_type": "markdown",
   "source": [
    "O Silhouette Score é uma medida que indica quão bem cada ponto de dado se encaixa dentro de seu cluster. Valores mais próximos de +1 indicam que os pontos estão bem agrupados e claramente separados dos outros clusters, enquanto valores próximos de -1 indicam que os pontos estão mal agrupados."
   ],
   "metadata": {
    "collapsed": false
   }
  },
  {
   "cell_type": "code",
   "execution_count": 46,
   "source": [
    "from sklearn.metrics import silhouette_score\n",
    "\n",
    "# silhouette_score(X, labels)\n",
    "silhouette_kmeans = silhouette_score(df_scaled, kmeans_labels)\n",
    "silhouette_agglo = silhouette_score(df_scaled, agglo_labels)\n",
    "silhouette_dbscan = silhouette_score(df_scaled, dbscan_labels)\n",
    "\n",
    "# Compare os scores\n",
    "print(\"Silhouette K-Means:\", silhouette_kmeans)\n",
    "print(\"Silhouette Agglomerative:\", silhouette_agglo)\n",
    "print(\"Silhouette DBSCAN:\", silhouette_dbscan)\n"
   ],
   "metadata": {
    "collapsed": false,
    "ExecuteTime": {
     "end_time": "2024-04-02T18:27:08.279632100Z",
     "start_time": "2024-04-02T18:27:01.469485900Z"
    }
   },
   "outputs": []
  },
  {
   "cell_type": "markdown",
   "source": [
    "O Silhouette Score é uma medida que indica quão bem cada ponto de dado se encaixa dentro de seu cluster. É utilizada para avaliar a qualidade dos clusters sem rótulos, como é o caso do aprendizado não supervisionado.\n",
    "\n",
    "Valores mais próximos de +1 indicam que os pontos estão bem agrupados e claramente separados dos outros clusters, enquanto valores próximos de -1 indicam que os pontos estão mal agrupados. \n",
    "\n",
    "O DBSCAN obteve o melhor resultado, com um Silhouette Score de 0.37, indicando que os pontos estão melhor agrupados e claramente separados dos outros cluster"
   ],
   "metadata": {
    "collapsed": false
   }
  },
  {
   "cell_type": "markdown",
   "source": [],
   "metadata": {
    "collapsed": false
   }
  },
  {
   "cell_type": "markdown",
   "source": [
    "## 4.\n",
    "---------------------------\n",
    "Realize a decomposição de componentes principais (PCA) com duas componentes para o dado."
   ],
   "metadata": {
    "collapsed": false
   }
  },
  {
   "cell_type": "markdown",
   "source": [
    "----------------------------------\n",
    "O PCA reduz a complexidade dos dados ao projetá-los em um número menor de dimensões (componentes principais) que capturam a maior parte da variabilidade nos dados. Isso torna possível visualizar os dados em um espaço bidimensional ou tridimensional, o que seria impraticável com o conjunto original de características devido à maldição da dimensionalidade."
   ],
   "metadata": {
    "collapsed": false
   }
  },
  {
   "cell_type": "code",
   "execution_count": 47,
   "source": [
    "from sklearn.decomposition import PCA"
   ],
   "metadata": {
    "collapsed": false,
    "ExecuteTime": {
     "end_time": "2024-04-02T18:27:08.294492200Z",
     "start_time": "2024-04-02T18:27:08.280632800Z"
    }
   },
   "outputs": []
  },
  {
   "cell_type": "code",
   "execution_count": 48,
   "source": [
    "# Realizar PCA com duas componentes principais\n",
    "pca = PCA(n_components=2)\n",
    "df_pca = pca.fit_transform(df_scaled)\n",
    "\n",
    "\n",
    "\n",
    "# Adicionando os componentes principais ao dataframe para visualização futura\n",
    "df['PCA1'] = df_pca[:, 0]\n",
    "df['PCA2'] = df_pca[:, 1]"
   ],
   "metadata": {
    "collapsed": false,
    "ExecuteTime": {
     "end_time": "2024-04-02T18:27:08.348400900Z",
     "start_time": "2024-04-02T18:27:08.284741800Z"
    }
   },
   "outputs": []
  },
  {
   "cell_type": "markdown",
   "source": [],
   "metadata": {
    "collapsed": false
   }
  },
  {
   "cell_type": "markdown",
   "source": [
    "## 4.1 \n",
    "---------------------------\n",
    "Qual o percentual da varibilidade é explicado com duas componentes?"
   ],
   "metadata": {
    "collapsed": false
   }
  },
  {
   "cell_type": "code",
   "source": [
    "# O percentual da variabilidade explicado pelas duas componentes principais\n",
    "variabilidade_explicada = pca.explained_variance_ratio_\n",
    "variabilidade_total = sum(variabilidade_explicada) * 100  # Convertido para porcentagem\n",
    "\n",
    "print(f\"Percentual da variabilidade explicado pelas duas componentes: {variabilidade_total:.2f}%\")"
   ],
   "metadata": {
    "id": "UdwlO8DtITS0",
    "ExecuteTime": {
     "end_time": "2024-04-02T18:27:08.361872200Z",
     "start_time": "2024-04-02T18:27:08.318732900Z"
    }
   },
   "execution_count": 49,
   "outputs": []
  },
  {
   "cell_type": "markdown",
   "source": [
    "## 4.2 \n",
    "---------------------------\n",
    "Construa um gráfico de pontos (scatterplot) onde no eixo x temos a primeira componente e no eixo y temos a segunda componente. A cor dos pontos deve representar os clusters formados por um dos algoritmos."
   ],
   "metadata": {
    "id": "Cm0vs0sgILeX"
   }
  },
  {
   "cell_type": "code",
   "execution_count": 50,
   "source": [
    "import matplotlib.pyplot as plt"
   ],
   "metadata": {
    "collapsed": false,
    "ExecuteTime": {
     "end_time": "2024-04-02T18:27:08.361872200Z",
     "start_time": "2024-04-02T18:27:08.322492Z"
    }
   },
   "outputs": []
  },
  {
   "cell_type": "code",
   "execution_count": 51,
   "source": [
    "# Configuração do tamanho da figura para plotagem\n",
    "plt.figure(figsize=(18, 5))\n",
    "\n",
    "# K-Means\n",
    "plt.subplot(1, 3, 1)\n",
    "plt.scatter(df_pca[:, 0], df_pca[:, 1], c=kmeans_labels, cmap='viridis', edgecolor='k', s=40, alpha=0.6)\n",
    "plt.title('K-Means Clusters')\n",
    "plt.xlabel('Primeira Componente Principal')\n",
    "plt.ylabel('Segunda Componente Principal')\n",
    "plt.grid(True)\n",
    "\n",
    "# Agglomerative\n",
    "plt.subplot(1, 3, 2)\n",
    "plt.scatter(df_pca[:, 0], df_pca[:, 1], c=agglo_labels, cmap='viridis', edgecolor='k', s=40, alpha=0.6)\n",
    "plt.title('Agglomerative Clusters')\n",
    "plt.xlabel('Primeira Componente Principal')\n",
    "plt.grid(True)\n",
    "\n",
    "# DBSCAN\n",
    "plt.subplot(1, 3, 3)\n",
    "plt.scatter(df_pca[:, 0], df_pca[:, 1], c=dbscan_labels, cmap='viridis', edgecolor='k', s=40, alpha=0.6)\n",
    "plt.title('DBSCAN Clusters')\n",
    "plt.xlabel('Primeira Componente Principal')\n",
    "plt.grid(True)\n",
    "\n",
    "# Ajuste final para evitar sobreposição dos subplots\n",
    "plt.tight_layout()\n",
    "\n",
    "# Mostrar o gráfico\n",
    "plt.show()\n"
   ],
   "metadata": {
    "collapsed": false,
    "ExecuteTime": {
     "end_time": "2024-04-02T18:27:09.386094300Z",
     "start_time": "2024-04-02T18:27:08.326036900Z"
    }
   },
   "outputs": []
  },
  {
   "cell_type": "markdown",
   "source": [
    "## Avaliação\n",
    "---------------------------\n",
    "O gráfico parece confirmar o Silhouette Score obtido anteriormente. O DBSCAN parece ter agrupado os pontos de dados de forma mais clara e distinta, enquanto os outros algoritmos parecem ter mais sobreposição entre os clusters."
   ],
   "metadata": {
    "collapsed": false
   }
  },
  {
   "cell_type": "markdown",
   "source": [
    "# Extra\n",
    "---------------------------\n",
    "Vamos tentar visualizar os clusters em um espaço tridimensional."
   ],
   "metadata": {
    "collapsed": false
   }
  },
  {
   "cell_type": "code",
   "execution_count": 52,
   "source": [
    "from mpl_toolkits.mplot3d import Axes3D\n",
    "\n",
    "# Primeiro, realizamos PCA para três componentes principais\n",
    "pca_3d = PCA(n_components=3)\n",
    "df_pca_3d = pca_3d.fit_transform(df_scaled)\n",
    "\n",
    "# Configuração da figura para plotagem 3D\n",
    "fig = plt.figure(figsize=(18, 6))\n",
    "\n",
    "# K-Means\n",
    "ax1 = fig.add_subplot(1, 3, 1, projection='3d')\n",
    "ax1.scatter(df_pca_3d[:, 0], df_pca_3d[:, 1], df_pca_3d[:, 2], c=kmeans_labels, cmap='viridis', edgecolor='k', s=40, alpha=0.6)\n",
    "ax1.set_title('K-Means Clusters')\n",
    "ax1.set_xlabel('PC1')\n",
    "ax1.set_ylabel('PC2')\n",
    "ax1.set_zlabel('PC3')\n",
    "\n",
    "# Agglomerative\n",
    "ax2 = fig.add_subplot(1, 3, 2, projection='3d')\n",
    "ax2.scatter(df_pca_3d[:, 0], df_pca_3d[:, 1], df_pca_3d[:, 2], c=agglo_labels, cmap='viridis', edgecolor='k', s=40, alpha=0.6)\n",
    "ax2.set_title('Agglomerative Clusters')\n",
    "ax2.set_xlabel('PC1')\n",
    "ax2.set_ylabel('PC2')\n",
    "ax2.set_zlabel('PC3')\n",
    "\n",
    "# DBSCAN\n",
    "ax3 = fig.add_subplot(1, 3, 3, projection='3d')\n",
    "ax3.scatter(df_pca_3d[:, 0], df_pca_3d[:, 1], df_pca_3d[:, 2], c=dbscan_labels, cmap='viridis', edgecolor='k', s=40, alpha=0.6)\n",
    "ax3.set_title('DBSCAN Clusters')\n",
    "ax3.set_xlabel('PC1')\n",
    "ax3.set_ylabel('PC2')\n",
    "ax3.set_zlabel('PC3')\n",
    "\n",
    "# Ajuste final para evitar sobreposição dos subplots\n",
    "plt.tight_layout()\n",
    "\n",
    "# Mostrar o gráfico\n",
    "plt.show()\n"
   ],
   "metadata": {
    "collapsed": false,
    "ExecuteTime": {
     "end_time": "2024-04-02T18:30:14.912849100Z",
     "start_time": "2024-04-02T18:30:13.745332300Z"
    }
   },
   "outputs": []
  },
  {
   "cell_type": "code",
   "execution_count": 63,
   "source": [
    "from mpl_toolkits.mplot3d import Axes3D\n",
    "\n",
    "# Primeiro, realizamos PCA para três componentes principais\n",
    "pca_3d = PCA(n_components=3)\n",
    "df_pca_3d = pca_3d.fit_transform(df_scaled)\n",
    "\n",
    "# Configuração da figura para plotagem 3D\n",
    "fig = plt.figure(figsize=(18, 6))\n",
    "\n",
    "# K-Means\n",
    "ax1 = fig.add_subplot(1, 3, 1, projection='3d')\n",
    "ax1.scatter(df_pca_3d[:, 0], df_pca_3d[:, 1], df_pca_3d[:, 2], c=kmeans_labels, cmap='viridis', edgecolor='k', s=40, alpha=0.6)\n",
    "ax1.view_init(elev=0, azim=-90)\n",
    "ax1.set_title('K-Means Clusters')\n",
    "ax1.set_xlabel('PC1')\n",
    "ax1.set_ylabel('PC2')\n",
    "ax1.set_zlabel('PC3')\n",
    "\n",
    "# Agglomerative\n",
    "ax2 = fig.add_subplot(1, 3, 2, projection='3d')\n",
    "ax2.scatter(df_pca_3d[:, 0], df_pca_3d[:, 1], df_pca_3d[:, 2], c=agglo_labels, cmap='viridis', edgecolor='k', s=40, alpha=0.6)\n",
    "ax2.view_init(elev=0, azim=-90)\n",
    "ax2.set_title('Agglomerative Clusters')\n",
    "ax2.set_xlabel('PC1')\n",
    "ax2.set_ylabel('PC2')\n",
    "ax2.set_zlabel('PC3')\n",
    "\n",
    "# DBSCAN\n",
    "ax3 = fig.add_subplot(1, 3, 3, projection='3d')\n",
    "ax3.scatter(df_pca_3d[:, 0], df_pca_3d[:, 1], df_pca_3d[:, 2], c=dbscan_labels, cmap='viridis', edgecolor='k', s=40, alpha=0.6)\n",
    "ax3.view_init(elev=0, azim=-90)\n",
    "ax3.set_title('DBSCAN Clusters')\n",
    "ax3.set_xlabel('PC1')\n",
    "ax3.set_ylabel('PC2')\n",
    "ax3.set_zlabel('PC3')\n",
    "\n",
    "# Ajuste final para evitar sobreposição dos subplots\n",
    "plt.tight_layout()\n",
    "\n",
    "# Mostrar o gráfico\n",
    "plt.show()"
   ],
   "metadata": {
    "collapsed": false,
    "ExecuteTime": {
     "end_time": "2024-04-02T18:40:10.391565800Z",
     "start_time": "2024-04-02T18:40:09.261894Z"
    }
   },
   "outputs": []
  },
  {
   "cell_type": "markdown",
   "source": [
    "Em um espaço tridimensional, podemos ver angulos diferentes nos dando uma melhor visualização dos clusters formados.\n",
    "nesse caso específico não houve muita diferença para o plano 2D mas ainda sim podemos observar mais claramente as separações, principalmente no Agglomerative. Mas DBSCAN ainda se destaca como o melhor algoritmo para esse conjunto de dados."
   ],
   "metadata": {
    "collapsed": false
   }
  },
  {
   "cell_type": "code",
   "execution_count": null,
   "source": [],
   "metadata": {
    "collapsed": false
   },
   "outputs": []
  }
 ]
}
