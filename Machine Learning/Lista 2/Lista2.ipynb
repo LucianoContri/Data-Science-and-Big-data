{
 "nbformat": 4,
 "nbformat_minor": 0,
 "metadata": {
  "colab": {
   "provenance": []
  },
  "kernelspec": {
   "name": "python3",
   "language": "python",
   "display_name": "Python 3 (ipykernel)"
  },
  "language_info": {
   "name": "python"
  }
 },
 "cells": [
  {
   "cell_type": "markdown",
   "source": [
    "#Lista 2\n",
    "-------------\n",
    "\n",
    "\n",
    "Objetivo: treinar um modelo de classificação utilizando o modelo random Forest e XGBoost.\n",
    "\n",
    "\n",
    "Banco utilizado: Detecção de doenças no fígado.\n",
    "\n",
    "\n",
    "[Link](https://drive.google.com/file/d/1jnLwuv4e_ZeCqluMXs3Mar2TGetumtVv/view?usp=drive_link) para o banco\n",
    "\n",
    "\n",
    "Descrição do banco:\n",
    "> Este banco contém registro de 416 pacientes diagnosticados com doença no fígado e 167 pacientes sem. Esta informação está na coluna Selector.\n",
    ">\n",
    "> Há 10 variáveis no banco:\n",
    ">\n",
    "> * age: idade\n",
    "> * Gender: gênero do paciente\n",
    "> * TB: Bilirrubina total\n",
    "> * DB: Bilirrubina direta\n",
    "> * Alkphos: fosfatase alcalina.\n",
    "> * Sgpt: transaminase glutâmico-pirúvica sérica (TGP)\n",
    "> * Sgot: transaminase glutâmico-oxalacética sérica (TGO)\n",
    "> * TP: Proteína total\n",
    "> * ALB: Albumina\n",
    "> * A/G Ratio: Relação Albumina:Globulina\n",
    "\n",
    "\n",
    "Exercício:\n",
    "\n",
    "\n",
    "1. Carregue o banco de dados e analise suas features. Transforme a feature sexo em uma variavel dummy.\n",
    "2. Separe o banco em 80% para treino e 20% para teste.\n",
    "3. Treine um modelo de Random Forest com parâmetros de n_estimators de 150 e max_depth de 5.\n",
    "  3.1 Quais são as duas features mais importantes?\n",
    "4. Treine um modelo de XGboost com parâmetros de max_depth de 5, learning rate de 0.1 e n_estimators de 150.\n",
    "  4.1 Quais são as duas features mais importantes?\n",
    "\n",
    "\n",
    "5. Construa um report dos dois modelos.\n",
    "  5.1 Tomando como decisão a precisão para detectar doença no fígado qual é o melhor modelo?\n",
    " 5.2 Tomando como decisão o f1 score do rótulo de pacientes com doença no fígado qual é o melhor modelo?\n",
    "\n",
    "\n",
    "Obs.: Utilize o **mesmo** banco de treino e de teste para construir e avaliar os dois modelos.\n",
    "\n"
   ],
   "metadata": {
    "id": "e9yTIwo6WDBU"
   }
  },
  {
   "cell_type": "markdown",
   "source": [
    "##1. Carga do banco\n",
    "--------------------"
   ],
   "metadata": {
    "id": "407ENJcYYaQN"
   }
  },
  {
   "cell_type": "code",
   "execution_count": 1,
   "source": [
    "import pandas as pd\n",
    "\n",
    "# Carregar o banco de dados\n",
    "df = pd.read_csv(\"Indian Liver Patient Dataset (ILPD).csv\")\n",
    "\n",
    "# Analisar as features\n",
    "print(df.head())"
   ],
   "metadata": {
    "collapsed": false,
    "ExecuteTime": {
     "end_time": "2024-03-23T18:21:46.549381400Z",
     "start_time": "2024-03-23T18:21:46.065990600Z"
    }
   },
   "outputs": []
  },
  {
   "cell_type": "code",
   "execution_count": 2,
   "source": [
    "# Transformar a feature sexo em uma variável dummy\n",
    "df = pd.get_dummies(df, columns=['Gender'], drop_first=True)\n",
    "\n",
    "# transformando selector em 0 e 1   \n",
    "df['Selector'] = df['Selector'].map({1:0, 2:1})\n",
    "\n",
    "# Tratar valores ausentes\n",
    "df.fillna(df.mean(), inplace=True)"
   ],
   "metadata": {
    "collapsed": false,
    "ExecuteTime": {
     "end_time": "2024-03-23T18:21:46.574157600Z",
     "start_time": "2024-03-23T18:21:46.549381400Z"
    }
   },
   "outputs": []
  },
  {
   "cell_type": "code",
   "source": [
    "df.dtypes"
   ],
   "metadata": {
    "colab": {
     "base_uri": "https://localhost:8080/"
    },
    "id": "9i6nIViqKdTJ",
    "outputId": "d16821a6-88d5-47f7-bce2-ace49335bae1",
    "ExecuteTime": {
     "end_time": "2024-03-23T18:21:46.639276400Z",
     "start_time": "2024-03-23T18:21:46.563441300Z"
    }
   },
   "execution_count": 3,
   "outputs": []
  },
  {
   "cell_type": "code",
   "source": [
    "df.describe().T"
   ],
   "metadata": {
    "colab": {
     "base_uri": "https://localhost:8080/",
     "height": 394
    },
    "id": "2_zn1tOEK6_d",
    "outputId": "edc4dc6e-cde9-4985-ffdc-8343a10054f1",
    "ExecuteTime": {
     "end_time": "2024-03-23T18:21:46.668303800Z",
     "start_time": "2024-03-23T18:21:46.571155600Z"
    }
   },
   "execution_count": 4,
   "outputs": []
  },
  {
   "cell_type": "markdown",
   "source": [
    "##2. Quebra do banco\n",
    "--------------------"
   ],
   "metadata": {
    "id": "m9iALm4eYchZ"
   }
  },
  {
   "cell_type": "code",
   "source": [
    "from sklearn.model_selection import train_test_split\n",
    "\n",
    "# Separar o banco em 80% para treino e 20% para teste\n",
    "X = df.drop('Selector', axis=1)\n",
    "Y = df['Selector']\n",
    "X_train, X_test, Y_train, Y_test = train_test_split(X, Y, test_size=0.2, random_state=42)\n",
    "\n"
   ],
   "metadata": {
    "id": "w-Sk_EqjYpJL",
    "ExecuteTime": {
     "end_time": "2024-03-23T18:21:47.605114300Z",
     "start_time": "2024-03-23T18:21:46.601242800Z"
    }
   },
   "execution_count": 5,
   "outputs": []
  },
  {
   "cell_type": "markdown",
   "source": [
    "##3. Primeiro modelo\n",
    "--------------------"
   ],
   "metadata": {
    "id": "uxtfBEUQYpna"
   }
  },
  {
   "cell_type": "code",
   "source": [
    "from sklearn.ensemble import RandomForestClassifier\n",
    "\n",
    "# Treinar o modelo de Random Forest\n",
    "rf_model = RandomForestClassifier(n_estimators=150, max_depth=5, random_state=42)\n",
    "rf_model.fit(X_train, Y_train)\n",
    "\n",
    "# Interpretar as duas features mais importantes\n",
    "feature_importances_rf = rf_model.feature_importances_\n",
    "feature_names = X_train.columns\n",
    "top_features_rf = sorted(zip(feature_importances_rf, feature_names), reverse=True)[:2]\n",
    "print(\"As duas features mais importantes para o modelo de Random Forest são:\")\n",
    "for importance, feature in top_features_rf:\n",
    "    print(f\"{feature}: {importance}\")\n"
   ],
   "metadata": {
    "id": "kvyAvj98Ys1l",
    "colab": {
     "base_uri": "https://localhost:8080/"
    },
    "outputId": "4ba5072e-2d95-4c7e-e343-09fed11b0fe1",
    "ExecuteTime": {
     "end_time": "2024-03-23T18:21:48.045756200Z",
     "start_time": "2024-03-23T18:21:47.606115100Z"
    }
   },
   "execution_count": 6,
   "outputs": []
  },
  {
   "cell_type": "markdown",
   "source": [
    "##3.1 Interpretação de dois coeficientes\n",
    "--------------------"
   ],
   "metadata": {
    "id": "MhqIEkqzY94Q"
   }
  },
  {
   "cell_type": "markdown",
   "source": [
    "A impureza (ou pureza) de um nó é medida usando métricas como o índice Gini ou entropia para problemas de classificação. O total da redução da impureza para cada característica é então normalizado pelo total da redução da impureza de todas as características, resultando em um valor entre 0 e 1. Um valor de importância mais alto (próximo de 1) indica que a característica é mais importante para as previsões do modelo. Neste caso as duas características mais importantes para o modelo Random Forest são \"Alkphos\" e \"Direta Bilirrubina\".\n",
    "\n",
    "\"Alkphos\" pode se referir a uma medida de fosfatase alcalina no sangue, que é um enzima relacionada a várias funções do corpo, incluindo a saúde óssea e hepática. A fosfatase alcalina é uma enzima que é produzida principalmente pelo fígado e ossos. A quantidade de fosfatase alcalina no sangue aumenta quando o fígado está danificado ou quando há um bloqueio no fluxo da bile. Portanto, faz sentido que a característica \"Alkphos\" seja uma das mais importantes para prever a presença de doença hepática.\n",
    "\n",
    "\"Direta Bilirrubina\" é um tipo de bilirrubina que é conjugada com ácido glicurônico no fígado e é excretada na bile. A bilirrubina é um produto da degradação da hemoglobina e é normalmente processada pelo fígado. A presença de bilirrubina direta no sangue pode ser um sinal de problemas hepáticos, como hepatite ou cirrose. Portanto, a característica \"Direta Bilirrubina\" também é uma variável importante para prever a presença de doença hepática."
   ],
   "metadata": {
    "collapsed": false
   }
  },
  {
   "cell_type": "markdown",
   "source": [],
   "metadata": {
    "id": "A0MqOqsa5HGE"
   }
  },
  {
   "cell_type": "markdown",
   "source": [
    "##4. Segundo modelo\n",
    "--------------------"
   ],
   "metadata": {
    "id": "iHa9mKShYsRy"
   }
  },
  {
   "cell_type": "code",
   "execution_count": 7,
   "source": [
    "from xgboost import XGBClassifier\n",
    "model_xgb = XGBClassifier(max_depth=5, learning_rate=0.1, n_estimators=150, random_state=42)\n",
    "model_xgb.fit(X_train, Y_train)\n"
   ],
   "metadata": {
    "collapsed": false,
    "ExecuteTime": {
     "end_time": "2024-03-23T18:21:48.177234500Z",
     "start_time": "2024-03-23T18:21:48.044756Z"
    }
   },
   "outputs": []
  },
  {
   "cell_type": "markdown",
   "source": [
    "##4.1 Duas features mais importantes\n",
    "--------------------"
   ],
   "metadata": {
    "id": "m_mA--yyZDMS"
   }
  },
  {
   "cell_type": "code",
   "execution_count": 8,
   "source": [
    "pd.DataFrame(model_xgb.feature_importances_, index=X_train.columns, columns=['importance']).sort_values(by='importance', ascending=False).head(2)"
   ],
   "metadata": {
    "collapsed": false,
    "ExecuteTime": {
     "end_time": "2024-03-23T18:21:48.204193700Z",
     "start_time": "2024-03-23T18:21:48.175232300Z"
    }
   },
   "outputs": []
  },
  {
   "cell_type": "markdown",
   "source": [
    "\n",
    "\n"
   ],
   "metadata": {
    "id": "O4Td5kQO5K1Z"
   }
  },
  {
   "cell_type": "markdown",
   "source": [
    "##5. Avaliação do modelo\n",
    "--------------------"
   ],
   "metadata": {
    "id": "EGFBuaF_Y4kg"
   }
  },
  {
   "cell_type": "code",
   "execution_count": 9,
   "source": [
    "# Construir um report dos dois modelos\n",
    "from sklearn.metrics import classification_report\n",
    "y_pred_rf = rf_model.predict(X_test)\n",
    "y_pred_xgb = model_xgb.predict(X_test)\n",
    "print(\"Relatório de classificação para o modelo de Random Forest:\")\n",
    "print(classification_report(Y_test, y_pred_rf))\n",
    "print(\"Relatório de classificação para o modelo de XGBoost:\")\n",
    "print(classification_report(Y_test, y_pred_xgb))"
   ],
   "metadata": {
    "collapsed": false,
    "ExecuteTime": {
     "end_time": "2024-03-23T18:21:48.313087600Z",
     "start_time": "2024-03-23T18:21:48.184175100Z"
    }
   },
   "outputs": []
  },
  {
   "cell_type": "markdown",
   "source": [
    "##5.1 Qual modelo escolhido olhando para a precisão de detecção de doença no fígado?\n",
    "--------------------"
   ],
   "metadata": {
    "id": "y98QDkPAZGjP"
   }
  },
  {
   "cell_type": "markdown",
   "source": [
    "Comparando os relatórios dos dois modelos:\n",
    "- O modelo de Random Forest tem uma precisão de 0.47 para detectar doença no fígado.\n",
    "- O modelo de XGBoost tem uma precisão de 0.46 para detectar doença no fígado."
   ],
   "metadata": {
    "collapsed": false
   }
  },
  {
   "cell_type": "markdown",
   "source": [],
   "metadata": {
    "id": "roU2QQ1c5MjG"
   }
  },
  {
   "cell_type": "markdown",
   "source": [
    "##5.2 Qual modelo escolhido olhando para o f1-score do rótulo de doença do fígado?\n",
    "--------------------"
   ],
   "metadata": {
    "id": "val9nAmnZPyB"
   }
  },
  {
   "cell_type": "markdown",
   "source": [
    "Comparando os relatórios dos dois modelos:\n",
    "- O modelo de Random Forest tem um f1-score de 0.31 para o rótulo de pacientes com doença no fígado.\n",
    "- O modelo de XGBoost tem um f1-score de 0.43 para o rótulo de pacientes com doença no fígado."
   ],
   "metadata": {
    "collapsed": false
   }
  },
  {
   "cell_type": "markdown",
   "source": [
    "Os dois modelos foram bem insatisfatórios, mas o modelo de XGBoost teve um desempenho ligeiramente melhor em termos de f1-score para o rótulo de pacientes com doença no fígado. Portanto, com base nesse critério, o modelo de XGBoost seria a escolha preferida. No entanto, ambos os modelos têm uma precisão muito baixa para detectar doença no fígado, o que sugere que eles podem não ser adequados para este problema específico. Como os estimadores de Random Forest e XGBoost são sensíveis a hiperparâmetros, pode ser necessário ajustar os hiperparâmetros como learning rate, max_depth, n_estimators, e limiar de probabilidade para melhorar o desempenho dos modelos.\n"
   ],
   "metadata": {
    "collapsed": false
   }
  },
  {
   "cell_type": "markdown",
   "source": [
    "# Repository of all projects \n",
    "a repository of all project "
   ],
   "metadata": {
    "collapsed": false
   }
  },
  {
   "cell_type": "markdown",
   "source": [],
   "metadata": {
    "id": "U2ah3rWW5OUV"
   }
  }
 ]
}
