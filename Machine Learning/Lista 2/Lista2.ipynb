{
 "nbformat": 4,
 "nbformat_minor": 0,
 "metadata": {
  "colab": {
   "provenance": []
  },
  "kernelspec": {
   "name": "python3",
   "language": "python",
   "display_name": "Python 3 (ipykernel)"
  },
  "language_info": {
   "name": "python"
  }
 },
 "cells": [
  {
   "cell_type": "markdown",
   "source": [
    "#Lista 2\n",
    "-------------\n",
    "\n",
    "\n",
    "Objetivo: treinar um modelo de classificação utilizando o modelo random Forest e XGBoost.\n",
    "\n",
    "\n",
    "Banco utilizado: Detecção de doenças no fígado.\n",
    "\n",
    "\n",
    "[Link](https://drive.google.com/file/d/1jnLwuv4e_ZeCqluMXs3Mar2TGetumtVv/view?usp=drive_link) para o banco\n",
    "\n",
    "\n",
    "Descrição do banco:\n",
    "> Este banco contém registro de 416 pacientes diagnosticados com doença no fígado e 167 pacientes sem. Esta informação está na coluna Selector.\n",
    ">\n",
    "> Há 10 variáveis no banco:\n",
    ">\n",
    "> * age: idade\n",
    "> * Gender: gênero do paciente\n",
    "> * TB: Bilirrubina total\n",
    "> * DB: Bilirrubina direta\n",
    "> * Alkphos: fosfatase alcalina.\n",
    "> * Sgpt: transaminase glutâmico-pirúvica sérica (TGP)\n",
    "> * Sgot: transaminase glutâmico-oxalacética sérica (TGO)\n",
    "> * TP: Proteína total\n",
    "> * ALB: Albumina\n",
    "> * A/G Ratio: Relação Albumina:Globulina\n",
    "\n",
    "\n",
    "Exercício:\n",
    "\n",
    "\n",
    "1. Carregue o banco de dados e analise suas features. Transforme a feature sexo em uma variavel dummy.\n",
    "2. Separe o banco em 80% para treino e 20% para teste.\n",
    "3. Treine um modelo de Random Forest com parâmetros de n_estimators de 150 e max_depth de 5.\n",
    "  3.1 Quais são as duas features mais importantes?\n",
    "4. Treine um modelo de XGboost com parâmetros de max_depth de 5, learning rate de 0.1 e n_estimators de 150.\n",
    "  4.1 Quais são as duas features mais importantes?\n",
    "\n",
    "\n",
    "5. Construa um report dos dois modelos.\n",
    "  5.1 Tomando como decisão a precisão para detectar doença no fígado qual é o melhor modelo?\n",
    " 5.2 Tomando como decisão o f1 score do rótulo de pacientes com doença no fígado qual é o melhor modelo?\n",
    "\n",
    "\n",
    "Obs.: Utilize o **mesmo** banco de treino e de teste para construir e avaliar os dois modelos.\n",
    "\n"
   ],
   "metadata": {
    "id": "e9yTIwo6WDBU"
   }
  },
  {
   "cell_type": "markdown",
   "source": [
    "##1. Carga do banco\n",
    "--------------------"
   ],
   "metadata": {
    "id": "407ENJcYYaQN"
   }
  },
  {
   "cell_type": "code",
   "execution_count": 1,
   "outputs": [
    {
     "name": "stdout",
     "output_type": "stream",
     "text": [
      "   Age  Gender    TB   DB  Alkphos  Sgpt  Sgot   TP  ALB  A/G Ratio  Selector\n",
      "0   65  Female   0.7  0.1      187    16    18  6.8  3.3       0.90         1\n",
      "1   62    Male  10.9  5.5      699    64   100  7.5  3.2       0.74         1\n",
      "2   62    Male   7.3  4.1      490    60    68  7.0  3.3       0.89         1\n",
      "3   58    Male   1.0  0.4      182    14    20  6.8  3.4       1.00         1\n",
      "4   72    Male   3.9  2.0      195    27    59  7.3  2.4       0.40         1\n"
     ]
    }
   ],
   "source": [
    "import pandas as pd\n",
    "\n",
    "# Carregar o banco de dados\n",
    "df = pd.read_csv(\"Indian Liver Patient Dataset (ILPD).csv\")\n",
    "\n",
    "# Analisar as features\n",
    "print(df.head())"
   ],
   "metadata": {
    "collapsed": false,
    "ExecuteTime": {
     "end_time": "2024-03-23T18:21:46.549381400Z",
     "start_time": "2024-03-23T18:21:46.065990600Z"
    }
   }
  },
  {
   "cell_type": "code",
   "execution_count": 2,
   "outputs": [],
   "source": [
    "# Transformar a feature sexo em uma variável dummy\n",
    "df = pd.get_dummies(df, columns=['Gender'], drop_first=True)\n",
    "\n",
    "# transformando selector em 0 e 1   \n",
    "df['Selector'] = df['Selector'].map({1:0, 2:1})\n",
    "\n",
    "# Tratar valores ausentes\n",
    "df.fillna(df.mean(), inplace=True)"
   ],
   "metadata": {
    "collapsed": false,
    "ExecuteTime": {
     "end_time": "2024-03-23T18:21:46.574157600Z",
     "start_time": "2024-03-23T18:21:46.549381400Z"
    }
   }
  },
  {
   "cell_type": "code",
   "source": [
    "df.dtypes"
   ],
   "metadata": {
    "colab": {
     "base_uri": "https://localhost:8080/"
    },
    "id": "9i6nIViqKdTJ",
    "outputId": "d16821a6-88d5-47f7-bce2-ace49335bae1",
    "ExecuteTime": {
     "end_time": "2024-03-23T18:21:46.639276400Z",
     "start_time": "2024-03-23T18:21:46.563441300Z"
    }
   },
   "execution_count": 3,
   "outputs": [
    {
     "data": {
      "text/plain": "Age              int64\nTB             float64\nDB             float64\nAlkphos          int64\nSgpt             int64\nSgot             int64\nTP             float64\nALB            float64\nA/G Ratio      float64\nSelector         int64\nGender_Male      uint8\ndtype: object"
     },
     "execution_count": 3,
     "metadata": {},
     "output_type": "execute_result"
    }
   ]
  },
  {
   "cell_type": "code",
   "source": [
    "df.describe().T"
   ],
   "metadata": {
    "colab": {
     "base_uri": "https://localhost:8080/",
     "height": 394
    },
    "id": "2_zn1tOEK6_d",
    "outputId": "edc4dc6e-cde9-4985-ffdc-8343a10054f1",
    "ExecuteTime": {
     "end_time": "2024-03-23T18:21:46.668303800Z",
     "start_time": "2024-03-23T18:21:46.571155600Z"
    }
   },
   "execution_count": 4,
   "outputs": [
    {
     "data": {
      "text/plain": "             count        mean         std   min    25%         50%    75%  \\\nAge          583.0   44.746141   16.189833   4.0   33.0   45.000000   58.0   \nTB           583.0    3.298799    6.209522   0.4    0.8    1.000000    2.6   \nDB           583.0    1.486106    2.808498   0.1    0.2    0.300000    1.3   \nAlkphos      583.0  290.576329  242.937989  63.0  175.5  208.000000  298.0   \nSgpt         583.0   80.713551  182.620356  10.0   23.0   35.000000   60.5   \nSgot         583.0  109.910806  288.918529  10.0   25.0   42.000000   87.0   \nTP           583.0    6.483190    1.085451   2.7    5.8    6.600000    7.2   \nALB          583.0    3.141852    0.795519   0.9    2.6    3.100000    3.8   \nA/G Ratio    583.0    0.947064    0.318492   0.3    0.7    0.947064    1.1   \nSelector     583.0    0.286449    0.452490   0.0    0.0    0.000000    1.0   \nGender_Male  583.0    0.756432    0.429603   0.0    1.0    1.000000    1.0   \n\n                max  \nAge            90.0  \nTB             75.0  \nDB             19.7  \nAlkphos      2110.0  \nSgpt         2000.0  \nSgot         4929.0  \nTP              9.6  \nALB             5.5  \nA/G Ratio       2.8  \nSelector        1.0  \nGender_Male     1.0  ",
      "text/html": "<div>\n<style scoped>\n    .dataframe tbody tr th:only-of-type {\n        vertical-align: middle;\n    }\n\n    .dataframe tbody tr th {\n        vertical-align: top;\n    }\n\n    .dataframe thead th {\n        text-align: right;\n    }\n</style>\n<table border=\"1\" class=\"dataframe\">\n  <thead>\n    <tr style=\"text-align: right;\">\n      <th></th>\n      <th>count</th>\n      <th>mean</th>\n      <th>std</th>\n      <th>min</th>\n      <th>25%</th>\n      <th>50%</th>\n      <th>75%</th>\n      <th>max</th>\n    </tr>\n  </thead>\n  <tbody>\n    <tr>\n      <th>Age</th>\n      <td>583.0</td>\n      <td>44.746141</td>\n      <td>16.189833</td>\n      <td>4.0</td>\n      <td>33.0</td>\n      <td>45.000000</td>\n      <td>58.0</td>\n      <td>90.0</td>\n    </tr>\n    <tr>\n      <th>TB</th>\n      <td>583.0</td>\n      <td>3.298799</td>\n      <td>6.209522</td>\n      <td>0.4</td>\n      <td>0.8</td>\n      <td>1.000000</td>\n      <td>2.6</td>\n      <td>75.0</td>\n    </tr>\n    <tr>\n      <th>DB</th>\n      <td>583.0</td>\n      <td>1.486106</td>\n      <td>2.808498</td>\n      <td>0.1</td>\n      <td>0.2</td>\n      <td>0.300000</td>\n      <td>1.3</td>\n      <td>19.7</td>\n    </tr>\n    <tr>\n      <th>Alkphos</th>\n      <td>583.0</td>\n      <td>290.576329</td>\n      <td>242.937989</td>\n      <td>63.0</td>\n      <td>175.5</td>\n      <td>208.000000</td>\n      <td>298.0</td>\n      <td>2110.0</td>\n    </tr>\n    <tr>\n      <th>Sgpt</th>\n      <td>583.0</td>\n      <td>80.713551</td>\n      <td>182.620356</td>\n      <td>10.0</td>\n      <td>23.0</td>\n      <td>35.000000</td>\n      <td>60.5</td>\n      <td>2000.0</td>\n    </tr>\n    <tr>\n      <th>Sgot</th>\n      <td>583.0</td>\n      <td>109.910806</td>\n      <td>288.918529</td>\n      <td>10.0</td>\n      <td>25.0</td>\n      <td>42.000000</td>\n      <td>87.0</td>\n      <td>4929.0</td>\n    </tr>\n    <tr>\n      <th>TP</th>\n      <td>583.0</td>\n      <td>6.483190</td>\n      <td>1.085451</td>\n      <td>2.7</td>\n      <td>5.8</td>\n      <td>6.600000</td>\n      <td>7.2</td>\n      <td>9.6</td>\n    </tr>\n    <tr>\n      <th>ALB</th>\n      <td>583.0</td>\n      <td>3.141852</td>\n      <td>0.795519</td>\n      <td>0.9</td>\n      <td>2.6</td>\n      <td>3.100000</td>\n      <td>3.8</td>\n      <td>5.5</td>\n    </tr>\n    <tr>\n      <th>A/G Ratio</th>\n      <td>583.0</td>\n      <td>0.947064</td>\n      <td>0.318492</td>\n      <td>0.3</td>\n      <td>0.7</td>\n      <td>0.947064</td>\n      <td>1.1</td>\n      <td>2.8</td>\n    </tr>\n    <tr>\n      <th>Selector</th>\n      <td>583.0</td>\n      <td>0.286449</td>\n      <td>0.452490</td>\n      <td>0.0</td>\n      <td>0.0</td>\n      <td>0.000000</td>\n      <td>1.0</td>\n      <td>1.0</td>\n    </tr>\n    <tr>\n      <th>Gender_Male</th>\n      <td>583.0</td>\n      <td>0.756432</td>\n      <td>0.429603</td>\n      <td>0.0</td>\n      <td>1.0</td>\n      <td>1.000000</td>\n      <td>1.0</td>\n      <td>1.0</td>\n    </tr>\n  </tbody>\n</table>\n</div>"
     },
     "execution_count": 4,
     "metadata": {},
     "output_type": "execute_result"
    }
   ]
  },
  {
   "cell_type": "markdown",
   "source": [
    "##2. Quebra do banco\n",
    "--------------------"
   ],
   "metadata": {
    "id": "m9iALm4eYchZ"
   }
  },
  {
   "cell_type": "code",
   "source": [
    "from sklearn.model_selection import train_test_split\n",
    "\n",
    "# Separar o banco em 80% para treino e 20% para teste\n",
    "X = df.drop('Selector', axis=1)\n",
    "Y = df['Selector']\n",
    "X_train, X_test, Y_train, Y_test = train_test_split(X, Y, test_size=0.2, random_state=42)\n",
    "\n"
   ],
   "metadata": {
    "id": "w-Sk_EqjYpJL",
    "ExecuteTime": {
     "end_time": "2024-03-23T18:21:47.605114300Z",
     "start_time": "2024-03-23T18:21:46.601242800Z"
    }
   },
   "execution_count": 5,
   "outputs": []
  },
  {
   "cell_type": "markdown",
   "source": [
    "##3. Primeiro modelo\n",
    "--------------------"
   ],
   "metadata": {
    "id": "uxtfBEUQYpna"
   }
  },
  {
   "cell_type": "code",
   "source": [
    "from sklearn.ensemble import RandomForestClassifier\n",
    "\n",
    "# Treinar o modelo de Random Forest\n",
    "rf_model = RandomForestClassifier(n_estimators=150, max_depth=5, random_state=42)\n",
    "rf_model.fit(X_train, Y_train)\n",
    "\n",
    "# Interpretar as duas features mais importantes\n",
    "feature_importances_rf = rf_model.feature_importances_\n",
    "feature_names = X_train.columns\n",
    "top_features_rf = sorted(zip(feature_importances_rf, feature_names), reverse=True)[:2]\n",
    "print(\"As duas features mais importantes para o modelo de Random Forest são:\")\n",
    "for importance, feature in top_features_rf:\n",
    "    print(f\"{feature}: {importance}\")\n"
   ],
   "metadata": {
    "id": "kvyAvj98Ys1l",
    "colab": {
     "base_uri": "https://localhost:8080/"
    },
    "outputId": "4ba5072e-2d95-4c7e-e343-09fed11b0fe1",
    "ExecuteTime": {
     "end_time": "2024-03-23T18:21:48.045756200Z",
     "start_time": "2024-03-23T18:21:47.606115100Z"
    }
   },
   "execution_count": 6,
   "outputs": [
    {
     "name": "stdout",
     "output_type": "stream",
     "text": [
      "As duas features mais importantes para o modelo de Random Forest são:\n",
      "Alkphos: 0.17033439155633562\n",
      "DB: 0.1448663462735451\n"
     ]
    }
   ]
  },
  {
   "cell_type": "markdown",
   "source": [
    "##3.1 Interpretação de dois coeficientes\n",
    "--------------------"
   ],
   "metadata": {
    "id": "MhqIEkqzY94Q"
   }
  },
  {
   "cell_type": "markdown",
   "source": [
    "A impureza (ou pureza) de um nó é medida usando métricas como o índice Gini ou entropia para problemas de classificação. O total da redução da impureza para cada característica é então normalizado pelo total da redução da impureza de todas as características, resultando em um valor entre 0 e 1. Um valor de importância mais alto (próximo de 1) indica que a característica é mais importante para as previsões do modelo. Neste caso as duas características mais importantes para o modelo Random Forest são \"Alkphos\" e \"Direta Bilirrubina\".\n",
    "\n",
    "\"Alkphos\" pode se referir a uma medida de fosfatase alcalina no sangue, que é um enzima relacionada a várias funções do corpo, incluindo a saúde óssea e hepática. A fosfatase alcalina é uma enzima que é produzida principalmente pelo fígado e ossos. A quantidade de fosfatase alcalina no sangue aumenta quando o fígado está danificado ou quando há um bloqueio no fluxo da bile. Portanto, faz sentido que a característica \"Alkphos\" seja uma das mais importantes para prever a presença de doença hepática.\n",
    "\n",
    "\"Direta Bilirrubina\" é um tipo de bilirrubina que é conjugada com ácido glicurônico no fígado e é excretada na bile. A bilirrubina é um produto da degradação da hemoglobina e é normalmente processada pelo fígado. A presença de bilirrubina direta no sangue pode ser um sinal de problemas hepáticos, como hepatite ou cirrose. Portanto, a característica \"Direta Bilirrubina\" também é uma variável importante para prever a presença de doença hepática."
   ],
   "metadata": {
    "collapsed": false
   }
  },
  {
   "cell_type": "markdown",
   "source": [],
   "metadata": {
    "id": "A0MqOqsa5HGE"
   }
  },
  {
   "cell_type": "markdown",
   "source": [
    "##4. Segundo modelo\n",
    "--------------------"
   ],
   "metadata": {
    "id": "iHa9mKShYsRy"
   }
  },
  {
   "cell_type": "code",
   "execution_count": 7,
   "outputs": [
    {
     "data": {
      "text/plain": "XGBClassifier(base_score=None, booster=None, callbacks=None,\n              colsample_bylevel=None, colsample_bynode=None,\n              colsample_bytree=None, early_stopping_rounds=None,\n              enable_categorical=False, eval_metric=None, feature_types=None,\n              gamma=None, gpu_id=None, grow_policy=None, importance_type=None,\n              interaction_constraints=None, learning_rate=0.1, max_bin=None,\n              max_cat_threshold=None, max_cat_to_onehot=None,\n              max_delta_step=None, max_depth=5, max_leaves=None,\n              min_child_weight=None, missing=nan, monotone_constraints=None,\n              n_estimators=150, n_jobs=None, num_parallel_tree=None,\n              predictor=None, random_state=42, ...)",
      "text/html": "<style>#sk-container-id-1 {color: black;}#sk-container-id-1 pre{padding: 0;}#sk-container-id-1 div.sk-toggleable {background-color: white;}#sk-container-id-1 label.sk-toggleable__label {cursor: pointer;display: block;width: 100%;margin-bottom: 0;padding: 0.3em;box-sizing: border-box;text-align: center;}#sk-container-id-1 label.sk-toggleable__label-arrow:before {content: \"▸\";float: left;margin-right: 0.25em;color: #696969;}#sk-container-id-1 label.sk-toggleable__label-arrow:hover:before {color: black;}#sk-container-id-1 div.sk-estimator:hover label.sk-toggleable__label-arrow:before {color: black;}#sk-container-id-1 div.sk-toggleable__content {max-height: 0;max-width: 0;overflow: hidden;text-align: left;background-color: #f0f8ff;}#sk-container-id-1 div.sk-toggleable__content pre {margin: 0.2em;color: black;border-radius: 0.25em;background-color: #f0f8ff;}#sk-container-id-1 input.sk-toggleable__control:checked~div.sk-toggleable__content {max-height: 200px;max-width: 100%;overflow: auto;}#sk-container-id-1 input.sk-toggleable__control:checked~label.sk-toggleable__label-arrow:before {content: \"▾\";}#sk-container-id-1 div.sk-estimator input.sk-toggleable__control:checked~label.sk-toggleable__label {background-color: #d4ebff;}#sk-container-id-1 div.sk-label input.sk-toggleable__control:checked~label.sk-toggleable__label {background-color: #d4ebff;}#sk-container-id-1 input.sk-hidden--visually {border: 0;clip: rect(1px 1px 1px 1px);clip: rect(1px, 1px, 1px, 1px);height: 1px;margin: -1px;overflow: hidden;padding: 0;position: absolute;width: 1px;}#sk-container-id-1 div.sk-estimator {font-family: monospace;background-color: #f0f8ff;border: 1px dotted black;border-radius: 0.25em;box-sizing: border-box;margin-bottom: 0.5em;}#sk-container-id-1 div.sk-estimator:hover {background-color: #d4ebff;}#sk-container-id-1 div.sk-parallel-item::after {content: \"\";width: 100%;border-bottom: 1px solid gray;flex-grow: 1;}#sk-container-id-1 div.sk-label:hover label.sk-toggleable__label {background-color: #d4ebff;}#sk-container-id-1 div.sk-serial::before {content: \"\";position: absolute;border-left: 1px solid gray;box-sizing: border-box;top: 0;bottom: 0;left: 50%;z-index: 0;}#sk-container-id-1 div.sk-serial {display: flex;flex-direction: column;align-items: center;background-color: white;padding-right: 0.2em;padding-left: 0.2em;position: relative;}#sk-container-id-1 div.sk-item {position: relative;z-index: 1;}#sk-container-id-1 div.sk-parallel {display: flex;align-items: stretch;justify-content: center;background-color: white;position: relative;}#sk-container-id-1 div.sk-item::before, #sk-container-id-1 div.sk-parallel-item::before {content: \"\";position: absolute;border-left: 1px solid gray;box-sizing: border-box;top: 0;bottom: 0;left: 50%;z-index: -1;}#sk-container-id-1 div.sk-parallel-item {display: flex;flex-direction: column;z-index: 1;position: relative;background-color: white;}#sk-container-id-1 div.sk-parallel-item:first-child::after {align-self: flex-end;width: 50%;}#sk-container-id-1 div.sk-parallel-item:last-child::after {align-self: flex-start;width: 50%;}#sk-container-id-1 div.sk-parallel-item:only-child::after {width: 0;}#sk-container-id-1 div.sk-dashed-wrapped {border: 1px dashed gray;margin: 0 0.4em 0.5em 0.4em;box-sizing: border-box;padding-bottom: 0.4em;background-color: white;}#sk-container-id-1 div.sk-label label {font-family: monospace;font-weight: bold;display: inline-block;line-height: 1.2em;}#sk-container-id-1 div.sk-label-container {text-align: center;}#sk-container-id-1 div.sk-container {/* jupyter's `normalize.less` sets `[hidden] { display: none; }` but bootstrap.min.css set `[hidden] { display: none !important; }` so we also need the `!important` here to be able to override the default hidden behavior on the sphinx rendered scikit-learn.org. See: https://github.com/scikit-learn/scikit-learn/issues/21755 */display: inline-block !important;position: relative;}#sk-container-id-1 div.sk-text-repr-fallback {display: none;}</style><div id=\"sk-container-id-1\" class=\"sk-top-container\"><div class=\"sk-text-repr-fallback\"><pre>XGBClassifier(base_score=None, booster=None, callbacks=None,\n              colsample_bylevel=None, colsample_bynode=None,\n              colsample_bytree=None, early_stopping_rounds=None,\n              enable_categorical=False, eval_metric=None, feature_types=None,\n              gamma=None, gpu_id=None, grow_policy=None, importance_type=None,\n              interaction_constraints=None, learning_rate=0.1, max_bin=None,\n              max_cat_threshold=None, max_cat_to_onehot=None,\n              max_delta_step=None, max_depth=5, max_leaves=None,\n              min_child_weight=None, missing=nan, monotone_constraints=None,\n              n_estimators=150, n_jobs=None, num_parallel_tree=None,\n              predictor=None, random_state=42, ...)</pre><b>In a Jupyter environment, please rerun this cell to show the HTML representation or trust the notebook. <br />On GitHub, the HTML representation is unable to render, please try loading this page with nbviewer.org.</b></div><div class=\"sk-container\" hidden><div class=\"sk-item\"><div class=\"sk-estimator sk-toggleable\"><input class=\"sk-toggleable__control sk-hidden--visually\" id=\"sk-estimator-id-1\" type=\"checkbox\" checked><label for=\"sk-estimator-id-1\" class=\"sk-toggleable__label sk-toggleable__label-arrow\">XGBClassifier</label><div class=\"sk-toggleable__content\"><pre>XGBClassifier(base_score=None, booster=None, callbacks=None,\n              colsample_bylevel=None, colsample_bynode=None,\n              colsample_bytree=None, early_stopping_rounds=None,\n              enable_categorical=False, eval_metric=None, feature_types=None,\n              gamma=None, gpu_id=None, grow_policy=None, importance_type=None,\n              interaction_constraints=None, learning_rate=0.1, max_bin=None,\n              max_cat_threshold=None, max_cat_to_onehot=None,\n              max_delta_step=None, max_depth=5, max_leaves=None,\n              min_child_weight=None, missing=nan, monotone_constraints=None,\n              n_estimators=150, n_jobs=None, num_parallel_tree=None,\n              predictor=None, random_state=42, ...)</pre></div></div></div></div></div>"
     },
     "execution_count": 7,
     "metadata": {},
     "output_type": "execute_result"
    }
   ],
   "source": [
    "from xgboost import XGBClassifier\n",
    "model_xgb = XGBClassifier(max_depth=5, learning_rate=0.1, n_estimators=150, random_state=42)\n",
    "model_xgb.fit(X_train, Y_train)\n"
   ],
   "metadata": {
    "collapsed": false,
    "ExecuteTime": {
     "end_time": "2024-03-23T18:21:48.177234500Z",
     "start_time": "2024-03-23T18:21:48.044756Z"
    }
   }
  },
  {
   "cell_type": "markdown",
   "source": [
    "##4.1 Duas features mais importantes\n",
    "--------------------"
   ],
   "metadata": {
    "id": "m_mA--yyZDMS"
   }
  },
  {
   "cell_type": "code",
   "execution_count": 8,
   "outputs": [
    {
     "data": {
      "text/plain": "    importance\nDB    0.224398\nTB    0.127188",
      "text/html": "<div>\n<style scoped>\n    .dataframe tbody tr th:only-of-type {\n        vertical-align: middle;\n    }\n\n    .dataframe tbody tr th {\n        vertical-align: top;\n    }\n\n    .dataframe thead th {\n        text-align: right;\n    }\n</style>\n<table border=\"1\" class=\"dataframe\">\n  <thead>\n    <tr style=\"text-align: right;\">\n      <th></th>\n      <th>importance</th>\n    </tr>\n  </thead>\n  <tbody>\n    <tr>\n      <th>DB</th>\n      <td>0.224398</td>\n    </tr>\n    <tr>\n      <th>TB</th>\n      <td>0.127188</td>\n    </tr>\n  </tbody>\n</table>\n</div>"
     },
     "execution_count": 8,
     "metadata": {},
     "output_type": "execute_result"
    }
   ],
   "source": [
    "pd.DataFrame(model_xgb.feature_importances_, index=X_train.columns, columns=['importance']).sort_values(by='importance', ascending=False).head(2)"
   ],
   "metadata": {
    "collapsed": false,
    "ExecuteTime": {
     "end_time": "2024-03-23T18:21:48.204193700Z",
     "start_time": "2024-03-23T18:21:48.175232300Z"
    }
   }
  },
  {
   "cell_type": "markdown",
   "source": [
    "\n",
    "\n"
   ],
   "metadata": {
    "id": "O4Td5kQO5K1Z"
   }
  },
  {
   "cell_type": "markdown",
   "source": [
    "##5. Avaliação do modelo\n",
    "--------------------"
   ],
   "metadata": {
    "id": "EGFBuaF_Y4kg"
   }
  },
  {
   "cell_type": "code",
   "execution_count": 9,
   "outputs": [
    {
     "name": "stdout",
     "output_type": "stream",
     "text": [
      "Relatório de classificação para o modelo de Random Forest:\n",
      "              precision    recall  f1-score   support\n",
      "\n",
      "           0       0.77      0.91      0.84        87\n",
      "           1       0.47      0.23      0.31        30\n",
      "\n",
      "    accuracy                           0.74       117\n",
      "   macro avg       0.62      0.57      0.57       117\n",
      "weighted avg       0.70      0.74      0.70       117\n",
      "\n",
      "Relatório de classificação para o modelo de XGBoost:\n",
      "              precision    recall  f1-score   support\n",
      "\n",
      "           0       0.80      0.84      0.82        87\n",
      "           1       0.46      0.40      0.43        30\n",
      "\n",
      "    accuracy                           0.73       117\n",
      "   macro avg       0.63      0.62      0.62       117\n",
      "weighted avg       0.71      0.73      0.72       117\n"
     ]
    }
   ],
   "source": [
    "# Construir um report dos dois modelos\n",
    "from sklearn.metrics import classification_report\n",
    "y_pred_rf = rf_model.predict(X_test)\n",
    "y_pred_xgb = model_xgb.predict(X_test)\n",
    "print(\"Relatório de classificação para o modelo de Random Forest:\")\n",
    "print(classification_report(Y_test, y_pred_rf))\n",
    "print(\"Relatório de classificação para o modelo de XGBoost:\")\n",
    "print(classification_report(Y_test, y_pred_xgb))"
   ],
   "metadata": {
    "collapsed": false,
    "ExecuteTime": {
     "end_time": "2024-03-23T18:21:48.313087600Z",
     "start_time": "2024-03-23T18:21:48.184175100Z"
    }
   }
  },
  {
   "cell_type": "markdown",
   "source": [
    "##5.1 Qual modelo escolhido olhando para a precisão de detecção de doença no fígado?\n",
    "--------------------"
   ],
   "metadata": {
    "id": "y98QDkPAZGjP"
   }
  },
  {
   "cell_type": "markdown",
   "source": [
    "Comparando os relatórios dos dois modelos:\n",
    "- O modelo de Random Forest tem uma precisão de 0.47 para detectar doença no fígado.\n",
    "- O modelo de XGBoost tem uma precisão de 0.46 para detectar doença no fígado."
   ],
   "metadata": {
    "collapsed": false
   }
  },
  {
   "cell_type": "markdown",
   "source": [],
   "metadata": {
    "id": "roU2QQ1c5MjG"
   }
  },
  {
   "cell_type": "markdown",
   "source": [
    "##5.2 Qual modelo escolhido olhando para o f1-score do rótulo de doença do fígado?\n",
    "--------------------"
   ],
   "metadata": {
    "id": "val9nAmnZPyB"
   }
  },
  {
   "cell_type": "markdown",
   "source": [
    "Comparando os relatórios dos dois modelos:\n",
    "- O modelo de Random Forest tem um f1-score de 0.31 para o rótulo de pacientes com doença no fígado.\n",
    "- O modelo de XGBoost tem um f1-score de 0.43 para o rótulo de pacientes com doença no fígado."
   ],
   "metadata": {
    "collapsed": false
   }
  },
  {
   "cell_type": "markdown",
   "source": [
    "Os dois modelos foram bem insatisfatórios, mas o modelo de XGBoost teve um desempenho ligeiramente melhor em termos de f1-score para o rótulo de pacientes com doença no fígado. Portanto, com base nesse critério, o modelo de XGBoost seria a escolha preferida. No entanto, ambos os modelos têm uma precisão muito baixa para detectar doença no fígado, o que sugere que eles podem não ser adequados para este problema específico. Como os estimadores de Random Forest e XGBoost são sensíveis a hiperparâmetros, pode ser necessário ajustar os hiperparâmetros como learning rate, max_depth, n_estimators, e limiar de probabilidade para melhorar o desempenho dos modelos.\n"
   ],
   "metadata": {
    "collapsed": false
   }
  },
  {
   "cell_type": "markdown",
   "source": [
    "# Repository of all projects \n",
    "a repository of all project "
   ],
   "metadata": {
    "collapsed": false
   }
  },
  {
   "cell_type": "markdown",
   "source": [],
   "metadata": {
    "id": "U2ah3rWW5OUV"
   }
  }
 ]
}
