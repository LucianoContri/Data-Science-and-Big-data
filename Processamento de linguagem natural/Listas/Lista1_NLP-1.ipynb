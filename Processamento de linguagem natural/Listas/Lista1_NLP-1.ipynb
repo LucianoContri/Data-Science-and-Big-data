{
 "cells": [
  {
   "cell_type": "markdown",
   "metadata": {
    "id": "vZrDfbXZjsVy"
   },
   "source": [
    "# **Lista 1: Expressão regulares**\n",
    "\n",
    "Para resolução da lista utilize os slides do material de expressão regular e os códigos no notebook regex. Também pode ser utilizado o site https://regexr.com/ para validar as expressões\n",
    "\n",
    "\n",
    "## **Exercício 1**\n",
    "Escreva uma regressão regular que oculte CPF de string:\n",
    "Obs.: Pode construir uma expressão regular para cada caso. Se conseguir escrever uma expressão regular que pegue todos os casos irá ganhar dois pontos extra.\n",
    "\n",
    "Lembrete para a expressão regular identificar ponto deve ser usado\n",
    "\n",
    "Exemplos de entrada:\n",
    "* Meu cpf é 000.000.000-00\n",
    "* Beleza, o número do meu cpf é 00000000000\n",
    "* Aqui está o meu cpf 000000000-00\n",
    "\n",
    "Saídas:\n",
    "* Meu cpf é CPF\n",
    "* Beleza, o número do meu cpf é CPF\n",
    "* Aqui está o meu cpf CPF"
   ]
  },
  {
   "cell_type": "code",
   "execution_count": null,
   "metadata": {
    "id": "46xLKH58jod6"
   },
   "outputs": [],
   "source": []
  },
  {
   "cell_type": "markdown",
   "metadata": {
    "id": "zLbRbrBjk7GP"
   },
   "source": [
    "## **Exercício 2**\n",
    "\n",
    "Construa uma expressão regular que identifique a concentração de um medicamento.\n",
    "\n",
    "Exemplo:\n",
    "* Medicamento 1 contém 150mg de Composto 1\n",
    "* Medicamento 2 5 mg\n",
    "* Medicamento 3 contém 25 mg\n",
    "\n",
    "Saídas:\n",
    "* 150mg\n",
    "* 5 mg\n",
    "* 25 mg"
   ]
  },
  {
   "cell_type": "code",
   "execution_count": null,
   "metadata": {
    "id": "Zi19UYpMlXML"
   },
   "outputs": [],
   "source": []
  }
 ],
 "metadata": {
  "colab": {
   "provenance": []
  },
  "kernelspec": {
   "display_name": "Python 3 (ipykernel)",
   "language": "python",
   "name": "python3"
  },
  "language_info": {
   "codemirror_mode": {
    "name": "ipython",
    "version": 3
   },
   "file_extension": ".py",
   "mimetype": "text/x-python",
   "name": "python",
   "nbconvert_exporter": "python",
   "pygments_lexer": "ipython3",
   "version": "3.10.8"
  }
 },
 "nbformat": 4,
 "nbformat_minor": 1
}
