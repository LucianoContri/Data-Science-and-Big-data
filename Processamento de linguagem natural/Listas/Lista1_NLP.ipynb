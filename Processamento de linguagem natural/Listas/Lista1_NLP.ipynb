{
 "cells": [
  {
   "cell_type": "markdown",
   "metadata": {
    "id": "vZrDfbXZjsVy"
   },
   "source": [
    "# **Lista 1: Expressão regulares**\n",
    "\n",
    "Para resolução da lista utilize os slides do material de expressão regular e os códigos no notebook regex. Também pode ser utilizado o site https://regexr.com/ para validar as expressões\n",
    "\n",
    "\n",
    "## **Exercício 1**\n",
    "Escreva uma regressão regular que oculte CPF de string:\n",
    "Obs.: Pode construir uma expressão regular para cada caso. Se conseguir escrever uma expressão regular que pegue todos os casos irá ganhar dois pontos extra.\n",
    "\n",
    "Lembrete para a expressão regular identificar ponto deve ser usado\n",
    "\n",
    "Exemplos de entrada:\n",
    "* Meu cpf é 000.000.000-00\n",
    "* Beleza, o número do meu cpf é 00000000000\n",
    "* Aqui está o meu cpf 000000000-00\n",
    "\n",
    "Saídas:\n",
    "* Meu cpf é CPF\n",
    "* Beleza, o número do meu cpf é CPF\n",
    "* Aqui está o meu cpf CPF"
   ]
  },
  {
   "cell_type": "code",
   "metadata": {
    "id": "46xLKH58jod6",
    "ExecuteTime": {
     "end_time": "2024-06-08T16:53:01.155332Z",
     "start_time": "2024-06-08T16:53:01.151416Z"
    }
   },
   "source": [
    "# Regex para CPF com ponto e traço \n",
    "\n",
    "regex = r'\\d{3}\\.\\d{3}\\.\\d{3}-\\d{2}|\\d{11}|\\d{9}-\\d{2}'\n",
    "\n",
    "# Testando a regex\n",
    "import re\n",
    "\n",
    "text = ('Meu cpf é 000.000.000-00'\n",
    "        'Beleza, o número do meu cpf é 00000000000'\n",
    "        'Aqui está o meu cpf 000000000-00')\n",
    "print(re.sub(regex, 'CPF\\n', text))\n",
    "print(re.findall(regex, text))"
   ],
   "outputs": [
    {
     "name": "stdout",
     "output_type": "stream",
     "text": [
      "Meu cpf é CPF\n",
      "Beleza, o número do meu cpf é CPF\n",
      "Aqui está o meu cpf CPF\n",
      "\n",
      "['000.000.000-00', '00000000000', '000000000-00']\n"
     ]
    }
   ],
   "execution_count": 14
  },
  {
   "cell_type": "markdown",
   "metadata": {
    "id": "zLbRbrBjk7GP"
   },
   "source": [
    "## **Exercício 2**\n",
    "\n",
    "Construa uma expressão regular que identifique a concentração de um medicamento.\n",
    "\n",
    "Exemplo:\n",
    "* Medicamento 1 contém 150mg de Composto 1\n",
    "* Medicamento 2 5 mg\n",
    "* Medicamento 3 contém 25 mg\n",
    "\n",
    "Saídas:\n",
    "* 150mg\n",
    "* 5 mg\n",
    "* 25 mg"
   ]
  },
  {
   "cell_type": "code",
   "metadata": {
    "id": "Zi19UYpMlXML",
    "ExecuteTime": {
     "end_time": "2024-06-08T16:51:36.113456Z",
     "start_time": "2024-06-08T16:51:36.108949Z"
    }
   },
   "source": [
    "# Regex para concentração de medicamento pegando espaço ou não entre o número e a unidade de medida fazendo isso \\d+\\ \\d+\\s?mg|\\d+\\s?mg mas sem pegar os espaços entre o número e a unidade de medida\n",
    "\n",
    "\n",
    "regex = r'(\\d+\\s*\\d*)\\s*mg'\n",
    "\n",
    "# Testando a regex\n",
    "\n",
    "text = ('Medicamento 1 contém 150mg de Composto 1'\n",
    "        'Medicamento 2 5 mg'\n",
    "        'Medicamento 3 contém 25 mg')\n",
    "\n",
    "st= re.findall(regex, text)\n",
    "\n",
    "# retirando os espaços\n",
    "for i in st:\n",
    "    st[st.index(i)] = i.replace(' ', '')        \n",
    "print(st)\n",
    "\n",
    "\n"
   ],
   "outputs": [
    {
     "name": "stdout",
     "output_type": "stream",
     "text": [
      "['150', '25', '25']\n"
     ]
    }
   ],
   "execution_count": 10
  },
  {
   "metadata": {},
   "cell_type": "code",
   "outputs": [],
   "execution_count": null,
   "source": ""
  }
 ],
 "metadata": {
  "colab": {
   "provenance": []
  },
  "kernelspec": {
   "display_name": "Python 3 (ipykernel)",
   "language": "python",
   "name": "python3"
  },
  "language_info": {
   "codemirror_mode": {
    "name": "ipython",
    "version": 3
   },
   "file_extension": ".py",
   "mimetype": "text/x-python",
   "name": "python",
   "nbconvert_exporter": "python",
   "pygments_lexer": "ipython3",
   "version": "3.10.8"
  }
 },
 "nbformat": 4,
 "nbformat_minor": 1
}
