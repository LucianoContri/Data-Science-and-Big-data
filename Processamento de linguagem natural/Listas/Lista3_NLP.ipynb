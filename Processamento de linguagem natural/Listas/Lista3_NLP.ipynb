{
  "nbformat": 4,
  "nbformat_minor": 0,
  "metadata": {
    "colab": {
      "provenance": []
    },
    "kernelspec": {
      "name": "python3",
      "display_name": "Python 3"
    },
    "language_info": {
      "name": "python"
    }
  },
  "cells": [
    {
      "cell_type": "markdown",
      "source": [
        "# Lista 3 - Classificador\n",
        "\n",
        "Para resolução da lista utilize os slides do material de pré-processamento e classificação e os códigos de pré-processamentoe classificação.\n",
        "\n",
        "## **Exercício**:\n",
        "Utilizando o banco de dados do IMDB (utilizado na aula de classificação).\n",
        "\n",
        "a) Realize o pré-processamento do dado utilizando o seguinte pré-processamento:\n",
        "\n",
        "* Tokenizar as strings utilizando nltk\n",
        "* Passar as palavras para minúsculo\n",
        "* Remover acentos\n",
        "* Remover números\n",
        "* Remover pontos\n",
        "* Realizar lemmantization\n",
        "\n",
        "b) Treine um modelo de random forest para prever se o texto é uma review positiva ou negativa. Treine um modelo para cada uma das representações abaixo:\n",
        "\n",
        "1. One hot encoding\n",
        "2. Bag-of-words (com a frequencia das palavras)\n",
        "3. TF-IDF\n",
        "\n",
        "c) Calcule as métricas dos modelos de b. Qual deles você considera o melhor e porque?\n",
        "\n",
        "d) Quais palavras (features) foram as mais importantes do modelo selecionado?\n",
        "\n"
      ],
      "metadata": {
        "id": "9XOrwAuFQvNn"
      }
    },
    {
      "cell_type": "code",
      "execution_count": null,
      "metadata": {
        "id": "ShI7QZH0Qnzo"
      },
      "outputs": [],
      "source": []
    }
  ]
}