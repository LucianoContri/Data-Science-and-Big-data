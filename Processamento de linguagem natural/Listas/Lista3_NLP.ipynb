{
 "nbformat": 4,
 "nbformat_minor": 0,
 "metadata": {
  "colab": {
   "provenance": []
  },
  "kernelspec": {
   "name": "python3",
   "display_name": "Python 3 (ipykernel)",
   "language": "python"
  },
  "language_info": {
   "name": "python"
  }
 },
 "cells": [
  {
   "cell_type": "markdown",
   "source": [
    "# Lista 3 - Classificador\n",
    "\n",
    "Para resolução da lista utilize os slides do material de pré-processamento e classificação e os códigos de pré-processamentoe classificação.\n",
    "\n",
    "## **Exercício**:\n",
    "Utilizando o banco de dados do IMDB (utilizado na aula de classificação).\n",
    "\n",
    "a) Realize o pré-processamento do dado utilizando o seguinte pré-processamento:\n",
    "\n",
    "* Tokenizar as strings utilizando nltk\n",
    "* Passar as palavras para minúsculo\n",
    "* Remover acentos\n",
    "* Remover números\n",
    "* Remover pontos\n",
    "* Realizar lemmantization\n",
    "\n",
    "b) Treine um modelo de random forest para prever se o texto é uma review positiva ou negativa. Treine um modelo para cada uma das representações abaixo:\n",
    "\n",
    "1. One hot encoding\n",
    "2. Bag-of-words (com a frequencia das palavras)\n",
    "3. TF-IDF\n",
    "\n",
    "c) Calcule as métricas dos modelos de b. Qual deles você considera o melhor e porque?\n",
    "\n",
    "d) Quais palavras (features) foram as mais importantes do modelo selecionado?\n",
    "\n"
   ],
   "metadata": {
    "id": "9XOrwAuFQvNn"
   }
  },
  {
   "metadata": {
    "ExecuteTime": {
     "end_time": "2024-06-24T17:59:27.585845Z",
     "start_time": "2024-06-24T17:59:26.213270Z"
    }
   },
   "cell_type": "code",
   "source": [
    "import pandas as pd\n",
    "        \n",
    "imdb_reviews_pt_br = pd.read_csv('../../../Datasets/imdb-reviews-pt-br.csv', sep = ',')\n",
    "imdb_reviews_pt_br"
   ],
   "outputs": [
    {
     "data": {
      "text/plain": [
       "          id                                            text_en  \\\n",
       "0          1  Once again Mr. Costner has dragged out a movie...   \n",
       "1          2  This is an example of why the majority of acti...   \n",
       "2          3  First of all I hate those moronic rappers, who...   \n",
       "3          4  Not even the Beatles could write songs everyon...   \n",
       "4          5  Brass pictures movies is not a fitting word fo...   \n",
       "...      ...                                                ...   \n",
       "49454  49456  Seeing as the vote average was pretty low, and...   \n",
       "49455  49457  The plot had some wretched, unbelievable twist...   \n",
       "49456  49458  I am amazed at how this movieand most others h...   \n",
       "49457  49459  A Christmas Together actually came before my t...   \n",
       "49458  49460  Working-class romantic drama from director Mar...   \n",
       "\n",
       "                                                 text_pt sentiment  \n",
       "0      Mais uma vez, o Sr. Costner arrumou um filme p...       neg  \n",
       "1      Este é um exemplo do motivo pelo qual a maiori...       neg  \n",
       "2      Primeiro de tudo eu odeio esses raps imbecis, ...       neg  \n",
       "3      Nem mesmo os Beatles puderam escrever músicas ...       neg  \n",
       "4      Filmes de fotos de latão não é uma palavra apr...       neg  \n",
       "...                                                  ...       ...  \n",
       "49454  Como a média de votos era muito baixa, e o fat...       pos  \n",
       "49455  O enredo teve algumas reviravoltas infelizes e...       pos  \n",
       "49456  Estou espantado com a forma como este filme e ...       pos  \n",
       "49457  A Christmas Together realmente veio antes do m...       pos  \n",
       "49458  O drama romântico da classe trabalhadora do di...       pos  \n",
       "\n",
       "[49459 rows x 4 columns]"
      ],
      "text/html": [
       "<div>\n",
       "<style scoped>\n",
       "    .dataframe tbody tr th:only-of-type {\n",
       "        vertical-align: middle;\n",
       "    }\n",
       "\n",
       "    .dataframe tbody tr th {\n",
       "        vertical-align: top;\n",
       "    }\n",
       "\n",
       "    .dataframe thead th {\n",
       "        text-align: right;\n",
       "    }\n",
       "</style>\n",
       "<table border=\"1\" class=\"dataframe\">\n",
       "  <thead>\n",
       "    <tr style=\"text-align: right;\">\n",
       "      <th></th>\n",
       "      <th>id</th>\n",
       "      <th>text_en</th>\n",
       "      <th>text_pt</th>\n",
       "      <th>sentiment</th>\n",
       "    </tr>\n",
       "  </thead>\n",
       "  <tbody>\n",
       "    <tr>\n",
       "      <th>0</th>\n",
       "      <td>1</td>\n",
       "      <td>Once again Mr. Costner has dragged out a movie...</td>\n",
       "      <td>Mais uma vez, o Sr. Costner arrumou um filme p...</td>\n",
       "      <td>neg</td>\n",
       "    </tr>\n",
       "    <tr>\n",
       "      <th>1</th>\n",
       "      <td>2</td>\n",
       "      <td>This is an example of why the majority of acti...</td>\n",
       "      <td>Este é um exemplo do motivo pelo qual a maiori...</td>\n",
       "      <td>neg</td>\n",
       "    </tr>\n",
       "    <tr>\n",
       "      <th>2</th>\n",
       "      <td>3</td>\n",
       "      <td>First of all I hate those moronic rappers, who...</td>\n",
       "      <td>Primeiro de tudo eu odeio esses raps imbecis, ...</td>\n",
       "      <td>neg</td>\n",
       "    </tr>\n",
       "    <tr>\n",
       "      <th>3</th>\n",
       "      <td>4</td>\n",
       "      <td>Not even the Beatles could write songs everyon...</td>\n",
       "      <td>Nem mesmo os Beatles puderam escrever músicas ...</td>\n",
       "      <td>neg</td>\n",
       "    </tr>\n",
       "    <tr>\n",
       "      <th>4</th>\n",
       "      <td>5</td>\n",
       "      <td>Brass pictures movies is not a fitting word fo...</td>\n",
       "      <td>Filmes de fotos de latão não é uma palavra apr...</td>\n",
       "      <td>neg</td>\n",
       "    </tr>\n",
       "    <tr>\n",
       "      <th>...</th>\n",
       "      <td>...</td>\n",
       "      <td>...</td>\n",
       "      <td>...</td>\n",
       "      <td>...</td>\n",
       "    </tr>\n",
       "    <tr>\n",
       "      <th>49454</th>\n",
       "      <td>49456</td>\n",
       "      <td>Seeing as the vote average was pretty low, and...</td>\n",
       "      <td>Como a média de votos era muito baixa, e o fat...</td>\n",
       "      <td>pos</td>\n",
       "    </tr>\n",
       "    <tr>\n",
       "      <th>49455</th>\n",
       "      <td>49457</td>\n",
       "      <td>The plot had some wretched, unbelievable twist...</td>\n",
       "      <td>O enredo teve algumas reviravoltas infelizes e...</td>\n",
       "      <td>pos</td>\n",
       "    </tr>\n",
       "    <tr>\n",
       "      <th>49456</th>\n",
       "      <td>49458</td>\n",
       "      <td>I am amazed at how this movieand most others h...</td>\n",
       "      <td>Estou espantado com a forma como este filme e ...</td>\n",
       "      <td>pos</td>\n",
       "    </tr>\n",
       "    <tr>\n",
       "      <th>49457</th>\n",
       "      <td>49459</td>\n",
       "      <td>A Christmas Together actually came before my t...</td>\n",
       "      <td>A Christmas Together realmente veio antes do m...</td>\n",
       "      <td>pos</td>\n",
       "    </tr>\n",
       "    <tr>\n",
       "      <th>49458</th>\n",
       "      <td>49460</td>\n",
       "      <td>Working-class romantic drama from director Mar...</td>\n",
       "      <td>O drama romântico da classe trabalhadora do di...</td>\n",
       "      <td>pos</td>\n",
       "    </tr>\n",
       "  </tbody>\n",
       "</table>\n",
       "<p>49459 rows × 4 columns</p>\n",
       "</div>"
      ]
     },
     "execution_count": 39,
     "metadata": {},
     "output_type": "execute_result"
    }
   ],
   "execution_count": 39
  },
  {
   "metadata": {
    "ExecuteTime": {
     "end_time": "2024-06-24T17:59:27.606743Z",
     "start_time": "2024-06-24T17:59:27.586851Z"
    }
   },
   "cell_type": "code",
   "source": "imdb_reviews_pt_br.isna().sum()",
   "outputs": [
    {
     "data": {
      "text/plain": [
       "id           0\n",
       "text_en      0\n",
       "text_pt      0\n",
       "sentiment    0\n",
       "dtype: int64"
      ]
     },
     "execution_count": 40,
     "metadata": {},
     "output_type": "execute_result"
    }
   ],
   "execution_count": 40
  },
  {
   "metadata": {
    "ExecuteTime": {
     "end_time": "2024-06-24T17:59:27.612973Z",
     "start_time": "2024-06-24T17:59:27.607754Z"
    }
   },
   "cell_type": "code",
   "source": "imdb_reviews_pt_br.dtypes",
   "outputs": [
    {
     "data": {
      "text/plain": [
       "id            int64\n",
       "text_en      object\n",
       "text_pt      object\n",
       "sentiment    object\n",
       "dtype: object"
      ]
     },
     "execution_count": 41,
     "metadata": {},
     "output_type": "execute_result"
    }
   ],
   "execution_count": 41
  },
  {
   "metadata": {
    "ExecuteTime": {
     "end_time": "2024-06-24T17:59:27.618Z",
     "start_time": "2024-06-24T17:59:27.613980Z"
    }
   },
   "cell_type": "code",
   "source": "print(imdb_reviews_pt_br['text_pt'].iloc[0])",
   "outputs": [
    {
     "name": "stdout",
     "output_type": "stream",
     "text": [
      "Mais uma vez, o Sr. Costner arrumou um filme por muito mais tempo do que o necessário. Além das terríveis seqüências de resgate no mar, das quais há muito poucas, eu simplesmente não me importei com nenhum dos personagens. A maioria de nós tem fantasmas no armário, e o personagem Costers é realizado logo no início, e depois esquecido até muito mais tarde, quando eu não me importava. O personagem com o qual deveríamos nos importar é muito arrogante e superconfiante, Ashton Kutcher. O problema é que ele sai como um garoto que pensa que é melhor do que qualquer outra pessoa ao seu redor e não mostra sinais de um armário desordenado. Seu único obstáculo parece estar vencendo Costner. Finalmente, quando estamos bem além do meio do caminho, Costner nos conta sobre os fantasmas dos Kutchers. Somos informados de por que Kutcher é levado a ser o melhor sem pressentimentos ou presságios anteriores. Nenhuma mágica aqui, era tudo que eu podia fazer para não desligar uma hora.\n"
     ]
    }
   ],
   "execution_count": 42
  },
  {
   "metadata": {
    "ExecuteTime": {
     "end_time": "2024-06-24T17:59:27.642942Z",
     "start_time": "2024-06-24T17:59:27.620011Z"
    }
   },
   "cell_type": "code",
   "source": [
    "import nltk\n",
    "from nltk.tokenize import word_tokenize\n",
    "from nltk.stem import WordNetLemmatizer\n",
    "import unidecode\n",
    "nltk.download('punkt')\n",
    "nltk.download('wordnet')"
   ],
   "outputs": [
    {
     "name": "stderr",
     "output_type": "stream",
     "text": [
      "[nltk_data] Downloading package punkt to\n",
      "[nltk_data]     C:\\Users\\Lucia\\AppData\\Roaming\\nltk_data...\n",
      "[nltk_data]   Package punkt is already up-to-date!\n",
      "[nltk_data] Downloading package wordnet to\n",
      "[nltk_data]     C:\\Users\\Lucia\\AppData\\Roaming\\nltk_data...\n",
      "[nltk_data]   Package wordnet is already up-to-date!\n"
     ]
    },
    {
     "data": {
      "text/plain": [
       "True"
      ]
     },
     "execution_count": 43,
     "metadata": {},
     "output_type": "execute_result"
    }
   ],
   "execution_count": 43
  },
  {
   "metadata": {},
   "cell_type": "markdown",
   "source": "### a) Realize o pré-processamento do dado utilizando o seguinte pré-processamento:"
  },
  {
   "metadata": {
    "ExecuteTime": {
     "end_time": "2024-06-24T18:01:22.023198Z",
     "start_time": "2024-06-24T17:59:27.643950Z"
    }
   },
   "cell_type": "code",
   "source": [
    "# Pré-processamento\n",
    "def preprocess_text(text):\n",
    "    text = word_tokenize(text) # Tokenizar as strings utilizando nltk\n",
    "    text = [word.lower() for word in text] # Passar as palavras para minúsculo\n",
    "    text = [unidecode.unidecode(word) for word in text] # Remover acentos   \n",
    "    text = [word for word in text if not word.isdigit()] # Remover números\n",
    "    text = [word for word in text if word.isalpha()] # Remover pontos\n",
    "    lemmatizer = WordNetLemmatizer() # Realizar lemmantization  \n",
    "    text = [lemmatizer.lemmatize(word) for word in text] # Realizar lemmantization\n",
    "    return ' '.join(text) # Juntar tokens de volta em strings\n",
    "\n",
    "imdb_reviews_pt_br['text_pt'] = imdb_reviews_pt_br['text_pt'].apply(preprocess_text)"
   ],
   "outputs": [],
   "execution_count": 44
  },
  {
   "metadata": {},
   "cell_type": "markdown",
   "source": "### b) Treine um modelo de random forest para prever se o texto é uma review positiva ou negativa. Treine um modelo para cada uma das representações abaixo:"
  },
  {
   "metadata": {},
   "cell_type": "markdown",
   "source": "#### 1. One hot encoding"
  },
  {
   "metadata": {
    "ExecuteTime": {
     "end_time": "2024-06-24T18:04:36.181957Z",
     "start_time": "2024-06-24T18:04:36.163182Z"
    }
   },
   "cell_type": "code",
   "source": [
    "# One hot encoding\n",
    "from sklearn.feature_extraction.text import CountVectorizer\n",
    "from sklearn.feature_extraction.text import TfidfVectorizer\n",
    "from sklearn.ensemble import RandomForestClassifier\n",
    "from sklearn.model_selection import train_test_split\n",
    "from sklearn.metrics import accuracy_score, classification_report\n",
    "\n",
    "\n",
    "# Convertendo as labels para valores binários\n",
    "y = imdb_reviews_pt_br['sentiment'].apply(lambda x: 1 if x == 'pos' else 0)"
   ],
   "outputs": [],
   "execution_count": 59
  },
  {
   "metadata": {
    "ExecuteTime": {
     "end_time": "2024-06-24T18:16:11.572469Z",
     "start_time": "2024-06-24T18:16:11.566014Z"
    }
   },
   "cell_type": "code",
   "source": [
    "def train_and_get_feature_importances(vectorizer, X_text, y, vectorizer_name):\n",
    "    \n",
    "    X = vectorizer.fit_transform(X_text)\n",
    "    X_train, X_test, y_train, y_test = train_test_split(X, y, test_size=0.2, random_state=42)\n",
    "\n",
    "    rf_classifier = RandomForestClassifier(n_estimators=100, random_state=42)\n",
    "    rf_classifier.fit(X_train, y_train)\n",
    "\n",
    "    y_pred = rf_classifier.predict(X_test)\n",
    "\n",
    "    accuracy = accuracy_score(y_test, y_pred)\n",
    "    report = classification_report(y_test, y_pred)\n",
    "\n",
    "    features = vectorizer.get_feature_names_out()\n",
    "    importances = rf_classifier.feature_importances_\n",
    "    importances_df = pd.DataFrame(importances, index=features, columns=['importance']).sort_values('importance', ascending=False)\n",
    "\n",
    "\n",
    "    return importances_df, report , accuracy\n",
    "    "
   ],
   "outputs": [],
   "execution_count": 67
  },
  {
   "metadata": {
    "ExecuteTime": {
     "end_time": "2024-06-24T18:20:15.263355Z",
     "start_time": "2024-06-24T18:16:19.391707Z"
    }
   },
   "cell_type": "code",
   "source": [
    "# Usando CountVectorizer para criar uma matriz binária\n",
    "count_vectorizer = CountVectorizer(binary=True)\n",
    "importances_one, report_one, accuracy_one = train_and_get_feature_importances(count_vectorizer, imdb_reviews_pt_br['text_pt'], y, 'One hot encoding')\n",
    "\n"
   ],
   "outputs": [],
   "execution_count": 68
  },
  {
   "metadata": {},
   "cell_type": "markdown",
   "source": "#### 2. Bag-of-words (com a frequencia das palavras)    "
  },
  {
   "metadata": {
    "ExecuteTime": {
     "end_time": "2024-06-24T18:23:53.845316Z",
     "start_time": "2024-06-24T18:20:15.264363Z"
    }
   },
   "cell_type": "code",
   "source": [
    "# Bag-of-words\n",
    "count_vectorizer = CountVectorizer()\n",
    "importances_bag, report_bag, accuracy_bag = train_and_get_feature_importances(count_vectorizer, imdb_reviews_pt_br['text_pt'], y, 'Bag-of-words')   "
   ],
   "outputs": [],
   "execution_count": 69
  },
  {
   "metadata": {},
   "cell_type": "markdown",
   "source": "#### 3. TF-IDF"
  },
  {
   "metadata": {
    "ExecuteTime": {
     "end_time": "2024-06-24T18:27:14.276040Z",
     "start_time": "2024-06-24T18:23:53.846323Z"
    }
   },
   "cell_type": "code",
   "source": [
    "# TF-IDF\n",
    "tfidf_vectorizer = TfidfVectorizer()\n",
    "importances_tfidf, report_tfidf, accuracy_tfidf = train_and_get_feature_importances(tfidf_vectorizer, imdb_reviews_pt_br['text_pt'], y, 'TF-IDF')"
   ],
   "outputs": [],
   "execution_count": 70
  },
  {
   "metadata": {},
   "cell_type": "markdown",
   "source": "### c) Calcule as métricas dos modelos de b. Qual deles você considera o melhor e porque?"
  },
  {
   "metadata": {
    "ExecuteTime": {
     "end_time": "2024-06-24T18:27:14.281504Z",
     "start_time": "2024-06-24T18:27:14.277041Z"
    }
   },
   "cell_type": "code",
   "source": [
    "print('One hot encoding')\n",
    "print('Accuracy:', accuracy_one)\n",
    "print(report_one)\n",
    "\n",
    "print('Bag-of-words')\n",
    "print('Accuracy:', accuracy_bag)\n",
    "print(report_bag)\n",
    "\n",
    "print('TF-IDF')\n",
    "print('Accuracy:', accuracy_tfidf)  \n",
    "print(report_tfidf)\n",
    "\n"
   ],
   "outputs": [
    {
     "name": "stdout",
     "output_type": "stream",
     "text": [
      "One hot encoding\n",
      "Accuracy: 0.8397695107157299\n",
      "              precision    recall  f1-score   support\n",
      "\n",
      "           0       0.84      0.85      0.84      5038\n",
      "           1       0.84      0.83      0.84      4854\n",
      "\n",
      "    accuracy                           0.84      9892\n",
      "   macro avg       0.84      0.84      0.84      9892\n",
      "weighted avg       0.84      0.84      0.84      9892\n",
      "\n",
      "Bag-of-words\n",
      "Accuracy: 0.8411847957945815\n",
      "              precision    recall  f1-score   support\n",
      "\n",
      "           0       0.84      0.84      0.84      5038\n",
      "           1       0.84      0.84      0.84      4854\n",
      "\n",
      "    accuracy                           0.84      9892\n",
      "   macro avg       0.84      0.84      0.84      9892\n",
      "weighted avg       0.84      0.84      0.84      9892\n",
      "\n",
      "TF-IDF\n",
      "Accuracy: 0.8283461382935705\n",
      "              precision    recall  f1-score   support\n",
      "\n",
      "           0       0.83      0.84      0.83      5038\n",
      "           1       0.83      0.82      0.82      4854\n",
      "\n",
      "    accuracy                           0.83      9892\n",
      "   macro avg       0.83      0.83      0.83      9892\n",
      "weighted avg       0.83      0.83      0.83      9892\n",
      "\n"
     ]
    }
   ],
   "execution_count": 71
  },
  {
   "metadata": {},
   "cell_type": "markdown",
   "source": "### d) Quais palavras (features) foram as mais importantes do modelo selecionado?"
  },
  {
   "metadata": {
    "ExecuteTime": {
     "end_time": "2024-06-24T18:27:14.290958Z",
     "start_time": "2024-06-24T18:27:14.283508Z"
    }
   },
   "cell_type": "code",
   "source": [
    "print('Features mais importantes:')\n",
    "print('    One hot encoding')\n",
    "print(importances_one.head(10)) \n",
    "\n",
    "print('    Bag-of-words')\n",
    "print(importances_bag.head(10))\n",
    "\n",
    "print('    TF-IDF')\n",
    "print(importances_tfidf.head(10))\n"
   ],
   "outputs": [
    {
     "name": "stdout",
     "output_type": "stream",
     "text": [
      "Features mais importantes:\n",
      "    One hot encoding\n",
      "           importance\n",
      "ruim         0.008630\n",
      "pior         0.008494\n",
      "horrivel     0.005430\n",
      "excelente    0.004595\n",
      "otimo        0.004269\n",
      "piores       0.004041\n",
      "nada         0.003502\n",
      "terrivel     0.003449\n",
      "nem          0.003244\n",
      "lixo         0.002624\n",
      "    Bag-of-words\n",
      "           importance\n",
      "ruim         0.010364\n",
      "pior         0.009323\n",
      "horrivel     0.005484\n",
      "nao          0.005412\n",
      "excelente    0.004417\n",
      "piores       0.003980\n",
      "otimo        0.003918\n",
      "terrivel     0.003740\n",
      "nada         0.003124\n",
      "lixo         0.002871\n",
      "    TF-IDF\n",
      "           importance\n",
      "ruim         0.009787\n",
      "pior         0.007751\n",
      "nao          0.007358\n",
      "horrivel     0.005259\n",
      "terrivel     0.004726\n",
      "excelente    0.004414\n",
      "otimo        0.003990\n",
      "piores       0.003325\n",
      "nada         0.003150\n",
      "nem          0.003059\n"
     ]
    }
   ],
   "execution_count": 72
  },
  {
   "metadata": {},
   "cell_type": "markdown",
   "source": ""
  },
  {
   "metadata": {},
   "cell_type": "markdown",
   "source": ""
  }
 ]
}
