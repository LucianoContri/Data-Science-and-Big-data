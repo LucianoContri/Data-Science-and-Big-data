{
  "nbformat": 4,
  "nbformat_minor": 0,
  "metadata": {
    "colab": {
      "provenance": []
    },
    "kernelspec": {
      "name": "python3",
      "display_name": "Python 3"
    },
    "language_info": {
      "name": "python"
    }
  },
  "cells": [
    {
      "cell_type": "markdown",
      "source": [
        "#LSTM\n",
        "\n",
        "**Objetivo**: Criação de um modelo utilizando arquitetura LSTM\n",
        "\n",
        "Para a criação de um modelo com arquitetura LSTM (Long short term memory) iremos utilizar o pacote tensorflow.\n",
        "\n",
        "1. Carregamento dos dados\n",
        "\n",
        "Batch: conjunto de observações que será passada por vez na rede neural, diferente dos modelos usuais de machine learning para redes neurais passamos um pequeno conjunto de dados a cada iteração."
      ],
      "metadata": {
        "id": "f2q81wuxlu8a"
      }
    },
    {
      "cell_type": "code",
      "execution_count": 11,
      "metadata": {
        "id": "U775PKnRlrJ6"
      },
      "outputs": [],
      "source": [
        "import tensorflow as tf\n",
        "import tensorflow_datasets as tfds\n",
        "\n",
        "import numpy as np\n",
        "import matplotlib.pyplot as plt"
      ]
    },
    {
      "cell_type": "code",
      "source": [
        "dataset = tfds.load('imdb_reviews', as_supervised=True)\n",
        "\n",
        "train_dataset, test_dataset = dataset['train'], dataset['test']\n",
        "\n",
        "batch_size = 128\n",
        "train_dataset = train_dataset.shuffle(15)\n",
        "train_dataset = train_dataset.batch(batch_size)\n",
        "test_dataset = test_dataset.batch(batch_size)"
      ],
      "metadata": {
        "id": "-NKeTn4Sl6m2"
      },
      "execution_count": 12,
      "outputs": []
    },
    {
      "cell_type": "markdown",
      "source": [
        "2. Camada encoder\n",
        "A primeira camada da nossa rede neural será a camada de enconder, essa camada irá converter as palavras para indexes. Para isso usaremos a função TextVectorization.\n",
        "\n",
        "```python\n",
        "import tensorflow as tf\n",
        "encoder = tf.keras.layers.TextVectorization()\n",
        "encoder.adapt(train_dataset.map(lambda text, _: text))\n",
        "```\n",
        "\n",
        "Com essa função iremos criar um vetor codificado das palavras do texto. O parâmetro max_tokens controla o tamanho do vocabulário na vetorização. A função adapt irá adequar o vocabulário do texto.\n",
        "\n",
        "Exercício:\n",
        "1. Crie a camada encoder\n",
        "2. Veja como fica um exemplo de texto na camada encoder (use encoder(texto).numpy())"
      ],
      "metadata": {
        "id": "AuZzA4jGopR3"
      }
    },
    {
      "cell_type": "code",
      "source": [
        "encoder = tf.keras.layers.TextVectorization(max_tokens=10000)\n",
        "encoder.adapt(train_dataset.map(lambda text, _: text))\n",
        "vocabulary = np.array(encoder.get_vocabulary())"
      ],
      "metadata": {
        "id": "WT_S0pl8mD1f"
      },
      "execution_count": 13,
      "outputs": []
    },
    {
      "cell_type": "code",
      "source": [
        "example, label = next(iter(train_dataset))"
      ],
      "metadata": {
        "id": "JGOYk98mufhS"
      },
      "execution_count": 14,
      "outputs": []
    },
    {
      "cell_type": "code",
      "source": [
        "original_text = example.numpy()[0]\n",
        "encoded_text = encoder(original_text).numpy()\n",
        "decoded_text = ' '.join(vocabulary[encoded_text])"
      ],
      "metadata": {
        "id": "lZylv49HmL6i"
      },
      "execution_count": 15,
      "outputs": []
    },
    {
      "cell_type": "markdown",
      "source": [
        "3. Criação do modelo\n",
        "Iremos criar uma arquitetura sequencial que seguirá a seguinte ordem:\n",
        "1. Encoder\n",
        "2. Camada de embedding\n",
        "3. Camada bidirecional\n",
        "4. Camada Densa com ativação relu\n",
        "5. Camada Densa com ativação linear\n",
        "\n",
        "\n",
        "Para a construção do modelo iremos usar\n",
        "```python\n",
        "model = tf.keras.Sequential\n",
        "model.add(camada)\n",
        "```\n",
        "\n",
        "Onde em camada iremos substituir pelas camadas desejadas, por exemplo na camada de encoder usamos\n",
        "```python\n",
        "model.add(encoder)\n",
        "```\n",
        "\n",
        "Para a criação da camada de embedding usaremos a função tf.keras.layers.Embedding, esta função possui dois parâmetros importantes\n",
        "1. Input dimension - dimensão da entrada dos dados\n",
        "2. Output dimension - dimensão da saída dos dados\n",
        "Outro parâmetro importante é mask_zero que deve ser configurado como True caso as frases sejam de tamanho diferente.\n",
        "\n",
        "Exemplo de uso:\n",
        "```python\n",
        "tf.keras.layers.Embedding(10000, 32, mask_zero=True)\n",
        "```\n",
        "\n",
        "Neste exemplo o input é de dimensão 10000 e o output de dimensão 32;\n",
        "\n",
        "Para a criação da camada BiLSTM usaremos a função tf.keras.layers.Bidirectional e a função tf.keras.layers.LSTM. Iremos configurar apenas a camada LSTM, nela temos que colocar o tamanho do output e um dos seus parâmetros é return_sequences que deve ser configurado como True caso desejamos o output de toda a frase e não apenas o último (default é falso).\n",
        "\n",
        "```python\n",
        "tf.keras.layers.Bidirectional(\n",
        "        tf.keras.layers.LSTM(32,  return_sequences=True))\n",
        "```\n",
        "Ira criar a camada LSTM com saída 32 e irá retorna toda a sequencia.\n",
        "\n",
        "Por último a camada densa que é a camada mais simples, nela iremos passar o tamanho do output e a função de ativação; exemplos de função de ativação:\n",
        "\n",
        "* linear\n",
        "* softmax (sigmoid)\n",
        "* relu (max(0,x))\n",
        "\n",
        "```python\n",
        "tf.keras.layers.Dense(64, activation='relu')\n",
        "```\n",
        "\n",
        "Exercício construa o modelo com a seguinte arquitetura:\n",
        "1. Encoder\n",
        "2. Camada de embedding com output 64 e mask_zero=True\n",
        "3. Camada BiLSTM, com output 64\n",
        "4. Camada Densa com output 64 e ativação relu\n",
        "5. Camada Densa com output 1"
      ],
      "metadata": {
        "id": "fQGeEHQZppKb"
      }
    },
    {
      "cell_type": "code",
      "source": [
        "model = tf.keras.Sequential([\n",
        "    encoder,\n",
        "    tf.keras.layers.Embedding(\n",
        "        len(encoder.get_vocabulary()), 64, mask_zero=True),\n",
        "    tf.keras.layers.Bidirectional(\n",
        "        tf.keras.layers.LSTM(64)),\n",
        "    tf.keras.layers.Dense(64, activation='relu'),\n",
        "    tf.keras.layers.Dense(1)\n",
        "])"
      ],
      "metadata": {
        "id": "ghlavsIymOWm"
      },
      "execution_count": 16,
      "outputs": []
    },
    {
      "cell_type": "markdown",
      "source": [
        "4. Treino\n",
        "\n",
        "Para resumir a arquitetura usamos a função summary\n",
        "```python\n",
        "model.summary()\n",
        "```\n",
        "\n",
        "Após montar a arquitetura precisamos definir a função de perda, o otimizador e uma métrica de acompanhamento. Para isso usamos a função compile no nosso exemplo usaremos a função de perda de Crossentropy Binaria e o otimizador Adam como no exemplo.\n",
        "\n",
        "```python\n",
        "model.compile(\n",
        "    loss=tf.keras.losses.BinaryCrossentropy(from_logits=True),\n",
        "    optimizer=tf.keras.optimizers.Adam(),\n",
        "    metrics=['accuracy']\n",
        ")\n",
        "```\n",
        " E para ajustar o modelo iremos usar .fit passando o dado de treino, o número de epochs (quantas vezes iremos passar o dado para a rede) e o banco de validação.\n",
        "\n",
        "```python\n",
        "model.fit(\n",
        "    train_dataset,  \n",
        "    epochs=5,\n",
        "    validation_data=test_dataset,\n",
        ")\n",
        "```\n",
        "\n",
        "Exercício:\n",
        "1. Sumarize o modelo\n",
        "2. Compile o modelo como no exemplo\n",
        "3. Ajuste o modelo. Obs.: ao ajustar o modelo atribua o ajuste a um objeto."
      ],
      "metadata": {
        "id": "Uqf_c0tKsp8G"
      }
    },
    {
      "cell_type": "code",
      "source": [
        "model.summary()"
      ],
      "metadata": {
        "colab": {
          "base_uri": "https://localhost:8080/"
        },
        "id": "SuURfhftmRn0",
        "outputId": "8cb912bf-24b1-4c86-dec4-3a332368f4df"
      },
      "execution_count": 17,
      "outputs": [
        {
          "output_type": "stream",
          "name": "stdout",
          "text": [
            "Model: \"sequential_1\"\n",
            "_________________________________________________________________\n",
            " Layer (type)                Output Shape              Param #   \n",
            "=================================================================\n",
            " text_vectorization_1 (Text  (None, None)              0         \n",
            " Vectorization)                                                  \n",
            "                                                                 \n",
            " embedding_1 (Embedding)     (None, None, 64)          640000    \n",
            "                                                                 \n",
            " bidirectional_1 (Bidirecti  (None, 128)               66048     \n",
            " onal)                                                           \n",
            "                                                                 \n",
            " dense_2 (Dense)             (None, 64)                8256      \n",
            "                                                                 \n",
            " dense_3 (Dense)             (None, 1)                 65        \n",
            "                                                                 \n",
            "=================================================================\n",
            "Total params: 714369 (2.73 MB)\n",
            "Trainable params: 714369 (2.73 MB)\n",
            "Non-trainable params: 0 (0.00 Byte)\n",
            "_________________________________________________________________\n"
          ]
        }
      ]
    },
    {
      "cell_type": "code",
      "source": [
        "model.compile(\n",
        "    loss=tf.keras.losses.BinaryCrossentropy(from_logits=True),\n",
        "    optimizer=tf.keras.optimizers.Adam(),\n",
        "    metrics=['accuracy']\n",
        ")"
      ],
      "metadata": {
        "id": "NPAO_3d8mUkx"
      },
      "execution_count": 18,
      "outputs": []
    },
    {
      "cell_type": "code",
      "source": [
        "history = model.fit(\n",
        "    train_dataset,\n",
        "    epochs=3,\n",
        "    validation_data=test_dataset,\n",
        ")"
      ],
      "metadata": {
        "colab": {
          "base_uri": "https://localhost:8080/"
        },
        "id": "rS2WoUkVmYZN",
        "outputId": "79de673f-21a5-43fa-eff9-eedcc1d5543a"
      },
      "execution_count": 19,
      "outputs": [
        {
          "output_type": "stream",
          "name": "stdout",
          "text": [
            "Epoch 1/3\n",
            "196/196 [==============================] - 1055s 5s/step - loss: 0.4214 - accuracy: 0.7804 - val_loss: 0.2887 - val_accuracy: 0.8792\n",
            "Epoch 2/3\n",
            "196/196 [==============================] - 977s 5s/step - loss: 0.2179 - accuracy: 0.9126 - val_loss: 0.3172 - val_accuracy: 0.8680\n",
            "Epoch 3/3\n",
            "196/196 [==============================] - 1020s 5s/step - loss: 0.1559 - accuracy: 0.9416 - val_loss: 0.3674 - val_accuracy: 0.8657\n"
          ]
        }
      ]
    },
    {
      "cell_type": "code",
      "source": [
        "history_dict = history.history\n",
        "\n",
        "# Seperating validation and training accuracy\n",
        "acc = history_dict['accuracy']\n",
        "val_acc = history_dict['val_accuracy']\n",
        "\n",
        "# Seperating validation and training loss\n",
        "loss = history_dict['loss']\n",
        "val_loss = history_dict['val_loss']\n",
        "\n",
        "# Plotting\n",
        "plt.figure(figsize=(8, 4))\n",
        "plt.subplot(1, 2, 1)\n",
        "plt.plot(acc)\n",
        "plt.plot(val_acc)\n",
        "plt.title('Training and Validation Accuracy')\n",
        "plt.xlabel('Epochs')\n",
        "plt.ylabel('Accuracy')\n",
        "plt.legend(['Accuracy', 'Validation Accuracy'])\n",
        "\n",
        "plt.subplot(1, 2, 2)\n",
        "plt.plot(loss)\n",
        "plt.plot(val_loss)\n",
        "plt.title('Training and Validation Loss')\n",
        "plt.xlabel('Epochs')\n",
        "plt.ylabel('Loss')\n",
        "plt.legend(['Loss', 'Validation Loss'])\n",
        "\n",
        "plt.show()"
      ],
      "metadata": {
        "colab": {
          "base_uri": "https://localhost:8080/",
          "height": 410
        },
        "id": "c6joLAyF6XkO",
        "outputId": "c6967050-1dbd-4d87-886c-07cf587440c4"
      },
      "execution_count": 20,
      "outputs": [
        {
          "output_type": "display_data",
          "data": {
            "text/plain": [
              "<Figure size 800x400 with 2 Axes>"
            ],
            "image/png": "[encoded data removed]"
          },
          "metadata": {}
        }
      ]
    },
    {
      "cell_type": "code",
      "source": [
        "sample_text = (\n",
        "    '''The movie by company was so good and the animation are so dope.\n",
        "    I would recommend my friends to watch it.'''\n",
        ")\n",
        "predictions = model.predict(np.array([sample_text]))\n",
        "print(*predictions[0])\n",
        "\n",
        "# Print the label based on the prediction\n",
        "if predictions[0] > 0:\n",
        "    print('The review is positive')\n",
        "else:\n",
        "    print('The review is negative')"
      ],
      "metadata": {
        "colab": {
          "base_uri": "https://localhost:8080/"
        },
        "id": "VHAIBQZmmhy6",
        "outputId": "a17086e0-5391-465e-e44e-03975b7ce666"
      },
      "execution_count": 21,
      "outputs": [
        {
          "output_type": "stream",
          "name": "stdout",
          "text": [
            "1/1 [==============================] - 3s 3s/step\n",
            "2.548361\n",
            "The review is positive\n"
          ]
        }
      ]
    }
  ]
}