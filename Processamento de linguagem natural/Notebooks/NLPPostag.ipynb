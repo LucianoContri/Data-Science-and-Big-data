{
  "nbformat": 4,
  "nbformat_minor": 0,
  "metadata": {
    "colab": {
      "provenance": []
    },
    "kernelspec": {
      "name": "python3",
      "display_name": "Python 3"
    },
    "language_info": {
      "name": "python"
    }
  },
  "cells": [
    {
      "cell_type": "code",
      "execution_count": 1,
      "metadata": {
        "colab": {
          "base_uri": "https://localhost:8080/"
        },
        "id": "pkw2X1RlC-c2",
        "outputId": "510a9cce-5183-4775-b9be-1e09a9f877f4"
      },
      "outputs": [
        {
          "output_type": "stream",
          "name": "stdout",
          "text": [
            "Requirement already satisfied: spacy in /usr/local/lib/python3.10/dist-packages (3.7.4)\n",
            "Requirement already satisfied: spacy-legacy<3.1.0,>=3.0.11 in /usr/local/lib/python3.10/dist-packages (from spacy) (3.0.12)\n",
            "Requirement already satisfied: spacy-loggers<2.0.0,>=1.0.0 in /usr/local/lib/python3.10/dist-packages (from spacy) (1.0.5)\n",
            "Requirement already satisfied: murmurhash<1.1.0,>=0.28.0 in /usr/local/lib/python3.10/dist-packages (from spacy) (1.0.10)\n",
            "Requirement already satisfied: cymem<2.1.0,>=2.0.2 in /usr/local/lib/python3.10/dist-packages (from spacy) (2.0.8)\n",
            "Requirement already satisfied: preshed<3.1.0,>=3.0.2 in /usr/local/lib/python3.10/dist-packages (from spacy) (3.0.9)\n",
            "Requirement already satisfied: thinc<8.3.0,>=8.2.2 in /usr/local/lib/python3.10/dist-packages (from spacy) (8.2.3)\n",
            "Requirement already satisfied: wasabi<1.2.0,>=0.9.1 in /usr/local/lib/python3.10/dist-packages (from spacy) (1.1.2)\n",
            "Requirement already satisfied: srsly<3.0.0,>=2.4.3 in /usr/local/lib/python3.10/dist-packages (from spacy) (2.4.8)\n",
            "Requirement already satisfied: catalogue<2.1.0,>=2.0.6 in /usr/local/lib/python3.10/dist-packages (from spacy) (2.0.10)\n",
            "Requirement already satisfied: weasel<0.4.0,>=0.1.0 in /usr/local/lib/python3.10/dist-packages (from spacy) (0.3.4)\n",
            "Requirement already satisfied: typer<0.10.0,>=0.3.0 in /usr/local/lib/python3.10/dist-packages (from spacy) (0.9.4)\n",
            "Requirement already satisfied: smart-open<7.0.0,>=5.2.1 in /usr/local/lib/python3.10/dist-packages (from spacy) (6.4.0)\n",
            "Requirement already satisfied: tqdm<5.0.0,>=4.38.0 in /usr/local/lib/python3.10/dist-packages (from spacy) (4.66.4)\n",
            "Requirement already satisfied: requests<3.0.0,>=2.13.0 in /usr/local/lib/python3.10/dist-packages (from spacy) (2.31.0)\n",
            "Requirement already satisfied: pydantic!=1.8,!=1.8.1,<3.0.0,>=1.7.4 in /usr/local/lib/python3.10/dist-packages (from spacy) (2.7.2)\n",
            "Requirement already satisfied: jinja2 in /usr/local/lib/python3.10/dist-packages (from spacy) (3.1.4)\n",
            "Requirement already satisfied: setuptools in /usr/local/lib/python3.10/dist-packages (from spacy) (67.7.2)\n",
            "Requirement already satisfied: packaging>=20.0 in /usr/local/lib/python3.10/dist-packages (from spacy) (24.0)\n",
            "Requirement already satisfied: langcodes<4.0.0,>=3.2.0 in /usr/local/lib/python3.10/dist-packages (from spacy) (3.4.0)\n",
            "Requirement already satisfied: numpy>=1.19.0 in /usr/local/lib/python3.10/dist-packages (from spacy) (1.25.2)\n",
            "Requirement already satisfied: language-data>=1.2 in /usr/local/lib/python3.10/dist-packages (from langcodes<4.0.0,>=3.2.0->spacy) (1.2.0)\n",
            "Requirement already satisfied: annotated-types>=0.4.0 in /usr/local/lib/python3.10/dist-packages (from pydantic!=1.8,!=1.8.1,<3.0.0,>=1.7.4->spacy) (0.7.0)\n",
            "Requirement already satisfied: pydantic-core==2.18.3 in /usr/local/lib/python3.10/dist-packages (from pydantic!=1.8,!=1.8.1,<3.0.0,>=1.7.4->spacy) (2.18.3)\n",
            "Requirement already satisfied: typing-extensions>=4.6.1 in /usr/local/lib/python3.10/dist-packages (from pydantic!=1.8,!=1.8.1,<3.0.0,>=1.7.4->spacy) (4.12.0)\n",
            "Requirement already satisfied: charset-normalizer<4,>=2 in /usr/local/lib/python3.10/dist-packages (from requests<3.0.0,>=2.13.0->spacy) (3.3.2)\n",
            "Requirement already satisfied: idna<4,>=2.5 in /usr/local/lib/python3.10/dist-packages (from requests<3.0.0,>=2.13.0->spacy) (3.7)\n",
            "Requirement already satisfied: urllib3<3,>=1.21.1 in /usr/local/lib/python3.10/dist-packages (from requests<3.0.0,>=2.13.0->spacy) (2.0.7)\n",
            "Requirement already satisfied: certifi>=2017.4.17 in /usr/local/lib/python3.10/dist-packages (from requests<3.0.0,>=2.13.0->spacy) (2024.2.2)\n",
            "Requirement already satisfied: blis<0.8.0,>=0.7.8 in /usr/local/lib/python3.10/dist-packages (from thinc<8.3.0,>=8.2.2->spacy) (0.7.11)\n",
            "Requirement already satisfied: confection<1.0.0,>=0.0.1 in /usr/local/lib/python3.10/dist-packages (from thinc<8.3.0,>=8.2.2->spacy) (0.1.4)\n",
            "Requirement already satisfied: click<9.0.0,>=7.1.1 in /usr/local/lib/python3.10/dist-packages (from typer<0.10.0,>=0.3.0->spacy) (8.1.7)\n",
            "Requirement already satisfied: cloudpathlib<0.17.0,>=0.7.0 in /usr/local/lib/python3.10/dist-packages (from weasel<0.4.0,>=0.1.0->spacy) (0.16.0)\n",
            "Requirement already satisfied: MarkupSafe>=2.0 in /usr/local/lib/python3.10/dist-packages (from jinja2->spacy) (2.1.5)\n",
            "Requirement already satisfied: marisa-trie>=0.7.7 in /usr/local/lib/python3.10/dist-packages (from language-data>=1.2->langcodes<4.0.0,>=3.2.0->spacy) (1.1.1)\n",
            "Requirement already satisfied: beautifulsoup4 in /usr/local/lib/python3.10/dist-packages (4.12.3)\n",
            "Requirement already satisfied: soupsieve>1.2 in /usr/local/lib/python3.10/dist-packages (from beautifulsoup4) (2.5)\n",
            "\u001b[38;5;3m⚠ As of spaCy v3.0, shortcuts like 'pt' are deprecated. Please use the\n",
            "full pipeline package name 'pt_core_news_sm' instead.\u001b[0m\n",
            "Collecting pt-core-news-sm==3.7.0\n",
            "  Downloading https://github.com/explosion/spacy-models/releases/download/pt_core_news_sm-3.7.0/pt_core_news_sm-3.7.0-py3-none-any.whl (13.0 MB)\n",
            "\u001b[2K     \u001b[90m━━━━━━━━━━━━━━━━━━━━━━━━━━━━━━━━━━━━━━━━\u001b[0m \u001b[32m13.0/13.0 MB\u001b[0m \u001b[31m76.6 MB/s\u001b[0m eta \u001b[36m0:00:00\u001b[0m\n",
            "\u001b[?25hRequirement already satisfied: spacy<3.8.0,>=3.7.0 in /usr/local/lib/python3.10/dist-packages (from pt-core-news-sm==3.7.0) (3.7.4)\n",
            "Requirement already satisfied: spacy-legacy<3.1.0,>=3.0.11 in /usr/local/lib/python3.10/dist-packages (from spacy<3.8.0,>=3.7.0->pt-core-news-sm==3.7.0) (3.0.12)\n",
            "Requirement already satisfied: spacy-loggers<2.0.0,>=1.0.0 in /usr/local/lib/python3.10/dist-packages (from spacy<3.8.0,>=3.7.0->pt-core-news-sm==3.7.0) (1.0.5)\n",
            "Requirement already satisfied: murmurhash<1.1.0,>=0.28.0 in /usr/local/lib/python3.10/dist-packages (from spacy<3.8.0,>=3.7.0->pt-core-news-sm==3.7.0) (1.0.10)\n",
            "Requirement already satisfied: cymem<2.1.0,>=2.0.2 in /usr/local/lib/python3.10/dist-packages (from spacy<3.8.0,>=3.7.0->pt-core-news-sm==3.7.0) (2.0.8)\n",
            "Requirement already satisfied: preshed<3.1.0,>=3.0.2 in /usr/local/lib/python3.10/dist-packages (from spacy<3.8.0,>=3.7.0->pt-core-news-sm==3.7.0) (3.0.9)\n",
            "Requirement already satisfied: thinc<8.3.0,>=8.2.2 in /usr/local/lib/python3.10/dist-packages (from spacy<3.8.0,>=3.7.0->pt-core-news-sm==3.7.0) (8.2.3)\n",
            "Requirement already satisfied: wasabi<1.2.0,>=0.9.1 in /usr/local/lib/python3.10/dist-packages (from spacy<3.8.0,>=3.7.0->pt-core-news-sm==3.7.0) (1.1.2)\n",
            "Requirement already satisfied: srsly<3.0.0,>=2.4.3 in /usr/local/lib/python3.10/dist-packages (from spacy<3.8.0,>=3.7.0->pt-core-news-sm==3.7.0) (2.4.8)\n",
            "Requirement already satisfied: catalogue<2.1.0,>=2.0.6 in /usr/local/lib/python3.10/dist-packages (from spacy<3.8.0,>=3.7.0->pt-core-news-sm==3.7.0) (2.0.10)\n",
            "Requirement already satisfied: weasel<0.4.0,>=0.1.0 in /usr/local/lib/python3.10/dist-packages (from spacy<3.8.0,>=3.7.0->pt-core-news-sm==3.7.0) (0.3.4)\n",
            "Requirement already satisfied: typer<0.10.0,>=0.3.0 in /usr/local/lib/python3.10/dist-packages (from spacy<3.8.0,>=3.7.0->pt-core-news-sm==3.7.0) (0.9.4)\n",
            "Requirement already satisfied: smart-open<7.0.0,>=5.2.1 in /usr/local/lib/python3.10/dist-packages (from spacy<3.8.0,>=3.7.0->pt-core-news-sm==3.7.0) (6.4.0)\n",
            "Requirement already satisfied: tqdm<5.0.0,>=4.38.0 in /usr/local/lib/python3.10/dist-packages (from spacy<3.8.0,>=3.7.0->pt-core-news-sm==3.7.0) (4.66.4)\n",
            "Requirement already satisfied: requests<3.0.0,>=2.13.0 in /usr/local/lib/python3.10/dist-packages (from spacy<3.8.0,>=3.7.0->pt-core-news-sm==3.7.0) (2.31.0)\n",
            "Requirement already satisfied: pydantic!=1.8,!=1.8.1,<3.0.0,>=1.7.4 in /usr/local/lib/python3.10/dist-packages (from spacy<3.8.0,>=3.7.0->pt-core-news-sm==3.7.0) (2.7.2)\n",
            "Requirement already satisfied: jinja2 in /usr/local/lib/python3.10/dist-packages (from spacy<3.8.0,>=3.7.0->pt-core-news-sm==3.7.0) (3.1.4)\n",
            "Requirement already satisfied: setuptools in /usr/local/lib/python3.10/dist-packages (from spacy<3.8.0,>=3.7.0->pt-core-news-sm==3.7.0) (67.7.2)\n",
            "Requirement already satisfied: packaging>=20.0 in /usr/local/lib/python3.10/dist-packages (from spacy<3.8.0,>=3.7.0->pt-core-news-sm==3.7.0) (24.0)\n",
            "Requirement already satisfied: langcodes<4.0.0,>=3.2.0 in /usr/local/lib/python3.10/dist-packages (from spacy<3.8.0,>=3.7.0->pt-core-news-sm==3.7.0) (3.4.0)\n",
            "Requirement already satisfied: numpy>=1.19.0 in /usr/local/lib/python3.10/dist-packages (from spacy<3.8.0,>=3.7.0->pt-core-news-sm==3.7.0) (1.25.2)\n",
            "Requirement already satisfied: language-data>=1.2 in /usr/local/lib/python3.10/dist-packages (from langcodes<4.0.0,>=3.2.0->spacy<3.8.0,>=3.7.0->pt-core-news-sm==3.7.0) (1.2.0)\n",
            "Requirement already satisfied: annotated-types>=0.4.0 in /usr/local/lib/python3.10/dist-packages (from pydantic!=1.8,!=1.8.1,<3.0.0,>=1.7.4->spacy<3.8.0,>=3.7.0->pt-core-news-sm==3.7.0) (0.7.0)\n",
            "Requirement already satisfied: pydantic-core==2.18.3 in /usr/local/lib/python3.10/dist-packages (from pydantic!=1.8,!=1.8.1,<3.0.0,>=1.7.4->spacy<3.8.0,>=3.7.0->pt-core-news-sm==3.7.0) (2.18.3)\n",
            "Requirement already satisfied: typing-extensions>=4.6.1 in /usr/local/lib/python3.10/dist-packages (from pydantic!=1.8,!=1.8.1,<3.0.0,>=1.7.4->spacy<3.8.0,>=3.7.0->pt-core-news-sm==3.7.0) (4.12.0)\n",
            "Requirement already satisfied: charset-normalizer<4,>=2 in /usr/local/lib/python3.10/dist-packages (from requests<3.0.0,>=2.13.0->spacy<3.8.0,>=3.7.0->pt-core-news-sm==3.7.0) (3.3.2)\n",
            "Requirement already satisfied: idna<4,>=2.5 in /usr/local/lib/python3.10/dist-packages (from requests<3.0.0,>=2.13.0->spacy<3.8.0,>=3.7.0->pt-core-news-sm==3.7.0) (3.7)\n",
            "Requirement already satisfied: urllib3<3,>=1.21.1 in /usr/local/lib/python3.10/dist-packages (from requests<3.0.0,>=2.13.0->spacy<3.8.0,>=3.7.0->pt-core-news-sm==3.7.0) (2.0.7)\n",
            "Requirement already satisfied: certifi>=2017.4.17 in /usr/local/lib/python3.10/dist-packages (from requests<3.0.0,>=2.13.0->spacy<3.8.0,>=3.7.0->pt-core-news-sm==3.7.0) (2024.2.2)\n",
            "Requirement already satisfied: blis<0.8.0,>=0.7.8 in /usr/local/lib/python3.10/dist-packages (from thinc<8.3.0,>=8.2.2->spacy<3.8.0,>=3.7.0->pt-core-news-sm==3.7.0) (0.7.11)\n",
            "Requirement already satisfied: confection<1.0.0,>=0.0.1 in /usr/local/lib/python3.10/dist-packages (from thinc<8.3.0,>=8.2.2->spacy<3.8.0,>=3.7.0->pt-core-news-sm==3.7.0) (0.1.4)\n",
            "Requirement already satisfied: click<9.0.0,>=7.1.1 in /usr/local/lib/python3.10/dist-packages (from typer<0.10.0,>=0.3.0->spacy<3.8.0,>=3.7.0->pt-core-news-sm==3.7.0) (8.1.7)\n",
            "Requirement already satisfied: cloudpathlib<0.17.0,>=0.7.0 in /usr/local/lib/python3.10/dist-packages (from weasel<0.4.0,>=0.1.0->spacy<3.8.0,>=3.7.0->pt-core-news-sm==3.7.0) (0.16.0)\n",
            "Requirement already satisfied: MarkupSafe>=2.0 in /usr/local/lib/python3.10/dist-packages (from jinja2->spacy<3.8.0,>=3.7.0->pt-core-news-sm==3.7.0) (2.1.5)\n",
            "Requirement already satisfied: marisa-trie>=0.7.7 in /usr/local/lib/python3.10/dist-packages (from language-data>=1.2->langcodes<4.0.0,>=3.2.0->spacy<3.8.0,>=3.7.0->pt-core-news-sm==3.7.0) (1.1.1)\n",
            "Installing collected packages: pt-core-news-sm\n",
            "Successfully installed pt-core-news-sm-3.7.0\n",
            "\u001b[38;5;2m✔ Download and installation successful\u001b[0m\n",
            "You can now load the package via spacy.load('pt_core_news_sm')\n",
            "\u001b[38;5;3m⚠ Restart to reload dependencies\u001b[0m\n",
            "If you are in a Jupyter or Colab notebook, you may need to restart Python in\n",
            "order to load all the package's dependencies. You can do this by selecting the\n",
            "'Restart kernel' or 'Restart runtime' option.\n",
            "\u001b[38;5;3m⚠ As of spaCy v3.0, shortcuts like 'en' are deprecated. Please use the\n",
            "full pipeline package name 'en_core_web_sm' instead.\u001b[0m\n",
            "Collecting en-core-web-sm==3.7.1\n",
            "  Downloading https://github.com/explosion/spacy-models/releases/download/en_core_web_sm-3.7.1/en_core_web_sm-3.7.1-py3-none-any.whl (12.8 MB)\n",
            "\u001b[2K     \u001b[90m━━━━━━━━━━━━━━━━━━━━━━━━━━━━━━━━━━━━━━━━\u001b[0m \u001b[32m12.8/12.8 MB\u001b[0m \u001b[31m73.1 MB/s\u001b[0m eta \u001b[36m0:00:00\u001b[0m\n",
            "\u001b[?25hRequirement already satisfied: spacy<3.8.0,>=3.7.2 in /usr/local/lib/python3.10/dist-packages (from en-core-web-sm==3.7.1) (3.7.4)\n",
            "Requirement already satisfied: spacy-legacy<3.1.0,>=3.0.11 in /usr/local/lib/python3.10/dist-packages (from spacy<3.8.0,>=3.7.2->en-core-web-sm==3.7.1) (3.0.12)\n",
            "Requirement already satisfied: spacy-loggers<2.0.0,>=1.0.0 in /usr/local/lib/python3.10/dist-packages (from spacy<3.8.0,>=3.7.2->en-core-web-sm==3.7.1) (1.0.5)\n",
            "Requirement already satisfied: murmurhash<1.1.0,>=0.28.0 in /usr/local/lib/python3.10/dist-packages (from spacy<3.8.0,>=3.7.2->en-core-web-sm==3.7.1) (1.0.10)\n",
            "Requirement already satisfied: cymem<2.1.0,>=2.0.2 in /usr/local/lib/python3.10/dist-packages (from spacy<3.8.0,>=3.7.2->en-core-web-sm==3.7.1) (2.0.8)\n",
            "Requirement already satisfied: preshed<3.1.0,>=3.0.2 in /usr/local/lib/python3.10/dist-packages (from spacy<3.8.0,>=3.7.2->en-core-web-sm==3.7.1) (3.0.9)\n",
            "Requirement already satisfied: thinc<8.3.0,>=8.2.2 in /usr/local/lib/python3.10/dist-packages (from spacy<3.8.0,>=3.7.2->en-core-web-sm==3.7.1) (8.2.3)\n",
            "Requirement already satisfied: wasabi<1.2.0,>=0.9.1 in /usr/local/lib/python3.10/dist-packages (from spacy<3.8.0,>=3.7.2->en-core-web-sm==3.7.1) (1.1.2)\n",
            "Requirement already satisfied: srsly<3.0.0,>=2.4.3 in /usr/local/lib/python3.10/dist-packages (from spacy<3.8.0,>=3.7.2->en-core-web-sm==3.7.1) (2.4.8)\n",
            "Requirement already satisfied: catalogue<2.1.0,>=2.0.6 in /usr/local/lib/python3.10/dist-packages (from spacy<3.8.0,>=3.7.2->en-core-web-sm==3.7.1) (2.0.10)\n",
            "Requirement already satisfied: weasel<0.4.0,>=0.1.0 in /usr/local/lib/python3.10/dist-packages (from spacy<3.8.0,>=3.7.2->en-core-web-sm==3.7.1) (0.3.4)\n",
            "Requirement already satisfied: typer<0.10.0,>=0.3.0 in /usr/local/lib/python3.10/dist-packages (from spacy<3.8.0,>=3.7.2->en-core-web-sm==3.7.1) (0.9.4)\n",
            "Requirement already satisfied: smart-open<7.0.0,>=5.2.1 in /usr/local/lib/python3.10/dist-packages (from spacy<3.8.0,>=3.7.2->en-core-web-sm==3.7.1) (6.4.0)\n",
            "Requirement already satisfied: tqdm<5.0.0,>=4.38.0 in /usr/local/lib/python3.10/dist-packages (from spacy<3.8.0,>=3.7.2->en-core-web-sm==3.7.1) (4.66.4)\n",
            "Requirement already satisfied: requests<3.0.0,>=2.13.0 in /usr/local/lib/python3.10/dist-packages (from spacy<3.8.0,>=3.7.2->en-core-web-sm==3.7.1) (2.31.0)\n",
            "Requirement already satisfied: pydantic!=1.8,!=1.8.1,<3.0.0,>=1.7.4 in /usr/local/lib/python3.10/dist-packages (from spacy<3.8.0,>=3.7.2->en-core-web-sm==3.7.1) (2.7.2)\n",
            "Requirement already satisfied: jinja2 in /usr/local/lib/python3.10/dist-packages (from spacy<3.8.0,>=3.7.2->en-core-web-sm==3.7.1) (3.1.4)\n",
            "Requirement already satisfied: setuptools in /usr/local/lib/python3.10/dist-packages (from spacy<3.8.0,>=3.7.2->en-core-web-sm==3.7.1) (67.7.2)\n",
            "Requirement already satisfied: packaging>=20.0 in /usr/local/lib/python3.10/dist-packages (from spacy<3.8.0,>=3.7.2->en-core-web-sm==3.7.1) (24.0)\n",
            "Requirement already satisfied: langcodes<4.0.0,>=3.2.0 in /usr/local/lib/python3.10/dist-packages (from spacy<3.8.0,>=3.7.2->en-core-web-sm==3.7.1) (3.4.0)\n",
            "Requirement already satisfied: numpy>=1.19.0 in /usr/local/lib/python3.10/dist-packages (from spacy<3.8.0,>=3.7.2->en-core-web-sm==3.7.1) (1.25.2)\n",
            "Requirement already satisfied: language-data>=1.2 in /usr/local/lib/python3.10/dist-packages (from langcodes<4.0.0,>=3.2.0->spacy<3.8.0,>=3.7.2->en-core-web-sm==3.7.1) (1.2.0)\n",
            "Requirement already satisfied: annotated-types>=0.4.0 in /usr/local/lib/python3.10/dist-packages (from pydantic!=1.8,!=1.8.1,<3.0.0,>=1.7.4->spacy<3.8.0,>=3.7.2->en-core-web-sm==3.7.1) (0.7.0)\n",
            "Requirement already satisfied: pydantic-core==2.18.3 in /usr/local/lib/python3.10/dist-packages (from pydantic!=1.8,!=1.8.1,<3.0.0,>=1.7.4->spacy<3.8.0,>=3.7.2->en-core-web-sm==3.7.1) (2.18.3)\n",
            "Requirement already satisfied: typing-extensions>=4.6.1 in /usr/local/lib/python3.10/dist-packages (from pydantic!=1.8,!=1.8.1,<3.0.0,>=1.7.4->spacy<3.8.0,>=3.7.2->en-core-web-sm==3.7.1) (4.12.0)\n",
            "Requirement already satisfied: charset-normalizer<4,>=2 in /usr/local/lib/python3.10/dist-packages (from requests<3.0.0,>=2.13.0->spacy<3.8.0,>=3.7.2->en-core-web-sm==3.7.1) (3.3.2)\n",
            "Requirement already satisfied: idna<4,>=2.5 in /usr/local/lib/python3.10/dist-packages (from requests<3.0.0,>=2.13.0->spacy<3.8.0,>=3.7.2->en-core-web-sm==3.7.1) (3.7)\n",
            "Requirement already satisfied: urllib3<3,>=1.21.1 in /usr/local/lib/python3.10/dist-packages (from requests<3.0.0,>=2.13.0->spacy<3.8.0,>=3.7.2->en-core-web-sm==3.7.1) (2.0.7)\n",
            "Requirement already satisfied: certifi>=2017.4.17 in /usr/local/lib/python3.10/dist-packages (from requests<3.0.0,>=2.13.0->spacy<3.8.0,>=3.7.2->en-core-web-sm==3.7.1) (2024.2.2)\n",
            "Requirement already satisfied: blis<0.8.0,>=0.7.8 in /usr/local/lib/python3.10/dist-packages (from thinc<8.3.0,>=8.2.2->spacy<3.8.0,>=3.7.2->en-core-web-sm==3.7.1) (0.7.11)\n",
            "Requirement already satisfied: confection<1.0.0,>=0.0.1 in /usr/local/lib/python3.10/dist-packages (from thinc<8.3.0,>=8.2.2->spacy<3.8.0,>=3.7.2->en-core-web-sm==3.7.1) (0.1.4)\n",
            "Requirement already satisfied: click<9.0.0,>=7.1.1 in /usr/local/lib/python3.10/dist-packages (from typer<0.10.0,>=0.3.0->spacy<3.8.0,>=3.7.2->en-core-web-sm==3.7.1) (8.1.7)\n",
            "Requirement already satisfied: cloudpathlib<0.17.0,>=0.7.0 in /usr/local/lib/python3.10/dist-packages (from weasel<0.4.0,>=0.1.0->spacy<3.8.0,>=3.7.2->en-core-web-sm==3.7.1) (0.16.0)\n",
            "Requirement already satisfied: MarkupSafe>=2.0 in /usr/local/lib/python3.10/dist-packages (from jinja2->spacy<3.8.0,>=3.7.2->en-core-web-sm==3.7.1) (2.1.5)\n",
            "Requirement already satisfied: marisa-trie>=0.7.7 in /usr/local/lib/python3.10/dist-packages (from language-data>=1.2->langcodes<4.0.0,>=3.2.0->spacy<3.8.0,>=3.7.2->en-core-web-sm==3.7.1) (1.1.1)\n",
            "\u001b[38;5;2m✔ Download and installation successful\u001b[0m\n",
            "You can now load the package via spacy.load('en_core_web_sm')\n",
            "\u001b[38;5;3m⚠ Restart to reload dependencies\u001b[0m\n",
            "If you are in a Jupyter or Colab notebook, you may need to restart Python in\n",
            "order to load all the package's dependencies. You can do this by selecting the\n",
            "'Restart kernel' or 'Restart runtime' option.\n"
          ]
        }
      ],
      "source": [
        "!pip install spacy\n",
        "!pip install beautifulsoup4\n",
        "!python -m spacy download pt\n",
        "!python -m spacy download en"
      ]
    },
    {
      "cell_type": "code",
      "source": [
        "import nltk\n",
        "import spacy\n",
        "from spacy import displacy\n",
        "import tqdm\n",
        "import operator\n",
        "import requests\n",
        "from bs4 import BeautifulSoup\n",
        "import re\n",
        "import pt_core_news_sm\n",
        "import en_core_web_sm\n",
        "from collections import Counter\n",
        "import random\n",
        "import operator\n",
        "import matplotlib.pyplot as plt"
      ],
      "metadata": {
        "id": "G15Vdzu1DA6J"
      },
      "execution_count": 2,
      "outputs": []
    },
    {
      "cell_type": "markdown",
      "source": [
        "# Pos-tagging\n",
        "\n",
        "Um dos objetivos do pos-tagging pode ser por exemplo identificar verbos para identificar as ações de um post.\n",
        "\n",
        "Podemos usar duas abordagens para pos-tagging\n",
        "* Regras (como por exemplo Regex)\n",
        "* Modelos\n",
        "\n",
        "Iremos trabalhar aqui com a primeira abordagem"
      ],
      "metadata": {
        "id": "5u5V5s5ZDGaV"
      }
    },
    {
      "cell_type": "code",
      "source": [
        "def print_found_groups(pattern, phrase):\n",
        "    regex = re.compile(pattern)\n",
        "    for m in regex.finditer(phrase):\n",
        "        print({k:v for(k,v) in m.groupdict().items() if v is not None})"
      ],
      "metadata": {
        "id": "qPHLHFU3DepA"
      },
      "execution_count": 3,
      "outputs": []
    },
    {
      "cell_type": "code",
      "source": [
        "phrase1 = \"eu estudo, você estuda, nós estudamos e vc sabe como é... estudos em todo lugar \""
      ],
      "metadata": {
        "id": "HPnaq_dRDiCq"
      },
      "execution_count": 4,
      "outputs": []
    },
    {
      "cell_type": "code",
      "source": [
        "estudar_pattern_try1 = r'(?P<VERB_ESTUDAR>\\bestud\\w?\\b)' ##O primeiro padrão é para nomear o padrao identificado"
      ],
      "metadata": {
        "id": "knz3OcsIDjYB"
      },
      "execution_count": 5,
      "outputs": []
    },
    {
      "cell_type": "code",
      "source": [
        "print_found_groups(estudar_pattern_try1, phrase1)"
      ],
      "metadata": {
        "colab": {
          "base_uri": "https://localhost:8080/"
        },
        "id": "KcXEuAIyDy-K",
        "outputId": "601f1e95-9381-458c-a78a-34da31dbd484"
      },
      "execution_count": 6,
      "outputs": [
        {
          "output_type": "stream",
          "name": "stdout",
          "text": [
            "{'VERB_ESTUDAR': 'estudo'}\n",
            "{'VERB_ESTUDAR': 'estuda'}\n"
          ]
        }
      ]
    },
    {
      "cell_type": "code",
      "source": [
        "##Pegando todas as conjugações\n",
        "estudar_pattern_try2 = r'(?P<VERB_ESTUDAR>\\bestud\\w{1,4}\\b)'\n",
        "print_found_groups(estudar_pattern_try2, phrase1)"
      ],
      "metadata": {
        "colab": {
          "base_uri": "https://localhost:8080/"
        },
        "id": "B9MCuxUDD6S6",
        "outputId": "335d10e2-d7bb-4a1c-ad03-3ccdd1d84f86"
      },
      "execution_count": 7,
      "outputs": [
        {
          "output_type": "stream",
          "name": "stdout",
          "text": [
            "{'VERB_ESTUDAR': 'estudo'}\n",
            "{'VERB_ESTUDAR': 'estuda'}\n",
            "{'VERB_ESTUDAR': 'estudamos'}\n",
            "{'VERB_ESTUDAR': 'estudos'}\n"
          ]
        }
      ]
    },
    {
      "cell_type": "code",
      "source": [
        "##Pegando todos os verbos da seguinte frase\n",
        "phrase2 = \"O principal uso que fazemos do canvas é ver e entregar exercícios, além de acessar os materiais postados pelos professores. É importante realizar o acesso todos os dias.\"\n",
        "\n",
        "def get_found_groups(pattern, phrase):\n",
        "    regex = re.compile(pattern)\n",
        "    return {v:k for m in regex.finditer(phrase) for(k,v) in m.groupdict().items() if v is not None }\n",
        "\n",
        "verbs_list = ['uso', 'faz\\w{0,4}','ver','entregar','acess\\w{1,2}', 'realizar', 'é']\n",
        "manyverbs_pattern_solution = r'(?P<VERB>'+\"|\".join(verbs_list)+')'"
      ],
      "metadata": {
        "id": "5587PV1dECnr"
      },
      "execution_count": 8,
      "outputs": []
    },
    {
      "cell_type": "code",
      "source": [
        "\"|\".join(verbs_list)"
      ],
      "metadata": {
        "colab": {
          "base_uri": "https://localhost:8080/",
          "height": 36
        },
        "id": "9xlOvfblrCZX",
        "outputId": "59b93af2-e33d-48ef-80d8-df2bf636b172"
      },
      "execution_count": 9,
      "outputs": [
        {
          "output_type": "execute_result",
          "data": {
            "text/plain": [
              "'uso|faz\\\\w{0,4}|ver|entregar|acess\\\\w{1,2}|realizar|é'"
            ],
            "application/vnd.google.colaboratory.intrinsic+json": {
              "type": "string"
            }
          },
          "metadata": {},
          "execution_count": 9
        }
      ]
    },
    {
      "cell_type": "code",
      "source": [
        "manyverbs_pattern_solution"
      ],
      "metadata": {
        "colab": {
          "base_uri": "https://localhost:8080/",
          "height": 36
        },
        "id": "Wk6dahyGqsLL",
        "outputId": "80527076-b988-4695-c8e0-a14434a9dff1"
      },
      "execution_count": 10,
      "outputs": [
        {
          "output_type": "execute_result",
          "data": {
            "text/plain": [
              "'(?P<VERB>uso|faz\\\\w{0,4}|ver|entregar|acess\\\\w{1,2}|realizar|é)'"
            ],
            "application/vnd.google.colaboratory.intrinsic+json": {
              "type": "string"
            }
          },
          "metadata": {},
          "execution_count": 10
        }
      ]
    },
    {
      "cell_type": "code",
      "source": [
        "get_found_groups(manyverbs_pattern_solution, phrase2)"
      ],
      "metadata": {
        "colab": {
          "base_uri": "https://localhost:8080/"
        },
        "id": "7PxrCaeZEQoa",
        "outputId": "b05db861-ea6d-48a4-872e-8d5920bfb053"
      },
      "execution_count": 11,
      "outputs": [
        {
          "output_type": "execute_result",
          "data": {
            "text/plain": [
              "{'uso': 'VERB',\n",
              " 'fazemos': 'VERB',\n",
              " 'é': 'VERB',\n",
              " 'ver': 'VERB',\n",
              " 'entregar': 'VERB',\n",
              " 'acessar': 'VERB',\n",
              " 'realizar': 'VERB',\n",
              " 'acesso': 'VERB'}"
            ]
          },
          "metadata": {},
          "execution_count": 11
        }
      ]
    },
    {
      "cell_type": "code",
      "source": [
        "##Construindo regex para pegar substantivos da frase\n",
        "subs_list = ['acesso','canvas', 'materia\\w{0,2}', 'professor\\w{0,2}', 'exercício\\w{0,1}']\n",
        "subs_pattern_solution = r'(?P<SUBS>'+\"|\".join(subs_list)+')'"
      ],
      "metadata": {
        "id": "Er8sSOcBEfx4"
      },
      "execution_count": 12,
      "outputs": []
    },
    {
      "cell_type": "code",
      "source": [
        "get_found_groups(subs_pattern_solution, phrase2)"
      ],
      "metadata": {
        "colab": {
          "base_uri": "https://localhost:8080/"
        },
        "id": "w1YPk0H9El3r",
        "outputId": "0713c83a-f6d8-4f55-b21f-97ed51146f05"
      },
      "execution_count": 13,
      "outputs": [
        {
          "output_type": "execute_result",
          "data": {
            "text/plain": [
              "{'canvas': 'SUBS',\n",
              " 'exercícios': 'SUBS',\n",
              " 'materiais': 'SUBS',\n",
              " 'professores': 'SUBS',\n",
              " 'acesso': 'SUBS'}"
            ]
          },
          "metadata": {},
          "execution_count": 13
        }
      ]
    },
    {
      "cell_type": "code",
      "source": [
        "##Marcando a classe gramatical nas frases\n",
        "def get_postag(token, postag):\n",
        "    return None if token not in list(postag.keys()) else postag[token]\n",
        "\n",
        "def compose_postag(token, subs, verbs):\n",
        "    s = get_postag(token, subs) #SUBS\n",
        "    v = get_postag(token, verbs) #VERB\n",
        "    if s is not None and v is not None: #Sim\n",
        "        return token + '_' + s + '|' + v # acesso_SUBS|VERB\n",
        "    if s is None and v is not None:\n",
        "        return token + '_' + v\n",
        "    if v is None and s is not None:\n",
        "        return token + '_' + s\n",
        "    return token\n",
        "\n",
        "def transform(phrase):\n",
        "    tokens = re.findall(r\"\\w+(?:'\\w+)?|[^\\w\\s]\", phrase)\n",
        "    subs = get_found_groups(subs_pattern_solution, phrase)\n",
        "    verbs = get_found_groups(manyverbs_pattern_solution, phrase)\n",
        "    return ' '.join([compose_postag(token, subs, verbs) for token in tokens])"
      ],
      "metadata": {
        "id": "MnjVcLkVEnlk"
      },
      "execution_count": 14,
      "outputs": []
    },
    {
      "cell_type": "code",
      "source": [
        "transform(phrase2)"
      ],
      "metadata": {
        "colab": {
          "base_uri": "https://localhost:8080/",
          "height": 53
        },
        "id": "g1BR7CniE0WI",
        "outputId": "a0d1d08e-4b3e-4338-f55e-5b31bea7cb9e"
      },
      "execution_count": 15,
      "outputs": [
        {
          "output_type": "execute_result",
          "data": {
            "text/plain": [
              "'O principal uso_VERB que fazemos_VERB do canvas_SUBS é_VERB ver_VERB e entregar_VERB exercícios_SUBS , além de acessar_VERB os materiais_SUBS postados pelos professores_SUBS . É importante realizar_VERB o acesso_SUBS|VERB todos os dias .'"
            ],
            "application/vnd.google.colaboratory.intrinsic+json": {
              "type": "string"
            }
          },
          "metadata": {},
          "execution_count": 15
        }
      ]
    },
    {
      "cell_type": "markdown",
      "source": [
        "## MacMorpho NLTK"
      ],
      "metadata": {
        "id": "PaGcHkHkE2Ix"
      }
    },
    {
      "cell_type": "code",
      "source": [
        "nltk.download('mac_morpho')\n",
        "print(\"WORDS \", nltk.corpus.mac_morpho.tagged_words())\n",
        "print(\"______________\")\n",
        "print(\"SENTS \",nltk.corpus.mac_morpho.tagged_sents())"
      ],
      "metadata": {
        "colab": {
          "base_uri": "https://localhost:8080/"
        },
        "id": "kTYizfNVE4G-",
        "outputId": "876673c7-5392-4e95-a9d0-a1ce71695e90"
      },
      "execution_count": 16,
      "outputs": [
        {
          "output_type": "stream",
          "name": "stderr",
          "text": [
            "[nltk_data] Downloading package mac_morpho to /root/nltk_data...\n",
            "[nltk_data]   Unzipping corpora/mac_morpho.zip.\n"
          ]
        },
        {
          "output_type": "stream",
          "name": "stdout",
          "text": [
            "WORDS  [('Jersei', 'N'), ('atinge', 'V'), ('média', 'N'), ...]\n",
            "______________\n",
            "SENTS  [[('Jersei', 'N'), ('atinge', 'V'), ('média', 'N'), ('de', 'PREP'), ('Cr$', 'CUR'), ('1,4', 'NUM'), ('milhão', 'N'), ('em', 'PREP|+'), ('a', 'ART'), ('venda', 'N'), ('de', 'PREP|+'), ('a', 'ART'), ('Pinhal', 'NPROP'), ('em', 'PREP'), ('São', 'NPROP'), ('Paulo', 'NPROP')], [('Programe', 'V'), ('sua', 'PROADJ'), ('viagem', 'N'), ('a', 'PREP|+'), ('a', 'ART'), ('Exposição', 'NPROP'), ('Nacional', 'NPROP'), ('do', 'NPROP'), ('Zebu', 'NPROP'), (',', ','), ('que', 'PRO-KS-REL'), ('começa', 'V'), ('dia', 'N'), ('25', 'N|AP')], ...]\n"
          ]
        }
      ]
    },
    {
      "cell_type": "code",
      "source": [
        "nltk.corpus.mac_morpho.tagged_sents()[0]"
      ],
      "metadata": {
        "colab": {
          "base_uri": "https://localhost:8080/"
        },
        "id": "uVMRKTVas-Mc",
        "outputId": "f0838eef-aa4c-4c29-eb7c-529cc49bf736"
      },
      "execution_count": 17,
      "outputs": [
        {
          "output_type": "execute_result",
          "data": {
            "text/plain": [
              "[('Jersei', 'N'),\n",
              " ('atinge', 'V'),\n",
              " ('média', 'N'),\n",
              " ('de', 'PREP'),\n",
              " ('Cr$', 'CUR'),\n",
              " ('1,4', 'NUM'),\n",
              " ('milhão', 'N'),\n",
              " ('em', 'PREP|+'),\n",
              " ('a', 'ART'),\n",
              " ('venda', 'N'),\n",
              " ('de', 'PREP|+'),\n",
              " ('a', 'ART'),\n",
              " ('Pinhal', 'NPROP'),\n",
              " ('em', 'PREP'),\n",
              " ('São', 'NPROP'),\n",
              " ('Paulo', 'NPROP')]"
            ]
          },
          "metadata": {},
          "execution_count": 17
        }
      ]
    },
    {
      "cell_type": "code",
      "source": [
        "words_tagged = nltk.corpus.mac_morpho.tagged_words()\n",
        "tags = {}\n",
        "for word, tag in words_tagged:\n",
        "    if tag not in tags.keys():\n",
        "        tags[tag] = 1\n",
        "    else:\n",
        "        tags[tag] += 1\n",
        "\n",
        "tags_sorted = sorted(tags.items(), key=operator.itemgetter(1)) ##ordendando as tags\n",
        "dict(tags_sorted[-5:])"
      ],
      "metadata": {
        "colab": {
          "base_uri": "https://localhost:8080/"
        },
        "id": "idMEciJlE6tQ",
        "outputId": "f0bc9558-287f-4ed8-b01f-be1bc877a960"
      },
      "execution_count": 18,
      "outputs": [
        {
          "output_type": "execute_result",
          "data": {
            "text/plain": [
              "{'V': 98056, 'PREP': 104364, 'NPROP': 114318, 'ART': 151891, 'N': 236462}"
            ]
          },
          "metadata": {},
          "execution_count": 18
        }
      ]
    },
    {
      "cell_type": "code",
      "source": [
        "dict_tag = {}\n",
        "\n",
        "for word, tag in nltk.corpus.mac_morpho.tagged_words():\n",
        "  if word in dict_tag.keys():\n",
        "    dict_tag[word] = list(set(dict_tag[word] + [tag]))\n",
        "  else:\n",
        "    dict_tag[word] = [tag]"
      ],
      "metadata": {
        "id": "8zrQyr3ZtT9F"
      },
      "execution_count": 19,
      "outputs": []
    },
    {
      "cell_type": "code",
      "source": [
        "dict_tag['São']"
      ],
      "metadata": {
        "colab": {
          "base_uri": "https://localhost:8080/"
        },
        "id": "Vh-grbHNuW91",
        "outputId": "4311a9e5-9dd3-4ea3-bd00-70651688945c"
      },
      "execution_count": 20,
      "outputs": [
        {
          "output_type": "execute_result",
          "data": {
            "text/plain": [
              "['PDEN', 'NPROP', 'VAUX', 'N', 'V']"
            ]
          },
          "metadata": {},
          "execution_count": 20
        }
      ]
    },
    {
      "cell_type": "markdown",
      "source": [
        "## PosTagging com Spacy"
      ],
      "metadata": {
        "id": "xGrxjYXDFfiT"
      }
    },
    {
      "cell_type": "code",
      "source": [
        "nlp = spacy.load(\"pt_core_news_sm\")\n",
        "def analisa_text(txt):\n",
        "    doc = nlp(txt)\n",
        "    for tok in doc:\n",
        "        print(\"Token: \", tok.text, \"\\t\\ta) Tag: \",tok.pos_,\"\\t\\tb) Dep:\", tok.dep_)\n",
        "    print(\"c)\")\n",
        "    displacy.render(doc, style='dep',jupyter=True)\n",
        "txt0=\"Ele foi andar\"\n",
        "txt1=\"O andar estava triste\""
      ],
      "metadata": {
        "id": "82-qiLRIFTEa"
      },
      "execution_count": 21,
      "outputs": []
    },
    {
      "cell_type": "code",
      "source": [
        "analisa_text(txt0)\n",
        "analisa_text(txt1)"
      ],
      "metadata": {
        "colab": {
          "base_uri": "https://localhost:8080/",
          "height": 806
        },
        "id": "VFCQzPfhFcom",
        "outputId": "db15019e-3342-4066-d0be-1be2f771afb6"
      },
      "execution_count": 22,
      "outputs": [
        {
          "output_type": "stream",
          "name": "stdout",
          "text": [
            "Token:  Ele \t\ta) Tag:  PRON \t\tb) Dep: nsubj\n",
            "Token:  foi \t\ta) Tag:  AUX \t\tb) Dep: cop\n",
            "Token:  andar \t\ta) Tag:  VERB \t\tb) Dep: ROOT\n",
            "c)\n"
          ]
        },
        {
          "output_type": "display_data",
          "data": {
            "text/plain": [
              "<IPython.core.display.HTML object>"
            ],
            "text/html": [
              "<span class=\"tex2jax_ignore\"><svg xmlns=\"http://www.w3.org/2000/svg\" xmlns:xlink=\"http://www.w3.org/1999/xlink\" xml:lang=\"pt\" id=\"c2ed5264570d427496541cf843685cc6-0\" class=\"displacy\" width=\"575\" height=\"312.0\" direction=\"ltr\" style=\"max-width: none; height: 312.0px; color: #000000; background: #ffffff; font-family: Arial; direction: ltr\">\n",
              "<text class=\"displacy-token\" fill=\"currentColor\" text-anchor=\"middle\" y=\"222.0\">\n",
              "    <tspan class=\"displacy-word\" fill=\"currentColor\" x=\"50\">Ele</tspan>\n",
              "    <tspan class=\"displacy-tag\" dy=\"2em\" fill=\"currentColor\" x=\"50\">PRON</tspan>\n",
              "</text>\n",
              "\n",
              "<text class=\"displacy-token\" fill=\"currentColor\" text-anchor=\"middle\" y=\"222.0\">\n",
              "    <tspan class=\"displacy-word\" fill=\"currentColor\" x=\"225\">foi</tspan>\n",
              "    <tspan class=\"displacy-tag\" dy=\"2em\" fill=\"currentColor\" x=\"225\">AUX</tspan>\n",
              "</text>\n",
              "\n",
              "<text class=\"displacy-token\" fill=\"currentColor\" text-anchor=\"middle\" y=\"222.0\">\n",
              "    <tspan class=\"displacy-word\" fill=\"currentColor\" x=\"400\">andar</tspan>\n",
              "    <tspan class=\"displacy-tag\" dy=\"2em\" fill=\"currentColor\" x=\"400\">VERB</tspan>\n",
              "</text>\n",
              "\n",
              "<g class=\"displacy-arrow\">\n",
              "    <path class=\"displacy-arc\" id=\"arrow-c2ed5264570d427496541cf843685cc6-0-0\" stroke-width=\"2px\" d=\"M70,177.0 C70,2.0 400.0,2.0 400.0,177.0\" fill=\"none\" stroke=\"currentColor\"/>\n",
              "    <text dy=\"1.25em\" style=\"font-size: 0.8em; letter-spacing: 1px\">\n",
              "        <textPath xlink:href=\"#arrow-c2ed5264570d427496541cf843685cc6-0-0\" class=\"displacy-label\" startOffset=\"50%\" side=\"left\" fill=\"currentColor\" text-anchor=\"middle\">nsubj</textPath>\n",
              "    </text>\n",
              "    <path class=\"displacy-arrowhead\" d=\"M70,179.0 L62,167.0 78,167.0\" fill=\"currentColor\"/>\n",
              "</g>\n",
              "\n",
              "<g class=\"displacy-arrow\">\n",
              "    <path class=\"displacy-arc\" id=\"arrow-c2ed5264570d427496541cf843685cc6-0-1\" stroke-width=\"2px\" d=\"M245,177.0 C245,89.5 395.0,89.5 395.0,177.0\" fill=\"none\" stroke=\"currentColor\"/>\n",
              "    <text dy=\"1.25em\" style=\"font-size: 0.8em; letter-spacing: 1px\">\n",
              "        <textPath xlink:href=\"#arrow-c2ed5264570d427496541cf843685cc6-0-1\" class=\"displacy-label\" startOffset=\"50%\" side=\"left\" fill=\"currentColor\" text-anchor=\"middle\">cop</textPath>\n",
              "    </text>\n",
              "    <path class=\"displacy-arrowhead\" d=\"M245,179.0 L237,167.0 253,167.0\" fill=\"currentColor\"/>\n",
              "</g>\n",
              "</svg></span>"
            ]
          },
          "metadata": {}
        },
        {
          "output_type": "stream",
          "name": "stdout",
          "text": [
            "Token:  O \t\ta) Tag:  DET \t\tb) Dep: det\n",
            "Token:  andar \t\ta) Tag:  NOUN \t\tb) Dep: nsubj\n",
            "Token:  estava \t\ta) Tag:  AUX \t\tb) Dep: cop\n",
            "Token:  triste \t\ta) Tag:  VERB \t\tb) Dep: ROOT\n",
            "c)\n"
          ]
        },
        {
          "output_type": "display_data",
          "data": {
            "text/plain": [
              "<IPython.core.display.HTML object>"
            ],
            "text/html": [
              "<span class=\"tex2jax_ignore\"><svg xmlns=\"http://www.w3.org/2000/svg\" xmlns:xlink=\"http://www.w3.org/1999/xlink\" xml:lang=\"pt\" id=\"056bd177b5504b79aef6e078b9274c8a-0\" class=\"displacy\" width=\"750\" height=\"312.0\" direction=\"ltr\" style=\"max-width: none; height: 312.0px; color: #000000; background: #ffffff; font-family: Arial; direction: ltr\">\n",
              "<text class=\"displacy-token\" fill=\"currentColor\" text-anchor=\"middle\" y=\"222.0\">\n",
              "    <tspan class=\"displacy-word\" fill=\"currentColor\" x=\"50\">O</tspan>\n",
              "    <tspan class=\"displacy-tag\" dy=\"2em\" fill=\"currentColor\" x=\"50\">DET</tspan>\n",
              "</text>\n",
              "\n",
              "<text class=\"displacy-token\" fill=\"currentColor\" text-anchor=\"middle\" y=\"222.0\">\n",
              "    <tspan class=\"displacy-word\" fill=\"currentColor\" x=\"225\">andar</tspan>\n",
              "    <tspan class=\"displacy-tag\" dy=\"2em\" fill=\"currentColor\" x=\"225\">NOUN</tspan>\n",
              "</text>\n",
              "\n",
              "<text class=\"displacy-token\" fill=\"currentColor\" text-anchor=\"middle\" y=\"222.0\">\n",
              "    <tspan class=\"displacy-word\" fill=\"currentColor\" x=\"400\">estava</tspan>\n",
              "    <tspan class=\"displacy-tag\" dy=\"2em\" fill=\"currentColor\" x=\"400\">AUX</tspan>\n",
              "</text>\n",
              "\n",
              "<text class=\"displacy-token\" fill=\"currentColor\" text-anchor=\"middle\" y=\"222.0\">\n",
              "    <tspan class=\"displacy-word\" fill=\"currentColor\" x=\"575\">triste</tspan>\n",
              "    <tspan class=\"displacy-tag\" dy=\"2em\" fill=\"currentColor\" x=\"575\">VERB</tspan>\n",
              "</text>\n",
              "\n",
              "<g class=\"displacy-arrow\">\n",
              "    <path class=\"displacy-arc\" id=\"arrow-056bd177b5504b79aef6e078b9274c8a-0-0\" stroke-width=\"2px\" d=\"M70,177.0 C70,89.5 220.0,89.5 220.0,177.0\" fill=\"none\" stroke=\"currentColor\"/>\n",
              "    <text dy=\"1.25em\" style=\"font-size: 0.8em; letter-spacing: 1px\">\n",
              "        <textPath xlink:href=\"#arrow-056bd177b5504b79aef6e078b9274c8a-0-0\" class=\"displacy-label\" startOffset=\"50%\" side=\"left\" fill=\"currentColor\" text-anchor=\"middle\">det</textPath>\n",
              "    </text>\n",
              "    <path class=\"displacy-arrowhead\" d=\"M70,179.0 L62,167.0 78,167.0\" fill=\"currentColor\"/>\n",
              "</g>\n",
              "\n",
              "<g class=\"displacy-arrow\">\n",
              "    <path class=\"displacy-arc\" id=\"arrow-056bd177b5504b79aef6e078b9274c8a-0-1\" stroke-width=\"2px\" d=\"M245,177.0 C245,2.0 575.0,2.0 575.0,177.0\" fill=\"none\" stroke=\"currentColor\"/>\n",
              "    <text dy=\"1.25em\" style=\"font-size: 0.8em; letter-spacing: 1px\">\n",
              "        <textPath xlink:href=\"#arrow-056bd177b5504b79aef6e078b9274c8a-0-1\" class=\"displacy-label\" startOffset=\"50%\" side=\"left\" fill=\"currentColor\" text-anchor=\"middle\">nsubj</textPath>\n",
              "    </text>\n",
              "    <path class=\"displacy-arrowhead\" d=\"M245,179.0 L237,167.0 253,167.0\" fill=\"currentColor\"/>\n",
              "</g>\n",
              "\n",
              "<g class=\"displacy-arrow\">\n",
              "    <path class=\"displacy-arc\" id=\"arrow-056bd177b5504b79aef6e078b9274c8a-0-2\" stroke-width=\"2px\" d=\"M420,177.0 C420,89.5 570.0,89.5 570.0,177.0\" fill=\"none\" stroke=\"currentColor\"/>\n",
              "    <text dy=\"1.25em\" style=\"font-size: 0.8em; letter-spacing: 1px\">\n",
              "        <textPath xlink:href=\"#arrow-056bd177b5504b79aef6e078b9274c8a-0-2\" class=\"displacy-label\" startOffset=\"50%\" side=\"left\" fill=\"currentColor\" text-anchor=\"middle\">cop</textPath>\n",
              "    </text>\n",
              "    <path class=\"displacy-arrowhead\" d=\"M420,179.0 L412,167.0 428,167.0\" fill=\"currentColor\"/>\n",
              "</g>\n",
              "</svg></span>"
            ]
          },
          "metadata": {}
        }
      ]
    },
    {
      "cell_type": "markdown",
      "source": [
        "# Reconhecimento de entidades nomeadas\n",
        "\n",
        "Iremos capturar o texto das noticias abaixo\n",
        "Capture o texto de cada notícia abaixo:\n",
        "\n",
        "- 0 -> https://g1.globo.com/sp/sao-paulo/noticia/2020/03/03/cai-para-130-numero-de-casos-suspeitos-de-coronavirus-no-estado-de-sao-paulo.ghtml\n",
        "- 1 -> https://g1.globo.com/sp/sao-paulo/noticia/2020/03/04/ministerio-da-saude-confirma-terceiro-paciente-com-coronavirus-em-sp-um-quarto-caso-aguarda-contraprova.ghtml\n",
        "- 2 -> https://g1.globo.com/bemestar/coronavirus/noticia/2020/03/04/ultimas-noticias-de-coronavirus-de-4-de-marco.ghtml\n",
        "- 3 -> https://g1.globo.com/economia/noticia/2020/03/04/projetos-reduzem-em-r-96-bilhoes-emendas-parlamentares-no-orcamento-2020-diz-governo.ghtml\n",
        "- 4 -> https://g1.globo.com/politica/noticia/2020/03/04/documento-liga-assessor-de-eduardo-bolsonaro-a-conta-em-rede-social-para-ataques-pessoais.ghtml\n",
        "- 5 -> https://g1.globo.com/rj/rio-de-janeiro/noticia/2020/03/04/flavio-bolsonaro-entra-com-recurso-para-tentar-paralisar-investigacao-sobre-suspeita-de-rachadinha.ghtml\n",
        "- 6 -> https://g1.globo.com/economia/noticia/2020/03/04/pib-do-brasil-cresce-11percent-em-2019.ghtml\n",
        "- 7 -> https://g1.globo.com/economia/noticia/2020/03/04/tudo-dentro-do-previsto-diz-paulo-guedes-sobre-resultado-do-pib.ghtml\n",
        "- 8 -> https://g1.globo.com/sp/santos-regiao/noticia/2020/03/04/sobe-numero-de-mortos-apos-temporal-na-baixada-santista.ghtml\n",
        "- 9 -> https://g1.globo.com/sp/sao-paulo/noticia/2020/03/04/ministerio-da-saude-confirma-terceiro-paciente-com-coronavirus-em-sp-um-quarto-caso-aguarda-contraprova.ghtml"
      ],
      "metadata": {
        "id": "fntPi8UsFoSX"
      }
    },
    {
      "cell_type": "code",
      "source": [
        "def match_class(target):\n",
        "    def do_match(tag):\n",
        "        classes = tag.get('class', [])\n",
        "        return all(c in classes for c in target)\n",
        "    return do_match\n",
        "\n",
        "def get_text_url(url):\n",
        "    res = requests.get(url)\n",
        "    html = res.text\n",
        "    soup = BeautifulSoup(html, 'html5lib')\n",
        "    #remove marcações de scripts e style\n",
        "    texto = soup.find_all(match_class([\"content-text__container\"]))\n",
        "    all_text = \"\"\n",
        "    for t in texto:\n",
        "        all_text += t.get_text()\n",
        "    return all_text"
      ],
      "metadata": {
        "id": "apQ01BJ8FsD4"
      },
      "execution_count": 23,
      "outputs": []
    },
    {
      "cell_type": "code",
      "source": [
        "noticias = {}\n",
        "noticias[0] = \"https://g1.globo.com/sp/sao-paulo/noticia/2020/03/03/cai-para-130-numero-de-casos-suspeitos-de-coronavirus-no-estado-de-sao-paulo.ghtml\"\n",
        "noticias[1] = \"https://g1.globo.com/sp/sao-paulo/noticia/2020/03/04/ministerio-da-saude-confirma-terceiro-paciente-com-coronavirus-em-sp-um-quarto-caso-aguarda-contraprova.ghtml\"\n",
        "noticias[2] = \"https://g1.globo.com/bemestar/coronavirus/noticia/2020/03/04/ultimas-noticias-de-coronavirus-de-4-de-marco.ghtml\"\n",
        "noticias[3] = \"https://g1.globo.com/economia/noticia/2020/03/04/projetos-reduzem-em-r-96-bilhoes-emendas-parlamentares-no-orcamento-2020-diz-governo.ghtml\"\n",
        "noticias[4] = \"https://g1.globo.com/politica/noticia/2020/03/04/documento-liga-assessor-de-eduardo-bolsonaro-a-conta-em-rede-social-para-ataques-pessoais.ghtml\"\n",
        "noticias[5] = \"https://g1.globo.com/rj/rio-de-janeiro/noticia/2020/03/04/flavio-bolsonaro-entra-com-recurso-para-tentar-paralisar-investigacao-sobre-suspeita-de-rachadinha.ghtml\"\n",
        "noticias[6] = \"https://g1.globo.com/economia/noticia/2020/03/04/pib-do-brasil-cresce-11percent-em-2019.ghtml\"\n",
        "noticias[7] = \"https://g1.globo.com/economia/noticia/2020/03/04/tudo-dentro-do-previsto-diz-paulo-guedes-sobre-resultado-do-pib.ghtml\"\n",
        "noticias[8] = \"https://g1.globo.com/sp/santos-regiao/noticia/2020/03/04/sobe-numero-de-mortos-apos-temporal-na-baixada-santista.ghtml\"\n",
        "noticias[9] = \"https://g1.globo.com/sp/sao-paulo/noticia/2020/03/04/ministerio-da-saude-confirma-terceiro-paciente-com-coronavirus-em-sp-um-quarto-caso-aguarda-contraprova.ghtml\""
      ],
      "metadata": {
        "id": "K3MyAzAjF-Q1"
      },
      "execution_count": 24,
      "outputs": []
    },
    {
      "cell_type": "code",
      "source": [
        "texto_noticias = {i:get_text_url(noticias[i]) for i in noticias.keys()}"
      ],
      "metadata": {
        "id": "u1G1FQFoF_2y"
      },
      "execution_count": 25,
      "outputs": []
    },
    {
      "cell_type": "code",
      "source": [
        "texto_noticias[0]"
      ],
      "metadata": {
        "colab": {
          "base_uri": "https://localhost:8080/",
          "height": 140
        },
        "id": "718eAKoBvWP7",
        "outputId": "c1d097ef-9d2f-4aa1-e972-b59524736e30"
      },
      "execution_count": 26,
      "outputs": [
        {
          "output_type": "execute_result",
          "data": {
            "text/plain": [
              "' A Secretaria Estadual de Saúde de São Paulo divulgou nesta terça-feira (3) que caiu o número de pacientes com suspeita de coronavírus no estado. Enquanto na segunda-feira (2) eram 163 casos suspeitos, nesta terça são 130.  Foram descartados, ao todo, 104 casos no estado, destes, 56 foram nas últimas 24 horas. Entretanto, segundo informou a pasta, entre segunda (2) e terça (3), 23 novos surgiram.  Permanecem confirmados apenas 2 casos da doença no país, ambos no estado de São Paulo. Os pacientes estão em quarentena domiciliar. Ambos estiveram em viagem na Itália.  \"Os dois confirmados estão evoluindo bem clinicamente, mas ainda têm alguns sintomas que fazem com que eles continuem em isolamento domiciliar\", salientou Paulo Menezes, coordenador do comitê de operações emergenciais (COE) da Secretaria Estadual de Saúde.  O número de pessoas que tiveram contato com o segundo caso confirmado não foi divulgado pela secretaria. No primeiro caso confirmado, eram 34 pessoas, entre passageiros do voo e familiares do paciente.  “Existem contactantes [do segundo caso], eles estão sendo monitorados, mas a gente não está divulgando mais números de contactantes por conta da privacidade das pessoas”, disse Paulo Menezes, coordenador do comitê de operações emergenciais (COE) do estado.  O secretário estadual de saúde destaca ainda que o segundo paciente confirmado foi cauteloso assim que percebeu os primeiros sintomas. “Ele foi muito cuidadoso colocou máscara antes do voo e foi pro hospital”, disse o secretário José Henrique Germann.  Participaram do evento também o coordenador do Centro de Contingenciamento de Emergências para o coronavírus do estado, o médico David Uip, o secretário estadual de saúde, José Henrique Germann, e Helena Sato, coordenadora do Centro de Vigilância Epidemiológica (CVE) estadual.  Segundo Uip, o laboratório Adolfo Lutz, onde os testes são realizados, irá \"qualificar outros laboratórios\" para realizar o exame.  \"De ontem pra hoje, nós descartamos 56 daqueles 163. Já tiveram seus exames negativos. E tivemos a inclusão de notificações de 23 novas pessoas. Então somamos 130 casos suspeitos. São todos viajantes. Os casos suspeitos que tínhamos de contactantes dos casos confirmados já foram descartados\", disse Menezes.  Segundo a metodologia da Secretaria Estadual de Saúde, para um caso ser considerado suspeito é necessário que o paciente tenha apresentado, além dos sintomas, histórico de viagem ou contato com caso suspeito.  No sábado (29), a Secretaria Estadual de Saúde e o Ministério da Saúde confirmaram o segundo caso de coronavírus no estado. Trata-se de um homem de 32 anos que reside em São Paulo e que chegou de Milão, na Itália, na quinta-feira (27).  Mesmo com a segunda confirmação, não há mudança da situação nacional, pois não existem evidências de circulação sustentada do vírus em território brasileiro.  A tendência é que, a partir dos próximos dias, o padrão de identificação dos casos suspeitos mude. Segundo Menezes, \"daqui a alguns dias nós vamos trabalhar por gravidade e não por procedência pra fazer a identificação dos casos suspeitos\".  \"Eu concordo com o ministério da Saúde: eu acho que estamos em um momento de pandemia há dias. Meu sentimento pessoal é de que estamos em um momento pandêmico\", salientou Uip.  A Organização Mundial de Saúde (OMS) é que define os critérios e se a doença é caracterizada ou não como pandemia.  O governo estadual lançou uma cartilha de orientação e prevenção do coronavírus em cinco idiomas - português, inglês, espanhol, italiano e chinês - na versão impressa e eletrônica. O estado irá liberar R$ 30 milhões em recursos para as ações de prevenção e informação.  Após a confirmação de um caso, o governo estadual anunciou a criação de um centro de contingência para monitorar casos de coronavírus no estado. A função do centro de contingência é coordenar ações contra a propagação do Covid-19. O grupo é presidido pelo infectologista David Uip e conta com profissionais do Instituto Butantan e médicos das redes pública e privada, sob a supervisão do Secretário de Estado da Saúde, José Henrique Germann.  Nesta quinta-feira (27), o governo federal anunciou que vai antecipar para 23 de março a Campanha Nacional de Vacinação contra a gripe – anteriormente, a abertura estava prevista para a segunda quinzena de abril.  A vacina contra a gripe não protege contra o novo coronavírus, mas, sim, contra tipos de influenza (família à qual pertence o H1N1, por exemplo). E justamente por isso pode ajudar profissionais de saúde a diagnosticar – por eliminação – eventuais casos de Covid-19.  Quem for viajar aos locais com circulação do vírus deve evitar contato com pessoas doentes, animais (vivos ou mortos), e a circulação em mercados de animais e seus produtos. '"
            ],
            "application/vnd.google.colaboratory.intrinsic+json": {
              "type": "string"
            }
          },
          "metadata": {},
          "execution_count": 26
        }
      ]
    },
    {
      "cell_type": "code",
      "source": [
        "##Utilizando o Spacy\n",
        "nlp = pt_core_news_sm.load()\n",
        "nlp_texto_noticias = {i:nlp(texto_noticias[i]) for i in texto_noticias.keys()}\n",
        "entidades = {i:set(map(str, nlp_texto_noticias[i].ents)) for i in nlp_texto_noticias.keys()}"
      ],
      "metadata": {
        "id": "1EZgSUQEGG0Y"
      },
      "execution_count": 27,
      "outputs": []
    },
    {
      "cell_type": "code",
      "source": [
        "nlp_texto_noticias[0].ents"
      ],
      "metadata": {
        "colab": {
          "base_uri": "https://localhost:8080/"
        },
        "id": "oATmEh1tGQAh",
        "outputId": "a65d9514-8852-4dc5-a63f-0eed3dee69a6"
      },
      "execution_count": 28,
      "outputs": [
        {
          "output_type": "execute_result",
          "data": {
            "text/plain": [
              "(Secretaria Estadual de Saúde de São Paulo,\n",
              " estado de São Paulo,\n",
              " Itália,\n",
              " Paulo Menezes,\n",
              " Secretaria Estadual de Saúde,\n",
              " Paulo Menezes,\n",
              " José Henrique Germann,\n",
              " Centro de Contingenciamento de Emergências,\n",
              " David Uip,\n",
              " José Henrique Germann,\n",
              " Helena Sato,\n",
              " Centro de Vigilância Epidemiológica,\n",
              " CVE,\n",
              " Uip,\n",
              " Adolfo Lutz,\n",
              " Menezes,\n",
              " Secretaria Estadual de Saúde,\n",
              " Secretaria Estadual de Saúde,\n",
              " Ministério da Saúde,\n",
              " coronavírus,\n",
              " São Paulo,\n",
              " Milão,\n",
              " Itália,\n",
              " Menezes,\n",
              " Saúde,\n",
              " Uip,\n",
              " Organização Mundial de Saúde,\n",
              " OMS,\n",
              " R$,\n",
              " Covid-19,\n",
              " David Uip,\n",
              " Instituto Butantan,\n",
              " Secretário de Estado da Saúde,\n",
              " José Henrique Germann,\n",
              " Campanha Nacional de Vacinação,\n",
              " H1N1,\n",
              " Covid-19)"
            ]
          },
          "metadata": {},
          "execution_count": 28
        }
      ]
    },
    {
      "cell_type": "code",
      "source": [
        "entidades"
      ],
      "metadata": {
        "colab": {
          "base_uri": "https://localhost:8080/"
        },
        "id": "Q-BVMs4_GT0u",
        "outputId": "9b7a3898-1353-4c15-9567-d22129ef9564"
      },
      "execution_count": 29,
      "outputs": [
        {
          "output_type": "execute_result",
          "data": {
            "text/plain": [
              "{0: {'Adolfo Lutz',\n",
              "  'CVE',\n",
              "  'Campanha Nacional de Vacinação',\n",
              "  'Centro de Contingenciamento de Emergências',\n",
              "  'Centro de Vigilância Epidemiológica',\n",
              "  'Covid-19',\n",
              "  'David Uip',\n",
              "  'H1N1',\n",
              "  'Helena Sato',\n",
              "  'Instituto Butantan',\n",
              "  'Itália',\n",
              "  'José Henrique Germann',\n",
              "  'Menezes',\n",
              "  'Milão',\n",
              "  'Ministério da Saúde',\n",
              "  'OMS',\n",
              "  'Organização Mundial de Saúde',\n",
              "  'Paulo Menezes',\n",
              "  'R$',\n",
              "  'Saúde',\n",
              "  'Secretaria Estadual de Saúde',\n",
              "  'Secretaria Estadual de Saúde de São Paulo',\n",
              "  'Secretário de Estado da Saúde',\n",
              "  'São Paulo',\n",
              "  'Uip',\n",
              "  'coronavírus',\n",
              "  'estado de São Paulo'},\n",
              " 1: {'Adolfo Lutz',\n",
              "  'Alemanha',\n",
              "  'Brasil',\n",
              "  'COVID-19',\n",
              "  'Campanha Nacional de Vacinação',\n",
              "  'Centro de Contingência',\n",
              "  'Centro de Contingência de São Paulo',\n",
              "  'Colômbia',\n",
              "  'Covid-19',\n",
              "  'David Uip',\n",
              "  'Einstein',\n",
              "  'Espanha',\n",
              "  'Europa',\n",
              "  'H1N1',\n",
              "  'Hospital Albert Einstein',\n",
              "  'Hospital Beneficência Portuguesa',\n",
              "  'Instituto Adolfo Lutz',\n",
              "  'Itália',\n",
              "  'João Doria',\n",
              "  'Menezes',\n",
              "  'Milão',\n",
              "  'Ministério da Saúde',\n",
              "  'O G1',\n",
              "  'OMS',\n",
              "  'Organização Mundial de Saúde',\n",
              "  'PSDB',\n",
              "  'Paulo Menezes',\n",
              "  'Portugal',\n",
              "  'R$',\n",
              "  'Saúde',\n",
              "  'Secretaria',\n",
              "  'Secretaria Estadual de Saúde',\n",
              "  'Secretaria de Saúde do Estado de São Paulo',\n",
              "  'São Paulo',\n",
              "  'Turim',\n",
              "  'Uip',\n",
              "  'Zona Sul de São Paulo',\n",
              "  'contraprova',\n",
              "  'coronavírus',\n",
              "  'de São Paulo',\n",
              "  'estado de São Paulo',\n",
              "  'Áustria'},\n",
              " 2: {'Arábia Saudita', 'China', 'Destaques', 'Irã', 'Itália', 'Meca'},\n",
              " 3: {'Amarela',\n",
              "  'Amarelo',\n",
              "  'Bolsonaro',\n",
              "  'Colnago',\n",
              "  'Congresso',\n",
              "  'Congresso Nacional',\n",
              "  'DEM-AP',\n",
              "  'Davi Alcolumbre',\n",
              "  'Esteves Colnago',\n",
              "  'Fazenda do Ministério da Economia',\n",
              "  'Ladeira',\n",
              "  'Legislativo',\n",
              "  'MP Verde',\n",
              "  'Ministério da Economia',\n",
              "  'Orçamento 2020',\n",
              "  'Orçamento de 2020',\n",
              "  'Otavio Ladeira',\n",
              "  'Programa Verde',\n",
              "  'R$',\n",
              "  'Tesouro',\n",
              "  'Tesouro Nacional',\n",
              "  'Waldery Rodrigues'},\n",
              " 4: {'Bolsofeios',\n",
              "  'Bolsonaro',\n",
              "  'Comissão Parlamentar Mista de Inquérito',\n",
              "  'Conselho de Ética da Câmara dos Deputados',\n",
              "  'Câmara',\n",
              "  'Câmara dos Deputados',\n",
              "  'Dudu Guimarães',\n",
              "  'Eduardo',\n",
              "  'Eduardo Bolsonaro',\n",
              "  'Eduardo Guimarães',\n",
              "  'Facebook',\n",
              "  'Fake News',\n",
              "  'G1',\n",
              "  'Guimarães',\n",
              "  'Instagram',\n",
              "  'Jair Bolsonaro',\n",
              "  'Joice',\n",
              "  'Joice Hasselmann',\n",
              "  'Jornal Nacional',\n",
              "  'Mandar',\n",
              "  'Olha',\n",
              "  'PDT-PE',\n",
              "  'PSL-SP',\n",
              "  'Questionado',\n",
              "  'Túlio Gadelha',\n",
              "  'UOL'},\n",
              " 5: {'Alerj',\n",
              "  'Assembleia Legislativa do Rio',\n",
              "  'Flávio Bolsonaro',\n",
              "  'Justiça',\n",
              "  'Ministério Público',\n",
              "  'R$',\n",
              "  'Rio',\n",
              "  'Tribunal de Justiça do Rio'},\n",
              " 6: {'Adolfo Sachsida',\n",
              "  'Banco Central',\n",
              "  'Bolsonaro',\n",
              "  'Brasil',\n",
              "  'Congresso',\n",
              "  'Contas Nacionais',\n",
              "  'Economia',\n",
              "  'FGTS',\n",
              "  'Focus',\n",
              "  'Fundo de Garantia do Tempo de Serviço',\n",
              "  'IBGE',\n",
              "  'Instituto Brasileiro de Geografia e Estatística',\n",
              "  'Ministério da Economia',\n",
              "  'Paulo Guedes',\n",
              "  'Política Econômica',\n",
              "  'Previdência',\n",
              "  'Produto Interno Bruto',\n",
              "  'R$',\n",
              "  'R$ 7,3',\n",
              "  'Rebeca',\n",
              "  'Rebeca Palis',\n",
              "  'coronavírus'},\n",
              " 7: {'Brasil',\n",
              "  'China',\n",
              "  'Congresso',\n",
              "  'Economia',\n",
              "  'FGTS',\n",
              "  'Fazenda do Ministério da Economia',\n",
              "  'Guedes',\n",
              "  'IBGE',\n",
              "  'Instituto Brasileiro de Geografia e Estatística',\n",
              "  'Jair Bolsonaro',\n",
              "  'PECs',\n",
              "  'Palácio do Planalto',\n",
              "  'Paulo Guedes',\n",
              "  'Produto Interno Bruto',\n",
              "  'Questionado',\n",
              "  'R$',\n",
              "  'Waldery Rodrigues'},\n",
              " 8: {'Alertas de Desastres Naturais',\n",
              "  'Anchieta',\n",
              "  'Baixada Santista',\n",
              "  'Brasil',\n",
              "  'Cemaden',\n",
              "  'Centro Comunitário do Caraminguava',\n",
              "  'Centro Nacional de Monitoramento',\n",
              "  'Corpo de Bombeiros',\n",
              "  'Cubatão',\n",
              "  'Cônego Domênico Rangoni',\n",
              "  'Defesa Civil do Estado',\n",
              "  'Defesa Civil do Estado de São Paulo',\n",
              "  'Espírito Santo',\n",
              "  'Estado de São Paulo',\n",
              "  'G1',\n",
              "  'Governo de São Paulo',\n",
              "  'Governo do Estado',\n",
              "  'Guarujá',\n",
              "  'Guarujá-Bertioga',\n",
              "  'Inmet',\n",
              "  'Instituto Nacional de Meteorologia',\n",
              "  'João Doria',\n",
              "  'Oceano Atlântico',\n",
              "  'PSDB',\n",
              "  'Peruíbe',\n",
              "  'Rio de Janeiro',\n",
              "  'Rio-Santos',\n",
              "  'Santos',\n",
              "  'Subiu',\n",
              "  'São Paulo',\n",
              "  'São Vicente',\n",
              "  'rodovia Guarujá-Bertioga',\n",
              "  'via Anchieta'},\n",
              " 9: {'Adolfo Lutz',\n",
              "  'Alemanha',\n",
              "  'Brasil',\n",
              "  'COVID-19',\n",
              "  'Campanha Nacional de Vacinação',\n",
              "  'Centro de Contingência',\n",
              "  'Centro de Contingência de São Paulo',\n",
              "  'Colômbia',\n",
              "  'Covid-19',\n",
              "  'David Uip',\n",
              "  'Einstein',\n",
              "  'Espanha',\n",
              "  'Europa',\n",
              "  'H1N1',\n",
              "  'Hospital Albert Einstein',\n",
              "  'Hospital Beneficência Portuguesa',\n",
              "  'Instituto Adolfo Lutz',\n",
              "  'Itália',\n",
              "  'João Doria',\n",
              "  'Menezes',\n",
              "  'Milão',\n",
              "  'Ministério da Saúde',\n",
              "  'O G1',\n",
              "  'OMS',\n",
              "  'Organização Mundial de Saúde',\n",
              "  'PSDB',\n",
              "  'Paulo Menezes',\n",
              "  'Portugal',\n",
              "  'R$',\n",
              "  'Saúde',\n",
              "  'Secretaria',\n",
              "  'Secretaria Estadual de Saúde',\n",
              "  'Secretaria de Saúde do Estado de São Paulo',\n",
              "  'São Paulo',\n",
              "  'Turim',\n",
              "  'Uip',\n",
              "  'Zona Sul de São Paulo',\n",
              "  'contraprova',\n",
              "  'coronavírus',\n",
              "  'de São Paulo',\n",
              "  'estado de São Paulo',\n",
              "  'Áustria'}}"
            ]
          },
          "metadata": {},
          "execution_count": 29
        }
      ]
    },
    {
      "cell_type": "code",
      "source": [
        "all_entidades = []\n",
        "for k in entidades.keys():\n",
        "    all_entidades.extend(entidades[k])\n",
        "all_entidades = dict(Counter(all_entidades))\n",
        "all_entidades_sorted = sorted(all_entidades.items(), key=operator.itemgetter(1))\n",
        "all_entidades_sorted"
      ],
      "metadata": {
        "colab": {
          "base_uri": "https://localhost:8080/"
        },
        "id": "COnNipFmGfq3",
        "outputId": "c88e1f8a-8221-470d-af03-e19e647d5d7a"
      },
      "execution_count": 30,
      "outputs": [
        {
          "output_type": "execute_result",
          "data": {
            "text/plain": [
              "[('Helena Sato', 1),\n",
              " ('CVE', 1),\n",
              " ('Centro de Contingenciamento de Emergências', 1),\n",
              " ('Centro de Vigilância Epidemiológica', 1),\n",
              " ('Secretário de Estado da Saúde', 1),\n",
              " ('José Henrique Germann', 1),\n",
              " ('Instituto Butantan', 1),\n",
              " ('Secretaria Estadual de Saúde de São Paulo', 1),\n",
              " ('Arábia Saudita', 1),\n",
              " ('Meca', 1),\n",
              " ('Destaques', 1),\n",
              " ('Irã', 1),\n",
              " ('DEM-AP', 1),\n",
              " ('Amarela', 1),\n",
              " ('Programa Verde', 1),\n",
              " ('Davi Alcolumbre', 1),\n",
              " ('Otavio Ladeira', 1),\n",
              " ('MP Verde', 1),\n",
              " ('Ladeira', 1),\n",
              " ('Legislativo', 1),\n",
              " ('Amarelo', 1),\n",
              " ('Congresso Nacional', 1),\n",
              " ('Orçamento de 2020', 1),\n",
              " ('Tesouro', 1),\n",
              " ('Esteves Colnago', 1),\n",
              " ('Colnago', 1),\n",
              " ('Orçamento 2020', 1),\n",
              " ('Tesouro Nacional', 1),\n",
              " ('Bolsofeios', 1),\n",
              " ('Fake News', 1),\n",
              " ('Joice', 1),\n",
              " ('Mandar', 1),\n",
              " ('Jornal Nacional', 1),\n",
              " ('Câmara dos Deputados', 1),\n",
              " ('Olha', 1),\n",
              " ('Comissão Parlamentar Mista de Inquérito', 1),\n",
              " ('Guimarães', 1),\n",
              " ('Eduardo Bolsonaro', 1),\n",
              " ('UOL', 1),\n",
              " ('Conselho de Ética da Câmara dos Deputados', 1),\n",
              " ('Túlio Gadelha', 1),\n",
              " ('Eduardo Guimarães', 1),\n",
              " ('Dudu Guimarães', 1),\n",
              " ('PSL-SP', 1),\n",
              " ('Câmara', 1),\n",
              " ('Eduardo', 1),\n",
              " ('Facebook', 1),\n",
              " ('PDT-PE', 1),\n",
              " ('Instagram', 1),\n",
              " ('Joice Hasselmann', 1),\n",
              " ('Alerj', 1),\n",
              " ('Tribunal de Justiça do Rio', 1),\n",
              " ('Rio', 1),\n",
              " ('Assembleia Legislativa do Rio', 1),\n",
              " ('Ministério Público', 1),\n",
              " ('Justiça', 1),\n",
              " ('Flávio Bolsonaro', 1),\n",
              " ('Contas Nacionais', 1),\n",
              " ('Focus', 1),\n",
              " ('Rebeca', 1),\n",
              " ('R$ 7,3', 1),\n",
              " ('Fundo de Garantia do Tempo de Serviço', 1),\n",
              " ('Previdência', 1),\n",
              " ('Banco Central', 1),\n",
              " ('Rebeca Palis', 1),\n",
              " ('Política Econômica', 1),\n",
              " ('Adolfo Sachsida', 1),\n",
              " ('PECs', 1),\n",
              " ('Palácio do Planalto', 1),\n",
              " ('Guedes', 1),\n",
              " ('Santos', 1),\n",
              " ('rodovia Guarujá-Bertioga', 1),\n",
              " ('via Anchieta', 1),\n",
              " ('Guarujá', 1),\n",
              " ('Cemaden', 1),\n",
              " ('Guarujá-Bertioga', 1),\n",
              " ('Instituto Nacional de Meteorologia', 1),\n",
              " ('Inmet', 1),\n",
              " ('Peruíbe', 1),\n",
              " ('Subiu', 1),\n",
              " ('São Vicente', 1),\n",
              " ('Cubatão', 1),\n",
              " ('Rio de Janeiro', 1),\n",
              " ('Anchieta', 1),\n",
              " ('Defesa Civil do Estado', 1),\n",
              " ('Alertas de Desastres Naturais', 1),\n",
              " ('Baixada Santista', 1),\n",
              " ('Governo do Estado', 1),\n",
              " ('Cônego Domênico Rangoni', 1),\n",
              " ('Espírito Santo', 1),\n",
              " ('Estado de São Paulo', 1),\n",
              " ('Oceano Atlântico', 1),\n",
              " ('Corpo de Bombeiros', 1),\n",
              " ('Rio-Santos', 1),\n",
              " ('Governo de São Paulo', 1),\n",
              " ('Centro Nacional de Monitoramento', 1),\n",
              " ('Defesa Civil do Estado de São Paulo', 1),\n",
              " ('Centro Comunitário do Caraminguava', 1),\n",
              " ('COVID-19', 2),\n",
              " ('Europa', 2),\n",
              " ('O G1', 2),\n",
              " ('Centro de Contingência de São Paulo', 2),\n",
              " ('de São Paulo', 2),\n",
              " ('Turim', 2),\n",
              " ('Portugal', 2),\n",
              " ('Áustria', 2),\n",
              " ('Alemanha', 2),\n",
              " ('Secretaria de Saúde do Estado de São Paulo', 2),\n",
              " ('Hospital Beneficência Portuguesa', 2),\n",
              " ('Espanha', 2),\n",
              " ('Instituto Adolfo Lutz', 2),\n",
              " ('contraprova', 2),\n",
              " ('Zona Sul de São Paulo', 2),\n",
              " ('Centro de Contingência', 2),\n",
              " ('Einstein', 2),\n",
              " ('Colômbia', 2),\n",
              " ('Hospital Albert Einstein', 2),\n",
              " ('Secretaria', 2),\n",
              " ('China', 2),\n",
              " ('Waldery Rodrigues', 2),\n",
              " ('Fazenda do Ministério da Economia', 2),\n",
              " ('Ministério da Economia', 2),\n",
              " ('G1', 2),\n",
              " ('Questionado', 2),\n",
              " ('Jair Bolsonaro', 2),\n",
              " ('Instituto Brasileiro de Geografia e Estatística', 2),\n",
              " ('IBGE', 2),\n",
              " ('Economia', 2),\n",
              " ('Paulo Guedes', 2),\n",
              " ('FGTS', 2),\n",
              " ('Produto Interno Bruto', 2),\n",
              " ('Paulo Menezes', 3),\n",
              " ('H1N1', 3),\n",
              " ('Menezes', 3),\n",
              " ('Campanha Nacional de Vacinação', 3),\n",
              " ('Ministério da Saúde', 3),\n",
              " ('OMS', 3),\n",
              " ('Milão', 3),\n",
              " ('Saúde', 3),\n",
              " ('Secretaria Estadual de Saúde', 3),\n",
              " ('David Uip', 3),\n",
              " ('Uip', 3),\n",
              " ('estado de São Paulo', 3),\n",
              " ('Covid-19', 3),\n",
              " ('Adolfo Lutz', 3),\n",
              " ('Organização Mundial de Saúde', 3),\n",
              " ('João Doria', 3),\n",
              " ('PSDB', 3),\n",
              " ('Congresso', 3),\n",
              " ('Bolsonaro', 3),\n",
              " ('coronavírus', 4),\n",
              " ('São Paulo', 4),\n",
              " ('Itália', 4),\n",
              " ('Brasil', 5),\n",
              " ('R$', 7)]"
            ]
          },
          "metadata": {},
          "execution_count": 30
        }
      ]
    },
    {
      "cell_type": "code",
      "source": [
        "nlp_texto_noticias[0].ents[-9]"
      ],
      "metadata": {
        "colab": {
          "base_uri": "https://localhost:8080/"
        },
        "id": "UCGND1LQYLHr",
        "outputId": "089bdb1e-2b48-41eb-c89d-69b28163e459"
      },
      "execution_count": 31,
      "outputs": [
        {
          "output_type": "execute_result",
          "data": {
            "text/plain": [
              "R$"
            ]
          },
          "metadata": {},
          "execution_count": 31
        }
      ]
    },
    {
      "cell_type": "code",
      "source": [
        "nlp_texto_noticias[0].ents[-9].label_"
      ],
      "metadata": {
        "colab": {
          "base_uri": "https://localhost:8080/",
          "height": 36
        },
        "id": "zDC8xEwrwAoP",
        "outputId": "a76ae2d3-1001-4841-e358-9e566c361b1c"
      },
      "execution_count": 32,
      "outputs": [
        {
          "output_type": "execute_result",
          "data": {
            "text/plain": [
              "'LOC'"
            ],
            "application/vnd.google.colaboratory.intrinsic+json": {
              "type": "string"
            }
          },
          "metadata": {},
          "execution_count": 32
        }
      ]
    },
    {
      "cell_type": "code",
      "source": [
        "## Obtendo os rotulos\n",
        "labels = []\n",
        "for i in list(nlp_texto_noticias.keys()):\n",
        "    labels.extend([x.label_ for x in nlp_texto_noticias[i].ents])\n",
        "labels = Counter(labels)\n",
        "len(labels)"
      ],
      "metadata": {
        "colab": {
          "base_uri": "https://localhost:8080/"
        },
        "id": "55Q1f7ClGlYy",
        "outputId": "0153c206-f3c0-4cc5-f041-65feedd52ad1"
      },
      "execution_count": 33,
      "outputs": [
        {
          "output_type": "execute_result",
          "data": {
            "text/plain": [
              "4"
            ]
          },
          "metadata": {},
          "execution_count": 33
        }
      ]
    },
    {
      "cell_type": "code",
      "source": [
        "labels"
      ],
      "metadata": {
        "colab": {
          "base_uri": "https://localhost:8080/"
        },
        "id": "pX7tgcbdG_2k",
        "outputId": "89081e19-1d25-4d22-f090-a16baec48675"
      },
      "execution_count": 34,
      "outputs": [
        {
          "output_type": "execute_result",
          "data": {
            "text/plain": [
              "Counter({'MISC': 49, 'LOC': 211, 'PER': 72, 'ORG': 30})"
            ]
          },
          "metadata": {},
          "execution_count": 34
        }
      ]
    },
    {
      "cell_type": "code",
      "source": [
        "spacy.explain('MISC')"
      ],
      "metadata": {
        "colab": {
          "base_uri": "https://localhost:8080/",
          "height": 36
        },
        "id": "YGAbh4CyHl-e",
        "outputId": "5c4fb36c-2c67-4468-d992-f5cd74f1f829"
      },
      "execution_count": 35,
      "outputs": [
        {
          "output_type": "execute_result",
          "data": {
            "text/plain": [
              "'Miscellaneous entities, e.g. events, nationalities, products or works of art'"
            ],
            "application/vnd.google.colaboratory.intrinsic+json": {
              "type": "string"
            }
          },
          "metadata": {},
          "execution_count": 35
        }
      ]
    },
    {
      "cell_type": "code",
      "source": [
        "spacy.explain('LOC')"
      ],
      "metadata": {
        "colab": {
          "base_uri": "https://localhost:8080/",
          "height": 36
        },
        "id": "tSmuR-uRHoex",
        "outputId": "9e5e3492-5cce-4528-f0ef-9cb9eb4ba2f0"
      },
      "execution_count": 36,
      "outputs": [
        {
          "output_type": "execute_result",
          "data": {
            "text/plain": [
              "'Non-GPE locations, mountain ranges, bodies of water'"
            ],
            "application/vnd.google.colaboratory.intrinsic+json": {
              "type": "string"
            }
          },
          "metadata": {},
          "execution_count": 36
        }
      ]
    },
    {
      "cell_type": "code",
      "source": [
        "spacy.explain('PER')"
      ],
      "metadata": {
        "colab": {
          "base_uri": "https://localhost:8080/",
          "height": 36
        },
        "id": "EOzuRR3Gwifi",
        "outputId": "8e641bf4-b2c7-403a-8b3e-3f64d11a21fc"
      },
      "execution_count": 37,
      "outputs": [
        {
          "output_type": "execute_result",
          "data": {
            "text/plain": [
              "'Named person or family.'"
            ],
            "application/vnd.google.colaboratory.intrinsic+json": {
              "type": "string"
            }
          },
          "metadata": {},
          "execution_count": 37
        }
      ]
    },
    {
      "cell_type": "code",
      "source": [
        "spacy.explain('ORG')"
      ],
      "metadata": {
        "colab": {
          "base_uri": "https://localhost:8080/",
          "height": 36
        },
        "id": "yY-3vMO9wmjK",
        "outputId": "c6328592-4115-4225-f0ff-613cc093d2cc"
      },
      "execution_count": 38,
      "outputs": [
        {
          "output_type": "execute_result",
          "data": {
            "text/plain": [
              "'Companies, agencies, institutions, etc.'"
            ],
            "application/vnd.google.colaboratory.intrinsic+json": {
              "type": "string"
            }
          },
          "metadata": {},
          "execution_count": 38
        }
      ]
    },
    {
      "cell_type": "code",
      "source": [
        "displacy.render(nlp_texto_noticias[0], jupyter=True, style='ent')"
      ],
      "metadata": {
        "colab": {
          "base_uri": "https://localhost:8080/",
          "height": 857
        },
        "id": "vhB_gsikGuaB",
        "outputId": "ad771e9e-2a41-426a-db23-75dc443368d0"
      },
      "execution_count": 39,
      "outputs": [
        {
          "output_type": "display_data",
          "data": {
            "text/plain": [
              "<IPython.core.display.HTML object>"
            ],
            "text/html": [
              "<span class=\"tex2jax_ignore\"><div class=\"entities\" style=\"line-height: 2.5; direction: ltr\"> A \n",
              "<mark class=\"entity\" style=\"background: #ddd; padding: 0.45em 0.6em; margin: 0 0.25em; line-height: 1; border-radius: 0.35em;\">\n",
              "    Secretaria Estadual de Saúde de São Paulo\n",
              "    <span style=\"font-size: 0.8em; font-weight: bold; line-height: 1; border-radius: 0.35em; vertical-align: middle; margin-left: 0.5rem\">MISC</span>\n",
              "</mark>\n",
              " divulgou nesta terça-feira (3) que caiu o número de pacientes com suspeita de coronavírus no estado. Enquanto na segunda-feira (2) eram 163 casos suspeitos, nesta terça são 130.  Foram descartados, ao todo, 104 casos no estado, destes, 56 foram nas últimas 24 horas. Entretanto, segundo informou a pasta, entre segunda (2) e terça (3), 23 novos surgiram.  Permanecem confirmados apenas 2 casos da doença no país, ambos no \n",
              "<mark class=\"entity\" style=\"background: #ff9561; padding: 0.45em 0.6em; margin: 0 0.25em; line-height: 1; border-radius: 0.35em;\">\n",
              "    estado de São Paulo\n",
              "    <span style=\"font-size: 0.8em; font-weight: bold; line-height: 1; border-radius: 0.35em; vertical-align: middle; margin-left: 0.5rem\">LOC</span>\n",
              "</mark>\n",
              ". Os pacientes estão em quarentena domiciliar. Ambos estiveram em viagem na \n",
              "<mark class=\"entity\" style=\"background: #ff9561; padding: 0.45em 0.6em; margin: 0 0.25em; line-height: 1; border-radius: 0.35em;\">\n",
              "    Itália\n",
              "    <span style=\"font-size: 0.8em; font-weight: bold; line-height: 1; border-radius: 0.35em; vertical-align: middle; margin-left: 0.5rem\">LOC</span>\n",
              "</mark>\n",
              ".  &quot;Os dois confirmados estão evoluindo bem clinicamente, mas ainda têm alguns sintomas que fazem com que eles continuem em isolamento domiciliar&quot;, salientou \n",
              "<mark class=\"entity\" style=\"background: #ddd; padding: 0.45em 0.6em; margin: 0 0.25em; line-height: 1; border-radius: 0.35em;\">\n",
              "    Paulo Menezes\n",
              "    <span style=\"font-size: 0.8em; font-weight: bold; line-height: 1; border-radius: 0.35em; vertical-align: middle; margin-left: 0.5rem\">PER</span>\n",
              "</mark>\n",
              ", coordenador do comitê de operações emergenciais (COE) da \n",
              "<mark class=\"entity\" style=\"background: #ddd; padding: 0.45em 0.6em; margin: 0 0.25em; line-height: 1; border-radius: 0.35em;\">\n",
              "    Secretaria Estadual de Saúde\n",
              "    <span style=\"font-size: 0.8em; font-weight: bold; line-height: 1; border-radius: 0.35em; vertical-align: middle; margin-left: 0.5rem\">MISC</span>\n",
              "</mark>\n",
              ".  O número de pessoas que tiveram contato com o segundo caso confirmado não foi divulgado pela secretaria. No primeiro caso confirmado, eram 34 pessoas, entre passageiros do voo e familiares do paciente.  “Existem contactantes [do segundo caso], eles estão sendo monitorados, mas a gente não está divulgando mais números de contactantes por conta da privacidade das pessoas”, disse \n",
              "<mark class=\"entity\" style=\"background: #ddd; padding: 0.45em 0.6em; margin: 0 0.25em; line-height: 1; border-radius: 0.35em;\">\n",
              "    Paulo Menezes\n",
              "    <span style=\"font-size: 0.8em; font-weight: bold; line-height: 1; border-radius: 0.35em; vertical-align: middle; margin-left: 0.5rem\">PER</span>\n",
              "</mark>\n",
              ", coordenador do comitê de operações emergenciais (COE) do estado.  O secretário estadual de saúde destaca ainda que o segundo paciente confirmado foi cauteloso assim que percebeu os primeiros sintomas. “Ele foi muito cuidadoso colocou máscara antes do voo e foi pro hospital”, disse o secretário \n",
              "<mark class=\"entity\" style=\"background: #ddd; padding: 0.45em 0.6em; margin: 0 0.25em; line-height: 1; border-radius: 0.35em;\">\n",
              "    José Henrique Germann\n",
              "    <span style=\"font-size: 0.8em; font-weight: bold; line-height: 1; border-radius: 0.35em; vertical-align: middle; margin-left: 0.5rem\">PER</span>\n",
              "</mark>\n",
              ".  Participaram do evento também o coordenador do \n",
              "<mark class=\"entity\" style=\"background: #ff9561; padding: 0.45em 0.6em; margin: 0 0.25em; line-height: 1; border-radius: 0.35em;\">\n",
              "    Centro de Contingenciamento de Emergências\n",
              "    <span style=\"font-size: 0.8em; font-weight: bold; line-height: 1; border-radius: 0.35em; vertical-align: middle; margin-left: 0.5rem\">LOC</span>\n",
              "</mark>\n",
              " para o coronavírus do estado, o médico \n",
              "<mark class=\"entity\" style=\"background: #ddd; padding: 0.45em 0.6em; margin: 0 0.25em; line-height: 1; border-radius: 0.35em;\">\n",
              "    David Uip\n",
              "    <span style=\"font-size: 0.8em; font-weight: bold; line-height: 1; border-radius: 0.35em; vertical-align: middle; margin-left: 0.5rem\">PER</span>\n",
              "</mark>\n",
              ", o secretário estadual de saúde, \n",
              "<mark class=\"entity\" style=\"background: #ddd; padding: 0.45em 0.6em; margin: 0 0.25em; line-height: 1; border-radius: 0.35em;\">\n",
              "    José Henrique Germann\n",
              "    <span style=\"font-size: 0.8em; font-weight: bold; line-height: 1; border-radius: 0.35em; vertical-align: middle; margin-left: 0.5rem\">PER</span>\n",
              "</mark>\n",
              ", e \n",
              "<mark class=\"entity\" style=\"background: #ddd; padding: 0.45em 0.6em; margin: 0 0.25em; line-height: 1; border-radius: 0.35em;\">\n",
              "    Helena Sato\n",
              "    <span style=\"font-size: 0.8em; font-weight: bold; line-height: 1; border-radius: 0.35em; vertical-align: middle; margin-left: 0.5rem\">PER</span>\n",
              "</mark>\n",
              ", coordenadora do \n",
              "<mark class=\"entity\" style=\"background: #7aecec; padding: 0.45em 0.6em; margin: 0 0.25em; line-height: 1; border-radius: 0.35em;\">\n",
              "    Centro de Vigilância Epidemiológica\n",
              "    <span style=\"font-size: 0.8em; font-weight: bold; line-height: 1; border-radius: 0.35em; vertical-align: middle; margin-left: 0.5rem\">ORG</span>\n",
              "</mark>\n",
              " (\n",
              "<mark class=\"entity\" style=\"background: #ff9561; padding: 0.45em 0.6em; margin: 0 0.25em; line-height: 1; border-radius: 0.35em;\">\n",
              "    CVE\n",
              "    <span style=\"font-size: 0.8em; font-weight: bold; line-height: 1; border-radius: 0.35em; vertical-align: middle; margin-left: 0.5rem\">LOC</span>\n",
              "</mark>\n",
              ") estadual.  Segundo \n",
              "<mark class=\"entity\" style=\"background: #ddd; padding: 0.45em 0.6em; margin: 0 0.25em; line-height: 1; border-radius: 0.35em;\">\n",
              "    Uip\n",
              "    <span style=\"font-size: 0.8em; font-weight: bold; line-height: 1; border-radius: 0.35em; vertical-align: middle; margin-left: 0.5rem\">PER</span>\n",
              "</mark>\n",
              ", o laboratório \n",
              "<mark class=\"entity\" style=\"background: #ddd; padding: 0.45em 0.6em; margin: 0 0.25em; line-height: 1; border-radius: 0.35em;\">\n",
              "    Adolfo Lutz\n",
              "    <span style=\"font-size: 0.8em; font-weight: bold; line-height: 1; border-radius: 0.35em; vertical-align: middle; margin-left: 0.5rem\">PER</span>\n",
              "</mark>\n",
              ", onde os testes são realizados, irá &quot;qualificar outros laboratórios&quot; para realizar o exame.  &quot;De ontem pra hoje, nós descartamos 56 daqueles 163. Já tiveram seus exames negativos. E tivemos a inclusão de notificações de 23 novas pessoas. Então somamos 130 casos suspeitos. São todos viajantes. Os casos suspeitos que tínhamos de contactantes dos casos confirmados já foram descartados&quot;, disse \n",
              "<mark class=\"entity\" style=\"background: #ddd; padding: 0.45em 0.6em; margin: 0 0.25em; line-height: 1; border-radius: 0.35em;\">\n",
              "    Menezes\n",
              "    <span style=\"font-size: 0.8em; font-weight: bold; line-height: 1; border-radius: 0.35em; vertical-align: middle; margin-left: 0.5rem\">PER</span>\n",
              "</mark>\n",
              ".  Segundo a metodologia da \n",
              "<mark class=\"entity\" style=\"background: #ddd; padding: 0.45em 0.6em; margin: 0 0.25em; line-height: 1; border-radius: 0.35em;\">\n",
              "    Secretaria Estadual de Saúde\n",
              "    <span style=\"font-size: 0.8em; font-weight: bold; line-height: 1; border-radius: 0.35em; vertical-align: middle; margin-left: 0.5rem\">MISC</span>\n",
              "</mark>\n",
              ", para um caso ser considerado suspeito é necessário que o paciente tenha apresentado, além dos sintomas, histórico de viagem ou contato com caso suspeito.  No sábado (29), a \n",
              "<mark class=\"entity\" style=\"background: #ddd; padding: 0.45em 0.6em; margin: 0 0.25em; line-height: 1; border-radius: 0.35em;\">\n",
              "    Secretaria Estadual de Saúde\n",
              "    <span style=\"font-size: 0.8em; font-weight: bold; line-height: 1; border-radius: 0.35em; vertical-align: middle; margin-left: 0.5rem\">MISC</span>\n",
              "</mark>\n",
              " e o \n",
              "<mark class=\"entity\" style=\"background: #ff9561; padding: 0.45em 0.6em; margin: 0 0.25em; line-height: 1; border-radius: 0.35em;\">\n",
              "    Ministério da Saúde\n",
              "    <span style=\"font-size: 0.8em; font-weight: bold; line-height: 1; border-radius: 0.35em; vertical-align: middle; margin-left: 0.5rem\">LOC</span>\n",
              "</mark>\n",
              " confirmaram o segundo caso de \n",
              "<mark class=\"entity\" style=\"background: #ff9561; padding: 0.45em 0.6em; margin: 0 0.25em; line-height: 1; border-radius: 0.35em;\">\n",
              "    coronavírus\n",
              "    <span style=\"font-size: 0.8em; font-weight: bold; line-height: 1; border-radius: 0.35em; vertical-align: middle; margin-left: 0.5rem\">LOC</span>\n",
              "</mark>\n",
              " no estado. Trata-se de um homem de 32 anos que reside em \n",
              "<mark class=\"entity\" style=\"background: #ff9561; padding: 0.45em 0.6em; margin: 0 0.25em; line-height: 1; border-radius: 0.35em;\">\n",
              "    São Paulo\n",
              "    <span style=\"font-size: 0.8em; font-weight: bold; line-height: 1; border-radius: 0.35em; vertical-align: middle; margin-left: 0.5rem\">LOC</span>\n",
              "</mark>\n",
              " e que chegou de \n",
              "<mark class=\"entity\" style=\"background: #ff9561; padding: 0.45em 0.6em; margin: 0 0.25em; line-height: 1; border-radius: 0.35em;\">\n",
              "    Milão\n",
              "    <span style=\"font-size: 0.8em; font-weight: bold; line-height: 1; border-radius: 0.35em; vertical-align: middle; margin-left: 0.5rem\">LOC</span>\n",
              "</mark>\n",
              ", na \n",
              "<mark class=\"entity\" style=\"background: #ff9561; padding: 0.45em 0.6em; margin: 0 0.25em; line-height: 1; border-radius: 0.35em;\">\n",
              "    Itália\n",
              "    <span style=\"font-size: 0.8em; font-weight: bold; line-height: 1; border-radius: 0.35em; vertical-align: middle; margin-left: 0.5rem\">LOC</span>\n",
              "</mark>\n",
              ", na quinta-feira (27).  Mesmo com a segunda confirmação, não há mudança da situação nacional, pois não existem evidências de circulação sustentada do vírus em território brasileiro.  A tendência é que, a partir dos próximos dias, o padrão de identificação dos casos suspeitos mude. Segundo \n",
              "<mark class=\"entity\" style=\"background: #ddd; padding: 0.45em 0.6em; margin: 0 0.25em; line-height: 1; border-radius: 0.35em;\">\n",
              "    Menezes\n",
              "    <span style=\"font-size: 0.8em; font-weight: bold; line-height: 1; border-radius: 0.35em; vertical-align: middle; margin-left: 0.5rem\">PER</span>\n",
              "</mark>\n",
              ", &quot;daqui a alguns dias nós vamos trabalhar por gravidade e não por procedência pra fazer a identificação dos casos suspeitos&quot;.  &quot;Eu concordo com o ministério da \n",
              "<mark class=\"entity\" style=\"background: #ff9561; padding: 0.45em 0.6em; margin: 0 0.25em; line-height: 1; border-radius: 0.35em;\">\n",
              "    Saúde\n",
              "    <span style=\"font-size: 0.8em; font-weight: bold; line-height: 1; border-radius: 0.35em; vertical-align: middle; margin-left: 0.5rem\">LOC</span>\n",
              "</mark>\n",
              ": eu acho que estamos em um momento de pandemia há dias. Meu sentimento pessoal é de que estamos em um momento pandêmico&quot;, salientou \n",
              "<mark class=\"entity\" style=\"background: #ddd; padding: 0.45em 0.6em; margin: 0 0.25em; line-height: 1; border-radius: 0.35em;\">\n",
              "    Uip\n",
              "    <span style=\"font-size: 0.8em; font-weight: bold; line-height: 1; border-radius: 0.35em; vertical-align: middle; margin-left: 0.5rem\">PER</span>\n",
              "</mark>\n",
              ".  A \n",
              "<mark class=\"entity\" style=\"background: #7aecec; padding: 0.45em 0.6em; margin: 0 0.25em; line-height: 1; border-radius: 0.35em;\">\n",
              "    Organização Mundial de Saúde\n",
              "    <span style=\"font-size: 0.8em; font-weight: bold; line-height: 1; border-radius: 0.35em; vertical-align: middle; margin-left: 0.5rem\">ORG</span>\n",
              "</mark>\n",
              " (\n",
              "<mark class=\"entity\" style=\"background: #7aecec; padding: 0.45em 0.6em; margin: 0 0.25em; line-height: 1; border-radius: 0.35em;\">\n",
              "    OMS\n",
              "    <span style=\"font-size: 0.8em; font-weight: bold; line-height: 1; border-radius: 0.35em; vertical-align: middle; margin-left: 0.5rem\">ORG</span>\n",
              "</mark>\n",
              ") é que define os critérios e se a doença é caracterizada ou não como pandemia.  O governo estadual lançou uma cartilha de orientação e prevenção do coronavírus em cinco idiomas - português, inglês, espanhol, italiano e chinês - na versão impressa e eletrônica. O estado irá liberar \n",
              "<mark class=\"entity\" style=\"background: #ff9561; padding: 0.45em 0.6em; margin: 0 0.25em; line-height: 1; border-radius: 0.35em;\">\n",
              "    R$\n",
              "    <span style=\"font-size: 0.8em; font-weight: bold; line-height: 1; border-radius: 0.35em; vertical-align: middle; margin-left: 0.5rem\">LOC</span>\n",
              "</mark>\n",
              " 30 milhões em recursos para as ações de prevenção e informação.  Após a confirmação de um caso, o governo estadual anunciou a criação de um centro de contingência para monitorar casos de coronavírus no estado. A função do centro de contingência é coordenar ações contra a propagação do \n",
              "<mark class=\"entity\" style=\"background: #ff9561; padding: 0.45em 0.6em; margin: 0 0.25em; line-height: 1; border-radius: 0.35em;\">\n",
              "    Covid-19\n",
              "    <span style=\"font-size: 0.8em; font-weight: bold; line-height: 1; border-radius: 0.35em; vertical-align: middle; margin-left: 0.5rem\">LOC</span>\n",
              "</mark>\n",
              ". O grupo é presidido pelo infectologista \n",
              "<mark class=\"entity\" style=\"background: #ddd; padding: 0.45em 0.6em; margin: 0 0.25em; line-height: 1; border-radius: 0.35em;\">\n",
              "    David Uip\n",
              "    <span style=\"font-size: 0.8em; font-weight: bold; line-height: 1; border-radius: 0.35em; vertical-align: middle; margin-left: 0.5rem\">PER</span>\n",
              "</mark>\n",
              " e conta com profissionais do \n",
              "<mark class=\"entity\" style=\"background: #ff9561; padding: 0.45em 0.6em; margin: 0 0.25em; line-height: 1; border-radius: 0.35em;\">\n",
              "    Instituto Butantan\n",
              "    <span style=\"font-size: 0.8em; font-weight: bold; line-height: 1; border-radius: 0.35em; vertical-align: middle; margin-left: 0.5rem\">LOC</span>\n",
              "</mark>\n",
              " e médicos das redes pública e privada, sob a supervisão do \n",
              "<mark class=\"entity\" style=\"background: #7aecec; padding: 0.45em 0.6em; margin: 0 0.25em; line-height: 1; border-radius: 0.35em;\">\n",
              "    Secretário de Estado da Saúde\n",
              "    <span style=\"font-size: 0.8em; font-weight: bold; line-height: 1; border-radius: 0.35em; vertical-align: middle; margin-left: 0.5rem\">ORG</span>\n",
              "</mark>\n",
              ", \n",
              "<mark class=\"entity\" style=\"background: #ddd; padding: 0.45em 0.6em; margin: 0 0.25em; line-height: 1; border-radius: 0.35em;\">\n",
              "    José Henrique Germann\n",
              "    <span style=\"font-size: 0.8em; font-weight: bold; line-height: 1; border-radius: 0.35em; vertical-align: middle; margin-left: 0.5rem\">PER</span>\n",
              "</mark>\n",
              ".  Nesta quinta-feira (27), o governo federal anunciou que vai antecipar para 23 de março a \n",
              "<mark class=\"entity\" style=\"background: #ddd; padding: 0.45em 0.6em; margin: 0 0.25em; line-height: 1; border-radius: 0.35em;\">\n",
              "    Campanha Nacional de Vacinação\n",
              "    <span style=\"font-size: 0.8em; font-weight: bold; line-height: 1; border-radius: 0.35em; vertical-align: middle; margin-left: 0.5rem\">MISC</span>\n",
              "</mark>\n",
              " contra a gripe – anteriormente, a abertura estava prevista para a segunda quinzena de abril.  A vacina contra a gripe não protege contra o novo coronavírus, mas, sim, contra tipos de influenza (família à qual pertence o \n",
              "<mark class=\"entity\" style=\"background: #ddd; padding: 0.45em 0.6em; margin: 0 0.25em; line-height: 1; border-radius: 0.35em;\">\n",
              "    H1N1\n",
              "    <span style=\"font-size: 0.8em; font-weight: bold; line-height: 1; border-radius: 0.35em; vertical-align: middle; margin-left: 0.5rem\">MISC</span>\n",
              "</mark>\n",
              ", por exemplo). E justamente por isso pode ajudar profissionais de saúde a diagnosticar – por eliminação – eventuais casos de \n",
              "<mark class=\"entity\" style=\"background: #ff9561; padding: 0.45em 0.6em; margin: 0 0.25em; line-height: 1; border-radius: 0.35em;\">\n",
              "    Covid-19\n",
              "    <span style=\"font-size: 0.8em; font-weight: bold; line-height: 1; border-radius: 0.35em; vertical-align: middle; margin-left: 0.5rem\">LOC</span>\n",
              "</mark>\n",
              ".  Quem for viajar aos locais com circulação do vírus deve evitar contato com pessoas doentes, animais (vivos ou mortos), e a circulação em mercados de animais e seus produtos. </div></span>"
            ]
          },
          "metadata": {}
        }
      ]
    },
    {
      "cell_type": "markdown",
      "source": [
        "## Retreino"
      ],
      "metadata": {
        "id": "rO6HWm1SG1HX"
      }
    },
    {
      "cell_type": "code",
      "source": [
        "#dados de treino. Note que para cada frase, a posição de uma determinada entidade.\n",
        "train_data = [\n",
        "(\"Em 04/12/1992 nasceu Buma\", [(3, 13, \"DATE\"), (21,25, \"PER\")]),\n",
        "(\"Data de início: 10/01/2018\", [(16, 26, \"DATE\")]),\n",
        "(\"Buma se mudou para Paris\", [(0,4,\"PER\"), (20,26, \"LOC\")]),\n",
        "(\"Paris cidade das luzes\", [(0,5, \"LOC\")]),\n",
        "(\"Buma nasceu em Contagem no dia 07/05/2018\", [(0,4,\"PER\"),(15,23,\"LOC\"),(31,41, \"DATE\")])\n",
        "]"
      ],
      "metadata": {
        "id": "EP5SYd38H1JW"
      },
      "execution_count": 40,
      "outputs": []
    },
    {
      "cell_type": "code",
      "source": [
        "nlp = spacy.load(\"pt_core_news_sm\")\n",
        "texto_nlp = nlp('Buma nasceu em Paris em 04/05/1995')\n",
        "displacy.render(texto_nlp, style='ent', jupyter=True)"
      ],
      "metadata": {
        "colab": {
          "base_uri": "https://localhost:8080/",
          "height": 52
        },
        "id": "DvgyS8vtKQ1T",
        "outputId": "97dd7f72-490a-4be1-9b1b-fc975bb75815"
      },
      "execution_count": 41,
      "outputs": [
        {
          "output_type": "display_data",
          "data": {
            "text/plain": [
              "<IPython.core.display.HTML object>"
            ],
            "text/html": [
              "<span class=\"tex2jax_ignore\"><div class=\"entities\" style=\"line-height: 2.5; direction: ltr\">Buma nasceu em \n",
              "<mark class=\"entity\" style=\"background: #ff9561; padding: 0.45em 0.6em; margin: 0 0.25em; line-height: 1; border-radius: 0.35em;\">\n",
              "    Paris\n",
              "    <span style=\"font-size: 0.8em; font-weight: bold; line-height: 1; border-radius: 0.35em; vertical-align: middle; margin-left: 0.5rem\">LOC</span>\n",
              "</mark>\n",
              " em 04/05/1995</div></span>"
            ]
          },
          "metadata": {}
        }
      ]
    },
    {
      "cell_type": "code",
      "source": [
        "from spacy.training import Example\n",
        "def train_spacy(data, iterations):\n",
        "    TRAIN_DATA = data\n",
        "    nlp = spacy.load(\"pt_core_news_sm\")\n",
        "    disabled_pipes = []\n",
        "    for pipe_name in nlp.pipe_names:\n",
        "        if pipe_name != 'ner':\n",
        "            nlp.disable_pipes(pipe_name)\n",
        "            disabled_pipes.append(pipe_name)\n",
        "\n",
        "    # get names of other pipes to disable them during training\n",
        "    optimizer = nlp.create_optimizer()\n",
        "    for _ in range(25):\n",
        "        random.shuffle(TRAIN_DATA)\n",
        "        for raw_text, entity_offsets in TRAIN_DATA:\n",
        "            doc = nlp.make_doc(raw_text)\n",
        "            example = Example.from_dict(doc, {\"entities\": entity_offsets})\n",
        "            nlp.update([example], sgd=optimizer)\n",
        "\n",
        "    for pipe_name in disabled_pipes:\n",
        "        nlp.enable_pipe(pipe_name)\n",
        "    return nlp"
      ],
      "metadata": {
        "id": "7AU9sXmJH7jH"
      },
      "execution_count": 42,
      "outputs": []
    },
    {
      "cell_type": "code",
      "source": [
        "modelo_novo = train_spacy(train_data, 30)"
      ],
      "metadata": {
        "colab": {
          "base_uri": "https://localhost:8080/"
        },
        "id": "ukSJ3CxSIAS_",
        "outputId": "d3e61b4c-2167-4a41-f019-6ffce55bfb07"
      },
      "execution_count": 43,
      "outputs": [
        {
          "output_type": "stream",
          "name": "stderr",
          "text": [
            "/usr/local/lib/python3.10/dist-packages/spacy/training/iob_utils.py:149: UserWarning: [W030] Some entities could not be aligned in the text \"Buma se mudou para Paris\" with entities \"[(0, 4, 'PER'), (20, 26, 'LOC')]\". Use `spacy.training.offsets_to_biluo_tags(nlp.make_doc(text), entities)` to check the alignment. Misaligned entities ('-') will be ignored during training.\n",
            "  warnings.warn(\n"
          ]
        }
      ]
    },
    {
      "cell_type": "code",
      "source": [
        "texto_nlp_novo = modelo_novo('Buma nasceu em Paris em 04/05/1995')"
      ],
      "metadata": {
        "id": "T1jsKZvjIDXo"
      },
      "execution_count": 44,
      "outputs": []
    },
    {
      "cell_type": "code",
      "source": [
        "displacy.render(texto_nlp_novo, style='ent', jupyter=True)"
      ],
      "metadata": {
        "colab": {
          "base_uri": "https://localhost:8080/",
          "height": 52
        },
        "id": "PIJ10XsKIDrm",
        "outputId": "8a511037-2082-438f-9316-5d0847290713"
      },
      "execution_count": 45,
      "outputs": [
        {
          "output_type": "display_data",
          "data": {
            "text/plain": [
              "<IPython.core.display.HTML object>"
            ],
            "text/html": [
              "<span class=\"tex2jax_ignore\"><div class=\"entities\" style=\"line-height: 2.5; direction: ltr\">\n",
              "<mark class=\"entity\" style=\"background: #ddd; padding: 0.45em 0.6em; margin: 0 0.25em; line-height: 1; border-radius: 0.35em;\">\n",
              "    Buma\n",
              "    <span style=\"font-size: 0.8em; font-weight: bold; line-height: 1; border-radius: 0.35em; vertical-align: middle; margin-left: 0.5rem\">PER</span>\n",
              "</mark>\n",
              " nasceu em \n",
              "<mark class=\"entity\" style=\"background: #ff9561; padding: 0.45em 0.6em; margin: 0 0.25em; line-height: 1; border-radius: 0.35em;\">\n",
              "    Paris\n",
              "    <span style=\"font-size: 0.8em; font-weight: bold; line-height: 1; border-radius: 0.35em; vertical-align: middle; margin-left: 0.5rem\">LOC</span>\n",
              "</mark>\n",
              " em \n",
              "<mark class=\"entity\" style=\"background: #bfe1d9; padding: 0.45em 0.6em; margin: 0 0.25em; line-height: 1; border-radius: 0.35em;\">\n",
              "    04/05/1995\n",
              "    <span style=\"font-size: 0.8em; font-weight: bold; line-height: 1; border-radius: 0.35em; vertical-align: middle; margin-left: 0.5rem\">DATE</span>\n",
              "</mark>\n",
              "</div></span>"
            ]
          },
          "metadata": {}
        }
      ]
    }
  ]
}