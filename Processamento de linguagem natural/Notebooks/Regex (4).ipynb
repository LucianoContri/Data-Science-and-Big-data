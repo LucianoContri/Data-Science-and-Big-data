{
  "nbformat": 4,
  "nbformat_minor": 0,
  "metadata": {
    "colab": {
      "provenance": []
    },
    "kernelspec": {
      "name": "python3",
      "display_name": "Python 3"
    },
    "language_info": {
      "name": "python"
    }
  },
  "cells": [
    {
      "cell_type": "markdown",
      "source": [
        "# Utilizando o pacote Re\n",
        "Principal pacote para trabalhar com expressões regulares em Python.\n",
        "\n",
        "## Função match\n",
        "Função do pacote capaz de identificar se, no inicio do texto, o padrão de expressão regular é identificado."
      ],
      "metadata": {
        "id": "RJIjRY7A2pID"
      }
    },
    {
      "cell_type": "code",
      "execution_count": null,
      "metadata": {
        "id": "XKm5k9AL2huD",
        "colab": {
          "base_uri": "https://localhost:8080/"
        },
        "outputId": "8f939684-c364-4562-a547-4812f4e47f37"
      },
      "outputs": [
        {
          "output_type": "stream",
          "name": "stdout",
          "text": [
            "Vamos encontrar Padrões nesta string!! \n",
            "Agora é a nossa primeira prática de NLP!! Vamos aprender a procurar padrões!! \n",
            "Belo Horizonte, 2000-12-01.\n"
          ]
        }
      ],
      "source": [
        "import re\n",
        "texto = \"Vamos encontrar Padrões nesta string!! \\nAgora é a nossa primeira prática de NLP!! Vamos aprender a procurar padrões!! \\nBelo Horizonte, 2000-12-01.\"\n",
        "print(texto)"
      ]
    },
    {
      "cell_type": "code",
      "source": [
        "re.match(\"Vamos\", texto)"
      ],
      "metadata": {
        "id": "V7AH6Ebo26Xq",
        "colab": {
          "base_uri": "https://localhost:8080/"
        },
        "outputId": "9ce16c50-2a3a-4a46-ff27-87a5de2720b2"
      },
      "execution_count": null,
      "outputs": [
        {
          "output_type": "execute_result",
          "data": {
            "text/plain": [
              "<re.Match object; span=(0, 5), match='Vamos'>"
            ]
          },
          "metadata": {},
          "execution_count": 2
        }
      ]
    },
    {
      "cell_type": "code",
      "source": [
        "re.match(\"encontrar\", texto)"
      ],
      "metadata": {
        "id": "M_bXfy_O280B"
      },
      "execution_count": null,
      "outputs": []
    },
    {
      "cell_type": "code",
      "source": [
        "re.match(\"vamos\", texto)"
      ],
      "metadata": {
        "id": "ba1NkeTm29m5"
      },
      "execution_count": null,
      "outputs": []
    },
    {
      "cell_type": "markdown",
      "source": [
        "## Função search\n",
        "Identifica o padrão, porém através de todo o texto."
      ],
      "metadata": {
        "id": "DCsoBHkv3Kg6"
      }
    },
    {
      "cell_type": "code",
      "source": [
        "re.search(\"Vamos\", texto)"
      ],
      "metadata": {
        "id": "IUQHTXKz3ME6",
        "colab": {
          "base_uri": "https://localhost:8080/"
        },
        "outputId": "a5d79378-242a-4376-a766-a2d08a1030da"
      },
      "execution_count": null,
      "outputs": [
        {
          "output_type": "execute_result",
          "data": {
            "text/plain": [
              "<re.Match object; span=(0, 5), match='Vamos'>"
            ]
          },
          "metadata": {},
          "execution_count": 5
        }
      ]
    },
    {
      "cell_type": "code",
      "source": [
        "re.search(\"encontrar\", texto)"
      ],
      "metadata": {
        "id": "Y-IlRJrp3Mj5",
        "colab": {
          "base_uri": "https://localhost:8080/"
        },
        "outputId": "6b76d096-e550-4bcc-a1f1-21f61f27b90b"
      },
      "execution_count": null,
      "outputs": [
        {
          "output_type": "execute_result",
          "data": {
            "text/plain": [
              "<re.Match object; span=(6, 15), match='encontrar'>"
            ]
          },
          "metadata": {},
          "execution_count": 6
        }
      ]
    },
    {
      "cell_type": "code",
      "source": [
        "re.search(\"vamos\", texto)"
      ],
      "metadata": {
        "id": "ENgdnMa73OKq"
      },
      "execution_count": null,
      "outputs": []
    },
    {
      "cell_type": "markdown",
      "source": [
        "## Findall\n",
        "\n",
        "Identifica todos os casos de um padrão de expressão regular no texto.\n",
        "\n",
        "Obs.: a função re.I é utilizada para ignorar case sensitive."
      ],
      "metadata": {
        "id": "XD9ZmsRB3Tgh"
      }
    },
    {
      "cell_type": "code",
      "source": [
        "print(texto)"
      ],
      "metadata": {
        "colab": {
          "base_uri": "https://localhost:8080/"
        },
        "id": "GS3D80n1VIBO",
        "outputId": "2c5da2a8-6edd-41cf-acff-c50ece7efe4e"
      },
      "execution_count": null,
      "outputs": [
        {
          "output_type": "stream",
          "name": "stdout",
          "text": [
            "Vamos encontrar Padrões nesta string!! \n",
            "Agora é a nossa primeira prática de NLP!! Vamos aprender a procurar padrões!! \n",
            "Belo Horizonte, 2000-12-01.\n"
          ]
        }
      ]
    },
    {
      "cell_type": "code",
      "source": [
        "re.findall(\"Vamos\", texto)"
      ],
      "metadata": {
        "id": "CwIa5dsh3P0q",
        "colab": {
          "base_uri": "https://localhost:8080/"
        },
        "outputId": "9a8a581c-e087-4cfe-f51f-3422689e17e2"
      },
      "execution_count": null,
      "outputs": [
        {
          "output_type": "execute_result",
          "data": {
            "text/plain": [
              "['Vamos', 'Vamos']"
            ]
          },
          "metadata": {},
          "execution_count": 9
        }
      ]
    },
    {
      "cell_type": "code",
      "source": [
        "re.findall(\"padrões\", texto)"
      ],
      "metadata": {
        "id": "lsh5B6XW3ZtS",
        "colab": {
          "base_uri": "https://localhost:8080/"
        },
        "outputId": "fbefacb6-df00-4c6d-c59c-41171f46fd53"
      },
      "execution_count": null,
      "outputs": [
        {
          "output_type": "execute_result",
          "data": {
            "text/plain": [
              "['padrões']"
            ]
          },
          "metadata": {},
          "execution_count": 10
        }
      ]
    },
    {
      "cell_type": "code",
      "source": [
        "re.findall(\"padrões\", texto, re.I)"
      ],
      "metadata": {
        "id": "rSkm6WNJ3ch6",
        "colab": {
          "base_uri": "https://localhost:8080/"
        },
        "outputId": "07a19455-ca71-4acd-b626-cb585a693d42"
      },
      "execution_count": null,
      "outputs": [
        {
          "output_type": "execute_result",
          "data": {
            "text/plain": [
              "['Padrões', 'padrões']"
            ]
          },
          "metadata": {},
          "execution_count": 11
        }
      ]
    },
    {
      "cell_type": "code",
      "source": [
        "re.findall(r'\\w+a\\w+', texto)"
      ],
      "metadata": {
        "id": "9sPjVnfk3e9y",
        "colab": {
          "base_uri": "https://localhost:8080/"
        },
        "outputId": "6a076e91-ee30-4c98-a5d5-d933f58ebec6"
      },
      "execution_count": null,
      "outputs": [
        {
          "output_type": "execute_result",
          "data": {
            "text/plain": [
              "['Vamos', 'encontrar', 'Padrões', 'Vamos', 'procurar', 'padrões']"
            ]
          },
          "metadata": {},
          "execution_count": 12
        }
      ]
    },
    {
      "cell_type": "markdown",
      "source": [
        "## Finditer\n",
        "\n",
        "Função que encontra todos os \"matchs\" de um padrão no texto"
      ],
      "metadata": {
        "id": "FHxcMd2v3kRc"
      }
    },
    {
      "cell_type": "code",
      "source": [
        "res = re.finditer(\"Vamos\", texto)\n",
        "lista_achado = [r for r in res]\n",
        "lista_achado"
      ],
      "metadata": {
        "id": "wlVLu8bE3lf6"
      },
      "execution_count": null,
      "outputs": []
    },
    {
      "cell_type": "code",
      "source": [
        "lista_achado[0].start()"
      ],
      "metadata": {
        "colab": {
          "base_uri": "https://localhost:8080/"
        },
        "id": "SH5jU4529ixS",
        "outputId": "fc3f06ea-a8bf-4878-ca24-c4c895950f51"
      },
      "execution_count": null,
      "outputs": [
        {
          "output_type": "execute_result",
          "data": {
            "text/plain": [
              "0"
            ]
          },
          "metadata": {},
          "execution_count": 44
        }
      ]
    },
    {
      "cell_type": "code",
      "source": [
        "lista_achado[0].end()"
      ],
      "metadata": {
        "colab": {
          "base_uri": "https://localhost:8080/"
        },
        "id": "e48JkIgs9xAl",
        "outputId": "b1d43253-6298-44bf-9827-a345960d7a30"
      },
      "execution_count": null,
      "outputs": [
        {
          "output_type": "execute_result",
          "data": {
            "text/plain": [
              "5"
            ]
          },
          "metadata": {},
          "execution_count": 45
        }
      ]
    },
    {
      "cell_type": "markdown",
      "source": [
        "##Split\n",
        "\n",
        "Quebra uma string através de um padrão"
      ],
      "metadata": {
        "id": "cay3zFUg3rS6"
      }
    },
    {
      "cell_type": "code",
      "source": [
        "texto.split('\\n')"
      ],
      "metadata": {
        "colab": {
          "base_uri": "https://localhost:8080/"
        },
        "id": "-J-i7ay5V532",
        "outputId": "5bfac18b-8400-4442-83a5-5b37d1bbcfc6"
      },
      "execution_count": null,
      "outputs": [
        {
          "output_type": "execute_result",
          "data": {
            "text/plain": [
              "['Vamos encontrar Padrões nesta string!! ',\n",
              " 'Agora é a nossa primeira prática de NLP!! Vamos aprender a procurar padrões!! ',\n",
              " 'Belo Horizonte, 2000-12-01.']"
            ]
          },
          "metadata": {},
          "execution_count": 14
        }
      ]
    },
    {
      "cell_type": "code",
      "source": [
        "re.split('\\n',texto)"
      ],
      "metadata": {
        "id": "0FmFi9Cs3tFQ",
        "colab": {
          "base_uri": "https://localhost:8080/"
        },
        "outputId": "70991aae-7c5d-4aa1-bcab-c3e76d55d423"
      },
      "execution_count": null,
      "outputs": [
        {
          "output_type": "execute_result",
          "data": {
            "text/plain": [
              "['Vamos encontrar Padrões nesta string!! ',\n",
              " 'Agora é a nossa primeira prática de NLP!! Vamos aprender a procurar padrões!! ',\n",
              " 'Belo Horizonte, 2000-12-01.']"
            ]
          },
          "metadata": {},
          "execution_count": 15
        }
      ]
    },
    {
      "cell_type": "markdown",
      "source": [
        "## Sub\n",
        "\n",
        "Subsitui os pontos identificados no padrão por uma outra string."
      ],
      "metadata": {
        "id": "dej1JR6x3v5P"
      }
    },
    {
      "cell_type": "code",
      "source": [
        "re.sub('\\d+', 'numero', texto)"
      ],
      "metadata": {
        "colab": {
          "base_uri": "https://localhost:8080/",
          "height": 36
        },
        "id": "FI9ORp-XWDuH",
        "outputId": "7e6fe335-dc5d-4ea2-c77f-3f4c98da6ded"
      },
      "execution_count": null,
      "outputs": [
        {
          "output_type": "execute_result",
          "data": {
            "text/plain": [
              "'Vamos encontrar Padrões nesta string!! \\nAgora é a nossa primeira prática de NLP!! Vamos aprender a procurar padrões!! \\nBelo Horizonte, numero-numero-numero.'"
            ],
            "application/vnd.google.colaboratory.intrinsic+json": {
              "type": "string"
            }
          },
          "metadata": {},
          "execution_count": 16
        }
      ]
    },
    {
      "cell_type": "code",
      "source": [
        "re.sub('\\w+a\\w+', 'a-word', texto)"
      ],
      "metadata": {
        "id": "tyXVzT0d3tjC",
        "colab": {
          "base_uri": "https://localhost:8080/",
          "height": 36
        },
        "outputId": "a2f7bc48-a6f7-471d-ba71-ea4cb3c7cc3c"
      },
      "execution_count": null,
      "outputs": [
        {
          "output_type": "execute_result",
          "data": {
            "text/plain": [
              "'a-word a-word a-word nesta string!! \\nAgora é a nossa primeira prática de NLP!! a-word aprender a a-word a-word!! \\nBelo Horizonte, 2000-12-01.'"
            ],
            "application/vnd.google.colaboratory.intrinsic+json": {
              "type": "string"
            }
          },
          "metadata": {},
          "execution_count": 17
        }
      ]
    },
    {
      "cell_type": "markdown",
      "source": [
        "## Subn\n",
        "\n",
        "Mesma operação que sub, porém retorna o número de substituições realizadas"
      ],
      "metadata": {
        "id": "oyiH9XyJ3xko"
      }
    },
    {
      "cell_type": "code",
      "source": [
        "re.subn('\\w+a\\w+', 'a-word', texto)"
      ],
      "metadata": {
        "id": "PsWgMz1M34Sv",
        "colab": {
          "base_uri": "https://localhost:8080/"
        },
        "outputId": "5c83b796-2faa-4ac7-e2cf-e56d15b398e7"
      },
      "execution_count": null,
      "outputs": [
        {
          "output_type": "execute_result",
          "data": {
            "text/plain": [
              "('a-word a-word a-word nesta string!! \\nAgora é a nossa primeira prática de NLP!! a-word aprender a a-word a-word!! \\nBelo Horizonte, 2000-12-01.',\n",
              " 6)"
            ]
          },
          "metadata": {},
          "execution_count": 18
        }
      ]
    },
    {
      "cell_type": "markdown",
      "source": [
        "## Exercícios"
      ],
      "metadata": {
        "id": "tx_JHNiV38_V"
      }
    },
    {
      "cell_type": "markdown",
      "source": [
        "1. Escreva uma expressão regular para verificar se uma string contém apenas um determinado conjunto de caracteres a-z A-Z 0-9."
      ],
      "metadata": {
        "id": "73DN-CZG4VNd"
      }
    },
    {
      "cell_type": "code",
      "source": [
        "string1 = \"ABCDEFabcdef123450\"\n",
        "string2 = \"*&%@#!}{\"\n",
        "string3 = \"A,BCDEFabcdef123450\""
      ],
      "metadata": {
        "id": "Q3veLCqQ4TDB"
      },
      "execution_count": null,
      "outputs": []
    },
    {
      "cell_type": "markdown",
      "source": [
        "### Solução"
      ],
      "metadata": {
        "id": "SCfcsD3r-L67"
      }
    },
    {
      "cell_type": "code",
      "source": [],
      "metadata": {
        "id": "iAGgzHIFBAs5"
      },
      "execution_count": null,
      "outputs": []
    },
    {
      "cell_type": "markdown",
      "source": [
        "2. Escreva um expressão regular que corresponda a uma sequência que tenha uma letra \"a\" seguida por um ou mais letras b."
      ],
      "metadata": {
        "id": "D_zzpBb74Zrp"
      }
    },
    {
      "cell_type": "code",
      "source": [
        "string1 = \"abc\"\n",
        "string2 = \"aacb\"\n",
        "string3 = \"abbc\"\n",
        "string4 = \"bb\"\n",
        "string5 = \"aabc\""
      ],
      "metadata": {
        "id": "XFZKb7tc4bSm"
      },
      "execution_count": null,
      "outputs": []
    },
    {
      "cell_type": "markdown",
      "source": [
        "### Solução"
      ],
      "metadata": {
        "id": "Y7J0CL6J-XHx"
      }
    },
    {
      "cell_type": "code",
      "source": [],
      "metadata": {
        "id": "VPcDMuTcBCkR"
      },
      "execution_count": null,
      "outputs": []
    },
    {
      "cell_type": "markdown",
      "source": [
        "3. Escreva uma expressão para dividir uma string em letras maiúsculas"
      ],
      "metadata": {
        "id": "nIOo-zfV4eKj"
      }
    },
    {
      "cell_type": "code",
      "source": [
        "string = \"ExercídiosExpressãoRegularAA\""
      ],
      "metadata": {
        "id": "YDTkyeUd4fIf"
      },
      "execution_count": null,
      "outputs": []
    },
    {
      "cell_type": "markdown",
      "source": [
        "### Solução"
      ],
      "metadata": {
        "id": "PsEX5421-e-3"
      }
    },
    {
      "cell_type": "code",
      "source": [],
      "metadata": {
        "id": "d3Gh4EznBD3_"
      },
      "execution_count": null,
      "outputs": []
    },
    {
      "cell_type": "markdown",
      "source": [
        "4. Escreva uma expressão regular para remover as urls do texto:\n",
        "\n",
        "- Para realizar pesquisas de artigos acadêmicos use o Google Scholar: https://scholar.google.com.br/\n",
        "- Sempre mantenha seu linkedin atualizado: http://www.linkedin.com/"
      ],
      "metadata": {
        "id": "qwCcclHa4req"
      }
    },
    {
      "cell_type": "code",
      "source": [
        "texto1 = \"Para realizar pesquisas de artigos acadêmicos use o Google Scholar: https://scholar.google.com.br/\"\n",
        "texto2 = \"Sempre mantenha seu linkedin atualizado: https://www.linkedin.com/\""
      ],
      "metadata": {
        "id": "Pu4B4eA_4xvX"
      },
      "execution_count": null,
      "outputs": []
    },
    {
      "cell_type": "code",
      "source": [
        "retorno = \"Para realizar pesquisas de artigos acadêmicos use o Google Scholar: URL\""
      ],
      "metadata": {
        "id": "280ONEGkgA3j"
      },
      "execution_count": null,
      "outputs": []
    },
    {
      "cell_type": "markdown",
      "source": [
        "### Solução"
      ],
      "metadata": {
        "id": "BlWTALya-ifT"
      }
    },
    {
      "cell_type": "code",
      "source": [],
      "metadata": {
        "id": "072RKD5LBFIU"
      },
      "execution_count": null,
      "outputs": []
    },
    {
      "cell_type": "markdown",
      "source": [
        "5. Recupere todos os usuários da string abaixo"
      ],
      "metadata": {
        "id": "mAgMN3Np5CjD"
      }
    },
    {
      "cell_type": "code",
      "source": [
        "texto_exemplo_twitter = \"\"\"This is a @test of some cool features that @mi_asd be @use-ful but @dont.\n",
        "look at this email@address.com. @bla!\n",
        "I like #nylas but I don't like to go to this apple.com?a#url.\n",
        "I also don't like the ### comment blocks. But #msft is cool.\"\"\"\n",
        "texto_exemplo_twitter"
      ],
      "metadata": {
        "id": "Q_pRNSly5E1n",
        "colab": {
          "base_uri": "https://localhost:8080/",
          "height": 54
        },
        "outputId": "8d3118fc-100e-4128-b19d-cb4e95a1b5bf"
      },
      "execution_count": null,
      "outputs": [
        {
          "output_type": "execute_result",
          "data": {
            "text/plain": [
              "\"This is a @test of some cool features that @mi_asd be @use-ful but @dont.\\nlook at this email@address.com. @bla!\\nI like #nylas but I don't like to go to this apple.com?a#url.\\nI also don't like the ### comment blocks. But #msft is cool.\""
            ],
            "application/vnd.google.colaboratory.intrinsic+json": {
              "type": "string"
            }
          },
          "metadata": {},
          "execution_count": 34
        }
      ]
    },
    {
      "cell_type": "markdown",
      "source": [
        "### Solução"
      ],
      "metadata": {
        "id": "Ixv179lT-1OY"
      }
    },
    {
      "cell_type": "code",
      "source": [],
      "metadata": {
        "id": "lBZsIka5BGjc"
      },
      "execution_count": null,
      "outputs": []
    }
  ]
}