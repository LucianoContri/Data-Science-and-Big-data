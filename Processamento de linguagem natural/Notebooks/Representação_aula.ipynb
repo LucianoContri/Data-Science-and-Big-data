{
 "nbformat": 4,
 "nbformat_minor": 0,
 "metadata": {
  "kernelspec": {
   "display_name": "Python 3",
   "language": "python",
   "name": "python3"
  },
  "language_info": {
   "codemirror_mode": {
    "name": "ipython",
    "version": 3
   },
   "file_extension": ".py",
   "mimetype": "text/x-python",
   "name": "python",
   "nbconvert_exporter": "python",
   "pygments_lexer": "ipython3",
   "version": "3.6.5"
  },
  "colab": {
   "provenance": []
  }
 },
 "cells": [
  {
   "cell_type": "code",
   "metadata": {
    "id": "TfMtJgRJAC2s",
    "colab": {
     "base_uri": "https://localhost:8080/"
    },
    "outputId": "a9baa13d-3133-413c-c26f-56077b3e1653"
   },
   "source": [
    "!pip install nltk==3.5\n",
    "!pip install gensim\n",
    "!pip install umap-learn\n",
    "!pip install wikipedia\n",
    "!pip install unidecode"
   ],
   "execution_count": 2,
   "outputs": []
  },
  {
   "cell_type": "code",
   "metadata": {
    "id": "A6V8u14WAC26",
    "colab": {
     "base_uri": "https://localhost:8080/"
    },
    "outputId": "366570f0-7047-4374-da16-1abbf7648755"
   },
   "source": [
    "import re\n",
    "import nltk\n",
    "from nltk.util import ngrams\n",
    "from nltk.corpus import stopwords\n",
    "import wikipedia\n",
    "import string\n",
    "from unidecode import unidecode\n",
    "from nltk.tokenize import sent_tokenize\n",
    "from sklearn.feature_extraction.text import TfidfVectorizer\n",
    "from sklearn.feature_extraction.text import CountVectorizer\n",
    "import pandas as pd\n",
    "import urllib.request\n",
    "import bz2\n",
    "import gensim\n",
    "import warnings\n",
    "import numpy as np\n",
    "from gensim.models import word2vec\n",
    "from sklearn.manifold import TSNE\n",
    "from sklearn.decomposition import PCA\n",
    "from scipy.spatial import distance\n",
    "from sklearn.metrics.pairwise import cosine_similarity\n",
    "warnings.filterwarnings('ignore')\n",
    "nltk.download('punkt')\n",
    "\n",
    "import matplotlib.pyplot as plt\n",
    "%matplotlib inline"
   ],
   "execution_count": 3,
   "outputs": []
  },
  {
   "cell_type": "markdown",
   "metadata": {
    "id": "X2ZMw4zfAC3A"
   },
   "source": [
    "# Definição do Corpus"
   ]
  },
  {
   "cell_type": "markdown",
   "metadata": {
    "id": "Fumti3IlAC3B"
   },
   "source": [
    "## Base"
   ]
  },
  {
   "cell_type": "code",
   "metadata": {
    "id": "JhMedbmMAC3C"
   },
   "source": [
    "wikipedia.set_lang(\"pt\")\n",
    "bh = wikipedia.page(\"Belo Horizonte\")"
   ],
   "execution_count": 4,
   "outputs": []
  },
  {
   "cell_type": "code",
   "metadata": {
    "id": "eJ1WHOADAC3G"
   },
   "source": [
    "corpus = bh.content"
   ],
   "execution_count": 5,
   "outputs": []
  },
  {
   "cell_type": "code",
   "source": [
    "print(corpus)"
   ],
   "metadata": {
    "colab": {
     "base_uri": "https://localhost:8080/"
    },
    "id": "pn0mlRxfg6N5",
    "outputId": "baca4e99-1d78-4610-dade-a6b0e9df7371"
   },
   "execution_count": 6,
   "outputs": []
  },
  {
   "cell_type": "markdown",
   "metadata": {
    "id": "TxnmUk2NAC3M"
   },
   "source": [
    "Selecionamos algumas frases do corpus de BH da wikipedia.\n",
    "\n",
    "Conside a lista abaixo como nosso corpus de documentos. Cada elemento da lista, considere como um único documento."
   ]
  },
  {
   "cell_type": "code",
   "metadata": {
    "id": "Pd4pTiK0AC3M"
   },
   "source": [
    "documentos = \\\n",
    "[\"Belo Horizonte é um município brasileiro e a capital do estado de Minas Gerais\",\n",
    "\"A populacao de Belo Horizonte é estimada em 2 501 576 habitantes, conforme estimativas do Instituto Brasileiro de Geografia e Estatística\",\n",
    "\"Belo Horizonte já foi indicada pelo Population Crisis Commitee, da ONU, como a metrópole com melhor qualidade de vida na América Latina\",\n",
    "\"Belo Horizonte é mundialmente conhecida e exerce significativa influência nacional e até internacional, seja do ponto de vista cultural, econômico ou político\",\n",
    "\"Belo Horizonte é a capital do segundo estado mais populoso do Brasil, Minas Gerais\"]"
   ],
   "execution_count": 7,
   "outputs": []
  },
  {
   "cell_type": "markdown",
   "metadata": {
    "id": "G1vjVVoYAC3T"
   },
   "source": [
    "## Preprocessamento"
   ]
  },
  {
   "cell_type": "markdown",
   "metadata": {
    "id": "V_MuzVllAC3U"
   },
   "source": [
    "<b> Atividade </b>\n",
    "\n",
    "1) Escreva uma método que realiza o pré-processamento da lista de <b>documentos</b>.\n",
    "\n",
    "O método deve, para cada documento:\n",
    "- tokenizar cada palavra\n",
    "- remover stopwords\n",
    "- remover números\n",
    "- remover pontuções\n",
    "- remover acentos"
   ]
  },
  {
   "cell_type": "code",
   "source": [
    "from nltk.corpus import stopwords\n",
    "nltk.download(\"stopwords\")"
   ],
   "metadata": {
    "colab": {
     "base_uri": "https://localhost:8080/"
    },
    "id": "GFCuB_pCjhzM",
    "outputId": "9dd2b0b0-a3b6-48c7-ecb6-c9641136de14"
   },
   "execution_count": 8,
   "outputs": []
  },
  {
   "cell_type": "code",
   "source": [
    "nltk.word_tokenize(corpus, language='portuguese')\n",
    "portugues_stops = stopwords.words('portuguese')"
   ],
   "metadata": {
    "id": "-ZPu7sJwiJ0o"
   },
   "execution_count": 9,
   "outputs": []
  },
  {
   "cell_type": "code",
   "source": [
    "def pre_processamento(txt):\n",
    "  tokens = nltk.word_tokenize(txt, language='portuguese')\n",
    "  tokens = [t.lower() for t in tokens]\n",
    "  tokens = [t for t in tokens if t not in portugues_stops]\n",
    "  tokens = [re.sub('\\d', '', t) for t in tokens]\n",
    "  tokens = [t for t in tokens if t not in string.punctuation]\n",
    "  tokens = [unidecode(t) for t in tokens]\n",
    "  return tokens"
   ],
   "metadata": {
    "id": "ru8-yEn6AAax"
   },
   "execution_count": 10,
   "outputs": []
  },
  {
   "cell_type": "code",
   "source": [
    "documentos[1]"
   ],
   "metadata": {
    "colab": {
     "base_uri": "https://localhost:8080/",
     "height": 36
    },
    "id": "eJAVV8xxj0EX",
    "outputId": "6dca2595-9992-4e76-cb2a-4d8e212e89b5"
   },
   "execution_count": 11,
   "outputs": []
  },
  {
   "cell_type": "code",
   "source": [
    "pre_processamento(documentos[1])"
   ],
   "metadata": {
    "colab": {
     "base_uri": "https://localhost:8080/"
    },
    "id": "ozvVRPJSjoaP",
    "outputId": "959d76b4-bc96-4a0a-fe0c-abe2e6ea0189"
   },
   "execution_count": 12,
   "outputs": []
  },
  {
   "cell_type": "code",
   "source": [
    "doc_proc = [' '.join(pre_processamento(doc)) for doc in documentos]"
   ],
   "metadata": {
    "id": "OBieWj_nly2l"
   },
   "execution_count": 13,
   "outputs": []
  },
  {
   "cell_type": "code",
   "source": [
    "doc_proc"
   ],
   "metadata": {
    "colab": {
     "base_uri": "https://localhost:8080/"
    },
    "id": "onare7o1l8p6",
    "outputId": "6f2ee701-cbe1-4d8f-bd1c-b256fe6a1b84"
   },
   "execution_count": 14,
   "outputs": []
  },
  {
   "cell_type": "markdown",
   "metadata": {
    "id": "O9fbyAieAC3j"
   },
   "source": [
    "# Representação Textual"
   ]
  },
  {
   "cell_type": "markdown",
   "metadata": {
    "id": "jFHut-GWAC4L"
   },
   "source": [
    "## TD-IDF\n",
    "\n",
    "Dica de leitura: https://kavita-ganesan.com/tfidftransformer-tfidfvectorizer-usage-differences/#.XklQxnVKj7c\n",
    "\n",
    "Para representar o texto com TF-IDF utilizamos o TfidfVectorizer. A seguir apresentamos instruções sobre como utilizá-lo.\n",
    "\n",
    "```python\n",
    "#primeiro criamos o objeto\n",
    "vect = TfidfVectorizer()\n",
    "vect #aqui você pode observa todos os parâmetros que o objeto possui\n",
    "## Existem alguns parâmetros, opcionais, que podemos informar para uma possível melhora do nosso modelo. Por exemplo:\n",
    "### inclui 1-grams e 2-grams\n",
    "vect.set_params(ngram_range=(1, 2))\n",
    "### ignora termos que a aparecem em mais de 50% dos documentoss\n",
    "vect.set_params(max_df=0.5)\n",
    "### só considero termos que aparecem em ao menos 2 documentos\n",
    "vect.set_params(min_df=2)\n",
    "\n",
    "#depois aplicamos fit_transform para transformar o texto em números\n",
    "docs_tdidf = vect.fit_transform(docs)\n",
    "\n",
    "#o docs_tdidf é uma matriz com os números que representam cada um dos textos.\n",
    "## Conseguimos verificar a dimensão desta matriz:\n",
    "print(docs_tdidf.shape)\n",
    "\n",
    "#Para visualizar as features capturadas pelo TF-IDF utilize:\n",
    "print(vect.get_feature_names_out())\n",
    "#Para visualizar os vetores correspondentes a cada palavara utilize:\n",
    "df = pd.DataFrame(docs_tdidf.T.todense(), index=vect.get_feature_names_out(), columns=[\"doc\"+str(i+1) for i in range(0,len(docs))])\n",
    "df\n",
    "```"
   ]
  },
  {
   "cell_type": "markdown",
   "metadata": {
    "id": "jZD0n75gAC4M"
   },
   "source": [
    "<b> Atividade: </b>\n",
    "\n",
    "2) Faça o TDIFTVectorizer nos documentos da variável <b>documentos</b> sem alterar nenhum parâmetro."
   ]
  },
  {
   "cell_type": "code",
   "source": [
    "vect_tfidf = TfidfVectorizer()\n",
    "docs_tdidf = vect_tfidf.fit_transform(doc_proc)"
   ],
   "metadata": {
    "id": "vaf6rr2FACMv"
   },
   "execution_count": 15,
   "outputs": []
  },
  {
   "cell_type": "code",
   "source": [
    "docs_tdidf"
   ],
   "metadata": {
    "colab": {
     "base_uri": "https://localhost:8080/"
    },
    "id": "grmAI3BClDv8",
    "outputId": "dd64203e-2153-49c1-aa82-8e3e865e0c77"
   },
   "execution_count": 16,
   "outputs": []
  },
  {
   "cell_type": "markdown",
   "metadata": {
    "id": "AbTCuJzIAC4o"
   },
   "source": [
    "<b> Atividade </b>\n",
    "\n",
    "3) Imprima o shape do resultado da atividade 2"
   ]
  },
  {
   "cell_type": "code",
   "metadata": {
    "id": "YpTKpuG2AC4o",
    "colab": {
     "base_uri": "https://localhost:8080/"
    },
    "outputId": "a79556c4-b784-4441-b84e-ec7af67756af"
   },
   "source": [
    "docs_tdidf.shape"
   ],
   "execution_count": 17,
   "outputs": []
  },
  {
   "cell_type": "markdown",
   "metadata": {
    "id": "vQfYws4lAC4t"
   },
   "source": [
    "<b> Atividade </b>\n",
    "\n",
    "4) Imprima as features capturadas em 2."
   ]
  },
  {
   "cell_type": "code",
   "metadata": {
    "id": "RKR0svJ6AC4t",
    "colab": {
     "base_uri": "https://localhost:8080/"
    },
    "outputId": "4c26c0c8-ce2f-4a89-f656-8e41e9a7e95f"
   },
   "source": [
    "vect_tfidf.get_feature_names_out()"
   ],
   "execution_count": 18,
   "outputs": []
  },
  {
   "cell_type": "markdown",
   "metadata": {
    "id": "6kcdd6_IAC4x"
   },
   "source": [
    "5) Imprima os vetores correspondentes a cada palavra de cada documento."
   ]
  },
  {
   "cell_type": "code",
   "metadata": {
    "id": "znT-n2J5AC4x",
    "colab": {
     "base_uri": "https://localhost:8080/",
     "height": 1000
    },
    "outputId": "8ed5e8d3-ad5e-47ad-9f55-df0e2a602fc7"
   },
   "source": [
    "df = pd.DataFrame(docs_tdidf.T.todense(),\n",
    "                  index=vect_tfidf.get_feature_names_out(),\n",
    "                  columns=[\"doc\"+str(i+1) for i in range(0,len(documentos))])\n",
    "df"
   ],
   "execution_count": 19,
   "outputs": []
  },
  {
   "cell_type": "markdown",
   "metadata": {
    "id": "FF-ZevNeAC4-"
   },
   "source": [
    "## Bag of Words\n",
    "\n",
    "Para representar o bag of words utilizamos o CountVectorizer\n",
    "\n",
    "```python\n",
    "#primeiro criamos o objeto\n",
    "vect_bag = CountVectorizer(binary=False) #se binary = False -> ocorre a contagem da frequência em que a palavra aparece\n",
    "vect_bag #imprime os parâmetros\n",
    "\n",
    "```\n",
    "\n",
    "<b> Atividade </b>\n",
    "\n",
    "6) Faça o CountVectorizer nos documentos da variável <b>documentos</b> considerando binary = True"
   ]
  },
  {
   "cell_type": "code",
   "metadata": {
    "id": "phwSN_usAC4-",
    "colab": {
     "base_uri": "https://localhost:8080/",
     "height": 74
    },
    "outputId": "69f201a8-a7fe-4fe4-91aa-f17717f866b1"
   },
   "source": [
    "vect_bag = CountVectorizer(binary=True)\n",
    "vect_bag"
   ],
   "execution_count": 20,
   "outputs": []
  },
  {
   "cell_type": "markdown",
   "metadata": {
    "id": "z0ZNTXLWAC5I"
   },
   "source": [
    "<b> Atividade </b>\n",
    "\n",
    "7) Imprima o índice correspondente a cada token da lista retornada por vect_bag.get_feature_names_out()"
   ]
  },
  {
   "cell_type": "code",
   "metadata": {
    "id": "P3OOiwE-N_Uj",
    "colab": {
     "base_uri": "https://localhost:8080/"
    },
    "outputId": "15cde262-9b3d-408e-f86b-8328becf2a14"
   },
   "source": [
    "docs_bag = vect_bag.fit_transform(doc_proc)\n",
    "docs_bag"
   ],
   "execution_count": 21,
   "outputs": []
  },
  {
   "cell_type": "code",
   "source": [
    "df = pd.DataFrame(docs_bag.T.todense(),\n",
    "                  index=vect_bag.get_feature_names_out(),\n",
    "                  columns=[\"doc\"+str(i+1) for i in range(0,len(documentos))])\n",
    "df"
   ],
   "metadata": {
    "colab": {
     "base_uri": "https://localhost:8080/",
     "height": 1000
    },
    "id": "83iQ7ygVmkOX",
    "outputId": "de0bc3e4-0502-40ff-9db2-6ba72a88b6a7"
   },
   "execution_count": 22,
   "outputs": []
  },
  {
   "cell_type": "markdown",
   "metadata": {
    "id": "LbLt5-LiAC5v"
   },
   "source": [
    "## Embedding"
   ]
  },
  {
   "cell_type": "markdown",
   "metadata": {
    "id": "bEGWYtn4AC7P"
   },
   "source": [
    "### Treinando seu embedding\n",
    "\n",
    "Aqui vamos utilizar o corpus machado. São textos/contos escritos por Machado de Assis.\n",
    "Esse corpus é diponibilizado pelo NLTK."
   ]
  },
  {
   "cell_type": "code",
   "metadata": {
    "id": "Rdmp3F3OTl0B"
   },
   "source": [
    "from nltk.corpus import machado"
   ],
   "execution_count": 23,
   "outputs": []
  },
  {
   "cell_type": "code",
   "metadata": {
    "id": "PDebqiPkLE3h",
    "colab": {
     "base_uri": "https://localhost:8080/"
    },
    "outputId": "6eb0c08d-474b-47c6-bd31-1db4efce06a6"
   },
   "source": [
    "import nltk\n",
    "from nltk.corpus import machado\n",
    "nltk.download('machado')"
   ],
   "execution_count": 24,
   "outputs": []
  },
  {
   "cell_type": "code",
   "metadata": {
    "id": "EXFpVSHcRACL"
   },
   "source": [
    "raw_casmurro = machado.raw('contos/macn001.txt')"
   ],
   "execution_count": 25,
   "outputs": []
  },
  {
   "cell_type": "markdown",
   "metadata": {
    "id": "XHribhOLAC7m"
   },
   "source": [
    "O método ''machado_sents()'' retorna todo o texto quebrado pelas setenças e já tokenizado.\n",
    "\n",
    "As sentenças são separadas pelo \"\\n\". Dentro de cada sentença, divide os tokens separadas pelo espaço."
   ]
  },
  {
   "cell_type": "code",
   "metadata": {
    "id": "r15rrg-qAC7m",
    "colab": {
     "base_uri": "https://localhost:8080/"
    },
    "outputId": "90e2870b-fc55-4675-f734-518457f965a3"
   },
   "source": [
    "machado_sents = machado.sents()\n",
    "print(machado_sents)"
   ],
   "execution_count": 26,
   "outputs": []
  },
  {
   "cell_type": "code",
   "metadata": {
    "id": "b7kbw4m0tGoc",
    "colab": {
     "base_uri": "https://localhost:8080/"
    },
    "outputId": "e151e781-5112-4694-9652-066310d6fdc1"
   },
   "source": [
    "len(machado_sents)"
   ],
   "execution_count": 27,
   "outputs": []
  },
  {
   "cell_type": "markdown",
   "metadata": {
    "id": "Ek1UIrtOAC7s"
   },
   "source": [
    "Vamos relizar um pré-processamento mínimo nos dados. Lembrando que: o pré-processamento é impotatíssimo no resultado final.\n",
    "\n",
    "<b> Atividade </b>\n",
    "\n",
    "8) Aplique as técnicas abaixo no documento <b> machado_sents</b>:\n",
    "\n",
    "- lower\n",
    "- remoção pontuações"
   ]
  },
  {
   "cell_type": "code",
   "metadata": {
    "id": "ZxatcuCaAC7v"
   },
   "source": [
    "text_preproc = [[word.lower() for word in sentence if word not in string.punctuation ] for sentence in machado_sents]"
   ],
   "execution_count": 28,
   "outputs": []
  },
  {
   "cell_type": "markdown",
   "metadata": {
    "id": "RhJKgQwTAC72"
   },
   "source": [
    "<b> Treinando o embedding </b>\n",
    "\n",
    "Para treinar os embeddings existem alguns parâmetros, vide exemplo abaixo:\n",
    "\n",
    "```python\n",
    "#Alguns parâmetros:\n",
    "## size -> dimensão vetor\n",
    "## min_count -> ignora todas palavras cuja frequência mínima é menor que este\n",
    "## workers -> quantas threads serão utilizadas para treinar o modelo\n",
    "## seed -> seed para geração do numero aleatório.\n",
    "## sg -> 1 para skip-gram; caso contrário CBOW.\n",
    "## window -> contexto, Distância máxima entre a palavra atual e a prevista em uma frase. O default é 5.\n",
    "model = word2vec.Word2Vec(text_preproc, min_count=10, workers=4, seed=123, sg=1, vector_size=300, window=5)\n",
    "```\n",
    "\n",
    "<b> Atividade </b>\n",
    "\n",
    "9) Gere os embeddings com o texto processado do documento de Machado de Assis.\n"
   ]
  },
  {
   "cell_type": "code",
   "metadata": {
    "id": "3qJfsb_FAC75"
   },
   "source": [
    "model = word2vec.Word2Vec(text_preproc, min_count=10, workers=4, seed=123, sg=1, vector_size=300, window=5)"
   ],
   "execution_count": 29,
   "outputs": []
  },
  {
   "cell_type": "markdown",
   "metadata": {
    "id": "tvhul62-AC79"
   },
   "source": [
    "\n",
    "<b> Atividade </b>\n",
    "\n",
    "10) Faça os itens abaixo:\n",
    "\n",
    "- Verifique o vetor de embeddings da variável \"dom\"\n",
    "- Verifique a similaridade entre \"mulher\" e \"homem\"\n",
    "- Verifique a similaridade entre \"dom\" e \"casmurro\""
   ]
  },
  {
   "cell_type": "code",
   "source": [
    "model.wv['dom']"
   ],
   "metadata": {
    "id": "O3-gzJzoAX98",
    "colab": {
     "base_uri": "https://localhost:8080/"
    },
    "outputId": "3f868089-aa2a-4f79-e37a-a155a34c8d28"
   },
   "execution_count": 30,
   "outputs": []
  },
  {
   "cell_type": "code",
   "source": [
    "model.wv.similarity('mulher', 'homem')"
   ],
   "metadata": {
    "colab": {
     "base_uri": "https://localhost:8080/"
    },
    "id": "edOzYqs0O-YI",
    "outputId": "20258860-f3cd-4c82-8f07-abcff1818ac1"
   },
   "execution_count": 31,
   "outputs": []
  },
  {
   "cell_type": "code",
   "source": [
    "model.wv.similarity('dom', 'casmurro')"
   ],
   "metadata": {
    "colab": {
     "base_uri": "https://localhost:8080/"
    },
    "id": "3JxGaAMeO_zp",
    "outputId": "d941bb1a-e438-4876-e803-0c4d352d746a"
   },
   "execution_count": 32,
   "outputs": []
  },
  {
   "cell_type": "code",
   "source": [
    "model.wv.most_similar(positive=['mulher', 'rei'], negative=['homem'], topn=10)"
   ],
   "metadata": {
    "colab": {
     "base_uri": "https://localhost:8080/"
    },
    "id": "YK5De5s_PH8B",
    "outputId": "a5c69f13-1f28-4361-d350-144b2523746e"
   },
   "execution_count": 36,
   "outputs": []
  },
  {
   "cell_type": "code",
   "source": [
    "model.wv.most_similar(positive=['pai', 'avô'], negative=['mãe'], topn=10)"
   ],
   "metadata": {
    "colab": {
     "base_uri": "https://localhost:8080/"
    },
    "id": "FtPVjQorQxgg",
    "outputId": "bdbcb99c-dc6d-425f-b036-ee96eaac13b9"
   },
   "execution_count": 34,
   "outputs": []
  },
  {
   "cell_type": "code",
   "source": [
    "model.wv.most_similar('pai')"
   ],
   "metadata": {
    "colab": {
     "base_uri": "https://localhost:8080/"
    },
    "id": "BPaoERX0sCWx",
    "outputId": "8d13c542-7ae1-416a-b274-fb863b9bdce3"
   },
   "execution_count": 37,
   "outputs": []
  },
  {
   "cell_type": "markdown",
   "metadata": {
    "id": "xMjXdQ13AC8P"
   },
   "source": [
    "<b> Atividade </b>\n",
    "\n",
    "Dada as seguintes palavras:\n",
    "\n",
    "foi, relógio, amor, raiva, brasil.\n",
    "\n",
    "11) Escreva um método que retorne uma lista com as 5 palavras similares de cada uma das listadas anteriormente.\n",
    "Imprima a lista das palavras similares, incluindo a palavra origem."
   ]
  },
  {
   "cell_type": "code",
   "metadata": {
    "id": "0lwLgGoEAC8Q"
   },
   "source": [
    "def get_most_similar(modelo, word, max_n):\n",
    "    words_similares = modelo.wv.most_similar(word, topn=max_n)\n",
    "    words = [w[0] for w in words_similares]\n",
    "    words.append(word)\n",
    "    return words"
   ],
   "execution_count": 38,
   "outputs": []
  },
  {
   "cell_type": "code",
   "source": [
    "words_seed = [\"foi\", \"relógio\", \"amor\", \"raiva\", \"brasil\"]"
   ],
   "metadata": {
    "id": "wu1zJQC9P3Kc"
   },
   "execution_count": 39,
   "outputs": []
  },
  {
   "cell_type": "code",
   "source": [
    "for w in words_seed:\n",
    "    print(get_most_similar(model, w, 5))"
   ],
   "metadata": {
    "id": "Al7inGyCP4Pk",
    "colab": {
     "base_uri": "https://localhost:8080/"
    },
    "outputId": "cc568979-8c9b-4107-a047-0465185fa048"
   },
   "execution_count": 40,
   "outputs": []
  },
  {
   "cell_type": "markdown",
   "metadata": {
    "id": "sX5yNDdNAC8n"
   },
   "source": [
    "### Visualização"
   ]
  },
  {
   "cell_type": "markdown",
   "metadata": {
    "id": "q_8sL0sOAC8o"
   },
   "source": [
    "Para a visualização dos embeddings iremos  construir um array com todas as palavras retornadas anteriormente.\n",
    "\n",
    "<b> Atividade </b>\n",
    "\n",
    "12) Primeiro, gere uma única lista com todas as palavras retornadas anteriomente. O array deve ter tamanho 30."
   ]
  },
  {
   "cell_type": "code",
   "metadata": {
    "id": "V2mnmx59AC8o"
   },
   "source": [
    "all_words = []\n",
    "for w in words_seed:\n",
    "    all_words.extend(get_most_similar(model, w, 5))"
   ],
   "execution_count": null,
   "outputs": []
  },
  {
   "cell_type": "markdown",
   "metadata": {
    "id": "IhO4tuvyAC8w"
   },
   "source": [
    "13) Gere um array com todos os embeddings das palavras anteriores. Este terá dimensão (30,300)"
   ]
  },
  {
   "cell_type": "code",
   "metadata": {
    "id": "2T4mDJ_cAC8x"
   },
   "source": [
    "array_embeddings = np.empty((0,300), dtype='f')\n",
    "for w in all_words:\n",
    "    array_embeddings = np.append(array_embeddings, np.array([model.wv[w]]), axis=0)\n",
    "print(array_embeddings.shape)"
   ],
   "execution_count": null,
   "outputs": []
  },
  {
   "cell_type": "markdown",
   "metadata": {
    "id": "2YjvhwhEAC85"
   },
   "source": [
    "<b>Dica: </b> Use a função abaixo para plotar o array 2D que será gerado com o método PCA e TSNE"
   ]
  },
  {
   "cell_type": "code",
   "metadata": {
    "id": "stqEUCMSAC86"
   },
   "source": [
    "def plot_embedding_2d(array_2d, all_words, words_seed):\n",
    "    fig, ax = plt.subplots(1, 1, figsize=(12, 8))\n",
    "    for (x, y), w in zip(array_2d, all_words):\n",
    "        ax.scatter(x, y, c='red' if w in words_seed else 'blue')\n",
    "        ax.annotate(w,\n",
    "                     xy=(x, y),\n",
    "                     xytext=(5, 2),\n",
    "                     textcoords='offset points',\n",
    "                     ha='right',\n",
    "                     va='bottom')"
   ],
   "execution_count": null,
   "outputs": []
  },
  {
   "cell_type": "markdown",
   "metadata": {
    "id": "dPvF4mqEAC89"
   },
   "source": [
    "#### PCA\n",
    "\n",
    "<b> É uma ténica que existe a mais de século. É rápido, determinístico e linear. Essa linearidade limita sua utilidade em domínios complexos, como linguagem natural ou imagens, onde a estrutura não linear. </b>\n",
    "\n",
    "Mais informações: https://medium.com/towards-artificial-intelligence/machine-learning-dimensionality-reduction-via-principal-component-analysis-1bdc77462831\n",
    "\n",
    "\n",
    "<b> Atividade </b>\n",
    "\n",
    "14) Gere a visualização dos embeddings anteriores utilizando o PCA para reduzir a dimensionalidade.\n",
    "\n",
    "Exemplo do PCA:\n",
    "\n",
    "```python\n",
    "#uso de PCA\n",
    "pca = PCA(n_components=2)\n",
    "pca_result = pca.fit_transform(array_embeddings)\n",
    "```"
   ]
  },
  {
   "cell_type": "code",
   "metadata": {
    "id": "oWAa-eTPAC8-"
   },
   "source": [
    "pca = PCA(n_components=2)\n",
    "pca_result = pca.fit_transform(array_embeddings)"
   ],
   "execution_count": null,
   "outputs": []
  },
  {
   "cell_type": "code",
   "metadata": {
    "id": "pMUZ2lvnAC9C"
   },
   "source": [
    "plot_embedding_2d(pca_result, all_words, words_seed)"
   ],
   "execution_count": null,
   "outputs": []
  },
  {
   "cell_type": "markdown",
   "metadata": {
    "id": "DiydMeXhAC9G"
   },
   "source": [
    "#### TSNE\n",
    "<b> Uma técnica mais recente que captura estrutura não linear é o t-SNE, que significa distribuição estocástica de embedding viziznhos em t ( t-distributed Stochastic Neighbor Embedding).\n",
    "É uma ótima técnica para capturar a estrutura não linear em dados de alta dimensão(pelo menos em nível local). Isto é, dois pontos que são próximos no espaço de alta dimensão a probabilidade de estarem próximos em uma dimensão baixa é alta. </b>\n",
    "\n",
    "Mais informações: https://medium.com/@garora039/dimensionality-reduction-using-t-sne-effectively-cabb2cd519b\n",
    "\n",
    "<b> Atividade </b>\n",
    "\n",
    "15) Gere a visualização dos embeddings anteriores utilizando o TSNE para reduzir a dimensionalidade.\n",
    "\n",
    "Exemplo do TSNE:\n",
    "\n",
    "```python\n",
    "#uso de TSNE\n",
    "tsne = TSNE(n_components=2, random_state=0)\n",
    "tsne_result =  tsne.fit_transform(array_embeddings)\n",
    "```"
   ]
  },
  {
   "cell_type": "code",
   "metadata": {
    "id": "72DbLlFnAC9H"
   },
   "source": [
    "tsne = TSNE(n_components=2, random_state=0,perplexity=4)\n",
    "tsne_result =  tsne.fit_transform(array_embeddings)"
   ],
   "execution_count": null,
   "outputs": []
  },
  {
   "cell_type": "code",
   "metadata": {
    "id": "ebAZaFsgAC9M"
   },
   "source": [
    "plot_embedding_2d(tsne_result, all_words, words_seed)"
   ],
   "execution_count": null,
   "outputs": []
  },
  {
   "cell_type": "markdown",
   "source": [
    "# Similaridade de Documentos\n",
    "\n",
    "Para realizar a similaridade entre documentos, utilize as frases abaixo:"
   ],
   "metadata": {
    "id": "R09dCQ0B7R9J"
   }
  },
  {
   "cell_type": "code",
   "source": [
    "frase1 = \"Excelente produto chegou antes do prazo indico e recomendo produto bom pois já testei e foi mais que aprovado\"\n",
    "frase2 = \"SUPER RECOMENDO, PREÇO, QUALIDADE #BRASTEMP, EFICIÊNCIA NA ENTREGA, E FACILIDADE DE PAGAMENTO. MUITO BOM!!!\"\n",
    "frase3 = \"A tampa do fogão veio com problemas com o pino de encaixe solto e precisa de reparos\"\n",
    "frase4 = \"Fogão ótimo!\""
   ],
   "metadata": {
    "id": "4SzWSYti7VIp"
   },
   "execution_count": null,
   "outputs": []
  },
  {
   "cell_type": "markdown",
   "source": [
    "## Similaridade de Jaccard\n",
    "Divisão do número de tokens em comuns nas duas frases pelo tamanho do vocabulario das duas frases.\n",
    "<b> Atividade </b>\n",
    "\n",
    "16) Faça um método que calcule a similaridade de Jaccard e aplique para os seguintes pares de frases:\n",
    "\n",
    "- Frase1 e Frase2\n",
    "- Frase1 e Frase3\n",
    "- Frase2 e Frase3\n",
    "- Frase1 e Frase4"
   ],
   "metadata": {
    "id": "QyarEIOu7V3P"
   }
  },
  {
   "cell_type": "code",
   "source": [
    "def jaccard_sim(frase1, frase2):\n",
    "  ph1_tokens = pre_processamento_texto(frase1)\n",
    "  ph2_tokens = pre_processamento_texto(frase2)\n",
    "  s1 = set(ph1_tokens)\n",
    "  s2 = set(ph2_tokens)\n",
    "  return len(s1.intersection(s2)) / len(s1.union(s2))"
   ],
   "metadata": {
    "id": "g0KPH3-A9_DS"
   },
   "execution_count": null,
   "outputs": []
  },
  {
   "cell_type": "markdown",
   "source": [
    "## Distância e similaridade cosseno\n",
    "\n",
    "Aqui iremos calcular a distância e a similaridade utilizando embedding\n",
    "\n",
    "- Embedding"
   ],
   "metadata": {
    "id": "1fIAlq397s4I"
   }
  },
  {
   "cell_type": "code",
   "source": [
    "def embedding_da_frase(tokens_frase):\n",
    "  return np.mean(np.array([word_vectors[token] for token in tokens_frase if token in word_vectors.key_to_index]), axis=0)"
   ],
   "metadata": {
    "id": "3gFBOVa_70Yh"
   },
   "execution_count": null,
   "outputs": []
  },
  {
   "cell_type": "code",
   "source": [
    "frase1_emb = embedding_da_frase(frase1_pre)\n",
    "frase2_emb = embedding_da_frase(frase2_pre)"
   ],
   "metadata": {
    "id": "i7y6O6qmA7I4"
   },
   "execution_count": null,
   "outputs": []
  },
  {
   "cell_type": "code",
   "source": [
    "distance.cosine(frase1_emb, frase2_emb)"
   ],
   "metadata": {
    "id": "kVzXVgPkAz9e"
   },
   "execution_count": null,
   "outputs": []
  },
  {
   "cell_type": "code",
   "source": [
    "cosine_similarity(frase1_emb.reshape((1, 100)), frase2_emb.reshape((1, 100)))"
   ],
   "metadata": {
    "id": "A6_gpFnIA5y2"
   },
   "execution_count": null,
   "outputs": []
  },
  {
   "cell_type": "code",
   "source": [
    "distance.euclidean(frase1_emb, frase2_emb)"
   ],
   "metadata": {
    "id": "Ifm_bFbuA8oL"
   },
   "execution_count": null,
   "outputs": []
  }
 ]
}
