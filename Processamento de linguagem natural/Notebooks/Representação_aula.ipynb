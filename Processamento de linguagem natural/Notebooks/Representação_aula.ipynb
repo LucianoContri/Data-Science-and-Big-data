{
  "nbformat": 4,
  "nbformat_minor": 0,
  "metadata": {
    "kernelspec": {
      "display_name": "Python 3",
      "language": "python",
      "name": "python3"
    },
    "language_info": {
      "codemirror_mode": {
        "name": "ipython",
        "version": 3
      },
      "file_extension": ".py",
      "mimetype": "text/x-python",
      "name": "python",
      "nbconvert_exporter": "python",
      "pygments_lexer": "ipython3",
      "version": "3.6.5"
    },
    "colab": {
      "provenance": []
    }
  },
  "cells": [
    {
      "cell_type": "code",
      "metadata": {
        "id": "TfMtJgRJAC2s",
        "colab": {
          "base_uri": "https://localhost:8080/"
        },
        "outputId": "a9baa13d-3133-413c-c26f-56077b3e1653"
      },
      "source": [
        "!pip install nltk==3.5\n",
        "!pip install gensim\n",
        "!pip install umap-learn\n",
        "!pip install wikipedia\n",
        "!pip install unidecode"
      ],
      "execution_count": 2,
      "outputs": [
        {
          "output_type": "stream",
          "name": "stdout",
          "text": [
            "Requirement already satisfied: nltk==3.5 in /usr/local/lib/python3.10/dist-packages (3.5)\n",
            "Requirement already satisfied: click in /usr/local/lib/python3.10/dist-packages (from nltk==3.5) (8.1.7)\n",
            "Requirement already satisfied: joblib in /usr/local/lib/python3.10/dist-packages (from nltk==3.5) (1.4.2)\n",
            "Requirement already satisfied: regex in /usr/local/lib/python3.10/dist-packages (from nltk==3.5) (2023.12.25)\n",
            "Requirement already satisfied: tqdm in /usr/local/lib/python3.10/dist-packages (from nltk==3.5) (4.66.4)\n",
            "Requirement already satisfied: gensim in /usr/local/lib/python3.10/dist-packages (4.3.2)\n",
            "Requirement already satisfied: numpy>=1.18.5 in /usr/local/lib/python3.10/dist-packages (from gensim) (1.25.2)\n",
            "Requirement already satisfied: scipy>=1.7.0 in /usr/local/lib/python3.10/dist-packages (from gensim) (1.11.4)\n",
            "Requirement already satisfied: smart-open>=1.8.1 in /usr/local/lib/python3.10/dist-packages (from gensim) (6.4.0)\n",
            "Requirement already satisfied: umap-learn in /usr/local/lib/python3.10/dist-packages (0.5.6)\n",
            "Requirement already satisfied: numpy>=1.17 in /usr/local/lib/python3.10/dist-packages (from umap-learn) (1.25.2)\n",
            "Requirement already satisfied: scipy>=1.3.1 in /usr/local/lib/python3.10/dist-packages (from umap-learn) (1.11.4)\n",
            "Requirement already satisfied: scikit-learn>=0.22 in /usr/local/lib/python3.10/dist-packages (from umap-learn) (1.2.2)\n",
            "Requirement already satisfied: numba>=0.51.2 in /usr/local/lib/python3.10/dist-packages (from umap-learn) (0.58.1)\n",
            "Requirement already satisfied: pynndescent>=0.5 in /usr/local/lib/python3.10/dist-packages (from umap-learn) (0.5.12)\n",
            "Requirement already satisfied: tqdm in /usr/local/lib/python3.10/dist-packages (from umap-learn) (4.66.4)\n",
            "Requirement already satisfied: llvmlite<0.42,>=0.41.0dev0 in /usr/local/lib/python3.10/dist-packages (from numba>=0.51.2->umap-learn) (0.41.1)\n",
            "Requirement already satisfied: joblib>=0.11 in /usr/local/lib/python3.10/dist-packages (from pynndescent>=0.5->umap-learn) (1.4.2)\n",
            "Requirement already satisfied: threadpoolctl>=2.0.0 in /usr/local/lib/python3.10/dist-packages (from scikit-learn>=0.22->umap-learn) (3.5.0)\n",
            "Requirement already satisfied: wikipedia in /usr/local/lib/python3.10/dist-packages (1.4.0)\n",
            "Requirement already satisfied: beautifulsoup4 in /usr/local/lib/python3.10/dist-packages (from wikipedia) (4.12.3)\n",
            "Requirement already satisfied: requests<3.0.0,>=2.0.0 in /usr/local/lib/python3.10/dist-packages (from wikipedia) (2.31.0)\n",
            "Requirement already satisfied: charset-normalizer<4,>=2 in /usr/local/lib/python3.10/dist-packages (from requests<3.0.0,>=2.0.0->wikipedia) (3.3.2)\n",
            "Requirement already satisfied: idna<4,>=2.5 in /usr/local/lib/python3.10/dist-packages (from requests<3.0.0,>=2.0.0->wikipedia) (3.7)\n",
            "Requirement already satisfied: urllib3<3,>=1.21.1 in /usr/local/lib/python3.10/dist-packages (from requests<3.0.0,>=2.0.0->wikipedia) (2.0.7)\n",
            "Requirement already satisfied: certifi>=2017.4.17 in /usr/local/lib/python3.10/dist-packages (from requests<3.0.0,>=2.0.0->wikipedia) (2024.2.2)\n",
            "Requirement already satisfied: soupsieve>1.2 in /usr/local/lib/python3.10/dist-packages (from beautifulsoup4->wikipedia) (2.5)\n",
            "Requirement already satisfied: unidecode in /usr/local/lib/python3.10/dist-packages (1.3.8)\n"
          ]
        }
      ]
    },
    {
      "cell_type": "code",
      "metadata": {
        "id": "A6V8u14WAC26",
        "colab": {
          "base_uri": "https://localhost:8080/"
        },
        "outputId": "366570f0-7047-4374-da16-1abbf7648755"
      },
      "source": [
        "import re\n",
        "import nltk\n",
        "from nltk.util import ngrams\n",
        "from nltk.corpus import stopwords\n",
        "import wikipedia\n",
        "import string\n",
        "from unidecode import unidecode\n",
        "from nltk.tokenize import sent_tokenize\n",
        "from sklearn.feature_extraction.text import TfidfVectorizer\n",
        "from sklearn.feature_extraction.text import CountVectorizer\n",
        "import pandas as pd\n",
        "import urllib.request\n",
        "import bz2\n",
        "import gensim\n",
        "import warnings\n",
        "import numpy as np\n",
        "from gensim.models import word2vec\n",
        "from sklearn.manifold import TSNE\n",
        "from sklearn.decomposition import PCA\n",
        "from scipy.spatial import distance\n",
        "from sklearn.metrics.pairwise import cosine_similarity\n",
        "warnings.filterwarnings('ignore')\n",
        "nltk.download('punkt')\n",
        "\n",
        "import matplotlib.pyplot as plt\n",
        "%matplotlib inline"
      ],
      "execution_count": 3,
      "outputs": [
        {
          "output_type": "stream",
          "name": "stderr",
          "text": [
            "[nltk_data] Downloading package punkt to /root/nltk_data...\n",
            "[nltk_data]   Package punkt is already up-to-date!\n"
          ]
        }
      ]
    },
    {
      "cell_type": "markdown",
      "metadata": {
        "id": "X2ZMw4zfAC3A"
      },
      "source": [
        "# Definição do Corpus"
      ]
    },
    {
      "cell_type": "markdown",
      "metadata": {
        "id": "Fumti3IlAC3B"
      },
      "source": [
        "## Base"
      ]
    },
    {
      "cell_type": "code",
      "metadata": {
        "id": "JhMedbmMAC3C"
      },
      "source": [
        "wikipedia.set_lang(\"pt\")\n",
        "bh = wikipedia.page(\"Belo Horizonte\")"
      ],
      "execution_count": 4,
      "outputs": []
    },
    {
      "cell_type": "code",
      "metadata": {
        "id": "eJ1WHOADAC3G"
      },
      "source": [
        "corpus = bh.content"
      ],
      "execution_count": 5,
      "outputs": []
    },
    {
      "cell_type": "code",
      "source": [
        "print(corpus)"
      ],
      "metadata": {
        "colab": {
          "base_uri": "https://localhost:8080/"
        },
        "id": "pn0mlRxfg6N5",
        "outputId": "baca4e99-1d78-4610-dade-a6b0e9df7371"
      },
      "execution_count": 6,
      "outputs": [
        {
          "output_type": "stream",
          "name": "stdout",
          "text": [
            "Belo Horizonte é um município brasileiro e a capital do estado de Minas Gerais. Sua população é de 2 315 560 habitantes, segundo o censo de 2022, sendo o sexto município mais populoso do país, o terceiro da Região Sudeste e o primeiro de seu estado. Com uma área de aproximadamente 331 km², possui uma geografia diversificada, com morros e baixadas. Com uma distância de 716 quilômetros de Brasília, é a segunda capital de estado mais próxima da capital federal, depois de Goiânia.\n",
            "Cercada pela Serra do Curral, que lhe serve de moldura natural e referência histórica, foi planejada e construída para ser a capital política e administrativa do estado mineiro sob influência das ideias do positivismo, num momento de forte apelo da ideologia republicana no país. Sofreu um inesperado crescimento populacional acelerado, chegando a mais de um milhão de habitantes com quase setenta anos de fundação. Entre as décadas de 1930 e 1940, ocorreu também o avanço da industrialização, além de muitas construções de inspiração modernista, notadamente as casas do bairro Cidade Jardim, que ajudaram a definir a fisionomia da cidade.\n",
            "A capital mineira é sede da terceira concentração urbana mais populosa do país. Belo Horizonte já foi indicada pelo Population Crisis Commitee, da ONU, como a metrópole com melhor qualidade de vida na América Latina e a 45.ª entre as 100 melhores cidades do mundo (dados de 2008). Em 2010, a cidade gerou 1,4% do PIB do país, e, em 2013, era o quarto maior PIB entre os municípios brasileiros, responsável por 1,53% do total das riquezas produzidas no país. Uma evidência do desenvolvimento da cidade nos últimos tempos é a classificação da revista América Economía, na qual, já em 2009, Belo Horizonte aparecia como uma das dez melhores cidades latino-americanas para fazer negócios, segunda do Brasil (atrás de São Paulo) e à frente de cidades como Rio de Janeiro, Brasília e Curitiba.\n",
            "Belo Horizonte é classificada como uma metrópole e exerce significativa influência nacional, seja do ponto de vista cultural, econômico ou político. Conta com importantes monumentos, parques e museus, como o Museu de Arte da Pampulha, o Museu de Artes e Ofícios, o Museu de Ciências Naturais da PUC Minas, o Circuito Cultural Praça da Liberdade, o Conjunto Arquitetônico da Pampulha, o Mercado Central e a Savassi, e eventos de grande repercussão, como o Festival Internacional de Teatro, Palco e Rua (FIT-BH), o Verão Arte Contemporânea (VAC), o Festival Internacional de Curtas e o Encontro Internacional de Literaturas em Língua Portuguesa. É também nacionalmente conhecida como a \"capital nacional dos botecos\", por existirem mais bares per capita do que em qualquer outra grande cidade do Brasil.\n",
            "\n",
            "\n",
            "== Nome ==\n",
            "Logo após a proclamação da república, em 1889, os republicanos de Curral del Rei decidiram mudar o nome da vila. Em reunião numa casa próxima de onde fica a Igreja de Boa Viagem, sugeriram o nome Novo Horizonte. Por sugestão de Luiz Daniel Cornélio da Cerqueira, professor de português e responsável pela alfabetização de crianças da vila, foi considerado também o nome Belo Horizonte. Descartado pela maioria, o nome só foi adotado após escolha pessoal do então governador, João Pinheiro. Após a transferência da capital, Belo Horizonte passa a se chamar Cidade Minas, até que o nome sugerido por Luiz Daniel voltou a ser oficial em 1901. \n",
            "\n",
            "\n",
            "== História ==\n",
            "\n",
            "\n",
            "=== Povos nativos ===\n",
            "\n",
            "O reconhecimento da presença dos povos originários na região foi observado pelo padre João Aspicuelta Navarro, em 1555, por meio de uma carta que este redigiu sobre os nativos nos campos e nas florestas. A população originária que habitou o atual estado de Minas Gerais está relacionada com o tronco linguístico macro-jê, os povos conhecidos como tapuias, alcunha concedida pelos seus inimigos tupis. As ocupações indígenas no território mineiro, nos séculos XVI e XVII foram esparsas e comunidades com a mesma identificação ocupavam áreas distintas. Os povos que viveram mais próximos da atual cidade de Belo Horizonte foram os cataguás, goianás, guarachués e botocudos. Os cataguás ou cataguases eram tapuias, e foram um povo extremamente relevante para Minas Gerais, que marcavam presença no território desde o início do período colonial, visto que o estado era conhecido como Campos Gerais dos Cataguases e Minas Gerais dos Cataguases. \n",
            "Acerca da população dos goianás e guarachués não há muita informação escrita, pois foram menos documentados pelas fontes portuguesas e nacionais e sofreram a descontinuidade de seus saberes ancestrais, dado seu extermínio. Os goianás viviam nas áreas da comarca do Rio das Velhas, mais especificamente próximos ao rio. Por serem mais pacíficos e acessíveis ao convívio com o homem branco, lutaram ao lado dos bandeirantes nas batalhas travadas em Minas no século XVII. Os guarachués habitavam a região da comarca de Vila Rica e foram vítimas dos bandeirantes na busca pelo ouro. O termo significa guará vagaroso, pois estes andavam com os lobos guará.\n",
            "\n",
            "Os botocudos pertenciam ao tronco linguístico macro-jê e o nome se deve aos ornamentos que utilizavam no lábio e nas orelhas com rodelas, os botoques, uma designação pejorativa e generalizante de povos tão distintos. Outras denominações são boruns, aimorés e bugres. Uma das tradições que estes povos preservavam era o rito da antropofagia e eram considerados os “perigosíssimos ‘tapuais’ do período colonial”. A presença desses grupos é relatada desde o século XVI até XX por fontes históricas primárias, com designações variadas. Os botocudos eram um dos povos que não utilizavam louças de barro, o que diminui as informações acerca da alimentação, arte e vivência social que apresentavam. Além disso, os bugres eram povos nômades e se locomoviam constantemente pelo território. O nome dessa comunidade é generalista e estes integraram diversas outras tribos ao longo do tempo, entre estes, o que ocupou a região próxima à capital, a comunidade Pataxó.\n",
            "Os pataxós pertencem ao tronco macro-jê e são originários da região sul da Bahia. Sua existência foi documentada pela primeira vez em uma expedição de Salvador Correa de Sá em 1577, quando os encontrou nas proximidades do Rio Doce. Na contemporaneidade há uma diferenciação entre os grupos pataxós de Minas Gerais e da Bahia, sendo o último os Pataxó-hã-hã-hães. O nome é uma autodenominação utilizada por esse grupo, que se relaciona com a água. Além disso, seu idioma é o Patxohã, língua ancestral que querem avivar, que se integra na família linguística dos Maxakalí. Apesar de serem historicamente um povo seminômade, na atualidade estes vivem em regiões delimitadas. Uma das razões da migração dos nativos no século XX para o território mineiro é o Fogo de 51, uma ação violenta da polícia baiana contra a aldeia em que viviam, como também a demarcação do Parque Nacional do Monte Pascoal em 1961. Além, dos pataxós, outras populações indígenas vivem na Região Metropolitana de Belo Horizonte, a exemplo dos aranãs, xakriabás, kaxixós, karajás, guaranis e kamakã. Dados do censo do IBGE de 2010 indicam que mais de sete mil pessoas se identificaram como indígenas somente em Belo Horizonte.\n",
            "\n",
            "\n",
            "=== A fundação da capital ===\n",
            "\n",
            "Até o século XVI, o atual estado de Minas Gerais era habitado por índios do tronco linguístico macro-jê. A partir desse século, essas tribos foram quase exterminadas pela ação dos bandeirantes procedentes principalmente da vila de São Paulo de Piratininga, que chegaram à região em busca de escravos e de pedras preciosas.\n",
            "Na imensa faixa de terras ao largo do Rio das Velhas assenhoradas pelo bandeirante Paulista Bartolomeu Bueno da Silva (mais tarde Anhanguera II), veio seu primo e futuro genro, João Leite da Silva Ortiz, à procura de ouro. Ele ocupou, em 1701, a Serra dos Congonhas (mais tarde Serra do Curral) e suas encostas, onde estabeleceu a Fazenda do Cercado, base do núcleo do Curral del Rei. No local, desenvolveu uma pequena plantação e criou gado, com numerosa escravatura. O povoamento aos poucos foi se firmando, de forma tal que, em 1707, já aparecia citada em documentos oficiais. Em 1711, a carta de sesmaria foi obtida por Ortiz, com a concessão da área que \"começava do pé da Serra do Curral, até a Lagoinha, estrada que vai para os currais da Bahia, que será uma légua, e da dita estrada correndo para o rio das Velhas três léguas por encheio\". Conforme trecho da carta de sesmaria, à ortografia da época, concedida por Antônio Albuquerque Coelho de Carvalho:\n",
            "\n",
            "Ortiz dedicou-se especialmente ao plantio de roças, criação e negociação de gado, trabalhos de engenho e, provavelmente, a mineração de ouro nos córregos. O progresso da fazenda atraiu outros moradores, e um arraial começou a se formar, tornando-se um dos pontos de concentração dos rebanhos transitados pelo registro das Abóboras, vindos do sertão da Bahia e do São Francisco para o abastecimento das zonas auríferas.\n",
            "Apoiado na pequena lavoura, na criação e comercialização de gado e na fabricação de farinha, o arraial progrediu. A topografia da região favoreceu o estabelecimento de uma povoação dada à agricultura e à vida pastoril. Os habitantes deram o nome de Curral del Rei, por causa do cercado ou curral ali existente, em que se reunia o gado que havia pago as taxas do rei, segundo a tradição corrente. O arraial contava com umas 30 ou 40 cafuas cobertas de sapé e pindoba, entre as quais foi erguida uma capelinha situada à margem do córrego Acaba-Mundo (onde hoje se encontra a catedral), tendo à frente um cruzeiro e ao lado um rancho de tropas. Algumas poucas fábricas, ainda primitivas, instalaram-se na região, onde se produzia algodão e se fundia ferro e bronze. Das pedreiras, extraía-se granito e calcário, e frutas e madeiras eram comercializadas para outros locais. Das trinta ou quarenta famílias inicialmente existentes, a população saltou para a marca de 18 mil habitantes.\n",
            "Em 1750, por ordem da Coroa, foi criado o distrito de Nossa Senhora da Boa Viagem do Curral, então sede da freguesia do mesmo nome instituída de fato em 1718 em torno de capela ali construída pelo Padre Francisco Homem, filho de Miguel Garcia Velho. Elevado à condição de freguesia em 1780, mas ainda subordinado a Sabará, o Curral del Rei englobava as regiões (ou curatos) de Sete Lagoas, Contagem, Santa Quitéria (Esmeraldas), Buritis, Capela Nova do Betim, Piedade do Paraopeba, Brumado, Itatiaiuçu, Morro de Mateus Leme, Neves, Aranha e Rio Manso. No centro do arraial, os devotos ergueram a Matriz de Nossa Senhora da Boa Viagem. Com a extinção dos curatos, a jurisdição do Curral del Rei viu-se novamente reduzida ao primeiro arraial, com sua população de 2.500 habitantes, que chegou a 4 000 moradores já ao fim do século XIX.\n",
            "O seguinte trecho do relatório enviado à Cúria de Mariana pelo vigário Pe. Francisco de Paula Arantes, conservada a ortografia, relata a paisagem característica da região à época:\n",
            "\n",
            "Porém, enquanto Vila Rica, Sabará, Serro Frio e outros núcleos mineradores se constituíam em centros populosos e ricos, Curral del Rei e sua vocação para o comércio do gado sertanejo estacionou em seu desenvolvimento, não oferecendo lucro que fixasse ao solo uma população como a de outros lugares. O apogeu de Ouro Preto perdurou até o fim do século XVIII, quando as jazidas esgotaram-se e o ciclo do ouro deu lugar à pecuária e à agricultura, criando novos núcleos regionais e inaugurando uma nova identidade estadual.\n",
            "A então capital de Minas Gerais, a cidade de Ouro Preto, não apresentava alternativas viáveis ao desenvolvimento físico urbano, o que gerou a necessidade da transferência da capital para outra localidade. Com a República e a descentralização federal, as capitais tiveram maior relevo: ganhava vigor a ideia de mudança da sede do governo mineiro, pois a antiga Ouro Preto era travada pela topografia. O governador Augusto de Lima encaminhou  a questão ao Congresso Mineiro, que, reunido em Barbacena, em sessão de 17 de dezembro de 1893, indicou pela lei n. 3, adicional à Constituição Estadual, a disposição de que a mudança da capital ocorresse para local que reunisse as condições ideais. Cinco localidades foram sugeridas: Juiz de Fora, Barbacena, Paraúna, Várzea do Marçal e Belo Horizonte. A comissão técnica, chefiada pelo engenheiro Aarão Reis, julgou em igualdade de condições Belo Horizonte e Várzea do Marçal, decidindo-se ao final pela última localidade. Voltou o Congresso a se pronunciar, e depois de novos e extensivos debates, instituiu-se que a capital fosse construída nas terras do arraial de Belo Horizonte.\n",
            "O local escolhido oferecia condições ideais: estava no centro da unidade federativa, a 100 km de Ouro Preto, o que muito facilitava a mudança; acessível por todos os lados embora circundado de montanhas; rico em cursos d'água; possuidor de um clima ameno, numa altitude de 800 metros. A área destinada à nova capital parecia um grande anfiteatro entre as Serras do Curral e de Contagem, contando com excelentes condições climatológicas, protegida dos ventos frios e úmidos do sul e dos ventos quentes do norte, e arejada pelas correntes amenas do oriente que vinham da serra da Piedade ou das brisas férteis do oeste que vinham do vale do Rio Paraopeba. Era um grande vale cercado por rochas variadas e dobradas, com longa e perturbada história geológica, solos rasos, pouco desenvolvidos, de várias cores, às vezes arenosos e argilosos, com idade aproximada de 1 bilhão e 650 milhões de anos.\n",
            "Em 1893, o arraial foi elevado à categoria de município e capital de Minas Gerais, sob a denominação de Cidade de Minas. Em 1894, foi desmembrado do município de Sabará. No mesmo ano, os trabalhos de construção foram iniciados pela Comissão Construtora da Nova Capital, chefiada por Aarão Reis, com o prazo de 5 anos para o término dos trabalhos. Com o aumento populacional causado pela construção da Nova Capital, a administração da cidade se tornou mais complexa, o que exigia uma força policial para garantir a ordem e tranquilidade dos moradores. Nesse sentido, Aarão Reis tomou providências e o delegado especial de Sabará, capitão Antônio Lopes de Oliveira, que se tornaria mais conhecido como Major Lopes, assumiu a segurança do Arraial. Em maio de 1895, Aarão Reis foi substituído pelo engenheiro Francisco de Paula Bicalho. Em 12 de dezembro de 1897, em ato público solene, o então presidente de Minas, Crispim Jacques Bias Fortes, inaugurou a nova capital. A cidade, que já contava com 10 mil habitantes em sua inauguração, custou aos cofres estaduais a importância de 36 mil contos de réis. Em 1901, a Cidade de Minas teve seu nome modificado para o atual, em virtude da dualidade de nomes, já que o distrito e a comarca se chamavam Belo Horizonte.\n",
            "\n",
            "\n",
            "=== O projeto de Aarão Reis ===\n",
            "Projetada pelo engenheiro Aarão Reis entre 1894 e 1897, Belo Horizonte foi uma das primeiras cidades brasileiras planejadas (algumas fontes a citam como primeira; outras como terceira, após Teresina e Aracaju e até a quarta, sendo Petrópolis a primeira). Elementos chaves do seu traçado incluem uma malha perpendicular de ruas cortadas por avenidas em diagonal, quarteirões de dimensões regulares e uma avenida em torno de seu perímetro, a Avenida do Contorno. Trecho do relatório escrito por Aarão Reis, engenheiro-chefe da Comissão Construtora da Nova Capital, sobre a planta definitiva de Belo Horizonte, aprovada pelo Decreto nº 817 de 15 de abril de 1895:\n",
            "\n",
            "Entretanto, Aarão Reis não queria a cidade como um sistema que se expandiria indefinidamente. Entre a paisagem urbana e a natural foi prevista uma zona suburbana de transição, mais solta, que articulava os dois setores através de um bulevar circundante, a Avenida do Contorno, bastante flexível e que se integrava perfeitamente na composição essencial. A concepção do plano fundia as tradições urbanísticas americanas e europeias do século XIX. O tabuleiro de xadrez da primeira era corrigido por meio das amplas artérias oblíquas, e espaços vazios, uma preocupação constante com as perspectivas monumentais que provinha do Velho Mundo, com marcadas influências de Haussmann.\n",
            "\n",
            "Belo Horizonte surgia como uma tentativa de síntese urbana no final do século XIX. O objetivo de se criar uma das maiores cidades brasileiras do século XX era atingido. Porém, o plano de Belo Horizonte pertencia a sua época, seu conceito estava embasado em fundamentos do século anterior. O projeto da cidade foi inspirado no modelo das mais modernas cidades do mundo, como Paris e Washington. Os planos revelavam algumas preocupações básicas, como as condições de higiene e circulação humana. A cidade foi dividida em três principais zonas: a área central urbana, a área suburbana e a área rural.\n",
            "A área central urbana receberia toda a estrutura urbana de transportes, educação, saneamento e assistência médica, e abrigaria os edifícios públicos dos funcionários estaduais. Ali também deveriam se instalar os estabelecimentos comerciais. Seu limite era a Avenida do Contorno, que à época se chamava 17 de Dezembro. A região suburbana, formada por ruas irregulares, deveria ser ocupada mais tarde e não recebeu de imediato a infraestrutura urbana. A área rural seria composta por cinco colônias agrícolas com inúmeras chácaras e funcionaria como um cinturão verde, abastecendo a cidade com produtos hortigranjeiros.\n",
            "Para a concretização do projeto, o arraial de Curral del Rei foi completamente destruído, com a transferência de seus habitantes para outro local. Sem condições de adquirir os terrenos valorizados da área central, os antigos moradores foram empurrados para fora da cidade, principalmente para Venda Nova. Acreditava-se que os problemas sociais seriam evitados com a retirada dos operários após a conclusão das obras, o que na prática não ocorreu. A cidade foi inaugurada às pressas, ainda inacabada. Os operários, em meio às obras, não foram retirados e, sem lugar para ficar, formaram favelas na periferia da cidade, juntamente com os antigos moradores do Curral del Rei.\n",
            "\n",
            "\n",
            "=== A expansão ===\n",
            "\n",
            "A expansão urbana extrapolou em muito o plano original. Quando foi iniciada sua construção, os idealizadores do projeto previram que a cidade alcançaria a marca de 100 mil habitantes apenas quando completasse 100 anos. Essa falta de visão se repetiu em toda a história da cidade, que jamais teve um planejamento consistente que previsse os desafios da grande metrópole que se tornaria. A nova capital foi o maior problema do governo do Estado no início do regime: construída após vencer muitos obstáculos, ela permaneceu em relativa estagnação devido à crise financeira. Ligações ferroviárias com o sertão e o Rio de Janeiro puseram a cidade em comunicação com o interior e a capital do país. O desenvolvimento foi mínimo até 1922.\n",
            "Pelas proclamadas virtudes de seu clima, a cidade tornou-se atrativa, especialmente para o tratamento da tuberculose: multiplicaram-se os hospitais, pensões e hotéis, mas até 1930 exerceu função quase estritamente administrativa. Foi também na década de 1920 que surgiu em Belo Horizonte a geração de escritores de raro brilho que iria se destacar no cenário nacional. Carlos Drummond de Andrade, Ciro dos Anjos, Pedro Nava, Alberto Campos, Emílio Moura, João Alphonsus, Milton Campos, Belmiro Braga e Abgar Renault se encontravam no Bar do Ponto, na Confeitaria Estrela ou no Trianon para produzir os textos que revolucionaram a literatura brasileira. Nos anos 1930, Belo Horizonte se consolidava como capital, não isenta de críticas e de louvores. Deixava de ser uma teoria urbanística para ser uma conquista humana, algo para ser não somente visto, mas para ser vivido também. Nesta época o município já contava com 120 000 habitantes e passava por problemas de ocupação, gerando uma crise de carência de serviços públicos. Necessitava de um novo planejamento para que se recuperasse a cidade moderna.\n",
            "Entre as décadas de 1930 e 1940 ocorreu o avanço da industrialização, além da criação do Conjunto Arquitetônico da Pampulha, inaugurado em 1943 por encomenda do então prefeito Juscelino Kubitschek. O conjunto da Pampulha reuniu os maiores nomes do modernismo brasileiro, com projetos de Oscar Niemeyer, pinturas de Portinari, esculturas de Alfredo Ceschiatti e jardins de Roberto Burle Marx. Ao mesmo tempo, o arquiteto Sylvio de Vasconcellos também criou muitas construções de inspiração modernista, notadamente as casas do bairro Cidade Jardim, que ajudaram a definir a fisionomia da cidade.\n",
            "Na década de 1950, a população da cidade dobrou novamente, passando de 350 mil para 700 mil habitantes. Como resposta ao crescimento desordenado, o prefeito Américo René Gianetti deu início à elaboração de um Plano Diretor para Belo Horizonte. Na década de 1960, muitas demolições foram feitas, transformando o perfil da cidade, que passou, então, a ter arranha-céus e asfalto no lugar de árvores. Belo Horizonte ganhou ares de metrópole. A conurbação da cidade com municípios vizinhos se ampliou. Ainda neste período, a cidade atingiu mais de um milhão de habitantes. Nessa época, os espaços vazios do município praticamente se esgotaram e o crescimento populacional passou a se concentrar nos municípios conurbados a Belo Horizonte, como Sabará, Ibirité, Contagem, Betim, Ribeirão das Neves e Santa Luzia. Na tentativa de resolver os problemas causados pelo crescimento desordenado, foi instituída a Região Metropolitana de Belo Horizonte e foi criado o Plambel, que desencadeou diversas ações visando a conter o caos metropolitano.\n",
            "\n",
            "\n",
            "=== A história recente ===\n",
            "\n",
            "A década de 1980 foi marcada pela valorização da memória da cidade, com a alteração na orientação do crescimento. Vários edifícios de importância histórica foram tombados. Foi iniciada a implantação do metrô de superfície. Iniciada em 1984 e concluída em 1997, a canalização do Ribeirão Arrudas pôs fim ao problema das enchentes ao centro da capital. Contudo, vários problemas surgiram e alguns permaneceram. Um deles foi a degradação da Lagoa da Pampulha, um dos principais cartões-postais da cidade, que se tornara um lago praticamente morto devido à poluição de suas águas.\n",
            "A cidade foi palco ainda de grandes manifestações visando a queda da ditadura militar no Brasil, sob a liderança de Tancredo Neves, na época governador do estado. A fisionomia urbana foi novamente alterada com a proliferação de prédios em estilo pós-moderno, especialmente na afluente Zona Sul da cidade, graças à influência de um grupo de arquitetos liderado por Éolo Maia. Na mesma década, a cidade também passou a ser servida pelo Aeroporto Internacional de Confins, localizado no município de Confins, a 38 km do centro da capital.\n",
            "Em 1980, aproximadamente 850 000 pessoas tomaram a então Praça Israel Pinheiro (conhecida como Praça do Papa) para receber o próprio Papa João Paulo II. Diante da multidão de fiéis e da vista privilegiada da cidade, o papa ali exclamou: \"Pode-se olhar as montanhas e Belo Horizonte, mas sobretudo quando se olha para vocês, é que se deve dizer: que belo horizonte!\", o que provavelmente colaborou para que a praça ficasse conhecida hoje por este nome.\n",
            "\n",
            "No início da década de 90, a cidade era marcada pela pobreza e degradação, com 11% da sua população marcada pela miséria absoluta e com 20% das crianças sofrendo de desnutrição. O restante da década de 1990 foi marcada pela valorização dos espaços urbanos e pelo reforço da estrutura administrativa do município, com a aprovação em 1990 da Lei Orgânica do Município e do Plano Diretor da cidade, em 1996. A gestão municipal se democratizou com a realização anual do Orçamento participativo. O desafio ainda em curso diz respeito ao fortalecimento da gestão integrada da Região Metropolitana de Belo Horizonte, que reúne 34 municípios que devem cooperar entre si para a resolução de seus problemas comuns. Espaços públicos como a Praça da Liberdade, a Praça da Assembleia e o Parque Municipal, que se encontravam abandonados e desvalorizados, foram recuperados e a população voltou a frequentá-los e a cuidar de sua preservação.\n",
            "Desde o início do século XXI, Belo Horizonte tem se destacado pelo desenvolvimento do setor terciário da economia: o comércio, a prestação de serviços e setores de tecnologia de ponta (destaque para as áreas de biotecnologia e informática). Alguns dos investimentos recentes nesses setores são a implantação do Parque Tecnológico de Belo Horizonte, do Centro de Pesquisa e Desenvolvimento do Google para a América Latina e do centro de convenções Expominas.\n",
            "O turismo de eventos, com a realização de congressos, convenções, feiras, eventos técnico-científicos e exposições, tem fomentado o crescimento dos níveis de ocupação da rede hoteleira e do consumo dos serviços de bares, restaurantes e transportes. A cidade também vem experimentando sucesso no setor artístico-cultural, principalmente pela políticas públicas e privadas de estímulo desse setor, como a realização de eventos fixos em nível internacional e o crescimento do número de salas de espetáculos, cinemas e galerias de arte. Por tudo isso, a cada ano a cidade se consolida como um novo polo nacional de cultura.\n",
            "\n",
            "\n",
            "== Geografia ==\n",
            "\n",
            "De acordo com a divisão regional vigente desde 2017, instituída pelo IBGE, o município pertence às regiões geográficas intermediária e imediata de Belo Horizonte. Até então, com a vigência das divisões em microrregiões e mesorregiões, fazia parte da microrregião de Belo Horizonte, que por sua vez estava incluída na Mesorregião Metropolitana de Belo Horizonte.\n",
            "Belo Horizonte apresenta um relevo bem acidentado. Seu ponto culminante se localiza na Serra do Curral, dentro do Parque Estadual da Serra do Rola-Moça, com altitude máxima de 1 506 metros. Por outro lado, a altitude mais baixa é de 673 metros e está situada na foz do Ribeirão do Onça, que deságua no Rio das Velhas. A área oficial de Belo Horizonte, de acordo com a resolução mais recente do IBGE, é de 331,354 quilômetros quadrados (km²), porém a Empresa de Informática e Informação do Município de Belo Horizonte (PRODABEL), que pertence à prefeitura, fornece um valor um pouco maior, de 332,27 km².\n",
            "\n",
            "\n",
            "=== Hidrografia e geologia ===\n",
            "\n",
            "Localizado na Bacia do São Francisco, Belo Horizonte não é banhado por nenhum grande rio, mas por seu solo passam ribeirões e vários córregos, em sua maioria canalizados. A capital é atendida por duas sub-bacias, do Ribeirão Arrudas e do Ribeirão da Onça, afluentes do Rio das Velhas. O Ribeirão Arrudas atravessa a cidade de oeste para leste. Mais ao norte, integrando a bacia do Onça, corre o Ribeirão Pampulha, represado para formar o reservatório de igual nome, um dos recantos de turismo e lazer da cidade. O Ribeirão Arrudas deságua no município de Sabará e o Ribeirão da Onça no município de Santa Luzia, ambos no Rio das Velhas. Os trajetos dos córregos e ribeirões não foram utilizados como referências naturais na composição do traçado da área urbana planejada inicialmente, embora estivessem à vista em vários trechos da cidade em seus primeiros anos. Todos eles seriam progressivamente canalizados em seus percursos dentro do perímetro da Avenida do Contorno.\n",
            "Belo Horizonte está em uma região de contato entre séries geológicas diferentes do proterozoico, compostas de rochas cristalinas, o que dá ao território paisagens diferenciadas. Insere-se na grande unidade geológica conhecida como cráton do São Francisco, referente ao extenso núcleo crustal do centro-leste do Brasil, estável tectonicamente no final do paleoproterozoico e margeando áreas que sofreram regeneração no neoproterozoico. Predominam as rochas arqueanas integrantes do Complexo Belo Horizonte e sequências supracrustais do período paleoproterozoico. O domínio do Complexo Belo Horizonte integra a unidade geomorfológica denominada Depressão de Belo Horizonte, que representa cerca de 70% do território da capital mineira e tem sua área de maior expressão ao norte da calha do Ribeirão Arrudas.\n",
            "O domínio das sequências metassedimentares tem sua área de ocorrência a sul da calha do Ribeirão Arrudas, constituindo cerca de 30% do território de Belo Horizonte. As características deste domínio são as diversidades litológicas e o relevo acidentado que encontra expressão máxima na Serra do Curral, limite sul do município. Engloba uma sucessão de camadas de rochas de composição variada, representada por itabiritos, dolomitos, quartzitos, filitos e xistos diversos, de direção geral nordeste-sudeste e mergulho para o sudeste. As serras de Belo Horizonte são ramificações da Cordilheira do Espinhaço e pertencem ao grupo da Serra do Itacolomi. Contornando o município estão as Serras de Jatobá, José Vieira, Mutuca, Taquaril e Curral.\n",
            "\n",
            "\n",
            "=== Áreas verdes e problemas ambientais ===\n",
            "\n",
            "O Parque Municipal Américo Renné Giannetti é o mais antigo jardim público da cidade, inspirado nos parques franceses construídos durante a Belle Époque. Foi inaugurado em 1897, no terreno da antiga Chácara do Sapo, que pertencia a Aarão Reis, engenheiro responsável pelo planejamento de Belo Horizonte. São 50 espécies de árvores, emolduradas pelos arranha-céus do centro. Abriga ainda o orquidário municipal. No pé da Serra do Curral está localizada a maior área verde remanescente de Belo Horizonte, o Parque das Mangabeiras, um dos maiores parques urbanos da América Latina, possuindo 2,3 milhões de metros quadrados (m²).\n",
            "O Parque Ecológico Promotor Francisco Lins do Rego, ou Parque Ecológico da Pampulha, está localizado na Ilha da Ressaca, na Lagoa da Pampulha. Ocupa uma área de 300 000 m² quadrados, sendo outra importante área verde da capital. O Parque do Museu de História Natural da Universidade Federal de Minas Gerais foi criado em 1968 e ocupa uma área de 600 000 m², abrigando vários exemplares da flora (pau-brasil, sapucaia, barriguda) e fauna (mico-estrela, macaco-prego, saracura, jacu) originais da Mata Atlântica regional, que podem ser observados nas trilhas.\n",
            "Muitos destes parques são de responsabilidade do governo municipal. A Prefeitura de Belo Horizonte criou em 1983 a Secretaria Municipal de Meio Ambiente, com atribuições relativas à gestão da política ambiental do município, onde estão incluídas as funções de licenciamento, fiscalização, desenvolvimento e educação ambiental, além da administração dos parques, praças e jardins. Em 1985 foi instituído o Conselho Municipal de Meio Ambiente (COMAM), órgão colegiado, com função normativa e deliberativa, composto por representantes de diversos setores da sociedade.\n",
            "Belo Horizonte é uma das capitais mais arborizadas do país, sendo este um dos motivos de ter recebido o título de \"Cidade Jardim\". São aproximadamente 560 mil árvores na área urbana, número que sobe para dois milhões, quando considerados os parques e áreas de preservação. Ao todo são 27 parques, acrescentando-se cerca de 500 praças e diversas áreas verdes. A capital mineira possui o dobro do recomendado pela Organização Mundial da Saúde (OMS) de áreas verdes. Apesar disso, o município preserva pouco de sua vegetação original e, como ocorre em toda a região metropolitana, grande parte dos ambientes naturais foram extensamente modificados pelo homem. O desmatamento decorrente da expansão urbana muito colaborou com a destruição da Mata Atlântica de Belo Horizonte, bioma onde a cidade está localizada.\n",
            "Com o desenvolvimento industrial, também houve uma grande piora na qualidade do ar nos últimos anos. A Região Metropolitana de Belo Horizonte (RMBH) é a que mais emite ozônio no Brasil, segundo pesquisa divulgada pelo IBGE. Enquanto o padrão do Conselho Nacional do Meio Ambiente (CONAMA) é de emissão de 160 mg/m³ por ano, a RMBH emite anualmente cerca de 300 mg/m³, ganhando até mesmo de São Paulo, com 279 mg/m³.\n",
            "\n",
            "\n",
            "=== Clima ===\n",
            "\n",
            "O clima de Belo Horizonte é classificado como tropical com estação seca (Aw, segundo Köppen). A temperatura média anual é de 22 °C; o verão é moderadamente quente, com elevada precipitação, enquanto o inverno é agradável, praticamente sem precipitação. Ao longo do ano, normalmente, a temperatura mínima nos meses mais frios é de 15 °C e a temperatura máxima nos meses mais quentes é de 29 °C. O efeito da urbanização tem provocado o surgimento de ilhas de calor e alterações na circulação das massas de ar frio, que, durante o inverno, têm sido fortemente bloqueadas pela alta pressão da massa de ar seco, predominante nessa época do ano. A Serra do Curral protege Belo Horizonte dos ventos mais fortes, mesmo assim podem ocorrer episódios de forte ventania, com rajadas próximas aos 100 km/h.\n",
            "\n",
            "As precipitações ocorrem sob a forma de chuva e, em algumas ocasiões, de granizo, podendo serem de forte intensidade e ainda virem acompanhadas de raios e trovoadas. O índice pluviométrico é de cerca de 1 580 milímetros (mm) anuais, com maior frequência nos meses de outubro a março. Em algumas tardes, especialmente no inverno, a umidade relativa do ar (URA) despenca, podendo ficar abaixo de 30%, bem abaixo dos 60% recomendados pela Organização Mundial da Saúde (OMS). Estudos realizados pela Universidade Federal de Minas Gerais (UFMG) mostram que, em um século, a média desse índice diminuiu 9,56% e a temperatura média da cidade subiu 1,5 °C.\n",
            "Segundo dados da estação meteorológica oficial do Instituto Nacional de Meteorologia (INMET) no município, hoje localizada no bairro Santo Agostinho, desde 1931 a menor temperatura registrada em Belo Horizonte foi de 3,1 °C em 1 de junho de 1979, porém o recorde mínimo absoluto desde março de 1910 foi de 2,2 °C em 11 de julho daquele ano. A máxima histórica, nesse ponto de medição, atingiu 37,5 °C em 25 de setembro de 2023. Na mesma data, a estação meteorológica automática do INMET situada no campus da UFMG da Pampulha, em operação desde outubro de 2006, registrou máxima de 38,6 °C.\n",
            "O maior acumulado de precipitação em 24 horas chegou a 171,8 mm em 24 de janeiro de 2020, superando os 164,2 mm registrados em 14 de fevereiro de 1978. O maior acumulado mensal foi de 934,7 mm em janeiro de 2020, batendo o recorde anterior de 850,3 mm em janeiro de 1985. O menor índice de URA foi de 10% na tarde de 12 de outubro de 2014. De acordo com o Grupo de Eletricidade Atmosférica do Instituto Nacional de Pesquisas Espaciais (ELAT/INPE), o município apresenta uma densidade de descargas de 6,01 raios por km²/ano, estando na 65ª posição a nível estadual e na 1 200ª a nível nacional.\n",
            "\n",
            "\n",
            "== Demografia ==\n",
            "\n",
            "A população do município em 2010, de acordo com o IBGE, era de 2 375 151 habitantes, sendo o município mais populoso de Minas Gerais e o sexto do Brasil, atrás de São Paulo, Rio de Janeiro, Salvador, Fortaleza e, mais recentemente, Brasília, apresentando uma densidade demográfica de 7 167,02 hab./km² e uma taxa de urbanização de 100%. Isso não se deve à área do município, mas à saturação das áreas disponíveis, o que tem incentivado fortemente a verticalização das construções no município e a especulação imobiliária nas cidades da região metropolitana mais próximas da capital, como Nova Lima, Santa Luzia e Contagem, entre outras.\n",
            "Da população total, 1 113 513 habitantes eram do sexo masculino (46,88%) e 1 261 638 do sexo feminino (53,12%), com uma razão sexual de 88,26. Quanto à faixa etária, 452 963 pessoas tinham menos de 15 anos (19,07%%), 1 716 194 entre 15 e 64 anos (72,26%) e 205 994 possuíam 65 anos ou mais (8,67%).\n",
            "O processo de conurbação na chamada Grande BH vem criando uma metrópole cujo centro está em Belo Horizonte e atinge os municípios de Contagem, Betim, Nova Lima, Ribeirão das Neves, Santa Luzia, Ibirité, Vespasiano e Sabará. A Região Metropolitana de Belo Horizonte (RMBH) foi criada no ano de 1973 e é constituída por 34 municípios, sendo atualmente a terceira maior aglomeração urbana do Brasil, atrás apenas das de São Paulo e Rio de Janeiro; o 62º maior aglomerado urbano do mundo e o sétimo da América Latina (atrás da Cidade do México, São Paulo, Rio de Janeiro, Buenos Aires, Bogotá e Lima).\n",
            "\n",
            "\n",
            "=== Desenvolvimento humano ===\n",
            "O Índice de Desenvolvimento Humano (IDH-M) do município é considerado alto, de acordo com dados do Programa das Nações Unidas para o Desenvolvimento (PNUD). Segundo dados do relatório de 2010, divulgados em 2013, seu valor era de 0,810, sendo o segundo maior de Minas Gerais, depois de Nova Lima (0,813), e o vigésimo do Brasil. Considerando-se apenas o índice de longevidade, seu valor é de 0,856, o valor do índice de renda é de 0,841 e o de educação é de 0,737.\n",
            "\n",
            "De 2000 a 2010, a proporção de pessoas com renda domiciliar per capita de até 140 reais reduziu em 59,3%. Em 2010, 95,6% da população vivia acima da linha de pobreza, 3% encontrava-se entre as linhas de indigência e de pobreza e 1,4% estava abaixo da linha de pobreza. No mesmo ano, o índice de Gini era de 0,60 e os 20% mais ricos eram responsáveis por 65% no rendimento total municipal, valor quase 23 vezes superior à dos 20% mais pobres, que era de 2,85%.\n",
            "Segundo dados do início da década de 1990, Belo Horizonte possuía 132 favelas, que ocupavam uma área de 10 046 575 m² e abrigavam uma população de 346 480 habitantes. O surgimento dessas favelas ocorreu junto com a criação da cidade. Os trabalhadores que foram para Belo Horizonte com objetivo de construir a cidade moravam precariamente em acampamentos, canteiros de obras, favelas, vilas e aglomerados. Os operários que não foram contemplados com lotes, como foram os funcionários públicos e comerciantes daquela época, organizavam-se naqueles terrenos.\n",
            "\n",
            "\n",
            "=== Composição étnica e fluxos migratórios ===\n",
            "Belo Horizonte é uma cidade multirracial, fruto de intensa migração. O seu povoamento foi efetuado de forma gradual principalmente por migrantes atraídos do interior mineiro, além de outras regiões de outros estados e imigrantes oriundos de várias partes da Europa. Vieram brancos, negros e mestiços de diversas origens, o que contribuiu para o equilíbrio entre o número de pessoas brancas, pardas e pretas. Segundo o censo de 2010 do IBGE, em pesquisa de autodeclaração, dos 2 375 151 habitantes da cidade, existiam 1 101 397 brancos (46,37%), 1 000 021 pardos (42,1%), 243 985 pretos (10,27%), 25 606 amarelos (1,08%), 3 958 indígenas (0,17%) e 184 sem declaração (0,01%).\n",
            "\n",
            "No mesmo ano, 2 369 063 habitantes eram brasileiros (99,74%), sendo 2 367 032 natos (99,66%) e 2 030 naturalizados brasileiros (0,08%), e 6 088 eram estrangeiros (0,26%). Em relação à região de nascimento, 2 286 791 eram nascidos no Região Sudeste (96,28%), 46 870 no Nordeste (1,97%), 9 770 no Centro-Oeste (0,41%), 8 775 no Sul (0,37%) e 5 329 no Norte (0,22%). 2 226 569 habitantes eram naturais do estado de Minas Gerais (93,74%) e, desse total, 1 584 970 eram nascidos em Belo Horizonte (66,72%). Entre os 148 582 naturais de outras unidades da federação (33,46%), São Paulo era o estado com maior presença, com 27 322 habitantes residentes (1,15%), seguido pelo Rio de Janeiro, com 18 795 habitantes (0,79%) e pelo Espírito Santo, com 14 105 residentes (0,59%).\n",
            "Um estudo genético realizado com pessoas de Belo Horizonte revelou que a ancestralidade dos belo-horizontinos é 66% europeia, 32% africana e apenas 2% indígena. O estudou condiz com o passado de ocupação do estado de Minas Gerais e de sua capital. O estado foi povoado sobretudo no século XVIII, quando houve uma grande imigração portuguesa para a região. Naquele século chegaram ao Brasil aproximadamente seiscentos mil portugueses, a esmagadora maioria deles se fixou na região mineradora. No mesmo período houve um enorme fluxo de escravos de origem africana para as minas, advindos de Angola ou trazidos da Bahia, estes sendo originários de outra região africana, a denominada Costa da Mina. Também houve afluxo de pessoas de outras regiões do Brasil, portanto já miscigenadas entre brancos, negros e índios. Os indígenas de Minas Gerais foram massacrados durante a colonização, e isso explica porque atualmente os belo-horizontinos possuem tão baixa ancestralidade indígena. Houve portanto grande miscigenação entre portugueses e africanos, com o predomínio dos primeiros.\n",
            "Belo Horizonte foi povoada por migrantes oriundos do interior de Minas. O grande afluxo de colonos portugueses no século XVIII formou o grupo mais importante na formação da população mineira, inclusive do belo-horizontino, seguido pela contribuição do escravo africano que foi também bastante grande. No século XIX houve movimentos migratórios de alemães para Minas Gerais, mas sobretudo de italianos, que eram numerosos em Belo Horizonte. O Anuário Estatístico do Brasil de 1908-1912 aponta que a população belo-horizontina em 1900 era de 13 472 pessoas, e em 1912 de 38 822 pessoas, sendo que 34 450 brasileiros e 4 372 estrangeiros (Anuário Estatístico de Minas Gerais 1921, 1925). O recenseamento de 1920 conta 50 703 brasileiros e 4 824 estrangeiros como moradores de Belo Horizonte, a maioria deles italianos.\n",
            "A população de Belo Horizonte é, portanto, bastante miscigenada, havendo um predomínio de ancestralidade europeia (66%), principalmente de antigos colonos portugueses do século XVIII e em menor medida de imigrantes italianos do final do século XIX. Em seguida vem a contribuição africana (33%), sobretudo do século XVIII quando Minas Gerais tinha a maior população escrava de todo o Brasil. Por último uma mínima contribuição indígena (2%), como dos Maxakalí, Krenak, Aranã e Xacriabá, que na região viviam durante o período colonial e foram exterminados, deixando poucos traços para a população de Belo Horizonte.\n",
            "\n",
            "\n",
            "=== Religião ===\n",
            "\n",
            "De acordo com dados do censo de 2010 realizado pelo Instituto Brasileiro de Geografia e Estatística (IBGE), a população de Belo Horizonte é composta majoritariamente por 1 422 084 católicos (59,87%), 595 244 evangélicos (25,06%), 190 414 pessoas sem religião (8,02%) e 96 639 espíritas (4,07%). Há também 14 944 testemunhas de Jeová (0,63%), 3 352 católicos apostólicos brasileiros (0,14%), 2 869 esotéricos (0,12%), 2 581 budistas, 2 150 umbandistas (0,09%), 1 909 espiritualistas (0,08%), 1 717 seguidores de novas religiões orientais (0,07%), 1 567 católicos ortodoxos (0,07%), 1 561 mórmons (0,07%), 1 494 candomblecistas (0,06%), 1 384 judaístas (0,06%), 259 seguidores de tradições indígenas (0,01%), 244 islâmicos (0,01%), 238 hinduístas (0,01%) e 121 pertencentes a outras religiões afro-brasileiras (0,01%). Outros 19 859 pertenciam a outras religiões cristãs (0,84%), 10 639 tinham religião não determinada ou com múltiplo pertencimento (0,45%), 2 997 não souberam e 730 não declararam.\n",
            "\n",
            "A Igreja Católica inclui o território do município de Belo Horizonte e mais 28 municípios na circunscrição eclesiástica da Arquidiocese de Belo Horizonte, que possui como dioceses sufragâneas Divinópolis, Luz, Oliveira e Sete Lagoas. A sé arquiepiscopal está na Catedral da Nossa Senhora da Boa Viagem. Algumas das igrejas belo-horizontinas possuem grande valor artístico, com destaque para a Igreja São Francisco de Assis, na Pampulha. O projeto arquitetônico da igreja é de Oscar Niemeyer e cálculo estrutural de Joaquim Cardoso. Seu interior abriga a Via Sacra, constituída por catorze painéis de Cândido Portinari, considerada uma de suas obras mais significativas. Os painéis externos são de Cândido Portinari (painel figurativo) e de Paulo Werneck (painel abstrato). Os jardins são assinados por Burle Marx. Alfredo Ceschiatti esculpiu os baixos-relevos em bronze do batistério. Outros santuários que merecem ser destacados são a Basílica de Nossa Senhora de Lourdes com seu estilo neogótico, no bairro de Lourdes; a Igreja São José, no hipercentro e a Igreja São Judas Tadeu, no bairro da Graça. A Igreja Católica reconhece como padroeira da cidade Nossa Senhora da Boa Viagem.\n",
            "\n",
            "\n",
            "== Política ==\n",
            "\n",
            "\n",
            "=== Governo municipal ===\n",
            "\n",
            "O poder executivo do município de Belo Horizonte é representado pelo prefeito e seu gabinete de secretários, em observância ao disposto na Constituição Federal. A Lei Orgânica do Município, promulgada em 21 de março de 1990, determina que a ação administrativa do poder executivo seja organizada segundo os critérios de descentralização, regionalização e participação popular, o que faz com que a cidade seja dividida em nove grandes regiões administrativas, cada uma das secretarias de administração regional funcionando como miniprefeituras e liderada por um secretário nomeado pelo prefeito.\n",
            "O poder legislativo é representado pela câmara municipal, composta por 41 vereadores eleitos para cargos de quatro anos (em observância ao disposto no artigo 29 da Constituição, que disciplina um número mínimo de 33 e máximo de 41 para municípios com mais de um milhão e menos de cinco milhões de habitantes). Cabe à casa elaborar e votar leis fundamentais à administração e ao Executivo. Uma atribuição importante da câmara municipal é votar e aprovar a Lei Orçamentária Anual (LOA) elaborada pelo Executivo seguindo as diretrizes da Lei de Diretrizes Orçamentárias (LDO) e os objetivos e metas propostos no Plano Plurianual (PPA). Devido ao poder de veto do prefeito, em períodos de conflito entre o Executivo e o Legislativo, o processo de votação deste tipo de lei costuma gerar polêmica.\n",
            "Existem também uma série de conselhos municipais em atividade, sendo alguns dos conselhos municipais atualmente em atividade: Pessoas com Deficiência, Idoso, Defesa do Consumidor, Direitos da Mulher, Antidrogas, Saúde Educação, Assistência Social, Meio Ambiente, Juventude, Defesa Social, da Criança e do Adolescente, dentre outros.\n",
            "\n",
            "\n",
            "=== Governos estadual e federal ===\n",
            "\n",
            "O Palácio da Liberdade foi a primeira sede do governo mineiro em Belo Horizonte, que desde 2010 funciona no Palácio Tiradentes, localizado na Cidade Administrativa de Minas Gerais. O poder legislativo mineiro é constituído pela Assembleia Legislativa do Estado de Minas Gerais, que tem sede no Palácio da Inconfidência. A mais alta corte do poder judiciário mineiro é o Tribunal de Justiça de Minas Gerais (TJMG).\n",
            "Grandes articulações de impacto nacional foram e são realizadas em lugares como o Palácio da Liberdade, o Café Pérola e o Café Nice. Vários prefeitos de Belo Horizonte vieram a se tornar governadores do estado e dois foram presidentes da República, Venceslau Brás Pereira Gomes e Juscelino Kubitschek de Oliveira. Antônio Carlos Ribeiro de Andrada, prefeito de Belo Horizonte e presidente do estado, à época da República Velha, foi o principal articulador da candidatura à presidência de Getúlio Vargas e da Revolução de 1930. A cidade também é a terra natal da ex-presidente da república, Dilma Rousseff, além de ser uma referência nacional em Orçamento Participativo.\n",
            "\n",
            "\n",
            "=== Cidades-irmãs ===\n",
            "A política das cidades-irmãs procura incentivar o intercâmbio entre cidades que têm algo em comum com Belo Horizonte. A troca de informações e o aumento do comércio entre elas são meios de tornar as cidades-irmãs mais próximas. Belo Horizonte possui 16 cidades-irmãs, que são:\n",
            "\n",
            "\n",
            "== Subdivisões ==\n",
            "\n",
            "O município de Belo Horizonte está dividido em nove administrações regionais, instituídas em 1983 por meio de decreto e atualizadas posteriormente por leis municipais: Barreiro, Centro-Sul, Leste, Nordeste, Noroeste, Norte, Oeste, Pampulha e Venda Nova. A jurisdição das unidades administrativas regionais leva em conta a posição geográfica e a história de ocupação. Entretanto, há certos órgãos e instituições (companhias telefônicas, zonas eleitorais, etc.) que adotam uma divisão diferente da oficial.\n",
            "Cabe às administrações regionais a desconcentração e descentralização administrativas no âmbito de suas respectivas jurisdições, para atendimento ao público e manutenção e execução de obras de pequeno porte, além de outras atividades. Os cargos de direção, assistência e assessoramento da administração regional são providos por atos do prefeito. Cada uma das administração se subdivide em várias unidades menores, os bairros.\n",
            "Ao todo, Belo Horizonte possui um total de 487 bairros, dos quais 25 com seu território inserido em mais de uma regional. A regional Barreiro, a mais meridional do município, é a maior tanto em número de bairros (73) quanto em área, com 53,6 km². No último censo do IBGE em 2010, a regional Noroeste era a mais populosa, com mais de 330 mil habitantes, enquanto Venda Nova apresentava a maior densidade populacional, superior a 9 000 hab/km². Em relação aos bairros, o mais populoso deles era Sagrada Família, com 34 395 habitantes, seguido por Buritis (29 374), Padre Eustáquio (28 773), Lindeia (24 146) e Santa Mônica (23 883). O Centro, inserido na regional Centro-Sul, possuía 16 245 habitantes.\n",
            "\n",
            "\n",
            "== Economia ==\n",
            "\n",
            "Belo Horizonte possui o quarto maior Produto Interno Bruto (PIB) dentre as cidades brasileiras, atrás de São Paulo, Rio de Janeiro e Brasília, respectivamente. Segundo dados do IBGE em 2018, o PIB a preços recorrentes do município era de R$ 91 957 091,80 mil, ao passo que seu PIB per capita era de R$ 36 759,66. O valor do PIB corresponde ainda a cerca de 15% das riquezas produzidas pelo estado de Minas Gerais. No mesmo ano, a pecuária e a agricultura acrescentavam 2 014,93 mil reais na economia belo-horizontina, a indústria 11 387 745,79 mil reais, o setor de serviços e comércio 55 821 303,76 mil reais e a administração pública 11 707 010,56 mil.\n",
            "Um dos maiores centros financeiros do Brasil, Belo Horizonte é caracterizada pela predominância do setor terciário em sua economia, com destaque para o comércio, serviços financeiros, atividades imobiliárias e administração pública. Com um diversificado setor de comércio e de prestação de serviços, as primeiras atividades produtivas que surgiram antecedem a fundação do município. As primeiras atividades industriais surgiram no século XIX em Nova Lima, com a instalação da Saint John del Rey Mining Co., em 1834, e da Cia. Mineira de Fiação e Tecidos, em 1879, em Marzagão, distrito de Sabará. Outros empreendimentos surgiram, como um estabelecimento de fiação e tecelagem em 1838, no distrito de Neves Venda Nova; uma fundição de ferro e bronze em 1845, próximo à Lagoa Maria Dias, onde hoje é o cruzamento da avenida Paraná com a Rua Carijós, no centro de Belo Horizonte; uma fundição, no lugar denominado Cardoso, em 1885; e uma pequena manufatura de velas de sebo para fornecimento à Cia. de Morro Velho.\n",
            "Ainda antes da fundação de Belo Horizonte, o Arraial do Curral del-Rei produzia gêneros para o abastecimento da região mineradora, especialmente gado e produtos agrícolas. No início do século XX, a cidade se destacou como centro de comércio de gado e de redistribuição de mercadorias, beneficiada pela localização estratégica como passagem dos caminhos do comércio viajante e pelo posicionamento equidistante dos grandes polos consumidores do país e principais capitais brasileiras: São Paulo, Rio de Janeiro e, a partir de 1960, Brasília.\n",
            "\n",
            "Desde os anos 1970, ocorreu a chegada de grandes empresas multinacionais de bens de capital e a migração de indústrias para a área mineira da SUDENE, devido aos incentivos fiscais. A instalação da Refinaria Gabriel Passos, em 1968, aliada à instalação da FIAT Automóveis, em 1973, a primeira montadora fora do eixo Rio-São Paulo, estabeleceu um grande polo industrial no estado em Betim, na Região Metropolitana de Belo Horizonte. A Fiat hoje lidera a produção e as vendas no mercado do país, tornando-se a mais importante unidade produtora fora da Itália. Sua planta de Betim é a maior produtora de veículos da empresa no mundo. A entrada em operação da montadora de veículos e seu gradativo aumento de produção foi extremamente importante para a consolidação do segmento de bens de capital e de bens de consumo duráveis em Minas Gerais.\n",
            "As décadas de 1980 e 1990 foram marcadas por um longo período de recessão e estagnação econômica. A cidade passou a desenvolver e abrigar um parque industrial baseado nas indústrias não-poluentes e de alta tecnologia, tornando-se um dos mais importantes polos industriais do país, com empresas de ponta nas áreas de confecção, calçados, informática, alimentação, aparelhos elétricos e eletrônicos, perfumaria e turismo de negócios com estruturas produtivas leves, ampla terceirização de atividades e grandes investimentos em marketing e publicidade.\n",
            "Sua região metropolitana teve o PIB calculado em R$ 172,168 bilhões em 2015, o que corresponde a 33,15% de todo o PIB mineiro e 2,87 do Brasil. Segundo dados do IBGE, a rede urbana de influência exercida pela cidade no resto do país abrange 9,1% da população e 7,5% do PIB brasileiro. A influência é percebida em 698 cidades de São Paulo, Rio de Janeiro e de Minas Gerais. Belo Horizonte também está entre os sete municípios com a melhor infraestrutura do país, porém foi a segunda cidade que mais perdeu postos de trabalho com carteira assinada de janeiro a abril de 2015, em decorrência da crise econômica de 2014 no Brasil. De 2013 a 2017, a diferença entre vagas de emprego abertas e fechadas foi de um saldo negativo de 120,9 mil vagas. Apesar do saldo positivo de 29,3 mil vagas em 2018 e 22,7 mil em 2019, os impactos econômicos da pandemia de COVID-19 tornaram a aumentar o desemprego em 2020. Neste ano, foram 10 277 postos de trabalho suprimidos, a quinta maior quantidade do país.\n",
            "Em 2018, salários juntamente com outras remunerações somavam 57 192 165 mil reais e o salário médio mensal de todo município era de 3,6 salários mínimos. Havia 111 845 unidades locais e 105 881 empresas atuantes. Segundo o censo do IBGE de 2010, 37,16% das residências sobreviviam com menos de um salário mínimo mensal por morador (283 180 domicílios), 35,5% sobreviviam com entre um e três salários mínimos para cada pessoa (270 035 domicílios), 10,58% recebiam entre três e cinco salários (80 596 domicílios), 14,18% tinham rendimento mensal acima de cinco salários mínimos (108 055 domicílios) e 2,58% não tinham rendimento (19 657 domicílios).\n",
            "\n",
            "\n",
            "=== Turismo ===\n",
            "\n",
            "Contando com uma desenvolvida rede de hotéis, Belo Horizonte é um dos principais polos de turismo de negócios do país, sediando importantes eventos nacionais e internacionais como o III Encontro das Américas em 1997, o 26° Encontro Econômico Brasil-Alemanha em 1999, a 47ª Reunião Anual do BID em 2006 e a Ecolatina em 2007. É também o portão de entrada para cidades históricas mineiras como Ouro Preto, Mariana, Sabará, Caeté, Santa Luzia, Congonhas, Diamantina, São João del-Rei e Tiradentes. Outro fator importante deve-se à presença de um setor de serviços bastante significativo e com infraestrutura capaz de atender aos seus habitantes e aos visitantes. A rede hoteleira tem observado um crescimento considerável. Operam em Belo Horizonte cerca de 150 estabelecimentos, incluindo grandes redes internacionais, como o Grupo Accor.\n",
            "O município tem se destacado por sua capacidade de desenvolver duas modalidades de turismo: o turismo de eventos e o turismo cultural. Essa delineação do desenvolvimento do setor terciário da economia com o incremento do setor turístico integra a política de estímulo desse setor, que ganha reforços também no sucesso que a cidade vem experimentando na área artística-cultural. A cidade tem realizado congressos, convenções, feiras, eventos técnico-científicos e exposições, causando uma grande movimentação na economia, aumentando os níveis de ocupação da rede hoteleira e do consumo dos serviços de bares, restaurantes e transportes.\n",
            "Muito do sucesso alcançado pela capital deve-se ao Belo Horizonte Convention & Visitors Bureau, organização cooperativa de marketing com finalidade de captar congressos, feiras, convenções e eventos nacionais para Belo Horizonte e atrair grupos organizadores de turistas para a capital. A utilização desse potencial, porém, tem esbarrado nas deficiências na malha viária. A malha rodoviária que liga Belo Horizonte às cidades do estado de Minas Gerais e aos demais estados já foi classificada como uma das piores do país quanto ao seu estado de conservação, segundo o SGP/DNER.\n",
            "\n",
            "\n",
            "== Infraestrutura ==\n",
            "\n",
            "\n",
            "=== Saúde ===\n",
            "\n",
            "Belo Horizonte dispõe de um total de 36 hospitais, sendo um municipal, dois federais, sete estaduais e o restante filantrópicos e privados. Há cerca de 5 500 leitos na capital (3,2 leitos por mil habitante) e a rede conta com 141 postos de saúde, 150 deambulatórios e 507 equipes do Programa Saúde da Família (PSF), que dão cobertura a 76% da população da capital. Ainda assim, a qualidade do atendimento é precária, com filas e grande espera por especialistas médicos, além da frequente falta de medicamentos básicos nos postos de saúde e sobrecarga de demanda, o que torna o sistema cada vez mais precário. As urgências médicas do município, chamadas de unidades de pronto atendimento (UPAs) e os prontos atendimentos conveniados e do Sistema Único de Saúde (SUS) também sofrem com a falta crônica de médicos, filas intermináveis e falta de estrutura geral de atendimento.\n",
            "Há ainda 26 ambulâncias do Serviço de Atendimento Móvel de Urgência (SAMU), sendo 22 básicas, quatro avançadas e uma com equipe especializada em atendimento à saúde mental. Há cerca de 15 mil profissionais de saúde em Belo Horizonte, dos quais 2.500 são agentes comunitários de saúde, e 1 200 fazem o serviço de controle de endemias, como a dengue. Toda essa estrutura custou aos cofres municipais R$ 158,46 por habitante, com um repasse de recursos pelo SUS para o sistema municipal de saúde no valor de R$ 276,66 por habitante, em 2007. A despesa total com saúde no município foi de R$ 415,53 por habitante e os gastos totais em valores absolutos (recursos próprios mais transferências do SUS) alcançaram R$ 1 002 636 625,58, em 2007. Ainda em 2007, o município aplicou 18,8% de seu orçamento em saúde.\n",
            "\n",
            "\n",
            "=== Educação, ciência e tecnologia ===\n",
            "\n",
            "O fator educação do IDH no município atingiu em 2000 a marca de 0,929 – patamar consideravelmente elevado, em conformidade aos padrões do Programa das Nações Unidas para o Desenvolvimento (PNUD) – ao passo que a taxa de analfabetismo indicada pelo último censo demográfico do IBGE foi de 4,6%, superior apenas à porcentagem verificada nas cidades de Curitiba, Porto Alegre, Florianópolis, Rio de Janeiro e Vitória. Nota-se que o analfabetismo vem se reduzindo nos últimos 30 anos, tanto no município como no país (no Brasil, a taxa de analfabetismo é de 13,6%). Os maiores índices de analfabetismo na capital encontram-se nas faixas etárias que vão de 45 a 59 anos (7,0%) e de 60 anos ou mais (14,9%). Entre a população de 10 aos 19 anos de idade, a taxa de analfabetismo é de 1,5%, situando Belo Horizonte entre as cinco capitais brasileiras com menor número de analfabetos também nesta faixa etária. Em algumas regiões periféricas e empobrecidas, o aparato educacional público de nível médio e fundamental é deficitário, dada a escassez relativa de escolas ou recursos. Nesses locais, a violência manifestada em assaltos, brigas e vandalismo costuma impor certas barreiras ao aproveitamento escolar, constituindo-se em uma das causas preponderantes da evasão ou do aprendizado carencial.\n",
            "De acordo com dados do Portal QEdu, o município obteve uma nota média de 5.1 no IDEB 2021 (Índice de Desenvolvimento da Educação Básica) para os anos finais do ensino fundamental. A nota é menor do que a média estipulada, que era de 5.6. Já nos anos iniciais, a cidade apresentou a nota média de 5.9, também abaixo da meta, que é de 6.6. A nota média da cidade para anos finais ficou dentro da meta nacional (5.1), enquanto a média para os anos iniciais ficou acima da meta nacional (5.8).\n",
            "Belo Horizonte conta também com 55 instituições de ensino superior que oferecem uma diversidade de cursos/habilitações. Destacam-se importantes universidades públicas e privadas, muitas delas consideradas centros de referência em determinadas áreas. As instituições públicas de ensino superior sediadas em Belo Horizonte são: a Universidade Federal de Minas Gerais (UFMG), o Centro Federal de Educação Tecnológica de Minas Gerais (CEFET-MG), a Escola de Governo da Fundação João Pinheiro, a Universidade do Estado de Minas Gerais (UEMG)  e o Instituto Federal de Minas Gerais (IFMG), embora o último só tenha sua reitoria localizada em Belo Horizonte e não ministre aulas na capital mineira. Entre as instituições privadas, destacam-se a Pontifícia Universidade Católica de Minas Gerais (PUC Minas) e a Fundação Dom Cabral.\n",
            "Várias instâncias oficiais que se dedicam ao fomento do setor da tecnologia e da ciência também estão sediadas na cidade, como o Instituto de Pesquisas Econômicas, Administrativas e Contábeis de Minas Gerais (IPEAD), que realiza pesquisas aplicadas, serviços de consultoria, assessoria e treinamento especializado relacionados com as ciências econômicas, administrativas, contábeis, demografia e afins; a Fundação João Pinheiro (FJP), instituição pública estadual criada em 1969, realiza projetos de pesquisa aplicada, consultorias, desenvolvimento de recursos humanos e ações de apoio técnico ao governo do estado, sendo referência nacional nas áreas de estatísticas e informações, pesquisas históricas, econômicas e demográficas, desenvolvimento humano, segurança e criminalidade, desenvolvimento urbano, ensino e pesquisa em administração e administração pública; a Fundação Ezequiel Dias (FUNED), que é referência nacional na produção de medicamentos e soros, na pesquisa em saúde pública e nas ações de vigilância sanitária, epidemiológica e ambiental. Ainda há outras várias que atuam em diversas áreas englobadas dentro do campo científico e tecnológico, como o Centro de Pesquisas René Rachou (CPqRR), o Centro Tecnológico de Minas Gerais (CETEC) e a Fundação Zoobotânica de Belo Horizonte.\n",
            "Também as universidades locais têm grande empenho na área. A Fundação Christiano Ottoni (FCO) tem por finalidade promover, técnica e financeiramente, os programas acadêmicos de ensino, pesquisa e extensão da UFMG, em especial da Escola de Engenharia. O Centro de Pesquisa Professor Manuel Teixeira da Costa (CPMTC-IGC-UFMG) é um órgão complementar do Instituto de Geociências da UFMG, que apoia e promove a realização de diversos projetos de pesquisa, cursos de pós-graduação e graduação, e prestação de serviços em Geologia e áreas afins das Geociências.\n",
            "\n",
            "\n",
            "=== Segurança e criminalidade ===\n",
            "\n",
            "Belo Horizonte é a quinta capital estadual mais violenta do país, segundo o estudo \"Mapa da Violência dos municípios brasileiros\", publicado pela Rede de Informação Tecnológica Latino Americana (RITLA), com base nos dados do Ministério da Saúde de 2008. Em 2006, entre as grandes cidades e capitais brasileiras, Belo Horizonte possuía o quinto maior número absoluto de homicídios (1 168), somente atrás de São Paulo (2 546), Rio de Janeiro (2 273), Recife (1 375) e Salvador (1 176). A cidade registrou, em 2006, 49,2 casos de homicídios para cada grupo de 100 mil habitantes, índice acima do verificado em cidades como São Paulo (23,7), Rio de Janeiro (37,7), Goiânia (36,4), Porto Alegre (36,3), Fortaleza (35,4) ou Brasília (32,1). A cidade também está entre os locais com mais mortes no trânsito. Em 2006, Belo Horizonte foi a segunda no número de óbitos por acidentes de transporte, com 704 mortos, atrás somente de São Paulo, com 1.593.\n",
            "Segundo o Centro de Estudos de Criminalidade e Segurança Pública (Crisp) da Universidade Federal de Minas Gerais (UFMG), entidade acadêmica parceira do governo na elaboração de políticas públicas de segurança, os homicídios na cidade têm alta concentração justamente em seis aglomerados pobres controlados por traficantes: a Pedreira Prado Lopes, as favelas do Cafezal, Morro das Pedras, Morro do Papagaio, Taquaril e Cabana Pai Tomás. Do total de homicídios ocorridos em Belo Horizonte entre janeiro e dezembro de 2002, 36% aconteceram nessas áreas que, somadas, totalizam 310 mil pessoas, 14% da população e apenas 4,3% da área da cidade. Em 2003, seis em cada dez assassinatos foram derivados do uso e tráfico de drogas. Estima-se que 90% dos menores internados em centros de recuperação de infratores têm algum envolvimento com drogas. Outra pesquisa em 50 escolas estaduais, municipais e particulares de Belo Horizonte, realizada pelo Crisp, revelou que 51,9% dos alunos já viram ou ouviram falar de consumo de drogas dentro de suas escolas.\n",
            "Apesar dos altos níveis de violência verificados em meados dessa década, tem-se verificado uma queda nesses índices, como o de homicídio. Pode-se atribuir essa queda ao aumento do investimento público em segurança pública e prevenção de crimes, com a melhoria na estruturação e entrosamento das polícias, decorrente da metodologia de integração. Por meio dessa nova metodologia, foi criado o Risp, Região Integrada de Segurança Pública, uma unidade estratégica integrada pela Polícia Militar, Polícia Civil e Corpo de Bombeiros que articula a atuação dos órgãos de defesa social num mesmo espaço físico, compartilhando informações e planejando conjuntamente as ações de combate à criminalidade, respeitadas as funções de cada uma das corporações.\n",
            "Em dezembro de 2003, foi criada a Guarda Municipal de Belo Horizonte, que tem entre suas atribuições a proteção de órgãos, entidades e patrimônio da cidade, além da atuação na fiscalização, controle e orientação do trânsito. Subordinada a uma das secretarias de governo municipais, é limitada por lei a 3 000 homens. Apesar de serem autorizados a portar armas de fogo, a Guarda ainda não as utiliza em sua atividades.  disso, a implantação de programas de prevenção à criminalidade como o Fica Vivo! nos aglomerados populacionais mais violentos da cidade e do Disque-Denúncia unificado contribuem para a diminuição dos índices de criminalidade. Estudos indicam que os índices de criminalidade são fortemente determinados pela desigualdade de renda e a coesão social em ambientes sociais marcados por altas taxas de imigração, urbanização e grandes populações.\n",
            "\n",
            "\n",
            "=== Serviços e comunicação ===\n",
            "\n",
            "O abastecimento de água é feito pela Companhia de Saneamento de Minas Gerais (COPASA) e o fornecimento de energia elétrica é feito pela Companhia Energética de Minas Gerais (CEMIG). A voltagem da rede é de 110v. Em Belo Horizonte está situada a maior estação de tratamento de esgoto da América Latina. Inaugurada em 7 de junho de 2006, a Estação de Tratamento de Esgotos (ETE) da bacia do Ribeirão do Onça possui capacidade de tratar cerca de 155 milhões de litros de esgotos/dia gerados em grande parte de BH e região metropolitana, sendo que sua eficiência é de 70% de remoção da carga poluidora. Ocupa uma área total de 653 mil metros quadrados, dos quais 243 mil são de área construída. Com a inauguração desta ETE, a COPASA passou a ter condições de tratar 100% dos esgotos coletados em Belo Horizonte. O lixo gerado na cidade é jogado a poucos metros do leito do Rio das Velhas, no Aterro de Sabará.\n",
            "Dados da Agência Nacional de Telecomunicações (ANATEL) de janeiro de 2011 mostraram que Belo Horizonte possuía cerca de 650 mil telefones fixos (referentes apenas às concessionárias da Telemar) e 9 869 orelhões. O índice por área de discagem direta a distância (DDD) é de 031. Há acesso à internet em boa parte da cidade. Até o final de 2012 a prefeitura espera consolidar BH como a primeira capital a ter 100% de sua extensão coberta pela rede wireless (internet sem fio), com 50 pontos de Hotspot.\n",
            "Belo Horizonte conta ainda com diversos jornais, destacando-se o Estado de Minas e o Super Notícia. Este último citado estava entre os dez de maior circulação no país, segundo dados do Instituto Verificador de Circulação. Em BH está situada a sede da Imprensa Oficial do Estado de Minas Gerais, órgão oficial dos poderes do estado que publica formulários, documentos técnicos e impressos em geral para os órgãos e entidades do governo de Minas e para terceiros, bem como edições de natureza cultural. Também há algumas rádios, de acordo com a Associação Mineira de Rádio e TV e a Telecomunicações de Minas Gerais S.A, como a Rádio Itatiaia, a Rádio América, a Grande BH, a CBN, a Guarani FM a Inconfidência, a Antena 1, a 98 FM e muitas outras. Belo Horizonte possui também diversas emissoras de televisão sediadas da própria cidade, como a TV Globo Minas, a TV Bandeirantes Minas, a TV Record Minas, a Rede Minas, a Rede Super, a TV Alterosa Belo Horizonte e a TV Horizonte.\n",
            "\n",
            "\n",
            "=== Transporte ===\n",
            "\n",
            "O setor dos transportes é administrado pela Empresa de Transportes e Trânsito de Belo Horizonte (BHTRANS). O Sistema de Transporte Coletivo de ônibus transporta diariamente cerca de 1,4 milhão de passageiros e abrange aproximadamente 300 linhas exploradas por 50 empresas, que operam uma frota de 2 874 mil veículos com idade média de 5 anos e 8 meses. Desde 1995 vem sendo implantado o BHBus (Plano de Reestruturação do Sistema de Transporte Coletivo de Belo Horizonte), que busca aprimorar o sistema de ônibus no sentido de criar uma rede de transporte integrada (metrô e ônibus municipais e intermunicipais), que se divide em dois subsistemas: Tronco-alimentado e Interbairros. O sistema de táxis é considerado o melhor da América Latina e serve de referência para outros estados brasileiros. Possui uma frota de 6 015 táxis padronizados na cor branca, operada por cerca de 12 mil taxistas.\n",
            "Para ligações intermunicipais, Belo Horizonte ainda conta com o Terminal Rodoviário Governador Israel Pinheiro, inaugurado em 9 de março de 1971, além da Estação Ferroviária Central de Belo Horizonte, que fornece passagens de trem até Vitória, no Espírito Santo, através da Estrada de Ferro Vitória a Minas (EFVM).\n",
            "Já o Metrô de Belo Horizonte é operado pela Companhia Brasileira de Trens Urbanos (CBTU) e possui atualmente 19 estações e 28,2 km de extensão, transportando atualmente 203 mil usuários/dia. A operação comercial do Metrô de Belo Horizonte teve início em 1 de agosto de 1986. No dia 7 de novembro de 2005 foram concluídas as obras da Linha 1 do metrô da cidade. Em 17 de setembro de 2011, a presidente da república, Dilma Rousseff, liberou as verbas para extensão até Novo Eldorado, modernização da Linha 1, efetivação de parte das linhas 2 (do Barreiro ao Calafate) e 3 (da Lagoinha a Savassi), além do Projeto Executivo da expansão até Betim.\n",
            "\n",
            "O transporte coletivo de passageiros em vans ou peruas é proibido em Belo Horizonte. Desde 5 de julho de 2001, a Prefeitura tem o aval da Justiça para barrar os veículos que praticam o transporte não regulamentado de passageiros na capital mineira, que chegou a ter três mil perueiros nas ruas em 2001. Atualmente, estima-se que há apenas 3% de clandestinos circulando de madrugada e nos fins de semana, nas horas em que a fiscalização não atua e, geralmente, em carros de passeio.\n",
            "Em 2009, a frota de veículos atingiu a marca de quase 1,1 milhão de carros. Diariamente, o Detran de Minas Gerais tem emplacado cerca de 500 veículos novos. A frota de carros tem crescido a taxas que variam de 4 a 7% ao ano desde 1999 e esse crescimento só perde para o número de motos na cidade, que registra um crescimento médio de 11,5% ao ano. Proporcionalmente, Belo Horizonte tem uma das maiores proporções de veículo por habitante do país: 1 veículo para cada grupo de 2,4 habitantes (em São Paulo, estima-se um veículo por 1,78 habitante; Brasília tem 1 veículo por 2,4 habitantes e o Rio de Janeiro 1 veículo por 2,9 habitantes). Enquanto os ônibus costumam andar lotados com até cem passageiros, os carros costumam circular vazios. Na cidade, a taxa média de ocupação é de 1,4 pessoa por carro, causando congestionamentos de filas de automóveis ocupados somente pelo motorista.\n",
            "A BHTrans não mede congestionamentos como em São Paulo, mas um reflexo da saturação da frota pode ser indicado pela velocidade média de tráfego dos ônibus, que, por causa do excesso de carros, no horário de pico é de 18 km/h no hipercentro, chegando a 8 km/h em determinados locais. A utilização de bicicletas como meio de transporte também é bastante reduzida. Em BH, de acordo pesquisa da BHTrans de 2001, são realizados cerca de 4,1 milhões de viagens/dia, 28% das quais nos modos a pé ou de bicicleta.\n",
            "A Região Metropolitana de Belo Horizonte possui três aeroportos. O Aeroporto de Confins (Aeroporto Internacional Tancredo Neves), construído na década de 1980, é um dos mais modernos do Brasil e capaz de receber cinco milhões de passageiros por ano com conforto e comodidade. Com a conclusão da Linha Verde, a previsão é de que o trajeto do centro de Belo Horizonte até Confins seja efetuado em 35 minutos. O Aeroporto Industrial de Confins opera desde agosto de 2006, com a produção voltada para a exportação. O Aeroporto da Pampulha (Aeroporto Carlos Drummond de Andrade), instalado em uma área de dois milhões de m² na região da Pampulha, localiza-se distante oito quilômetros do centro da cidade. Opera voos regionais para o interior do estado e dos estados limítrofes. Há também o Aeroporto Carlos Prates, que é mais vocacionado para a aviação desportiva, aviação geral de pequeno porte e a helicópteros, além de ser um polo formador de profissionais da aviação.\n",
            "\n",
            "\n",
            "== Cultura ==\n",
            "A responsável pelo setor cultural de Belo Horizonte é a Fundação Municipal de Cultura (FMC), criada pela Lei n.º 9 011, de 1 de janeiro de 2005, que tem como objetivo planejar e executar a política cultural do município por meio da elaboração de programas, projetos e atividades que visem ao desenvolvimento cultural. Está vinculada ao Gabinete do Prefeito, integra a Administração Pública Indireta do Município e possui autonomia administrativa e financeira, assegurada, especialmente, por dotações orçamentárias, patrimônio próprio, aplicação de suas receitas e assinatura de contratos e convênios com outras instituições. Atualmente, a FMC é composta por 29 unidades culturais, sendo 17 centros culturais, cinco instituições de acervo, memória e referência cultural, cinco bibliotecas  e dois teatros municipais.\n",
            "\n",
            "\n",
            "=== Cinema ===\n",
            "\n",
            "A partir da chegada da primeira companhia cinematográfica a Belo Horizonte, em 1905, a Companhia Barrucci, o contato do público com o cinematógrafo tornou-se mais constante. Pouco tempo mais tarde, o cinematógrafo deixou de ser exibido nos espaços privados, domésticos, para ser exibido no teatro, naquelas circunstâncias, no teatro Soucasseaux, o maior teatro belo-horizontino da época. E, com a instalação do primeiro cinematógrafo permanente da capital, em 1906, a sede do Teatro Paris tornou-se um espaço efetivo de exibição de cinema. Mais tarde, em 1912, o Teatro Paris assumiria o nome de Cine Odeon, importante referência para a vida cinematográfica da cidade, sobre do qual o poeta Carlos Drummond de Andrade lamenta o fechamento no poema O Fim das Coisas, de 1928. A partir da década de 1920, cidade e cinema passaram a desenvolver uma relação mais complexa, com mais influências na vida cultural local.\n",
            "Apenas na década de 1970 é que ocorreu o início do processo de sucateamento de salas que passam a exibir filmes de qualidade duvidosa em nome do exercício de custos mais baixos. Ao longo das décadas de 1980 e 1990, a decadência das grandes salas de cinema em Belo Horizonte atinge patamar semelhante ao de outras capitais do Brasil. Várias grandes salas foram todas fechadas e, se não demolidas, deram lugar a outros prédios e construções. A grande parcela das salas de cinema passa a situar-se nos shopping centers.\n",
            "Atualmente Belo Horizonte ainda conta com diversas salas de cinema em várias partes da cidade, especialmente no interior de grandes shoppings. Dos antigos cinemas de rua, poucos ainda operam com a mesma função. Os poucos filmes produzidos na cidade são, muitas vezes, curtas-metragens produzidos, por vezes, por produtoras e gravadoras da própria cidade. São comuns filmes que expressam cenas do dia-a-dia, o chamado cinema popular.\n",
            "\n",
            "\n",
            "=== Vida noturna e culinária ===\n",
            "\n",
            "Belo Horizonte é nacionalmente conhecida como a \"capital nacional dos botecos\". Existem na cidade cerca de 14.000 estabelecimentos, mais bares per capita do que qualquer outra grande cidade do Brasil. A culinária mineira é uma atração concomitante que acompanha bem as bebidas. Todos os anos, no mês de abril, é realizado o festival Comida di buteco, competição anual de bares que serve de pretexto para visitar diversos bares e botecos de BH todas as noite durante um mês em busca dos melhores petiscos ou tira-gostos, como dizem os mineiros. Quarenta dos melhores bares disputam em categorias como higiene, temperatura da cerveja, serviço e principalmente, o melhor tira-gosto. Os vencedores são decididos não só pelos jurados, mas também por votação popular.\n",
            "A chamada zona boêmia da cidade se atualmente concentra principalmente no centro da capital, mas outros bairros se destacam pelo lazer noturno, como Savassi, Funcionários, São Pedro, Santa Tereza, São Bento, Santo Antônio, Lourdes e Serra. Há diversos restaurantes e bares temáticos que invadem as esquinas dos lugares mais badalados. Há casas noturnas, bares, cafés, casas de espetáculo e danceterias que atendem aos mais diversos públicos, dos mais conservadores aos mais vanguardistas. Pode-se encontrar desde um ambiente erudito e sofisticado até uma noite agitada, ou então algo rústico e popular.\n",
            "\n",
            "\n",
            "=== Música ===\n",
            "\n",
            "Muitos artistas reconhecidos no país e no exterior surgiram em Belo Horizonte. O Clube da Esquina é um movimento musical originado em meados da década de 1960 e desde então seus membros influenciam a cultura da cidade e do estado, tendo artistas importantes no cenário regional ou nacional, como Tavinho Moura, Wagner Tiso, Milton Nascimento, Lô Borges, Beto Guedes, Flávio Venturini, Toninho Horta, Márcio Borges, Fernando Brant e o 14 Bis. Outros artistas importantes surgidos no cenário da cidade são Paulinho Pedra Azul, Vander Lee, Skank, Pato Fu (selecionada pela revista Time como uma das 10 melhores bandas do mundo), Sepultura, Jota Quest, Tianastácia, a dupla César Menotti e Fabiano e os corais Ars Nova e Madrigal Renascentista.\n",
            "Há também os que apostam em criatividade, como o grupo Uakti. Eles criam seus próprios instrumentos musicais usando materiais como PVC, madeira, metais e vidro. Seu nome é baseado num mito dos índios Tukano e reflete o sentimento indígena presente em seus trabalhos.\n",
            "\n",
            "A cidade ainda sedia anualmente grandes festivais populares que levam milhares de pessoas ao Mineirão como o Axé Brasil, de música baiana, e o Pop Rock Brasil, de música pop. Belo Horizonte também tem se consagrado como um dos grandes polos da música eletrônica mundial, realizando diversos festivais do gênero com bandas e DJs de renome internacional atraindo turistas de todas as partes do país. Destaque para o Festival Creamfields Brasil sediado na cidade e realizado em 12 países além do Brasil. Ainda na música eletrônica destaca-se o funk, que está presente em Belo Horizonte desde a década de 1970, mas só começou a popularizar-se na década de 90. Hoje está presente no circuito cultural formal, em grandes danceterias, nas rádios, ou ainda em bailes promovidos nas comunidades mais carentes, especialmente nas quadras de escolas.\n",
            "Na música erudita, desde a década de 1940 há grupos de pessoas que cantavam e promoviam eventos orquestrais. Atualmente, o erudito vem sendo divulgado em parques e teatros com repertórios cada vez mais prestigiados pela população. Na cidade destaca-se as apresentações da Orquestra Sinfônica de Minas Gerais (OSMG), criada em 1976. Esta foi, até 21 de fevereiro de 2008 (quando da criação da nova Orquestra Filarmônica de Minas Gerais), a orquestra oficial do estado de Minas Gerais.\n",
            "\n",
            "\n",
            "=== Literatura ===\n",
            "\n",
            "Desde as suas primeiras décadas, a cidade já demonstrava sua vocação cultural na área da literatura. Jovens idealistas e poetas, na década de 1920, incorporavam-se à Rua da Bahia, a principal via da cidade na época. Foi na década de 1920 que surgiu em Belo Horizonte a geração de escritores de raro brilho que iria se destacar no cenário nacional, dentre eles Carlos Drummond de Andrade, Ciro dos Anjos, Pedro Nava, Alberto Campos, Emílio Moura, João Alphonsus, Milton Campos, Belmiro Braga e Abgar Renault, que se encontravam no Bar do Ponto, na Confeitaria Estrela ou no Trianon para produzir os textos que revolucionaram a literatura brasileira. Em 1925, Carlos Drummond de Andrade e seus companheiros lançaram A Revista que, apesar da vida breve, foi importante veículo de afirmação do modernismo em Minas.\n",
            "Ao longo dos anos sucederam-se muitos outros intelectuais e poetas como Fernando Sabino, Hélio Pellegrino, Otto Lara Resende, Ziraldo e Paulo Mendes Campos. Hoje, na área literária, destaca-se também a realização anual do Concurso Nacional de Literatura Prêmio Cidade de Belo Horizonte, que foi instituído pelo Decreto nº 204 de 1947, e é promovido pelo Município de Belo Horizonte e coordenado pela Fundação Municipal de Cultura, tendo como finalidade distinguir obras inéditas, em Língua Portuguesa, de autores brasileiros natos ou naturalizados em três categorias (Ensaio, Poesia e Autor Estreante e Dramaturgia).\n",
            "\n",
            "\n",
            "=== Teatro ===\n",
            "\n",
            "No teatro, os grandes expoentes são o Grupo Galpão, o Grupo Oficcina Multimédia, um grupo de pesquisa das múltiplas linguagens artísticas na encenação teatral, sendo considerado um dos mais antigos da cidade ainda em atividade, o Giramundo Teatro de Bonecos, que é um importante grupo especializado em teatro de bonecos. Eles mantêm um museu de bonecos que criaram desde a sua fundação em 1970, tendo lançado seu primeiro álbum completo em 1981 e 11 trabalhos desde então. Há muitos grupos artísticos brasileiros notáveis que têm sua origem em Belo Horizonte, como o Grupo Primeiro Ato e o Grupo Corpo, que é talvez o mais famoso grupo de dança contemporânea do país; foi criado na cidade em 1975, excursionando e sendo aclamado por plateias em todo o mundo. Grandes atores da televisão e do teatro são oriundos de Belo Horizonte, como Débora Falabella, Ísis Valverde e Gustavo Winter.\n",
            "Já se tornou uma tradição na cidade a realização de encontros, mostras e festivais artísticos. Anualmente, são realizados o Festival Internacional de Teatro, Palco e Rua (FIT-BH), o Festival Internacional de Teatro de Bonecos, o Festival Internacional de Dança (FID), o Festival Internacional de Corais (FIC), o Festival de Arte Negra (FAN), o Festival Internacional de Curtas e a Mostra de Cinema Mundial - Indie Brasil. Bienalmente, são realizados o Encontro Mundial de Artes Cênicas (ECUM), o Encontro Internacional de Literaturas em Língua Portuguesa, o Festival Mundial de Circo do Brasil (FMCB) e o Festival Internacional de Quadrinhos (FIQ). Além desses, o Verão Arte Contemporânea e a Campanha de Popularização do Teatro e da Dança acontecem nos meses de janeiro e fevereiro, quando dezenas de peças teatrais são oferecidas a preços populares à população, levando um grande número de pessoas aos teatros da capital mineira.\n",
            "\n",
            "\n",
            "=== Tradições e folclore ===\n",
            "\n",
            "Na área folclórica de Belo Horizonte destaca-se a realização de exposições e eventos abertos ao público. Vários grupos, como o Grupo Aruanda, conhecido internacionalmente como Voluntários da Cultura, fazem trabalhos árduos de pesquisa, preservação e divulgação do folclore nacional. São mais de 100 danças pesquisadas em todas as regiões do país e mais de 3 000 espetáculos realizados no Brasil e no exterior pelo Aruanda, o que qualifica o grupo como referência nacional em manifestações populares. Em várias dessas apresentações pelo Brasil e pelo mundo, são divulgadas as belezas da capital mineira.\n",
            "Durante períodos festivos também há diversas atividades e eventos realizados, como as apresentações do Carnaval de Belo Horizonte, quando são realizadas diversas oficinas, concursos de fantasias, desfiles e outras atividades. Também há apresentações especiais nos teatros da cidade dedicadas às crianças no mês de outubro. São realizadas exibições de vídeos, oficinas, exposições, circo e teatro que compõem a programação especial dedicada exclusivamente a elas, em comemoração ao dia 12 de outubro. Há, em novembro, o Festival de Arte Negra (FAN), promovido pela prefeitura de Belo Horizonte por meio da Fundação Municipal de Cultura. O projeto integra um conjunto de ações no plano das políticas públicas com o fim de discutir, combater e superar os problemas que historicamente excluem a população negra de Belo Horizonte e de todo o país da pauta básica de direitos conferidos pela condição de cidadania, reunindo ainda artistas, grupos e estudiosos brasileiros e de outros países da diáspora negra. Outra comemoração de destaque é a do aniversário de Belo Horizonte, que, mesmo sendo em 12 de dezembro, conta com eventos durante vários dias.\n",
            "Para além das festividades, a tradição popular oral também está presente na capital mineira. As lendas urbanas fazem parte da história de Belo Horizonte desde antes da própria inauguração da cidade. Um exemplo é a Maria “Papuda”, também conhecida como Fantasma do Palácio da Liberdade, que assombrava os governadores que habitavam a construção, desde o início do século XX. Outra lenda mais recente, da década de 1980, é o Capeta da Vilarinho, um homem desconhecido e misterioso, que ao ganhar um concurso de dança e tirar seu chapéu, exibira seus chifres, assustando a população local. Há também outros fantasmas que assombram a cidade, a exemplo da Loira do Bonfim, do Fantasma do Bairro Serra, do Avantesma da Lagoinha e da Moça-fantasma da Savassi.\n",
            "\n",
            "\n",
            "=== Artes visuais ===\n",
            "\n",
            "A Escola Guignard, dirigida pelo artista Alberto da Veiga Guignard, formou artistas importantes no circuito mineiro, nacional e internacional das artes plásticas. Destacam-se Amílcar de Castro, Farnese de Andrade, Leda Gontijo, Franz Weissmann, Mary Vieira, Maria Helena Andrés, Mário Silésio, Yara Tupynambá e Inimá de Paula. Hoje a cidade possui grande quantidade de museus e galerias de arte, que exibem uma parte da história da arte moderna brasileira. Destacam-se o Museu de Arte da Pampulha, que é integrante do Conjunto Arquitetônico da Pampulha e enfoca tendências artísticas variadas em mostras, pesquisa e conceituação, sendo seu acervo composto por obras da arte contemporânea brasileira; o Museu Histórico Abílio Barreto, cujo acervo é um conjunto de itens que constitui um texto múltiplo e revelador dos vários sentidos e trajetórias da cidade, expondo documentos textuais, iconográficos, bidimensionais e tridimensionais referentes às origens, formação e desenvolvimento de Belo Horizonte; e o Museu de Artes e Ofícios, que é o primeiro empreendimento museológico brasileiro dedicado integralmente ao tema do trabalho, das artes e ofícios no país.\n",
            "No Museu de Arte da Pampulha ainda destaca-se a realização do Salão Nacional de Arte de Belo Horizonte, que é um evento voltado para artistas emergentes ou em início de carreira. A intenção do projeto é criar maior engajamento do Museu com a produção emergente, propiciando, por sua vez, o contato do artista jovem com um amplo leque de leituras sobre sua obra. O processo de seleção, de âmbito nacional, resulta na escolha de dez artistas entre os inscritos para receber uma bolsa mensal durante um ano.\n",
            "Belo Horizonte conta com uma instituição onde é lecionado o curso de artes visuais. A Escola de Belas-Artes da Universidade Federal de Minas Gerais (EBA-MG), instituição da Universidade Federal de Minas Gerais (UFMG), foi criada em 5 de abril de 1957, inicialmente sob a forma de curso de arte na Escola de Arquitetura. Foi transformada em escola e aprovada pelo Decreto-Lei nº. 62 317 de 28 de fevereiro de 1968, quando passou a constituir uma unidade do sistema básico da UFMG.\n",
            "\n",
            "\n",
            "=== Arquitetura e patrimônio histórico ===\n",
            "Belo Horizonte foi uma das primeiras cidades planejadas do Brasil. A cidade começou a se desenhar a partir do século XX com um projeto mais modernizado para a nova capital de Minas. O objetivo inicial era fazer um modelo contemporâneo e eclético que, ao mesmo tempo, tivesse toques dos estilos neoclássicos, neorromânicos e neogóticos. O período de instalação e consolidação da Cidade de Belo Horizonte ocorreu entre 1894 e 1930. Enquanto a então capital da república, Rio de Janeiro, era colocada abaixo para a reestruturação de seu centro urbano, Belo Horizonte já nascia transpirando contemporaneidade e ecletismo.\n",
            "\n",
            "Aos elementos da arquitetura greco-romana foram incorporados modismos que caracterizaram a década de 20, como o primado geométrico do Art déco. A influência da Belle Époque, ocorrida na França naquela época, também pode ser percebida nos inúmeros espaços públicos e praças. Arquitetos franceses, mestres de obras e operários italianos representam boa parte da mão de obra que construiu a cidade. Na década de 1930, começaria o processo de verticalização em Belo Horizonte, quando surgiram as primeiras firmas de concreto. A partir de 1935, em virtude das profundas mudanças vividas pelo Brasil, inclusive na política industrial, a cidade passou por um processo acelerado de desenvolvimento urbano. Nesta época, as construções que sempre acompanhavam a Avenida do Contorno se tornaram mais dispersas do plano original. Naquele período, o arquiteto italiano Raffaello Berti teve fundamental influência na arquitetura da cidade. Mesmo não podendo assinar seus projetos, por causa da legislação que negava a autoria a profissionais estrangeiros, atribuem-se a ele obras arquitetônicas como o edifício da Prefeitura, a sede do Minas Tênis Clube e a Santa Casa de Misericórdia.\n",
            "No início da década de 1940, o então Prefeito Juscelino Kubitschek trouxe a Belo Horizonte o urbanista francês Agache com objetivo de urbanizar a região da Pampulha, com sua lagoa artificial. A confecção do conjunto arquitetônico contou com a participação do arquiteto Oscar Niemeyer, do paisagista Burle Marx, do pintor Cândido Portinari e dos escultores Alfredo Ceschiatti, August Zamoyski e José Pedrosa. Hoje a Pampulha é considerada um marco da arquitetura moderna. Niemeyer e Belo Horizonte conseguiram projeção internacional a partir da construção do Conjunto Arquitetônico da Pampulha.\n",
            "Atualmente, algumas das várias construções que melhor representam a arquitetura urbana de Belo Horizonte estão no Savassi, que engloba a Praça da Liberdade, um grande shopping (o Pátio Savassi), parte da Avenida do Contorno e o início da Avenida Nossa Senhora do Carmo. Também há o Edifício Acaiaca, construído em Art Deco; a Catedral da Boa Viagem, feita em estilo neogótico, abriga vitrais de grande beleza e seu altar-mor é todo trabalhado em mármore de carrara; o Viaduto de Santa Teresa, que foi uma das primeiras construções do Brasil a utilizar concreto armado; e a Torre Piemonte, que é a mais alta do Brasil com acesso ao público, possuindo 101 metros de altura e 432 metros acima do centro de BH, e foi construída com aço produzido pela ArcelorMittal Timóteo.\n",
            "\n",
            "\n",
            "=== Esportes ===\n",
            "No futebol, Belo Horizonte é sede de três clubes reconhecidos nacionalmente: Clube Atlético Mineiro, Cruzeiro Esporte Clube e América Futebol Clube. Esses clubes também participam do Campeonato Mineiro de Futebol Feminino.\n",
            "\n",
            "A cidade conta ainda com 3 grandes estádios: o Estádio Governador Magalhães Pinto (o Mineirão), que é o maior estádio de futebol de Minas Gerais e quinto maior do Brasil, com capacidade para 62 170 espectadores; a Arena MRV, do Atlético, com capacidade para 47.465 pessoas e promete ser o mais moderno do Brasil e o Independência, do América, com capacidade para aproximadamente 23 mil pessoas. Além dos estádios, Belo Horizonte possui três grandes ginásios: o Jornalista Felipe Drummond (o Mineirinho), com capacidade para cerca de 25 mil pessoas; a Arena Juscelino Kubitschek, arena multiúso do Minas Tênis Clube, com capacidade para 4 000 pessoas; e o Km de Vantagens/Marista Hall, do Colégio Marista, uma arena multiúso com capacidade em torno de 3 700 pessoas, que atualmente é utilizado para shows e eventos culturais e artísticos.\n",
            "A cidade ainda é sede de vários eventos desportivos de outras modalidades, como a Volta Internacional da Pampulha, prova pedestre disputada de 17,8 km de percurso, em comemoração ao aniversário de capital. Ainda no atletismo, é realizada também desde 2008 a Meia Maratona Linha Verde, com percurso de 21 km entre a rodovia MG-010 e a Praça Rui Barbosa.\n",
            "No turfe, o Hipódromo Serra Verde foi o principal hipódromo que existiu em Belo Horizonte, funcionando regularmente de 1964 a 2006 no bairro Serra Verde. O Minas Tênis Clube é uma agremiação com sede na capital mineira fundada em 15 de novembro de 1935 e que possui destaque nacional e internacional em diversas modalidades de esportes olímpicos, sendo responsável por vários clubes de diferentes esportes, como a equipe de voleibol masculino e feminino do Minas Tênis, além da equipe do basquetebol, do futebol de salão (futsal), do judô, da ginástica artística, da natação e do tênis.\n",
            "\n",
            "\n",
            "=== Feriados municipais ===\n",
            "Em Belo Horizonte há quatro feriados municipais, definidos pela lei nº 1 327, de 8 de fevereiro de 1967: a Sexta-Feira Santa, que ocorre sempre em março ou abril; o Corpus Christi, que sempre é realizado na quinta-feira seguinte ao domingo da Santíssima Trindade; e o dia da Imaculada Conceição, comemorado em 8 de dezembro.\n",
            "\n",
            "\n",
            "== Ver também ==\n",
            "Mineiros naturais de Belo Horizonte\n",
            "\n",
            "\n",
            "== Referências ==\n",
            "\n",
            "\n",
            "=== Bibliografia ===\n",
            "\n",
            "\n",
            "== Ligações externas ==\n",
            "\n",
            "Prefeitura\n",
            "Sítio oficial\n",
            "Prefeitura no Facebook\n",
            "Prefeitura no Twitter\n",
            "Prefeitura no Flickr\n",
            "Câmara\n",
            "Sítio oficial\n",
            "Câmara no Facebook\n",
            "Câmara no Twitter\n",
            "Câmara no Flickr\n",
            "Outros\n",
            "Belo Horizonte no WikiMapia\n",
            "Belo Horizonte no Google Maps\n",
            "Dados do IBGE de Belo Horizonte no IBGE\n"
          ]
        }
      ]
    },
    {
      "cell_type": "markdown",
      "metadata": {
        "id": "TxnmUk2NAC3M"
      },
      "source": [
        "Selecionamos algumas frases do corpus de BH da wikipedia.\n",
        "\n",
        "Conside a lista abaixo como nosso corpus de documentos. Cada elemento da lista, considere como um único documento."
      ]
    },
    {
      "cell_type": "code",
      "metadata": {
        "id": "Pd4pTiK0AC3M"
      },
      "source": [
        "documentos = \\\n",
        "[\"Belo Horizonte é um município brasileiro e a capital do estado de Minas Gerais\",\n",
        "\"A populacao de Belo Horizonte é estimada em 2 501 576 habitantes, conforme estimativas do Instituto Brasileiro de Geografia e Estatística\",\n",
        "\"Belo Horizonte já foi indicada pelo Population Crisis Commitee, da ONU, como a metrópole com melhor qualidade de vida na América Latina\",\n",
        "\"Belo Horizonte é mundialmente conhecida e exerce significativa influência nacional e até internacional, seja do ponto de vista cultural, econômico ou político\",\n",
        "\"Belo Horizonte é a capital do segundo estado mais populoso do Brasil, Minas Gerais\"]"
      ],
      "execution_count": 7,
      "outputs": []
    },
    {
      "cell_type": "markdown",
      "metadata": {
        "id": "G1vjVVoYAC3T"
      },
      "source": [
        "## Preprocessamento"
      ]
    },
    {
      "cell_type": "markdown",
      "metadata": {
        "id": "V_MuzVllAC3U"
      },
      "source": [
        "<b> Atividade </b>\n",
        "\n",
        "1) Escreva uma método que realiza o pré-processamento da lista de <b>documentos</b>.\n",
        "\n",
        "O método deve, para cada documento:\n",
        "- tokenizar cada palavra\n",
        "- remover stopwords\n",
        "- remover números\n",
        "- remover pontuções\n",
        "- remover acentos"
      ]
    },
    {
      "cell_type": "code",
      "source": [
        "from nltk.corpus import stopwords\n",
        "nltk.download(\"stopwords\")"
      ],
      "metadata": {
        "colab": {
          "base_uri": "https://localhost:8080/"
        },
        "id": "GFCuB_pCjhzM",
        "outputId": "9dd2b0b0-a3b6-48c7-ecb6-c9641136de14"
      },
      "execution_count": 8,
      "outputs": [
        {
          "output_type": "stream",
          "name": "stderr",
          "text": [
            "[nltk_data] Downloading package stopwords to /root/nltk_data...\n",
            "[nltk_data]   Package stopwords is already up-to-date!\n"
          ]
        },
        {
          "output_type": "execute_result",
          "data": {
            "text/plain": [
              "True"
            ]
          },
          "metadata": {},
          "execution_count": 8
        }
      ]
    },
    {
      "cell_type": "code",
      "source": [
        "nltk.word_tokenize(corpus, language='portuguese')\n",
        "portugues_stops = stopwords.words('portuguese')"
      ],
      "metadata": {
        "id": "-ZPu7sJwiJ0o"
      },
      "execution_count": 9,
      "outputs": []
    },
    {
      "cell_type": "code",
      "source": [
        "def pre_processamento(txt):\n",
        "  tokens = nltk.word_tokenize(txt, language='portuguese')\n",
        "  tokens = [t.lower() for t in tokens]\n",
        "  tokens = [t for t in tokens if t not in portugues_stops]\n",
        "  tokens = [re.sub('\\d', '', t) for t in tokens]\n",
        "  tokens = [t for t in tokens if t not in string.punctuation]\n",
        "  tokens = [unidecode(t) for t in tokens]\n",
        "  return tokens"
      ],
      "metadata": {
        "id": "ru8-yEn6AAax"
      },
      "execution_count": 10,
      "outputs": []
    },
    {
      "cell_type": "code",
      "source": [
        "documentos[1]"
      ],
      "metadata": {
        "colab": {
          "base_uri": "https://localhost:8080/",
          "height": 36
        },
        "id": "eJAVV8xxj0EX",
        "outputId": "6dca2595-9992-4e76-cb2a-4d8e212e89b5"
      },
      "execution_count": 11,
      "outputs": [
        {
          "output_type": "execute_result",
          "data": {
            "text/plain": [
              "'A populacao de Belo Horizonte é estimada em 2 501 576 habitantes, conforme estimativas do Instituto Brasileiro de Geografia e Estatística'"
            ],
            "application/vnd.google.colaboratory.intrinsic+json": {
              "type": "string"
            }
          },
          "metadata": {},
          "execution_count": 11
        }
      ]
    },
    {
      "cell_type": "code",
      "source": [
        "pre_processamento(documentos[1])"
      ],
      "metadata": {
        "colab": {
          "base_uri": "https://localhost:8080/"
        },
        "id": "ozvVRPJSjoaP",
        "outputId": "959d76b4-bc96-4a0a-fe0c-abe2e6ea0189"
      },
      "execution_count": 12,
      "outputs": [
        {
          "output_type": "execute_result",
          "data": {
            "text/plain": [
              "['populacao',\n",
              " 'belo',\n",
              " 'horizonte',\n",
              " 'estimada',\n",
              " 'habitantes',\n",
              " 'conforme',\n",
              " 'estimativas',\n",
              " 'instituto',\n",
              " 'brasileiro',\n",
              " 'geografia',\n",
              " 'estatistica']"
            ]
          },
          "metadata": {},
          "execution_count": 12
        }
      ]
    },
    {
      "cell_type": "code",
      "source": [
        "doc_proc = [' '.join(pre_processamento(doc)) for doc in documentos]"
      ],
      "metadata": {
        "id": "OBieWj_nly2l"
      },
      "execution_count": 13,
      "outputs": []
    },
    {
      "cell_type": "code",
      "source": [
        "doc_proc"
      ],
      "metadata": {
        "colab": {
          "base_uri": "https://localhost:8080/"
        },
        "id": "onare7o1l8p6",
        "outputId": "6f2ee701-cbe1-4d8f-bd1c-b256fe6a1b84"
      },
      "execution_count": 14,
      "outputs": [
        {
          "output_type": "execute_result",
          "data": {
            "text/plain": [
              "['belo horizonte municipio brasileiro capital estado minas gerais',\n",
              " 'populacao belo horizonte estimada habitantes conforme estimativas instituto brasileiro geografia estatistica',\n",
              " 'belo horizonte indicada population crisis commitee onu metropole melhor qualidade vida america latina',\n",
              " 'belo horizonte mundialmente conhecida exerce significativa influencia nacional internacional ponto vista cultural economico politico',\n",
              " 'belo horizonte capital segundo estado populoso brasil minas gerais']"
            ]
          },
          "metadata": {},
          "execution_count": 14
        }
      ]
    },
    {
      "cell_type": "markdown",
      "metadata": {
        "id": "O9fbyAieAC3j"
      },
      "source": [
        "# Representação Textual"
      ]
    },
    {
      "cell_type": "markdown",
      "metadata": {
        "id": "jFHut-GWAC4L"
      },
      "source": [
        "## TD-IDF\n",
        "\n",
        "Dica de leitura: https://kavita-ganesan.com/tfidftransformer-tfidfvectorizer-usage-differences/#.XklQxnVKj7c\n",
        "\n",
        "Para representar o texto com TF-IDF utilizamos o TfidfVectorizer. A seguir apresentamos instruções sobre como utilizá-lo.\n",
        "\n",
        "```python\n",
        "#primeiro criamos o objeto\n",
        "vect = TfidfVectorizer()\n",
        "vect #aqui você pode observa todos os parâmetros que o objeto possui\n",
        "## Existem alguns parâmetros, opcionais, que podemos informar para uma possível melhora do nosso modelo. Por exemplo:\n",
        "### inclui 1-grams e 2-grams\n",
        "vect.set_params(ngram_range=(1, 2))\n",
        "### ignora termos que a aparecem em mais de 50% dos documentoss\n",
        "vect.set_params(max_df=0.5)\n",
        "### só considero termos que aparecem em ao menos 2 documentos\n",
        "vect.set_params(min_df=2)\n",
        "\n",
        "#depois aplicamos fit_transform para transformar o texto em números\n",
        "docs_tdidf = vect.fit_transform(docs)\n",
        "\n",
        "#o docs_tdidf é uma matriz com os números que representam cada um dos textos.\n",
        "## Conseguimos verificar a dimensão desta matriz:\n",
        "print(docs_tdidf.shape)\n",
        "\n",
        "#Para visualizar as features capturadas pelo TF-IDF utilize:\n",
        "print(vect.get_feature_names_out())\n",
        "#Para visualizar os vetores correspondentes a cada palavara utilize:\n",
        "df = pd.DataFrame(docs_tdidf.T.todense(), index=vect.get_feature_names_out(), columns=[\"doc\"+str(i+1) for i in range(0,len(docs))])\n",
        "df\n",
        "```"
      ]
    },
    {
      "cell_type": "markdown",
      "metadata": {
        "id": "jZD0n75gAC4M"
      },
      "source": [
        "<b> Atividade: </b>\n",
        "\n",
        "2) Faça o TDIFTVectorizer nos documentos da variável <b>documentos</b> sem alterar nenhum parâmetro."
      ]
    },
    {
      "cell_type": "code",
      "source": [
        "vect_tfidf = TfidfVectorizer()\n",
        "docs_tdidf = vect_tfidf.fit_transform(doc_proc)"
      ],
      "metadata": {
        "id": "vaf6rr2FACMv"
      },
      "execution_count": 15,
      "outputs": []
    },
    {
      "cell_type": "code",
      "source": [
        "docs_tdidf"
      ],
      "metadata": {
        "colab": {
          "base_uri": "https://localhost:8080/"
        },
        "id": "grmAI3BClDv8",
        "outputId": "dd64203e-2153-49c1-aa82-8e3e865e0c77"
      },
      "execution_count": 16,
      "outputs": [
        {
          "output_type": "execute_result",
          "data": {
            "text/plain": [
              "<5x42 sparse matrix of type '<class 'numpy.float64'>'\n",
              "\twith 55 stored elements in Compressed Sparse Row format>"
            ]
          },
          "metadata": {},
          "execution_count": 16
        }
      ]
    },
    {
      "cell_type": "markdown",
      "metadata": {
        "id": "AbTCuJzIAC4o"
      },
      "source": [
        "<b> Atividade </b>\n",
        "\n",
        "3) Imprima o shape do resultado da atividade 2"
      ]
    },
    {
      "cell_type": "code",
      "metadata": {
        "id": "YpTKpuG2AC4o",
        "colab": {
          "base_uri": "https://localhost:8080/"
        },
        "outputId": "a79556c4-b784-4441-b84e-ec7af67756af"
      },
      "source": [
        "docs_tdidf.shape"
      ],
      "execution_count": 17,
      "outputs": [
        {
          "output_type": "execute_result",
          "data": {
            "text/plain": [
              "(5, 42)"
            ]
          },
          "metadata": {},
          "execution_count": 17
        }
      ]
    },
    {
      "cell_type": "markdown",
      "metadata": {
        "id": "vQfYws4lAC4t"
      },
      "source": [
        "<b> Atividade </b>\n",
        "\n",
        "4) Imprima as features capturadas em 2."
      ]
    },
    {
      "cell_type": "code",
      "metadata": {
        "id": "RKR0svJ6AC4t",
        "colab": {
          "base_uri": "https://localhost:8080/"
        },
        "outputId": "4c26c0c8-ce2f-4a89-f656-8e41e9a7e95f"
      },
      "source": [
        "vect_tfidf.get_feature_names_out()"
      ],
      "execution_count": 18,
      "outputs": [
        {
          "output_type": "execute_result",
          "data": {
            "text/plain": [
              "array(['america', 'belo', 'brasil', 'brasileiro', 'capital', 'commitee',\n",
              "       'conforme', 'conhecida', 'crisis', 'cultural', 'economico',\n",
              "       'estado', 'estatistica', 'estimada', 'estimativas', 'exerce',\n",
              "       'geografia', 'gerais', 'habitantes', 'horizonte', 'indicada',\n",
              "       'influencia', 'instituto', 'internacional', 'latina', 'melhor',\n",
              "       'metropole', 'minas', 'mundialmente', 'municipio', 'nacional',\n",
              "       'onu', 'politico', 'ponto', 'populacao', 'population', 'populoso',\n",
              "       'qualidade', 'segundo', 'significativa', 'vida', 'vista'],\n",
              "      dtype=object)"
            ]
          },
          "metadata": {},
          "execution_count": 18
        }
      ]
    },
    {
      "cell_type": "markdown",
      "metadata": {
        "id": "6kcdd6_IAC4x"
      },
      "source": [
        "5) Imprima os vetores correspondentes a cada palavra de cada documento."
      ]
    },
    {
      "cell_type": "code",
      "metadata": {
        "id": "znT-n2J5AC4x",
        "colab": {
          "base_uri": "https://localhost:8080/",
          "height": 1000
        },
        "outputId": "8ed5e8d3-ad5e-47ad-9f55-df0e2a602fc7"
      },
      "source": [
        "df = pd.DataFrame(docs_tdidf.T.todense(),\n",
        "                  index=vect_tfidf.get_feature_names_out(),\n",
        "                  columns=[\"doc\"+str(i+1) for i in range(0,len(documentos))])\n",
        "df"
      ],
      "execution_count": 19,
      "outputs": [
        {
          "output_type": "execute_result",
          "data": {
            "text/plain": [
              "                   doc1      doc2      doc3      doc4      doc5\n",
              "america        0.000000  0.000000  0.295474  0.000000  0.000000\n",
              "belo           0.219592  0.157916  0.140795  0.135024  0.193603\n",
              "brasil         0.000000  0.000000  0.000000  0.000000  0.406297\n",
              "brasileiro     0.371802  0.267376  0.000000  0.000000  0.000000\n",
              "capital        0.371802  0.000000  0.000000  0.000000  0.327798\n",
              "commitee       0.000000  0.000000  0.295474  0.000000  0.000000\n",
              "conforme       0.000000  0.331405  0.000000  0.000000  0.000000\n",
              "conhecida      0.000000  0.000000  0.000000  0.283363  0.000000\n",
              "crisis         0.000000  0.000000  0.295474  0.000000  0.000000\n",
              "cultural       0.000000  0.000000  0.000000  0.283363  0.000000\n",
              "economico      0.000000  0.000000  0.000000  0.283363  0.000000\n",
              "estado         0.371802  0.000000  0.000000  0.000000  0.327798\n",
              "estatistica    0.000000  0.331405  0.000000  0.000000  0.000000\n",
              "estimada       0.000000  0.331405  0.000000  0.000000  0.000000\n",
              "estimativas    0.000000  0.331405  0.000000  0.000000  0.000000\n",
              "exerce         0.000000  0.000000  0.000000  0.283363  0.000000\n",
              "geografia      0.000000  0.331405  0.000000  0.000000  0.000000\n",
              "gerais         0.371802  0.000000  0.000000  0.000000  0.327798\n",
              "habitantes     0.000000  0.331405  0.000000  0.000000  0.000000\n",
              "horizonte      0.219592  0.157916  0.140795  0.135024  0.193603\n",
              "indicada       0.000000  0.000000  0.295474  0.000000  0.000000\n",
              "influencia     0.000000  0.000000  0.000000  0.283363  0.000000\n",
              "instituto      0.000000  0.331405  0.000000  0.000000  0.000000\n",
              "internacional  0.000000  0.000000  0.000000  0.283363  0.000000\n",
              "latina         0.000000  0.000000  0.295474  0.000000  0.000000\n",
              "melhor         0.000000  0.000000  0.295474  0.000000  0.000000\n",
              "metropole      0.000000  0.000000  0.295474  0.000000  0.000000\n",
              "minas          0.371802  0.000000  0.000000  0.000000  0.327798\n",
              "mundialmente   0.000000  0.000000  0.000000  0.283363  0.000000\n",
              "municipio      0.460840  0.000000  0.000000  0.000000  0.000000\n",
              "nacional       0.000000  0.000000  0.000000  0.283363  0.000000\n",
              "onu            0.000000  0.000000  0.295474  0.000000  0.000000\n",
              "politico       0.000000  0.000000  0.000000  0.283363  0.000000\n",
              "ponto          0.000000  0.000000  0.000000  0.283363  0.000000\n",
              "populacao      0.000000  0.331405  0.000000  0.000000  0.000000\n",
              "population     0.000000  0.000000  0.295474  0.000000  0.000000\n",
              "populoso       0.000000  0.000000  0.000000  0.000000  0.406297\n",
              "qualidade      0.000000  0.000000  0.295474  0.000000  0.000000\n",
              "segundo        0.000000  0.000000  0.000000  0.000000  0.406297\n",
              "significativa  0.000000  0.000000  0.000000  0.283363  0.000000\n",
              "vida           0.000000  0.000000  0.295474  0.000000  0.000000\n",
              "vista          0.000000  0.000000  0.000000  0.283363  0.000000"
            ],
            "text/html": [
              "\n",
              "  <div id=\"df-ad48f0e3-4641-4c64-b153-7c0c4ae60e4b\" class=\"colab-df-container\">\n",
              "    <div>\n",
              "<style scoped>\n",
              "    .dataframe tbody tr th:only-of-type {\n",
              "        vertical-align: middle;\n",
              "    }\n",
              "\n",
              "    .dataframe tbody tr th {\n",
              "        vertical-align: top;\n",
              "    }\n",
              "\n",
              "    .dataframe thead th {\n",
              "        text-align: right;\n",
              "    }\n",
              "</style>\n",
              "<table border=\"1\" class=\"dataframe\">\n",
              "  <thead>\n",
              "    <tr style=\"text-align: right;\">\n",
              "      <th></th>\n",
              "      <th>doc1</th>\n",
              "      <th>doc2</th>\n",
              "      <th>doc3</th>\n",
              "      <th>doc4</th>\n",
              "      <th>doc5</th>\n",
              "    </tr>\n",
              "  </thead>\n",
              "  <tbody>\n",
              "    <tr>\n",
              "      <th>america</th>\n",
              "      <td>0.000000</td>\n",
              "      <td>0.000000</td>\n",
              "      <td>0.295474</td>\n",
              "      <td>0.000000</td>\n",
              "      <td>0.000000</td>\n",
              "    </tr>\n",
              "    <tr>\n",
              "      <th>belo</th>\n",
              "      <td>0.219592</td>\n",
              "      <td>0.157916</td>\n",
              "      <td>0.140795</td>\n",
              "      <td>0.135024</td>\n",
              "      <td>0.193603</td>\n",
              "    </tr>\n",
              "    <tr>\n",
              "      <th>brasil</th>\n",
              "      <td>0.000000</td>\n",
              "      <td>0.000000</td>\n",
              "      <td>0.000000</td>\n",
              "      <td>0.000000</td>\n",
              "      <td>0.406297</td>\n",
              "    </tr>\n",
              "    <tr>\n",
              "      <th>brasileiro</th>\n",
              "      <td>0.371802</td>\n",
              "      <td>0.267376</td>\n",
              "      <td>0.000000</td>\n",
              "      <td>0.000000</td>\n",
              "      <td>0.000000</td>\n",
              "    </tr>\n",
              "    <tr>\n",
              "      <th>capital</th>\n",
              "      <td>0.371802</td>\n",
              "      <td>0.000000</td>\n",
              "      <td>0.000000</td>\n",
              "      <td>0.000000</td>\n",
              "      <td>0.327798</td>\n",
              "    </tr>\n",
              "    <tr>\n",
              "      <th>commitee</th>\n",
              "      <td>0.000000</td>\n",
              "      <td>0.000000</td>\n",
              "      <td>0.295474</td>\n",
              "      <td>0.000000</td>\n",
              "      <td>0.000000</td>\n",
              "    </tr>\n",
              "    <tr>\n",
              "      <th>conforme</th>\n",
              "      <td>0.000000</td>\n",
              "      <td>0.331405</td>\n",
              "      <td>0.000000</td>\n",
              "      <td>0.000000</td>\n",
              "      <td>0.000000</td>\n",
              "    </tr>\n",
              "    <tr>\n",
              "      <th>conhecida</th>\n",
              "      <td>0.000000</td>\n",
              "      <td>0.000000</td>\n",
              "      <td>0.000000</td>\n",
              "      <td>0.283363</td>\n",
              "      <td>0.000000</td>\n",
              "    </tr>\n",
              "    <tr>\n",
              "      <th>crisis</th>\n",
              "      <td>0.000000</td>\n",
              "      <td>0.000000</td>\n",
              "      <td>0.295474</td>\n",
              "      <td>0.000000</td>\n",
              "      <td>0.000000</td>\n",
              "    </tr>\n",
              "    <tr>\n",
              "      <th>cultural</th>\n",
              "      <td>0.000000</td>\n",
              "      <td>0.000000</td>\n",
              "      <td>0.000000</td>\n",
              "      <td>0.283363</td>\n",
              "      <td>0.000000</td>\n",
              "    </tr>\n",
              "    <tr>\n",
              "      <th>economico</th>\n",
              "      <td>0.000000</td>\n",
              "      <td>0.000000</td>\n",
              "      <td>0.000000</td>\n",
              "      <td>0.283363</td>\n",
              "      <td>0.000000</td>\n",
              "    </tr>\n",
              "    <tr>\n",
              "      <th>estado</th>\n",
              "      <td>0.371802</td>\n",
              "      <td>0.000000</td>\n",
              "      <td>0.000000</td>\n",
              "      <td>0.000000</td>\n",
              "      <td>0.327798</td>\n",
              "    </tr>\n",
              "    <tr>\n",
              "      <th>estatistica</th>\n",
              "      <td>0.000000</td>\n",
              "      <td>0.331405</td>\n",
              "      <td>0.000000</td>\n",
              "      <td>0.000000</td>\n",
              "      <td>0.000000</td>\n",
              "    </tr>\n",
              "    <tr>\n",
              "      <th>estimada</th>\n",
              "      <td>0.000000</td>\n",
              "      <td>0.331405</td>\n",
              "      <td>0.000000</td>\n",
              "      <td>0.000000</td>\n",
              "      <td>0.000000</td>\n",
              "    </tr>\n",
              "    <tr>\n",
              "      <th>estimativas</th>\n",
              "      <td>0.000000</td>\n",
              "      <td>0.331405</td>\n",
              "      <td>0.000000</td>\n",
              "      <td>0.000000</td>\n",
              "      <td>0.000000</td>\n",
              "    </tr>\n",
              "    <tr>\n",
              "      <th>exerce</th>\n",
              "      <td>0.000000</td>\n",
              "      <td>0.000000</td>\n",
              "      <td>0.000000</td>\n",
              "      <td>0.283363</td>\n",
              "      <td>0.000000</td>\n",
              "    </tr>\n",
              "    <tr>\n",
              "      <th>geografia</th>\n",
              "      <td>0.000000</td>\n",
              "      <td>0.331405</td>\n",
              "      <td>0.000000</td>\n",
              "      <td>0.000000</td>\n",
              "      <td>0.000000</td>\n",
              "    </tr>\n",
              "    <tr>\n",
              "      <th>gerais</th>\n",
              "      <td>0.371802</td>\n",
              "      <td>0.000000</td>\n",
              "      <td>0.000000</td>\n",
              "      <td>0.000000</td>\n",
              "      <td>0.327798</td>\n",
              "    </tr>\n",
              "    <tr>\n",
              "      <th>habitantes</th>\n",
              "      <td>0.000000</td>\n",
              "      <td>0.331405</td>\n",
              "      <td>0.000000</td>\n",
              "      <td>0.000000</td>\n",
              "      <td>0.000000</td>\n",
              "    </tr>\n",
              "    <tr>\n",
              "      <th>horizonte</th>\n",
              "      <td>0.219592</td>\n",
              "      <td>0.157916</td>\n",
              "      <td>0.140795</td>\n",
              "      <td>0.135024</td>\n",
              "      <td>0.193603</td>\n",
              "    </tr>\n",
              "    <tr>\n",
              "      <th>indicada</th>\n",
              "      <td>0.000000</td>\n",
              "      <td>0.000000</td>\n",
              "      <td>0.295474</td>\n",
              "      <td>0.000000</td>\n",
              "      <td>0.000000</td>\n",
              "    </tr>\n",
              "    <tr>\n",
              "      <th>influencia</th>\n",
              "      <td>0.000000</td>\n",
              "      <td>0.000000</td>\n",
              "      <td>0.000000</td>\n",
              "      <td>0.283363</td>\n",
              "      <td>0.000000</td>\n",
              "    </tr>\n",
              "    <tr>\n",
              "      <th>instituto</th>\n",
              "      <td>0.000000</td>\n",
              "      <td>0.331405</td>\n",
              "      <td>0.000000</td>\n",
              "      <td>0.000000</td>\n",
              "      <td>0.000000</td>\n",
              "    </tr>\n",
              "    <tr>\n",
              "      <th>internacional</th>\n",
              "      <td>0.000000</td>\n",
              "      <td>0.000000</td>\n",
              "      <td>0.000000</td>\n",
              "      <td>0.283363</td>\n",
              "      <td>0.000000</td>\n",
              "    </tr>\n",
              "    <tr>\n",
              "      <th>latina</th>\n",
              "      <td>0.000000</td>\n",
              "      <td>0.000000</td>\n",
              "      <td>0.295474</td>\n",
              "      <td>0.000000</td>\n",
              "      <td>0.000000</td>\n",
              "    </tr>\n",
              "    <tr>\n",
              "      <th>melhor</th>\n",
              "      <td>0.000000</td>\n",
              "      <td>0.000000</td>\n",
              "      <td>0.295474</td>\n",
              "      <td>0.000000</td>\n",
              "      <td>0.000000</td>\n",
              "    </tr>\n",
              "    <tr>\n",
              "      <th>metropole</th>\n",
              "      <td>0.000000</td>\n",
              "      <td>0.000000</td>\n",
              "      <td>0.295474</td>\n",
              "      <td>0.000000</td>\n",
              "      <td>0.000000</td>\n",
              "    </tr>\n",
              "    <tr>\n",
              "      <th>minas</th>\n",
              "      <td>0.371802</td>\n",
              "      <td>0.000000</td>\n",
              "      <td>0.000000</td>\n",
              "      <td>0.000000</td>\n",
              "      <td>0.327798</td>\n",
              "    </tr>\n",
              "    <tr>\n",
              "      <th>mundialmente</th>\n",
              "      <td>0.000000</td>\n",
              "      <td>0.000000</td>\n",
              "      <td>0.000000</td>\n",
              "      <td>0.283363</td>\n",
              "      <td>0.000000</td>\n",
              "    </tr>\n",
              "    <tr>\n",
              "      <th>municipio</th>\n",
              "      <td>0.460840</td>\n",
              "      <td>0.000000</td>\n",
              "      <td>0.000000</td>\n",
              "      <td>0.000000</td>\n",
              "      <td>0.000000</td>\n",
              "    </tr>\n",
              "    <tr>\n",
              "      <th>nacional</th>\n",
              "      <td>0.000000</td>\n",
              "      <td>0.000000</td>\n",
              "      <td>0.000000</td>\n",
              "      <td>0.283363</td>\n",
              "      <td>0.000000</td>\n",
              "    </tr>\n",
              "    <tr>\n",
              "      <th>onu</th>\n",
              "      <td>0.000000</td>\n",
              "      <td>0.000000</td>\n",
              "      <td>0.295474</td>\n",
              "      <td>0.000000</td>\n",
              "      <td>0.000000</td>\n",
              "    </tr>\n",
              "    <tr>\n",
              "      <th>politico</th>\n",
              "      <td>0.000000</td>\n",
              "      <td>0.000000</td>\n",
              "      <td>0.000000</td>\n",
              "      <td>0.283363</td>\n",
              "      <td>0.000000</td>\n",
              "    </tr>\n",
              "    <tr>\n",
              "      <th>ponto</th>\n",
              "      <td>0.000000</td>\n",
              "      <td>0.000000</td>\n",
              "      <td>0.000000</td>\n",
              "      <td>0.283363</td>\n",
              "      <td>0.000000</td>\n",
              "    </tr>\n",
              "    <tr>\n",
              "      <th>populacao</th>\n",
              "      <td>0.000000</td>\n",
              "      <td>0.331405</td>\n",
              "      <td>0.000000</td>\n",
              "      <td>0.000000</td>\n",
              "      <td>0.000000</td>\n",
              "    </tr>\n",
              "    <tr>\n",
              "      <th>population</th>\n",
              "      <td>0.000000</td>\n",
              "      <td>0.000000</td>\n",
              "      <td>0.295474</td>\n",
              "      <td>0.000000</td>\n",
              "      <td>0.000000</td>\n",
              "    </tr>\n",
              "    <tr>\n",
              "      <th>populoso</th>\n",
              "      <td>0.000000</td>\n",
              "      <td>0.000000</td>\n",
              "      <td>0.000000</td>\n",
              "      <td>0.000000</td>\n",
              "      <td>0.406297</td>\n",
              "    </tr>\n",
              "    <tr>\n",
              "      <th>qualidade</th>\n",
              "      <td>0.000000</td>\n",
              "      <td>0.000000</td>\n",
              "      <td>0.295474</td>\n",
              "      <td>0.000000</td>\n",
              "      <td>0.000000</td>\n",
              "    </tr>\n",
              "    <tr>\n",
              "      <th>segundo</th>\n",
              "      <td>0.000000</td>\n",
              "      <td>0.000000</td>\n",
              "      <td>0.000000</td>\n",
              "      <td>0.000000</td>\n",
              "      <td>0.406297</td>\n",
              "    </tr>\n",
              "    <tr>\n",
              "      <th>significativa</th>\n",
              "      <td>0.000000</td>\n",
              "      <td>0.000000</td>\n",
              "      <td>0.000000</td>\n",
              "      <td>0.283363</td>\n",
              "      <td>0.000000</td>\n",
              "    </tr>\n",
              "    <tr>\n",
              "      <th>vida</th>\n",
              "      <td>0.000000</td>\n",
              "      <td>0.000000</td>\n",
              "      <td>0.295474</td>\n",
              "      <td>0.000000</td>\n",
              "      <td>0.000000</td>\n",
              "    </tr>\n",
              "    <tr>\n",
              "      <th>vista</th>\n",
              "      <td>0.000000</td>\n",
              "      <td>0.000000</td>\n",
              "      <td>0.000000</td>\n",
              "      <td>0.283363</td>\n",
              "      <td>0.000000</td>\n",
              "    </tr>\n",
              "  </tbody>\n",
              "</table>\n",
              "</div>\n",
              "    <div class=\"colab-df-buttons\">\n",
              "\n",
              "  <div class=\"colab-df-container\">\n",
              "    <button class=\"colab-df-convert\" onclick=\"convertToInteractive('df-ad48f0e3-4641-4c64-b153-7c0c4ae60e4b')\"\n",
              "            title=\"Convert this dataframe to an interactive table.\"\n",
              "            style=\"display:none;\">\n",
              "\n",
              "  <svg xmlns=\"http://www.w3.org/2000/svg\" height=\"24px\" viewBox=\"0 -960 960 960\">\n",
              "    <path d=\"M120-120v-720h720v720H120Zm60-500h600v-160H180v160Zm220 220h160v-160H400v160Zm0 220h160v-160H400v160ZM180-400h160v-160H180v160Zm440 0h160v-160H620v160ZM180-180h160v-160H180v160Zm440 0h160v-160H620v160Z\"/>\n",
              "  </svg>\n",
              "    </button>\n",
              "\n",
              "  <style>\n",
              "    .colab-df-container {\n",
              "      display:flex;\n",
              "      gap: 12px;\n",
              "    }\n",
              "\n",
              "    .colab-df-convert {\n",
              "      background-color: #E8F0FE;\n",
              "      border: none;\n",
              "      border-radius: 50%;\n",
              "      cursor: pointer;\n",
              "      display: none;\n",
              "      fill: #1967D2;\n",
              "      height: 32px;\n",
              "      padding: 0 0 0 0;\n",
              "      width: 32px;\n",
              "    }\n",
              "\n",
              "    .colab-df-convert:hover {\n",
              "      background-color: #E2EBFA;\n",
              "      box-shadow: 0px 1px 2px rgba(60, 64, 67, 0.3), 0px 1px 3px 1px rgba(60, 64, 67, 0.15);\n",
              "      fill: #174EA6;\n",
              "    }\n",
              "\n",
              "    .colab-df-buttons div {\n",
              "      margin-bottom: 4px;\n",
              "    }\n",
              "\n",
              "    [theme=dark] .colab-df-convert {\n",
              "      background-color: #3B4455;\n",
              "      fill: #D2E3FC;\n",
              "    }\n",
              "\n",
              "    [theme=dark] .colab-df-convert:hover {\n",
              "      background-color: #434B5C;\n",
              "      box-shadow: 0px 1px 3px 1px rgba(0, 0, 0, 0.15);\n",
              "      filter: drop-shadow(0px 1px 2px rgba(0, 0, 0, 0.3));\n",
              "      fill: #FFFFFF;\n",
              "    }\n",
              "  </style>\n",
              "\n",
              "    <script>\n",
              "      const buttonEl =\n",
              "        document.querySelector('#df-ad48f0e3-4641-4c64-b153-7c0c4ae60e4b button.colab-df-convert');\n",
              "      buttonEl.style.display =\n",
              "        google.colab.kernel.accessAllowed ? 'block' : 'none';\n",
              "\n",
              "      async function convertToInteractive(key) {\n",
              "        const element = document.querySelector('#df-ad48f0e3-4641-4c64-b153-7c0c4ae60e4b');\n",
              "        const dataTable =\n",
              "          await google.colab.kernel.invokeFunction('convertToInteractive',\n",
              "                                                    [key], {});\n",
              "        if (!dataTable) return;\n",
              "\n",
              "        const docLinkHtml = 'Like what you see? Visit the ' +\n",
              "          '<a target=\"_blank\" href=https://colab.research.google.com/notebooks/data_table.ipynb>data table notebook</a>'\n",
              "          + ' to learn more about interactive tables.';\n",
              "        element.innerHTML = '';\n",
              "        dataTable['output_type'] = 'display_data';\n",
              "        await google.colab.output.renderOutput(dataTable, element);\n",
              "        const docLink = document.createElement('div');\n",
              "        docLink.innerHTML = docLinkHtml;\n",
              "        element.appendChild(docLink);\n",
              "      }\n",
              "    </script>\n",
              "  </div>\n",
              "\n",
              "\n",
              "<div id=\"df-a99683b9-c8f3-4033-bbca-561c80921d35\">\n",
              "  <button class=\"colab-df-quickchart\" onclick=\"quickchart('df-a99683b9-c8f3-4033-bbca-561c80921d35')\"\n",
              "            title=\"Suggest charts\"\n",
              "            style=\"display:none;\">\n",
              "\n",
              "<svg xmlns=\"http://www.w3.org/2000/svg\" height=\"24px\"viewBox=\"0 0 24 24\"\n",
              "     width=\"24px\">\n",
              "    <g>\n",
              "        <path d=\"M19 3H5c-1.1 0-2 .9-2 2v14c0 1.1.9 2 2 2h14c1.1 0 2-.9 2-2V5c0-1.1-.9-2-2-2zM9 17H7v-7h2v7zm4 0h-2V7h2v10zm4 0h-2v-4h2v4z\"/>\n",
              "    </g>\n",
              "</svg>\n",
              "  </button>\n",
              "\n",
              "<style>\n",
              "  .colab-df-quickchart {\n",
              "      --bg-color: #E8F0FE;\n",
              "      --fill-color: #1967D2;\n",
              "      --hover-bg-color: #E2EBFA;\n",
              "      --hover-fill-color: #174EA6;\n",
              "      --disabled-fill-color: #AAA;\n",
              "      --disabled-bg-color: #DDD;\n",
              "  }\n",
              "\n",
              "  [theme=dark] .colab-df-quickchart {\n",
              "      --bg-color: #3B4455;\n",
              "      --fill-color: #D2E3FC;\n",
              "      --hover-bg-color: #434B5C;\n",
              "      --hover-fill-color: #FFFFFF;\n",
              "      --disabled-bg-color: #3B4455;\n",
              "      --disabled-fill-color: #666;\n",
              "  }\n",
              "\n",
              "  .colab-df-quickchart {\n",
              "    background-color: var(--bg-color);\n",
              "    border: none;\n",
              "    border-radius: 50%;\n",
              "    cursor: pointer;\n",
              "    display: none;\n",
              "    fill: var(--fill-color);\n",
              "    height: 32px;\n",
              "    padding: 0;\n",
              "    width: 32px;\n",
              "  }\n",
              "\n",
              "  .colab-df-quickchart:hover {\n",
              "    background-color: var(--hover-bg-color);\n",
              "    box-shadow: 0 1px 2px rgba(60, 64, 67, 0.3), 0 1px 3px 1px rgba(60, 64, 67, 0.15);\n",
              "    fill: var(--button-hover-fill-color);\n",
              "  }\n",
              "\n",
              "  .colab-df-quickchart-complete:disabled,\n",
              "  .colab-df-quickchart-complete:disabled:hover {\n",
              "    background-color: var(--disabled-bg-color);\n",
              "    fill: var(--disabled-fill-color);\n",
              "    box-shadow: none;\n",
              "  }\n",
              "\n",
              "  .colab-df-spinner {\n",
              "    border: 2px solid var(--fill-color);\n",
              "    border-color: transparent;\n",
              "    border-bottom-color: var(--fill-color);\n",
              "    animation:\n",
              "      spin 1s steps(1) infinite;\n",
              "  }\n",
              "\n",
              "  @keyframes spin {\n",
              "    0% {\n",
              "      border-color: transparent;\n",
              "      border-bottom-color: var(--fill-color);\n",
              "      border-left-color: var(--fill-color);\n",
              "    }\n",
              "    20% {\n",
              "      border-color: transparent;\n",
              "      border-left-color: var(--fill-color);\n",
              "      border-top-color: var(--fill-color);\n",
              "    }\n",
              "    30% {\n",
              "      border-color: transparent;\n",
              "      border-left-color: var(--fill-color);\n",
              "      border-top-color: var(--fill-color);\n",
              "      border-right-color: var(--fill-color);\n",
              "    }\n",
              "    40% {\n",
              "      border-color: transparent;\n",
              "      border-right-color: var(--fill-color);\n",
              "      border-top-color: var(--fill-color);\n",
              "    }\n",
              "    60% {\n",
              "      border-color: transparent;\n",
              "      border-right-color: var(--fill-color);\n",
              "    }\n",
              "    80% {\n",
              "      border-color: transparent;\n",
              "      border-right-color: var(--fill-color);\n",
              "      border-bottom-color: var(--fill-color);\n",
              "    }\n",
              "    90% {\n",
              "      border-color: transparent;\n",
              "      border-bottom-color: var(--fill-color);\n",
              "    }\n",
              "  }\n",
              "</style>\n",
              "\n",
              "  <script>\n",
              "    async function quickchart(key) {\n",
              "      const quickchartButtonEl =\n",
              "        document.querySelector('#' + key + ' button');\n",
              "      quickchartButtonEl.disabled = true;  // To prevent multiple clicks.\n",
              "      quickchartButtonEl.classList.add('colab-df-spinner');\n",
              "      try {\n",
              "        const charts = await google.colab.kernel.invokeFunction(\n",
              "            'suggestCharts', [key], {});\n",
              "      } catch (error) {\n",
              "        console.error('Error during call to suggestCharts:', error);\n",
              "      }\n",
              "      quickchartButtonEl.classList.remove('colab-df-spinner');\n",
              "      quickchartButtonEl.classList.add('colab-df-quickchart-complete');\n",
              "    }\n",
              "    (() => {\n",
              "      let quickchartButtonEl =\n",
              "        document.querySelector('#df-a99683b9-c8f3-4033-bbca-561c80921d35 button');\n",
              "      quickchartButtonEl.style.display =\n",
              "        google.colab.kernel.accessAllowed ? 'block' : 'none';\n",
              "    })();\n",
              "  </script>\n",
              "</div>\n",
              "\n",
              "  <div id=\"id_c7eda122-022f-420f-a7ff-9dc8242e0b95\">\n",
              "    <style>\n",
              "      .colab-df-generate {\n",
              "        background-color: #E8F0FE;\n",
              "        border: none;\n",
              "        border-radius: 50%;\n",
              "        cursor: pointer;\n",
              "        display: none;\n",
              "        fill: #1967D2;\n",
              "        height: 32px;\n",
              "        padding: 0 0 0 0;\n",
              "        width: 32px;\n",
              "      }\n",
              "\n",
              "      .colab-df-generate:hover {\n",
              "        background-color: #E2EBFA;\n",
              "        box-shadow: 0px 1px 2px rgba(60, 64, 67, 0.3), 0px 1px 3px 1px rgba(60, 64, 67, 0.15);\n",
              "        fill: #174EA6;\n",
              "      }\n",
              "\n",
              "      [theme=dark] .colab-df-generate {\n",
              "        background-color: #3B4455;\n",
              "        fill: #D2E3FC;\n",
              "      }\n",
              "\n",
              "      [theme=dark] .colab-df-generate:hover {\n",
              "        background-color: #434B5C;\n",
              "        box-shadow: 0px 1px 3px 1px rgba(0, 0, 0, 0.15);\n",
              "        filter: drop-shadow(0px 1px 2px rgba(0, 0, 0, 0.3));\n",
              "        fill: #FFFFFF;\n",
              "      }\n",
              "    </style>\n",
              "    <button class=\"colab-df-generate\" onclick=\"generateWithVariable('df')\"\n",
              "            title=\"Generate code using this dataframe.\"\n",
              "            style=\"display:none;\">\n",
              "\n",
              "  <svg xmlns=\"http://www.w3.org/2000/svg\" height=\"24px\"viewBox=\"0 0 24 24\"\n",
              "       width=\"24px\">\n",
              "    <path d=\"M7,19H8.4L18.45,9,17,7.55,7,17.6ZM5,21V16.75L18.45,3.32a2,2,0,0,1,2.83,0l1.4,1.43a1.91,1.91,0,0,1,.58,1.4,1.91,1.91,0,0,1-.58,1.4L9.25,21ZM18.45,9,17,7.55Zm-12,3A5.31,5.31,0,0,0,4.9,8.1,5.31,5.31,0,0,0,1,6.5,5.31,5.31,0,0,0,4.9,4.9,5.31,5.31,0,0,0,6.5,1,5.31,5.31,0,0,0,8.1,4.9,5.31,5.31,0,0,0,12,6.5,5.46,5.46,0,0,0,6.5,12Z\"/>\n",
              "  </svg>\n",
              "    </button>\n",
              "    <script>\n",
              "      (() => {\n",
              "      const buttonEl =\n",
              "        document.querySelector('#id_c7eda122-022f-420f-a7ff-9dc8242e0b95 button.colab-df-generate');\n",
              "      buttonEl.style.display =\n",
              "        google.colab.kernel.accessAllowed ? 'block' : 'none';\n",
              "\n",
              "      buttonEl.onclick = () => {\n",
              "        google.colab.notebook.generateWithVariable('df');\n",
              "      }\n",
              "      })();\n",
              "    </script>\n",
              "  </div>\n",
              "\n",
              "    </div>\n",
              "  </div>\n"
            ],
            "application/vnd.google.colaboratory.intrinsic+json": {
              "type": "dataframe",
              "variable_name": "df",
              "summary": "{\n  \"name\": \"df\",\n  \"rows\": 42,\n  \"fields\": [\n    {\n      \"column\": \"doc1\",\n      \"properties\": {\n        \"dtype\": \"number\",\n        \"std\": 0.14131397007760435,\n        \"min\": 0.0,\n        \"max\": 0.4608395189237409,\n        \"num_unique_values\": 4,\n        \"samples\": [\n          0.21959249996397093,\n          0.4608395189237409,\n          0.0\n        ],\n        \"semantic_type\": \"\",\n        \"description\": \"\"\n      }\n    },\n    {\n      \"column\": \"doc2\",\n      \"properties\": {\n        \"dtype\": \"number\",\n        \"std\": 0.13533271891797616,\n        \"min\": 0.0,\n        \"max\": 0.33140517864197094,\n        \"num_unique_values\": 4,\n        \"samples\": [\n          0.15791634330526969,\n          0.33140517864197094,\n          0.0\n        ],\n        \"semantic_type\": \"\",\n        \"description\": \"\"\n      }\n    },\n    {\n      \"column\": \"doc3\",\n      \"properties\": {\n        \"dtype\": \"number\",\n        \"std\": 0.1309448451165373,\n        \"min\": 0.0,\n        \"max\": 0.29547397576537765,\n        \"num_unique_values\": 3,\n        \"samples\": [\n          0.29547397576537765,\n          0.14079493261373258,\n          0.0\n        ],\n        \"semantic_type\": \"\",\n        \"description\": \"\"\n      }\n    },\n    {\n      \"column\": \"doc4\",\n      \"properties\": {\n        \"dtype\": \"number\",\n        \"std\": 0.12871225897370744,\n        \"min\": 0.0,\n        \"max\": 0.2833632788615019,\n        \"num_unique_values\": 3,\n        \"samples\": [\n          0.0,\n          0.13502412064943123,\n          0.2833632788615019\n        ],\n        \"semantic_type\": \"\",\n        \"description\": \"\"\n      }\n    },\n    {\n      \"column\": \"doc5\",\n      \"properties\": {\n        \"dtype\": \"number\",\n        \"std\": 0.13945606247722964,\n        \"min\": 0.0,\n        \"max\": 0.4062966917908593,\n        \"num_unique_values\": 4,\n        \"samples\": [\n          0.19360255059247586,\n          0.3277976126848647,\n          0.0\n        ],\n        \"semantic_type\": \"\",\n        \"description\": \"\"\n      }\n    }\n  ]\n}"
            }
          },
          "metadata": {},
          "execution_count": 19
        }
      ]
    },
    {
      "cell_type": "markdown",
      "metadata": {
        "id": "FF-ZevNeAC4-"
      },
      "source": [
        "## Bag of Words\n",
        "\n",
        "Para representar o bag of words utilizamos o CountVectorizer\n",
        "\n",
        "```python\n",
        "#primeiro criamos o objeto\n",
        "vect_bag = CountVectorizer(binary=False) #se binary = False -> ocorre a contagem da frequência em que a palavra aparece\n",
        "vect_bag #imprime os parâmetros\n",
        "\n",
        "```\n",
        "\n",
        "<b> Atividade </b>\n",
        "\n",
        "6) Faça o CountVectorizer nos documentos da variável <b>documentos</b> considerando binary = True"
      ]
    },
    {
      "cell_type": "code",
      "metadata": {
        "id": "phwSN_usAC4-",
        "colab": {
          "base_uri": "https://localhost:8080/",
          "height": 74
        },
        "outputId": "69f201a8-a7fe-4fe4-91aa-f17717f866b1"
      },
      "source": [
        "vect_bag = CountVectorizer(binary=True)\n",
        "vect_bag"
      ],
      "execution_count": 20,
      "outputs": [
        {
          "output_type": "execute_result",
          "data": {
            "text/plain": [
              "CountVectorizer(binary=True)"
            ],
            "text/html": [
              "<style>#sk-container-id-1 {color: black;background-color: white;}#sk-container-id-1 pre{padding: 0;}#sk-container-id-1 div.sk-toggleable {background-color: white;}#sk-container-id-1 label.sk-toggleable__label {cursor: pointer;display: block;width: 100%;margin-bottom: 0;padding: 0.3em;box-sizing: border-box;text-align: center;}#sk-container-id-1 label.sk-toggleable__label-arrow:before {content: \"▸\";float: left;margin-right: 0.25em;color: #696969;}#sk-container-id-1 label.sk-toggleable__label-arrow:hover:before {color: black;}#sk-container-id-1 div.sk-estimator:hover label.sk-toggleable__label-arrow:before {color: black;}#sk-container-id-1 div.sk-toggleable__content {max-height: 0;max-width: 0;overflow: hidden;text-align: left;background-color: #f0f8ff;}#sk-container-id-1 div.sk-toggleable__content pre {margin: 0.2em;color: black;border-radius: 0.25em;background-color: #f0f8ff;}#sk-container-id-1 input.sk-toggleable__control:checked~div.sk-toggleable__content {max-height: 200px;max-width: 100%;overflow: auto;}#sk-container-id-1 input.sk-toggleable__control:checked~label.sk-toggleable__label-arrow:before {content: \"▾\";}#sk-container-id-1 div.sk-estimator input.sk-toggleable__control:checked~label.sk-toggleable__label {background-color: #d4ebff;}#sk-container-id-1 div.sk-label input.sk-toggleable__control:checked~label.sk-toggleable__label {background-color: #d4ebff;}#sk-container-id-1 input.sk-hidden--visually {border: 0;clip: rect(1px 1px 1px 1px);clip: rect(1px, 1px, 1px, 1px);height: 1px;margin: -1px;overflow: hidden;padding: 0;position: absolute;width: 1px;}#sk-container-id-1 div.sk-estimator {font-family: monospace;background-color: #f0f8ff;border: 1px dotted black;border-radius: 0.25em;box-sizing: border-box;margin-bottom: 0.5em;}#sk-container-id-1 div.sk-estimator:hover {background-color: #d4ebff;}#sk-container-id-1 div.sk-parallel-item::after {content: \"\";width: 100%;border-bottom: 1px solid gray;flex-grow: 1;}#sk-container-id-1 div.sk-label:hover label.sk-toggleable__label {background-color: #d4ebff;}#sk-container-id-1 div.sk-serial::before {content: \"\";position: absolute;border-left: 1px solid gray;box-sizing: border-box;top: 0;bottom: 0;left: 50%;z-index: 0;}#sk-container-id-1 div.sk-serial {display: flex;flex-direction: column;align-items: center;background-color: white;padding-right: 0.2em;padding-left: 0.2em;position: relative;}#sk-container-id-1 div.sk-item {position: relative;z-index: 1;}#sk-container-id-1 div.sk-parallel {display: flex;align-items: stretch;justify-content: center;background-color: white;position: relative;}#sk-container-id-1 div.sk-item::before, #sk-container-id-1 div.sk-parallel-item::before {content: \"\";position: absolute;border-left: 1px solid gray;box-sizing: border-box;top: 0;bottom: 0;left: 50%;z-index: -1;}#sk-container-id-1 div.sk-parallel-item {display: flex;flex-direction: column;z-index: 1;position: relative;background-color: white;}#sk-container-id-1 div.sk-parallel-item:first-child::after {align-self: flex-end;width: 50%;}#sk-container-id-1 div.sk-parallel-item:last-child::after {align-self: flex-start;width: 50%;}#sk-container-id-1 div.sk-parallel-item:only-child::after {width: 0;}#sk-container-id-1 div.sk-dashed-wrapped {border: 1px dashed gray;margin: 0 0.4em 0.5em 0.4em;box-sizing: border-box;padding-bottom: 0.4em;background-color: white;}#sk-container-id-1 div.sk-label label {font-family: monospace;font-weight: bold;display: inline-block;line-height: 1.2em;}#sk-container-id-1 div.sk-label-container {text-align: center;}#sk-container-id-1 div.sk-container {/* jupyter's `normalize.less` sets `[hidden] { display: none; }` but bootstrap.min.css set `[hidden] { display: none !important; }` so we also need the `!important` here to be able to override the default hidden behavior on the sphinx rendered scikit-learn.org. See: https://github.com/scikit-learn/scikit-learn/issues/21755 */display: inline-block !important;position: relative;}#sk-container-id-1 div.sk-text-repr-fallback {display: none;}</style><div id=\"sk-container-id-1\" class=\"sk-top-container\"><div class=\"sk-text-repr-fallback\"><pre>CountVectorizer(binary=True)</pre><b>In a Jupyter environment, please rerun this cell to show the HTML representation or trust the notebook. <br />On GitHub, the HTML representation is unable to render, please try loading this page with nbviewer.org.</b></div><div class=\"sk-container\" hidden><div class=\"sk-item\"><div class=\"sk-estimator sk-toggleable\"><input class=\"sk-toggleable__control sk-hidden--visually\" id=\"sk-estimator-id-1\" type=\"checkbox\" checked><label for=\"sk-estimator-id-1\" class=\"sk-toggleable__label sk-toggleable__label-arrow\">CountVectorizer</label><div class=\"sk-toggleable__content\"><pre>CountVectorizer(binary=True)</pre></div></div></div></div></div>"
            ]
          },
          "metadata": {},
          "execution_count": 20
        }
      ]
    },
    {
      "cell_type": "markdown",
      "metadata": {
        "id": "z0ZNTXLWAC5I"
      },
      "source": [
        "<b> Atividade </b>\n",
        "\n",
        "7) Imprima o índice correspondente a cada token da lista retornada por vect_bag.get_feature_names_out()"
      ]
    },
    {
      "cell_type": "code",
      "metadata": {
        "id": "P3OOiwE-N_Uj",
        "colab": {
          "base_uri": "https://localhost:8080/"
        },
        "outputId": "15cde262-9b3d-408e-f86b-8328becf2a14"
      },
      "source": [
        "docs_bag = vect_bag.fit_transform(doc_proc)\n",
        "docs_bag"
      ],
      "execution_count": 21,
      "outputs": [
        {
          "output_type": "execute_result",
          "data": {
            "text/plain": [
              "<5x42 sparse matrix of type '<class 'numpy.int64'>'\n",
              "\twith 55 stored elements in Compressed Sparse Row format>"
            ]
          },
          "metadata": {},
          "execution_count": 21
        }
      ]
    },
    {
      "cell_type": "code",
      "source": [
        "df = pd.DataFrame(docs_bag.T.todense(),\n",
        "                  index=vect_bag.get_feature_names_out(),\n",
        "                  columns=[\"doc\"+str(i+1) for i in range(0,len(documentos))])\n",
        "df"
      ],
      "metadata": {
        "colab": {
          "base_uri": "https://localhost:8080/",
          "height": 1000
        },
        "id": "83iQ7ygVmkOX",
        "outputId": "de0bc3e4-0502-40ff-9db2-6ba72a88b6a7"
      },
      "execution_count": 22,
      "outputs": [
        {
          "output_type": "execute_result",
          "data": {
            "text/plain": [
              "               doc1  doc2  doc3  doc4  doc5\n",
              "america           0     0     1     0     0\n",
              "belo              1     1     1     1     1\n",
              "brasil            0     0     0     0     1\n",
              "brasileiro        1     1     0     0     0\n",
              "capital           1     0     0     0     1\n",
              "commitee          0     0     1     0     0\n",
              "conforme          0     1     0     0     0\n",
              "conhecida         0     0     0     1     0\n",
              "crisis            0     0     1     0     0\n",
              "cultural          0     0     0     1     0\n",
              "economico         0     0     0     1     0\n",
              "estado            1     0     0     0     1\n",
              "estatistica       0     1     0     0     0\n",
              "estimada          0     1     0     0     0\n",
              "estimativas       0     1     0     0     0\n",
              "exerce            0     0     0     1     0\n",
              "geografia         0     1     0     0     0\n",
              "gerais            1     0     0     0     1\n",
              "habitantes        0     1     0     0     0\n",
              "horizonte         1     1     1     1     1\n",
              "indicada          0     0     1     0     0\n",
              "influencia        0     0     0     1     0\n",
              "instituto         0     1     0     0     0\n",
              "internacional     0     0     0     1     0\n",
              "latina            0     0     1     0     0\n",
              "melhor            0     0     1     0     0\n",
              "metropole         0     0     1     0     0\n",
              "minas             1     0     0     0     1\n",
              "mundialmente      0     0     0     1     0\n",
              "municipio         1     0     0     0     0\n",
              "nacional          0     0     0     1     0\n",
              "onu               0     0     1     0     0\n",
              "politico          0     0     0     1     0\n",
              "ponto             0     0     0     1     0\n",
              "populacao         0     1     0     0     0\n",
              "population        0     0     1     0     0\n",
              "populoso          0     0     0     0     1\n",
              "qualidade         0     0     1     0     0\n",
              "segundo           0     0     0     0     1\n",
              "significativa     0     0     0     1     0\n",
              "vida              0     0     1     0     0\n",
              "vista             0     0     0     1     0"
            ],
            "text/html": [
              "\n",
              "  <div id=\"df-02da3580-0ae2-49ac-bcd8-544aef55ea1d\" class=\"colab-df-container\">\n",
              "    <div>\n",
              "<style scoped>\n",
              "    .dataframe tbody tr th:only-of-type {\n",
              "        vertical-align: middle;\n",
              "    }\n",
              "\n",
              "    .dataframe tbody tr th {\n",
              "        vertical-align: top;\n",
              "    }\n",
              "\n",
              "    .dataframe thead th {\n",
              "        text-align: right;\n",
              "    }\n",
              "</style>\n",
              "<table border=\"1\" class=\"dataframe\">\n",
              "  <thead>\n",
              "    <tr style=\"text-align: right;\">\n",
              "      <th></th>\n",
              "      <th>doc1</th>\n",
              "      <th>doc2</th>\n",
              "      <th>doc3</th>\n",
              "      <th>doc4</th>\n",
              "      <th>doc5</th>\n",
              "    </tr>\n",
              "  </thead>\n",
              "  <tbody>\n",
              "    <tr>\n",
              "      <th>america</th>\n",
              "      <td>0</td>\n",
              "      <td>0</td>\n",
              "      <td>1</td>\n",
              "      <td>0</td>\n",
              "      <td>0</td>\n",
              "    </tr>\n",
              "    <tr>\n",
              "      <th>belo</th>\n",
              "      <td>1</td>\n",
              "      <td>1</td>\n",
              "      <td>1</td>\n",
              "      <td>1</td>\n",
              "      <td>1</td>\n",
              "    </tr>\n",
              "    <tr>\n",
              "      <th>brasil</th>\n",
              "      <td>0</td>\n",
              "      <td>0</td>\n",
              "      <td>0</td>\n",
              "      <td>0</td>\n",
              "      <td>1</td>\n",
              "    </tr>\n",
              "    <tr>\n",
              "      <th>brasileiro</th>\n",
              "      <td>1</td>\n",
              "      <td>1</td>\n",
              "      <td>0</td>\n",
              "      <td>0</td>\n",
              "      <td>0</td>\n",
              "    </tr>\n",
              "    <tr>\n",
              "      <th>capital</th>\n",
              "      <td>1</td>\n",
              "      <td>0</td>\n",
              "      <td>0</td>\n",
              "      <td>0</td>\n",
              "      <td>1</td>\n",
              "    </tr>\n",
              "    <tr>\n",
              "      <th>commitee</th>\n",
              "      <td>0</td>\n",
              "      <td>0</td>\n",
              "      <td>1</td>\n",
              "      <td>0</td>\n",
              "      <td>0</td>\n",
              "    </tr>\n",
              "    <tr>\n",
              "      <th>conforme</th>\n",
              "      <td>0</td>\n",
              "      <td>1</td>\n",
              "      <td>0</td>\n",
              "      <td>0</td>\n",
              "      <td>0</td>\n",
              "    </tr>\n",
              "    <tr>\n",
              "      <th>conhecida</th>\n",
              "      <td>0</td>\n",
              "      <td>0</td>\n",
              "      <td>0</td>\n",
              "      <td>1</td>\n",
              "      <td>0</td>\n",
              "    </tr>\n",
              "    <tr>\n",
              "      <th>crisis</th>\n",
              "      <td>0</td>\n",
              "      <td>0</td>\n",
              "      <td>1</td>\n",
              "      <td>0</td>\n",
              "      <td>0</td>\n",
              "    </tr>\n",
              "    <tr>\n",
              "      <th>cultural</th>\n",
              "      <td>0</td>\n",
              "      <td>0</td>\n",
              "      <td>0</td>\n",
              "      <td>1</td>\n",
              "      <td>0</td>\n",
              "    </tr>\n",
              "    <tr>\n",
              "      <th>economico</th>\n",
              "      <td>0</td>\n",
              "      <td>0</td>\n",
              "      <td>0</td>\n",
              "      <td>1</td>\n",
              "      <td>0</td>\n",
              "    </tr>\n",
              "    <tr>\n",
              "      <th>estado</th>\n",
              "      <td>1</td>\n",
              "      <td>0</td>\n",
              "      <td>0</td>\n",
              "      <td>0</td>\n",
              "      <td>1</td>\n",
              "    </tr>\n",
              "    <tr>\n",
              "      <th>estatistica</th>\n",
              "      <td>0</td>\n",
              "      <td>1</td>\n",
              "      <td>0</td>\n",
              "      <td>0</td>\n",
              "      <td>0</td>\n",
              "    </tr>\n",
              "    <tr>\n",
              "      <th>estimada</th>\n",
              "      <td>0</td>\n",
              "      <td>1</td>\n",
              "      <td>0</td>\n",
              "      <td>0</td>\n",
              "      <td>0</td>\n",
              "    </tr>\n",
              "    <tr>\n",
              "      <th>estimativas</th>\n",
              "      <td>0</td>\n",
              "      <td>1</td>\n",
              "      <td>0</td>\n",
              "      <td>0</td>\n",
              "      <td>0</td>\n",
              "    </tr>\n",
              "    <tr>\n",
              "      <th>exerce</th>\n",
              "      <td>0</td>\n",
              "      <td>0</td>\n",
              "      <td>0</td>\n",
              "      <td>1</td>\n",
              "      <td>0</td>\n",
              "    </tr>\n",
              "    <tr>\n",
              "      <th>geografia</th>\n",
              "      <td>0</td>\n",
              "      <td>1</td>\n",
              "      <td>0</td>\n",
              "      <td>0</td>\n",
              "      <td>0</td>\n",
              "    </tr>\n",
              "    <tr>\n",
              "      <th>gerais</th>\n",
              "      <td>1</td>\n",
              "      <td>0</td>\n",
              "      <td>0</td>\n",
              "      <td>0</td>\n",
              "      <td>1</td>\n",
              "    </tr>\n",
              "    <tr>\n",
              "      <th>habitantes</th>\n",
              "      <td>0</td>\n",
              "      <td>1</td>\n",
              "      <td>0</td>\n",
              "      <td>0</td>\n",
              "      <td>0</td>\n",
              "    </tr>\n",
              "    <tr>\n",
              "      <th>horizonte</th>\n",
              "      <td>1</td>\n",
              "      <td>1</td>\n",
              "      <td>1</td>\n",
              "      <td>1</td>\n",
              "      <td>1</td>\n",
              "    </tr>\n",
              "    <tr>\n",
              "      <th>indicada</th>\n",
              "      <td>0</td>\n",
              "      <td>0</td>\n",
              "      <td>1</td>\n",
              "      <td>0</td>\n",
              "      <td>0</td>\n",
              "    </tr>\n",
              "    <tr>\n",
              "      <th>influencia</th>\n",
              "      <td>0</td>\n",
              "      <td>0</td>\n",
              "      <td>0</td>\n",
              "      <td>1</td>\n",
              "      <td>0</td>\n",
              "    </tr>\n",
              "    <tr>\n",
              "      <th>instituto</th>\n",
              "      <td>0</td>\n",
              "      <td>1</td>\n",
              "      <td>0</td>\n",
              "      <td>0</td>\n",
              "      <td>0</td>\n",
              "    </tr>\n",
              "    <tr>\n",
              "      <th>internacional</th>\n",
              "      <td>0</td>\n",
              "      <td>0</td>\n",
              "      <td>0</td>\n",
              "      <td>1</td>\n",
              "      <td>0</td>\n",
              "    </tr>\n",
              "    <tr>\n",
              "      <th>latina</th>\n",
              "      <td>0</td>\n",
              "      <td>0</td>\n",
              "      <td>1</td>\n",
              "      <td>0</td>\n",
              "      <td>0</td>\n",
              "    </tr>\n",
              "    <tr>\n",
              "      <th>melhor</th>\n",
              "      <td>0</td>\n",
              "      <td>0</td>\n",
              "      <td>1</td>\n",
              "      <td>0</td>\n",
              "      <td>0</td>\n",
              "    </tr>\n",
              "    <tr>\n",
              "      <th>metropole</th>\n",
              "      <td>0</td>\n",
              "      <td>0</td>\n",
              "      <td>1</td>\n",
              "      <td>0</td>\n",
              "      <td>0</td>\n",
              "    </tr>\n",
              "    <tr>\n",
              "      <th>minas</th>\n",
              "      <td>1</td>\n",
              "      <td>0</td>\n",
              "      <td>0</td>\n",
              "      <td>0</td>\n",
              "      <td>1</td>\n",
              "    </tr>\n",
              "    <tr>\n",
              "      <th>mundialmente</th>\n",
              "      <td>0</td>\n",
              "      <td>0</td>\n",
              "      <td>0</td>\n",
              "      <td>1</td>\n",
              "      <td>0</td>\n",
              "    </tr>\n",
              "    <tr>\n",
              "      <th>municipio</th>\n",
              "      <td>1</td>\n",
              "      <td>0</td>\n",
              "      <td>0</td>\n",
              "      <td>0</td>\n",
              "      <td>0</td>\n",
              "    </tr>\n",
              "    <tr>\n",
              "      <th>nacional</th>\n",
              "      <td>0</td>\n",
              "      <td>0</td>\n",
              "      <td>0</td>\n",
              "      <td>1</td>\n",
              "      <td>0</td>\n",
              "    </tr>\n",
              "    <tr>\n",
              "      <th>onu</th>\n",
              "      <td>0</td>\n",
              "      <td>0</td>\n",
              "      <td>1</td>\n",
              "      <td>0</td>\n",
              "      <td>0</td>\n",
              "    </tr>\n",
              "    <tr>\n",
              "      <th>politico</th>\n",
              "      <td>0</td>\n",
              "      <td>0</td>\n",
              "      <td>0</td>\n",
              "      <td>1</td>\n",
              "      <td>0</td>\n",
              "    </tr>\n",
              "    <tr>\n",
              "      <th>ponto</th>\n",
              "      <td>0</td>\n",
              "      <td>0</td>\n",
              "      <td>0</td>\n",
              "      <td>1</td>\n",
              "      <td>0</td>\n",
              "    </tr>\n",
              "    <tr>\n",
              "      <th>populacao</th>\n",
              "      <td>0</td>\n",
              "      <td>1</td>\n",
              "      <td>0</td>\n",
              "      <td>0</td>\n",
              "      <td>0</td>\n",
              "    </tr>\n",
              "    <tr>\n",
              "      <th>population</th>\n",
              "      <td>0</td>\n",
              "      <td>0</td>\n",
              "      <td>1</td>\n",
              "      <td>0</td>\n",
              "      <td>0</td>\n",
              "    </tr>\n",
              "    <tr>\n",
              "      <th>populoso</th>\n",
              "      <td>0</td>\n",
              "      <td>0</td>\n",
              "      <td>0</td>\n",
              "      <td>0</td>\n",
              "      <td>1</td>\n",
              "    </tr>\n",
              "    <tr>\n",
              "      <th>qualidade</th>\n",
              "      <td>0</td>\n",
              "      <td>0</td>\n",
              "      <td>1</td>\n",
              "      <td>0</td>\n",
              "      <td>0</td>\n",
              "    </tr>\n",
              "    <tr>\n",
              "      <th>segundo</th>\n",
              "      <td>0</td>\n",
              "      <td>0</td>\n",
              "      <td>0</td>\n",
              "      <td>0</td>\n",
              "      <td>1</td>\n",
              "    </tr>\n",
              "    <tr>\n",
              "      <th>significativa</th>\n",
              "      <td>0</td>\n",
              "      <td>0</td>\n",
              "      <td>0</td>\n",
              "      <td>1</td>\n",
              "      <td>0</td>\n",
              "    </tr>\n",
              "    <tr>\n",
              "      <th>vida</th>\n",
              "      <td>0</td>\n",
              "      <td>0</td>\n",
              "      <td>1</td>\n",
              "      <td>0</td>\n",
              "      <td>0</td>\n",
              "    </tr>\n",
              "    <tr>\n",
              "      <th>vista</th>\n",
              "      <td>0</td>\n",
              "      <td>0</td>\n",
              "      <td>0</td>\n",
              "      <td>1</td>\n",
              "      <td>0</td>\n",
              "    </tr>\n",
              "  </tbody>\n",
              "</table>\n",
              "</div>\n",
              "    <div class=\"colab-df-buttons\">\n",
              "\n",
              "  <div class=\"colab-df-container\">\n",
              "    <button class=\"colab-df-convert\" onclick=\"convertToInteractive('df-02da3580-0ae2-49ac-bcd8-544aef55ea1d')\"\n",
              "            title=\"Convert this dataframe to an interactive table.\"\n",
              "            style=\"display:none;\">\n",
              "\n",
              "  <svg xmlns=\"http://www.w3.org/2000/svg\" height=\"24px\" viewBox=\"0 -960 960 960\">\n",
              "    <path d=\"M120-120v-720h720v720H120Zm60-500h600v-160H180v160Zm220 220h160v-160H400v160Zm0 220h160v-160H400v160ZM180-400h160v-160H180v160Zm440 0h160v-160H620v160ZM180-180h160v-160H180v160Zm440 0h160v-160H620v160Z\"/>\n",
              "  </svg>\n",
              "    </button>\n",
              "\n",
              "  <style>\n",
              "    .colab-df-container {\n",
              "      display:flex;\n",
              "      gap: 12px;\n",
              "    }\n",
              "\n",
              "    .colab-df-convert {\n",
              "      background-color: #E8F0FE;\n",
              "      border: none;\n",
              "      border-radius: 50%;\n",
              "      cursor: pointer;\n",
              "      display: none;\n",
              "      fill: #1967D2;\n",
              "      height: 32px;\n",
              "      padding: 0 0 0 0;\n",
              "      width: 32px;\n",
              "    }\n",
              "\n",
              "    .colab-df-convert:hover {\n",
              "      background-color: #E2EBFA;\n",
              "      box-shadow: 0px 1px 2px rgba(60, 64, 67, 0.3), 0px 1px 3px 1px rgba(60, 64, 67, 0.15);\n",
              "      fill: #174EA6;\n",
              "    }\n",
              "\n",
              "    .colab-df-buttons div {\n",
              "      margin-bottom: 4px;\n",
              "    }\n",
              "\n",
              "    [theme=dark] .colab-df-convert {\n",
              "      background-color: #3B4455;\n",
              "      fill: #D2E3FC;\n",
              "    }\n",
              "\n",
              "    [theme=dark] .colab-df-convert:hover {\n",
              "      background-color: #434B5C;\n",
              "      box-shadow: 0px 1px 3px 1px rgba(0, 0, 0, 0.15);\n",
              "      filter: drop-shadow(0px 1px 2px rgba(0, 0, 0, 0.3));\n",
              "      fill: #FFFFFF;\n",
              "    }\n",
              "  </style>\n",
              "\n",
              "    <script>\n",
              "      const buttonEl =\n",
              "        document.querySelector('#df-02da3580-0ae2-49ac-bcd8-544aef55ea1d button.colab-df-convert');\n",
              "      buttonEl.style.display =\n",
              "        google.colab.kernel.accessAllowed ? 'block' : 'none';\n",
              "\n",
              "      async function convertToInteractive(key) {\n",
              "        const element = document.querySelector('#df-02da3580-0ae2-49ac-bcd8-544aef55ea1d');\n",
              "        const dataTable =\n",
              "          await google.colab.kernel.invokeFunction('convertToInteractive',\n",
              "                                                    [key], {});\n",
              "        if (!dataTable) return;\n",
              "\n",
              "        const docLinkHtml = 'Like what you see? Visit the ' +\n",
              "          '<a target=\"_blank\" href=https://colab.research.google.com/notebooks/data_table.ipynb>data table notebook</a>'\n",
              "          + ' to learn more about interactive tables.';\n",
              "        element.innerHTML = '';\n",
              "        dataTable['output_type'] = 'display_data';\n",
              "        await google.colab.output.renderOutput(dataTable, element);\n",
              "        const docLink = document.createElement('div');\n",
              "        docLink.innerHTML = docLinkHtml;\n",
              "        element.appendChild(docLink);\n",
              "      }\n",
              "    </script>\n",
              "  </div>\n",
              "\n",
              "\n",
              "<div id=\"df-6b063e0f-a461-4187-ad7d-8b7de7bdb6e6\">\n",
              "  <button class=\"colab-df-quickchart\" onclick=\"quickchart('df-6b063e0f-a461-4187-ad7d-8b7de7bdb6e6')\"\n",
              "            title=\"Suggest charts\"\n",
              "            style=\"display:none;\">\n",
              "\n",
              "<svg xmlns=\"http://www.w3.org/2000/svg\" height=\"24px\"viewBox=\"0 0 24 24\"\n",
              "     width=\"24px\">\n",
              "    <g>\n",
              "        <path d=\"M19 3H5c-1.1 0-2 .9-2 2v14c0 1.1.9 2 2 2h14c1.1 0 2-.9 2-2V5c0-1.1-.9-2-2-2zM9 17H7v-7h2v7zm4 0h-2V7h2v10zm4 0h-2v-4h2v4z\"/>\n",
              "    </g>\n",
              "</svg>\n",
              "  </button>\n",
              "\n",
              "<style>\n",
              "  .colab-df-quickchart {\n",
              "      --bg-color: #E8F0FE;\n",
              "      --fill-color: #1967D2;\n",
              "      --hover-bg-color: #E2EBFA;\n",
              "      --hover-fill-color: #174EA6;\n",
              "      --disabled-fill-color: #AAA;\n",
              "      --disabled-bg-color: #DDD;\n",
              "  }\n",
              "\n",
              "  [theme=dark] .colab-df-quickchart {\n",
              "      --bg-color: #3B4455;\n",
              "      --fill-color: #D2E3FC;\n",
              "      --hover-bg-color: #434B5C;\n",
              "      --hover-fill-color: #FFFFFF;\n",
              "      --disabled-bg-color: #3B4455;\n",
              "      --disabled-fill-color: #666;\n",
              "  }\n",
              "\n",
              "  .colab-df-quickchart {\n",
              "    background-color: var(--bg-color);\n",
              "    border: none;\n",
              "    border-radius: 50%;\n",
              "    cursor: pointer;\n",
              "    display: none;\n",
              "    fill: var(--fill-color);\n",
              "    height: 32px;\n",
              "    padding: 0;\n",
              "    width: 32px;\n",
              "  }\n",
              "\n",
              "  .colab-df-quickchart:hover {\n",
              "    background-color: var(--hover-bg-color);\n",
              "    box-shadow: 0 1px 2px rgba(60, 64, 67, 0.3), 0 1px 3px 1px rgba(60, 64, 67, 0.15);\n",
              "    fill: var(--button-hover-fill-color);\n",
              "  }\n",
              "\n",
              "  .colab-df-quickchart-complete:disabled,\n",
              "  .colab-df-quickchart-complete:disabled:hover {\n",
              "    background-color: var(--disabled-bg-color);\n",
              "    fill: var(--disabled-fill-color);\n",
              "    box-shadow: none;\n",
              "  }\n",
              "\n",
              "  .colab-df-spinner {\n",
              "    border: 2px solid var(--fill-color);\n",
              "    border-color: transparent;\n",
              "    border-bottom-color: var(--fill-color);\n",
              "    animation:\n",
              "      spin 1s steps(1) infinite;\n",
              "  }\n",
              "\n",
              "  @keyframes spin {\n",
              "    0% {\n",
              "      border-color: transparent;\n",
              "      border-bottom-color: var(--fill-color);\n",
              "      border-left-color: var(--fill-color);\n",
              "    }\n",
              "    20% {\n",
              "      border-color: transparent;\n",
              "      border-left-color: var(--fill-color);\n",
              "      border-top-color: var(--fill-color);\n",
              "    }\n",
              "    30% {\n",
              "      border-color: transparent;\n",
              "      border-left-color: var(--fill-color);\n",
              "      border-top-color: var(--fill-color);\n",
              "      border-right-color: var(--fill-color);\n",
              "    }\n",
              "    40% {\n",
              "      border-color: transparent;\n",
              "      border-right-color: var(--fill-color);\n",
              "      border-top-color: var(--fill-color);\n",
              "    }\n",
              "    60% {\n",
              "      border-color: transparent;\n",
              "      border-right-color: var(--fill-color);\n",
              "    }\n",
              "    80% {\n",
              "      border-color: transparent;\n",
              "      border-right-color: var(--fill-color);\n",
              "      border-bottom-color: var(--fill-color);\n",
              "    }\n",
              "    90% {\n",
              "      border-color: transparent;\n",
              "      border-bottom-color: var(--fill-color);\n",
              "    }\n",
              "  }\n",
              "</style>\n",
              "\n",
              "  <script>\n",
              "    async function quickchart(key) {\n",
              "      const quickchartButtonEl =\n",
              "        document.querySelector('#' + key + ' button');\n",
              "      quickchartButtonEl.disabled = true;  // To prevent multiple clicks.\n",
              "      quickchartButtonEl.classList.add('colab-df-spinner');\n",
              "      try {\n",
              "        const charts = await google.colab.kernel.invokeFunction(\n",
              "            'suggestCharts', [key], {});\n",
              "      } catch (error) {\n",
              "        console.error('Error during call to suggestCharts:', error);\n",
              "      }\n",
              "      quickchartButtonEl.classList.remove('colab-df-spinner');\n",
              "      quickchartButtonEl.classList.add('colab-df-quickchart-complete');\n",
              "    }\n",
              "    (() => {\n",
              "      let quickchartButtonEl =\n",
              "        document.querySelector('#df-6b063e0f-a461-4187-ad7d-8b7de7bdb6e6 button');\n",
              "      quickchartButtonEl.style.display =\n",
              "        google.colab.kernel.accessAllowed ? 'block' : 'none';\n",
              "    })();\n",
              "  </script>\n",
              "</div>\n",
              "\n",
              "  <div id=\"id_e39bb365-636d-4cda-898a-4cc226dbff7f\">\n",
              "    <style>\n",
              "      .colab-df-generate {\n",
              "        background-color: #E8F0FE;\n",
              "        border: none;\n",
              "        border-radius: 50%;\n",
              "        cursor: pointer;\n",
              "        display: none;\n",
              "        fill: #1967D2;\n",
              "        height: 32px;\n",
              "        padding: 0 0 0 0;\n",
              "        width: 32px;\n",
              "      }\n",
              "\n",
              "      .colab-df-generate:hover {\n",
              "        background-color: #E2EBFA;\n",
              "        box-shadow: 0px 1px 2px rgba(60, 64, 67, 0.3), 0px 1px 3px 1px rgba(60, 64, 67, 0.15);\n",
              "        fill: #174EA6;\n",
              "      }\n",
              "\n",
              "      [theme=dark] .colab-df-generate {\n",
              "        background-color: #3B4455;\n",
              "        fill: #D2E3FC;\n",
              "      }\n",
              "\n",
              "      [theme=dark] .colab-df-generate:hover {\n",
              "        background-color: #434B5C;\n",
              "        box-shadow: 0px 1px 3px 1px rgba(0, 0, 0, 0.15);\n",
              "        filter: drop-shadow(0px 1px 2px rgba(0, 0, 0, 0.3));\n",
              "        fill: #FFFFFF;\n",
              "      }\n",
              "    </style>\n",
              "    <button class=\"colab-df-generate\" onclick=\"generateWithVariable('df')\"\n",
              "            title=\"Generate code using this dataframe.\"\n",
              "            style=\"display:none;\">\n",
              "\n",
              "  <svg xmlns=\"http://www.w3.org/2000/svg\" height=\"24px\"viewBox=\"0 0 24 24\"\n",
              "       width=\"24px\">\n",
              "    <path d=\"M7,19H8.4L18.45,9,17,7.55,7,17.6ZM5,21V16.75L18.45,3.32a2,2,0,0,1,2.83,0l1.4,1.43a1.91,1.91,0,0,1,.58,1.4,1.91,1.91,0,0,1-.58,1.4L9.25,21ZM18.45,9,17,7.55Zm-12,3A5.31,5.31,0,0,0,4.9,8.1,5.31,5.31,0,0,0,1,6.5,5.31,5.31,0,0,0,4.9,4.9,5.31,5.31,0,0,0,6.5,1,5.31,5.31,0,0,0,8.1,4.9,5.31,5.31,0,0,0,12,6.5,5.46,5.46,0,0,0,6.5,12Z\"/>\n",
              "  </svg>\n",
              "    </button>\n",
              "    <script>\n",
              "      (() => {\n",
              "      const buttonEl =\n",
              "        document.querySelector('#id_e39bb365-636d-4cda-898a-4cc226dbff7f button.colab-df-generate');\n",
              "      buttonEl.style.display =\n",
              "        google.colab.kernel.accessAllowed ? 'block' : 'none';\n",
              "\n",
              "      buttonEl.onclick = () => {\n",
              "        google.colab.notebook.generateWithVariable('df');\n",
              "      }\n",
              "      })();\n",
              "    </script>\n",
              "  </div>\n",
              "\n",
              "    </div>\n",
              "  </div>\n"
            ],
            "application/vnd.google.colaboratory.intrinsic+json": {
              "type": "dataframe",
              "variable_name": "df",
              "summary": "{\n  \"name\": \"df\",\n  \"rows\": 42,\n  \"fields\": [\n    {\n      \"column\": \"doc1\",\n      \"properties\": {\n        \"dtype\": \"number\",\n        \"std\": 0,\n        \"min\": 0,\n        \"max\": 1,\n        \"num_unique_values\": 2,\n        \"samples\": [\n          1,\n          0\n        ],\n        \"semantic_type\": \"\",\n        \"description\": \"\"\n      }\n    },\n    {\n      \"column\": \"doc2\",\n      \"properties\": {\n        \"dtype\": \"number\",\n        \"std\": 0,\n        \"min\": 0,\n        \"max\": 1,\n        \"num_unique_values\": 2,\n        \"samples\": [\n          1,\n          0\n        ],\n        \"semantic_type\": \"\",\n        \"description\": \"\"\n      }\n    },\n    {\n      \"column\": \"doc3\",\n      \"properties\": {\n        \"dtype\": \"number\",\n        \"std\": 0,\n        \"min\": 0,\n        \"max\": 1,\n        \"num_unique_values\": 2,\n        \"samples\": [\n          0,\n          1\n        ],\n        \"semantic_type\": \"\",\n        \"description\": \"\"\n      }\n    },\n    {\n      \"column\": \"doc4\",\n      \"properties\": {\n        \"dtype\": \"number\",\n        \"std\": 0,\n        \"min\": 0,\n        \"max\": 1,\n        \"num_unique_values\": 2,\n        \"samples\": [\n          1,\n          0\n        ],\n        \"semantic_type\": \"\",\n        \"description\": \"\"\n      }\n    },\n    {\n      \"column\": \"doc5\",\n      \"properties\": {\n        \"dtype\": \"number\",\n        \"std\": 0,\n        \"min\": 0,\n        \"max\": 1,\n        \"num_unique_values\": 2,\n        \"samples\": [\n          1,\n          0\n        ],\n        \"semantic_type\": \"\",\n        \"description\": \"\"\n      }\n    }\n  ]\n}"
            }
          },
          "metadata": {},
          "execution_count": 22
        }
      ]
    },
    {
      "cell_type": "markdown",
      "metadata": {
        "id": "LbLt5-LiAC5v"
      },
      "source": [
        "## Embedding"
      ]
    },
    {
      "cell_type": "markdown",
      "metadata": {
        "id": "bEGWYtn4AC7P"
      },
      "source": [
        "### Treinando seu embedding\n",
        "\n",
        "Aqui vamos utilizar o corpus machado. São textos/contos escritos por Machado de Assis.\n",
        "Esse corpus é diponibilizado pelo NLTK."
      ]
    },
    {
      "cell_type": "code",
      "metadata": {
        "id": "Rdmp3F3OTl0B"
      },
      "source": [
        "from nltk.corpus import machado"
      ],
      "execution_count": 23,
      "outputs": []
    },
    {
      "cell_type": "code",
      "metadata": {
        "id": "PDebqiPkLE3h",
        "colab": {
          "base_uri": "https://localhost:8080/"
        },
        "outputId": "6eb0c08d-474b-47c6-bd31-1db4efce06a6"
      },
      "source": [
        "import nltk\n",
        "from nltk.corpus import machado\n",
        "nltk.download('machado')"
      ],
      "execution_count": 24,
      "outputs": [
        {
          "output_type": "stream",
          "name": "stderr",
          "text": [
            "[nltk_data] Downloading package machado to /root/nltk_data...\n",
            "[nltk_data]   Package machado is already up-to-date!\n"
          ]
        },
        {
          "output_type": "execute_result",
          "data": {
            "text/plain": [
              "True"
            ]
          },
          "metadata": {},
          "execution_count": 24
        }
      ]
    },
    {
      "cell_type": "code",
      "metadata": {
        "id": "EXFpVSHcRACL"
      },
      "source": [
        "raw_casmurro = machado.raw('contos/macn001.txt')"
      ],
      "execution_count": 25,
      "outputs": []
    },
    {
      "cell_type": "markdown",
      "metadata": {
        "id": "XHribhOLAC7m"
      },
      "source": [
        "O método ''machado_sents()'' retorna todo o texto quebrado pelas setenças e já tokenizado.\n",
        "\n",
        "As sentenças são separadas pelo \"\\n\". Dentro de cada sentença, divide os tokens separadas pelo espaço."
      ]
    },
    {
      "cell_type": "code",
      "metadata": {
        "id": "r15rrg-qAC7m",
        "colab": {
          "base_uri": "https://localhost:8080/"
        },
        "outputId": "90e2870b-fc55-4675-f734-518457f965a3"
      },
      "source": [
        "machado_sents = machado.sents()\n",
        "print(machado_sents)"
      ],
      "execution_count": 26,
      "outputs": [
        {
          "output_type": "stream",
          "name": "stdout",
          "text": [
            "[['Conto', ',', 'Contos', 'Fluminenses', ',', '1870'], ['Contos', 'Fluminenses'], ...]\n"
          ]
        }
      ]
    },
    {
      "cell_type": "code",
      "metadata": {
        "id": "b7kbw4m0tGoc",
        "colab": {
          "base_uri": "https://localhost:8080/"
        },
        "outputId": "e151e781-5112-4694-9652-066310d6fdc1"
      },
      "source": [
        "len(machado_sents)"
      ],
      "execution_count": 27,
      "outputs": [
        {
          "output_type": "execute_result",
          "data": {
            "text/plain": [
              "200559"
            ]
          },
          "metadata": {},
          "execution_count": 27
        }
      ]
    },
    {
      "cell_type": "markdown",
      "metadata": {
        "id": "Ek1UIrtOAC7s"
      },
      "source": [
        "Vamos relizar um pré-processamento mínimo nos dados. Lembrando que: o pré-processamento é impotatíssimo no resultado final.\n",
        "\n",
        "<b> Atividade </b>\n",
        "\n",
        "8) Aplique as técnicas abaixo no documento <b> machado_sents</b>:\n",
        "\n",
        "- lower\n",
        "- remoção pontuações"
      ]
    },
    {
      "cell_type": "code",
      "metadata": {
        "id": "ZxatcuCaAC7v"
      },
      "source": [
        "text_preproc = [[word.lower() for word in sentence if word not in string.punctuation ] for sentence in machado_sents]"
      ],
      "execution_count": 28,
      "outputs": []
    },
    {
      "cell_type": "markdown",
      "metadata": {
        "id": "RhJKgQwTAC72"
      },
      "source": [
        "<b> Treinando o embedding </b>\n",
        "\n",
        "Para treinar os embeddings existem alguns parâmetros, vide exemplo abaixo:\n",
        "\n",
        "```python\n",
        "#Alguns parâmetros:\n",
        "## size -> dimensão vetor\n",
        "## min_count -> ignora todas palavras cuja frequência mínima é menor que este\n",
        "## workers -> quantas threads serão utilizadas para treinar o modelo\n",
        "## seed -> seed para geração do numero aleatório.\n",
        "## sg -> 1 para skip-gram; caso contrário CBOW.\n",
        "## window -> contexto, Distância máxima entre a palavra atual e a prevista em uma frase. O default é 5.\n",
        "model = word2vec.Word2Vec(text_preproc, min_count=10, workers=4, seed=123, sg=1, vector_size=300, window=5)\n",
        "```\n",
        "\n",
        "<b> Atividade </b>\n",
        "\n",
        "9) Gere os embeddings com o texto processado do documento de Machado de Assis.\n"
      ]
    },
    {
      "cell_type": "code",
      "metadata": {
        "id": "3qJfsb_FAC75"
      },
      "source": [
        "model = word2vec.Word2Vec(text_preproc, min_count=10, workers=4, seed=123, sg=1, vector_size=300, window=5)"
      ],
      "execution_count": 29,
      "outputs": []
    },
    {
      "cell_type": "markdown",
      "metadata": {
        "id": "tvhul62-AC79"
      },
      "source": [
        "\n",
        "<b> Atividade </b>\n",
        "\n",
        "10) Faça os itens abaixo:\n",
        "\n",
        "- Verifique o vetor de embeddings da variável \"dom\"\n",
        "- Verifique a similaridade entre \"mulher\" e \"homem\"\n",
        "- Verifique a similaridade entre \"dom\" e \"casmurro\""
      ]
    },
    {
      "cell_type": "code",
      "source": [
        "model.wv['dom']"
      ],
      "metadata": {
        "id": "O3-gzJzoAX98",
        "colab": {
          "base_uri": "https://localhost:8080/"
        },
        "outputId": "3f868089-aa2a-4f79-e37a-a155a34c8d28"
      },
      "execution_count": 30,
      "outputs": [
        {
          "output_type": "execute_result",
          "data": {
            "text/plain": [
              "array([-4.82467338e-02,  4.37534936e-02,  4.48568026e-03, -1.57960802e-01,\n",
              "       -2.34140962e-01,  1.49526792e-02,  3.47729996e-02, -5.58436662e-03,\n",
              "       -1.23906061e-01, -2.00904340e-01, -4.82616872e-02, -9.99530125e-03,\n",
              "        3.04358266e-02,  6.63698390e-02, -4.40624505e-02,  1.21702857e-01,\n",
              "        3.57329659e-03,  9.92494226e-02, -4.45967130e-02,  1.71457991e-01,\n",
              "        1.66280329e-01, -9.03795809e-02,  2.65082042e-03,  1.06708221e-01,\n",
              "       -2.29413677e-02, -1.98947228e-02,  1.61209434e-01, -4.62887213e-02,\n",
              "        7.97682628e-03, -2.54930437e-01,  1.78253336e-03, -1.27778333e-02,\n",
              "       -9.27421525e-02, -5.59959821e-02, -6.40105829e-02, -6.32160995e-03,\n",
              "       -6.45273924e-02, -9.71542969e-02,  1.92128822e-01, -2.49511935e-02,\n",
              "       -6.42958060e-02,  1.52001739e-01, -1.98749900e-01, -1.36778757e-01,\n",
              "       -8.51368159e-03,  5.17838784e-02, -2.23761156e-01,  9.24520791e-02,\n",
              "        3.08561176e-01,  4.27991664e-03,  1.13252372e-01,  1.56633899e-01,\n",
              "       -2.03594044e-02, -1.74046114e-01,  5.71922287e-02, -2.61030695e-03,\n",
              "        5.02618439e-02,  5.26169538e-02, -1.27571642e-01, -1.97767749e-01,\n",
              "       -2.69545261e-02, -8.73043090e-02, -1.03317454e-01, -1.11778527e-01,\n",
              "        1.11143723e-01, -7.55663663e-02,  8.67412090e-02,  8.11609998e-02,\n",
              "        1.14268661e-01, -1.26129478e-01,  1.42575912e-02,  1.21457696e-01,\n",
              "       -3.81035283e-02,  5.44423535e-02,  5.94066493e-02,  6.69937208e-02,\n",
              "        9.59191918e-02, -4.83924635e-02,  2.30763614e-01,  5.69603331e-02,\n",
              "        4.14843529e-01,  9.38833207e-02,  4.86366972e-02,  2.79595125e-02,\n",
              "        2.48873010e-01, -7.09923655e-02, -3.97783844e-03,  3.37062702e-02,\n",
              "        6.51519597e-02, -1.24427378e-01, -2.21716434e-01,  1.44081131e-01,\n",
              "        1.94540899e-02, -6.87194103e-03, -5.01180217e-02, -8.36444125e-02,\n",
              "        3.02736405e-02, -6.35627955e-02, -3.68201509e-02, -2.85971433e-01,\n",
              "       -6.30920231e-02, -2.01431841e-01, -3.46782841e-02, -2.13143617e-01,\n",
              "       -6.66297898e-02, -5.89970388e-02, -1.25239104e-01, -1.31142482e-01,\n",
              "       -3.23055610e-02, -1.25769690e-01, -7.35912323e-02,  9.75956023e-02,\n",
              "       -6.88285055e-03, -1.36204123e-01, -3.62132080e-02, -1.10077830e-02,\n",
              "        3.69449966e-02,  2.56505936e-01,  1.87852696e-01,  8.71881843e-02,\n",
              "        1.49313644e-01, -1.17048537e-02, -4.03721705e-02,  1.17466534e-02,\n",
              "       -1.87876940e-01, -8.82711411e-02, -1.48612976e-01,  1.31507859e-01,\n",
              "       -3.91666926e-02,  1.18210036e-02,  1.65367052e-01, -3.32332700e-01,\n",
              "       -1.01431012e-01,  2.26184413e-01,  7.79669061e-02, -7.19103590e-02,\n",
              "        2.66181618e-01, -1.08069040e-01,  1.07572973e-01, -1.94851443e-01,\n",
              "        6.37999922e-02,  6.32279217e-02,  4.44558002e-02,  1.50827363e-01,\n",
              "        5.95496856e-02, -2.65262574e-01, -1.55269593e-01,  8.70699883e-02,\n",
              "       -4.91598323e-02, -2.23791420e-01, -2.03094818e-02, -6.64086938e-02,\n",
              "       -2.81921700e-02, -2.51348168e-02, -3.72082107e-02,  4.94341440e-02,\n",
              "       -1.35975033e-01, -9.33864564e-02, -1.47202620e-02, -4.11287174e-02,\n",
              "       -1.78874135e-02, -7.70305749e-03, -1.63267255e-01, -2.47344822e-01,\n",
              "       -1.19815931e-01,  6.33990392e-02,  9.21012983e-02,  1.36651412e-01,\n",
              "       -9.06558633e-02,  3.42039429e-02,  3.28099094e-02, -3.89970094e-02,\n",
              "       -3.06466557e-02, -4.89841729e-01, -9.72581878e-02, -1.65720060e-01,\n",
              "       -8.55228156e-02,  1.93567783e-01, -1.97282836e-01,  9.75109041e-02,\n",
              "        1.60971023e-02,  1.16024040e-01, -5.28950356e-02,  8.35541785e-02,\n",
              "       -3.94441653e-03,  6.39286190e-02, -1.19868018e-01, -4.28074524e-02,\n",
              "       -7.78699666e-02,  1.32296458e-01,  1.45166054e-01,  1.51410162e-01,\n",
              "       -1.92106050e-02, -1.52180374e-01, -1.76807076e-01, -2.92605348e-02,\n",
              "        1.17398001e-01, -1.11545049e-01,  5.66428825e-02,  1.64453432e-01,\n",
              "        1.05541751e-01,  3.40695083e-02,  3.89743745e-01, -3.92673872e-02,\n",
              "        2.78353617e-02,  1.85410734e-02,  2.08540335e-01, -1.46633580e-01,\n",
              "       -8.71764570e-02,  9.04316735e-03, -2.45255753e-01,  1.74388841e-01,\n",
              "       -6.92528710e-02,  1.39827877e-01,  2.31088117e-01, -8.12760442e-02,\n",
              "       -7.08548650e-02,  9.27007720e-02,  2.71358728e-01,  2.70983670e-02,\n",
              "       -1.34396583e-01,  1.22050429e-02,  6.15852214e-02,  9.77200270e-02,\n",
              "        4.43475768e-02, -7.89024681e-02, -9.21730176e-02, -1.05953760e-01,\n",
              "       -3.50474962e-03, -1.42536104e-01, -4.04086523e-02, -2.75709759e-03,\n",
              "        2.80817375e-02, -1.60258740e-01,  3.83376377e-03, -1.18299145e-02,\n",
              "       -5.82156740e-02, -6.90149441e-02,  5.39381281e-02,  7.10280016e-02,\n",
              "       -1.18814246e-03, -1.40660882e-01, -1.63141802e-01,  9.44640581e-03,\n",
              "       -5.70857376e-02,  2.93560382e-02,  5.20034768e-02,  6.88754469e-02,\n",
              "        1.83812410e-01,  1.46821532e-02,  4.24085520e-02,  5.84042445e-02,\n",
              "       -1.55296683e-01, -1.61120240e-02, -3.06001920e-02,  3.71437036e-02,\n",
              "        8.10576752e-02, -5.39091118e-02, -1.07576303e-01, -2.06096724e-01,\n",
              "        2.08789632e-01,  1.15062064e-02, -2.54972149e-02, -2.02784643e-01,\n",
              "       -1.69863299e-01, -1.05210833e-01,  1.50374761e-02, -6.20238893e-02,\n",
              "       -2.11471155e-01,  8.71686935e-02,  1.76575556e-01, -5.59076220e-02,\n",
              "        6.89325184e-02, -6.02648631e-02,  1.04533277e-01,  2.02006966e-01,\n",
              "       -2.04591855e-01,  2.16958132e-02,  1.31350309e-01, -6.55869767e-02,\n",
              "       -9.47468355e-02,  1.25356987e-01,  3.10397055e-02,  1.87024385e-01,\n",
              "        4.63955998e-02,  1.72761738e-01, -7.86314532e-02, -6.33569509e-02,\n",
              "       -3.87434935e-04, -1.03473954e-01,  1.12277955e-01, -1.45002112e-01,\n",
              "       -1.48213152e-02,  4.81826328e-02,  2.47287974e-02,  1.70894396e-02,\n",
              "       -2.87086546e-01, -9.07629430e-02, -4.13265646e-01,  1.04256511e-01],\n",
              "      dtype=float32)"
            ]
          },
          "metadata": {},
          "execution_count": 30
        }
      ]
    },
    {
      "cell_type": "code",
      "source": [
        "model.wv.similarity('mulher', 'homem')"
      ],
      "metadata": {
        "colab": {
          "base_uri": "https://localhost:8080/"
        },
        "id": "edOzYqs0O-YI",
        "outputId": "20258860-f3cd-4c82-8f07-abcff1818ac1"
      },
      "execution_count": 31,
      "outputs": [
        {
          "output_type": "execute_result",
          "data": {
            "text/plain": [
              "0.40978053"
            ]
          },
          "metadata": {},
          "execution_count": 31
        }
      ]
    },
    {
      "cell_type": "code",
      "source": [
        "model.wv.similarity('dom', 'casmurro')"
      ],
      "metadata": {
        "colab": {
          "base_uri": "https://localhost:8080/"
        },
        "id": "3JxGaAMeO_zp",
        "outputId": "d941bb1a-e438-4876-e803-0c4d352d746a"
      },
      "execution_count": 32,
      "outputs": [
        {
          "output_type": "execute_result",
          "data": {
            "text/plain": [
              "0.610038"
            ]
          },
          "metadata": {},
          "execution_count": 32
        }
      ]
    },
    {
      "cell_type": "code",
      "source": [
        "model.wv.most_similar(positive=['mulher', 'rei'], negative=['homem'], topn=10)"
      ],
      "metadata": {
        "colab": {
          "base_uri": "https://localhost:8080/"
        },
        "id": "YK5De5s_PH8B",
        "outputId": "a5c69f13-1f28-4361-d350-144b2523746e"
      },
      "execution_count": 36,
      "outputs": [
        {
          "output_type": "execute_result",
          "data": {
            "text/plain": [
              "[('príncipe', 0.5507043600082397),\n",
              " ('alteza', 0.5437556505203247),\n",
              " ('princesa', 0.5396664142608643),\n",
              " ('avó', 0.5374821424484253),\n",
              " ('cunhada', 0.5359086990356445),\n",
              " ('rainha', 0.531740128993988),\n",
              " ('el', 0.5280194282531738),\n",
              " ('pia', 0.5214385390281677),\n",
              " ('incógnita', 0.5198127031326294),\n",
              " ('conceição', 0.5196643471717834)]"
            ]
          },
          "metadata": {},
          "execution_count": 36
        }
      ]
    },
    {
      "cell_type": "code",
      "source": [
        "model.wv.most_similar(positive=['pai', 'avô'], negative=['mãe'], topn=10)"
      ],
      "metadata": {
        "colab": {
          "base_uri": "https://localhost:8080/"
        },
        "id": "FtPVjQorQxgg",
        "outputId": "bdbcb99c-dc6d-425f-b036-ee96eaac13b9"
      },
      "execution_count": 34,
      "outputs": [
        {
          "output_type": "execute_result",
          "data": {
            "text/plain": [
              "[('querido', 0.7171346545219421),\n",
              " ('padrinho', 0.6904242634773254),\n",
              " ('talentoso', 0.687262237071991),\n",
              " ('patrício', 0.6861327290534973),\n",
              " ('protegido', 0.6799179911613464),\n",
              " ('colega', 0.6720080375671387),\n",
              " ('mr', 0.6704517006874084),\n",
              " ('redator', 0.6697953939437866),\n",
              " ('mexicano', 0.6697095036506653),\n",
              " ('abel', 0.6566097140312195)]"
            ]
          },
          "metadata": {},
          "execution_count": 34
        }
      ]
    },
    {
      "cell_type": "code",
      "source": [
        "model.wv.most_similar('pai')"
      ],
      "metadata": {
        "colab": {
          "base_uri": "https://localhost:8080/"
        },
        "id": "BPaoERX0sCWx",
        "outputId": "8d13c542-7ae1-416a-b274-fb863b9bdce3"
      },
      "execution_count": 37,
      "outputs": [
        {
          "output_type": "execute_result",
          "data": {
            "text/plain": [
              "[('sobrinho', 0.7329709529876709),\n",
              " ('irmão', 0.7308077216148376),\n",
              " ('marido', 0.7258265018463135),\n",
              " ('tio', 0.7248002886772156),\n",
              " ('sogro', 0.7190900444984436),\n",
              " ('cunhado', 0.7160969972610474),\n",
              " ('padrinho', 0.7094628214836121),\n",
              " ('marcos', 0.6682252287864685),\n",
              " ('noivo', 0.6659682393074036),\n",
              " ('filho', 0.6650660634040833)]"
            ]
          },
          "metadata": {},
          "execution_count": 37
        }
      ]
    },
    {
      "cell_type": "markdown",
      "metadata": {
        "id": "xMjXdQ13AC8P"
      },
      "source": [
        "<b> Atividade </b>\n",
        "\n",
        "Dada as seguintes palavras:\n",
        "\n",
        "foi, relógio, amor, raiva, brasil.\n",
        "\n",
        "11) Escreva um método que retorne uma lista com as 5 palavras similares de cada uma das listadas anteriormente.\n",
        "Imprima a lista das palavras similares, incluindo a palavra origem."
      ]
    },
    {
      "cell_type": "code",
      "metadata": {
        "id": "0lwLgGoEAC8Q"
      },
      "source": [
        "def get_most_similar(modelo, word, max_n):\n",
        "    words_similares = modelo.wv.most_similar(word, topn=max_n)\n",
        "    words = [w[0] for w in words_similares]\n",
        "    words.append(word)\n",
        "    return words"
      ],
      "execution_count": 38,
      "outputs": []
    },
    {
      "cell_type": "code",
      "source": [
        "words_seed = [\"foi\", \"relógio\", \"amor\", \"raiva\", \"brasil\"]"
      ],
      "metadata": {
        "id": "wu1zJQC9P3Kc"
      },
      "execution_count": 39,
      "outputs": []
    },
    {
      "cell_type": "code",
      "source": [
        "for w in words_seed:\n",
        "    print(get_most_similar(model, w, 5))"
      ],
      "metadata": {
        "id": "Al7inGyCP4Pk",
        "colab": {
          "base_uri": "https://localhost:8080/"
        },
        "outputId": "cc568979-8c9b-4107-a047-0465185fa048"
      },
      "execution_count": 40,
      "outputs": [
        {
          "output_type": "stream",
          "name": "stdout",
          "text": [
            "['fui', 'correu', 'veio', 'levara', 'seguiu', 'foi']\n",
            "['quintal', 'embrulho', 'sapato', 'mostrador', 'fumando', 'relógio']\n",
            "['ciúme', 'orgulho', 'afeto', 'casto', 'egoísmo', 'amor']\n",
            "['mordia', 'amargura', 'brandamente', 'involuntariamente', 'impaciência', 'raiva']\n",
            "['parlamento', 'maranhão', 'júri', 'sul', 'município', 'brasil']\n"
          ]
        }
      ]
    },
    {
      "cell_type": "markdown",
      "metadata": {
        "id": "sX5yNDdNAC8n"
      },
      "source": [
        "### Visualização"
      ]
    },
    {
      "cell_type": "markdown",
      "metadata": {
        "id": "q_8sL0sOAC8o"
      },
      "source": [
        "Para a visualização dos embeddings iremos  construir um array com todas as palavras retornadas anteriormente.\n",
        "\n",
        "<b> Atividade </b>\n",
        "\n",
        "12) Primeiro, gere uma única lista com todas as palavras retornadas anteriomente. O array deve ter tamanho 30."
      ]
    },
    {
      "cell_type": "code",
      "metadata": {
        "id": "V2mnmx59AC8o"
      },
      "source": [
        "all_words = []\n",
        "for w in words_seed:\n",
        "    all_words.extend(get_most_similar(model, w, 5))"
      ],
      "execution_count": null,
      "outputs": []
    },
    {
      "cell_type": "markdown",
      "metadata": {
        "id": "IhO4tuvyAC8w"
      },
      "source": [
        "13) Gere um array com todos os embeddings das palavras anteriores. Este terá dimensão (30,300)"
      ]
    },
    {
      "cell_type": "code",
      "metadata": {
        "id": "2T4mDJ_cAC8x"
      },
      "source": [
        "array_embeddings = np.empty((0,300), dtype='f')\n",
        "for w in all_words:\n",
        "    array_embeddings = np.append(array_embeddings, np.array([model.wv[w]]), axis=0)\n",
        "print(array_embeddings.shape)"
      ],
      "execution_count": null,
      "outputs": []
    },
    {
      "cell_type": "markdown",
      "metadata": {
        "id": "2YjvhwhEAC85"
      },
      "source": [
        "<b>Dica: </b> Use a função abaixo para plotar o array 2D que será gerado com o método PCA e TSNE"
      ]
    },
    {
      "cell_type": "code",
      "metadata": {
        "id": "stqEUCMSAC86"
      },
      "source": [
        "def plot_embedding_2d(array_2d, all_words, words_seed):\n",
        "    fig, ax = plt.subplots(1, 1, figsize=(12, 8))\n",
        "    for (x, y), w in zip(array_2d, all_words):\n",
        "        ax.scatter(x, y, c='red' if w in words_seed else 'blue')\n",
        "        ax.annotate(w,\n",
        "                     xy=(x, y),\n",
        "                     xytext=(5, 2),\n",
        "                     textcoords='offset points',\n",
        "                     ha='right',\n",
        "                     va='bottom')"
      ],
      "execution_count": null,
      "outputs": []
    },
    {
      "cell_type": "markdown",
      "metadata": {
        "id": "dPvF4mqEAC89"
      },
      "source": [
        "#### PCA\n",
        "\n",
        "<b> É uma ténica que existe a mais de século. É rápido, determinístico e linear. Essa linearidade limita sua utilidade em domínios complexos, como linguagem natural ou imagens, onde a estrutura não linear. </b>\n",
        "\n",
        "Mais informações: https://medium.com/towards-artificial-intelligence/machine-learning-dimensionality-reduction-via-principal-component-analysis-1bdc77462831\n",
        "\n",
        "\n",
        "<b> Atividade </b>\n",
        "\n",
        "14) Gere a visualização dos embeddings anteriores utilizando o PCA para reduzir a dimensionalidade.\n",
        "\n",
        "Exemplo do PCA:\n",
        "\n",
        "```python\n",
        "#uso de PCA\n",
        "pca = PCA(n_components=2)\n",
        "pca_result = pca.fit_transform(array_embeddings)\n",
        "```"
      ]
    },
    {
      "cell_type": "code",
      "metadata": {
        "id": "oWAa-eTPAC8-"
      },
      "source": [
        "pca = PCA(n_components=2)\n",
        "pca_result = pca.fit_transform(array_embeddings)"
      ],
      "execution_count": null,
      "outputs": []
    },
    {
      "cell_type": "code",
      "metadata": {
        "id": "pMUZ2lvnAC9C"
      },
      "source": [
        "plot_embedding_2d(pca_result, all_words, words_seed)"
      ],
      "execution_count": null,
      "outputs": []
    },
    {
      "cell_type": "markdown",
      "metadata": {
        "id": "DiydMeXhAC9G"
      },
      "source": [
        "#### TSNE\n",
        "<b> Uma técnica mais recente que captura estrutura não linear é o t-SNE, que significa distribuição estocástica de embedding viziznhos em t ( t-distributed Stochastic Neighbor Embedding).\n",
        "É uma ótima técnica para capturar a estrutura não linear em dados de alta dimensão(pelo menos em nível local). Isto é, dois pontos que são próximos no espaço de alta dimensão a probabilidade de estarem próximos em uma dimensão baixa é alta. </b>\n",
        "\n",
        "Mais informações: https://medium.com/@garora039/dimensionality-reduction-using-t-sne-effectively-cabb2cd519b\n",
        "\n",
        "<b> Atividade </b>\n",
        "\n",
        "15) Gere a visualização dos embeddings anteriores utilizando o TSNE para reduzir a dimensionalidade.\n",
        "\n",
        "Exemplo do TSNE:\n",
        "\n",
        "```python\n",
        "#uso de TSNE\n",
        "tsne = TSNE(n_components=2, random_state=0)\n",
        "tsne_result =  tsne.fit_transform(array_embeddings)\n",
        "```"
      ]
    },
    {
      "cell_type": "code",
      "metadata": {
        "id": "72DbLlFnAC9H"
      },
      "source": [
        "tsne = TSNE(n_components=2, random_state=0,perplexity=4)\n",
        "tsne_result =  tsne.fit_transform(array_embeddings)"
      ],
      "execution_count": null,
      "outputs": []
    },
    {
      "cell_type": "code",
      "metadata": {
        "id": "ebAZaFsgAC9M"
      },
      "source": [
        "plot_embedding_2d(tsne_result, all_words, words_seed)"
      ],
      "execution_count": null,
      "outputs": []
    },
    {
      "cell_type": "markdown",
      "source": [
        "# Similaridade de Documentos\n",
        "\n",
        "Para realizar a similaridade entre documentos, utilize as frases abaixo:"
      ],
      "metadata": {
        "id": "R09dCQ0B7R9J"
      }
    },
    {
      "cell_type": "code",
      "source": [
        "frase1 = \"Excelente produto chegou antes do prazo indico e recomendo produto bom pois já testei e foi mais que aprovado\"\n",
        "frase2 = \"SUPER RECOMENDO, PREÇO, QUALIDADE #BRASTEMP, EFICIÊNCIA NA ENTREGA, E FACILIDADE DE PAGAMENTO. MUITO BOM!!!\"\n",
        "frase3 = \"A tampa do fogão veio com problemas com o pino de encaixe solto e precisa de reparos\"\n",
        "frase4 = \"Fogão ótimo!\""
      ],
      "metadata": {
        "id": "4SzWSYti7VIp"
      },
      "execution_count": null,
      "outputs": []
    },
    {
      "cell_type": "markdown",
      "source": [
        "## Similaridade de Jaccard\n",
        "Divisão do número de tokens em comuns nas duas frases pelo tamanho do vocabulario das duas frases.\n",
        "<b> Atividade </b>\n",
        "\n",
        "16) Faça um método que calcule a similaridade de Jaccard e aplique para os seguintes pares de frases:\n",
        "\n",
        "- Frase1 e Frase2\n",
        "- Frase1 e Frase3\n",
        "- Frase2 e Frase3\n",
        "- Frase1 e Frase4"
      ],
      "metadata": {
        "id": "QyarEIOu7V3P"
      }
    },
    {
      "cell_type": "code",
      "source": [
        "def jaccard_sim(frase1, frase2):\n",
        "  ph1_tokens = pre_processamento_texto(frase1)\n",
        "  ph2_tokens = pre_processamento_texto(frase2)\n",
        "  s1 = set(ph1_tokens)\n",
        "  s2 = set(ph2_tokens)\n",
        "  return len(s1.intersection(s2)) / len(s1.union(s2))"
      ],
      "metadata": {
        "id": "g0KPH3-A9_DS"
      },
      "execution_count": null,
      "outputs": []
    },
    {
      "cell_type": "markdown",
      "source": [
        "## Distância e similaridade cosseno\n",
        "\n",
        "Aqui iremos calcular a distância e a similaridade utilizando embedding\n",
        "\n",
        "- Embedding"
      ],
      "metadata": {
        "id": "1fIAlq397s4I"
      }
    },
    {
      "cell_type": "code",
      "source": [
        "def embedding_da_frase(tokens_frase):\n",
        "  return np.mean(np.array([word_vectors[token] for token in tokens_frase if token in word_vectors.key_to_index]), axis=0)"
      ],
      "metadata": {
        "id": "3gFBOVa_70Yh"
      },
      "execution_count": null,
      "outputs": []
    },
    {
      "cell_type": "code",
      "source": [
        "frase1_emb = embedding_da_frase(frase1_pre)\n",
        "frase2_emb = embedding_da_frase(frase2_pre)"
      ],
      "metadata": {
        "id": "i7y6O6qmA7I4"
      },
      "execution_count": null,
      "outputs": []
    },
    {
      "cell_type": "code",
      "source": [
        "distance.cosine(frase1_emb, frase2_emb)"
      ],
      "metadata": {
        "id": "kVzXVgPkAz9e"
      },
      "execution_count": null,
      "outputs": []
    },
    {
      "cell_type": "code",
      "source": [
        "cosine_similarity(frase1_emb.reshape((1, 100)), frase2_emb.reshape((1, 100)))"
      ],
      "metadata": {
        "id": "A6_gpFnIA5y2"
      },
      "execution_count": null,
      "outputs": []
    },
    {
      "cell_type": "code",
      "source": [
        "distance.euclidean(frase1_emb, frase2_emb)"
      ],
      "metadata": {
        "id": "Ifm_bFbuA8oL"
      },
      "execution_count": null,
      "outputs": []
    }
  ]
}