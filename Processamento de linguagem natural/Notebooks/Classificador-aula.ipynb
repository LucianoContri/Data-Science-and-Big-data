{
 "nbformat": 4,
 "nbformat_minor": 0,
 "metadata": {
  "colab": {
   "provenance": [],
   "authorship_tag": "ABX9TyPHkrSsqlHGb1k4NzwwbcOQ"
  },
  "kernelspec": {
   "name": "python3",
   "display_name": "Python 3"
  },
  "language_info": {
   "name": "python"
  }
 },
 "cells": [
  {
   "cell_type": "markdown",
   "source": [
    "# Classificação de Documentos\n",
    "\n",
    "A clssificação de documentos é muito útil em vários aspectos. Um dos tipos de classificação de texto é a análise de sentimentos.\n",
    "\n",
    "A fim de ilustrar a classificação de documentos iremos criar um modelo para classificar uma frase como positiva ou negativa.\n",
    "\n",
    "## Carregando o embedding e os dados"
   ],
   "metadata": {
    "id": "J6e5fLiZS8nE"
   }
  },
  {
   "cell_type": "code",
   "source": [
    "!pip install unidecode\n",
    "!pip install vaderSentiment"
   ],
   "metadata": {
    "colab": {
     "base_uri": "https://localhost:8080/"
    },
    "id": "KXAMuXYrW06o",
    "executionInfo": {
     "status": "ok",
     "timestamp": 1717454988371,
     "user_tz": 180,
     "elapsed": 40514,
     "user": {
      "displayName": "Gabriel Oliveira",
      "userId": "12617440199896804275"
     }
    },
    "outputId": "7c0f23ea-a80c-4413-dc76-fb51bb2c2a33"
   },
   "execution_count": 1,
   "outputs": []
  },
  {
   "cell_type": "code",
   "source": [
    "import gensim\n",
    "import pandas as pd\n",
    "from nltk.corpus import stopwords\n",
    "import string\n",
    "from unidecode import unidecode\n",
    "from sklearn.feature_extraction.text import CountVectorizer\n",
    "from sklearn.linear_model import LogisticRegression\n",
    "from sklearn.metrics import classification_report\n",
    "from sklearn.model_selection import train_test_split\n",
    "import re\n",
    "import numpy as np"
   ],
   "metadata": {
    "id": "Gi9S_uWeWCZs",
    "executionInfo": {
     "status": "ok",
     "timestamp": 1717456002930,
     "user_tz": 180,
     "elapsed": 388,
     "user": {
      "displayName": "Gabriel Oliveira",
      "userId": "12617440199896804275"
     }
    }
   },
   "execution_count": 39,
   "outputs": []
  },
  {
   "cell_type": "code",
   "source": [
    "#opção 1 -> montar o drive no colab e acessar o arquivo de embedding do drive\n",
    "from google.colab import drive\n",
    "drive.mount('/content/drive')\n",
    "\n",
    "#opção 2 -> fazer download e fazer upload por aqui\n",
    "#from google.colab import files\n",
    "#uploaded = files.upload()"
   ],
   "metadata": {
    "colab": {
     "base_uri": "https://localhost:8080/"
    },
    "id": "kwtuxwvYS8Uv",
    "executionInfo": {
     "status": "ok",
     "timestamp": 1717456144566,
     "user_tz": 180,
     "elapsed": 2494,
     "user": {
      "displayName": "Gabriel Oliveira",
      "userId": "12617440199896804275"
     }
    },
    "outputId": "de42598b-3843-49dc-f429-a8f1447a7494"
   },
   "execution_count": 66,
   "outputs": []
  },
  {
   "cell_type": "code",
   "source": [
    "%%time\n",
    "path='drive/MyDrive/aulas/Processamento de Linguagem Natural - Saude/ptwiki_20180420_100d.txt.bz2'\n",
    "word_vectors = gensim.models.KeyedVectors.load_word2vec_format(path,\n",
    "                                                               binary=False,\n",
    "                                                               limit=50000)"
   ],
   "metadata": {
    "colab": {
     "base_uri": "https://localhost:8080/"
    },
    "id": "6_obUVTjV7G5",
    "executionInfo": {
     "status": "ok",
     "timestamp": 1717455584978,
     "user_tz": 180,
     "elapsed": 10723,
     "user": {
      "displayName": "Gabriel Oliveira",
      "userId": "12617440199896804275"
     }
    },
    "outputId": "ef039fad-4c25-4b38-a3fa-78e96c67b601"
   },
   "execution_count": 22,
   "outputs": []
  },
  {
   "cell_type": "code",
   "source": [
    "df = pd.read_csv('drive/MyDrive/aulas/Processamento de Linguagem Natural - Saude/imdb-reviews-pt-br.csv')"
   ],
   "metadata": {
    "id": "Bbc3t8cybMVF",
    "executionInfo": {
     "status": "ok",
     "timestamp": 1717457185925,
     "user_tz": 180,
     "elapsed": 3649,
     "user": {
      "displayName": "Gabriel Oliveira",
      "userId": "12617440199896804275"
     }
    }
   },
   "execution_count": 69,
   "outputs": []
  },
  {
   "cell_type": "code",
   "source": [
    "df.sentiment.value_counts()"
   ],
   "metadata": {
    "colab": {
     "base_uri": "https://localhost:8080/"
    },
    "id": "dM8qHWb_bONk",
    "executionInfo": {
     "status": "ok",
     "timestamp": 1717457210346,
     "user_tz": 180,
     "elapsed": 317,
     "user": {
      "displayName": "Gabriel Oliveira",
      "userId": "12617440199896804275"
     }
    },
    "outputId": "8d8bd018-0812-47b2-95a5-60f7167dea77"
   },
   "execution_count": 71,
   "outputs": []
  },
  {
   "cell_type": "markdown",
   "source": [
    "## Tratamento dos dados\n",
    "\n",
    "1. Transforme a variavel alvo (sentiment) em uma variável binaria\n",
    "2. Faço o seguinte pré-processamento no texto:\n",
    "  1. tokenize as expressões usando regex \"\\w+(?:'\\w+)?|[^\\w\\s]\"\n",
    "  2. Passe tudo para minusculo\n",
    "  3. Remova stopwords\n",
    "  4. Remova pontuação\n",
    "  5. Remova números\n",
    "\n",
    "  Faça duas funções de pré-processamento uma que retorne a frase processada e uma que retorne uma lista com os tokens."
   ],
   "metadata": {
    "id": "HLLT7T0iTu96"
   }
  },
  {
   "cell_type": "markdown",
   "source": [
    "## Solução"
   ],
   "metadata": {
    "id": "D2mu4HjX9BEM"
   }
  },
  {
   "cell_type": "code",
   "source": [
    "df = pd.read_csv('drive/MyDrive/aulas/Processamento de Linguagem Natural - Saude/imdb-reviews-pt-br.csv')"
   ],
   "metadata": {
    "id": "Or7JkHeCWRnp",
    "executionInfo": {
     "status": "ok",
     "timestamp": 1717455634322,
     "user_tz": 180,
     "elapsed": 2760,
     "user": {
      "displayName": "Gabriel Oliveira",
      "userId": "12617440199896804275"
     }
    }
   },
   "execution_count": 23,
   "outputs": []
  },
  {
   "cell_type": "code",
   "execution_count": 24,
   "metadata": {
    "id": "PPujV1LnOXmW",
    "executionInfo": {
     "status": "ok",
     "timestamp": 1717455634323,
     "user_tz": 180,
     "elapsed": 48,
     "user": {
      "displayName": "Gabriel Oliveira",
      "userId": "12617440199896804275"
     }
    }
   },
   "source": [
    "target = df['sentiment'].replace(['neg','pos'],[0,1])"
   ],
   "outputs": []
  },
  {
   "cell_type": "code",
   "source": [
    "def pre_processamento_texto_return_str(corpus, portugues_stops):\n",
    "    corpus_alt = re.findall(r\"\\w+(?:'\\w+)?|[^\\w\\s]\", corpus) # extração palavras -> palavras\n",
    "    corpus_alt = [t.lower() for t in corpus_alt] #passando para minusculo\n",
    "    corpus_alt = [t for t in corpus_alt if t not in portugues_stops] #remoção dos tokens que são SW\n",
    "    corpus_alt = [t for t in corpus_alt if t not in string.punctuation] # o mesmo para pontuação\n",
    "    corpus_alt = [re.sub(r'\\d', '', t) for t in corpus_alt] #remoção de numeros\n",
    "    corpus_alt_str = ' '.join(corpus_alt)\n",
    "    return corpus_alt_str"
   ],
   "metadata": {
    "id": "u_niZrk8T_GJ",
    "executionInfo": {
     "status": "ok",
     "timestamp": 1717455634324,
     "user_tz": 180,
     "elapsed": 46,
     "user": {
      "displayName": "Gabriel Oliveira",
      "userId": "12617440199896804275"
     }
    }
   },
   "execution_count": 25,
   "outputs": []
  },
  {
   "cell_type": "code",
   "source": [
    "def pre_processamento_texto_return_token(corpus, portugues_stops):\n",
    "    corpus_alt = re.findall(r\"\\w+(?:'\\w+)?|[^\\w\\s]\", corpus)\n",
    "    corpus_alt = [t.lower() for t in corpus_alt]\n",
    "    portugues_stops = stopwords.words('portuguese')\n",
    "    corpus_alt = [t for t in corpus_alt if t not in portugues_stops]\n",
    "    corpus_alt = [t for t in corpus_alt if t not in string.punctuation]\n",
    "    corpus_alt = [re.sub(r'\\d', '', t) for t in corpus_alt]\n",
    "\n",
    "    return corpus_alt"
   ],
   "metadata": {
    "id": "fshMqXT7UcbZ",
    "executionInfo": {
     "status": "ok",
     "timestamp": 1717455634325,
     "user_tz": 180,
     "elapsed": 46,
     "user": {
      "displayName": "Gabriel Oliveira",
      "userId": "12617440199896804275"
     }
    }
   },
   "execution_count": 26,
   "outputs": []
  },
  {
   "cell_type": "code",
   "source": [
    "import nltk\n",
    "nltk.download('stopwords')"
   ],
   "metadata": {
    "id": "1hXgVIHFmJZA",
    "colab": {
     "base_uri": "https://localhost:8080/"
    },
    "executionInfo": {
     "status": "ok",
     "timestamp": 1717455634326,
     "user_tz": 180,
     "elapsed": 46,
     "user": {
      "displayName": "Gabriel Oliveira",
      "userId": "12617440199896804275"
     }
    },
    "outputId": "f964cb80-4368-47d6-edba-6d8592e66545"
   },
   "execution_count": 27,
   "outputs": []
  },
  {
   "cell_type": "code",
   "source": [
    "portugues_stops = stopwords.words('portuguese')"
   ],
   "metadata": {
    "id": "PKCg3y_QUDm0",
    "executionInfo": {
     "status": "ok",
     "timestamp": 1717455634326,
     "user_tz": 180,
     "elapsed": 38,
     "user": {
      "displayName": "Gabriel Oliveira",
      "userId": "12617440199896804275"
     }
    }
   },
   "execution_count": 28,
   "outputs": []
  },
  {
   "cell_type": "code",
   "source": [
    "from tqdm import tqdm\n",
    "tqdm.pandas()"
   ],
   "metadata": {
    "id": "yJfYbdXNVoXE",
    "executionInfo": {
     "status": "ok",
     "timestamp": 1717455725442,
     "user_tz": 180,
     "elapsed": 6,
     "user": {
      "displayName": "Gabriel Oliveira",
      "userId": "12617440199896804275"
     }
    }
   },
   "execution_count": 31,
   "outputs": []
  },
  {
   "cell_type": "code",
   "source": [
    "df[\"text_pt_sem_stopwords\"] = df[\"text_pt\"]\\\n",
    "      .progress_apply(lambda x: pre_processamento_texto_return_str(x, portugues_stops))"
   ],
   "metadata": {
    "id": "0UcU8WG8UAIc",
    "colab": {
     "base_uri": "https://localhost:8080/"
    },
    "executionInfo": {
     "status": "ok",
     "timestamp": 1717457696968,
     "user_tz": 180,
     "elapsed": 53465,
     "user": {
      "displayName": "Gabriel Oliveira",
      "userId": "12617440199896804275"
     }
    },
    "outputId": "a5b846ac-3df2-4ac5-e2dd-d5e26778cc9d"
   },
   "execution_count": 73,
   "outputs": []
  },
  {
   "cell_type": "code",
   "source": [
    "df[\"text_pt_sem_stopwords\"]"
   ],
   "metadata": {
    "colab": {
     "base_uri": "https://localhost:8080/"
    },
    "id": "vDu_-L7lc635",
    "executionInfo": {
     "status": "ok",
     "timestamp": 1717457696970,
     "user_tz": 180,
     "elapsed": 70,
     "user": {
      "displayName": "Gabriel Oliveira",
      "userId": "12617440199896804275"
     }
    },
    "outputId": "6fc4feff-40ff-4bca-98f7-fff3c33f2a15"
   },
   "execution_count": 74,
   "outputs": []
  },
  {
   "cell_type": "markdown",
   "source": [
    "## Bag-of-word\n",
    "\n",
    "Crie uma representação bag-of-words do texto."
   ],
   "metadata": {
    "id": "kduTo4PrUHR6"
   }
  },
  {
   "cell_type": "markdown",
   "source": [
    "## Solução"
   ],
   "metadata": {
    "id": "DDbmgz3w9EDv"
   }
  },
  {
   "cell_type": "code",
   "source": [
    "vect_bag = CountVectorizer()\n",
    "X_bag = vect_bag.fit_transform(df['text_pt_sem_stopwords'])\n",
    "vocabulario = vect_bag.get_feature_names_out()"
   ],
   "metadata": {
    "id": "GsuuloJHUKSu",
    "executionInfo": {
     "status": "ok",
     "timestamp": 1717458092778,
     "user_tz": 180,
     "elapsed": 7698,
     "user": {
      "displayName": "Gabriel Oliveira",
      "userId": "12617440199896804275"
     }
    }
   },
   "execution_count": 75,
   "outputs": []
  },
  {
   "cell_type": "code",
   "source": [
    "print(\"Vocabulario\",len(vocabulario))\n",
    "print(\"Features\",X_bag.shape)\n",
    "print(\"Target\",target.shape)"
   ],
   "metadata": {
    "id": "k-59CVJ6UTnK",
    "colab": {
     "base_uri": "https://localhost:8080/"
    },
    "executionInfo": {
     "status": "ok",
     "timestamp": 1717458092784,
     "user_tz": 180,
     "elapsed": 73,
     "user": {
      "displayName": "Gabriel Oliveira",
      "userId": "12617440199896804275"
     }
    },
    "outputId": "a7f98800-4c8f-46e5-b118-e545189abc24"
   },
   "execution_count": 76,
   "outputs": []
  },
  {
   "cell_type": "markdown",
   "source": [
    "## Embedding\n",
    "\n",
    "Utilizando o embedding crie uma representação de embedding com a média das representações das palavras do texto."
   ],
   "metadata": {
    "id": "hv9BDAW1UZyx"
   }
  },
  {
   "cell_type": "markdown",
   "source": [
    "## Solução"
   ],
   "metadata": {
    "id": "UEvUNZj-9GqO"
   }
  },
  {
   "cell_type": "code",
   "source": [
    "df[\"text_pt_sem_stopwords_token\"] = df[\"text_pt\"]\\\n",
    ".progress_apply(lambda x: pre_processamento_texto_return_token(x, portugues_stops))"
   ],
   "metadata": {
    "id": "u2G8H45zUZUd",
    "colab": {
     "base_uri": "https://localhost:8080/"
    },
    "executionInfo": {
     "status": "ok",
     "timestamp": 1717455918797,
     "user_tz": 180,
     "elapsed": 73889,
     "user": {
      "displayName": "Gabriel Oliveira",
      "userId": "12617440199896804275"
     }
    },
    "outputId": "95cdda93-97ce-45df-9872-cb567527ed2f"
   },
   "execution_count": 36,
   "outputs": []
  },
  {
   "cell_type": "code",
   "source": [
    "def calcula_embedding_frase(tokens):\n",
    "    return np.mean([word_vectors[t] for t in tokens if t in word_vectors.key_to_index.keys()], axis=0)"
   ],
   "metadata": {
    "id": "mrPkV_qQUvUg",
    "executionInfo": {
     "status": "ok",
     "timestamp": 1717456096535,
     "user_tz": 180,
     "elapsed": 300,
     "user": {
      "displayName": "Gabriel Oliveira",
      "userId": "12617440199896804275"
     }
    }
   },
   "execution_count": 50,
   "outputs": []
  },
  {
   "cell_type": "code",
   "source": [
    "X_embedding = df[\"text_pt_sem_stopwords_token\"].progress_apply(lambda x: calcula_embedding_frase(x))"
   ],
   "metadata": {
    "id": "SUIDpiIXUxA6",
    "colab": {
     "base_uri": "https://localhost:8080/"
    },
    "executionInfo": {
     "status": "ok",
     "timestamp": 1717456125250,
     "user_tz": 180,
     "elapsed": 24046,
     "user": {
      "displayName": "Gabriel Oliveira",
      "userId": "12617440199896804275"
     }
    },
    "outputId": "ba15a1a0-a669-49e6-d191-04bac62e5860"
   },
   "execution_count": 51,
   "outputs": []
  },
  {
   "cell_type": "code",
   "source": [
    "X_embedding"
   ],
   "metadata": {
    "colab": {
     "base_uri": "https://localhost:8080/"
    },
    "id": "1maQ5mImfxJF",
    "executionInfo": {
     "status": "ok",
     "timestamp": 1717458379280,
     "user_tz": 180,
     "elapsed": 8,
     "user": {
      "displayName": "Gabriel Oliveira",
      "userId": "12617440199896804275"
     }
    },
    "outputId": "8b9e0bb4-2c86-42cb-d02b-cf7e0a19bb3f"
   },
   "execution_count": 77,
   "outputs": []
  },
  {
   "cell_type": "markdown",
   "source": [
    "### Treinamento\n",
    "\n",
    "Separe o banco de bag of words em treino e teste e treine um modelo de regressão Logistica, qual a avaliação desse modelo?"
   ],
   "metadata": {
    "id": "FAAjfdIiU54d"
   }
  },
  {
   "cell_type": "markdown",
   "source": [
    "## Solução"
   ],
   "metadata": {
    "id": "0cwLF5Ga9H6H"
   }
  },
  {
   "cell_type": "code",
   "source": [
    "X_train_bow, X_test_bow, y_train_bow, y_test_bow = \\\n",
    "    train_test_split(X_bag, target, random_state=123)"
   ],
   "metadata": {
    "id": "lCoWK2wvU8A9",
    "executionInfo": {
     "status": "ok",
     "timestamp": 1717458697533,
     "user_tz": 180,
     "elapsed": 322,
     "user": {
      "displayName": "Gabriel Oliveira",
      "userId": "12617440199896804275"
     }
    }
   },
   "execution_count": 78,
   "outputs": []
  },
  {
   "cell_type": "code",
   "source": [
    "modelo_bow = LogisticRegression()\n",
    "modelo_bow.fit(X_train_bow,y_train_bow)"
   ],
   "metadata": {
    "id": "Pu926CBBU8rV",
    "colab": {
     "base_uri": "https://localhost:8080/",
     "height": 213
    },
    "executionInfo": {
     "status": "ok",
     "timestamp": 1717456137960,
     "user_tz": 180,
     "elapsed": 12766,
     "user": {
      "displayName": "Gabriel Oliveira",
      "userId": "12617440199896804275"
     }
    },
    "outputId": "83efef5c-5a78-403b-c66f-ec43c508ba62"
   },
   "execution_count": 53,
   "outputs": []
  },
  {
   "cell_type": "code",
   "source": [
    "y_pred = modelo_bow.predict(X_test_bow)"
   ],
   "metadata": {
    "id": "t2wZ4vR5VAGi",
    "executionInfo": {
     "status": "ok",
     "timestamp": 1717456137960,
     "user_tz": 180,
     "elapsed": 116,
     "user": {
      "displayName": "Gabriel Oliveira",
      "userId": "12617440199896804275"
     }
    }
   },
   "execution_count": 54,
   "outputs": []
  },
  {
   "cell_type": "code",
   "source": [
    "print(classification_report(y_test_bow, y_pred))"
   ],
   "metadata": {
    "id": "kcrdBikGVBTZ",
    "colab": {
     "base_uri": "https://localhost:8080/"
    },
    "executionInfo": {
     "status": "ok",
     "timestamp": 1717456137961,
     "user_tz": 180,
     "elapsed": 115,
     "user": {
      "displayName": "Gabriel Oliveira",
      "userId": "12617440199896804275"
     }
    },
    "outputId": "f8191a13-e9af-4e80-eef0-1b443c7582cb"
   },
   "execution_count": 55,
   "outputs": []
  },
  {
   "cell_type": "markdown",
   "source": [
    "### Embedding\n",
    "\n",
    "Separe o banco de embedding em treino e teste e treine um modelo de regressão Logistica, qual a avaliação desse modelo?"
   ],
   "metadata": {
    "id": "lCCLnh-6VDCX"
   }
  },
  {
   "cell_type": "markdown",
   "source": [
    "## Solução"
   ],
   "metadata": {
    "id": "e6j_0HQX9JIa"
   }
  },
  {
   "cell_type": "code",
   "source": [
    "X_train_embedding, X_test_embedding, y_train_embedding, y_test_embedding = \\\n",
    "train_test_split(X_embedding.values, target,random_state=123)"
   ],
   "metadata": {
    "id": "ShvzGLQhVFTa",
    "executionInfo": {
     "status": "ok",
     "timestamp": 1717456137962,
     "user_tz": 180,
     "elapsed": 109,
     "user": {
      "displayName": "Gabriel Oliveira",
      "userId": "12617440199896804275"
     }
    }
   },
   "execution_count": 56,
   "outputs": []
  },
  {
   "cell_type": "code",
   "source": [
    "X_train_embedding = pd.DataFrame([x for x in X_train_embedding])\n",
    "X_test_embedding = pd.DataFrame([x for x in X_test_embedding])"
   ],
   "metadata": {
    "id": "4qpSVV1GVH1q",
    "executionInfo": {
     "status": "ok",
     "timestamp": 1717456140702,
     "user_tz": 180,
     "elapsed": 2848,
     "user": {
      "displayName": "Gabriel Oliveira",
      "userId": "12617440199896804275"
     }
    }
   },
   "execution_count": 57,
   "outputs": []
  },
  {
   "cell_type": "code",
   "source": [
    "modelo_embedding = LogisticRegression()\n",
    "modelo_embedding.fit(X_train_embedding,y_train_embedding)"
   ],
   "metadata": {
    "id": "fl3mu4VMVM10",
    "colab": {
     "base_uri": "https://localhost:8080/",
     "height": 213
    },
    "executionInfo": {
     "status": "ok",
     "timestamp": 1717456142091,
     "user_tz": 180,
     "elapsed": 1396,
     "user": {
      "displayName": "Gabriel Oliveira",
      "userId": "12617440199896804275"
     }
    },
    "outputId": "40dde6cd-1773-4d10-e23f-6f09ca72356a"
   },
   "execution_count": 58,
   "outputs": []
  },
  {
   "cell_type": "code",
   "source": [
    "y_pred = modelo_embedding.predict(X_test_embedding)"
   ],
   "metadata": {
    "id": "8bfYfWZTVOlC",
    "executionInfo": {
     "status": "ok",
     "timestamp": 1717456142092,
     "user_tz": 180,
     "elapsed": 46,
     "user": {
      "displayName": "Gabriel Oliveira",
      "userId": "12617440199896804275"
     }
    }
   },
   "execution_count": 59,
   "outputs": []
  },
  {
   "cell_type": "code",
   "source": [
    "print(classification_report(y_test_embedding, y_pred))"
   ],
   "metadata": {
    "id": "O4cBguOlVPrk",
    "colab": {
     "base_uri": "https://localhost:8080/"
    },
    "executionInfo": {
     "status": "ok",
     "timestamp": 1717456142093,
     "user_tz": 180,
     "elapsed": 44,
     "user": {
      "displayName": "Gabriel Oliveira",
      "userId": "12617440199896804275"
     }
    },
    "outputId": "bc4d3417-dd65-4fea-aff1-5543fcf0da98"
   },
   "execution_count": 60,
   "outputs": []
  },
  {
   "cell_type": "markdown",
   "source": [
    "# Análise de sentimentos\n",
    "\n",
    "Quando o objetivo é realizar análise de sentimentos podemos treinar o nosso proprio modelo ou utilizar ferramentas já feitas. Exemplo: Vader.\n",
    "\n",
    "O VADER (Valence Aware Dictionary e sEntiment Reasoner) é uma ferramenta de análise de sentimentos baseada em regras e léxico, especificamente identifica os sentimentos expressos nas mídias sociais.\n",
    "\n",
    "- positive sentiment: compound score >= 0.05\n",
    "- neutral sentiment: (compound score > -0.05) e (compound score < 0.05)\n",
    "- negative sentiment: compound score <= -0.05\n",
    "\n",
    "Mais informações: https://github.com/cjhutto/vaderSentiment"
   ],
   "metadata": {
    "id": "AKNj35JXVY34"
   }
  },
  {
   "cell_type": "code",
   "source": [
    "from vaderSentiment.vaderSentiment import SentimentIntensityAnalyzer"
   ],
   "metadata": {
    "id": "-FtJR2x4Voit",
    "executionInfo": {
     "status": "ok",
     "timestamp": 1717459746100,
     "user_tz": 180,
     "elapsed": 6,
     "user": {
      "displayName": "Gabriel Oliveira",
      "userId": "12617440199896804275"
     }
    }
   },
   "execution_count": 79,
   "outputs": []
  },
  {
   "cell_type": "code",
   "source": [
    "analyzer = SentimentIntensityAnalyzer()"
   ],
   "metadata": {
    "id": "9wIOnjcrVqgj",
    "executionInfo": {
     "status": "ok",
     "timestamp": 1717459749747,
     "user_tz": 180,
     "elapsed": 298,
     "user": {
      "displayName": "Gabriel Oliveira",
      "userId": "12617440199896804275"
     }
    }
   },
   "execution_count": 80,
   "outputs": []
  },
  {
   "cell_type": "code",
   "source": [
    "texto_neg = df.loc[0, \"text_en\"]\n",
    "texto_pos = df.loc[49431, \"text_en\"]"
   ],
   "metadata": {
    "id": "SWVKxQFRVsQf",
    "executionInfo": {
     "status": "ok",
     "timestamp": 1717459753186,
     "user_tz": 180,
     "elapsed": 296,
     "user": {
      "displayName": "Gabriel Oliveira",
      "userId": "12617440199896804275"
     }
    }
   },
   "execution_count": 81,
   "outputs": []
  },
  {
   "cell_type": "code",
   "source": [
    "texto_neg"
   ],
   "metadata": {
    "colab": {
     "base_uri": "https://localhost:8080/",
     "height": 122
    },
    "id": "9-hO1sLilB3-",
    "executionInfo": {
     "status": "ok",
     "timestamp": 1717459758593,
     "user_tz": 180,
     "elapsed": 322,
     "user": {
      "displayName": "Gabriel Oliveira",
      "userId": "12617440199896804275"
     }
    },
    "outputId": "eae1f3eb-062e-4a8d-e00e-6754b386e93a"
   },
   "execution_count": 82,
   "outputs": []
  },
  {
   "cell_type": "code",
   "source": [
    "analyzer.polarity_scores(texto_neg)"
   ],
   "metadata": {
    "id": "bPuneH6MVuXL",
    "colab": {
     "base_uri": "https://localhost:8080/"
    },
    "executionInfo": {
     "status": "ok",
     "timestamp": 1717456142095,
     "user_tz": 180,
     "elapsed": 37,
     "user": {
      "displayName": "Gabriel Oliveira",
      "userId": "12617440199896804275"
     }
    },
    "outputId": "eca771d3-bcf1-4737-9dd8-78f5fce865c2"
   },
   "execution_count": 64,
   "outputs": []
  },
  {
   "cell_type": "code",
   "source": [
    "analyzer.polarity_scores(texto_pos)"
   ],
   "metadata": {
    "id": "3vdErQguVuQR",
    "colab": {
     "base_uri": "https://localhost:8080/"
    },
    "executionInfo": {
     "status": "ok",
     "timestamp": 1717459816352,
     "user_tz": 180,
     "elapsed": 338,
     "user": {
      "displayName": "Gabriel Oliveira",
      "userId": "12617440199896804275"
     }
    },
    "outputId": "eed468f8-c43e-4b6c-cc20-d67fb885e53b"
   },
   "execution_count": 83,
   "outputs": []
  }
 ]
}
