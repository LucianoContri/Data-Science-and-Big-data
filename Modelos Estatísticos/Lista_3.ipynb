{
 "cells": [
  {
   "cell_type": "code",
   "execution_count": 1,
   "id": "initial_id",
   "metadata": {
    "collapsed": true,
    "ExecuteTime": {
     "end_time": "2023-12-11T18:41:36.793182500Z",
     "start_time": "2023-12-11T18:41:36.183544800Z"
    }
   },
   "outputs": [
    {
     "data": {
      "text/plain": "     YEAR    JAN    FEB    MAR    APR    MAY    JUN    JUL    AUG    SEP  \\\n0  1950.0  23.11  24.20  25.37  23.86  23.03  21.57  20.63  20.15  19.67   \n1  1951.0  24.19  25.28  25.60  25.37  24.79  24.69  23.86  22.32  21.44   \n2  1952.0  24.52  26.21  26.37  24.73  23.71  22.34  20.89  20.02  19.63   \n3  1953.0  24.15  26.34  27.36  27.03  25.47  23.49  22.20  21.45  21.25   \n4  1954.0  23.02  25.00  25.33  22.97  21.73  20.77  19.52  19.33  18.95   \n\n     OCT    NOV    DEC  \n0  20.03  20.02  21.80  \n1  21.77  22.33  22.89  \n2  20.40  20.77  22.39  \n3  20.95  21.60  22.44  \n4  19.11  20.27  21.30  ",
      "text/html": "<div>\n<style scoped>\n    .dataframe tbody tr th:only-of-type {\n        vertical-align: middle;\n    }\n\n    .dataframe tbody tr th {\n        vertical-align: top;\n    }\n\n    .dataframe thead th {\n        text-align: right;\n    }\n</style>\n<table border=\"1\" class=\"dataframe\">\n  <thead>\n    <tr style=\"text-align: right;\">\n      <th></th>\n      <th>YEAR</th>\n      <th>JAN</th>\n      <th>FEB</th>\n      <th>MAR</th>\n      <th>APR</th>\n      <th>MAY</th>\n      <th>JUN</th>\n      <th>JUL</th>\n      <th>AUG</th>\n      <th>SEP</th>\n      <th>OCT</th>\n      <th>NOV</th>\n      <th>DEC</th>\n    </tr>\n  </thead>\n  <tbody>\n    <tr>\n      <th>0</th>\n      <td>1950.0</td>\n      <td>23.11</td>\n      <td>24.20</td>\n      <td>25.37</td>\n      <td>23.86</td>\n      <td>23.03</td>\n      <td>21.57</td>\n      <td>20.63</td>\n      <td>20.15</td>\n      <td>19.67</td>\n      <td>20.03</td>\n      <td>20.02</td>\n      <td>21.80</td>\n    </tr>\n    <tr>\n      <th>1</th>\n      <td>1951.0</td>\n      <td>24.19</td>\n      <td>25.28</td>\n      <td>25.60</td>\n      <td>25.37</td>\n      <td>24.79</td>\n      <td>24.69</td>\n      <td>23.86</td>\n      <td>22.32</td>\n      <td>21.44</td>\n      <td>21.77</td>\n      <td>22.33</td>\n      <td>22.89</td>\n    </tr>\n    <tr>\n      <th>2</th>\n      <td>1952.0</td>\n      <td>24.52</td>\n      <td>26.21</td>\n      <td>26.37</td>\n      <td>24.73</td>\n      <td>23.71</td>\n      <td>22.34</td>\n      <td>20.89</td>\n      <td>20.02</td>\n      <td>19.63</td>\n      <td>20.40</td>\n      <td>20.77</td>\n      <td>22.39</td>\n    </tr>\n    <tr>\n      <th>3</th>\n      <td>1953.0</td>\n      <td>24.15</td>\n      <td>26.34</td>\n      <td>27.36</td>\n      <td>27.03</td>\n      <td>25.47</td>\n      <td>23.49</td>\n      <td>22.20</td>\n      <td>21.45</td>\n      <td>21.25</td>\n      <td>20.95</td>\n      <td>21.60</td>\n      <td>22.44</td>\n    </tr>\n    <tr>\n      <th>4</th>\n      <td>1954.0</td>\n      <td>23.02</td>\n      <td>25.00</td>\n      <td>25.33</td>\n      <td>22.97</td>\n      <td>21.73</td>\n      <td>20.77</td>\n      <td>19.52</td>\n      <td>19.33</td>\n      <td>18.95</td>\n      <td>19.11</td>\n      <td>20.27</td>\n      <td>21.30</td>\n    </tr>\n  </tbody>\n</table>\n</div>"
     },
     "execution_count": 1,
     "metadata": {},
     "output_type": "execute_result"
    }
   ],
   "source": [
    "import pandas as pd\n",
    "import statsmodels.api as sm\n",
    "import pandas\n",
    "\n",
    "elnino_df= pd.DataFrame(sm.datasets.elnino.load_pandas().data)\n",
    "elnino_df.head()\n",
    "\n"
   ]
  },
  {
   "cell_type": "code",
   "execution_count": null,
   "outputs": [],
   "source": [],
   "metadata": {
    "collapsed": false
   },
   "id": "8c95db9dd7e31321"
  }
 ],
 "metadata": {
  "kernelspec": {
   "display_name": "Python 3",
   "language": "python",
   "name": "python3"
  },
  "language_info": {
   "codemirror_mode": {
    "name": "ipython",
    "version": 2
   },
   "file_extension": ".py",
   "mimetype": "text/x-python",
   "name": "python",
   "nbconvert_exporter": "python",
   "pygments_lexer": "ipython2",
   "version": "2.7.6"
  }
 },
 "nbformat": 4,
 "nbformat_minor": 5
}
