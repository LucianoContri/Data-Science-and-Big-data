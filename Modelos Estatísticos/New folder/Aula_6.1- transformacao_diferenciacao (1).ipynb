{
 "cells": [
  {
   "cell_type": "markdown",
   "metadata": {
    "id": "a96WELzFA98V"
   },
   "source": [
    "# **Aula 6 - Séries Temporais**"
   ]
  },
  {
   "cell_type": "markdown",
   "metadata": {},
   "source": [
    "# TRANSFORMAÇÃO E DIFERENCIAÇÃO"
   ]
  },
  {
   "cell_type": "code",
   "execution_count": 1,
   "metadata": {
    "id": "A5yMS5nI9uYM"
   },
   "source": [
    "import numpy as np\n",
    "import pandas as pd\n",
    "import matplotlib.pyplot as plt"
   ],
   "outputs": []
  },
  {
   "cell_type": "code",
   "execution_count": 2,
   "metadata": {
    "id": "cAJTcWNL4A9U"
   },
   "source": [
    "from matplotlib.pylab import rcParams\n",
    "rcParams['figure.figsize'] = 15,6"
   ],
   "outputs": []
  },
  {
   "cell_type": "markdown",
   "metadata": {
    "id": "6dQ2L_8r6bZF"
   },
   "source": [
    "### **Transformação**"
   ]
  },
  {
   "cell_type": "markdown",
   "metadata": {},
   "source": [
    "Transformar a série que não tenha distribuição normal em uma série com distribuição aproximadamente normal"
   ]
  },
  {
   "cell_type": "markdown",
   "metadata": {
    "id": "CYVuEx5VbELw"
   },
   "source": [
    "**AirPassengers: dados clássicos da companhia aérea Box & Jenkins. Totais mensais de passageiros de companhias aéreas internacionais, 1949 a 1960.**\n",
    " "
   ]
  },
  {
   "cell_type": "code",
   "execution_count": 3,
   "metadata": {
    "id": "3347scLeXDlZ"
   },
   "source": [
    "dados = pd.read_csv('AirPassengers.csv', sep=',')"
   ],
   "outputs": []
  },
  {
   "cell_type": "code",
   "execution_count": 4,
   "metadata": {
    "id": "XuubUz3uXm9A"
   },
   "source": [
    "dados"
   ],
   "outputs": []
  },
  {
   "cell_type": "code",
   "execution_count": 5,
   "metadata": {
    "id": "Co7ssl86X6Lf"
   },
   "source": [
    "serie = pd.Series(dados['Passengers'].values, index = dados['Month'])\n",
    "serie"
   ],
   "outputs": []
  },
  {
   "cell_type": "code",
   "execution_count": 6,
   "metadata": {
    "id": "SJqkpMJDYfFO"
   },
   "source": [
    "serie.plot()\n",
    "plt.show()"
   ],
   "outputs": []
  },
  {
   "cell_type": "markdown",
   "metadata": {},
   "source": [
    "Tendencia crescente ao longo dos anos e sazonalidade clara, onde de tempos em tempos (regulares) há picos bem marcados. Esses picos começam com uma amplitude pequena e vai aumentando ao passar dos anos."
   ]
  },
  {
   "cell_type": "markdown",
   "metadata": {},
   "source": [
    "Verificando a normalidade dos dados "
   ]
  },
  {
   "cell_type": "code",
   "execution_count": 7,
   "metadata": {
    "id": "ZswaBRUAEBNu"
   },
   "source": [
    "import scipy.stats as stats"
   ],
   "outputs": []
  },
  {
   "cell_type": "code",
   "execution_count": 8,
   "metadata": {
    "id": "DTiTiaJ_EBNu"
   },
   "source": [
    "stats.probplot(serie, dist=\"norm\", plot=plt)\n",
    "plt.title(\"Normal QQ plot\")\n",
    "plt.show()"
   ],
   "outputs": []
  },
  {
   "cell_type": "markdown",
   "metadata": {},
   "source": [
    "Serie aparentemente demonstra problemas de normalidade no começo e um pouco no final, pois é onde ela se distancia da linha."
   ]
  },
  {
   "cell_type": "markdown",
   "metadata": {
    "id": "7Dj0sx2rEBNw"
   },
   "source": [
    "**Teste Shapiro-Wilk**\n",
    "\n",
    "CRITÉRIOS:\n",
    "\n",
    "NÍVEL DE SIGNIFICÂNCIA DE 0,05 ou 5% (MAIS UTILIZADO)\n",
    "\n",
    "* H0: A série segue uma distribuição aproximadamente normal QUANDO p > 0,05.\n",
    "* Ha: A série NÃO segue uma distribuição aproximadamente normal QUANDO p < 0,05."
   ]
  },
  {
   "cell_type": "code",
   "execution_count": 9,
   "metadata": {
    "id": "uWqLcw3KEBNw"
   },
   "source": [
    "e, p = stats.shapiro(serie)\n",
    "print('Estatística de teste: {}'.format(e))\n",
    "print('p-valor: {}'.format(p))"
   ],
   "outputs": []
  },
  {
   "cell_type": "markdown",
   "metadata": {},
   "source": [
    "Como p é menor que 0,05 podemos dizer que a distribuição não é normal.\n",
    "\n",
    "Para tentarmos resolver esse problema podemos utilizar a transformação logarítmica ou exponencial"
   ]
  },
  {
   "cell_type": "markdown",
   "metadata": {},
   "source": [
    "Transformação por log (Diminuir variância e melhorar normalidade)\n",
    "\n",
    "Aplica a função logarítmica em todos os dados da série"
   ]
  },
  {
   "cell_type": "code",
   "execution_count": 10,
   "metadata": {
    "id": "Qz6yheI_EVHT"
   },
   "source": [
    "serie2 = np.log(serie)\n",
    "serie2"
   ],
   "outputs": []
  },
  {
   "cell_type": "code",
   "execution_count": 11,
   "metadata": {
    "id": "KGdaDPNgEVHU"
   },
   "source": [
    "stats.probplot(serie2, dist=\"norm\", plot=plt)\n",
    "plt.title(\"Normal QQ plot\")\n",
    "plt.show()"
   ],
   "outputs": []
  },
  {
   "cell_type": "markdown",
   "metadata": {},
   "source": [
    "Observa-se que o início da série a uma aproximação com a linha de referencia, porem o fim da série houve um afastamento maior. Há uma possível na normalidade dos dados."
   ]
  },
  {
   "cell_type": "markdown",
   "metadata": {
    "id": "qeGTQ3n_EVHU"
   },
   "source": [
    "**Teste Shapiro-Wilk**\n",
    "\n",
    "CRITÉRIOS:\n",
    "\n",
    "NÍVEL DE SIGNIFICÂNCIA DE 0,05 ou 5% (MAIS UTILIZADO)\n",
    "\n",
    "* H0: A série segue uma distribuição aproximadamente normal QUANDO p > 0,05.\n",
    "* Ha: A série NÃO segue uma distribuição aproximadamente normal QUANDO p < 0,05."
   ]
  },
  {
   "cell_type": "code",
   "execution_count": 12,
   "metadata": {
    "id": "DlBYMMWgEVHV"
   },
   "source": [
    "e, p = stats.shapiro(serie2)\n",
    "print('Estatística de teste: {}'.format(e))\n",
    "print('p-valor: {}'.format(p))"
   ],
   "outputs": []
  },
  {
   "cell_type": "markdown",
   "metadata": {},
   "source": [
    "Observa-se uma melhoria na normalidade pela proximidade o p-valor com o nivel de significância, porem ainda não temos dados normais"
   ]
  },
  {
   "cell_type": "markdown",
   "metadata": {},
   "source": [
    "Transformação por raiz cúbica essa transformação é muito utilizada quando a série possui dados com valor zero ou negativos"
   ]
  },
  {
   "cell_type": "code",
   "execution_count": 13,
   "metadata": {
    "id": "WvBBN92sEVHV"
   },
   "source": [
    "serie3 = (serie)**(1/3)\n",
    "serie3"
   ],
   "outputs": []
  },
  {
   "cell_type": "markdown",
   "metadata": {},
   "source": [
    "No python sempre que temos o operador de raiz e tivermos números negativos ele fará um tratamento transformando os números em números complexos.\n",
    "\n",
    "Quando a raiz é quadrada, não existe um numero real que retorne uma raiz negativa (apenas um número complexo), agora se for raiz cubica existiria núneros reais.\n",
    "\n",
    "Aparece NaN - valor missing"
   ]
  },
  {
   "cell_type": "code",
   "execution_count": 14,
   "metadata": {},
   "source": [
    "(27)**(1/3)"
   ],
   "outputs": []
  },
  {
   "cell_type": "code",
   "execution_count": 15,
   "metadata": {},
   "source": [
    "(-27)**(1/3)"
   ],
   "outputs": []
  },
  {
   "cell_type": "markdown",
   "metadata": {},
   "source": [
    "Mostra o número complexo, porem podemos resolver o problema separando o sinal do número(valor absoluto)"
   ]
  },
  {
   "cell_type": "code",
   "execution_count": 16,
   "metadata": {},
   "source": [
    "np.sign(-27)*abs(-27)**(1/3)"
   ],
   "outputs": []
  },
  {
   "cell_type": "code",
   "execution_count": 17,
   "metadata": {},
   "source": [
    "serie_3 = np.sign(serie)*abs(serie)**(1/3)\n",
    "serie_3"
   ],
   "outputs": []
  },
  {
   "cell_type": "code",
   "execution_count": 18,
   "metadata": {
    "id": "dJ6UIAa9EVHW"
   },
   "source": [
    "stats.probplot(serie_3, dist=\"norm\", plot=plt)\n",
    "plt.title(\"Normal QQ plot\")\n",
    "plt.show()"
   ],
   "outputs": []
  },
  {
   "cell_type": "markdown",
   "metadata": {},
   "source": [
    "Ajusta melhor o final da série , porem no inicio ainda existe um afastamento da linha de referencia. Aparentemente melhorou a normalidade da série"
   ]
  },
  {
   "cell_type": "markdown",
   "metadata": {
    "id": "eIlLzudkEVHW"
   },
   "source": [
    "**Teste Shapiro-Wilk**\n",
    "\n",
    "CRITÉRIOS:\n",
    "\n",
    "NÍVEL DE SIGNIFICÂNCIA DE 0,05 ou 5% (MAIS UTILIZADO)\n",
    "\n",
    "* H0: A série segue uma distribuição aproximadamente normal QUANDO p > 0,05.\n",
    "* Ha: A série NÃO segue uma distribuição aproximadamente normal QUANDO p < 0,05."
   ]
  },
  {
   "cell_type": "code",
   "execution_count": 19,
   "metadata": {
    "id": "DdZc6bWSEVHX"
   },
   "source": [
    "e, p = stats.shapiro(serie_3)\n",
    "print('Estatística de teste: {}'.format(e))\n",
    "print('p-valor: {}'.format(p))"
   ],
   "outputs": []
  },
  {
   "cell_type": "markdown",
   "metadata": {},
   "source": [
    "Verificando a normalidade dos dados com o histograma"
   ]
  },
  {
   "cell_type": "code",
   "execution_count": 20,
   "metadata": {
    "id": "ATKnw95U23v_"
   },
   "source": [
    "import seaborn as sns\n",
    "sns.distplot(serie); #serie original"
   ],
   "outputs": []
  },
  {
   "cell_type": "code",
   "execution_count": 21,
   "metadata": {
    "id": "Ix7PqR8-25ME"
   },
   "source": [
    "sns.distplot(serie2); #serie transformada com log"
   ],
   "outputs": []
  },
  {
   "cell_type": "code",
   "execution_count": 22,
   "metadata": {
    "id": "Vblot16c3Fl3"
   },
   "source": [
    "sns.distplot(serie3); #serie transformada com a raiz cubica(exponencial)"
   ],
   "outputs": []
  },
  {
   "cell_type": "markdown",
   "metadata": {},
   "source": [
    "Buscamos o formato de sino, da curva normal."
   ]
  },
  {
   "cell_type": "markdown",
   "metadata": {
    "id": "dLV6KXkRFiA5"
   },
   "source": [
    "### **DIFERENCIAÇÃO**"
   ]
  },
  {
   "cell_type": "markdown",
   "metadata": {},
   "source": [
    "Transformar uma série não estacionária em uma série estacionária "
   ]
  },
  {
   "cell_type": "code",
   "execution_count": 23,
   "metadata": {
    "id": "2k1QZCcoZQKT"
   },
   "source": [
    "import statsmodels.tsa.stattools"
   ],
   "outputs": []
  },
  {
   "cell_type": "markdown",
   "metadata": {
    "id": "g_uDFOAwZQKT"
   },
   "source": [
    "Teste KPSS (Kwiatkowski-Phillips-Schmidt-Shin)\n",
    "\n",
    "Ho = não é estacionário: estatística do teste > valor crítico (p-valor < 0,05)\n",
    "\n",
    "Ha = é estacionário:  estatística do teste < valor crítico  (p-valor > 0,05)"
   ]
  },
  {
   "cell_type": "code",
   "execution_count": 24,
   "metadata": {
    "id": "CrGuOg6wZQKU"
   },
   "source": [
    "kpss = statsmodels.tsa.stattools.kpss(serie3)\n",
    "print('Estatítica do teste: {:.4f}'.format(kpss[0]))\n",
    "print('p_valor: {:.4f}'.format(kpss[1]))\n",
    "print('Valores Críticos:')\n",
    "for chave, valor in kpss[3].items():\n",
    "   print('{}: {:.4f}'.format(chave, valor))"
   ],
   "outputs": []
  },
  {
   "cell_type": "markdown",
   "metadata": {},
   "source": [
    "Como temos a estatística(1.6735) do teste é maior que o valor crítico(0.4630), temos que a série não é estacionária"
   ]
  },
  {
   "cell_type": "markdown",
   "metadata": {
    "id": "3wM7s1QtZQKV"
   },
   "source": [
    "Teste df (Dickey Fuller)\n",
    "\n",
    "Ho = não é estacionário: estatística do teste >= valor crítico (p-valor > 0,05)\n",
    "\n",
    "Ha = é estacionário:  estatística do teste < valor crítico (p-valor < 0,05)"
   ]
  },
  {
   "cell_type": "code",
   "execution_count": 25,
   "metadata": {
    "id": "PcQ71JmPZQKW"
   },
   "source": [
    "df = statsmodels.tsa.stattools.adfuller(serie3)\n",
    "print('Estatítica do teste: {:.4f}'.format(df[0]))\n",
    "print('p_valor: {:.8f}'.format(df[1]))\n",
    "print('Valores Críticos:')\n",
    "for chave, valor in df[4].items():\n",
    "   print('{}: {:.4f}'.format(chave, valor))"
   ],
   "outputs": []
  },
  {
   "cell_type": "markdown",
   "metadata": {},
   "source": [
    "Como temos a estatística(-0.8100) do teste é maior que o valor crítico(-2.8840), temos que a série não é estacionária"
   ]
  },
  {
   "cell_type": "markdown",
   "metadata": {},
   "source": [
    "Fazendo a diferenciação\n",
    "\n",
    "Lembrando que iremos perder o primeiro valor pois não temos o antecessor para subtrair"
   ]
  },
  {
   "cell_type": "code",
   "execution_count": 26,
   "metadata": {
    "id": "J1i_WIjIHKjX"
   },
   "source": [
    "serie4 = np.diff(serie3)"
   ],
   "outputs": []
  },
  {
   "cell_type": "code",
   "execution_count": 27,
   "metadata": {
    "id": "aEUWIJtqHu10"
   },
   "source": [
    "plt.plot(serie4)\n",
    "plt.show()"
   ],
   "outputs": []
  },
  {
   "cell_type": "code",
   "execution_count": 28,
   "metadata": {},
   "source": [
    "plt.plot(serie3)\n",
    "plt.show()"
   ],
   "outputs": []
  },
  {
   "cell_type": "code",
   "execution_count": 29,
   "metadata": {
    "id": "TBFfcgxoIRhp"
   },
   "source": [
    "serie.plot()\n",
    "plt.show()"
   ],
   "outputs": []
  },
  {
   "cell_type": "markdown",
   "metadata": {},
   "source": [
    "Desmostrando como é realizada a diferenciação :\n",
    "\n",
    "Subtração da série por um valor antecessor dela mesma"
   ]
  },
  {
   "cell_type": "code",
   "execution_count": 30,
   "metadata": {
    "id": "RaaxJ33jIgny"
   },
   "source": [
    "serie_diff = serie3 - serie3.shift()\n",
    "#shift -> valor antecessor "
   ],
   "outputs": []
  },
  {
   "cell_type": "code",
   "execution_count": 31,
   "metadata": {
    "id": "1bcDKDpFIznL"
   },
   "source": [
    "serie_diff.plot()\n",
    "plt.show()"
   ],
   "outputs": []
  },
  {
   "cell_type": "markdown",
   "metadata": {
    "id": "LK26RlLYv3Tc"
   },
   "source": [
    "Teste KPSS (Kwiatkowski-Phillips-Schmidt-Shin)\n",
    "\n",
    "Ho = não é estacionário: estatística do teste > valor crítico\n",
    "\n",
    "Ha = é estacionário:  estatística do teste < valor crítico"
   ]
  },
  {
   "cell_type": "code",
   "execution_count": 32,
   "metadata": {
    "id": "_EHNdlHFv3Td"
   },
   "source": [
    "kpss = statsmodels.tsa.stattools.kpss(serie4)\n",
    "print('Estatítica do teste: {:.4f}'.format(kpss[0]))\n",
    "print('p_valor: {:.4f}'.format(kpss[1]))\n",
    "print('Valores Críticos:')\n",
    "for chave, valor in kpss[3].items():\n",
    "   print('{}: {:.4f}'.format(chave, valor))"
   ],
   "outputs": []
  },
  {
   "cell_type": "markdown",
   "metadata": {},
   "source": [
    "Como a estatística(0.0266) do teste é menor que o valor crítico(0.4630), temos que a série é estacionária\n",
    "\n",
    "Caso não tivesse chegado a estacionaridade poderíamos realizar a Diferenciação de segunda ordem.\n"
   ]
  },
  {
   "cell_type": "code",
   "execution_count": 33,
   "metadata": {
    "id": "V-slQMypvOTH"
   },
   "source": [
    "serie5 = np.diff(serie4)"
   ],
   "outputs": []
  },
  {
   "cell_type": "code",
   "execution_count": 34,
   "metadata": {
    "id": "GMhvoU2Vvg6z"
   },
   "source": [
    "plt.plot(serie5)\n",
    "plt.show()"
   ],
   "outputs": []
  },
  {
   "cell_type": "code",
   "execution_count": 35,
   "metadata": {
    "id": "h13e2ey4wLss"
   },
   "source": [
    "kpss = statsmodels.tsa.stattools.kpss(serie5)\n",
    "print('Estatítica do teste: {:.4f}'.format(kpss[0]))\n",
    "print('p_valor: {:.4f}'.format(kpss[1]))\n",
    "print('Valores Críticos:')\n",
    "for chave, valor in kpss[3].items():\n",
    "   print('{}: {:.4f}'.format(chave, valor))"
   ],
   "outputs": []
  },
  {
   "cell_type": "markdown",
   "metadata": {},
   "source": [
    "### REVERSÃO DA TRANSFORMAÇÃO E DIFERENCIAÇÃO"
   ]
  },
  {
   "cell_type": "markdown",
   "metadata": {},
   "source": [
    "Ao realizarmos a transformação e diferenciação das séries temporais alteramos os valores das séries, logo para fazermos previsões temos que realizar a reversão da trasnformação e diferenciação das séries - queremos fazer previsões na escala original"
   ]
  },
  {
   "cell_type": "markdown",
   "metadata": {},
   "source": [
    "Transformação por log (Este log é o logaritmo natural(ln), tem base e)"
   ]
  },
  {
   "cell_type": "code",
   "execution_count": 36,
   "metadata": {},
   "source": [
    "serie"
   ],
   "outputs": []
  },
  {
   "cell_type": "code",
   "execution_count": 37,
   "metadata": {},
   "source": [
    "serie2 = np.log(serie)\n",
    "serie2"
   ],
   "outputs": []
  },
  {
   "cell_type": "code",
   "execution_count": 38,
   "metadata": {},
   "source": [
    "serie_revertida =  np.e**serie2\n",
    "serie_revertida"
   ],
   "outputs": []
  },
  {
   "cell_type": "markdown",
   "metadata": {},
   "source": [
    "Transformação de logaritmo de base 10"
   ]
  },
  {
   "cell_type": "code",
   "execution_count": 39,
   "metadata": {},
   "source": [
    "serie2 = np.log10(serie)\n",
    "serie2"
   ],
   "outputs": []
  },
  {
   "cell_type": "code",
   "execution_count": 40,
   "metadata": {},
   "source": [
    "serie_revertida =  10**serie2\n",
    "serie_revertida"
   ],
   "outputs": []
  },
  {
   "cell_type": "markdown",
   "metadata": {},
   "source": [
    "### REVERSÃO DA TRANSFORMAÇÃO POR RAIZ CÚBICA"
   ]
  },
  {
   "cell_type": "markdown",
   "metadata": {},
   "source": [
    "Transformação por raiz cúbica (quando possui dados com valor zero ou negativos)"
   ]
  },
  {
   "cell_type": "code",
   "execution_count": 41,
   "metadata": {},
   "source": [
    "serie3 = (serie)**(1/3)\n",
    "serie3"
   ],
   "outputs": []
  },
  {
   "cell_type": "code",
   "execution_count": 42,
   "metadata": {},
   "source": [
    "serie_revertida = serie3**3\n",
    "serie_revertida"
   ],
   "outputs": []
  },
  {
   "cell_type": "markdown",
   "metadata": {},
   "source": [
    "### REVERSÃO DA DIFERENCIAÇÃO"
   ]
  },
  {
   "cell_type": "markdown",
   "metadata": {},
   "source": [
    "Diferenciação - difereça do valor da serie pelo seu antecessor \n",
    "\n",
    "Lembrando que iremos perder o primeiro valor pois não temos o antecessor para subtrair"
   ]
  },
  {
   "cell_type": "code",
   "execution_count": 43,
   "metadata": {},
   "source": [
    "serie_diferenciada = serie.diff()\n",
    "serie_diferenciada"
   ],
   "outputs": []
  },
  {
   "cell_type": "code",
   "execution_count": 44,
   "metadata": {},
   "source": [
    "serie_revertida = serie.shift(1) + serie_diferenciada\n",
    "serie_revertida\n",
    "#shift(1) -> valor antecessor"
   ],
   "outputs": []
  },
  {
   "cell_type": "markdown",
   "metadata": {},
   "source": [
    "**Organizando num dataframe**"
   ]
  },
  {
   "cell_type": "markdown",
   "metadata": {},
   "source": [
    "Fazer a diferenciação dos valores que estão na coluna Passengers e criar uma coluna no Dataframe com o nome: valores_diferenciados"
   ]
  },
  {
   "cell_type": "code",
   "execution_count": 45,
   "metadata": {},
   "source": [
    "dados['valores_diferenciados'] = dados['Passengers'].diff()\n",
    "dados"
   ],
   "outputs": []
  },
  {
   "cell_type": "markdown",
   "metadata": {},
   "source": [
    "Reverter a diferenciação da coluna valores_diferenciados e criar mais uma coluna com o nome valores_revertidos"
   ]
  },
  {
   "cell_type": "code",
   "execution_count": 46,
   "metadata": {},
   "source": [
    "dados['valores_revertidos'] = dados['Passengers'].shift(1) + dados['valores_diferenciados']\n",
    "dados"
   ],
   "outputs": []
  }
 ],
 "metadata": {
  "colab": {
   "name": "transformacao_diferenciacao.ipynb",
   "provenance": []
  },
  "kernelspec": {
   "display_name": "Python 3 (ipykernel)",
   "language": "python",
   "name": "python3"
  },
  "language_info": {
   "codemirror_mode": {
    "name": "ipython",
    "version": 3
   },
   "file_extension": ".py",
   "mimetype": "text/x-python",
   "name": "python",
   "nbconvert_exporter": "python",
   "pygments_lexer": "ipython3",
   "version": "3.11.3"
  }
 },
 "nbformat": 4,
 "nbformat_minor": 1
}
