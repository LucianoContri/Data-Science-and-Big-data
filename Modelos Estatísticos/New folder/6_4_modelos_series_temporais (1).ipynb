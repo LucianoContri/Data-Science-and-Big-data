{
 "cells": [
  {
   "cell_type": "markdown",
   "metadata": {
    "id": "a96WELzFA98V"
   },
   "source": [
    "# **MODELOS DE SÉRIES TEMPORAIS PARA PREDIÇÃO PLUVIOMÉTRICA**"
   ]
  },
  {
   "cell_type": "code",
   "execution_count": 1,
   "metadata": {
    "id": "A5yMS5nI9uYM"
   },
   "source": [
    "import numpy as np\n",
    "import pandas as pd\n",
    "import matplotlib.pyplot as plt\n",
    "\n",
    "from matplotlib.pylab import rcParams\n",
    "rcParams['figure.figsize'] = 10, 4"
   ],
   "outputs": []
  },
  {
   "cell_type": "markdown",
   "metadata": {
    "id": "x8vp1QN89svn"
   },
   "source": [
    "## **Tratamento da base de dados**"
   ]
  },
  {
   "cell_type": "markdown",
   "metadata": {
    "id": "CpySwvJH3is6"
   },
   "source": [
    "Importando a base de dados relativa a quantidade de chuva mensal na cidade de São Paulo"
   ]
  },
  {
   "cell_type": "code",
   "execution_count": 2,
   "metadata": {
    "id": "kgcirDASxITd"
   },
   "source": [
    "chuva = pd.read_csv('Chuva_Mensal.csv',sep=';')"
   ],
   "outputs": []
  },
  {
   "cell_type": "markdown",
   "metadata": {
    "id": "KnI2uSizAHuT"
   },
   "source": [
    "Boas Práticas para análise de dados:\n",
    "\n",
    "*  Analisar as variaveis do dataframe importado;\n",
    "*  Verificar o tamanho dataframe;\n",
    "*  Verificar como o python reconhece as variáveis;\n",
    "*  Verificar a existência de valores faltantes."
   ]
  },
  {
   "cell_type": "code",
   "execution_count": 3,
   "metadata": {
    "colab": {
     "base_uri": "https://localhost:8080/",
     "height": 226
    },
    "id": "C8AHlNaszHGw",
    "outputId": "e26696c6-394a-4e5f-bfb1-d3a8b4b4ce1d"
   },
   "source": [
    "chuva.head()"
   ],
   "outputs": []
  },
  {
   "cell_type": "markdown",
   "metadata": {
    "id": "wumbc0kmoJ5X"
   },
   "source": [
    "Possiveis problemas : virgulas e traços (valores nao preenchidos)"
   ]
  },
  {
   "cell_type": "markdown",
   "metadata": {
    "id": "8Lf03aO1_vJ-"
   },
   "source": [
    "Verificando o tamanho da nossa base de dados"
   ]
  },
  {
   "cell_type": "code",
   "execution_count": 4,
   "metadata": {
    "colab": {
     "base_uri": "https://localhost:8080/"
    },
    "id": "nE3vAeHI0u-r",
    "outputId": "6d871eb9-7ece-4c5e-b147-a3a3fa8cc0cd"
   },
   "source": [
    "chuva.shape"
   ],
   "outputs": []
  },
  {
   "cell_type": "markdown",
   "metadata": {
    "id": "OMH8H2sX79bE"
   },
   "source": [
    "Análise dos tipos de atributos.\n",
    "*   object: strings\n",
    "*   int64: inteiros\n",
    "*   float64: reais\n",
    "*   complex: complexos"
   ]
  },
  {
   "cell_type": "code",
   "execution_count": 5,
   "metadata": {
    "colab": {
     "base_uri": "https://localhost:8080/"
    },
    "id": "sCiLF7Cy0mLc",
    "outputId": "4599e526-3628-4683-d08f-20b32bd78e47"
   },
   "source": [
    "chuva.dtypes"
   ],
   "outputs": []
  },
  {
   "cell_type": "markdown",
   "metadata": {
    "id": "b3q2JEdE8M9z"
   },
   "source": [
    "Temos todas as variáveis como strings ou objetos\n",
    "\n",
    "Inicialmente vamos Substituir as vírgulas por pontos\n",
    "\n",
    "Função lambda -> função anônima (simplifica a escrita da função) - criação direta de função.\n",
    "\n",
    "Com o .apply a função criada irá percorrer todos valores e subtituir , por ."
   ]
  },
  {
   "cell_type": "code",
   "execution_count": 6,
   "metadata": {
    "colab": {
     "base_uri": "https://localhost:8080/",
     "height": 226
    },
    "id": "pQzF14y13bhW",
    "outputId": "f22e1f62-8356-4c21-9188-8ff364ade890"
   },
   "source": [
    "chuva = chuva.apply(lambda x: x.str.replace(',','.'))\n",
    "chuva.head()"
   ],
   "outputs": []
  },
  {
   "cell_type": "code",
   "execution_count": 7,
   "metadata": {
    "colab": {
     "base_uri": "https://localhost:8080/"
    },
    "id": "d2C2T3nK4GkC",
    "outputId": "fb5d3974-1391-46c4-c959-33771990d641"
   },
   "source": [
    "chuva.dtypes"
   ],
   "outputs": []
  },
  {
   "cell_type": "markdown",
   "metadata": {
    "id": "6kYTvuAl85nN"
   },
   "source": [
    "As variáveis ainda não são do tipo float.\n",
    "\n",
    "Por isso iremos transformar variáveis categóricas em numéricas e substituir os traços pela média"
   ]
  },
  {
   "cell_type": "code",
   "execution_count": 8,
   "metadata": {
    "id": "nTcoHbE-6MRw"
   },
   "source": [
    "print(chuva)"
   ],
   "outputs": []
  },
  {
   "cell_type": "code",
   "execution_count": 9,
   "metadata": {
    "colab": {
     "base_uri": "https://localhost:8080/"
    },
    "id": "ouz1Vh2f4RI6",
    "outputId": "d89262e4-e5b8-439a-b02f-18dadc2a86de"
   },
   "source": [
    "chuva['Janeiro'] =  pd.to_numeric(chuva['Janeiro'].str.replace('---', '305.79'))\n",
    "chuva['Fevereiro'] =  pd.to_numeric(chuva['Fevereiro'].str.replace('---', '249.3'))\n",
    "chuva['Março'] =  pd.to_numeric(chuva['Março'].str.replace('---', '227.97'))\n",
    "chuva['Abril'] =  pd.to_numeric(chuva['Abril'].str.replace('---', '93.64'))\n",
    "chuva['Maio'] =  pd.to_numeric(chuva['Maio'].str.replace('---', '86.67'))\n",
    "chuva['Junho'] =  pd.to_numeric(chuva['Junho'].str.replace('---', '59.66'))\n",
    "chuva['Julho'] =  pd.to_numeric(chuva['Julho'].str.replace('---', '54.6'))\n",
    "chuva['Agosto'] =  pd.to_numeric(chuva['Agosto'].str.replace('---', '27.85'))\n",
    "chuva['Setembro'] =  pd.to_numeric(chuva['Setembro'].str.replace('---', '83.8'))\n",
    "chuva['Outubro'] =  pd.to_numeric(chuva['Outubro'].str.replace('---', '139.89'))\n",
    "chuva['Novembro'] =  pd.to_numeric(chuva['Novembro'].str.replace('---', '145.04'))\n",
    "chuva['Dezembro'] =  pd.to_numeric(chuva['Dezembro'].str.replace('---', '236.04'))\n",
    "print(chuva)"
   ],
   "outputs": []
  },
  {
   "cell_type": "code",
   "execution_count": 10,
   "metadata": {
    "colab": {
     "base_uri": "https://localhost:8080/"
    },
    "id": "AQSVGORX8PbK",
    "outputId": "76194676-8523-4fbd-fea5-12d4adf8e969",
    "scrolled": true
   },
   "source": [
    "chuva.dtypes"
   ],
   "outputs": []
  },
  {
   "cell_type": "markdown",
   "metadata": {
    "id": "hWnQ8osP9z04"
   },
   "source": [
    "Excluir as duas últimas linhas - a média e o ultimo valor para realizarmos a previsão e comparar depois\n"
   ]
  },
  {
   "cell_type": "code",
   "execution_count": 11,
   "metadata": {
    "colab": {
     "base_uri": "https://localhost:8080/"
    },
    "id": "kFmIJGt09wgQ",
    "outputId": "5af83a3c-aa1b-452f-ddc9-23b9d0616dd4"
   },
   "source": [
    "chuva2 = chuva.drop([36,37])\n",
    "print(chuva2)"
   ],
   "outputs": []
  },
  {
   "cell_type": "markdown",
   "metadata": {
    "id": "o4rW_FS3-Of3"
   },
   "source": [
    "Estrutura da base de dados está ideal?"
   ]
  },
  {
   "cell_type": "markdown",
   "metadata": {
    "id": "hQ5D_ghQ_Q1s"
   },
   "source": [
    "Teremos que formatar a tabela para criar nossa série temporal"
   ]
  },
  {
   "cell_type": "code",
   "execution_count": 12,
   "metadata": {
    "colab": {
     "base_uri": "https://localhost:8080/",
     "height": 226
    },
    "id": "QS5PRiPE_LKE",
    "outputId": "f2fcf0cb-6a12-4776-af74-e2d2961f42ed"
   },
   "source": [
    "chuva2 = chuva2.drop(columns='Ano')\n",
    "chuva2.head()"
   ],
   "outputs": []
  },
  {
   "cell_type": "markdown",
   "metadata": {
    "id": "SPP5PffKAHpR"
   },
   "source": [
    "Temos que configurar a tabela de maneira a ordenar os registros por linha"
   ]
  },
  {
   "cell_type": "markdown",
   "metadata": {
    "id": "FlTXDyBwB3RU"
   },
   "source": [
    "Transformar em Array resolveria o problema?"
   ]
  },
  {
   "cell_type": "code",
   "execution_count": 13,
   "metadata": {
    "colab": {
     "base_uri": "https://localhost:8080/"
    },
    "id": "uosLkznuBFha",
    "outputId": "c0297416-80e8-422c-dbbb-10ae0c6220b5"
   },
   "source": [
    "chuva3 = chuva2.values\n",
    "chuva3"
   ],
   "outputs": []
  },
  {
   "cell_type": "markdown",
   "metadata": {
    "id": "e-8UxzAHB-Qk"
   },
   "source": [
    "Teriamos vários vetores por conta da quebra de linhas"
   ]
  },
  {
   "cell_type": "markdown",
   "metadata": {
    "id": "EsVF__SrA2bL"
   },
   "source": [
    "Transformando em uam lista sem quebras\n"
   ]
  },
  {
   "cell_type": "code",
   "execution_count": 14,
   "metadata": {
    "colab": {
     "base_uri": "https://localhost:8080/"
    },
    "id": "0UQLY1mAA4nZ",
    "outputId": "548923d3-1e16-47d7-dd15-88d79149f089"
   },
   "source": [
    "chuva4 = list(chuva3.flatten())\n",
    "print(chuva4)"
   ],
   "outputs": []
  },
  {
   "cell_type": "markdown",
   "metadata": {
    "id": "E4VIUdCEA-IZ"
   },
   "source": [
    "Transformar em lista sem quebra, por isso utilizamos o comando .flatten()"
   ]
  },
  {
   "cell_type": "markdown",
   "metadata": {
    "id": "OgcN-PgLCAuw"
   },
   "source": [
    "Criando um range de datas, mensalmente a partir de 1985, e a partir da quantidade de registros na lista chuva4"
   ]
  },
  {
   "cell_type": "code",
   "execution_count": 15,
   "metadata": {
    "colab": {
     "base_uri": "https://localhost:8080/"
    },
    "id": "0d-TBp4aBJBJ",
    "outputId": "f2c85255-03c4-473c-a913-1a75f2fd2838"
   },
   "source": [
    "indice = pd.date_range('1985', periods = len(chuva4), freq = 'M')\n",
    "indice"
   ],
   "outputs": []
  },
  {
   "cell_type": "markdown",
   "metadata": {
    "id": "ZPYRbiNLCO0x"
   },
   "source": [
    "Criando a série temporal"
   ]
  },
  {
   "cell_type": "code",
   "execution_count": 16,
   "metadata": {
    "colab": {
     "base_uri": "https://localhost:8080/"
    },
    "id": "5TKnBVHeB7_o",
    "outputId": "f2b77243-76e0-404f-b79d-2b1c6c9ff6e8"
   },
   "source": [
    "serie = pd.Series(chuva4, index = indice)\n",
    "serie"
   ],
   "outputs": []
  },
  {
   "cell_type": "code",
   "execution_count": 17,
   "metadata": {
    "colab": {
     "base_uri": "https://localhost:8080/",
     "height": 368
    },
    "id": "pfLA9vgUB9m4",
    "outputId": "30bf86b2-58d5-4aeb-ee40-b30d8ff5c8a1"
   },
   "source": [
    "serie.plot()\n",
    "plt.show()"
   ],
   "outputs": []
  },
  {
   "cell_type": "markdown",
   "metadata": {
    "id": "cpDL8QSICQ0-"
   },
   "source": [
    "Análise e preparação da Série Temporal"
   ]
  },
  {
   "cell_type": "markdown",
   "metadata": {
    "id": "YZosWQLrtYe3"
   },
   "source": [
    "Analisando a tendência"
   ]
  },
  {
   "cell_type": "markdown",
   "metadata": {
    "id": "uBGQQqWW_t4q"
   },
   "source": [
    "Calculando a média móvel para suavização da série.\n",
    "\n",
    "*   Utilizando janela de 6 meses\n",
    "*   Retiramos a média dessa janela\n"
   ]
  },
  {
   "cell_type": "code",
   "execution_count": 21,
   "metadata": {
    "id": "YRQIWs34CW2v"
   },
   "source": [
    "media_movel = serie.rolling(window=12)\n",
    "media_movel = media_movel.mean()"
   ],
   "outputs": []
  },
  {
   "cell_type": "code",
   "execution_count": 22,
   "metadata": {
    "colab": {
     "base_uri": "https://localhost:8080/",
     "height": 369
    },
    "id": "1LUU2CSts4b3",
    "outputId": "85347ca5-d72f-4572-8c84-28ca207314c4"
   },
   "source": [
    "plt.plot(media_movel);"
   ],
   "outputs": []
  },
  {
   "cell_type": "code",
   "execution_count": 23,
   "metadata": {
    "colab": {
     "base_uri": "https://localhost:8080/",
     "height": 368
    },
    "id": "bhOcYRhLs6-l",
    "outputId": "c83782df-7ce6-492f-dc0f-f0343e48b0f4"
   },
   "source": [
    "plt.plot(serie, label='Série Real')\n",
    "plt.plot(media_movel,color='red', label='Média Móvel 6 meses')\n",
    "plt.legend(loc='best')\n",
    "plt.show()"
   ],
   "outputs": []
  },
  {
   "cell_type": "markdown",
   "metadata": {
    "id": "MnKQ9nCtACkh"
   },
   "source": [
    "Existe oscilação na média móvel, porém bem mais suave do que da série real.  (redução de amplitude)\n",
    "\n",
    "A média movel facilita na verificação da existencia de tendência de crescimento ou decrescimento da série.\n",
    "\n",
    "Podemos aumentar a janela da média móvel para verificar mais claramente a ausência do fator de tendência"
   ]
  },
  {
   "cell_type": "markdown",
   "metadata": {
    "id": "Sho2CQcQs-TH"
   },
   "source": [
    "**Decomposição**"
   ]
  },
  {
   "cell_type": "markdown",
   "metadata": {
    "id": "oB8ULcxSBGcU"
   },
   "source": [
    "Iremos realizar a decomposição da série para analisarmos a tendencia, sazonalidade e resíduos"
   ]
  },
  {
   "cell_type": "code",
   "execution_count": 24,
   "metadata": {
    "id": "wX9B-KE8s9PT"
   },
   "source": [
    "from statsmodels.tsa.seasonal import seasonal_decompose"
   ],
   "outputs": []
  },
  {
   "cell_type": "code",
   "execution_count": 25,
   "metadata": {
    "id": "mqll3rLutBnS"
   },
   "source": [
    "decomposicao = seasonal_decompose(serie)"
   ],
   "outputs": []
  },
  {
   "cell_type": "code",
   "execution_count": 26,
   "metadata": {
    "colab": {
     "base_uri": "https://localhost:8080/",
     "height": 672
    },
    "id": "EM_tKQRxtCSw",
    "outputId": "1a5d6669-db40-4c26-b398-899242d49dd6"
   },
   "source": [
    "decomposicao.plot()"
   ],
   "outputs": []
  },
  {
   "cell_type": "markdown",
   "metadata": {
    "id": "JQ9zzPArBYmA"
   },
   "source": [
    "No primeiro gráfico temos a série temporal real.\n",
    "\n",
    "No segundo a tendencia, que evidencia há ausência de tendencia crescente ou decrescente. Existe uma oscilação porém não é possível identificar um ciclo bem definido.\n",
    "\n",
    "No terceiro a sazonalidade forte e constante , os picos não aumentam nem dinuem, eles se matem constantes ao longo da série, e com intervalos bem definidos\n",
    "\n",
    "E no quarto gráfico podemos observar os resíduos que estão aparentemente aleatorios em torno de zero.\n",
    "\n",
    "Análise de resíduos é muito importante pois ela que nos mostram a qualidade do nosso modelo, como verememos mais a frente."
   ]
  },
  {
   "cell_type": "markdown",
   "metadata": {
    "id": "mrbcGXcxtKD6"
   },
   "source": [
    "### **Normalidade e Transformação**"
   ]
  },
  {
   "cell_type": "code",
   "execution_count": 27,
   "metadata": {
    "id": "dzGhHyNItCOk"
   },
   "source": [
    "import scipy.stats as stats"
   ],
   "outputs": []
  },
  {
   "cell_type": "markdown",
   "metadata": {
    "id": "7k3G-KbnChkV"
   },
   "source": [
    "Verificando a normalidade dos dados da série"
   ]
  },
  {
   "cell_type": "code",
   "execution_count": 28,
   "metadata": {
    "colab": {
     "base_uri": "https://localhost:8080/",
     "height": 395
    },
    "id": "HosHfsNjtCKs",
    "outputId": "0828580a-cd51-409a-bdd6-076b4a7ccc8f",
    "scrolled": false
   },
   "source": [
    "stats.probplot(serie, dist=\"norm\", plot=plt)\n",
    "plt.title(\"Normal QQ plot\")\n",
    "plt.show()"
   ],
   "outputs": []
  },
  {
   "cell_type": "markdown",
   "metadata": {
    "id": "64Gii-MuCpFs"
   },
   "source": [
    "Podemos verificar que os dados não se aproximam de uma distribuição normal, apenas alguns pontos estão proximos da linha de referencia.\n",
    "E alguns pontos principalmente no início e fim da série estão bem distantes da linha de referência."
   ]
  },
  {
   "cell_type": "markdown",
   "metadata": {
    "id": "nmmKdXgmDDhi"
   },
   "source": [
    "Fazendo o teste de Sahpiro-Wilk para confirmar a ausência de normalidade"
   ]
  },
  {
   "cell_type": "markdown",
   "metadata": {
    "id": "eB27BhdltQ0Q"
   },
   "source": [
    "**Teste Shapiro-Wilk**\n",
    "\n",
    "CRITÉRIOS:\n",
    "\n",
    "NÍVEL DE SIGNIFICÂNCIA DE 0,05 ou 5% (MAIS UTILIZADO)\n",
    "\n",
    "Ho = distribuição normal p > 0,05\n",
    "\n",
    "Ha = distribuição não normal p <= 0,05"
   ]
  },
  {
   "cell_type": "code",
   "execution_count": 29,
   "metadata": {
    "colab": {
     "base_uri": "https://localhost:8080/"
    },
    "id": "YYd36SSltCGs",
    "outputId": "acd75565-4a38-46ae-91d1-0dae8b99b7bd"
   },
   "source": [
    "e, p = stats.shapiro(serie)\n",
    "print('Estatística de teste: {}'.format(e))\n",
    "print('p-valor: {}'.format(p))"
   ],
   "outputs": []
  },
  {
   "cell_type": "markdown",
   "metadata": {
    "id": "CZIFjki2DSCF"
   },
   "source": [
    "Vamos tentar aproximar de uma distribuição normal\n",
    "\n",
    "Inicialmente iremos realizar uma tranformação Transformação por log, buscando diminuir variância e melhorar normalidade."
   ]
  },
  {
   "cell_type": "code",
   "execution_count": 30,
   "metadata": {
    "colab": {
     "base_uri": "https://localhost:8080/"
    },
    "id": "A211VTaItCCr",
    "outputId": "dca6a599-64a4-485c-bf72-94de7c2c9675"
   },
   "source": [
    "serie2 = np.log(serie)\n",
    "serie2"
   ],
   "outputs": []
  },
  {
   "cell_type": "code",
   "execution_count": 31,
   "metadata": {
    "colab": {
     "base_uri": "https://localhost:8080/"
    },
    "id": "yle_rg31tB-n",
    "outputId": "16140dd9-eb9b-45c6-a3bc-17889f4fec5a"
   },
   "source": [
    "e, p = stats.shapiro(serie2)\n",
    "print('Estatística de teste: {}'.format(e))\n",
    "print('p-valor: {}'.format(p))"
   ],
   "outputs": []
  },
  {
   "cell_type": "markdown",
   "metadata": {
    "id": "pgQAXyefDu3H"
   },
   "source": [
    "Como na função logarítimica não podemos ter zero ou valores negativos por isso a função apresenta erro.\n",
    "\n",
    "Então tentaremos outro tipo de transformação."
   ]
  },
  {
   "cell_type": "markdown",
   "metadata": {
    "id": "5O4jfBj1EPrC"
   },
   "source": [
    "Transformação por raiz cúbica é muito utilizada quando na série temos dados com valor zero ou negativos."
   ]
  },
  {
   "cell_type": "code",
   "execution_count": 32,
   "metadata": {
    "colab": {
     "base_uri": "https://localhost:8080/"
    },
    "id": "k6YcENx1tB62",
    "outputId": "ab585d2f-f2a6-4e45-ac12-3d6647e8debe"
   },
   "source": [
    "serie3 = np.sign(serie)*abs(serie)**(1/3)\n",
    "serie3"
   ],
   "outputs": []
  },
  {
   "cell_type": "code",
   "execution_count": 33,
   "metadata": {
    "colab": {
     "base_uri": "https://localhost:8080/",
     "height": 409
    },
    "id": "tWZeOgQWtB3U",
    "outputId": "e9b9545d-3230-4474-ec00-8e0cb19fce83"
   },
   "source": [
    "stats.probplot(serie3, dist=\"norm\", plot=plt)\n",
    "plt.title(\"Normal QQ plot\")\n",
    "plt.show()"
   ],
   "outputs": []
  },
  {
   "cell_type": "markdown",
   "metadata": {
    "id": "7XZpvUxoEjHd"
   },
   "source": [
    "Observamos uma melhora significativa, em relação ao ajuste dos dados, porém ainda temos muitos pontos distantes da linha de referencia, o que possivelmente resultará em uma série que ainda não é aproximadamente normal.\n",
    "\n",
    "Fazendo o teste de hipótese para verificar se os dados seguem uma distribuição normal."
   ]
  },
  {
   "cell_type": "markdown",
   "metadata": {
    "id": "kcdqINz0u2vO"
   },
   "source": [
    "**Teste Shapiro-Wilk**\n",
    "\n",
    "CRITÉRIOS:\n",
    "\n",
    "NÍVEL DE SIGNIFICÂNCIA DE 0,05 ou 5% (MAIS UTILIZADO)\n",
    "\n",
    "Ho = distribuição normal p > 0,05\n",
    "\n",
    "Ha = distribuição não normal p <= 0,05"
   ]
  },
  {
   "cell_type": "code",
   "execution_count": 34,
   "metadata": {
    "colab": {
     "base_uri": "https://localhost:8080/"
    },
    "id": "7XboeXb3tBzB",
    "outputId": "d932ba86-d212-45b3-fbee-8790a2906f5e"
   },
   "source": [
    "e, p =stats.shapiro(serie3)\n",
    "print('Estatística de teste: {}'.format(e))\n",
    "print('p-valor: {}'.format(p))"
   ],
   "outputs": []
  },
  {
   "cell_type": "markdown",
   "metadata": {
    "id": "XZe7xEzJFByc"
   },
   "source": [
    "Ainda não temos uma série normal."
   ]
  },
  {
   "cell_type": "code",
   "execution_count": 35,
   "metadata": {
    "colab": {
     "base_uri": "https://localhost:8080/",
     "height": 546
    },
    "id": "uNxJsaaItkWQ",
    "outputId": "f9d1d3bd-2b64-47a2-940d-a2f5962f4292"
   },
   "source": [
    "import seaborn as sns\n",
    "sns.distplot(serie);"
   ],
   "outputs": []
  },
  {
   "cell_type": "code",
   "execution_count": 36,
   "metadata": {
    "colab": {
     "base_uri": "https://localhost:8080/",
     "height": 549
    },
    "id": "g8d23TqAtkS3",
    "outputId": "28074215-7a8c-4753-86c7-14ef1cbf0ffb"
   },
   "source": [
    "sns.distplot(serie3);"
   ],
   "outputs": []
  },
  {
   "cell_type": "markdown",
   "metadata": {
    "id": "4TI7mnX2FNX7"
   },
   "source": [
    "Observamos que a série melhora bastante sua disposição, e se aproxima mais da normalidade.\n",
    "\n",
    "Sempre temos que buscar uma série que aproxima de uma distribuição normal para termos modelos melhores."
   ]
  },
  {
   "cell_type": "markdown",
   "metadata": {
    "id": "3fRkIs0mFwfl"
   },
   "source": [
    "Não é recomendado ficar tentando transformações sobrepostas para obter a normalidade."
   ]
  },
  {
   "cell_type": "markdown",
   "metadata": {
    "id": "8BYcZqEZttv4"
   },
   "source": [
    "### **Estacionaridade**"
   ]
  },
  {
   "cell_type": "markdown",
   "metadata": {
    "id": "AtI1Sfo6GbgN"
   },
   "source": [
    "Média e variância constantes independente do tempo que a série é observada."
   ]
  },
  {
   "cell_type": "code",
   "execution_count": 37,
   "metadata": {
    "id": "YvLUHMs8tkOM"
   },
   "source": [
    "import statsmodels.tsa.stattools"
   ],
   "outputs": []
  },
  {
   "cell_type": "markdown",
   "metadata": {
    "id": "zZ09eRcPtyZ9"
   },
   "source": [
    "Teste KPSS (Kwiatkowski-Phillips-Schmidt-Shin)\n",
    "\n",
    "Ha = não é estacionário: estatística do teste > valor crítico\n",
    "\n",
    "Ho = é estacionário:  estatística do teste < valor crítico"
   ]
  },
  {
   "cell_type": "code",
   "execution_count": 38,
   "metadata": {
    "colab": {
     "base_uri": "https://localhost:8080/"
    },
    "id": "HsDs5EHAtkLl",
    "outputId": "a256bdf3-04a3-4ab4-bd55-ebd28ddf1498"
   },
   "source": [
    "kpss = statsmodels.tsa.stattools.kpss(serie3)\n",
    "print('Estatítica do teste: {:.4f}'.format(kpss[0]))\n",
    "print('p_valor: {:.4f}'.format(kpss[1]))\n",
    "print('Valores Críticos:')\n",
    "for chave, valor in kpss[3].items():\n",
    "   print('{}: {:.4f}'.format(chave, valor))"
   ],
   "outputs": []
  },
  {
   "cell_type": "markdown",
   "metadata": {
    "id": "2FFrxRK9t3VD"
   },
   "source": [
    "Caso não fosse estacionária poderia tentar fazer a diferenciação:\n",
    "\n",
    "serie5 = np.diff(serie3)"
   ]
  },
  {
   "cell_type": "markdown",
   "metadata": {
    "id": "lasUkkECuA1T"
   },
   "source": [
    "### **Autocorrelação**"
   ]
  },
  {
   "cell_type": "code",
   "execution_count": 39,
   "metadata": {
    "id": "yEy5YiQFtkJI"
   },
   "source": [
    "from statsmodels.graphics.tsaplots import plot_acf, plot_pacf"
   ],
   "outputs": []
  },
  {
   "cell_type": "code",
   "execution_count": 40,
   "metadata": {
    "colab": {
     "base_uri": "https://localhost:8080/",
     "height": 383
    },
    "id": "lPDLhWeDtkGz",
    "outputId": "a722f84c-5de6-4573-a989-6a6c5c575c82"
   },
   "source": [
    "plot_acf(serie3, lags=20)\n",
    "plt.show()"
   ],
   "outputs": []
  },
  {
   "cell_type": "markdown",
   "metadata": {
    "id": "JaKTkxT2Gx1v"
   },
   "source": [
    "ACF - Autocorrelação de valores vizinhos\n",
    "\n",
    "O gráfico indica que temos autocorrelação, entre os valores da própria série, e ainda mostra uma forte sazonalidade."
   ]
  },
  {
   "cell_type": "code",
   "execution_count": 41,
   "metadata": {
    "colab": {
     "base_uri": "https://localhost:8080/",
     "height": 383
    },
    "id": "xg7DO8txtkER",
    "outputId": "ad9f0f1a-d70e-426d-a956-0b983301fdf9"
   },
   "source": [
    "plot_pacf(serie, lags=20)\n",
    "plt.show()"
   ],
   "outputs": []
  },
  {
   "cell_type": "markdown",
   "metadata": {
    "id": "QETEd0xYG2j8"
   },
   "source": [
    "PACF - correlação entre valores intercalados - autocorrelação Parcial\n",
    "\n",
    "Temos muitos valores que ultrapassam o intvalo, logo os dados são autocorrelacionados quando analisamos os valores intercalados.\n"
   ]
  },
  {
   "cell_type": "markdown",
   "metadata": {
    "id": "oi7IpWx2ubLp"
   },
   "source": [
    "A série é autocorrelacionada, mas não tem problema, pois esse é um pressuposto da análise de modelos de séries temporais."
   ]
  },
  {
   "cell_type": "markdown",
   "metadata": {
    "id": "6uzRJ3nVHzZi"
   },
   "source": [
    "Logo temos uma série autocorrelacionada, e estacionária, porem seus dados não são normais"
   ]
  },
  {
   "cell_type": "markdown",
   "metadata": {
    "id": "IsWe26u2udwg"
   },
   "source": [
    "## **Modelo AR**"
   ]
  },
  {
   "cell_type": "markdown",
   "metadata": {
    "id": "xcQFm2hV-UHe"
   },
   "source": [
    "Modelo AR - Modelo Autoregressivo"
   ]
  },
  {
   "cell_type": "markdown",
   "metadata": {
    "id": "RA4I6qBbuf8s"
   },
   "source": [
    "Modelo ARIMA:(p,d,q)\n",
    "\n",
    "*   p: ordem da autoregressão\n",
    "*   d: grau de diferenciação (para transformar em estacionario)\n",
    "*   q: Ordem de média móvel dos reísduos\n",
    "\n",
    "Obs: cuidado para nao confundir a Média móvel que iremos analisar não é a média móvel que construímos para suavizar a tendência.\n",
    "Essa média móvel está relacionada a combinação linear dos erros de valores passados\n",
    "\n",
    "Modelo ar: (p,0,0)\n",
    "\n",
    "Só colocamos valores numéricos para a ordem de autoregressão"
   ]
  },
  {
   "cell_type": "code",
   "execution_count": 42,
   "metadata": {
    "id": "jKmOThXEtkB5"
   },
   "source": [
    "from statsmodels.tsa.arima.model import ARIMA"
   ],
   "outputs": []
  },
  {
   "cell_type": "markdown",
   "metadata": {
    "id": "rm4S596vIuJE"
   },
   "source": [
    "Criando o Modelo AR"
   ]
  },
  {
   "cell_type": "code",
   "execution_count": 43,
   "metadata": {
    "id": "-2GgnAo-tj_V"
   },
   "source": [
    "modelo_ar = ARIMA(serie3, order = (1,0,0))"
   ],
   "outputs": []
  },
  {
   "cell_type": "markdown",
   "metadata": {
    "id": "dABVhsFHIwVD"
   },
   "source": [
    "Temos que analisar o modelo"
   ]
  },
  {
   "cell_type": "code",
   "execution_count": 44,
   "metadata": {
    "colab": {
     "base_uri": "https://localhost:8080/"
    },
    "id": "pncG8aG3tj8-",
    "outputId": "00260c69-716c-4a0e-e94f-f6f587aad966"
   },
   "source": [
    "resultado = modelo_ar.fit()\n",
    "print(resultado.summary())"
   ],
   "outputs": []
  },
  {
   "cell_type": "markdown",
   "metadata": {
    "id": "-kbd5gdcI3ES"
   },
   "source": [
    "O AIC é a métrica mais recomendada para avaliar o modelo uma vez que existem alguns modelos que não retornam o BIC."
   ]
  },
  {
   "cell_type": "markdown",
   "metadata": {
    "id": "8QYh12XZLUbM"
   },
   "source": [
    "Obs.: O recomendado é termos valores de AR até 10, pois depois que incluirmos a sazonalidade o processo pode ficar muito demorado, além do tempo computacional aumentar, o modelo geralmente não melhora significativamente após esse valor."
   ]
  },
  {
   "cell_type": "markdown",
   "metadata": {
    "id": "Mbv8pG2gJ8q_"
   },
   "source": [
    "Para identificar o valor que devemos incluir na métrica AR, devemos analisar o gráfico de acf"
   ]
  },
  {
   "cell_type": "code",
   "execution_count": 45,
   "metadata": {
    "colab": {
     "base_uri": "https://localhost:8080/",
     "height": 383
    },
    "id": "v45ze1Sdtj6U",
    "outputId": "d4013a78-1df3-4dd0-d6ff-e8a2a0d318c4"
   },
   "source": [
    "plot_acf(serie3, lags=20)\n",
    "plt.show()"
   ],
   "outputs": []
  },
  {
   "cell_type": "markdown",
   "metadata": {
    "id": "ksOJeAHQKV_0"
   },
   "source": [
    "É interessante analisar os lags que tiveram mudanças bruscas, neste caso o 3 , pois não é correlacionado com o lag 2, o 4 pois \"virou\" autocorrelacionado, o 9 e 10 pelos mesmo motivos."
   ]
  },
  {
   "cell_type": "code",
   "execution_count": 46,
   "metadata": {
    "colab": {
     "base_uri": "https://localhost:8080/"
    },
    "id": "0sT5kbKVL6ut",
    "outputId": "86e95c9f-6663-4528-9f2f-7582c33b7bb2"
   },
   "source": [
    "modelo_ar3 = ARIMA(serie3, order = (3,0,0))\n",
    "resultado3 = modelo_ar3.fit()\n",
    "modelo_ar4 = ARIMA(serie3, order = (4,0,0))\n",
    "resultado4 = modelo_ar4.fit()\n",
    "modelo_ar9 = ARIMA(serie3, order = (9,0,0))\n",
    "resultado9 = modelo_ar9.fit()\n",
    "modelo_ar10 = ARIMA(serie3, order = (10,0,0))\n",
    "resultado10 = modelo_ar10.fit()\n",
    "\n",
    "resultado3.aic"
   ],
   "outputs": []
  },
  {
   "cell_type": "code",
   "execution_count": 47,
   "metadata": {
    "colab": {
     "base_uri": "https://localhost:8080/"
    },
    "id": "HsBgowdhMAUn",
    "outputId": "5e77ebbc-1898-43d2-8717-88f179a8d8a6"
   },
   "source": [
    "resultado4.aic"
   ],
   "outputs": []
  },
  {
   "cell_type": "code",
   "execution_count": 48,
   "metadata": {
    "colab": {
     "base_uri": "https://localhost:8080/"
    },
    "id": "aOIxTz8MM2eQ",
    "outputId": "083a6ed3-e2d5-4a79-fadf-26b186f80b33"
   },
   "source": [
    "resultado9.aic"
   ],
   "outputs": []
  },
  {
   "cell_type": "code",
   "execution_count": 49,
   "metadata": {
    "colab": {
     "base_uri": "https://localhost:8080/"
    },
    "id": "odPWJvtaM4O8",
    "outputId": "f07a9b74-5ff4-46c3-cb14-6433beb18bfd"
   },
   "source": [
    "resultado10.aic"
   ],
   "outputs": []
  },
  {
   "cell_type": "markdown",
   "metadata": {
    "id": "K3xI3X-yNToQ"
   },
   "source": [
    "Modelo Final"
   ]
  },
  {
   "cell_type": "code",
   "execution_count": 50,
   "metadata": {
    "id": "eOZwP6SUNVaM"
   },
   "source": [
    "modelo_ar = ARIMA(serie3, order = (9,0,0))\n",
    "resultado = modelo_ar.fit()"
   ],
   "outputs": []
  },
  {
   "cell_type": "markdown",
   "metadata": {
    "id": "thys9ukJupn_"
   },
   "source": [
    "Melhor AIC: 1337.922 = (9,0,0)"
   ]
  },
  {
   "cell_type": "markdown",
   "metadata": {
    "id": "TY01t2t0uzAU"
   },
   "source": [
    "### **Análise dos Resíduos**"
   ]
  },
  {
   "cell_type": "code",
   "execution_count": 51,
   "metadata": {
    "colab": {
     "base_uri": "https://localhost:8080/"
    },
    "id": "D5G9hWCMtj1S",
    "outputId": "6724276f-58bf-40e4-975e-f27151a1c62d"
   },
   "source": [
    "residuos = resultado.resid\n",
    "residuos"
   ],
   "outputs": []
  },
  {
   "cell_type": "code",
   "execution_count": 52,
   "metadata": {
    "colab": {
     "base_uri": "https://localhost:8080/",
     "height": 368
    },
    "id": "CzozYxxTtjy6",
    "outputId": "cee5cd96-0e94-4881-e54c-786a46ce2e10"
   },
   "source": [
    "residuos.plot()\n",
    "plt.show()"
   ],
   "outputs": []
  },
  {
   "cell_type": "markdown",
   "metadata": {
    "id": "wXtcxIcmNd-Y"
   },
   "source": [
    "Analise no gráfico de resíduos -> média e a variância.\n",
    "\n",
    "O ideal é que a média seja aproximadamente zero e a variância constante. (ruído branco)\n",
    "\n",
    "Observa-se que os resíduos tem média zero ao longo da serie.\n",
    "\n",
    "Já a variância não aparenta ser constante, pois sua amplitude varia."
   ]
  },
  {
   "cell_type": "markdown",
   "metadata": {
    "id": "-UCLPIuxu5KO"
   },
   "source": [
    "**Normalidade**"
   ]
  },
  {
   "cell_type": "markdown",
   "metadata": {
    "id": "4kMicfBNOdqV"
   },
   "source": [
    "Testando a normalidade dos resíduos"
   ]
  },
  {
   "cell_type": "code",
   "execution_count": 53,
   "metadata": {
    "colab": {
     "base_uri": "https://localhost:8080/",
     "height": 403
    },
    "id": "Twtp5bFztjwd",
    "outputId": "e2cb02fd-0781-44c9-b4a3-fdc6cc1118dd"
   },
   "source": [
    "stats.probplot(residuos, dist=\"norm\", plot=plt)\n",
    "plt.title(\"Normal QQ plot\")\n",
    "plt.show()"
   ],
   "outputs": []
  },
  {
   "cell_type": "markdown",
   "metadata": {
    "id": "Q4rE7ztUOjsW"
   },
   "source": [
    "Aparentemente não teremos dados normais, observa-se um distanciamento dos pontos em relação a linha de referência no início e fim do grafico."
   ]
  },
  {
   "cell_type": "markdown",
   "metadata": {
    "id": "7D3r2PYDzr1a"
   },
   "source": [
    "**Teste Shapiro-Wilk**\n",
    "\n",
    "CRITÉRIOS:\n",
    "\n",
    "NÍVEL DE SIGNIFICÂNCIA DE 0,05 ou 5% (MAIS UTILIZADO)\n",
    "\n",
    "Ho = distribuição normal p > 0,05\n",
    "\n",
    "Ha = distribuição não normal p <= 0,05"
   ]
  },
  {
   "cell_type": "code",
   "execution_count": 54,
   "metadata": {
    "colab": {
     "base_uri": "https://localhost:8080/"
    },
    "id": "ZMKv1R-itjty",
    "outputId": "b5f3d7dd-486e-4169-a44c-0bee6891b1c5"
   },
   "source": [
    "e, p = stats.shapiro(residuos)\n",
    "print('Estatística de teste: {}'.format(e))\n",
    "print('p-valor: {}'.format(p))"
   ],
   "outputs": []
  },
  {
   "cell_type": "markdown",
   "metadata": {
    "id": "KV78WgGIJPbb"
   },
   "source": [
    "Pelo teste de hipótese os dados não são normais"
   ]
  },
  {
   "cell_type": "code",
   "execution_count": 55,
   "metadata": {
    "colab": {
     "base_uri": "https://localhost:8080/",
     "height": 549
    },
    "id": "CoF500rxtjh0",
    "outputId": "689fb6b6-9247-4555-d38e-985a012f56f7"
   },
   "source": [
    "import seaborn as sns\n",
    "sns.distplot(residuos);"
   ],
   "outputs": []
  },
  {
   "cell_type": "markdown",
   "metadata": {
    "id": "ylNTI0sIJJrZ"
   },
   "source": [
    "A distribuição se aproxima de uma distribuição normal."
   ]
  },
  {
   "cell_type": "markdown",
   "metadata": {
    "id": "hsSE7GOfO3qe"
   },
   "source": [
    "Pela analise de resíduos nosso modelo não ficou \"perfeito\" e pode apresentar falhas na previsão."
   ]
  },
  {
   "cell_type": "markdown",
   "metadata": {
    "id": "y7Iksw_GPL_F"
   },
   "source": [
    "Resultados obtidos até agora em nosso modelo:\n",
    "\n",
    "\n",
    "*   Distribuição dos resíduos apresenta uma média constante, sem presença de tendencia\n",
    "*   Dados não normais\n",
    "\n",
    "Agora vamos analisar a autocorrelação. Neste caso o ideal é que o resíduos NÃO SEJAM autocorrelacionados.\n",
    "\n"
   ]
  },
  {
   "cell_type": "markdown",
   "metadata": {
    "id": "OI0kbnJrvEMV"
   },
   "source": [
    "**Autocorrelação**"
   ]
  },
  {
   "cell_type": "code",
   "execution_count": 56,
   "metadata": {
    "id": "FzgrPs5RvBEq"
   },
   "source": [
    "from statsmodels.graphics.tsaplots import plot_acf, plot_pacf"
   ],
   "outputs": []
  },
  {
   "cell_type": "code",
   "execution_count": 57,
   "metadata": {
    "colab": {
     "base_uri": "https://localhost:8080/",
     "height": 383
    },
    "id": "eozfipSqvBBR",
    "outputId": "bd9fc9ec-b7a7-4d09-da65-f5777434bc05"
   },
   "source": [
    "plot_acf(residuos, lags=20)\n",
    "plt.show()"
   ],
   "outputs": []
  },
  {
   "cell_type": "markdown",
   "metadata": {
    "id": "4l1zHTNZPsGr"
   },
   "source": [
    "A grande maioria dos pontos esta dentro do intervalo de confiança, logo os residuos não são autocorrelacionados.\n",
    "\n",
    "Validando a ausencia da autocorrelação com o pacf"
   ]
  },
  {
   "cell_type": "code",
   "execution_count": 58,
   "metadata": {
    "colab": {
     "base_uri": "https://localhost:8080/",
     "height": 383
    },
    "id": "k0z6Cr0ivA9b",
    "outputId": "7f04028a-4098-42d4-ad61-d160af20d1c9"
   },
   "source": [
    "plot_pacf(residuos, lags=20)\n",
    "plt.show()"
   ],
   "outputs": []
  },
  {
   "cell_type": "markdown",
   "metadata": {
    "id": "tvTB5m80P6L3"
   },
   "source": [
    "A grande maioria dos pontos esta dentro do intervalo de confiança, logo os residuos não são autocorrelacionadas"
   ]
  },
  {
   "cell_type": "code",
   "execution_count": 59,
   "metadata": {
    "colab": {
     "base_uri": "https://localhost:8080/",
     "height": 368
    },
    "id": "sKPqvoaESHtz",
    "outputId": "b51a3989-ca6d-4f9b-a22e-257e7c696e7b"
   },
   "source": [
    "plt.plot(serie3,color='blue', label='Série Real')\n",
    "plt.plot(serie3-residuos,color='red', label='Resíduos')\n",
    "plt.legend(loc='best')\n",
    "plt.show()"
   ],
   "outputs": []
  },
  {
   "cell_type": "markdown",
   "metadata": {
    "id": "MhMFjFdjLYho"
   },
   "source": [
    "Os residuos conseguem seguir bem o padrão de oscilação da serie real"
   ]
  },
  {
   "cell_type": "markdown",
   "metadata": {
    "id": "FbT5cWHevM4O"
   },
   "source": [
    "**Previsão**"
   ]
  },
  {
   "cell_type": "code",
   "execution_count": 60,
   "metadata": {
    "colab": {
     "base_uri": "https://localhost:8080/"
    },
    "id": "r5ARkC6wvA3O",
    "outputId": "029ac926-9e22-473b-93bc-acc4c4607cc4"
   },
   "source": [
    "resultado.fittedvalues"
   ],
   "outputs": []
  },
  {
   "cell_type": "markdown",
   "metadata": {
    "id": "50u-4VQAQcp3"
   },
   "source": [
    "fittedvalues -> mostra os valores que foram ajustados com o modelo"
   ]
  },
  {
   "cell_type": "markdown",
   "metadata": {
    "id": "Ptd0lHz_QmiH"
   },
   "source": [
    "Temos duas formas de fazer previsão: Predict e forecast\n",
    "\n",
    "O tamanho da nossa série (Length) é 432 , porem o python começa a contabilizar no 0."
   ]
  },
  {
   "cell_type": "code",
   "execution_count": 61,
   "metadata": {
    "colab": {
     "base_uri": "https://localhost:8080/"
    },
    "id": "aT2c2DvfvA0m",
    "outputId": "bc82b535-192d-40df-daaf-8fd0936a6721"
   },
   "source": [
    "previsao = resultado.predict(431, end=443)\n",
    "previsao"
   ],
   "outputs": []
  },
  {
   "cell_type": "code",
   "execution_count": 62,
   "metadata": {
    "colab": {
     "base_uri": "https://localhost:8080/"
    },
    "id": "EjJbO7j7vAx7",
    "outputId": "93a63422-c5f4-4e4c-d926-d3aa73858413"
   },
   "source": [
    "previsao2 = resultado.forecast(12)\n",
    "previsao2"
   ],
   "outputs": []
  },
  {
   "cell_type": "code",
   "execution_count": 67,
   "metadata": {
    "colab": {
     "base_uri": "https://localhost:8080/",
     "height": 368
    },
    "id": "U_PSDKv9vAr7",
    "outputId": "e3d48990-37ca-49d8-e82e-99a097f1369b"
   },
   "source": [
    "plt.plot(serie3,color='yellow', label='Série Real')\n",
    "plt.plot(previsao,color='blue', label='Previsão')\n",
    "plt.plot(serie3-residuos,color='red', label='Resíduos')\n",
    "plt.legend(loc='best')\n",
    "plt.show()"
   ],
   "outputs": []
  },
  {
   "cell_type": "markdown",
   "metadata": {
    "id": "vWNBxwuDSitY"
   },
   "source": [
    "Como os dados foram transformados, a escala apresenta no grafico nao é a escala real da série.\n",
    "\n",
    "Como tinhamos retirado a raiz cúbica, iremos elevar a 3 agora."
   ]
  },
  {
   "cell_type": "code",
   "execution_count": 64,
   "metadata": {
    "colab": {
     "base_uri": "https://localhost:8080/",
     "height": 457
    },
    "id": "bWmqX7NmvApG",
    "outputId": "a409c6a2-6874-49aa-f839-6de58bbd31d1"
   },
   "source": [
    "prev_escala = pd.DataFrame(previsao ** 3)\n",
    "prev_escala"
   ],
   "outputs": []
  },
  {
   "cell_type": "markdown",
   "metadata": {
    "id": "xfzdDZuvS8rO"
   },
   "source": [
    "Plotando os valores reais"
   ]
  },
  {
   "cell_type": "code",
   "execution_count": 65,
   "metadata": {
    "colab": {
     "base_uri": "https://localhost:8080/",
     "height": 348
    },
    "id": "dnZf-7MyvAmO",
    "outputId": "bddb483e-41c3-4769-f86e-7e6d8199be7a"
   },
   "source": [
    "pd.concat([serie,prev_escala]).plot();"
   ],
   "outputs": []
  },
  {
   "cell_type": "markdown",
   "metadata": {
    "id": "E_0DrRhsvdCS"
   },
   "source": [
    "## **Modelo MA**"
   ]
  },
  {
   "cell_type": "markdown",
   "metadata": {
    "id": "i8Cdzzkpv8ov"
   },
   "source": [
    "Modelo de Média Móvel - Está relacionado ao erro de regressão. Ele faz uma relação linear dos erros anteriores, erros passados.\n",
    "\n",
    "Esta média móvel é diferente da realizada anteriormente para analisar as tendencias."
   ]
  },
  {
   "cell_type": "markdown",
   "metadata": {
    "id": "TnpuH_MCvt7K"
   },
   "source": [
    "Modelo arima:(p,d,q)\n",
    "\n",
    "\n",
    "\n",
    "*   p: ordem da autoregressão\n",
    "*   d: grau de diferenciação (para transformar em estacionario)\n",
    "*   q: Ordem de média móvel dos resíduos\n",
    "\n",
    "\n",
    "Modelo MA: (0,0,q)\n",
    "\n",
    "Existe uma limitação sugerida de chegarmos até aproximadamente 10 na escolha da ordem da média movel"
   ]
  },
  {
   "cell_type": "code",
   "execution_count": 68,
   "metadata": {
    "id": "xhc2AsqsvAjq"
   },
   "source": [
    "from statsmodels.tsa.arima.model import ARIMA"
   ],
   "outputs": []
  },
  {
   "cell_type": "markdown",
   "metadata": {
    "id": "vTzTUJZZxFBl"
   },
   "source": [
    "Criando o modelo MA"
   ]
  },
  {
   "cell_type": "code",
   "execution_count": 69,
   "metadata": {
    "colab": {
     "base_uri": "https://localhost:8080/"
    },
    "id": "EDKP03InvAhC",
    "outputId": "ca6f6b03-4914-4abf-ee97-5fd79766a348"
   },
   "source": [
    "modelo_ma1 = ARIMA(serie3, order = (0,0,1))\n",
    "resultado1 = modelo_ma1.fit()\n",
    "modelo_ma2 = ARIMA(serie3, order = (0,0,2))\n",
    "resultado2 = modelo_ma2.fit()\n",
    "modelo_ma3 = ARIMA(serie3, order = (0,0,3))\n",
    "resultado3 = modelo_ma3.fit()\n",
    "modelo_ma4 = ARIMA(serie3, order = (0,0,4))\n",
    "resultado5 = modelo_ma4.fit()\n",
    "modelo_ma5 = ARIMA(serie3, order = (0,0,5))\n",
    "resultado5 = modelo_ma5.fit()\n",
    "modelo_ma6 = ARIMA(serie3, order = (0,0,6))\n",
    "resultado6 = modelo_ma6.fit()\n",
    "modelo_ma7 = ARIMA(serie3, order = (0,0,7))\n",
    "resultado7 = modelo_ma7.fit()\n",
    "modelo_ma8 = ARIMA(serie3, order = (0,0,8))\n",
    "resultado8 = modelo_ma8.fit()\n",
    "modelo_ma9 = ARIMA(serie3, order = (0,0,9))\n",
    "resultado9 = modelo_ma9.fit()\n",
    "modelo_ma10 = ARIMA(serie3, order = (0,0,10))\n",
    "resultado10 = modelo_ma10.fit()\n",
    "resultado1.aic"
   ],
   "outputs": []
  },
  {
   "cell_type": "code",
   "execution_count": 70,
   "metadata": {
    "colab": {
     "base_uri": "https://localhost:8080/"
    },
    "id": "XdqtCEl_kUsA",
    "outputId": "b5568c7b-6c3e-4710-a03e-7b36eed8f087"
   },
   "source": [
    "resultado2.aic"
   ],
   "outputs": []
  },
  {
   "cell_type": "code",
   "execution_count": 71,
   "metadata": {
    "colab": {
     "base_uri": "https://localhost:8080/"
    },
    "id": "N3rPJT8AkUsA",
    "outputId": "525cfda2-b327-43ad-e953-aca165fb14e3"
   },
   "source": [
    "resultado3.aic"
   ],
   "outputs": []
  },
  {
   "cell_type": "code",
   "execution_count": 72,
   "metadata": {
    "colab": {
     "base_uri": "https://localhost:8080/"
    },
    "id": "dNuo0PtIkUsA",
    "outputId": "7f4fc332-e2e7-4eda-d655-64d41bb66345"
   },
   "source": [
    "resultado4.aic"
   ],
   "outputs": []
  },
  {
   "cell_type": "code",
   "execution_count": 73,
   "metadata": {
    "colab": {
     "base_uri": "https://localhost:8080/"
    },
    "id": "_pcUR-UXkUsB",
    "outputId": "91adbb06-4d0f-41ae-ab09-856a59bdb7bd"
   },
   "source": [
    "resultado5.aic"
   ],
   "outputs": []
  },
  {
   "cell_type": "code",
   "execution_count": 74,
   "metadata": {
    "colab": {
     "base_uri": "https://localhost:8080/"
    },
    "id": "69p28r1rkUsB",
    "outputId": "9b57a59a-cd0c-4c16-9da7-ccd200a8dcdd"
   },
   "source": [
    "resultado6.aic"
   ],
   "outputs": []
  },
  {
   "cell_type": "code",
   "execution_count": 75,
   "metadata": {
    "colab": {
     "base_uri": "https://localhost:8080/"
    },
    "id": "iqo-9uOVkUsB",
    "outputId": "91331fbf-742e-4910-b86b-f6e588bc819f"
   },
   "source": [
    "resultado7.aic"
   ],
   "outputs": []
  },
  {
   "cell_type": "code",
   "execution_count": 76,
   "metadata": {
    "colab": {
     "base_uri": "https://localhost:8080/"
    },
    "id": "2FXhKNAvkUsB",
    "outputId": "33965a1e-6244-4bda-cc6c-017bbec7d12c"
   },
   "source": [
    "resultado8.aic"
   ],
   "outputs": []
  },
  {
   "cell_type": "code",
   "execution_count": 77,
   "metadata": {
    "colab": {
     "base_uri": "https://localhost:8080/"
    },
    "id": "XDGSRN4EkUsC",
    "outputId": "0f255836-326d-46b8-a479-704ea9e48372"
   },
   "source": [
    "resultado9.aic"
   ],
   "outputs": []
  },
  {
   "cell_type": "code",
   "execution_count": 78,
   "metadata": {
    "colab": {
     "base_uri": "https://localhost:8080/"
    },
    "id": "dJ6lRcuckUsC",
    "outputId": "0019a898-33d1-4bcd-e281-6d275e99717d"
   },
   "source": [
    "resultado10.aic"
   ],
   "outputs": []
  },
  {
   "cell_type": "markdown",
   "metadata": {
    "id": "MeBmhDwcxhjF"
   },
   "source": [
    "Para o modelo de MA, podemos testar os 10 valores para selecionar o modelo que tem o menor AIC."
   ]
  },
  {
   "cell_type": "code",
   "execution_count": 79,
   "metadata": {
    "colab": {
     "base_uri": "https://localhost:8080/"
    },
    "id": "xQDrpVxevAd8",
    "outputId": "16c1d7d4-a805-40be-a6c6-2adf5bab4e9b"
   },
   "source": [
    "resultado_ma = modelo_ma8.fit()\n",
    "print(resultado_ma.summary())"
   ],
   "outputs": []
  },
  {
   "cell_type": "markdown",
   "metadata": {
    "id": "V1POuJTCv1J2"
   },
   "source": [
    "Modelo AR: AIC = 1337.922 (9,0,0)\n",
    "\n",
    "Modelo MA: AIC = 1411.696 (0,0,8)"
   ]
  },
  {
   "cell_type": "markdown",
   "metadata": {
    "id": "D_3pmp9Uv6IX"
   },
   "source": [
    "### **Análise dos Resíduos**"
   ]
  },
  {
   "cell_type": "markdown",
   "metadata": {
    "id": "wOFtc71VyyOY"
   },
   "source": [
    "Fazendo a analise de resíduos para o modelo que tem o melhor AIC.\n",
    "\n",
    "Lembrando que o ideal é que os resíduos tenha media zero e variancia contante ao longo da série. (Ruído Branco)"
   ]
  },
  {
   "cell_type": "code",
   "execution_count": 80,
   "metadata": {
    "id": "-fWrC0MhvAbl"
   },
   "source": [
    "residuos_ma = resultado_ma.resid"
   ],
   "outputs": []
  },
  {
   "cell_type": "code",
   "execution_count": 81,
   "metadata": {
    "id": "klAWZM0XvAY9"
   },
   "source": [
    "residuos_ma.plot()\n",
    "plt.show()"
   ],
   "outputs": []
  },
  {
   "cell_type": "markdown",
   "metadata": {
    "id": "_jqFLyXPy5Jr"
   },
   "source": [
    "Existem muitos picos, principalmente na parte inferiror, mas no geral temos uma média aparentemente constate em torno de zero."
   ]
  },
  {
   "cell_type": "markdown",
   "metadata": {
    "id": "tkFzPHTRwDre"
   },
   "source": [
    "**Normalidade**"
   ]
  },
  {
   "cell_type": "markdown",
   "metadata": {
    "id": "PT4VdLoMy8nf"
   },
   "source": [
    "Analisando a Normalidade dos resíduos"
   ]
  },
  {
   "cell_type": "code",
   "execution_count": 82,
   "metadata": {
    "id": "_k55wn0FvAWV"
   },
   "source": [
    "stats.probplot(residuos_ma, dist=\"norm\", plot=plt)\n",
    "plt.title(\"Normal QQ plot\")\n",
    "plt.show()"
   ],
   "outputs": []
  },
  {
   "cell_type": "markdown",
   "metadata": {
    "id": "23kh_tNPzJkq"
   },
   "source": [
    "Observamos que os pontos iniciais se distanciam da reta de referencia. Aparentemente não teremos uma distribuição normal."
   ]
  },
  {
   "cell_type": "markdown",
   "metadata": {
    "id": "1SNIPK5SzXDX"
   },
   "source": [
    "Realizando o teste de hipótese de Shapiro Wilk\n",
    "\n",
    "**Teste Shapiro-Wilk**\n",
    "\n",
    "CRITÉRIOS:\n",
    "\n",
    "NÍVEL DE SIGNIFICÂNCIA DE 0,05 ou 5% (MAIS UTILIZADO)\n",
    "\n",
    "Ho = distribuição normal p > 0,05\n",
    "\n",
    "Ha = distribuição não normal p <= 0,05"
   ]
  },
  {
   "cell_type": "code",
   "execution_count": 83,
   "metadata": {
    "colab": {
     "base_uri": "https://localhost:8080/"
    },
    "id": "CWu0ONQOvAUB",
    "outputId": "3332bd56-a5eb-4e7f-bb15-4f5f2b49f401"
   },
   "source": [
    "e, p = stats.shapiro(residuos_ma)\n",
    "print('Estatística de teste: {}'.format(e))\n",
    "print('p-valor: {}'.format(p))"
   ],
   "outputs": []
  },
  {
   "cell_type": "markdown",
   "metadata": {
    "id": "OnzFjWpH069n"
   },
   "source": [
    "Temos que p-valor é < que 0,05 por tanto nossa distribuição não é normal"
   ]
  },
  {
   "cell_type": "code",
   "execution_count": 84,
   "metadata": {
    "id": "yiNZVFq-vARc"
   },
   "source": [
    "import seaborn as sns\n",
    "sns.distplot(residuos_ma);"
   ],
   "outputs": []
  },
  {
   "cell_type": "markdown",
   "metadata": {
    "id": "7t193ZAW1Dqe"
   },
   "source": [
    "No histograma observamos uma assimetria e alguns picos que podems estar atrapalhando a normalidade dos resíduos"
   ]
  },
  {
   "cell_type": "markdown",
   "metadata": {
    "id": "JLWNUwlUwNKf"
   },
   "source": [
    "**Autocorrelação**"
   ]
  },
  {
   "cell_type": "markdown",
   "metadata": {
    "id": "ioYx4Mn61bQL"
   },
   "source": [
    "Verificando a autocorrelação dos resíduos"
   ]
  },
  {
   "cell_type": "code",
   "execution_count": 85,
   "metadata": {
    "id": "kC5CWJ61vAOz"
   },
   "source": [
    "from statsmodels.graphics.tsaplots import plot_acf, plot_pacf"
   ],
   "outputs": []
  },
  {
   "cell_type": "code",
   "execution_count": 86,
   "metadata": {
    "id": "H3SZhs5wvAMC"
   },
   "source": [
    "plot_acf(residuos_ma, lags=30)\n",
    "plt.show()"
   ],
   "outputs": []
  },
  {
   "cell_type": "markdown",
   "metadata": {
    "id": "ixHiUQkb1gAJ"
   },
   "source": [
    "Podemos verificar que existem muitos pontos fora do intervalo de confiança, apontando que existe uma autocorrelação."
   ]
  },
  {
   "cell_type": "code",
   "execution_count": 87,
   "metadata": {
    "id": "sWae1aD7vAJm"
   },
   "source": [
    "plot_pacf(residuos_ma, lags=30)\n",
    "plt.show()"
   ],
   "outputs": []
  },
  {
   "cell_type": "markdown",
   "metadata": {
    "id": "simr_7vo121p"
   },
   "source": [
    "O mesmo observamos na autocorrelação parcial, onde temos muitos pontos fora do intervalo de confiança, apontando que axite uma autocorrelação."
   ]
  },
  {
   "cell_type": "markdown",
   "metadata": {
    "id": "8DQZY5Ii2J5y"
   },
   "source": [
    "Para o modelo MA temos que os resíduos:\n",
    "\n",
    "*   Variância não constante\n",
    "*   Não são normais\n",
    "*   Estão autocorrelacionados"
   ]
  },
  {
   "cell_type": "code",
   "execution_count": 88,
   "metadata": {
    "id": "CkFRsvVhvAG6"
   },
   "source": [
    "plt.plot(serie3, label='Série Real')\n",
    "plt.plot(serie3-residuos_ma,color='red', label='Resíduos')\n",
    "plt.legend(loc='best')\n",
    "plt.show()"
   ],
   "outputs": []
  },
  {
   "cell_type": "markdown",
   "metadata": {
    "id": "-wu_ReXh3Afy"
   },
   "source": [
    "Observa-se uma coincidencia da foram em que os resíduos está oscilando versus o real."
   ]
  },
  {
   "cell_type": "markdown",
   "metadata": {
    "id": "qjQ_tiRfwYbS"
   },
   "source": [
    "**Previsão**"
   ]
  },
  {
   "cell_type": "code",
   "execution_count": 89,
   "metadata": {
    "id": "DlKLx12XvAEr"
   },
   "source": [
    "resultado_ma.fittedvalues"
   ],
   "outputs": []
  },
  {
   "cell_type": "markdown",
   "metadata": {
    "id": "RdXKLr0G3btW"
   },
   "source": [
    "Mostra todos os valores ajustados pelo modelo"
   ]
  },
  {
   "cell_type": "markdown",
   "metadata": {
    "id": "iS4D98vD3mQX"
   },
   "source": [
    "Previsão para 12 meses,  lembrando que o python inicia em 0, por isso temos que diminuir 1 em relaçã ao tamanho da série."
   ]
  },
  {
   "cell_type": "code",
   "execution_count": 92,
   "metadata": {
    "id": "LOOwDbaRvACF"
   },
   "source": [
    "previsao_ma = resultado_ma.predict(start=431, end=443)\n",
    "previsao_ma"
   ],
   "outputs": []
  },
  {
   "cell_type": "code",
   "execution_count": 93,
   "metadata": {
    "id": "EiQD4hAuu__a"
   },
   "source": [
    "plt.plot(serie3,color='yellow', label='Série Real')\n",
    "plt.plot(previsao_ma,color='blue', label='Previsão')\n",
    "plt.plot(serie3-residuos_ma,color='red', label='Resíduos')\n",
    "plt.legend(loc='best')\n",
    "plt.show()"
   ],
   "outputs": []
  },
  {
   "cell_type": "markdown",
   "metadata": {
    "id": "8Pl7wTaP36JV"
   },
   "source": [
    "Aparentemente a predição não fica boa, pouca amplitude dos dados. E conforme analisado nos resíduos não temos um modelo adequado para predizer os dados utilizando o Modelo de média Móvel (MA)."
   ]
  },
  {
   "cell_type": "markdown",
   "metadata": {
    "id": "LB2jwQft4mpA"
   },
   "source": [
    "Retornando a Escala original da série.\n",
    "\n",
    "Neste caso como retiramos a raiz vubica devemos elevar ao cubo a nossa série."
   ]
  },
  {
   "cell_type": "code",
   "execution_count": 94,
   "metadata": {
    "id": "O2nDbubAu_9H"
   },
   "source": [
    "prev_escala_ma = pd.DataFrame(previsao_ma**3)\n",
    "prev_escala_ma"
   ],
   "outputs": []
  },
  {
   "cell_type": "markdown",
   "metadata": {
    "id": "I2Nh78515ImA"
   },
   "source": [
    "Concatenando a série original com a previsão encontrada."
   ]
  },
  {
   "cell_type": "code",
   "execution_count": 95,
   "metadata": {
    "id": "Av9ZViqju_6P"
   },
   "source": [
    "pd.concat([serie,prev_escala_ma]).plot();"
   ],
   "outputs": []
  },
  {
   "cell_type": "markdown",
   "metadata": {
    "id": "QVLUpCUWwkhV"
   },
   "source": [
    "## **Modelo ARMA**"
   ]
  },
  {
   "cell_type": "markdown",
   "metadata": {
    "id": "ea2hiHCt5XxJ"
   },
   "source": [
    "Modelo Autoregressivo + Média Móvel\n",
    "\n",
    "No modelo ARMA não incluímos nenhum parâmetro apenas para a diferenciação."
   ]
  },
  {
   "cell_type": "markdown",
   "metadata": {
    "id": "fH2fAsv3wpzS"
   },
   "source": [
    "Modelo arima:(p,d,q)\n",
    "\n",
    "*   p: ordem da autoregressão\n",
    "*   d: grau de diferenciação (para transformar em estacionario)\n",
    "*   q: Ordem de média móvel dos reísduos\n",
    "\n",
    "Modelo arma: (p,0,q)"
   ]
  },
  {
   "cell_type": "markdown",
   "metadata": {
    "id": "nor30vFrwkSQ"
   },
   "source": [
    "Modelo AR: AIC = 1337.922 (9,0,0)\n",
    "\n",
    "Modelo MA: AIC = 1411.696 (0,0,8)"
   ]
  },
  {
   "cell_type": "markdown",
   "metadata": {
    "id": "Z55fdwvS6D_2"
   },
   "source": [
    "Nem sempre a combinação dos resultados encontrados anterioemnte será linear apra acharmos o modelo que minimiza o AIC no ARMA. Temos que verificar tambem se  tempo computacional não ficará muito elevado."
   ]
  },
  {
   "cell_type": "code",
   "execution_count": 96,
   "metadata": {
    "id": "tg9E0ROgu_3r"
   },
   "source": [
    "from statsmodels.tsa.arima.model import ARIMA"
   ],
   "outputs": []
  },
  {
   "cell_type": "code",
   "execution_count": 111,
   "metadata": {
    "id": "zgpsIJg8wxIq"
   },
   "source": [
    "modelo_arma = ARIMA(serie3, order = (10,0,3))"
   ],
   "outputs": []
  },
  {
   "cell_type": "code",
   "execution_count": 112,
   "metadata": {
    "id": "r9zI7wNHwxFm"
   },
   "source": [
    "resultado_arma = modelo_arma.fit()\n",
    "print(resultado_arma.summary())"
   ],
   "outputs": []
  },
  {
   "cell_type": "markdown",
   "metadata": {
    "id": "sjhaD7r-HlWF"
   },
   "source": [
    "Observe que ele considerou o Modelo ARMA, ja desconsiderou o I de ARIMA. Uma vez que não incluimos e não se fez necessário valores para diferenciação."
   ]
  },
  {
   "cell_type": "markdown",
   "metadata": {
    "id": "mn03D4TH6wVb"
   },
   "source": [
    "Utilizando a combinação ARMA(9,0,8) teremos problemas de inversibilidade, problema da algébra linear onde os coeficiente MA não são invertíveis.\n",
    "\n",
    "PAra evistar esse problema ao combinar modelo AR e MA devemos utilizar valores mais baixos para a ordem da média movel.\n"
   ]
  },
  {
   "cell_type": "markdown",
   "metadata": {
    "id": "Xg2IA8YEw6QS"
   },
   "source": [
    "Modelo AR: AIC = 1337.922 (9,0,0)\n",
    "\n",
    "Modelo MA: AIC = 1411.696 (0,0,8)\n",
    "\n",
    "Modelo ARMA: Melhor AIC = 1273.766 (10,0,2)"
   ]
  },
  {
   "cell_type": "markdown",
   "metadata": {
    "id": "DO9kRaj2w_zl"
   },
   "source": [
    "### **Análise dos Resíduos**"
   ]
  },
  {
   "cell_type": "markdown",
   "metadata": {
    "id": "VyZ4v-GD8rTK"
   },
   "source": [
    "Analisando os resíduos do modelo criado"
   ]
  },
  {
   "cell_type": "code",
   "execution_count": 113,
   "metadata": {
    "id": "fjk2iOdtwxCr"
   },
   "source": [
    "residuos_arma = resultado_arma.resid"
   ],
   "outputs": []
  },
  {
   "cell_type": "code",
   "execution_count": 114,
   "metadata": {
    "id": "CACorSh_wxAF"
   },
   "source": [
    "residuos_arma.plot()\n",
    "plt.show()"
   ],
   "outputs": []
  },
  {
   "cell_type": "markdown",
   "metadata": {
    "id": "yZ634Nfm8yff"
   },
   "source": [
    "A aprentemente a média é constante em torno de zero, porem existe alguns picos."
   ]
  },
  {
   "cell_type": "markdown",
   "metadata": {
    "id": "SibphYaQxGRV"
   },
   "source": [
    "**Normalidade**"
   ]
  },
  {
   "cell_type": "code",
   "execution_count": 115,
   "metadata": {
    "id": "kvSgRD90ww9a"
   },
   "source": [
    "stats.probplot(residuos_arma, dist=\"norm\", plot=plt)\n",
    "plt.title(\"Normal QQ plot\")\n",
    "plt.show()"
   ],
   "outputs": []
  },
  {
   "cell_type": "markdown",
   "metadata": {
    "id": "GLIqdI9K9Dfi"
   },
   "source": [
    "A normalidade dos residuos comparada a graficos e modelos anteriores graficamete aprece mais proxim da linah de referência.\n",
    "\n",
    "Testando a normalidade pelo teste estatístico de Shapiro-Wilk"
   ]
  },
  {
   "cell_type": "markdown",
   "metadata": {
    "id": "yr2Jz5Sxz-SS"
   },
   "source": [
    "**Teste Shapiro-Wilk**\n",
    "\n",
    "CRITÉRIOS:\n",
    "\n",
    "NÍVEL DE SIGNIFICÂNCIA DE 0,05 ou 5% (MAIS UTILIZADO)\n",
    "\n",
    "Ho = distribuição normal p > 0,05\n",
    "\n",
    "Ha = distribuição não normal p <= 0,05"
   ]
  },
  {
   "cell_type": "code",
   "execution_count": 116,
   "metadata": {
    "id": "ZR9YYLPBwwu3"
   },
   "source": [
    "e, p = stats.shapiro(residuos_arma)\n",
    "print('Estatística de teste: {}'.format(e))\n",
    "print('p-valor: {}'.format(p))"
   ],
   "outputs": []
  },
  {
   "cell_type": "markdown",
   "metadata": {
    "id": "Pw2k-qVo9bwr"
   },
   "source": [
    "Ainda não temos uma distribuição normal."
   ]
  },
  {
   "cell_type": "code",
   "execution_count": 117,
   "metadata": {
    "id": "wDmGMVjHwwsN"
   },
   "source": [
    "import seaborn as sns\n",
    "sns.distplot(residuos_arma);"
   ],
   "outputs": []
  },
  {
   "cell_type": "markdown",
   "metadata": {
    "id": "z4wj6-YL9tlw"
   },
   "source": [
    "O histograma mostra uma leve assimetria dos dados. Porem visualmente essa distribuição está muito proxima da normalidade. Não tendo modelos melhores, poderíamos aceitar o ARMA."
   ]
  },
  {
   "cell_type": "markdown",
   "metadata": {
    "id": "Ba6--1TpxO8y"
   },
   "source": [
    "**Autocorrelação**"
   ]
  },
  {
   "cell_type": "markdown",
   "metadata": {
    "id": "ad0Y_gQm-KhM"
   },
   "source": [
    "Verificando se existe autocorrelação entre os resíduos."
   ]
  },
  {
   "cell_type": "code",
   "execution_count": 118,
   "metadata": {
    "id": "57gpMN5CwwpV"
   },
   "source": [
    "from statsmodels.graphics.tsaplots import plot_acf, plot_pacf"
   ],
   "outputs": []
  },
  {
   "cell_type": "code",
   "execution_count": 119,
   "metadata": {
    "id": "FX5SmyyIwwmp"
   },
   "source": [
    "plot_acf(residuos_arma, lags=30)\n",
    "plt.show()"
   ],
   "outputs": []
  },
  {
   "cell_type": "markdown",
   "metadata": {
    "id": "fVsLulTT-UTl"
   },
   "source": [
    "Os resíduos não são autocorrelacionados, por apresentarem a amioria dos lags dentro do intervalo de confiança"
   ]
  },
  {
   "cell_type": "code",
   "execution_count": 120,
   "metadata": {
    "id": "p2xTDrGwwwjp"
   },
   "source": [
    "plot_pacf(residuos_arma, lags=30)\n",
    "plt.show()"
   ],
   "outputs": []
  },
  {
   "cell_type": "markdown",
   "metadata": {
    "id": "knMCXGjK-jqi"
   },
   "source": [
    "Verificando pelo grafico de correlação aprcial temos que os resíduos não são autocorrelacionados, por apresentarem a amioria dos lags dentro do intervalo de confiança"
   ]
  },
  {
   "cell_type": "code",
   "execution_count": 121,
   "metadata": {
    "id": "ZQhrI7l7wwg7"
   },
   "source": [
    "plt.plot(serie3, label='Série Real')\n",
    "plt.plot(serie3-residuos_arma,color='red', label='Resíduos')\n",
    "plt.legend(loc='best')\n",
    "plt.show()"
   ],
   "outputs": []
  },
  {
   "cell_type": "markdown",
   "metadata": {
    "id": "frhXA_uA-tc4"
   },
   "source": [
    "Observe que nesse modelo a amplitude se ajustou melhor, e está bem proximo a série original.\n",
    "Bem uniforme e proxima a série original."
   ]
  },
  {
   "cell_type": "markdown",
   "metadata": {
    "id": "r-l6n8-_xbzZ"
   },
   "source": [
    "**Previsão**"
   ]
  },
  {
   "cell_type": "code",
   "execution_count": 122,
   "metadata": {
    "id": "vVHUZ-78wweA"
   },
   "source": [
    "resultado_arma.fittedvalues"
   ],
   "outputs": []
  },
  {
   "cell_type": "markdown",
   "metadata": {
    "id": "sAfVhL5B_Mzt"
   },
   "source": [
    "Valores ajustados encontrado pelo modelo.\n",
    "\n",
    "Realizando a previsão para 12 meses."
   ]
  },
  {
   "cell_type": "code",
   "execution_count": 123,
   "metadata": {
    "id": "LfeQWQcHwwbR"
   },
   "source": [
    "previsao_arma = resultado_arma.predict(start=431, end=455)\n",
    "previsao_arma"
   ],
   "outputs": []
  },
  {
   "cell_type": "markdown",
   "metadata": {
    "id": "vUY2MsS-_imc"
   },
   "source": [
    "Plotando o gráfico para previsão"
   ]
  },
  {
   "cell_type": "code",
   "execution_count": 124,
   "metadata": {
    "id": "EEGvQo8uwwYl"
   },
   "source": [
    "plt.plot(serie3,color='red', label='Série Real')\n",
    "plt.plot(previsao_arma,color='blue', label='Previsão')\n",
    "plt.plot(serie3-residuos_arma,color='yellow', label='Resíduos')\n",
    "plt.legend(loc='best')\n",
    "plt.show()"
   ],
   "outputs": []
  },
  {
   "cell_type": "markdown",
   "metadata": {
    "id": "VaRa6koF_1IV"
   },
   "source": [
    "Revertendo a escala para voltar a original"
   ]
  },
  {
   "cell_type": "code",
   "execution_count": 125,
   "metadata": {
    "id": "n3tLpUKtwwV_"
   },
   "source": [
    "prev_escala_arma = pd.DataFrame(previsao_arma ** 3)\n",
    "prev_escala_arma"
   ],
   "outputs": []
  },
  {
   "cell_type": "code",
   "execution_count": 126,
   "metadata": {
    "id": "c9JphnghwwTI"
   },
   "source": [
    "pd.concat([serie,prev_escala_arma]).plot();"
   ],
   "outputs": []
  },
  {
   "cell_type": "markdown",
   "metadata": {
    "id": "khPghWo0xojY"
   },
   "source": [
    "## **Modelo ARIMA**"
   ]
  },
  {
   "cell_type": "markdown",
   "metadata": {
    "id": "RlCY6h6RxrqF"
   },
   "source": [
    "Modelo ARIMA:(p,d,q)\n",
    "\n",
    "Neste modelo utilizamos os três parâmetros"
   ]
  },
  {
   "cell_type": "markdown",
   "metadata": {
    "id": "IRr_0zGOV1AG"
   },
   "source": [
    "*   p: ordem da autoregressão\n",
    "*   d: grau de diferenciação (para transformar em estacionario)\n",
    "*   q: Ordem de média móvel dos reísduos\n"
   ]
  },
  {
   "cell_type": "markdown",
   "metadata": {
    "id": "auYoI-zbxrcc"
   },
   "source": [
    "Modelo AR: AIC = 1337.922 (9,0,0)\n",
    "\n",
    "Modelo MA: Melhor AIC = 1411.696 (0,0,8)\n",
    "\n",
    "Modelo ARMA: Melhor AIC = 1273.766 (10,0,2)"
   ]
  },
  {
   "cell_type": "markdown",
   "metadata": {
    "id": "RWXXUVWkWxck"
   },
   "source": [
    "Para termos um modelo de ARIMA iremos colocar um valor para diferenciação mas na prática, não foi necessário realizar diferenciação, pois a serie ja era estacionária."
   ]
  },
  {
   "cell_type": "code",
   "execution_count": 127,
   "metadata": {
    "id": "oACGXz8_xqj_"
   },
   "source": [
    "from statsmodels.tsa.arima.model import ARIMA"
   ],
   "outputs": []
  },
  {
   "cell_type": "markdown",
   "metadata": {
    "id": "D_nm5Dj8XGSR"
   },
   "source": [
    "Vamos manter a configuração do ARMA e adicionar a diferenciação"
   ]
  },
  {
   "cell_type": "markdown",
   "metadata": {
    "id": "71C-1SjMYGek"
   },
   "source": [
    "Criando o modelo do ARIMA"
   ]
  },
  {
   "cell_type": "code",
   "execution_count": 128,
   "metadata": {
    "id": "xoFRO3rmxqup"
   },
   "source": [
    "modelo_arima = ARIMA(serie3, order = (10,1,2))"
   ],
   "outputs": []
  },
  {
   "cell_type": "markdown",
   "metadata": {
    "id": "jGP3rYg3YLN9"
   },
   "source": [
    "Verificando a saída do resumo do modelo"
   ]
  },
  {
   "cell_type": "code",
   "execution_count": 129,
   "metadata": {
    "id": "_hViTo6lwwQR"
   },
   "source": [
    "resultado_arima = modelo_arima.fit()\n",
    "print(resultado_arima.summary())"
   ],
   "outputs": []
  },
  {
   "cell_type": "markdown",
   "metadata": {
    "id": "fk1F9q_cx74j"
   },
   "source": [
    "Modelo AR: Melhor AIC = 1339.919 (10,0,0)\n",
    "\n",
    "Modelo MA: Melhor AIC = 1411.696 (0,0,8)\n",
    "\n",
    "Modelo ARMA: Melhor AIC = 1273.766 (10,0,2)\n",
    "\n",
    "Modelo ARIMA: Melhor AIC = 1319.230 (10,1,2)"
   ]
  },
  {
   "cell_type": "markdown",
   "metadata": {
    "id": "ih5oOPisx7lq"
   },
   "source": [
    "### **Análise dos Resíduos**"
   ]
  },
  {
   "cell_type": "markdown",
   "metadata": {
    "id": "AyMMSSPlYRnR"
   },
   "source": [
    "Validar o modelo ARIMA - a partir da análise de resíduos"
   ]
  },
  {
   "cell_type": "code",
   "execution_count": 130,
   "metadata": {
    "id": "M-hl9COAwwIT"
   },
   "source": [
    "residuos_arima = resultado_arima.resid"
   ],
   "outputs": []
  },
  {
   "cell_type": "code",
   "execution_count": 131,
   "metadata": {
    "id": "S7Tl-QGGwv6p"
   },
   "source": [
    "residuos_arima.plot()\n",
    "plt.show()"
   ],
   "outputs": []
  },
  {
   "cell_type": "markdown",
   "metadata": {
    "id": "o8zX9pZbYwWu"
   },
   "source": [
    "Verificar se os residuos apresentam tendencia , se tem média contante em torno de zero e se a amplitude não está discrepante.\n",
    "\n",
    "O ideal é que o resíduo seja um reído branco com media zero e variancia constante.\n",
    "\n"
   ]
  },
  {
   "cell_type": "markdown",
   "metadata": {
    "id": "XkiKiwiIyH78"
   },
   "source": [
    "**Normalidade**"
   ]
  },
  {
   "cell_type": "markdown",
   "metadata": {
    "id": "jN8K0-qRZkzN"
   },
   "source": [
    "Analisando a normalidade dos resíduos"
   ]
  },
  {
   "cell_type": "code",
   "execution_count": 132,
   "metadata": {
    "id": "f8kAmFlhwvzZ"
   },
   "source": [
    "stats.probplot(residuos_arima, dist=\"norm\", plot=plt)\n",
    "plt.title(\"Normal QQ plot\")\n",
    "plt.show()"
   ],
   "outputs": []
  },
  {
   "cell_type": "markdown",
   "metadata": {
    "id": "tYXqllb2ZntW"
   },
   "source": [
    "O Qq-plot, aparentemente não está ruim. no começo e no final da série apresentam dados um pouco dispersos."
   ]
  },
  {
   "cell_type": "markdown",
   "metadata": {
    "id": "qyCYClJK0Arl"
   },
   "source": [
    "**Teste Shapiro-Wilk**\n",
    "\n",
    "CRITÉRIOS:\n",
    "\n",
    "NÍVEL DE SIGNIFICÂNCIA DE 0,05 ou 5% (MAIS UTILIZADO)\n",
    "\n",
    "Ho = distribuição normal p > 0,05\n",
    "\n",
    "Ha = distribuição não normal p <= 0,05"
   ]
  },
  {
   "cell_type": "markdown",
   "metadata": {
    "id": "nJYsfWC2avek"
   },
   "source": [
    "A partir do teste numérico não temos normalidade nos resíduos."
   ]
  },
  {
   "cell_type": "code",
   "execution_count": 133,
   "metadata": {
    "id": "o4uT05Znwvus"
   },
   "source": [
    "e, p = stats.shapiro(residuos_arima)\n",
    "print('Estatística de teste: {}'.format(e))\n",
    "print('p-valor: {}'.format(p))"
   ],
   "outputs": []
  },
  {
   "cell_type": "code",
   "execution_count": 134,
   "metadata": {
    "id": "gj4LO4oiwvrG",
    "scrolled": true
   },
   "source": [
    "import seaborn as sns\n",
    "sns.distplot(residuos_arima);"
   ],
   "outputs": []
  },
  {
   "cell_type": "markdown",
   "metadata": {
    "id": "1_TbS-tRa3pi"
   },
   "source": [
    "Na análise do histograma, para verificar a disposição da série observamos que sua distribuição aproxima de uma normal, visualmente"
   ]
  },
  {
   "cell_type": "markdown",
   "metadata": {
    "id": "-XKJrCX9yPNG"
   },
   "source": [
    "**Autocorrelação**"
   ]
  },
  {
   "cell_type": "markdown",
   "metadata": {
    "id": "qMkJ-Wk7blfC"
   },
   "source": [
    "Verificando a autocorrelação residual."
   ]
  },
  {
   "cell_type": "code",
   "execution_count": 135,
   "metadata": {
    "id": "f6fWQq5Twvnb"
   },
   "source": [
    "from statsmodels.graphics.tsaplots import plot_acf, plot_pacf"
   ],
   "outputs": []
  },
  {
   "cell_type": "code",
   "execution_count": 136,
   "metadata": {
    "id": "ntd3dlnswvj1"
   },
   "source": [
    "plot_acf(residuos_arima, lags=30)\n",
    "plt.show()"
   ],
   "outputs": []
  },
  {
   "cell_type": "markdown",
   "metadata": {
    "id": "nkVcJ5Jsbz0-"
   },
   "source": [
    "A maioria dos lags estão dentro do intervalo de confiança, logo podemos dizer que pelo gráfico de autocorrelação os resíduals não são autocorrelacionados."
   ]
  },
  {
   "cell_type": "code",
   "execution_count": 137,
   "metadata": {
    "id": "nT-6UvqEwvf1"
   },
   "source": [
    "plot_pacf(residuos_arima, lags=30)\n",
    "plt.show()"
   ],
   "outputs": []
  },
  {
   "cell_type": "markdown",
   "metadata": {
    "id": "Zbt2ryo-cAgu"
   },
   "source": [
    "A partir da analise da autocorrelação parcial temos que a maioria dos lags estão dentro do intervalo de confiança, logo podemos que os resíduals não são autocorrelacionados."
   ]
  },
  {
   "cell_type": "code",
   "execution_count": 138,
   "metadata": {
    "id": "IGVZeOwByWnr",
    "scrolled": true
   },
   "source": [
    "plt.plot(serie3, label='Série Real')\n",
    "plt.plot(serie3-residuos_arima,color='red', label='Resíduos')\n",
    "plt.legend(loc='best')\n",
    "plt.show()"
   ],
   "outputs": []
  },
  {
   "cell_type": "markdown",
   "metadata": {
    "id": "EO8-7Q8hcxUX"
   },
   "source": [
    "Plotando o grafico de resíduos e da série observamos que os resíduos estão adequados, dentro do que esperávamos. Ele consegue seguir as oscilações da série."
   ]
  },
  {
   "cell_type": "markdown",
   "metadata": {
    "id": "ZLgOwA9-dKMn"
   },
   "source": [
    "Observe que fazer a diferenciação ou não neste caso não irá alterar muito o modelo, pois ja temos uma série estacionária."
   ]
  },
  {
   "cell_type": "markdown",
   "metadata": {
    "id": "LKPJwASnydFh"
   },
   "source": [
    "**Previsão**"
   ]
  },
  {
   "cell_type": "markdown",
   "metadata": {
    "id": "hTm5t0WKdEOf"
   },
   "source": [
    "Verificando os valores ajustados.\n",
    "\n",
    "A série apresenta valores negativos pois realizamos a trasnformação e a diferenciação."
   ]
  },
  {
   "cell_type": "code",
   "execution_count": 139,
   "metadata": {
    "id": "pKHwGrfZyWkR"
   },
   "source": [
    "resultado_arima.fittedvalues"
   ],
   "outputs": []
  },
  {
   "cell_type": "code",
   "execution_count": 140,
   "metadata": {
    "id": "sC7SbCDwyWhq"
   },
   "source": [
    "previsao_arima = resultado_arima.predict(start=430, end=443)\n",
    "previsao_arima"
   ],
   "outputs": []
  },
  {
   "cell_type": "markdown",
   "metadata": {
    "id": "rBmc3xkjiNsB"
   },
   "source": [
    "Temos que fazer uma transformação de dados - utilizando o predict isso daria mais trabalho pois não realiza a inversão da diferenciação de maneira automática."
   ]
  },
  {
   "cell_type": "markdown",
   "metadata": {
    "id": "8zn9COYPhQlT"
   },
   "source": [
    "Fazendo a previsão utilizando o método forecast -> ja resolve o problema da diferenciação"
   ]
  },
  {
   "cell_type": "code",
   "execution_count": 141,
   "metadata": {
    "id": "dbvof1HayWKg"
   },
   "source": [
    "previsao_arima2 = resultado_arima.forecast(12)\n",
    "previsao_arima2"
   ],
   "outputs": []
  },
  {
   "cell_type": "markdown",
   "metadata": {
    "id": "byk_yhWLhZ21"
   },
   "source": [
    "Revertendo a raiz cúbica"
   ]
  },
  {
   "cell_type": "code",
   "execution_count": 142,
   "metadata": {
    "id": "byJYYH-HyWH6"
   },
   "source": [
    "prev_escala_arima = pd.DataFrame(previsao_arima2**3)\n",
    "prev_escala_arima"
   ],
   "outputs": []
  },
  {
   "cell_type": "markdown",
   "metadata": {
    "id": "sarNEXqphlO5"
   },
   "source": [
    "Observe que não temos as datas com essa função."
   ]
  },
  {
   "cell_type": "markdown",
   "metadata": {
    "id": "XnqI-xYAhuDZ"
   },
   "source": [
    "Concatenando a série original com a previsão do arima"
   ]
  },
  {
   "cell_type": "code",
   "execution_count": 143,
   "metadata": {
    "id": "0-Gt_MugyWFP"
   },
   "source": [
    "pd.concat([serie,prev_escala_arima]).plot();"
   ],
   "outputs": []
  },
  {
   "cell_type": "markdown",
   "metadata": {
    "id": "bW5XeaN4jDDA"
   },
   "source": [
    "Aparentemente obtemos uma boa previsão, com uma boa amplitude."
   ]
  },
  {
   "cell_type": "markdown",
   "metadata": {
    "id": "r1j_zg8jy50v"
   },
   "source": [
    "## **Modelo AUTO ARIMA**"
   ]
  },
  {
   "cell_type": "markdown",
   "metadata": {
    "id": "924xEodDjz25"
   },
   "source": [
    "Realiza todas as comparações de modelo e retorna o melhor modelo.\n",
    "\n",
    "A função autoarima inclui a sazonalidade.\n",
    "\n",
    "Na nossa série aparentemente temos uma sazonalidade bem definida."
   ]
  },
  {
   "cell_type": "markdown",
   "metadata": {
    "id": "igJdF7eIy5oe"
   },
   "source": [
    "Modelo arima:(p,d,q)\n",
    "\n",
    "*   p: ordem da autoregressão\n",
    "*   d: grau de diferenciação (para transformar em estacionario)\n",
    "*   q: Ordem de média móvel dos reísduos\n",
    "\n",
    "\n",
    "Modelo SARIMA: (p,d,q)(P,D,Q)\n",
    "\n",
    "Modelo AR: Melhor AIC = 1337.922 = (9,0,0)\n",
    "\n",
    "Modelo MA: Melhor AIC = 1411.696 (0,0,8)\n",
    "\n",
    "Modelo ARMA: Melhor AIC = 1273.766 (10,0,2)\n",
    "\n",
    "Modelo ARIMA: Melhor AIC = 1319.230 (10,1,2)"
   ]
  },
  {
   "cell_type": "code",
   "execution_count": null,
   "metadata": {
    "id": "JpGb21J9zIYz"
   },
   "source": [
    "#!pip install pmdarima"
   ],
   "outputs": []
  },
  {
   "cell_type": "code",
   "execution_count": 144,
   "metadata": {
    "id": "xFfHsBNqy43z"
   },
   "source": [
    "from pmdarima.arima import auto_arima"
   ],
   "outputs": []
  },
  {
   "cell_type": "markdown",
   "metadata": {
    "id": "1kd5KeZgnIup"
   },
   "source": [
    "Criando modelo utilizando o autoarima.\n",
    "\n",
    "Parâmetros:\n",
    "*   Trace: Apresenta a lista de modelos testados\n",
    "*   Stepwise: Seleção gradual do modelo \"ideal\", é um processo mais rápido porém menos minuncioso.\n",
    "*   Seasonal: analisar a sazonalidade ou não\n",
    "*   Parametros máximos a serem analidados SARIMA (p,d,q)(P,D,Q) -> interessante dobrar o default\n",
    "*   M: período sazonal, no nosso caso é mensal."
   ]
  },
  {
   "cell_type": "code",
   "execution_count": 145,
   "metadata": {
    "id": "-ARnsX5jyWDC"
   },
   "source": [
    "modelo_auto = auto_arima(serie3, trace = True, stepwise = False, seasonal=True, max_p=10, max_q=10,\n",
    "                          max_P=4, max_Q=4, start_p=0, start_q=0, start_P=0, start_Q=0, m=12,)"
   ],
   "outputs": []
  },
  {
   "cell_type": "markdown",
   "metadata": {
    "id": "EPYNuUGzt19q"
   },
   "source": [
    "Encontramos o modelo com melhor AIC facilmente utilizando:"
   ]
  },
  {
   "cell_type": "code",
   "execution_count": 146,
   "metadata": {
    "id": "HpwupR4UyWAW"
   },
   "source": [
    "print(modelo_auto.aic())"
   ],
   "outputs": []
  },
  {
   "cell_type": "markdown",
   "metadata": {
    "id": "hebJgvAvzVr1"
   },
   "source": [
    "Modelo AR: Melhor AIC = 1339.919 (10,0,0)\n",
    "\n",
    "Modelo MA: Melhor AIC = 1411.696 (0,0,8)\n",
    "\n",
    "Modelo ARMA: Melhor AIC = 1273.766 (10,0,2)\n",
    "\n",
    "Modelo ARIMA: Melhor AIC = 1319.230 (10,1,2)\n",
    "\n",
    "Modelo_AUTOARIMA: AIC=1270.5894 ARIMA(0,0,0)(1,0,3)"
   ]
  },
  {
   "cell_type": "markdown",
   "metadata": {
    "id": "04Ej7yiTxVek"
   },
   "source": [
    "Fazendo o ajuste utilizando o modelo autoarima"
   ]
  },
  {
   "cell_type": "code",
   "execution_count": 147,
   "metadata": {
    "id": "RLaUoohVzVac"
   },
   "source": [
    "resultado_auto = modelo_auto.fit(serie3)\n",
    "print(resultado_auto.summary())"
   ],
   "outputs": []
  },
  {
   "cell_type": "markdown",
   "metadata": {
    "id": "UUNxHP4dw_HV"
   },
   "source": [
    "O reusltado do autoarima é o melhor modelo pelo AIC."
   ]
  },
  {
   "cell_type": "markdown",
   "metadata": {
    "id": "n2KefDz_zbwZ"
   },
   "source": [
    "### **Análise dos Resíduos**"
   ]
  },
  {
   "cell_type": "markdown",
   "metadata": {
    "id": "gmOHrq0-vNDp"
   },
   "source": [
    "Realizando a análise de residuos do modelo gerado pelo autoarima.\n",
    "\n",
    "Observe que a função de analise de residuos é diferente pois estamos utilizando outra biblioteca."
   ]
  },
  {
   "cell_type": "code",
   "execution_count": 148,
   "metadata": {
    "id": "Eo0t5IxAyV9k"
   },
   "source": [
    "residuos_auto = resultado_auto.resid\n",
    "residuos_auto()"
   ],
   "outputs": []
  },
  {
   "cell_type": "markdown",
   "metadata": {
    "id": "I8xWbTNzv2d9"
   },
   "source": [
    "Plotando os residuos\n",
    "\n",
    "Aparentemente temos uma média constante (não há tendencia)\n",
    "Variância não se amntém contante, amplitude varia\n",
    "\n",
    "\n"
   ]
  },
  {
   "cell_type": "code",
   "execution_count": 149,
   "metadata": {
    "id": "4roejNM_yV64"
   },
   "source": [
    "plt.plot(residuos_auto())\n",
    "plt.show()"
   ],
   "outputs": []
  },
  {
   "cell_type": "markdown",
   "metadata": {
    "id": "o4UV34Hn0Sru"
   },
   "source": [
    "**Normalidade**"
   ]
  },
  {
   "cell_type": "code",
   "execution_count": 150,
   "metadata": {
    "id": "L7o3pf15yV4B"
   },
   "source": [
    "stats.probplot(residuos_auto(), dist=\"norm\", plot=plt)\n",
    "plt.title(\"Normal QQ plot\")\n",
    "plt.show()"
   ],
   "outputs": []
  },
  {
   "cell_type": "markdown",
   "metadata": {
    "id": "4UyNgdxAyxL_"
   },
   "source": [
    "Realizando o teste de normalidade para os residuos, observamos que os dados iniciais e finais se afastam um pouco da linah de referência.\n"
   ]
  },
  {
   "cell_type": "markdown",
   "metadata": {
    "id": "ELE2RQ_4wLrF"
   },
   "source": [
    "**Teste Shapiro-Wilk**\n",
    "\n",
    "CRITÉRIOS:\n",
    "\n",
    "NÍVEL DE SIGNIFICÂNCIA DE 0,05 ou 5% (MAIS UTILIZADO)\n",
    "\n",
    "Ho = distribuição normal p > 0,05\n",
    "\n",
    "Ha = distribuição não normal p <= 0,05"
   ]
  },
  {
   "cell_type": "code",
   "execution_count": 151,
   "metadata": {
    "id": "GnbjcwFbyVsb"
   },
   "source": [
    "e, p = stats.shapiro(residuos_auto())\n",
    "print('Estatística de teste: {}'.format(e))\n",
    "print('p-valor: {}'.format(p))"
   ],
   "outputs": []
  },
  {
   "cell_type": "markdown",
   "metadata": {
    "id": "YeCctvkpzfA6"
   },
   "source": [
    "O p-valor é < que 0,05 indicando que a distribuição não é normal"
   ]
  },
  {
   "cell_type": "code",
   "execution_count": 152,
   "metadata": {
    "id": "xKnppu8g0W_W"
   },
   "source": [
    "import seaborn as sns\n",
    "sns.distplot(residuos_auto());"
   ],
   "outputs": []
  },
  {
   "cell_type": "markdown",
   "metadata": {
    "id": "Cfy5wF8Yzm_w"
   },
   "source": [
    "Temos um pico na distribuição, porem os dados se aproximam de uma normalidade"
   ]
  },
  {
   "cell_type": "markdown",
   "metadata": {
    "id": "fn_bThcN06at"
   },
   "source": [
    "**Autocorrelação**"
   ]
  },
  {
   "cell_type": "code",
   "execution_count": 153,
   "metadata": {
    "id": "7ZMd0x2w0W79"
   },
   "source": [
    "from statsmodels.graphics.tsaplots import plot_acf, plot_pacf"
   ],
   "outputs": []
  },
  {
   "cell_type": "code",
   "execution_count": 154,
   "metadata": {
    "id": "Kq_eVlCg0W5k"
   },
   "source": [
    "plot_acf(residuos_auto(), lags=30)\n",
    "plt.show()"
   ],
   "outputs": []
  },
  {
   "cell_type": "markdown",
   "metadata": {
    "id": "-RravaMfzuTA"
   },
   "source": [
    "Existem lags que saem  do intervalo de confiaça, porem a maioria fica dentro do intervalo. logo não há autocorrelação nos resíduos"
   ]
  },
  {
   "cell_type": "code",
   "execution_count": 155,
   "metadata": {
    "id": "8_DMSYzp0W27"
   },
   "source": [
    "plot_pacf(residuos_auto(), lags=30)\n",
    "plt.show()"
   ],
   "outputs": []
  },
  {
   "cell_type": "markdown",
   "metadata": {
    "id": "PesyvfDP0A7X"
   },
   "source": [
    "Para analise de correlação parcial temos o mesmo, existem lags que saem  do intervalo de confiaça, porem a maioria fica dentro do intervalo. logo não há autocorrelação nos resíduos"
   ]
  },
  {
   "cell_type": "code",
   "execution_count": 156,
   "metadata": {
    "id": "3LSpj8em0Wuw"
   },
   "source": [
    "plt.plot(serie3, label='Série Real')\n",
    "plt.plot(serie3-residuos_auto(),color='red', label='Resíduos')\n",
    "plt.legend(loc='best')\n",
    "plt.show()"
   ],
   "outputs": []
  },
  {
   "cell_type": "markdown",
   "metadata": {
    "id": "kOYtvkwu0MHn"
   },
   "source": [
    "plotando a sére com os resíduos, observamo que em geral seguem bem os dados , porem no início temos uma pequena diferença."
   ]
  },
  {
   "cell_type": "markdown",
   "metadata": {
    "id": "hWFa5rn61Aao"
   },
   "source": [
    "**Previsão**"
   ]
  },
  {
   "cell_type": "markdown",
   "metadata": {
    "id": "-5r5p5It0fo2"
   },
   "source": [
    "Fazendo a previsão de 12 meses."
   ]
  },
  {
   "cell_type": "code",
   "execution_count": 157,
   "metadata": {
    "id": "7YrCisJ81D6T"
   },
   "source": [
    "previsao_auto = resultado_auto.predict(n_periods=12)\n",
    "previsao_auto"
   ],
   "outputs": []
  },
  {
   "cell_type": "markdown",
   "metadata": {
    "id": "gOZ89PmH0q40"
   },
   "source": [
    "Transformando os dados , retornando a escala inicial -> elevar ao cubo"
   ]
  },
  {
   "cell_type": "code",
   "execution_count": 158,
   "metadata": {
    "id": "uIIXFoVl1GXg"
   },
   "source": [
    "prev_escala_auto = pd.DataFrame(previsao_auto ** 3, columns=['Previsão_SARIMA'])\n",
    "prev_escala_auto"
   ],
   "outputs": []
  },
  {
   "cell_type": "code",
   "execution_count": 159,
   "metadata": {
    "id": "5odpEny61OoF"
   },
   "source": [
    "pd.concat([serie,prev_escala_auto]).plot();"
   ],
   "outputs": []
  },
  {
   "cell_type": "markdown",
   "metadata": {
    "id": "2JRQ9Ynu0-9k"
   },
   "source": [
    "A previsão consegue seguir o padrão da série."
   ]
  },
  {
   "cell_type": "markdown",
   "metadata": {
    "id": "Vw3-O7KF1L6V"
   },
   "source": [
    "## **Análise final do projeto**"
   ]
  },
  {
   "cell_type": "markdown",
   "metadata": {
    "id": "ipEiZ7CW2nCf"
   },
   "source": [
    "Para comparar o modelo utilizamos a métrica AIC"
   ]
  },
  {
   "cell_type": "markdown",
   "metadata": {
    "id": "qfBQ6Mgv1Lpc"
   },
   "source": [
    "**COMPARAÇÃO DOS MODELOS**\n",
    "\n",
    "Modelo AR: Melhor AIC = 1339.919 (10,0,0)\n",
    "\n",
    "Modelo MA: Melhor AIC = 1411.696 (0,0,8)\n",
    "\n",
    "Modelo ARMA: Melhor AIC = 1273.766 (10,0,2)\n",
    "\n",
    "Modelo ARIMA: Melhor AIC = 1319.230 (10,1,2)\n",
    "\n",
    "**Modelo_SARIMA (AutoArima): AIC=1270.5894 ARIMA(0,0,0)(1,0,3)**"
   ]
  },
  {
   "cell_type": "markdown",
   "metadata": {
    "id": "VT6p8PH-1LZ6"
   },
   "source": [
    "**DESEMPENHO DOS MODELOS**"
   ]
  },
  {
   "cell_type": "markdown",
   "metadata": {
    "id": "1JvN5qpM2qww"
   },
   "source": [
    "Para verificar o desempenho dos modelos vamso utilizar:\n",
    "\n",
    "\n",
    "*   ERRO MÉDIO ABSOLUTO (MAE)\n",
    "*   RAIZ DO ERRO QUADRÁTICO MÉDIO (RMSE)\n",
    "\n"
   ]
  },
  {
   "cell_type": "markdown",
   "metadata": {
    "id": "86eSCuF23EK4"
   },
   "source": [
    "Vamos realizar a comparação utilizando os meses de 2021, que foram separados inicialmente."
   ]
  },
  {
   "cell_type": "markdown",
   "metadata": {
    "id": "C2Qk1U0s4UXB"
   },
   "source": [
    "Criando uma lista apra os valores reais"
   ]
  },
  {
   "cell_type": "code",
   "execution_count": null,
   "metadata": {
    "id": "ocnRYUZO1LHk"
   },
   "source": [
    "lista = [373.3, 174.1, 137.8, 55.7]\n",
    "valores_reais = pd.DataFrame(lista, columns = ['valores reais'])\n",
    "print(valores_reais)"
   ],
   "outputs": []
  },
  {
   "cell_type": "markdown",
   "metadata": {
    "id": "_Ur2YvQK48WZ"
   },
   "source": [
    "Os 4 primeiros valores previstos de cada modelo, observe que alguns colocamos para iniciar em dezembro e outros em janeiro."
   ]
  },
  {
   "cell_type": "code",
   "execution_count": null,
   "metadata": {
    "id": "3Vfc1FWH1K8L"
   },
   "source": [
    "auto = prev_escala_auto.iloc[0:4]\n",
    "ar = prev_escala.iloc[1:5]\n",
    "ma = prev_escala_ma.iloc[1:5]\n",
    "arima = prev_escala_arima.iloc[0:4]\n",
    "arma = prev_escala_arma.iloc[1:5]\n"
   ],
   "outputs": []
  },
  {
   "cell_type": "code",
   "execution_count": null,
   "metadata": {
    "id": "2sHjRTZj9PZe"
   },
   "source": [
    "auto"
   ],
   "outputs": []
  },
  {
   "cell_type": "code",
   "execution_count": null,
   "metadata": {
    "id": "RAcmVWy99OzG"
   },
   "source": [
    "ar"
   ],
   "outputs": []
  },
  {
   "cell_type": "markdown",
   "metadata": {
    "id": "Msoyebhk9Fse"
   },
   "source": [
    "Excluindo índice para os que estavam com datas"
   ]
  },
  {
   "cell_type": "code",
   "execution_count": null,
   "metadata": {
    "id": "ZRDQtkxe9Snu"
   },
   "source": [
    "pd.DataFrame.reset_index(ar, drop=True, inplace=True)\n",
    "pd.DataFrame.reset_index(ma, drop=True, inplace=True)\n",
    "pd.DataFrame.reset_index(arma, drop=True, inplace=True)\n",
    "pd.DataFrame.reset_index(auto, drop=True, inplace=True)\n",
    "pd.DataFrame.reset_index(arima, drop=True, inplace=True)"
   ],
   "outputs": []
  },
  {
   "cell_type": "markdown",
   "metadata": {
    "id": "K1Ejgqpp5P5o"
   },
   "source": [
    "Criando um dataframe para concatenar os valores reais e a predição do autoarima"
   ]
  },
  {
   "cell_type": "code",
   "execution_count": null,
   "metadata": {
    "id": "tPTrl7pw1K4a"
   },
   "source": [
    "desempenho = pd.concat([valores_reais, auto, ar, ma, arma, arima],axis=1)\n",
    "desempenho"
   ],
   "outputs": []
  },
  {
   "cell_type": "code",
   "execution_count": null,
   "metadata": {
    "id": "_6vgYeRe1nYI"
   },
   "source": [
    "from sklearn.metrics import mean_absolute_error, mean_squared_error"
   ],
   "outputs": []
  },
  {
   "cell_type": "markdown",
   "metadata": {
    "id": "89tuR4Es1znn"
   },
   "source": [
    "**ERRO MÉDIO ABSOLUTO (MAE)**"
   ]
  },
  {
   "cell_type": "code",
   "execution_count": null,
   "metadata": {
    "id": "VrPXO1ne1nVY"
   },
   "source": [
    "print('ERRO MÉDIO ABSOLUTO (MAE)')\n",
    "mae_sarima = mean_absolute_error(desempenho['valores reais'], desempenho.iloc[:, 1])\n",
    "print('SARIMA: {:.2f}'.format(mae_sarima))\n",
    "mae_ar = mean_absolute_error(desempenho['valores reais'], desempenho.iloc[:, 2])\n",
    "print('AR: {:.2f}'.format(mae_ar))\n",
    "mae_ma = mean_absolute_error(desempenho['valores reais'], desempenho.iloc[:, 3])\n",
    "print('MA: {:.2f}'.format(mae_ma))\n",
    "mae_arma = mean_absolute_error(desempenho['valores reais'], desempenho.iloc[:, 4])\n",
    "print('ARMA: {:.2f}'.format(mae_arma))\n",
    "mae_arima = mean_absolute_error(desempenho['valores reais'], desempenho.iloc[:, 5])\n",
    "print('ARIMA: {:.2f}'.format(mae_arima))"
   ],
   "outputs": []
  },
  {
   "cell_type": "markdown",
   "metadata": {
    "id": "IONa3QSA18Fw"
   },
   "source": [
    "**ERRO QUADRÁTICO MÉDIO (MSE)**"
   ]
  },
  {
   "cell_type": "code",
   "execution_count": null,
   "metadata": {
    "id": "0jm9XcuQ1-Uh"
   },
   "source": [
    "print('ERRO QUADRÁTICO MÉDIO (MSE)')\n",
    "mse_sarima = mean_squared_error(desempenho['valores reais'], desempenho.iloc[:, 1])\n",
    "print('SARIMA: {:.2f}'.format(mse_sarima))\n",
    "mse_ar = mean_squared_error(desempenho['valores reais'], desempenho.iloc[:, 2])\n",
    "print('AR: {:.2f}'.format(mse_ar))\n",
    "mse_ma = mean_squared_error(desempenho['valores reais'], desempenho.iloc[:, 3])\n",
    "print('MA: {:.2f}'.format(mse_ma))\n",
    "mse_arma = mean_squared_error(desempenho['valores reais'], desempenho.iloc[:, 4])\n",
    "print('ARMA: {:.2f}'.format(mse_arma))\n",
    "mse_arima = mean_squared_error(desempenho['valores reais'], desempenho.iloc[:, 5])\n",
    "print('ARIMA: {:.2f}'.format(mse_arima))"
   ],
   "outputs": []
  },
  {
   "cell_type": "markdown",
   "metadata": {
    "id": "W-CbE6Dv18k-"
   },
   "source": [
    "**RAIZ DO ERRO QUADRÁTICO MÉDIO (RMSE)**"
   ]
  },
  {
   "cell_type": "code",
   "execution_count": null,
   "metadata": {
    "id": "XozxrzOH17Rb"
   },
   "source": [
    "print('RAIZ DO ERRO QUADRÁTICO MÉDIO (RMSE)')\n",
    "rmse_sarima = mean_squared_error(desempenho['valores reais'], desempenho.iloc[:, 1], squared=False)\n",
    "print('SARIMA: {:.2f}'.format(rmse_sarima))\n",
    "rmse_ar = mean_squared_error(desempenho['valores reais'], desempenho.iloc[:, 2], squared=False)\n",
    "print('AR: {:.2f}'.format(rmse_ar))\n",
    "rmse_ma = mean_squared_error(desempenho['valores reais'], desempenho.iloc[:, 3], squared=False)\n",
    "print('MA: {:.2f}'.format(rmse_ma))\n",
    "rmse_arma = mean_squared_error(desempenho['valores reais'], desempenho.iloc[:, 4], squared=False)\n",
    "print('ARMA: {:.2f}'.format(rmse_arma))\n",
    "rmse_arima = mean_squared_error(desempenho['valores reais'], desempenho.iloc[:, 5], squared=False)\n",
    "print('ARIMA: {:.2f}'.format(rmse_arima))"
   ],
   "outputs": []
  }
 ],
 "metadata": {
  "colab": {
   "provenance": []
  },
  "kernelspec": {
   "display_name": "Python 3 (ipykernel)",
   "language": "python",
   "name": "python3"
  },
  "language_info": {
   "codemirror_mode": {
    "name": "ipython",
    "version": 3
   },
   "file_extension": ".py",
   "mimetype": "text/x-python",
   "name": "python",
   "nbconvert_exporter": "python",
   "pygments_lexer": "ipython3",
   "version": "3.11.3"
  }
 },
 "nbformat": 4,
 "nbformat_minor": 1
}
