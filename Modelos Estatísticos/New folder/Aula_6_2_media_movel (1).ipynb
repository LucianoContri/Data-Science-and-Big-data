{
 "cells": [
  {
   "cell_type": "markdown",
   "metadata": {
    "id": "a96WELzFA98V"
   },
   "source": [
    "# **MÉDIA MÓVEL**"
   ]
  },
  {
   "cell_type": "code",
   "execution_count": 1,
   "metadata": {
    "id": "A5yMS5nI9uYM"
   },
   "source": [
    "import numpy as np\n",
    "import pandas as pd\n",
    "import matplotlib.pyplot as plt"
   ],
   "outputs": []
  },
  {
   "cell_type": "code",
   "execution_count": 2,
   "metadata": {
    "id": "cAJTcWNL4A9U"
   },
   "source": [
    "from matplotlib.pylab import rcParams\n",
    "rcParams['figure.figsize'] = 12, 5"
   ],
   "outputs": []
  },
  {
   "cell_type": "markdown",
   "metadata": {
    "id": "CYVuEx5VbELw"
   },
   "source": [
    "**Desvios da temperatura média global da terra-oceano (com referência a média de 1951-1980), medidos em graus Celsius, para os anos de 1880-2015.**\n",
    "\n",
    " Iremos analisar o desvio da temperatura de 1880 a 2015 com base na média de 1951 a 1980\n",
    "\n",
    " Analisar a média movel do desvio da temperatura global"
   ]
  },
  {
   "cell_type": "code",
   "execution_count": 3,
   "metadata": {
    "id": "3347scLeXDlZ"
   },
   "source": [
    "temperatura = pd.read_csv('temp_global.csv')"
   ],
   "outputs": []
  },
  {
   "cell_type": "markdown",
   "metadata": {
    "id": "BE2JNde_B_y0"
   },
   "source": [
    "Observa-se que a base de dados contem apenas uma variável, que contem o desvio da temperatura."
   ]
  },
  {
   "cell_type": "code",
   "execution_count": 4,
   "metadata": {
    "id": "XuubUz3uXm9A"
   },
   "source": [
    "temperatura"
   ],
   "outputs": []
  },
  {
   "cell_type": "markdown",
   "metadata": {
    "id": "-6s3st0s8he-"
   },
   "source": [
    "Por isso teremos que montar o índice para adicionar a variavel tempo"
   ]
  },
  {
   "cell_type": "code",
   "execution_count": 5,
   "metadata": {
    "colab": {
     "base_uri": "https://localhost:8080/"
    },
    "id": "JRLglswZXjfO",
    "outputId": "50d86763-e19c-42b4-90da-257d10d340c6"
   },
   "source": [
    "indice = pd.date_range('1880 Jan 1', periods = len(temperatura), freq = 'Y')\n",
    "indice"
   ],
   "outputs": []
  },
  {
   "cell_type": "markdown",
   "metadata": {
    "id": "j83j7Qda8he_"
   },
   "source": [
    "Criando a série temporal com a temperatura , esta alocada no dataframe na coluna 'x' e adicionando o indice(datas)\n",
    "\n",
    "Associando a diferença de temperatura com as datas"
   ]
  },
  {
   "cell_type": "code",
   "execution_count": 6,
   "metadata": {
    "colab": {
     "base_uri": "https://localhost:8080/"
    },
    "id": "Co7ssl86X6Lf",
    "outputId": "33423c00-3da2-499e-bd25-5a8aa6a007a3"
   },
   "source": [
    "serie = pd.Series(temperatura['x'].values, index = indice)\n",
    "serie"
   ],
   "outputs": []
  },
  {
   "cell_type": "code",
   "execution_count": 7,
   "metadata": {
    "id": "H_T-iSV8c7SY"
   },
   "source": [
    "serie.plot();"
   ],
   "outputs": []
  },
  {
   "cell_type": "markdown",
   "metadata": {
    "id": "5KTJcKxu8hfA"
   },
   "source": [
    "Observa-se uma série aparentemente constante até aproximadamente 1935, depois temos um leve aumento de desvio ate 1980, e apos esse periodo temos um tendencia de crescimento maior .\n",
    "\n",
    "Observamos uma certa sazonalidade, nao tao clara. e a partir de 1970 uma tendencia crescente"
   ]
  },
  {
   "cell_type": "markdown",
   "metadata": {
    "id": "0HwAGMSs8hfA"
   },
   "source": [
    "Criando a média movel\n",
    "\n",
    "window => período de referencia, neste caso estamos utilizando 3 anos\n",
    "\n",
    "Depois retira-se a média considerando esse periodo de referencia\n"
   ]
  },
  {
   "cell_type": "code",
   "execution_count": 8,
   "metadata": {
    "id": "3sb6f6D-eN39"
   },
   "source": [
    "media_movel1 = serie.rolling(window=3)\n",
    "media_movel1 = media_movel1.mean()"
   ],
   "outputs": []
  },
  {
   "cell_type": "code",
   "execution_count": 9,
   "metadata": {
    "id": "epT7DjtKeiJE"
   },
   "source": [
    "plt.plot(media_movel1);"
   ],
   "outputs": []
  },
  {
   "cell_type": "code",
   "execution_count": 10,
   "metadata": {
    "id": "c0EHT2pze90r"
   },
   "source": [
    "plt.plot(serie, label='Série Real')\n",
    "plt.plot(media_movel1,color='red', label='Média Móvel 3 anos')\n",
    "plt.legend(loc='best')\n",
    "plt.show()"
   ],
   "outputs": []
  },
  {
   "cell_type": "markdown",
   "metadata": {
    "id": "of2VZFKM8hfB"
   },
   "source": [
    "MMS - Média móvel simples,  perda dos tres anos iniciais\n",
    "\n",
    "Observa-se uma suavização dos picos , evidenciação da tendencia"
   ]
  },
  {
   "cell_type": "markdown",
   "metadata": {
    "id": "isktxYNo8hfC"
   },
   "source": [
    "Média movel com período maior -> Maior suavização"
   ]
  },
  {
   "cell_type": "code",
   "execution_count": 11,
   "metadata": {
    "id": "Ek5ipjvLfXE6"
   },
   "source": [
    "media_movel2 = serie.rolling(window=10)\n",
    "media_movel2 = media_movel2.mean()"
   ],
   "outputs": []
  },
  {
   "cell_type": "code",
   "execution_count": 12,
   "metadata": {
    "id": "s6xI-CkkfeMy"
   },
   "source": [
    "plt.plot(serie, label='Série Real')\n",
    "plt.plot(media_movel2,color='red', label='Média Móvel 10 anos')\n",
    "plt.legend(loc='best')\n",
    "plt.show()"
   ],
   "outputs": []
  },
  {
   "cell_type": "markdown",
   "metadata": {
    "id": "E8B3UWJp8hfC"
   },
   "source": [
    "Quanto maior a suavizção - > Clareza da tendencia"
   ]
  },
  {
   "cell_type": "code",
   "execution_count": 13,
   "metadata": {
    "id": "_9dKClP8hOmw"
   },
   "source": [
    "media_movel3 = serie.rolling(window=20)\n",
    "media_movel3 = media_movel3.mean()"
   ],
   "outputs": []
  },
  {
   "cell_type": "code",
   "execution_count": 14,
   "metadata": {
    "id": "VnBIIwW6hVmX"
   },
   "source": [
    "plt.plot(serie, label='Série Real')\n",
    "plt.plot(media_movel3,color='red', label='Média Móvel 20 anos')\n",
    "plt.legend(loc='best')\n",
    "plt.show()"
   ],
   "outputs": []
  },
  {
   "cell_type": "code",
   "execution_count": 15,
   "metadata": {
    "id": "EFqfPTYwhwqV"
   },
   "source": [
    "plt.plot(serie, label='Série Real')\n",
    "plt.plot(media_movel1,color='orange', label='Média Móvel 3 anos');\n",
    "plt.plot(media_movel2,color='green', label='Média Móvel 10 anos');\n",
    "plt.plot(media_movel3,color='red', label='Média Móvel 20 anos');\n",
    "plt.legend(loc='best')\n",
    "plt.show()"
   ],
   "outputs": []
  },
  {
   "cell_type": "markdown",
   "metadata": {
    "id": "InAPzB2qiecF"
   },
   "source": [
    "Média movel simples - simétrica"
   ]
  },
  {
   "cell_type": "code",
   "execution_count": 16,
   "metadata": {
    "id": "DM-5_6H48hfD"
   },
   "source": [
    "media_movel4 = serie.rolling(window=3,center=True)\n",
    "media_movel4 = media_movel4.mean()"
   ],
   "outputs": []
  },
  {
   "cell_type": "code",
   "execution_count": 17,
   "metadata": {
    "id": "njUK3mZAivvS"
   },
   "source": [
    "media_movel5 = serie.rolling(window=10,center=True)\n",
    "media_movel5 = media_movel5.mean()"
   ],
   "outputs": []
  },
  {
   "cell_type": "code",
   "execution_count": 18,
   "metadata": {
    "id": "Gu3Zh3OFi0Hq"
   },
   "source": [
    "media_movel6 = serie.rolling(window=20,center=True)\n",
    "media_movel6 = media_movel6.mean()"
   ],
   "outputs": []
  },
  {
   "cell_type": "code",
   "execution_count": 19,
   "metadata": {
    "id": "xfGBZ95zi627"
   },
   "source": [
    "plt.plot(serie, label='Série Real')\n",
    "plt.plot(media_movel4,color='orange', label='Média Móvel 3 anos');\n",
    "plt.plot(media_movel5,color='green', label='Média Móvel 10 anos');\n",
    "plt.plot(media_movel6,color='red', label='Média Móvel 20 anos');\n",
    "plt.legend(loc='best')\n",
    "plt.show()"
   ],
   "outputs": []
  },
  {
   "cell_type": "markdown",
   "metadata": {
    "id": "9_mGOvOqICzT"
   },
   "source": [
    "Neste caso a tendencia ficou melhor definida para a média móvel simétrica"
   ]
  }
 ],
 "metadata": {
  "colab": {
   "provenance": []
  },
  "kernelspec": {
   "display_name": "Python 3 (ipykernel)",
   "language": "python",
   "name": "python3"
  },
  "language_info": {
   "codemirror_mode": {
    "name": "ipython",
    "version": 3
   },
   "file_extension": ".py",
   "mimetype": "text/x-python",
   "name": "python",
   "nbconvert_exporter": "python",
   "pygments_lexer": "ipython3",
   "version": "3.11.3"
  }
 },
 "nbformat": 4,
 "nbformat_minor": 1
}
