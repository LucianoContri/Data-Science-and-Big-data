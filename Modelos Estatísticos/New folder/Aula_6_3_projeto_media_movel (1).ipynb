{
 "cells": [
  {
   "cell_type": "markdown",
   "metadata": {
    "id": "a96WELzFA98V"
   },
   "source": [
    "# **PROJETO MÉDIA MÓVEL**"
   ]
  },
  {
   "cell_type": "code",
   "execution_count": 1,
   "metadata": {
    "id": "A5yMS5nI9uYM"
   },
   "source": [
    "import numpy as np\n",
    "import pandas as pd\n",
    "import matplotlib.pyplot as plt"
   ],
   "outputs": []
  },
  {
   "cell_type": "code",
   "execution_count": 2,
   "metadata": {
    "id": "cAJTcWNL4A9U"
   },
   "source": [
    "from matplotlib.pylab import rcParams\n",
    "rcParams['figure.figsize'] = 15, 6"
   ],
   "outputs": []
  },
  {
   "cell_type": "markdown",
   "metadata": {
    "id": "x8vp1QN89svn"
   },
   "source": [
    "## **Análise e Tratamento Inicial**"
   ]
  },
  {
   "cell_type": "markdown",
   "metadata": {
    "id": "jIabyjKONSkQ"
   },
   "source": [
    "Devemos sempre carregar os dados\n",
    "Verificar o tamanho da base\n",
    "Identificar o tipo de dados de cada variável"
   ]
  },
  {
   "cell_type": "code",
   "execution_count": 3,
   "metadata": {
    "id": "V_FdYlmVxhcF"
   },
   "source": [
    "covid = pd.read_csv('dados_covid_sp.csv',sep=';')"
   ],
   "outputs": []
  },
  {
   "cell_type": "markdown",
   "metadata": {
    "id": "xIunCzUIPfds"
   },
   "source": [
    "Verificando a base de dados carregada"
   ]
  },
  {
   "cell_type": "code",
   "execution_count": 4,
   "metadata": {
    "id": "qOGPMJVvyM60"
   },
   "source": [
    "covid.head(20)"
   ],
   "outputs": []
  },
  {
   "cell_type": "markdown",
   "metadata": {
    "id": "Zn-ouztlPoGV"
   },
   "source": [
    "Dimensão da Base"
   ]
  },
  {
   "cell_type": "code",
   "execution_count": 5,
   "metadata": {
    "colab": {
     "base_uri": "https://localhost:8080/"
    },
    "id": "K63eHa4BhTd2",
    "outputId": "8787941f-0417-4877-c8a4-47630e8e0046"
   },
   "source": [
    "covid.shape"
   ],
   "outputs": []
  },
  {
   "cell_type": "markdown",
   "metadata": {
    "id": "m1FC5LctNSkT"
   },
   "source": [
    "Análise dos tipos de atributos.\n",
    "\n",
    "object: strings\n",
    "\n",
    "int64: inteiros\n",
    "\n",
    "float64: reais\n",
    "\n",
    "complex: complexos"
   ]
  },
  {
   "cell_type": "code",
   "execution_count": 6,
   "metadata": {
    "colab": {
     "base_uri": "https://localhost:8080/"
    },
    "id": "hVWHi41az70-",
    "outputId": "696e072f-ea8f-4d77-cb74-72892f816599"
   },
   "source": [
    "covid.dtypes"
   ],
   "outputs": []
  },
  {
   "cell_type": "markdown",
   "metadata": {
    "id": "Q2RxUJOfNSkU"
   },
   "source": [
    "Observe que a variavel do numero de casos 7 d - média movel (casos_mm7d) e numero de óbitos 7 d - média movel (obitos_mm7d)\n",
    "estão como objeto (caracteres), devemos subtituir o ponto por vírgula e transformá-las como variáveis numéricas"
   ]
  },
  {
   "cell_type": "code",
   "execution_count": 7,
   "metadata": {
    "id": "5RG_NNHg6uuH"
   },
   "source": [
    "# Substituir as vírgulas por pontos\n",
    "covid['casos_mm7d'] = covid['casos_mm7d'].str.replace(',', '.')\n",
    "covid"
   ],
   "outputs": []
  },
  {
   "cell_type": "code",
   "execution_count": 8,
   "metadata": {
    "id": "9bKzS48i2af5"
   },
   "source": [
    "# Transformar String em variável numérica\n",
    "covid['casos_mm7d'] = pd.to_numeric(covid['casos_mm7d'])"
   ],
   "outputs": []
  },
  {
   "cell_type": "code",
   "execution_count": 9,
   "metadata": {
    "id": "l2c03A6x8J8z"
   },
   "source": [
    "covid['obitos_mm7d'] = covid['obitos_mm7d'].str.replace(',', '.')\n",
    "covid"
   ],
   "outputs": []
  },
  {
   "cell_type": "code",
   "execution_count": 10,
   "metadata": {
    "id": "FouSIRNe3DTn"
   },
   "source": [
    "covid['obitos_mm7d'] = pd.to_numeric(covid['obitos_mm7d'])"
   ],
   "outputs": []
  },
  {
   "cell_type": "code",
   "execution_count": 11,
   "metadata": {
    "id": "wYjwogf382tY"
   },
   "source": [
    "covid.dtypes"
   ],
   "outputs": []
  },
  {
   "cell_type": "code",
   "execution_count": 12,
   "metadata": {
    "id": "LWeqN1Xx87hx"
   },
   "source": [
    "covid.head()"
   ],
   "outputs": []
  },
  {
   "cell_type": "code",
   "execution_count": 13,
   "metadata": {
    "colab": {
     "base_uri": "https://localhost:8080/"
    },
    "id": "6RRA1M5Zzuzh",
    "outputId": "90d06024-8865-48b7-9e89-e8a4692236ea"
   },
   "source": [
    "covid.shape"
   ],
   "outputs": []
  },
  {
   "cell_type": "markdown",
   "metadata": {
    "id": "3lk5kf4eZ_sL"
   },
   "source": [
    "Verificando a existencia de valores ausentes"
   ]
  },
  {
   "cell_type": "code",
   "execution_count": 14,
   "metadata": {
    "colab": {
     "base_uri": "https://localhost:8080/"
    },
    "id": "A24U7d5QYPaV",
    "outputId": "d33876ef-5e4f-47e0-c687-3bac9ad4b205"
   },
   "source": [
    "covid.isnull().sum()"
   ],
   "outputs": []
  },
  {
   "cell_type": "markdown",
   "metadata": {
    "id": "FSk9zuaOQ7EE"
   },
   "source": [
    "Verificando valores missing apenas de uma coluna"
   ]
  },
  {
   "cell_type": "code",
   "execution_count": 15,
   "metadata": {
    "colab": {
     "base_uri": "https://localhost:8080/"
    },
    "id": "pc8MIz-JaJ40",
    "outputId": "d979c4b8-7f5e-4b3f-8aa8-358eeb697e02"
   },
   "source": [
    "covid['obitos'].isnull().sum()"
   ],
   "outputs": []
  },
  {
   "cell_type": "code",
   "execution_count": 16,
   "metadata": {
    "id": "01tM1zrm404h"
   },
   "source": [
    "covid_sp = covid.loc[covid.nome_munic == 'São Paulo']\n",
    "covid_sp.head(8)"
   ],
   "outputs": []
  },
  {
   "cell_type": "markdown",
   "metadata": {
    "id": "iy-6jvup9pgk"
   },
   "source": [
    "## **Média Móvel Casos Novos**"
   ]
  },
  {
   "cell_type": "code",
   "execution_count": 17,
   "metadata": {
    "id": "7Jer6-ewn1_H"
   },
   "source": [
    "covid_sp.head(9)"
   ],
   "outputs": []
  },
  {
   "cell_type": "markdown",
   "metadata": {
    "id": "j88mOTSnNSkY"
   },
   "source": [
    "Observe que os primeiros 7 dias estao zerados, pois se trata da média movel simples"
   ]
  },
  {
   "cell_type": "markdown",
   "metadata": {
    "id": "vGknpDluUL-y"
   },
   "source": [
    "Verificando o tamanho da nossa base"
   ]
  },
  {
   "cell_type": "code",
   "execution_count": 18,
   "metadata": {
    "colab": {
     "base_uri": "https://localhost:8080/"
    },
    "id": "Jv1XHN0Jo0hq",
    "outputId": "c8ec399e-5455-4585-a909-c19a3f822523"
   },
   "source": [
    "covid_sp.shape"
   ],
   "outputs": []
  },
  {
   "cell_type": "code",
   "execution_count": 19,
   "metadata": {
    "id": "F6vfzoiweSnd"
   },
   "source": [
    "# Média móvel do Dataframe\n",
    "plt.plot(covid_sp.casos_mm7d)\n",
    "plt.title('Média Móvel - Casos Novos')\n",
    "plt.grid(False)\n",
    "plt.show()"
   ],
   "outputs": []
  },
  {
   "cell_type": "markdown",
   "metadata": {
    "id": "j7YaGzM9UspZ"
   },
   "source": [
    "Iremos montar uma nova média móvel - apr aisso vamos criar uma nova série"
   ]
  },
  {
   "cell_type": "code",
   "execution_count": 20,
   "metadata": {
    "colab": {
     "base_uri": "https://localhost:8080/"
    },
    "id": "sRuI9H7NgJW5",
    "outputId": "844337ce-e019-4aa0-b6e8-3f4b7fc3e0ae"
   },
   "source": [
    "serie = pd.Series(covid_sp['casos_novos'].values, index = covid_sp['datahora'])\n",
    "serie"
   ],
   "outputs": []
  },
  {
   "cell_type": "code",
   "execution_count": 21,
   "metadata": {
    "id": "713q_7qPhfLW"
   },
   "source": [
    "serie.plot();"
   ],
   "outputs": []
  },
  {
   "cell_type": "markdown",
   "metadata": {
    "id": "krcMO3yCUzcR"
   },
   "source": [
    "Criando a média móvel de 7 dias relacionada aos casos novos"
   ]
  },
  {
   "cell_type": "code",
   "execution_count": 22,
   "metadata": {
    "id": "fgBaSTXfhwzH"
   },
   "source": [
    "media_casos = serie.rolling(window=7,center=True)\n",
    "media_casos = media_casos.mean()"
   ],
   "outputs": []
  },
  {
   "cell_type": "code",
   "execution_count": 23,
   "metadata": {
    "id": "Vk_heAQqh-tG"
   },
   "source": [
    "plt.plot(media_casos);"
   ],
   "outputs": []
  },
  {
   "cell_type": "code",
   "execution_count": 24,
   "metadata": {
    "id": "ukdDvwGWieT6"
   },
   "source": [
    "plt.plot(serie, label='Série Real')\n",
    "plt.plot(media_casos,color='red', label='Média Móvel 7 dias')\n",
    "plt.legend(loc='best')\n",
    "plt.show()"
   ],
   "outputs": []
  },
  {
   "cell_type": "markdown",
   "metadata": {
    "id": "3SfsK1lejXkg"
   },
   "source": [
    "## **Média Móvel Óbitos Novos**"
   ]
  },
  {
   "cell_type": "markdown",
   "metadata": {
    "id": "R0IwNkgjVLOp"
   },
   "source": [
    "Plotando a média móvel dos óbitos novos - disponível na base"
   ]
  },
  {
   "cell_type": "code",
   "execution_count": 25,
   "metadata": {
    "id": "YYnYZR56jXkh"
   },
   "source": [
    "plt.plot(covid_sp.obitos_mm7d)\n",
    "plt.title('Média Móvel - Óbitos Novos')\n",
    "plt.grid(False)\n",
    "plt.show()"
   ],
   "outputs": []
  },
  {
   "cell_type": "markdown",
   "metadata": {
    "id": "DWQb9w0UVbIY"
   },
   "source": [
    "Criando a nova serie para calcular a média movel"
   ]
  },
  {
   "cell_type": "code",
   "execution_count": 26,
   "metadata": {
    "colab": {
     "base_uri": "https://localhost:8080/"
    },
    "id": "_VBd7eBFjXkj",
    "outputId": "6cc43e29-3d39-4049-dff1-6dd4842f938e"
   },
   "source": [
    "serie = pd.Series(covid_sp['obitos_novos'].values, index = covid_sp['datahora'])\n",
    "serie"
   ],
   "outputs": []
  },
  {
   "cell_type": "code",
   "execution_count": 27,
   "metadata": {
    "id": "ydYJMb8fjXkk"
   },
   "source": [
    "serie.plot();"
   ],
   "outputs": []
  },
  {
   "cell_type": "code",
   "execution_count": 28,
   "metadata": {
    "id": "I-6JWlCYjXkk"
   },
   "source": [
    "media_obitos = serie.rolling(window=7, center=True)\n",
    "media_obitos = media_obitos.mean()"
   ],
   "outputs": []
  },
  {
   "cell_type": "code",
   "execution_count": 29,
   "metadata": {
    "id": "LP9dbcLRjXkl"
   },
   "source": [
    "plt.plot(media_obitos);"
   ],
   "outputs": []
  },
  {
   "cell_type": "markdown",
   "metadata": {
    "id": "K6rmmxeZVr5f"
   },
   "source": [
    "Plotando as duas séries : real x média móvel simetrica juntas"
   ]
  },
  {
   "cell_type": "code",
   "execution_count": 30,
   "metadata": {
    "id": "0H9NIu0rjXkl"
   },
   "source": [
    "plt.plot(serie, label='Série Real')\n",
    "plt.plot(media_obitos,color='red', label='Média Móvel 7 dias')\n",
    "plt.legend(loc='best')\n",
    "plt.show()"
   ],
   "outputs": []
  }
 ],
 "metadata": {
  "colab": {
   "provenance": []
  },
  "kernelspec": {
   "display_name": "Python 3 (ipykernel)",
   "language": "python",
   "name": "python3"
  },
  "language_info": {
   "codemirror_mode": {
    "name": "ipython",
    "version": 3
   },
   "file_extension": ".py",
   "mimetype": "text/x-python",
   "name": "python",
   "nbconvert_exporter": "python",
   "pygments_lexer": "ipython3",
   "version": "3.11.3"
  }
 },
 "nbformat": 4,
 "nbformat_minor": 1
}
