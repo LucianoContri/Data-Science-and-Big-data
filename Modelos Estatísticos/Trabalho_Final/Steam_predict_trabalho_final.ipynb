{
 "cells": [
  {
   "cell_type": "markdown",
   "source": [
    "Predizendo Preço de games na Steam"
   ],
   "metadata": {
    "collapsed": false
   },
   "id": "1e026fd5b15cf92b"
  },
  {
   "cell_type": "code",
   "execution_count": 527,
   "id": "initial_id",
   "metadata": {
    "collapsed": true,
    "ExecuteTime": {
     "end_time": "2023-12-07T17:29:50.031194300Z",
     "start_time": "2023-12-07T17:29:49.552210600Z"
    }
   },
   "source": [
    "import pandas as pd\n",
    "import seaborn as sns\n",
    "import matplotlib.pyplot as plt\n",
    "from scipy import stats\n",
    "import statsmodels.api as sm\n",
    "from datetime import datetime\n",
    "from sklearn.preprocessing import MinMaxScaler\n",
    "from sklearn.preprocessing import MultiLabelBinarizer\n",
    "from sklearn.model_selection import train_test_split\n",
    "from sklearn.preprocessing import PolynomialFeatures\n",
    "from sklearn.model_selection import train_test_split\n",
    "from sklearn.linear_model import LogisticRegression\n",
    "from sklearn.metrics import classification_report\n",
    "from sklearn.linear_model import LinearRegression\n",
    "from sklearn.metrics import  mean_squared_error, mean_absolute_error\n",
    "import numpy as np\n"
   ],
   "outputs": []
  },
  {
   "cell_type": "code",
   "execution_count": 528,
   "source": [
    "df = pd.read_json('steamdb.json')\n",
    "df.head(10)"
   ],
   "metadata": {
    "collapsed": false,
    "ExecuteTime": {
     "end_time": "2023-12-07T17:29:51.681770Z",
     "start_time": "2023-12-07T17:29:49.555214700Z"
    }
   },
   "id": "ce86d46f367710fc",
   "outputs": []
  },
  {
   "cell_type": "code",
   "execution_count": 529,
   "source": [
    "df['published_store'] = pd.to_datetime(df['published_store'])\n",
    "df.info()"
   ],
   "metadata": {
    "collapsed": false,
    "ExecuteTime": {
     "end_time": "2023-12-07T17:29:51.978691200Z",
     "start_time": "2023-12-07T17:29:51.680768900Z"
    }
   },
   "id": "5ae12623e10132bf",
   "outputs": []
  },
  {
   "cell_type": "code",
   "execution_count": 529,
   "source": [],
   "metadata": {
    "collapsed": false,
    "ExecuteTime": {
     "end_time": "2023-12-07T17:29:51.980693600Z",
     "start_time": "2023-12-07T17:29:51.978007Z"
    }
   },
   "id": "cd239ff62a2b0b69",
   "outputs": []
  },
  {
   "cell_type": "markdown",
   "source": [
    "A base de dados têm bastante indices nulos e colunas que não nos dão muita informação como URL do game.\n",
    "Precisamos retirar itens chave e manter itens que possam ter alguma relevância mas não tenham tantos NaN."
   ],
   "metadata": {
    "collapsed": false
   },
   "id": "e6de68e222b9053d"
  },
  {
   "cell_type": "code",
   "execution_count": 530,
   "source": [
    "\n",
    "indices_to_drop = [0,1,2,5,6,7,8,9,11,14,15,16,17,18,19,24,26,28,30,32,33,36,37,39,40,41,42,43]\n",
    "\n",
    "# Obter os nomes das colunas correspondentes aos índices\n",
    "col_names_to_drop = df.columns[indices_to_drop]\n",
    "\n",
    "# Remover as colunas\n",
    "df = df.drop(columns=col_names_to_drop)\n",
    "df['Idade_do_Produto'] = (datetime.now() - df['published_store']).dt.days\n",
    "df = df.drop(columns= 'published_store')"
   ],
   "metadata": {
    "collapsed": false,
    "ExecuteTime": {
     "end_time": "2023-12-07T17:29:52.029749400Z",
     "start_time": "2023-12-07T17:29:51.982695300Z"
    }
   },
   "id": "11f190fb1fab4ba0",
   "outputs": []
  },
  {
   "cell_type": "code",
   "execution_count": 531,
   "source": [
    "df.isna().sum()"
   ],
   "metadata": {
    "collapsed": false,
    "ExecuteTime": {
     "end_time": "2023-12-07T17:29:52.076152600Z",
     "start_time": "2023-12-07T17:29:52.007728400Z"
    }
   },
   "id": "ccad3c203610552",
   "outputs": []
  },
  {
   "cell_type": "code",
   "execution_count": 532,
   "source": [
    "df.dropna().shape"
   ],
   "metadata": {
    "collapsed": false,
    "ExecuteTime": {
     "end_time": "2023-12-07T17:29:52.133970200Z",
     "start_time": "2023-12-07T17:29:52.060137500Z"
    }
   },
   "id": "2ec0aa4f510d8db5",
   "outputs": []
  },
  {
   "cell_type": "code",
   "execution_count": 533,
   "source": [
    "df.info()"
   ],
   "metadata": {
    "collapsed": false,
    "ExecuteTime": {
     "end_time": "2023-12-07T17:29:52.202071900Z",
     "start_time": "2023-12-07T17:29:52.112948400Z"
    }
   },
   "id": "7c18a8856b93c2f3",
   "outputs": []
  },
  {
   "cell_type": "code",
   "execution_count": 534,
   "source": [
    "df.nunique()"
   ],
   "metadata": {
    "collapsed": false,
    "ExecuteTime": {
     "end_time": "2023-12-07T17:29:52.341287400Z",
     "start_time": "2023-12-07T17:29:52.170041800Z"
    }
   },
   "id": "5952192c23d558c",
   "outputs": []
  },
  {
   "cell_type": "markdown",
   "source": [
    "Podemos categorizar a dificuldade e tentar expandir os multivalorados 'categories' e 'tags'"
   ],
   "metadata": {
    "collapsed": false
   },
   "id": "34fcb1efa54f8c24"
  },
  {
   "cell_type": "code",
   "execution_count": 535,
   "source": [
    "df['gfq_difficulty'] = df['gfq_difficulty'].astype('category')\n",
    "\n",
    "df['name']=df['name'].astype('string')"
   ],
   "metadata": {
    "collapsed": false,
    "ExecuteTime": {
     "end_time": "2023-12-07T17:29:52.343292200Z",
     "start_time": "2023-12-07T17:29:52.244837900Z"
    }
   },
   "id": "a9e0bd4f8fe1d762",
   "outputs": []
  },
  {
   "cell_type": "code",
   "execution_count": 536,
   "source": [
    "df['genres'].unique()"
   ],
   "metadata": {
    "collapsed": false,
    "ExecuteTime": {
     "end_time": "2023-12-07T17:29:52.343292200Z",
     "start_time": "2023-12-07T17:29:52.270955200Z"
    }
   },
   "id": "c2a59b401cbef209",
   "outputs": []
  },
  {
   "cell_type": "markdown",
   "source": [],
   "metadata": {
    "collapsed": false
   },
   "id": "9934c5c87da66a79"
  },
  {
   "cell_type": "code",
   "execution_count": 537,
   "source": [
    "df['categories'] = df['categories'].apply(lambda x: x.split(',') if x is not None else [])\n",
    "df['genres'] = df['genres'].apply(lambda x: x.split(',') if x is not None else [])\n",
    "df['tags'] = df['tags'].apply(lambda x: x.split(',') if x is not None else [])\n",
    "df.head()"
   ],
   "metadata": {
    "collapsed": false,
    "ExecuteTime": {
     "end_time": "2023-12-07T17:29:52.447928100Z",
     "start_time": "2023-12-07T17:29:52.287734500Z"
    }
   },
   "id": "40d19b3480a1a328",
   "outputs": []
  },
  {
   "cell_type": "code",
   "execution_count": 538,
   "source": [
    "colunas_para_verificar = ['tags', 'categories', 'genres']\n",
    "\n",
    "# Contando valores únicos para cada coluna\n",
    "for coluna in colunas_para_verificar:\n",
    "    # Achatar a lista de listas\n",
    "    itens_achatados = [item for sublist in df[coluna].dropna() for item in sublist]\n",
    "\n",
    "    # Obter os valores únicos\n",
    "    itens_unicos = set(itens_achatados)\n",
    "\n",
    "    # Contar e exibir o número de itens únicos\n",
    "    print(f\"Número de itens únicos em '{coluna}': {len(itens_unicos)}\")"
   ],
   "metadata": {
    "collapsed": false,
    "ExecuteTime": {
     "end_time": "2023-12-07T17:29:52.594995600Z",
     "start_time": "2023-12-07T17:29:52.414387800Z"
    }
   },
   "id": "f88e087ed32dd837",
   "outputs": []
  },
  {
   "cell_type": "markdown",
   "source": [
    "Temos portanto um grande número de generos e categorias e ainda maior de tags. \n",
    "Expandir esses indices pode levar a um número muito extenso de colunas e valores para administrar, isso seria adequado para outros tipos de modelo, diferentes dos que estamos trabalhando na matéria. portanto vamos trabalhar apenas com as outras colunas."
   ],
   "metadata": {
    "collapsed": false
   },
   "id": "8ea077d2d733bcad"
  },
  {
   "cell_type": "code",
   "execution_count": 539,
   "source": [
    "# Instanciar o MultiLabelBinarizer para fazer o one-hot encoding\n",
    "combined_labels = df.apply(lambda x: set(x['categories'] + x['genres'] + x['tags']), axis=1)\n",
    "\n",
    "# Instanciar o MultiLabelBinarizer\n",
    "mlb = MultiLabelBinarizer()\n",
    "\n",
    "# Aplicar o one-hot encoding\n",
    "combined_encoded = pd.DataFrame(mlb.fit_transform(combined_labels), columns=mlb.classes_, index=df.index)\n",
    "\n",
    "# Concatenar com o DataFrame original\n",
    "df_encoded = pd.concat([df, combined_encoded], axis=1)\n",
    "\n",
    "df_encoded.shape"
   ],
   "metadata": {
    "collapsed": false,
    "ExecuteTime": {
     "end_time": "2023-12-07T17:29:53.406902Z",
     "start_time": "2023-12-07T17:29:52.521418900Z"
    }
   },
   "id": "895269a0e2ad48fb",
   "outputs": []
  },
  {
   "cell_type": "code",
   "execution_count": 540,
   "source": [
    "df_encoded = df_encoded.dropna()\n",
    "df_encoded = df_encoded.drop(columns='full_price')\n",
    "df_encoded['Multi'] = df_encoded['Multi-player'] | df_encoded['Multiplayer']\n",
    "#df_encoded = df_encoded.drop(columns=['Multiplayer', 'Multi-player'])"
   ],
   "metadata": {
    "collapsed": false,
    "ExecuteTime": {
     "end_time": "2023-12-07T17:29:53.484916900Z",
     "start_time": "2023-12-07T17:29:53.406902Z"
    }
   },
   "id": "675e595857a071d0",
   "outputs": []
  },
  {
   "cell_type": "code",
   "execution_count": 541,
   "source": [
    "corr_matrix = df_encoded.corr()\n",
    "\n",
    "# Filtrar colunas com correlação acima de um limiar (0.1 neste caso)\n",
    "# Verificar primeiro se as colunas estão presentes no DataFrame\n",
    "cols_to_keep = corr_matrix.columns[corr_matrix.abs()['current_price'] > 0.15]\n",
    "\n",
    "# Criar uma nova matriz de correlação apenas com as colunas filtradas\n",
    "filtered_corr_matrix = df_encoded[cols_to_keep].corr()\n",
    "\n",
    "# Usar seaborn para criar um heatmap da matriz de correlação filtrada\n",
    "plt.figure(figsize=(20, 20))\n",
    "sns.heatmap(filtered_corr_matrix, annot=True, fmt=\".2f\", cmap='bwr', center= 0.05)\n",
    "\n",
    "# Mostrar o gráfico\n",
    "plt.show()"
   ],
   "metadata": {
    "collapsed": false,
    "ExecuteTime": {
     "end_time": "2023-12-07T17:29:55.468635200Z",
     "start_time": "2023-12-07T17:29:53.476910800Z"
    }
   },
   "id": "1d480819684c6ab8",
   "outputs": []
  },
  {
   "cell_type": "code",
   "execution_count": 541,
   "source": [],
   "metadata": {
    "collapsed": false,
    "ExecuteTime": {
     "end_time": "2023-12-07T17:29:55.468635200Z",
     "start_time": "2023-12-07T17:29:55.468635200Z"
    }
   },
   "id": "302cd192c9c89ba8",
   "outputs": []
  },
  {
   "cell_type": "code",
   "execution_count": 542,
   "source": [
    "modelos = list(range(0, 39))\n",
    "r_ajustados_modelo_1 = []\n",
    "f_statistics_modelo_1 = []\n",
    "limite = []\n",
    "for i in range(40):\n",
    "    corr_matrix = df_encoded.corr(numeric_only=True)\n",
    "    multi = 0.01 + (0.01 * i)\n",
    "    limite.append(multi)\n",
    "    cols_to_keep = corr_matrix.index[corr_matrix.abs()['current_price'] > multi]\n",
    "    cols_to_keep = cols_to_keep.drop('current_price')  # Remover a coluna 'score' da lista\n",
    "    X = df_encoded[cols_to_keep]  # Variáveis independentes\n",
    "    y = df_encoded['current_price']       # Variável dependente\n",
    "    X_sm = sm.add_constant(X)\n",
    "    model_sm = sm.OLS(y, X_sm).fit()\n",
    "\n",
    "\n",
    "    adj_r_squared = model_sm.rsquared_adj\n",
    "    f_statistic = model_sm.fvalue\n",
    "\n",
    "    r_ajustados_modelo_1.append(adj_r_squared)\n",
    "    f_statistics_modelo_1.append(f_statistic)\n",
    "\n",
    "\n",
    "# Normalizar os dados\n",
    "scaler = MinMaxScaler()\n",
    "\n",
    "# Transformar R² ajustado e F-Statistic\n",
    "r_ajustados_normalizados = scaler.fit_transform(np.array(r_ajustados_modelo_1).reshape(-1, 1)).flatten()\n",
    "f_statistics_normalizados = scaler.fit_transform(np.array(f_statistics_modelo_1).reshape(-1, 1)).flatten()\n",
    "\n",
    "# Calcular taxa de crescimento para os dados normalizados\n",
    "r_ajustados_crescimento = np.diff(r_ajustados_normalizados) / r_ajustados_normalizados[:-1]\n",
    "f_statistics_crescimento = np.diff(f_statistics_normalizados) / f_statistics_normalizados[:-1]\n",
    "\n",
    "# Plotar gráficos\n",
    "plt.figure(figsize=(12, 6))\n",
    "\n",
    "# Curva de crescimento de R² Ajustado\n",
    "plt.plot(modelos, r_ajustados_crescimento, label='Crescimento R² Ajustado Normalizado', color='blue', marker='o')\n",
    "\n",
    "# Curva de crescimento de F-Statistic\n",
    "plt.plot(modelos, f_statistics_crescimento, label='Crescimento F-Statistic Normalizado', color='red', marker='x')\n",
    "\n",
    "plt.xlabel('Número do Modelo')\n",
    "plt.ylabel('Taxa de Crescimento Normalizada')\n",
    "plt.title('Taxa de Crescimento Normalizada do R² Ajustado e F-Statistic')\n",
    "plt.legend()\n",
    "plt.grid(True)\n",
    "plt.show()"
   ],
   "metadata": {
    "collapsed": false,
    "ExecuteTime": {
     "end_time": "2023-12-07T17:30:18.955893400Z",
     "start_time": "2023-12-07T17:29:55.471637800Z"
    }
   },
   "id": "c92ff247dd89f6b3",
   "outputs": []
  },
  {
   "cell_type": "code",
   "execution_count": 543,
   "source": [
    "teste_p = set()\n",
    "limite_p_valor = 0.05\n",
    "for i in [0.05 , 0.1, 0.15, 0.2, 0.25, 0.3, 0.35]:\n",
    "    corr_matrix = df_encoded.corr(numeric_only=True)\n",
    "    cols_to_keep = corr_matrix.index[corr_matrix.abs()['current_price'] > i]\n",
    "    cols_to_keep = cols_to_keep.drop('current_price')  # Remover a coluna 'score' da lista\n",
    "    X = df_encoded[cols_to_keep]  # Variáveis independentes\n",
    "    y = df_encoded['current_price']       # Variável dependente\n",
    "    X_sm = sm.add_constant(X)\n",
    "    model_sm = sm.OLS(y, X_sm).fit()\n",
    "\n",
    "    \n",
    "    adj_r_squared = model_sm.rsquared_adj\n",
    "    f_statistic = model_sm.fvalue\n",
    "    \n",
    "\n",
    "# Iterar sobre os pares de nomes de variáveis e seus valores-p\n",
    "    for variavel, p_valor in model_sm.pvalues.items():\n",
    "        if p_valor > limite_p_valor:\n",
    "            teste_p.add(variavel)\n",
    "\n",
    "print(\"Variáveis com valor-p alto:\", teste_p)\n"
   ],
   "metadata": {
    "collapsed": false,
    "ExecuteTime": {
     "end_time": "2023-12-07T17:30:23.001923800Z",
     "start_time": "2023-12-07T17:30:18.956894500Z"
    }
   },
   "id": "8ccd167d78322b1a",
   "outputs": []
  },
  {
   "cell_type": "markdown",
   "source": [
    "0.08 0.16 0.24 0.35"
   ],
   "metadata": {
    "collapsed": false
   },
   "id": "15d8fe47bd2174d1"
  },
  {
   "cell_type": "markdown",
   "source": [
    "corr |0.06 |0.17 |0.25 |0.35\n",
    "R aj |54   |49   |47   |44\n",
    "F-S  |28   |122  |221  |490"
   ],
   "metadata": {
    "collapsed": false
   },
   "id": "3ae27556b4b5f8e"
  },
  {
   "cell_type": "code",
   "execution_count": 544,
   "source": [
    "df_encoded = df_encoded.drop(columns=list(teste_p))\n",
    "#df_encoded = df_encoded.drop(columns=['hltb_complete','Multiplayer', 'Puzzle', 'PvP'])"
   ],
   "metadata": {
    "collapsed": false,
    "ExecuteTime": {
     "end_time": "2023-12-07T17:30:23.025521500Z",
     "start_time": "2023-12-07T17:30:23.000922600Z"
    }
   },
   "id": "75270c7a1fa0c1d2",
   "outputs": []
  },
  {
   "cell_type": "code",
   "execution_count": 545,
   "source": [
    "r_ajustados_modelo_2 = []\n",
    "f_statistics_modelo_2 = []\n",
    "for i in range(40):\n",
    "    corr_matrix = df_encoded.corr(numeric_only=True)\n",
    "    multi = 0.01 + (0.01 * i)\n",
    "    cols_to_keep = corr_matrix.index[corr_matrix.abs()['current_price'] > multi]\n",
    "    cols_to_keep = cols_to_keep.drop('current_price')  # Remover a coluna 'score' da lista\n",
    "    X = df_encoded[cols_to_keep]  # Variáveis independentes\n",
    "    y = df_encoded['current_price']       # Variável dependente\n",
    "    X_sm = sm.add_constant(X)\n",
    "    model_sm = sm.OLS(y, X_sm).fit()\n",
    "\n",
    "\n",
    "    adj_r_squared = model_sm.rsquared_adj\n",
    "    f_statistic = model_sm.fvalue\n",
    "\n",
    "    r_ajustados_modelo_2.append(adj_r_squared)\n",
    "    f_statistics_modelo_2.append(f_statistic)\n",
    "    \n",
    "scaler = MinMaxScaler()\n",
    "\n",
    "# Transformar R² ajustado e F-Statistic\n",
    "r_ajustados_normalizados = scaler.fit_transform(np.array(r_ajustados_modelo_2).reshape(-1, 1)).flatten()\n",
    "f_statistics_normalizados = scaler.fit_transform(np.array(f_statistics_modelo_2).reshape(-1, 1)).flatten()\n",
    "\n",
    "# Calcular taxa de crescimento para os dados normalizados\n",
    "r_ajustados_crescimento = np.diff(r_ajustados_normalizados) / r_ajustados_normalizados[:-1]\n",
    "f_statistics_crescimento = np.diff(f_statistics_normalizados) / f_statistics_normalizados[:-1]\n",
    "\n",
    "# Plotar gráficos\n",
    "plt.figure(figsize=(12, 6))\n",
    "\n",
    "# Curva de crescimento de R² Ajustado\n",
    "plt.plot(modelos, r_ajustados_crescimento, label='Crescimento R² Ajustado Normalizado', color='blue', marker='o')\n",
    "\n",
    "# Curva de crescimento de F-Statistic\n",
    "plt.plot(modelos, f_statistics_crescimento, label='Crescimento F-Statistic Normalizado', color='red', marker='x')\n",
    "\n",
    "plt.xlabel('Número do Modelo')\n",
    "plt.ylabel('Taxa de Crescimento Normalizada')\n",
    "plt.title('Taxa de Crescimento Normalizada do R² Ajustado e F-Statistic')\n",
    "plt.legend()\n",
    "plt.grid(True)\n",
    "plt.show()"
   ],
   "metadata": {
    "collapsed": false,
    "ExecuteTime": {
     "end_time": "2023-12-07T17:30:36.816240300Z",
     "start_time": "2023-12-07T17:30:23.014511700Z"
    }
   },
   "id": "6f87ae68774d0f0b",
   "outputs": []
  },
  {
   "cell_type": "code",
   "execution_count": 546,
   "source": [
    "modelos = list(range(len(r_ajustados_modelo_1)))\n",
    "modelos = [x/100 for x in modelos]\n",
    "# Plotar gráficos\n",
    "plt.figure(figsize=(12, 6))\n",
    "\n",
    "# Comparação de R² Ajustado\n",
    "plt.subplot(1, 2, 1)\n",
    "plt.plot(modelos, r_ajustados_modelo_1, label='R² Ajustado Modelo 1', color='blue', marker='o')\n",
    "plt.plot(modelos, r_ajustados_modelo_2, label='R² Ajustado Modelo 2', color='green', marker='x')\n",
    "plt.xlabel('Correlação mínima')\n",
    "plt.ylabel('R² Ajustado')\n",
    "plt.title('Comparação de R² Ajustado entre Modelos')\n",
    "plt.legend()\n",
    "\n",
    "# Comparação de F-Statistic\n",
    "plt.subplot(1, 2, 2)\n",
    "plt.plot(modelos, f_statistics_modelo_1, label='F-Statistic Modelo 1', color='red', marker='o')\n",
    "plt.plot(modelos, f_statistics_modelo_2, label='F-Statistic Modelo 2', color='orange', marker='x')\n",
    "plt.xlabel('Correlação mínima')\n",
    "plt.ylabel('F-Statistic')\n",
    "plt.title('Comparação de F-Statistic entre Modelos')\n",
    "plt.legend()\n",
    "\n",
    "plt.tight_layout()\n",
    "plt.show()"
   ],
   "metadata": {
    "collapsed": false,
    "ExecuteTime": {
     "end_time": "2023-12-07T17:30:37.318842100Z",
     "start_time": "2023-12-07T17:30:36.820244200Z"
    }
   },
   "id": "b36ff9ab2d3dfb57",
   "outputs": []
  },
  {
   "cell_type": "markdown",
   "source": [
    "Agora que podemos observar claramente a diferença entre os mais diversos limites de correlação para adicão de variáveis dependentes no modelo\n",
    "e após termos retirado todas as colunas que poderiam ter casos de insignificância, podemos prosseguir testando polinômios de graus maiores e seus resíduos."
   ],
   "metadata": {
    "collapsed": false
   },
   "id": "f226ff8ca121af2"
  },
  {
   "cell_type": "markdown",
   "source": [
    "### Testar limites em graus diferentes:"
   ],
   "metadata": {
    "collapsed": false
   },
   "id": "1e8f7fcd2774374a"
  },
  {
   "cell_type": "code",
   "execution_count": 547,
   "source": [
    "\n",
    "corr_matrix = df_encoded.corr()\n",
    "r_ajustados_poli_corr_2=[]\n",
    "r_ajustados_poli_corr_27=[]\n",
    "f_statistics_poli_corr_2=[]\n",
    "f_statistics_poli_corr_27=[]\n",
    "for i in [0.2,0.27]:\n",
    "    cols_to_keep = corr_matrix.index[corr_matrix.abs()['current_price'] > i]\n",
    "    cols_to_keep = cols_to_keep.drop('current_price')  # Remover a coluna 'score' da lista\n",
    "    X = df_encoded[cols_to_keep]  # Variáveis independentes\n",
    "    y = df_encoded['current_price']\n",
    "    \n",
    "    for degree in range(1, 5):  # Graus 1 a 5\n",
    "        poly = PolynomialFeatures(degree)\n",
    "        X_poly = poly.fit_transform(X)\n",
    "\n",
    "        X_sm_poly = sm.add_constant(X_poly)\n",
    "        model_sm_poly = sm.OLS(y, X_sm_poly).fit()\n",
    "\n",
    "        # Extrair R² ajustado e F-statistic\n",
    "        adj_r_squared = model_sm_poly.rsquared_adj\n",
    "        f_statistic = model_sm_poly.fvalue\n",
    "\n",
    "        if i<0.27:\n",
    "            r_ajustados_poli_corr_2.append(adj_r_squared)\n",
    "            f_statistics_poli_corr_2.append(f_statistic)\n",
    "        else:\n",
    "            r_ajustados_poli_corr_27.append(adj_r_squared)\n",
    "            f_statistics_poli_corr_27.append(f_statistic)\n",
    "\n",
    "modelos = list(range(1,len(r_ajustados_poli_corr_2)+1))          \n",
    "plt.figure(figsize=(12, 6))\n",
    "\n",
    "# Comparação de R² Ajustado\n",
    "plt.subplot(1, 2, 1)\n",
    "plt.plot(modelos, r_ajustados_poli_corr_2, label='R² Ajustado corr 0.2', color='blue', marker='o')\n",
    "plt.plot(modelos, r_ajustados_poli_corr_27, label='R² Ajustado corr 0.27', color='green', marker='x')\n",
    "plt.xlabel('Grau Polinomial')\n",
    "plt.ylabel('R² Ajustado')\n",
    "plt.title('Comparação de R² Ajustado entre Modelos')\n",
    "plt.legend()\n",
    "\n",
    "# Comparação de F-Statistic\n",
    "plt.subplot(1, 2, 2)\n",
    "plt.plot(modelos, f_statistics_poli_corr_2, label='F-Statistic corr 0.2', color='blue', marker='o')\n",
    "plt.plot(modelos, f_statistics_poli_corr_27, label='F-Statistic corr 0.27', color='green', marker='x')\n",
    "plt.xlabel('Grau polinomial')\n",
    "plt.ylabel('F-Statistic')\n",
    "plt.title('Comparação de F-Statistic entre Modelos')\n",
    "plt.legend()\n",
    "\n",
    "plt.tight_layout()\n",
    "plt.show()\n",
    "            \n"
   ],
   "metadata": {
    "collapsed": false,
    "ExecuteTime": {
     "end_time": "2023-12-07T17:30:38.209736900Z",
     "start_time": "2023-12-07T17:30:37.324847400Z"
    }
   },
   "id": "dd512f4eaf0098c6",
   "outputs": []
  },
  {
   "cell_type": "markdown",
   "source": [
    "A julgar pelos resultados acredito que o limite de 0.27 seja melhor ajustado em segundo grau, sacrificando um pouco de generalização por significância\n",
    "mas não perdendo tanta generalização. qualquer coisa além de um polinomio de segundo grau parece perder muito. vejamos um exemplo extremo de cada. max de R ajustado, Max de F-stat e meio termo."
   ],
   "metadata": {
    "collapsed": false
   },
   "id": "96d563fed516d1ff"
  },
  {
   "cell_type": "code",
   "execution_count": 548,
   "source": [
    "# Plotar gráficos lado a lado\n",
    "plt.figure(figsize=(15, 5))\n",
    "\n",
    "cols_to_keep = corr_matrix.index[corr_matrix.abs()['current_price'] > 0.2]\n",
    "cols_to_keep = cols_to_keep.drop('current_price')  # Remover a coluna 'score' da lista\n",
    "X = df_encoded[cols_to_keep]  # Variáveis independentes\n",
    "y = df_encoded['current_price']\n",
    "\n",
    "poly = PolynomialFeatures(4)\n",
    "X_poly1 = poly.fit_transform(X)\n",
    "\n",
    "X_sm_poly1 = sm.add_constant(X_poly1)\n",
    "model_sm_poly1 = sm.OLS(y, X_sm_poly1).fit()\n",
    "\n",
    "adj_r_squared = model_sm_poly1.rsquared_adj\n",
    "f_statistic = model_sm_poly1.fvalue\n",
    "\n",
    "# Extrair e imprimir os valores-p\n",
    "print(f\"Resultados do Modelo - Grau {4}:\\n\")\n",
    "print(f\"R² Ajustado: {adj_r_squared}\")\n",
    "print(f\"F-Statistic: {f_statistic}\\n\")\n",
    "\n",
    "y_pred1 = model_sm_poly1.predict(X_sm_poly1)\n",
    "\n",
    "\n",
    "# Gráfico para o Modelo 1\n",
    "plt.subplot(1, 3, 1)  # 1 linha, 3 colunas, 1º gráfico\n",
    "plt.scatter(y, y_pred1)\n",
    "plt.xlabel('Valores Observados')\n",
    "plt.ylabel('Valores Previstos')\n",
    "plt.title('Modelo Grau 4')\n",
    "\n",
    "cols_to_keep = corr_matrix.index[corr_matrix.abs()['current_price'] > 0.27]\n",
    "cols_to_keep = cols_to_keep.drop('current_price')  # Remover a coluna 'score' da lista\n",
    "X = df_encoded[cols_to_keep]  # Variáveis independentes\n",
    "y = df_encoded['current_price']\n",
    "\n",
    "poly = PolynomialFeatures(1)\n",
    "X_poly2 = poly.fit_transform(X)\n",
    "\n",
    "X_sm_poly2 = sm.add_constant(X_poly2)\n",
    "model_sm_poly2 = sm.OLS(y, X_sm_poly2).fit()\n",
    "\n",
    "adj_r_squared = model_sm_poly2.rsquared_adj\n",
    "f_statistic = model_sm_poly2.fvalue\n",
    "\n",
    "# Extrair e imprimir os valores-p\n",
    "print(f\"Resultados do Modelo - Grau {1}:\\n\")\n",
    "print(f\"R² Ajustado: {adj_r_squared}\")\n",
    "print(f\"F-Statistic: {f_statistic}\\n\")\n",
    "\n",
    "y_pred2 = model_sm_poly2.predict(X_sm_poly2)\n",
    "\n",
    "# Gráfico para o Modelo 2\n",
    "plt.subplot(1, 3, 2)  # 1 linha, 3 colunas, 2º gráfico\n",
    "plt.scatter(y, y_pred2)\n",
    "plt.xlabel('Valores Observados')\n",
    "plt.ylabel('Valores Previstos')\n",
    "plt.title('Modelo Grau 1')\n",
    "\n",
    "\n",
    "poly = PolynomialFeatures(2)\n",
    "X_poly3 = poly.fit_transform(X)\n",
    "\n",
    "X_sm_poly3 = sm.add_constant(X_poly3)\n",
    "model_sm_poly3 = sm.OLS(y, X_sm_poly3).fit()\n",
    "\n",
    "adj_r_squared = model_sm_poly3.rsquared_adj\n",
    "f_statistic = model_sm_poly3.fvalue\n",
    "\n",
    "# Extrair e imprimir os valores-p\n",
    "print(f\"Resultados do Modelo - Grau {2}:\\n\")\n",
    "print(f\"R² Ajustado: {adj_r_squared}\")\n",
    "print(f\"F-Statistic: {f_statistic}\\n\")\n",
    "\n",
    "y_pred1 = model_sm_poly1.predict(X_sm_poly1)\n",
    "y_pred3 = model_sm_poly3.predict(X_sm_poly3)\n",
    "\n",
    "# Gráfico para o Modelo 3\n",
    "plt.subplot(1, 3, 3)  # 1 linha, 3 colunas, 3º gráfico\n",
    "plt.scatter(y, y_pred3)\n",
    "plt.xlabel('Valores Observados')\n",
    "plt.ylabel('Valores Previstos')\n",
    "plt.title('Modelo Grau 2')\n",
    "\n",
    "plt.tight_layout()\n",
    "plt.show()"
   ],
   "metadata": {
    "collapsed": false,
    "ExecuteTime": {
     "end_time": "2023-12-07T17:30:38.900779600Z",
     "start_time": "2023-12-07T17:30:38.210737900Z"
    }
   },
   "id": "8c262b45a6427569",
   "outputs": []
  },
  {
   "cell_type": "markdown",
   "source": [
    "## PUTZ estou Lascado, claramente tanto os dados, quanto os residuos seguem um padrão de heterocedasticidade\n",
    "##### quase todos os valores parecem agir de maneira categórica, podemos obeservar nas previsões e valores reais, que o preço\n",
    "##### parece se manter em regiões como 3000, 4000, 5000. O modelo não se adequa bem para esse tipo de dado, talvez seja melhor \n",
    "##### fazer um modelo logistico e tentar prever de maneira categórica."
   ],
   "metadata": {
    "collapsed": false
   },
   "id": "ec747a122fd2c7d9"
  },
  {
   "cell_type": "markdown",
   "source": [
    "## **TESTE DE PREVISÕES E RESÍDUOS** "
   ],
   "metadata": {
    "collapsed": false
   },
   "id": "e4ae1a904ea71482"
  },
  {
   "cell_type": "code",
   "execution_count": 549,
   "source": [
    "residuos1 = y - y_pred1\n",
    "residuos2 = y - y_pred2\n",
    "residuos3 = y - y_pred3\n",
    "# Modelo 1\n",
    "shapiro_test1 = stats.shapiro(residuos1)\n",
    "print(\"Shapiro-Wilk Modelo 1:\", shapiro_test1)\n",
    "\n",
    "# Modelo 2\n",
    "shapiro_test2 = stats.shapiro(residuos2)\n",
    "print(\"Shapiro-Wilk Modelo 2:\", shapiro_test2)\n",
    "\n",
    "# Modelo 3\n",
    "shapiro_test3 = stats.shapiro(residuos3)\n",
    "print(\"Shapiro-Wilk Modelo 3:\", shapiro_test3)"
   ],
   "metadata": {
    "collapsed": false,
    "ExecuteTime": {
     "end_time": "2023-12-07T17:30:38.934238800Z",
     "start_time": "2023-12-07T17:30:38.902780300Z"
    }
   },
   "id": "9cf1dcbd00e854f1",
   "outputs": []
  },
  {
   "cell_type": "code",
   "execution_count": 550,
   "source": [
    "# Modelo 1\n",
    "bp_test1 = sm.stats.diagnostic.het_breuschpagan(residuos1, model_sm_poly1.model.exog)\n",
    "print(\"Breusch-Pagan Modelo 1:\", bp_test1)\n",
    "\n",
    "# Modelo 2\n",
    "bp_test2 = sm.stats.diagnostic.het_breuschpagan(residuos2, model_sm_poly2.model.exog)\n",
    "print(\"Breusch-Pagan Modelo 2:\", bp_test2)\n",
    "\n",
    "# Modelo 3\n",
    "bp_test3 = sm.stats.diagnostic.het_breuschpagan(residuos3, model_sm_poly3.model.exog)\n",
    "print(\"Breusch-Pagan Modelo 3:\", bp_test3)"
   ],
   "metadata": {
    "collapsed": false,
    "ExecuteTime": {
     "end_time": "2023-12-07T17:30:39.165490800Z",
     "start_time": "2023-12-07T17:30:38.910218100Z"
    }
   },
   "id": "dc59021197b8f7cf",
   "outputs": []
  },
  {
   "cell_type": "markdown",
   "source": [],
   "metadata": {
    "collapsed": false
   },
   "id": "6208314aa8ee3732"
  },
  {
   "cell_type": "code",
   "execution_count": 551,
   "source": [
    "# Substitua 'caminho_para_salvar/arquivo.csv' pelo caminho e nome do arquivo desejado\n",
    "df_encoded.to_csv('arquivo.csv', index=False)\n"
   ],
   "metadata": {
    "collapsed": false,
    "ExecuteTime": {
     "end_time": "2023-12-07T17:30:58.648837500Z",
     "start_time": "2023-12-07T17:30:58.505504700Z"
    }
   },
   "id": "76463b8e887ccee6",
   "outputs": []
  },
  {
   "cell_type": "markdown",
   "source": [
    "Primeiramente vamos ver a distribuição de current_price, devia ter visto desde o início."
   ],
   "metadata": {
    "collapsed": false
   },
   "id": "31ab1889925c6c80"
  },
  {
   "cell_type": "code",
   "execution_count": 521,
   "source": [
    "plt.figure(figsize=(20, 10))\n",
    "df_encoded['current_price'].value_counts().sort_index().plot(kind='bar')\n",
    "plt.xlabel('Preço Atual')\n",
    "plt.ylabel('Contagem')\n",
    "plt.title('Distribuição de Current Price')\n",
    "plt.show()"
   ],
   "metadata": {
    "collapsed": false,
    "ExecuteTime": {
     "end_time": "2023-12-07T17:21:44.356383300Z",
     "start_time": "2023-12-07T17:21:43.522468200Z"
    }
   },
   "id": "cbda42e269737228",
   "outputs": []
  },
  {
   "cell_type": "markdown",
   "source": [
    "Podemos observar claramente que a distribuição dos valores se concentram em alguns valores, portanto estipulemos um número mínimo de ocorrências para\n",
    "fazer parte de uma coluna categorizada desses valores."
   ],
   "metadata": {
    "collapsed": false
   },
   "id": "cfca2d9a4862e06d"
  },
  {
   "cell_type": "code",
   "execution_count": 522,
   "source": [
    "bins = [0, 499, 999, 1499, 1999, 6000]\n",
    "labels = ['0-499', '500-999', '1000-1499', '1500-1999', '2000+']\n",
    "\n",
    "# Categorizando os preços\n",
    "df_encoded['current_price'] = pd.cut(df_encoded['current_price'], bins=bins, labels=labels, right=False)\n",
    "\n",
    "# Verificar a distribuição das novas categorias\n",
    "print(df_encoded['current_price'].value_counts())\n",
    "plt.figure(figsize=(20, 10))\n",
    "df_encoded['current_price'].value_counts().sort_index().plot(kind='bar')\n",
    "plt.xlabel('Preço Atual')\n",
    "plt.ylabel('Contagem')\n",
    "plt.title('Distribuição de Current Price')\n",
    "plt.show()"
   ],
   "metadata": {
    "collapsed": false,
    "ExecuteTime": {
     "end_time": "2023-12-07T17:21:52.114783500Z",
     "start_time": "2023-12-07T17:21:51.912596200Z"
    }
   },
   "id": "b5aa2bf16ab8b69",
   "outputs": []
  },
  {
   "cell_type": "markdown",
   "source": [
    "podemos testar o modelo logistico com esse número de categorias"
   ],
   "metadata": {
    "collapsed": false
   },
   "id": "740f509b256d5cb3"
  },
  {
   "cell_type": "code",
   "execution_count": 523,
   "source": [
    "df_encoded['current_price'] = df_encoded['current_price'].astype('category')\n",
    "df_encoded['current_price'].info()\n",
    "df_encoded['current_price'].nunique()"
   ],
   "metadata": {
    "collapsed": false,
    "ExecuteTime": {
     "end_time": "2023-12-07T17:22:50.248551400Z",
     "start_time": "2023-12-07T17:22:50.184694200Z"
    }
   },
   "id": "280c6d3346da2665",
   "outputs": []
  },
  {
   "cell_type": "code",
   "execution_count": 526,
   "source": [
    "cols_to_keep = corr_matrix.index[corr_matrix.abs()['current_price'] > 0.1]\n",
    "cols_to_keep = cols_to_keep.drop('current_price')  # Remover a coluna 'score' da lista\n",
    "X = df_encoded[cols_to_keep]  # Variáveis independentes\n",
    "y = df_encoded['current_price']\n",
    "\n",
    "# Adicionando uma constante ao modelo\n",
    "X = sm.add_constant(X)\n",
    "\n",
    "modelo_logistico_multinomial = sm.MNLogit(y, X).fit()\n",
    "\n",
    "# Exibir o sumário do modelo\n",
    "print(modelo_logistico_multinomial.summary())"
   ],
   "metadata": {
    "collapsed": false,
    "ExecuteTime": {
     "end_time": "2023-12-07T17:27:14.526380200Z",
     "start_time": "2023-12-07T17:27:14.186103700Z"
    }
   },
   "id": "216ccd179f83789f",
   "outputs": []
  },
  {
   "cell_type": "code",
   "execution_count": 492,
   "source": [
    "df_encoded[cols_to_keep].describe()"
   ],
   "metadata": {
    "collapsed": false,
    "ExecuteTime": {
     "end_time": "2023-12-07T17:05:51.318886200Z",
     "start_time": "2023-12-07T17:05:51.206330500Z"
    }
   },
   "id": "8dd0265081ac5d44",
   "outputs": []
  },
  {
   "cell_type": "code",
   "execution_count": 493,
   "source": [
    "for variavel in cols_to_keep:\n",
    "    # Calcular Q1 (25º percentil) e Q3 (75º percentil)\n",
    "    Q1 = df_encoded[variavel].quantile(0.25)\n",
    "    Q3 = df_encoded[variavel].quantile(0.75)\n",
    "\n",
    "    # Calcular o IQR (intervalo interquartil)\n",
    "    IQR = Q3 - Q1\n",
    "\n",
    "    # Definir limites para identificar outliers\n",
    "    limite_inferior = Q1 - 1.5 * IQR\n",
    "    limite_superior = Q3 + 1.5 * IQR\n",
    "\n",
    "    # Filtrar outliers\n",
    "    df_encoded = df_encoded[(df_encoded[variavel] >= limite_inferior) & (df_encoded[variavel] <= limite_superior)]\n",
    "\n",
    "# Verificar o resultado após a remoção de outliers\n",
    "print(df_encoded[cols_to_keep].describe())"
   ],
   "metadata": {
    "collapsed": false,
    "ExecuteTime": {
     "end_time": "2023-12-07T17:08:16.476560Z",
     "start_time": "2023-12-07T17:08:16.377906200Z"
    }
   },
   "id": "6587a2326b53eb1a",
   "outputs": []
  },
  {
   "cell_type": "code",
   "execution_count": 494,
   "source": [
    "X = df_encoded[cols_to_keep]  # Variáveis independentes\n",
    "y = df_encoded['current_price']\n",
    "\n",
    "# Adicionando uma constante ao modelo\n",
    "X = sm.add_constant(X)\n",
    "\n",
    "modelo_logistico_multinomial = sm.MNLogit(y, X).fit()\n",
    "\n",
    "# Exibir o sumário do modelo\n",
    "print(modelo_logistico_multinomial.summary())"
   ],
   "metadata": {
    "collapsed": false,
    "ExecuteTime": {
     "end_time": "2023-12-07T17:09:14.823819Z",
     "start_time": "2023-12-07T17:09:09.039374600Z"
    }
   },
   "id": "256c4248ba392a7f",
   "outputs": []
  },
  {
   "cell_type": "markdown",
   "source": [],
   "metadata": {
    "collapsed": false
   },
   "id": "d2e099aa5b588987"
  },
  {
   "cell_type": "markdown",
   "source": [],
   "metadata": {
    "collapsed": false
   },
   "id": "7450fddb44ae12c8"
  },
  {
   "cell_type": "markdown",
   "source": [],
   "metadata": {
    "collapsed": false
   },
   "id": "66997c79e002c7d5"
  },
  {
   "cell_type": "code",
   "execution_count": 496,
   "source": [
    "X_train, X_test, y_train, y_test = train_test_split(X, y, test_size=0.3, random_state=0)\n",
    "\n",
    "# Ajustar o modelo de regressão logística\n",
    "model = LogisticRegression(max_iter=1000)\n",
    "model.fit(X_train, y_train)\n",
    "\n",
    "# Avaliar o modelo\n",
    "predictions = model.predict(X_test)\n",
    "print(classification_report(y_test, predictions))"
   ],
   "metadata": {
    "collapsed": false,
    "ExecuteTime": {
     "end_time": "2023-12-07T17:11:56.308626700Z",
     "start_time": "2023-12-07T17:11:55.716282200Z"
    }
   },
   "id": "99ac5db6881b936c",
   "outputs": []
  },
  {
   "cell_type": "code",
   "execution_count": null,
   "source": [],
   "metadata": {
    "collapsed": false
   },
   "id": "e748391f6e717f7d",
   "outputs": []
  }
 ],
 "metadata": {
  "kernelspec": {
   "display_name": "Python 3",
   "language": "python",
   "name": "python3"
  },
  "language_info": {
   "codemirror_mode": {
    "name": "ipython",
    "version": 2
   },
   "file_extension": ".py",
   "mimetype": "text/x-python",
   "name": "python",
   "nbconvert_exporter": "python",
   "pygments_lexer": "ipython2",
   "version": "2.7.6"
  }
 },
 "nbformat": 4,
 "nbformat_minor": 5
}
