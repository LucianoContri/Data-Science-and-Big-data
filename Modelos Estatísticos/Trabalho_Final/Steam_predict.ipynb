{
 "cells": [
  {
   "cell_type": "markdown",
   "source": [
    "Predizendo Preço de games na Steam"
   ],
   "metadata": {
    "collapsed": false
   },
   "id": "1e026fd5b15cf92b"
  },
  {
   "cell_type": "code",
   "execution_count": 208,
   "id": "initial_id",
   "metadata": {
    "collapsed": true,
    "ExecuteTime": {
     "end_time": "2023-12-06T18:29:46.859209Z",
     "start_time": "2023-12-06T18:29:46.626191400Z"
    }
   },
   "source": [
    "import pandas as pd\n",
    "import seaborn as sns\n",
    "import matplotlib.pyplot as plt\n",
    "import statsmodels.api as sm\n",
    "from sklearn.preprocessing import MultiLabelBinarizer\n",
    "from sklearn.model_selection import train_test_split\n",
    "from sklearn.preprocessing import PolynomialFeatures\n",
    "from sklearn.linear_model import LinearRegression\n",
    "from sklearn.metrics import  mean_squared_error, mean_absolute_error\n",
    "import numpy as np\n"
   ],
   "outputs": []
  },
  {
   "cell_type": "code",
   "execution_count": 209,
   "source": [
    "df = pd.read_json('steamdb.json')\n",
    "df.head(10)"
   ],
   "metadata": {
    "collapsed": false,
    "ExecuteTime": {
     "end_time": "2023-12-06T18:29:48.579596900Z",
     "start_time": "2023-12-06T18:29:46.630207400Z"
    }
   },
   "id": "ce86d46f367710fc",
   "outputs": []
  },
  {
   "cell_type": "code",
   "execution_count": 210,
   "source": [
    "df.info()"
   ],
   "metadata": {
    "collapsed": false,
    "ExecuteTime": {
     "end_time": "2023-12-06T18:29:48.816874100Z",
     "start_time": "2023-12-06T18:29:48.579596900Z"
    }
   },
   "id": "5ae12623e10132bf",
   "outputs": []
  },
  {
   "cell_type": "markdown",
   "source": [
    "A base de dados têm bastante indices nulos e colunas que não nos dão muita informação como URL do game.\n",
    "Precisamos retirar itens chave e manter itens que possam ter alguma relevância mas não tenham tantos NaN."
   ],
   "metadata": {
    "collapsed": false
   },
   "id": "e6de68e222b9053d"
  },
  {
   "cell_type": "code",
   "execution_count": 211,
   "source": [
    "\n",
    "indices_to_drop = [1,2,4,5,6,7,8,9,11,14,15,16,17,18,19,24,26,27,28,30,32,33,36,37,38,39,40,41,42,43,44,45]\n",
    "\n",
    "# Obter os nomes das colunas correspondentes aos índices\n",
    "col_names_to_drop = df.columns[indices_to_drop]\n",
    "\n",
    "# Remover as colunas\n",
    "df = df.drop(columns=col_names_to_drop)"
   ],
   "metadata": {
    "collapsed": false,
    "ExecuteTime": {
     "end_time": "2023-12-06T18:29:48.842697200Z",
     "start_time": "2023-12-06T18:29:48.817875600Z"
    }
   },
   "id": "11f190fb1fab4ba0",
   "outputs": []
  },
  {
   "cell_type": "code",
   "execution_count": 212,
   "source": [
    "df.isna().sum()"
   ],
   "metadata": {
    "collapsed": false,
    "ExecuteTime": {
     "end_time": "2023-12-06T18:29:48.911022Z",
     "start_time": "2023-12-06T18:29:48.828178800Z"
    }
   },
   "id": "ccad3c203610552",
   "outputs": []
  },
  {
   "cell_type": "code",
   "execution_count": 213,
   "source": [
    "df.dropna().shape"
   ],
   "metadata": {
    "collapsed": false,
    "ExecuteTime": {
     "end_time": "2023-12-06T18:29:48.959443400Z",
     "start_time": "2023-12-06T18:29:48.879994600Z"
    }
   },
   "id": "2ec0aa4f510d8db5",
   "outputs": []
  },
  {
   "cell_type": "code",
   "execution_count": 214,
   "source": [
    "df.info()"
   ],
   "metadata": {
    "collapsed": false,
    "ExecuteTime": {
     "end_time": "2023-12-06T18:29:49.031184Z",
     "start_time": "2023-12-06T18:29:48.933017600Z"
    }
   },
   "id": "7c18a8856b93c2f3",
   "outputs": []
  },
  {
   "cell_type": "code",
   "execution_count": 215,
   "source": [
    "df.nunique()"
   ],
   "metadata": {
    "collapsed": false,
    "ExecuteTime": {
     "end_time": "2023-12-06T18:29:49.057643400Z",
     "start_time": "2023-12-06T18:29:48.988143600Z"
    }
   },
   "id": "5952192c23d558c",
   "outputs": []
  },
  {
   "cell_type": "markdown",
   "source": [
    "Podemos categorizar a dificuldade e tentar expandir os multivalorados 'categories' e 'tags'"
   ],
   "metadata": {
    "collapsed": false
   },
   "id": "34fcb1efa54f8c24"
  },
  {
   "cell_type": "code",
   "execution_count": 216,
   "source": [
    "df['gfq_difficulty'] = df['gfq_difficulty'].astype('category')\n",
    "\n",
    "df['name']=df['name'].astype('string')"
   ],
   "metadata": {
    "collapsed": false,
    "ExecuteTime": {
     "end_time": "2023-12-06T18:29:49.109637500Z",
     "start_time": "2023-12-06T18:29:49.058643800Z"
    }
   },
   "id": "a9e0bd4f8fe1d762",
   "outputs": []
  },
  {
   "cell_type": "code",
   "execution_count": 217,
   "source": [
    "df['genres'].unique()"
   ],
   "metadata": {
    "collapsed": false,
    "ExecuteTime": {
     "end_time": "2023-12-06T18:29:49.131659200Z",
     "start_time": "2023-12-06T18:29:49.083843400Z"
    }
   },
   "id": "c2a59b401cbef209",
   "outputs": []
  },
  {
   "cell_type": "markdown",
   "source": [],
   "metadata": {
    "collapsed": false
   },
   "id": "9934c5c87da66a79"
  },
  {
   "cell_type": "code",
   "execution_count": 218,
   "source": [
    "df['categories'] = df['categories'].apply(lambda x: x.split(',') if x is not None else [])\n",
    "df['genres'] = df['genres'].apply(lambda x: x.split(',') if x is not None else [])\n",
    "df['tags'] = df['tags'].apply(lambda x: x.split(',') if x is not None else [])\n",
    "df.head()"
   ],
   "metadata": {
    "collapsed": false,
    "ExecuteTime": {
     "end_time": "2023-12-06T18:29:49.218568700Z",
     "start_time": "2023-12-06T18:29:49.102631600Z"
    }
   },
   "id": "40d19b3480a1a328",
   "outputs": []
  },
  {
   "cell_type": "code",
   "execution_count": 219,
   "source": [
    "colunas_para_verificar = ['tags', 'categories', 'genres']\n",
    "\n",
    "# Contando valores únicos para cada coluna\n",
    "for coluna in colunas_para_verificar:\n",
    "    # Achatar a lista de listas\n",
    "    itens_achatados = [item for sublist in df[coluna].dropna() for item in sublist]\n",
    "\n",
    "    # Obter os valores únicos\n",
    "    itens_unicos = set(itens_achatados)\n",
    "\n",
    "    # Contar e exibir o número de itens únicos\n",
    "    print(f\"Número de itens únicos em '{coluna}': {len(itens_unicos)}\")"
   ],
   "metadata": {
    "collapsed": false,
    "ExecuteTime": {
     "end_time": "2023-12-06T18:29:49.367753500Z",
     "start_time": "2023-12-06T18:29:49.217567800Z"
    }
   },
   "id": "f88e087ed32dd837",
   "outputs": []
  },
  {
   "cell_type": "markdown",
   "source": [
    "Temos portanto um grande número de generos e categorias e ainda maior de tags. \n",
    "Expandir esses indices pode levar a um número muito extenso de colunas e valores para administrar, isso seria adequado para outros tipos de modelo, diferentes dos que estamos trabalhando na matéria. portanto vamos trabalhar apenas com as outras colunas."
   ],
   "metadata": {
    "collapsed": false
   },
   "id": "8ea077d2d733bcad"
  },
  {
   "cell_type": "code",
   "execution_count": 220,
   "source": [
    "# Instanciar o MultiLabelBinarizer para fazer o one-hot encoding\n",
    "combined_labels = df.apply(lambda x: set(x['categories'] + x['genres'] + x['tags']), axis=1)\n",
    "\n",
    "# Instanciar o MultiLabelBinarizer\n",
    "mlb = MultiLabelBinarizer()\n",
    "\n",
    "# Aplicar o one-hot encoding\n",
    "combined_encoded = pd.DataFrame(mlb.fit_transform(combined_labels), columns=mlb.classes_, index=df.index)\n",
    "\n",
    "# Concatenar com o DataFrame original\n",
    "df_encoded = pd.concat([df, combined_encoded], axis=1)\n",
    "\n",
    "df_encoded.shape"
   ],
   "metadata": {
    "collapsed": false,
    "ExecuteTime": {
     "end_time": "2023-12-06T18:29:50.168843200Z",
     "start_time": "2023-12-06T18:29:49.322206700Z"
    }
   },
   "id": "895269a0e2ad48fb",
   "outputs": []
  },
  {
   "cell_type": "code",
   "execution_count": 221,
   "source": [
    "df_encoded = df_encoded.dropna()\n",
    "df_encoded = df_encoded.drop(columns='full_price')\n",
    "df_encoded_1 = df_encoded.copy()\n",
    "df_encoded_1['Multi'] = df_encoded_1['Multi-player'] | df_encoded_1['Multiplayer']\n",
    "df_encoded_2 = df_encoded_1.drop(columns=['Multiplayer', 'Multi-player'])\n",
    "#df_encoded original com 2 colunas multiplayer\n",
    "#df_encoded_1 com 3 colunas multiplayer, adicionada uma coluna unificada com operador or\n",
    "#df_encoded_2 com 1 coluna multiplayer, deixando apenas a unificada"
   ],
   "metadata": {
    "collapsed": false,
    "ExecuteTime": {
     "end_time": "2023-12-06T18:29:54.811446200Z",
     "start_time": "2023-12-06T18:29:54.745292900Z"
    }
   },
   "id": "675e595857a071d0",
   "outputs": []
  },
  {
   "cell_type": "code",
   "execution_count": 222,
   "source": [
    "# Calcular a matriz de correlação\n",
    "corr_matrix = df_encoded.corr()\n",
    "cols_to_keep = corr_matrix.index[corr_matrix.abs()['current_price'] > 0.2]\n",
    "cols_to_keep = cols_to_keep.drop('current_price')  # Remover a coluna 'score' da lista\n",
    "X = df_encoded[cols_to_keep]  # Variáveis independentes\n",
    "y = df_encoded['current_price']       # Variável dependente\n",
    "X_sm = sm.add_constant(X)\n",
    "model_sm = sm.OLS(y, X_sm).fit()\n",
    "\n",
    "corr_matrix = df_encoded_1.corr()\n",
    "cols_to_keep = corr_matrix.index[corr_matrix.abs()['current_price'] > 0.2]\n",
    "cols_to_keep = cols_to_keep.drop('current_price')  # Remover a coluna 'score' da lista\n",
    "X = df_encoded_1[cols_to_keep]  # Variáveis independentes\n",
    "y = df_encoded_1['current_price']       # Variável dependente\n",
    "X_sm_1 = sm.add_constant(X)\n",
    "model_sm_1 = sm.OLS(y, X_sm_1).fit()\n",
    "\n",
    "corr_matrix = df_encoded_2.corr()\n",
    "cols_to_keep = corr_matrix.index[corr_matrix.abs()['current_price'] > 0.2]\n",
    "cols_to_keep = cols_to_keep.drop('current_price')  # Remover a coluna 'score' da lista\n",
    "X = df_encoded_2[cols_to_keep]  # Variáveis independentes\n",
    "y = df_encoded_2['current_price']       # Variável dependente\n",
    "X_sm_2 = sm.add_constant(X)\n",
    "model_sm_2 = sm.OLS(y, X_sm_2).fit()\n",
    "\n",
    "# Exibir o sumário do modelo\n",
    "print(model_sm.summary())\n",
    "print(model_sm_1.summary())\n",
    "print(model_sm_2.summary())"
   ],
   "metadata": {
    "collapsed": false,
    "ExecuteTime": {
     "end_time": "2023-12-06T18:29:59.851355300Z",
     "start_time": "2023-12-06T18:29:57.320468100Z"
    }
   },
   "id": "35ed9434e37e81d4",
   "outputs": []
  },
  {
   "cell_type": "code",
   "execution_count": 177,
   "source": [
    "corr_matrix = df_encoded.corr()\n",
    "\n",
    "# Filtrar colunas com correlação acima de um limiar (0.1 neste caso)\n",
    "# Verificar primeiro se as colunas estão presentes no DataFrame\n",
    "cols_to_keep = corr_matrix.columns[corr_matrix.abs()['current_price'] > 0.2]\n",
    "\n",
    "# Criar uma nova matriz de correlação apenas com as colunas filtradas\n",
    "filtered_corr_matrix = df_encoded[cols_to_keep].corr()\n",
    "\n",
    "# Usar seaborn para criar um heatmap da matriz de correlação filtrada\n",
    "plt.figure(figsize=(20, 20))\n",
    "sns.heatmap(filtered_corr_matrix, annot=True, fmt=\".2f\", cmap='bwr', center= 0.05)\n",
    "\n",
    "# Mostrar o gráfico\n",
    "plt.show()"
   ],
   "metadata": {
    "collapsed": false,
    "ExecuteTime": {
     "end_time": "2023-12-06T18:09:46.585846700Z",
     "start_time": "2023-12-06T18:09:45.181296500Z"
    }
   },
   "id": "51e5ab61e771884c",
   "outputs": []
  },
  {
   "cell_type": "code",
   "execution_count": 178,
   "source": [
    "# Calcular a matriz de correlação\n",
    "corr_matrix = df_encoded.corr()\n",
    "\n",
    "# Identificar colunas com correlação maior que 0.05 com a coluna 'score'\n",
    "cols_to_keep = corr_matrix.index[corr_matrix.abs()['current_price'] > 0.2]\n",
    "cols_to_keep = cols_to_keep.drop('current_price')  # Remover a coluna 'score' da lista\n",
    "\n",
    "# Preparar os dados\n",
    "X = df_encoded[cols_to_keep]  # Variáveis independentes\n",
    "y = df_encoded['current_price']       # Variável dependente\n",
    "\n",
    "# Dividir o conjunto de dados em treino e teste\n",
    "X_sm = sm.add_constant(X)\n",
    "\n",
    "# Construir e treinar o modelo\n",
    "model_sm = sm.OLS(y, X_sm).fit()\n",
    "\n",
    "# Exibir o sumário do modelo\n",
    "print(model_sm.summary())"
   ],
   "metadata": {
    "collapsed": false,
    "ExecuteTime": {
     "end_time": "2023-12-06T18:10:04.995313300Z",
     "start_time": "2023-12-06T18:10:04.100684600Z"
    }
   },
   "id": "f45cbe996c5d24ac",
   "outputs": []
  },
  {
   "cell_type": "code",
   "execution_count": 169,
   "source": [
    "print(df_encoded['Multi-player'].sum())\n",
    "print(df_encoded['Multiplayer'].sum())"
   ],
   "metadata": {
    "collapsed": false,
    "ExecuteTime": {
     "end_time": "2023-12-06T18:03:32.547856300Z",
     "start_time": "2023-12-06T18:03:32.486820800Z"
    }
   },
   "id": "3cce710eabd5575",
   "outputs": []
  },
  {
   "cell_type": "code",
   "execution_count": 170,
   "source": [
    "df_encoded['Multi'] = df_encoded['Multi-player'] | df_encoded['Multiplayer']"
   ],
   "metadata": {
    "collapsed": false,
    "ExecuteTime": {
     "end_time": "2023-12-06T18:05:53.973729100Z",
     "start_time": "2023-12-06T18:05:53.921463800Z"
    }
   },
   "id": "d904bffec3e41fae",
   "outputs": []
  },
  {
   "cell_type": "code",
   "execution_count": 171,
   "source": [
    "corr_matrix = df_encoded.corr()\n",
    "\n",
    "# Identificar colunas com correlação maior que 0.05 com a coluna 'score'\n",
    "cols_to_keep = corr_matrix.index[corr_matrix.abs()['current_price'] > 0.2]\n",
    "cols_to_keep = cols_to_keep.drop('current_price')  # Remover a coluna 'score' da lista\n",
    "\n",
    "# Preparar os dados\n",
    "X = df_encoded[cols_to_keep]  # Variáveis independentes\n",
    "y = df_encoded['current_price']       # Variável dependente\n",
    "\n",
    "# Dividir o conjunto de dados em treino e teste\n",
    "X_sm = sm.add_constant(X)\n",
    "\n",
    "# Construir e treinar o modelo\n",
    "model_sm = sm.OLS(y, X_sm).fit()\n",
    "\n",
    "# Exibir o sumário do modelo\n",
    "print(model_sm.summary())"
   ],
   "metadata": {
    "collapsed": false,
    "ExecuteTime": {
     "end_time": "2023-12-06T18:06:08.056397Z",
     "start_time": "2023-12-06T18:06:07.151432700Z"
    }
   },
   "id": "dddc506189d7145e",
   "outputs": []
  },
  {
   "cell_type": "markdown",
   "source": [],
   "metadata": {
    "collapsed": false
   },
   "id": "7450fddb44ae12c8"
  },
  {
   "cell_type": "code",
   "execution_count": 70,
   "source": [
    "df = df.drop(columns=['tags','categories', 'genres'])\n",
    "df = df.dropna()\n",
    "df.info()"
   ],
   "metadata": {
    "collapsed": false,
    "ExecuteTime": {
     "end_time": "2023-12-06T16:21:19.239097400Z",
     "start_time": "2023-12-06T16:21:19.225320100Z"
    }
   },
   "id": "8957cccbaa20e280",
   "outputs": []
  },
  {
   "cell_type": "code",
   "execution_count": null,
   "source": [],
   "metadata": {
    "collapsed": false
   },
   "id": "dcd3a3f8572b6eb6",
   "outputs": []
  },
  {
   "cell_type": "code",
   "execution_count": 72,
   "source": [
    "corr_matrix = df.corr()\n",
    "\n",
    "# Usar seaborn para criar um heatmap (mapa de calor) da matriz de correlação\n",
    "plt.figure(figsize=(10, 10))  # Ajustar o tamanho da figura\n",
    "sns.heatmap(corr_matrix, annot=True, fmt=\".2f\", cmap='coolwarm')\n",
    "\n",
    "# Mostrar o gráfico\n",
    "plt.show()"
   ],
   "metadata": {
    "collapsed": false,
    "ExecuteTime": {
     "end_time": "2023-12-06T16:23:04.678497Z",
     "start_time": "2023-12-06T16:23:04.314982800Z"
    }
   },
   "id": "a7fdced68593987b",
   "outputs": []
  },
  {
   "cell_type": "code",
   "execution_count": null,
   "source": [
    "\n",
    "\n",
    "# Instanciar o MultiLabelBinarizer para fazer o one-hot encoding\n",
    "mlb = MultiLabelBinarizer()\n",
    "\n",
    "# Aplicar o one-hot encoding\n",
    "tags_encoded = pd.DataFrame(mlb.fit_transform(df['tags']), columns=mlb.classes_, index=df.index)\n",
    "\n",
    "# Concatenar com o DataFrame original (se necessário)\n",
    "df_encoded = pd.concat([df, tags_encoded], axis=1)\n",
    "df_encoded.shape"
   ],
   "metadata": {
    "collapsed": false
   },
   "id": "5212ef8bb35353a1",
   "outputs": []
  },
  {
   "cell_type": "code",
   "execution_count": null,
   "source": [
    "df['categories'] = df['categories'].apply(lambda x: x.split(',') if x is not None else [])\n",
    "\n",
    "# Instanciar o MultiLabelBinarizer para fazer o one-hot encoding\n",
    "mlb = MultiLabelBinarizer()\n",
    "\n",
    "# Aplicar o one-hot encoding\n",
    "tags_encoded = pd.DataFrame(mlb.fit_transform(df['categories']), columns=mlb.classes_, index=df.index)\n",
    "\n",
    "# Concatenar com o DataFrame original (se necessário)\n",
    "df_encoded = pd.concat([df, tags_encoded], axis=1)\n",
    "df_encoded.shape"
   ],
   "metadata": {
    "collapsed": false
   },
   "id": "b2ee47e46f7df881",
   "outputs": []
  },
  {
   "cell_type": "markdown",
   "source": [
    "O tamanho do"
   ],
   "metadata": {
    "collapsed": false
   },
   "id": "1ddd10011ada5aab"
  },
  {
   "cell_type": "code",
   "execution_count": 15,
   "source": [
    "df_clean = df.dropna()\n",
    "df_clean.info()"
   ],
   "metadata": {
    "collapsed": false,
    "ExecuteTime": {
     "end_time": "2023-12-06T15:07:15.275234Z",
     "start_time": "2023-12-06T15:07:15.259893900Z"
    }
   },
   "id": "c07cf1e8cfc0e85f",
   "outputs": []
  },
  {
   "cell_type": "markdown",
   "source": [
    "#multivalorado\n",
    "for i in [15,18,19,20,22]:\n",
    "\n",
    "#categorizar\n",
    "for i in [21, 25]:"
   ],
   "metadata": {
    "collapsed": false
   },
   "id": "b63910d683871efd"
  },
  {
   "cell_type": "code",
   "execution_count": 17,
   "source": [
    "\n",
    "\n",
    "df['categories'] = df['categories'].apply(lambda x: x.split(',') if x is not None else [])\n",
    "\n",
    "# Instanciar o MultiLabelBinarizer para fazer o one-hot encoding\n",
    "mlb = MultiLabelBinarizer()\n",
    "\n",
    "# Aplicar o one-hot encoding\n",
    "tags_encoded = pd.DataFrame(mlb.fit_transform(df['categories']), columns=mlb.classes_, index=df.index)\n",
    "\n",
    "# Concatenar com o DataFrame original (se necessário)\n",
    "df_encoded = pd.concat([df, tags_encoded], axis=1)\n",
    "df_encoded.shape"
   ],
   "metadata": {
    "collapsed": false,
    "ExecuteTime": {
     "end_time": "2023-12-06T15:08:07.780205200Z",
     "start_time": "2023-12-06T15:08:07.598456800Z"
    }
   },
   "id": "b1dae97fd48b4fea",
   "outputs": []
  },
  {
   "cell_type": "code",
   "execution_count": 19,
   "source": [
    "df_encoded.columns"
   ],
   "metadata": {
    "collapsed": false,
    "ExecuteTime": {
     "end_time": "2023-12-06T15:08:39.432083700Z",
     "start_time": "2023-12-06T15:08:39.401473400Z"
    }
   },
   "id": "f2c8443cb1999b3",
   "outputs": []
  },
  {
   "cell_type": "code",
   "execution_count": null,
   "source": [],
   "metadata": {
    "collapsed": false
   },
   "id": "99ac5db6881b936c",
   "outputs": []
  }
 ],
 "metadata": {
  "kernelspec": {
   "display_name": "Python 3",
   "language": "python",
   "name": "python3"
  },
  "language_info": {
   "codemirror_mode": {
    "name": "ipython",
    "version": 2
   },
   "file_extension": ".py",
   "mimetype": "text/x-python",
   "name": "python",
   "nbconvert_exporter": "python",
   "pygments_lexer": "ipython2",
   "version": "2.7.6"
  }
 },
 "nbformat": 4,
 "nbformat_minor": 5
}
