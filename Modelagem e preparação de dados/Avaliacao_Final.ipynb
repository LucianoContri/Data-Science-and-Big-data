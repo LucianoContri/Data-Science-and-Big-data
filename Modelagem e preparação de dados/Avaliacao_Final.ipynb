{
 "cells": [
  {
   "attachments": {},
   "cell_type": "markdown",
   "metadata": {},
   "source": [
    "## PUC Minas\n",
    "### Pós-Graduação em Ciência de Dados e Big Data\n",
    "#### Avaliação Final - Modelagem e Preparação de Dados para Aprendizado de Máquina"
   ]
  },
  {
   "cell_type": "markdown",
   "metadata": {},
   "source": [
    "**Aluno(s):**"
   ]
  },
  {
   "cell_type": "code",
   "metadata": {
    "ExecuteTime": {
     "end_time": "2024-05-20T18:57:30.175973Z",
     "start_time": "2024-05-20T18:57:30.160405Z"
    }
   },
   "source": "# Luciano Augusto Scherer Contri",
   "execution_count": 2,
   "outputs": []
  },
  {
   "cell_type": "markdown",
   "metadata": {},
   "source": [
    "### Base de Dados"
   ]
  },
  {
   "cell_type": "markdown",
   "metadata": {},
   "source": [
    "**Descriçao de Atributos**\n",
    "\n",
    "- age: idade\n",
    "- workclass: classe de trabalho\n",
    "- education: nível educacional\n",
    "- education-num: anos de educação\n",
    "- marital-status: estado civil\n",
    "- occupation: profissão\n",
    "- race: etnia\n",
    "- sex: gênero\n",
    "- capital-gain: ganho de capital\n",
    "- capital-loss: perda de capital\n",
    "- hours-per-week: horas de trabalho por semana\n",
    "- native-country: país de origem\n",
    "\n",
    "**Contexto dos Dados**\n",
    "\n",
    "O dataset apresenta dados de um problema de classificação onde o objetivo é prever se a pessoa da observação ganha mais de 50k dólares por ano ou não."
   ]
  },
  {
   "cell_type": "markdown",
   "metadata": {},
   "source": [
    "## Atividades"
   ]
  },
  {
   "cell_type": "markdown",
   "metadata": {},
   "source": [
    "**Dados**"
   ]
  },
  {
   "cell_type": "code",
   "metadata": {
    "ExecuteTime": {
     "end_time": "2024-05-20T18:57:30.479995Z",
     "start_time": "2024-05-20T18:57:30.464445Z"
    }
   },
   "source": [
    "# Carregue o dataset fornecido ('adult_final.csv')"
   ],
   "execution_count": 3,
   "outputs": []
  },
  {
   "metadata": {
    "ExecuteTime": {
     "end_time": "2024-05-20T18:57:30.578994Z",
     "start_time": "2024-05-20T18:57:30.499916Z"
    }
   },
   "cell_type": "code",
   "source": [
    "import pandas as pd\n",
    "\n",
    "adult_final = pd.read_csv('../../Datasets/adult_final.csv', sep=',')\n",
    "adult_final"
   ],
   "execution_count": 4,
   "outputs": []
  },
  {
   "cell_type": "markdown",
   "metadata": {},
   "source": [
    "**1. Apresente o tipo das variáveis.**"
   ]
  },
  {
   "cell_type": "code",
   "metadata": {
    "ExecuteTime": {
     "end_time": "2024-05-20T18:57:30.600580Z",
     "start_time": "2024-05-20T18:57:30.586996Z"
    }
   },
   "source": "adult_final.dtypes",
   "execution_count": 5,
   "outputs": []
  },
  {
   "cell_type": "markdown",
   "metadata": {},
   "source": [
    "**2.Apresente de forma gráfica e numérica a análise exploratória das variáveis _education_ e _race_.**"
   ]
  },
  {
   "cell_type": "code",
   "metadata": {
    "ExecuteTime": {
     "end_time": "2024-05-20T18:57:30.931781Z",
     "start_time": "2024-05-20T18:57:30.618714Z"
    }
   },
   "source": "adult_final['education'].value_counts().plot(kind='bar')",
   "execution_count": 6,
   "outputs": []
  },
  {
   "metadata": {
    "ExecuteTime": {
     "end_time": "2024-05-20T18:57:30.939678Z",
     "start_time": "2024-05-20T18:57:30.933289Z"
    }
   },
   "cell_type": "code",
   "source": [
    "# porcentagem \n",
    "adult_final['education'].value_counts(normalize=True) * 100"
   ],
   "execution_count": 7,
   "outputs": []
  },
  {
   "metadata": {
    "ExecuteTime": {
     "end_time": "2024-05-20T18:57:31.083025Z",
     "start_time": "2024-05-20T18:57:30.939678Z"
    }
   },
   "cell_type": "code",
   "source": "adult_final['race'].value_counts().plot(kind='bar')",
   "execution_count": 8,
   "outputs": []
  },
  {
   "metadata": {
    "ExecuteTime": {
     "end_time": "2024-05-20T18:57:31.090992Z",
     "start_time": "2024-05-20T18:57:31.083025Z"
    }
   },
   "cell_type": "code",
   "source": [
    "# porcentagem\n",
    "adult_final['race'].value_counts(normalize=True) * 100"
   ],
   "execution_count": 9,
   "outputs": []
  },
  {
   "cell_type": "markdown",
   "metadata": {},
   "source": [
    "**3. Apresente as métricas estatísticas (média, moda, etc.) e histograma das variáveis _age_ e _hours-per-week_.**"
   ]
  },
  {
   "cell_type": "code",
   "metadata": {
    "ExecuteTime": {
     "end_time": "2024-05-20T18:57:31.102483Z",
     "start_time": "2024-05-20T18:57:31.090992Z"
    }
   },
   "source": [
    "# agregações\n",
    "adult_final.agg({'age': ['mean', 'median', 'std', 'var', 'min', 'max'],\n",
    "                 'hours-per-week': ['mean', 'median', 'std', 'var', 'min', 'max']})"
   ],
   "execution_count": 10,
   "outputs": []
  },
  {
   "cell_type": "markdown",
   "metadata": {},
   "source": [
    "**4. Apresente 2 análises multivaridas entre variáveis a sua escolha.**"
   ]
  },
  {
   "metadata": {
    "ExecuteTime": {
     "end_time": "2024-05-20T18:57:31.115457Z",
     "start_time": "2024-05-20T18:57:31.102483Z"
    }
   },
   "cell_type": "code",
   "source": [
    "# média de idade por classe de trabalho\n",
    "adult_final.groupby('workclass')[['capital-gain', 'age']].mean().sort_values(by='age')"
   ],
   "execution_count": 11,
   "outputs": []
  },
  {
   "metadata": {
    "ExecuteTime": {
     "end_time": "2024-05-20T18:57:31.271059Z",
     "start_time": "2024-05-20T18:57:31.254836Z"
    }
   },
   "cell_type": "code",
   "source": "adult_final.groupby('occupation')['capital-gain'].mean().sort_values()",
   "execution_count": 12,
   "outputs": []
  },
  {
   "metadata": {
    "ExecuteTime": {
     "end_time": "2024-05-20T18:57:31.334080Z",
     "start_time": "2024-05-20T18:57:31.323050Z"
    }
   },
   "cell_type": "code",
   "source": [
    "# workclass por média de idade\n",
    "adult_final.groupby('workclass')['age'].mean().sort_values()"
   ],
   "execution_count": 13,
   "outputs": []
  },
  {
   "cell_type": "code",
   "metadata": {
    "ExecuteTime": {
     "end_time": "2024-05-20T18:57:31.419936Z",
     "start_time": "2024-05-20T18:57:31.402568Z"
    }
   },
   "source": "adult_final.groupby('native-country')['education-num'].mean().sort_values()",
   "execution_count": 14,
   "outputs": []
  },
  {
   "cell_type": "markdown",
   "metadata": {},
   "source": [
    "**5. Apresente a soma de _NaN_ de cada coluna da base de dados.**"
   ]
  },
  {
   "cell_type": "code",
   "metadata": {
    "ExecuteTime": {
     "end_time": "2024-05-20T18:57:31.524463Z",
     "start_time": "2024-05-20T18:57:31.480697Z"
    }
   },
   "source": "adult_final.isna().sum()",
   "execution_count": 15,
   "outputs": []
  },
  {
   "cell_type": "markdown",
   "metadata": {},
   "source": [
    "**6. Trate os _NaN_ de todas as colunas como achar conveniente (explique). Em seguida, mostre que nenhuma coluna apresenta _NaN_ ao final do processo.**"
   ]
  },
  {
   "metadata": {},
   "cell_type": "markdown",
   "source": "##### tratamento de NaN workclass"
  },
  {
   "metadata": {
    "ExecuteTime": {
     "end_time": "2024-05-20T18:57:31.708052Z",
     "start_time": "2024-05-20T18:57:31.684953Z"
    }
   },
   "cell_type": "code",
   "source": [
    "# capturando o index de um null para verificar o resultado posterior\n",
    "index_nan = adult_final[adult_final['workclass'].isna()].index\n",
    "\n",
    "# observar um exemplo de linha com NaN\n",
    "adult_final.loc[index_nan].head(5)"
   ],
   "execution_count": 16,
   "outputs": []
  },
  {
   "metadata": {
    "ExecuteTime": {
     "end_time": "2024-05-20T18:57:32.946424Z",
     "start_time": "2024-05-20T18:57:31.716558Z"
    }
   },
   "cell_type": "code",
   "source": [
    "# substituindo os valores NaN para cada coluna\n",
    "\n",
    "# Calcula a média de idade para cada categoria de workclass\n",
    "mean_age_by_workclass = adult_final.groupby('workclass')['age'].mean()\n",
    "\n",
    "\n",
    "# Função para encontrar a workclass com a média de idade mais próxima\n",
    "def find_closest_workclass_age(mean_age_by_workclass, age):\n",
    "    closest_workclass = None\n",
    "    min_distance = float('inf')\n",
    "    for workclass, mean_age in mean_age_by_workclass.items():\n",
    "        distance = abs(mean_age - age)\n",
    "        if distance < min_distance:\n",
    "            min_distance = distance\n",
    "            closest_workclass = workclass\n",
    "    return closest_workclass\n",
    "\n",
    "\n",
    "# Preenche os valores nulos na coluna 'workclass' com a workclass correspondente à média de idade mais próxima\n",
    "for index, row in adult_final.iterrows():\n",
    "    if pd.isnull(row['workclass']):\n",
    "        closest_workclass = find_closest_workclass_age(mean_age_by_workclass, row['age'])\n",
    "        adult_final.at[index, 'workclass'] = closest_workclass\n",
    "\n",
    "# observaros antigos NaN\n",
    "adult_final.loc[index_nan].head(5)"
   ],
   "execution_count": 17,
   "outputs": []
  },
  {
   "metadata": {},
   "cell_type": "markdown",
   "source": "Todos os valores NaN foram substituídos pela classe de trabalho com a média de idade mais próxima."
  },
  {
   "metadata": {},
   "cell_type": "markdown",
   "source": "##### tratamento de NaN occupation"
  },
  {
   "metadata": {
    "ExecuteTime": {
     "end_time": "2024-05-20T18:57:32.958468Z",
     "start_time": "2024-05-20T18:57:32.946424Z"
    }
   },
   "cell_type": "code",
   "source": [
    "# capturando o index de um null para verificar o resultado posterior\n",
    "index_nan = adult_final[adult_final['occupation'].isna()].index\n",
    "\n",
    "# observar um exemplo de linha com NaN\n",
    "adult_final.loc[index_nan].head(5)"
   ],
   "execution_count": 18,
   "outputs": []
  },
  {
   "metadata": {
    "ExecuteTime": {
     "end_time": "2024-05-20T18:57:34.188593Z",
     "start_time": "2024-05-20T18:57:32.958468Z"
    }
   },
   "cell_type": "code",
   "source": [
    "# Calcula a média de idade para cada categoria de workclass\n",
    "mean_capital_gain_by_occupation = adult_final.groupby('occupation')['capital-gain'].mean()\n",
    "\n",
    "\n",
    "def find_closest_occupation_capital_gain(mean_capital_gain_by_occupation, capital_gain):\n",
    "    closest_occupation = None\n",
    "    min_distance = float('inf')\n",
    "    for occupation, mean_capital_gain in mean_capital_gain_by_occupation.items():\n",
    "        distance = abs(mean_capital_gain - capital_gain)\n",
    "        if distance < min_distance:\n",
    "            min_distance = distance\n",
    "            closest_occupation = occupation\n",
    "    return closest_occupation\n",
    "\n",
    "\n",
    "# Preenche os valores nulos na coluna 'occupation' com a occupation correspondente ao ganho de capital mais próximo\n",
    "for index, row in adult_final.iterrows():\n",
    "    if pd.isnull(row['occupation']):\n",
    "        closest_occupation = find_closest_occupation_capital_gain(mean_capital_gain_by_occupation, row['capital-gain'])\n",
    "        adult_final.at[index, 'occupation'] = closest_occupation\n"
   ],
   "execution_count": 19,
   "outputs": []
  },
  {
   "metadata": {
    "ExecuteTime": {
     "end_time": "2024-05-20T18:57:34.198745Z",
     "start_time": "2024-05-20T18:57:34.188593Z"
    }
   },
   "cell_type": "code",
   "source": [
    "# observar os antigos NaN\n",
    "adult_final.loc[index_nan].head(5)"
   ],
   "execution_count": 20,
   "outputs": []
  },
  {
   "metadata": {},
   "cell_type": "markdown",
   "source": "Todos os valores NaN foram substituídos pela ocupação com o ganho de capital médio por ocupação mais próximo."
  },
  {
   "metadata": {
    "ExecuteTime": {
     "end_time": "2024-05-20T18:57:34.233270Z",
     "start_time": "2024-05-20T18:57:34.198745Z"
    }
   },
   "cell_type": "code",
   "source": "adult_final.isna().sum()",
   "execution_count": 21,
   "outputs": []
  },
  {
   "metadata": {},
   "cell_type": "markdown",
   "source": [
    "##### tratamento de NaN native-country\n",
    "\n",
    "Eu não vejo muita utilidade em preencher os valores NaN da coluna 'native-country' com base em outras colunas, pois o numero de valores NaN é muito pequeno em relação ao total de registros. Portanto prefiro remover esses registros."
   ]
  },
  {
   "metadata": {
    "ExecuteTime": {
     "end_time": "2024-05-20T18:57:34.301548Z",
     "start_time": "2024-05-20T18:57:34.233270Z"
    }
   },
   "cell_type": "code",
   "source": [
    "adult_final.dropna(inplace=True)\n",
    "adult_final.isna().sum()"
   ],
   "execution_count": 22,
   "outputs": []
  },
  {
   "metadata": {
    "ExecuteTime": {
     "end_time": "2024-05-20T18:57:34.306162Z",
     "start_time": "2024-05-20T18:57:34.301548Z"
    }
   },
   "cell_type": "code",
   "source": "adult_final.shape",
   "execution_count": 23,
   "outputs": []
  },
  {
   "cell_type": "markdown",
   "metadata": {},
   "source": [
    "**7. Aplique _Ordinal Encoding_ em uma variável categórica ordinal.**"
   ]
  },
  {
   "cell_type": "code",
   "metadata": {
    "ExecuteTime": {
     "end_time": "2024-05-20T18:57:34.594221Z",
     "start_time": "2024-05-20T18:57:34.306162Z"
    }
   },
   "source": [
    "# ordinal encoding na coluna 'education'\n",
    "from sklearn.preprocessing import OrdinalEncoder\n",
    "\n",
    "adult_final['education'] = OrdinalEncoder().fit_transform(adult_final[['education']])\n",
    "adult_final['education']"
   ],
   "execution_count": 24,
   "outputs": []
  },
  {
   "cell_type": "markdown",
   "metadata": {},
   "source": [
    "**8. Aplique _One Hot Encoding_ em uma variável categórica nominal.**"
   ]
  },
  {
   "cell_type": "code",
   "metadata": {
    "ExecuteTime": {
     "end_time": "2024-05-20T18:57:34.608316Z",
     "start_time": "2024-05-20T18:57:34.594221Z"
    }
   },
   "source": [
    "# categorias nominais: workclass, occupation e native-country\n",
    "\n",
    "# one hot encoding na coluna 'workclass'\n",
    "adult_final = pd.get_dummies(adult_final, columns=['workclass'])"
   ],
   "execution_count": 25,
   "outputs": []
  },
  {
   "metadata": {
    "ExecuteTime": {
     "end_time": "2024-05-20T18:57:34.623220Z",
     "start_time": "2024-05-20T18:57:34.608316Z"
    }
   },
   "cell_type": "code",
   "source": "adult_final",
   "execution_count": 26,
   "outputs": []
  },
  {
   "cell_type": "markdown",
   "metadata": {},
   "source": [
    "**9. Aplique uma técnica de _oversampling_ (classe minoritária) e uma de _undersampling_ (classe majoritária). Apresente a mudança de volumetria (antes e depois). Se necessário, lembre-se de tratar as variáveis categóricas de forma adequada caso deseje usar um método mais robusto (SMOTE, por exemplo). Se for o caso, utilize PCA para visualizar os dados de forma bidimensional (antes e depois da amostragem).**"
   ]
  },
  {
   "metadata": {
    "ExecuteTime": {
     "end_time": "2024-05-20T18:57:34.631936Z",
     "start_time": "2024-05-20T18:57:34.623220Z"
    }
   },
   "cell_type": "code",
   "source": [
    "# tratamento de variáveis categóricas\n",
    "\n",
    "# one hot encoding nas colunas restantes menos a coluna target\n",
    "cat_columns = adult_final.select_dtypes(include=['object']).columns\n",
    "cat_columns = cat_columns.drop('target')\n",
    "cat_columns"
   ],
   "execution_count": 27,
   "outputs": []
  },
  {
   "metadata": {
    "ExecuteTime": {
     "end_time": "2024-05-20T18:57:34.664701Z",
     "start_time": "2024-05-20T18:57:34.631936Z"
    }
   },
   "cell_type": "code",
   "source": [
    "adult_final = pd.get_dummies(adult_final, columns=cat_columns)\n",
    "# coluna target para numérico\n",
    "adult_final['target'] = adult_final['target'].map({'<=50K': 0, '>50K': 1})"
   ],
   "execution_count": 28,
   "outputs": []
  },
  {
   "metadata": {
    "ExecuteTime": {
     "end_time": "2024-05-20T18:57:34.671219Z",
     "start_time": "2024-05-20T18:57:34.664701Z"
    }
   },
   "cell_type": "code",
   "source": "adult_final.dtypes.value_counts()",
   "execution_count": 29,
   "outputs": []
  },
  {
   "metadata": {},
   "cell_type": "markdown",
   "source": "Gerar um Dataset balanceado com oversampling e outro com undersampling"
  },
  {
   "metadata": {
    "ExecuteTime": {
     "end_time": "2024-05-20T18:57:34.678036Z",
     "start_time": "2024-05-20T18:57:34.671219Z"
    }
   },
   "cell_type": "code",
   "source": "adult_final['target'].value_counts()",
   "execution_count": 30,
   "outputs": []
  },
  {
   "metadata": {},
   "cell_type": "markdown",
   "source": [
    "##### Oversampling com SMOTE\n",
    "\n",
    "Smote é uma técnica de oversampling que cria novos registros sintéticos da classe minoritária. Temos 24283 registros da classe <=50K e 7695 registros da classe >50K. Portanto, o smote gerará 16588 registros sintéticos da classe >50K para igualar o número de registros da classe <=50K."
   ]
  },
  {
   "metadata": {
    "ExecuteTime": {
     "end_time": "2024-05-20T18:57:35.518121Z",
     "start_time": "2024-05-20T18:57:34.678036Z"
    }
   },
   "cell_type": "code",
   "source": [
    "from imblearn.over_sampling import SMOTE\n",
    "\n",
    "smote = SMOTE()\n",
    "X = adult_final.drop('target', axis=1)\n",
    "y = adult_final['target']\n",
    "\n",
    "X_smote, y_smote = smote.fit_resample(X, y)"
   ],
   "execution_count": 31,
   "outputs": []
  },
  {
   "metadata": {
    "ExecuteTime": {
     "end_time": "2024-05-20T18:57:35.529997Z",
     "start_time": "2024-05-20T18:57:35.518121Z"
    }
   },
   "cell_type": "code",
   "source": [
    "# juntando os resultados do SMOTE\n",
    "adult_final_smote = pd.concat([X_smote, y_smote], axis=1)\n",
    "adult_final_smote['target'].value_counts()"
   ],
   "execution_count": 32,
   "outputs": []
  },
  {
   "metadata": {},
   "cell_type": "markdown",
   "source": [
    "##### Undersampling com RandomUnderSampler\n",
    "\n",
    "RandomUnderSampler é uma técnica de undersampling que remove registros aleatórios da classe majoritária. Temos 24283 registros da classe <=50K e 7695 registros da classe >50K. Portanto, o RandomUnderSampler removerá 16588 registros da classe <=50K para igualar o número de registros da classe >50K."
   ]
  },
  {
   "metadata": {
    "ExecuteTime": {
     "end_time": "2024-05-20T18:57:35.555813Z",
     "start_time": "2024-05-20T18:57:35.529997Z"
    }
   },
   "cell_type": "code",
   "source": [
    "from imblearn.under_sampling import RandomUnderSampler\n",
    "\n",
    "rus = RandomUnderSampler(sampling_strategy='auto')\n",
    "X_rus, y_rus = rus.fit_resample(X, y)"
   ],
   "execution_count": 33,
   "outputs": []
  },
  {
   "metadata": {
    "ExecuteTime": {
     "end_time": "2024-05-20T18:57:35.564328Z",
     "start_time": "2024-05-20T18:57:35.555813Z"
    }
   },
   "cell_type": "code",
   "source": [
    "# juntando os resultados do RandomUnderSampler\n",
    "adult_final_rus = pd.concat([X_rus, y_rus], axis=1)\n",
    "adult_final_rus['target'].value_counts()"
   ],
   "execution_count": 34,
   "outputs": []
  },
  {
   "metadata": {},
   "cell_type": "markdown",
   "source": "##### PCA para visualização dos dados"
  },
  {
   "metadata": {
    "ExecuteTime": {
     "end_time": "2024-05-20T19:11:16.332566Z",
     "start_time": "2024-05-20T19:11:15.761088Z"
    }
   },
   "cell_type": "code",
   "source": [
    "from sklearn.preprocessing import StandardScaler\n",
    "# PCA para visualização dos dados\n",
    "\n",
    "from sklearn.decomposition import PCA\n",
    "\n",
    "pca = PCA(n_components=2)\n",
    "scaler = StandardScaler()\n",
    "X_scaled = scaler.fit_transform(X)\n",
    "X_scaled_smote = scaler.fit_transform(X_smote)\n",
    "x_scaled_rus = scaler.fit_transform(X_rus)\n",
    "\n",
    "X_pca = pca.fit_transform(X_scaled)\n",
    "X_smote_pca = pca.fit_transform(X_scaled_smote)\n",
    "X_rus_pca = pca.fit_transform(x_scaled_rus)"
   ],
   "execution_count": 43,
   "outputs": []
  },
  {
   "metadata": {
    "ExecuteTime": {
     "end_time": "2024-05-20T19:11:17.136706Z",
     "start_time": "2024-05-20T19:11:17.124292Z"
    }
   },
   "cell_type": "code",
   "source": "X_pca  ",
   "execution_count": 44,
   "outputs": []
  },
  {
   "metadata": {
    "ExecuteTime": {
     "end_time": "2024-05-20T19:11:20.431465Z",
     "start_time": "2024-05-20T19:11:18.655291Z"
    }
   },
   "cell_type": "code",
   "source": [
    "import matplotlib.pyplot as plt\n",
    "import matplotlib.patches as mpatches\n",
    "\n",
    "# Criando DataFrames\n",
    "df_no_sampling = pd.DataFrame(X_pca, columns=['Componente 1', 'Componente 2'])\n",
    "df_no_sampling['y'] = y\n",
    "\n",
    "df_smote = pd.DataFrame(X_smote_pca, columns=['Componente 1', 'Componente 2'])\n",
    "df_smote['y'] = y_smote\n",
    "\n",
    "df_rus = pd.DataFrame(X_rus_pca, columns=['Componente 1', 'Componente 2'])\n",
    "df_rus['y'] = y_rus\n",
    "\n",
    "# Lista de DataFrames para plotagem\n",
    "datasets = [\n",
    "    (df_no_sampling, 'No Sampling'),\n",
    "    (df_smote, 'SMOTE'),\n",
    "    (df_rus, 'RUS')\n",
    "]\n",
    "\n",
    "# Cores para a legenda\n",
    "colors = ['red', 'blue']  # Modifique conforme necessário para corresponder aos seus dados\n",
    "labels = ['<=50K', '>50K']  # Atualize conforme a necessidade\n",
    "\n",
    "# Plotando cada um dos conjuntos de dados\n",
    "for df, name in datasets:\n",
    "    fig, ax = plt.subplots()\n",
    "    scatter = ax.scatter(df['Componente 1'], df['Componente 2'], c=df['y'], cmap='coolwarm', alpha=0.6)\n",
    "\n",
    "    # Criar legendas manualmente\n",
    "    handles = [mpatches.Patch(color=color, label=label) for color, label in zip(colors, labels)]\n",
    "\n",
    "    # Aplicar o mapeamento aos rótulos\n",
    "    ax.legend(handles=handles, loc=\"upper right\", title=\"Classes\")\n",
    "\n",
    "    # Configurar os eixos\n",
    "    ax.set_xlabel('Componente 1')\n",
    "    ax.set_ylabel('Componente 2')\n",
    "    ax.set_title(name)\n",
    "\n",
    "    # Mostrar o gráfico\n",
    "    plt.show()"
   ],
   "execution_count": 45,
   "outputs": []
  },
  {
   "cell_type": "markdown",
   "metadata": {},
   "source": [
    "**10. Aplique _One Hot Encoding_ nas variáveis _race_ e _sex_. Junte ao resultado _TODAS_ as outras variáveis númericas (_age_, _education-num_, _capital-gain_, _capital-loss_ e _hours-per-week_). Utilize o dataset resultante no algoritmo t-SNE e reduza a dimensionalidade à 2 componentes (padrão do algoritmo). Plote o resultado diferenciando os pontos pela classe (atributo _target_).**\n",
    "\n",
    " One Hot Encoding nas variáveis já foram feitos anteriormente para a execução do smote e rus. "
   ]
  },
  {
   "metadata": {},
   "cell_type": "markdown",
   "source": "##### t-SNE"
  },
  {
   "metadata": {
    "ExecuteTime": {
     "end_time": "2024-05-06T17:53:56.843655Z",
     "start_time": "2024-05-06T17:53:56.840263Z"
    }
   },
   "cell_type": "code",
   "source": [
    "from sklearn.manifold import TSNE\n",
    "import matplotlib.pyplot as plt\n",
    "\n",
    "tsne = TSNE(n_components=2)"
   ],
   "execution_count": 59,
   "outputs": []
  },
  {
   "metadata": {
    "ExecuteTime": {
     "end_time": "2024-05-06T17:55:19.006168Z",
     "start_time": "2024-05-06T17:53:59.634591Z"
    }
   },
   "cell_type": "code",
   "source": [
    "data = adult_final[['age', 'education-num', 'capital-gain', 'capital-loss',\n",
    "                    'hours-per-week', 'race_Amer-Indian-Eskimo',\n",
    "                    'race_Asian-Pac-Islander', 'race_Black',\n",
    "                    'race_Other', 'race_White', 'sex_Female', 'sex_Male']]\n",
    "X_tsne = tsne.fit_transform(data)"
   ],
   "execution_count": 60,
   "outputs": []
  },
  {
   "metadata": {
    "ExecuteTime": {
     "end_time": "2024-05-06T17:57:56.592150Z",
     "start_time": "2024-05-06T17:55:42.871707Z"
    }
   },
   "cell_type": "code",
   "source": [
    "data_smote = adult_final_smote[['age', 'education-num', 'capital-gain', 'capital-loss',\n",
    "                                'hours-per-week', 'race_Amer-Indian-Eskimo',\n",
    "                                'race_Asian-Pac-Islander', 'race_Black',\n",
    "                                'race_Other', 'race_White', 'sex_Female', 'sex_Male']]\n",
    "X_tsne_smote = tsne.fit_transform(data_smote)"
   ],
   "execution_count": 61,
   "outputs": []
  },
  {
   "metadata": {
    "ExecuteTime": {
     "end_time": "2024-05-06T17:59:11.658979Z",
     "start_time": "2024-05-06T17:58:32.497358Z"
    }
   },
   "cell_type": "code",
   "source": [
    "data_rus = adult_final_rus[['age', 'education-num', 'capital-gain', 'capital-loss',\n",
    "                            'hours-per-week', 'race_Amer-Indian-Eskimo',\n",
    "                            'race_Asian-Pac-Islander', 'race_Black',\n",
    "                            'race_Other', 'race_White', 'sex_Female', 'sex_Male']]\n",
    "X_tsne_rus = tsne.fit_transform(data_rus)"
   ],
   "execution_count": 62,
   "outputs": []
  },
  {
   "metadata": {
    "ExecuteTime": {
     "end_time": "2024-05-06T18:11:09.251249Z",
     "start_time": "2024-05-06T18:11:07.442928Z"
    }
   },
   "cell_type": "code",
   "source": [
    "target = adult_final['target']\n",
    "target_smote = adult_final_smote['target']\n",
    "target_rus = adult_final_rus['target']\n",
    "\n",
    "datasets = [(X_tsne, target, 'No Sampling'), (X_tsne_smote, target_smote, 'Smote'), \n",
    "            (X_tsne_rus, target_rus, 'Rus')]\n",
    "\n",
    "for X, target, name in datasets:\n",
    "    fig, ax = plt.subplots()\n",
    "\n",
    "    scatter = ax.scatter(X[:, 0], X[:, 1], c=target, cmap='coolwarm')\n",
    "\n",
    "    # Create a mapping dictionary\n",
    "    labels = ['<=50K', '>50K']\n",
    "\n",
    "    # Get the legend elements\n",
    "    handles, _ = scatter.legend_elements()\n",
    "\n",
    "    # Apply the mapping to the labels\n",
    "    ax.legend(handles, labels, loc=\"upper right\", title=\"Classes\")\n",
    "\n",
    "    # Set the axes\n",
    "    plt.xlabel('Componente 1')\n",
    "    plt.ylabel('Componente 2')\n",
    "    plt.title(name)\n",
    "\n",
    "    # Show the plot\n",
    "    plt.show()"
   ],
   "execution_count": 76,
   "outputs": []
  },
  {
   "metadata": {},
   "cell_type": "markdown",
   "source": [
    "\n",
    "\n"
   ]
  }
 ],
 "metadata": {
  "kernelspec": {
   "display_name": "Python 3.9.13 64-bit (windows store)",
   "language": "python",
   "name": "python3"
  },
  "language_info": {
   "codemirror_mode": {
    "name": "ipython",
    "version": 3
   },
   "file_extension": ".py",
   "mimetype": "text/x-python",
   "name": "python",
   "nbconvert_exporter": "python",
   "pygments_lexer": "ipython3",
   "version": "3.9.13"
  },
  "orig_nbformat": 4,
  "vscode": {
   "interpreter": {
    "hash": "e2a75fef46bed89e0d903baa6d9759c336dac2ebed8fb5037eddcc41453e49ff"
   }
  }
 },
 "nbformat": 4,
 "nbformat_minor": 2
}
