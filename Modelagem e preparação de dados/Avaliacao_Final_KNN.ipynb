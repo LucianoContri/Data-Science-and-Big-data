{
 "cells": [
  {
   "attachments": {},
   "cell_type": "markdown",
   "metadata": {},
   "source": [
    "## PUC Minas\n",
    "### Pós-Graduação em Ciência de Dados e Big Data\n",
    "#### Avaliação Final - Modelagem e Preparação de Dados para Aprendizado de Máquina"
   ]
  },
  {
   "cell_type": "markdown",
   "metadata": {},
   "source": [
    "**Aluno(s):**"
   ]
  },
  {
   "cell_type": "code",
   "metadata": {
    "ExecuteTime": {
     "end_time": "2024-05-03T19:20:51.870133Z",
     "start_time": "2024-05-03T19:20:51.867908Z"
    }
   },
   "source": "# Luciano Augusto Scherer Contri",
   "outputs": [],
   "execution_count": 62
  },
  {
   "cell_type": "markdown",
   "metadata": {},
   "source": [
    "### Base de Dados"
   ]
  },
  {
   "cell_type": "markdown",
   "metadata": {},
   "source": [
    "**Descriçao de Atributos**\n",
    "\n",
    "- age: idade\n",
    "- workclass: classe de trabalho\n",
    "- education: nível educacional\n",
    "- education-num: anos de educação\n",
    "- marital-status: estado civil\n",
    "- occupation: profissão\n",
    "- race: etnia\n",
    "- sex: gênero\n",
    "- capital-gain: ganho de capital\n",
    "- capital-loss: perda de capital\n",
    "- hours-per-week: horas de trabalho por semana\n",
    "- native-country: país de origem\n",
    "\n",
    "**Contexto dos Dados**\n",
    "\n",
    "O dataset apresenta dados de um problema de classificação onde o objetivo é prever se a pessoa da observação ganha mais de 50k dólares por ano ou não."
   ]
  },
  {
   "cell_type": "markdown",
   "metadata": {},
   "source": [
    "## Atividades"
   ]
  },
  {
   "cell_type": "markdown",
   "metadata": {},
   "source": [
    "**Dados**"
   ]
  },
  {
   "cell_type": "code",
   "metadata": {
    "ExecuteTime": {
     "end_time": "2024-05-03T19:20:52.008396Z",
     "start_time": "2024-05-03T19:20:52.005755Z"
    }
   },
   "source": [
    "# Carregue o dataset fornecido ('adult_final.csv')"
   ],
   "outputs": [],
   "execution_count": 63
  },
  {
   "metadata": {
    "ExecuteTime": {
     "end_time": "2024-05-03T19:20:52.085371Z",
     "start_time": "2024-05-03T19:20:52.038914Z"
    }
   },
   "cell_type": "code",
   "source": [
    "import pandas as pd\n",
    "        \n",
    "adult_final = pd.read_csv('../../Datasets/adult_final.csv', sep = ',')\n",
    "adult_final"
   ],
   "outputs": [
    {
     "data": {
      "text/plain": [
       "       age         workclass   education  education-num      marital-status  \\\n",
       "0       39         State-gov   Bachelors             13       Never-married   \n",
       "1       50  Self-emp-not-inc   Bachelors             13  Married-civ-spouse   \n",
       "2       38           Private     HS-grad              9            Divorced   \n",
       "3       53           Private        11th              7  Married-civ-spouse   \n",
       "4       28           Private   Bachelors             13  Married-civ-spouse   \n",
       "...    ...               ...         ...            ...                 ...   \n",
       "32556   27           Private  Assoc-acdm             12  Married-civ-spouse   \n",
       "32557   40           Private     HS-grad              9  Married-civ-spouse   \n",
       "32558   58           Private     HS-grad              9             Widowed   \n",
       "32559   22           Private     HS-grad              9       Never-married   \n",
       "32560   52      Self-emp-inc     HS-grad              9  Married-civ-spouse   \n",
       "\n",
       "              occupation   race     sex  capital-gain  capital-loss  \\\n",
       "0           Adm-clerical  White    Male          2174             0   \n",
       "1        Exec-managerial  White    Male             0             0   \n",
       "2      Handlers-cleaners  White    Male             0             0   \n",
       "3      Handlers-cleaners  Black    Male             0             0   \n",
       "4         Prof-specialty  Black  Female             0             0   \n",
       "...                  ...    ...     ...           ...           ...   \n",
       "32556       Tech-support  White  Female             0             0   \n",
       "32557  Machine-op-inspct  White    Male             0             0   \n",
       "32558       Adm-clerical  White  Female             0             0   \n",
       "32559       Adm-clerical  White    Male             0             0   \n",
       "32560    Exec-managerial  White  Female         15024             0   \n",
       "\n",
       "       hours-per-week native-country target  \n",
       "0                  40  United-States  <=50K  \n",
       "1                  13  United-States  <=50K  \n",
       "2                  40  United-States  <=50K  \n",
       "3                  40  United-States  <=50K  \n",
       "4                  40           Cuba  <=50K  \n",
       "...               ...            ...    ...  \n",
       "32556              38  United-States  <=50K  \n",
       "32557              40  United-States   >50K  \n",
       "32558              40  United-States  <=50K  \n",
       "32559              20  United-States  <=50K  \n",
       "32560              40  United-States   >50K  \n",
       "\n",
       "[32561 rows x 13 columns]"
      ],
      "text/html": [
       "<div>\n",
       "<style scoped>\n",
       "    .dataframe tbody tr th:only-of-type {\n",
       "        vertical-align: middle;\n",
       "    }\n",
       "\n",
       "    .dataframe tbody tr th {\n",
       "        vertical-align: top;\n",
       "    }\n",
       "\n",
       "    .dataframe thead th {\n",
       "        text-align: right;\n",
       "    }\n",
       "</style>\n",
       "<table border=\"1\" class=\"dataframe\">\n",
       "  <thead>\n",
       "    <tr style=\"text-align: right;\">\n",
       "      <th></th>\n",
       "      <th>age</th>\n",
       "      <th>workclass</th>\n",
       "      <th>education</th>\n",
       "      <th>education-num</th>\n",
       "      <th>marital-status</th>\n",
       "      <th>occupation</th>\n",
       "      <th>race</th>\n",
       "      <th>sex</th>\n",
       "      <th>capital-gain</th>\n",
       "      <th>capital-loss</th>\n",
       "      <th>hours-per-week</th>\n",
       "      <th>native-country</th>\n",
       "      <th>target</th>\n",
       "    </tr>\n",
       "  </thead>\n",
       "  <tbody>\n",
       "    <tr>\n",
       "      <th>0</th>\n",
       "      <td>39</td>\n",
       "      <td>State-gov</td>\n",
       "      <td>Bachelors</td>\n",
       "      <td>13</td>\n",
       "      <td>Never-married</td>\n",
       "      <td>Adm-clerical</td>\n",
       "      <td>White</td>\n",
       "      <td>Male</td>\n",
       "      <td>2174</td>\n",
       "      <td>0</td>\n",
       "      <td>40</td>\n",
       "      <td>United-States</td>\n",
       "      <td>&lt;=50K</td>\n",
       "    </tr>\n",
       "    <tr>\n",
       "      <th>1</th>\n",
       "      <td>50</td>\n",
       "      <td>Self-emp-not-inc</td>\n",
       "      <td>Bachelors</td>\n",
       "      <td>13</td>\n",
       "      <td>Married-civ-spouse</td>\n",
       "      <td>Exec-managerial</td>\n",
       "      <td>White</td>\n",
       "      <td>Male</td>\n",
       "      <td>0</td>\n",
       "      <td>0</td>\n",
       "      <td>13</td>\n",
       "      <td>United-States</td>\n",
       "      <td>&lt;=50K</td>\n",
       "    </tr>\n",
       "    <tr>\n",
       "      <th>2</th>\n",
       "      <td>38</td>\n",
       "      <td>Private</td>\n",
       "      <td>HS-grad</td>\n",
       "      <td>9</td>\n",
       "      <td>Divorced</td>\n",
       "      <td>Handlers-cleaners</td>\n",
       "      <td>White</td>\n",
       "      <td>Male</td>\n",
       "      <td>0</td>\n",
       "      <td>0</td>\n",
       "      <td>40</td>\n",
       "      <td>United-States</td>\n",
       "      <td>&lt;=50K</td>\n",
       "    </tr>\n",
       "    <tr>\n",
       "      <th>3</th>\n",
       "      <td>53</td>\n",
       "      <td>Private</td>\n",
       "      <td>11th</td>\n",
       "      <td>7</td>\n",
       "      <td>Married-civ-spouse</td>\n",
       "      <td>Handlers-cleaners</td>\n",
       "      <td>Black</td>\n",
       "      <td>Male</td>\n",
       "      <td>0</td>\n",
       "      <td>0</td>\n",
       "      <td>40</td>\n",
       "      <td>United-States</td>\n",
       "      <td>&lt;=50K</td>\n",
       "    </tr>\n",
       "    <tr>\n",
       "      <th>4</th>\n",
       "      <td>28</td>\n",
       "      <td>Private</td>\n",
       "      <td>Bachelors</td>\n",
       "      <td>13</td>\n",
       "      <td>Married-civ-spouse</td>\n",
       "      <td>Prof-specialty</td>\n",
       "      <td>Black</td>\n",
       "      <td>Female</td>\n",
       "      <td>0</td>\n",
       "      <td>0</td>\n",
       "      <td>40</td>\n",
       "      <td>Cuba</td>\n",
       "      <td>&lt;=50K</td>\n",
       "    </tr>\n",
       "    <tr>\n",
       "      <th>...</th>\n",
       "      <td>...</td>\n",
       "      <td>...</td>\n",
       "      <td>...</td>\n",
       "      <td>...</td>\n",
       "      <td>...</td>\n",
       "      <td>...</td>\n",
       "      <td>...</td>\n",
       "      <td>...</td>\n",
       "      <td>...</td>\n",
       "      <td>...</td>\n",
       "      <td>...</td>\n",
       "      <td>...</td>\n",
       "      <td>...</td>\n",
       "    </tr>\n",
       "    <tr>\n",
       "      <th>32556</th>\n",
       "      <td>27</td>\n",
       "      <td>Private</td>\n",
       "      <td>Assoc-acdm</td>\n",
       "      <td>12</td>\n",
       "      <td>Married-civ-spouse</td>\n",
       "      <td>Tech-support</td>\n",
       "      <td>White</td>\n",
       "      <td>Female</td>\n",
       "      <td>0</td>\n",
       "      <td>0</td>\n",
       "      <td>38</td>\n",
       "      <td>United-States</td>\n",
       "      <td>&lt;=50K</td>\n",
       "    </tr>\n",
       "    <tr>\n",
       "      <th>32557</th>\n",
       "      <td>40</td>\n",
       "      <td>Private</td>\n",
       "      <td>HS-grad</td>\n",
       "      <td>9</td>\n",
       "      <td>Married-civ-spouse</td>\n",
       "      <td>Machine-op-inspct</td>\n",
       "      <td>White</td>\n",
       "      <td>Male</td>\n",
       "      <td>0</td>\n",
       "      <td>0</td>\n",
       "      <td>40</td>\n",
       "      <td>United-States</td>\n",
       "      <td>&gt;50K</td>\n",
       "    </tr>\n",
       "    <tr>\n",
       "      <th>32558</th>\n",
       "      <td>58</td>\n",
       "      <td>Private</td>\n",
       "      <td>HS-grad</td>\n",
       "      <td>9</td>\n",
       "      <td>Widowed</td>\n",
       "      <td>Adm-clerical</td>\n",
       "      <td>White</td>\n",
       "      <td>Female</td>\n",
       "      <td>0</td>\n",
       "      <td>0</td>\n",
       "      <td>40</td>\n",
       "      <td>United-States</td>\n",
       "      <td>&lt;=50K</td>\n",
       "    </tr>\n",
       "    <tr>\n",
       "      <th>32559</th>\n",
       "      <td>22</td>\n",
       "      <td>Private</td>\n",
       "      <td>HS-grad</td>\n",
       "      <td>9</td>\n",
       "      <td>Never-married</td>\n",
       "      <td>Adm-clerical</td>\n",
       "      <td>White</td>\n",
       "      <td>Male</td>\n",
       "      <td>0</td>\n",
       "      <td>0</td>\n",
       "      <td>20</td>\n",
       "      <td>United-States</td>\n",
       "      <td>&lt;=50K</td>\n",
       "    </tr>\n",
       "    <tr>\n",
       "      <th>32560</th>\n",
       "      <td>52</td>\n",
       "      <td>Self-emp-inc</td>\n",
       "      <td>HS-grad</td>\n",
       "      <td>9</td>\n",
       "      <td>Married-civ-spouse</td>\n",
       "      <td>Exec-managerial</td>\n",
       "      <td>White</td>\n",
       "      <td>Female</td>\n",
       "      <td>15024</td>\n",
       "      <td>0</td>\n",
       "      <td>40</td>\n",
       "      <td>United-States</td>\n",
       "      <td>&gt;50K</td>\n",
       "    </tr>\n",
       "  </tbody>\n",
       "</table>\n",
       "<p>32561 rows × 13 columns</p>\n",
       "</div>"
      ]
     },
     "execution_count": 64,
     "metadata": {},
     "output_type": "execute_result"
    }
   ],
   "execution_count": 64
  },
  {
   "cell_type": "markdown",
   "metadata": {},
   "source": [
    "**1. Apresente o tipo das variáveis.**"
   ]
  },
  {
   "cell_type": "code",
   "metadata": {
    "ExecuteTime": {
     "end_time": "2024-05-03T19:20:52.115575Z",
     "start_time": "2024-05-03T19:20:52.111396Z"
    }
   },
   "source": "adult_final.dtypes",
   "outputs": [
    {
     "data": {
      "text/plain": [
       "age                int64\n",
       "workclass         object\n",
       "education         object\n",
       "education-num      int64\n",
       "marital-status    object\n",
       "occupation        object\n",
       "race              object\n",
       "sex               object\n",
       "capital-gain       int64\n",
       "capital-loss       int64\n",
       "hours-per-week     int64\n",
       "native-country    object\n",
       "target            object\n",
       "dtype: object"
      ]
     },
     "execution_count": 65,
     "metadata": {},
     "output_type": "execute_result"
    }
   ],
   "execution_count": 65
  },
  {
   "cell_type": "markdown",
   "metadata": {},
   "source": [
    "**2.Apresente de forma gráfica e numérica a análise exploratória das variáveis _education_ e _race_.**"
   ]
  },
  {
   "cell_type": "code",
   "metadata": {
    "ExecuteTime": {
     "end_time": "2024-05-03T19:20:52.400859Z",
     "start_time": "2024-05-03T19:20:52.148607Z"
    }
   },
   "source": "adult_final['education'].value_counts().plot(kind='bar')",
   "outputs": [
    {
     "data": {
      "text/plain": [
       "<Axes: >"
      ]
     },
     "execution_count": 66,
     "metadata": {},
     "output_type": "execute_result"
    },
    {
     "data": {
      "text/plain": [
       "<Figure size 640x480 with 1 Axes>"
      ],
      "image/png": "[encoded data removed]"
     },
     "metadata": {},
     "output_type": "display_data"
    }
   ],
   "execution_count": 66
  },
  {
   "metadata": {
    "ExecuteTime": {
     "end_time": "2024-05-03T19:20:52.407618Z",
     "start_time": "2024-05-03T19:20:52.401861Z"
    }
   },
   "cell_type": "code",
   "source": [
    "# porcentagem \n",
    "adult_final['education'].value_counts(normalize=True) * 100"
   ],
   "outputs": [
    {
     "data": {
      "text/plain": [
       "HS-grad         32.250238\n",
       "Some-college    22.391818\n",
       "Bachelors       16.446055\n",
       "Masters          5.291607\n",
       "Assoc-voc        4.244341\n",
       "11th             3.608612\n",
       "Assoc-acdm       3.276926\n",
       "10th             2.865391\n",
       "7th-8th          1.983969\n",
       "Prof-school      1.768987\n",
       "9th              1.578576\n",
       "12th             1.329812\n",
       "Doctorate        1.268389\n",
       "5th-6th          1.022696\n",
       "1st-4th          0.515955\n",
       "Preschool        0.156629\n",
       "Name: education, dtype: float64"
      ]
     },
     "execution_count": 67,
     "metadata": {},
     "output_type": "execute_result"
    }
   ],
   "execution_count": 67
  },
  {
   "metadata": {
    "ExecuteTime": {
     "end_time": "2024-05-03T19:20:52.549401Z",
     "start_time": "2024-05-03T19:20:52.408620Z"
    }
   },
   "cell_type": "code",
   "source": "adult_final['race'].value_counts().plot(kind='bar')",
   "outputs": [
    {
     "data": {
      "text/plain": [
       "<Axes: >"
      ]
     },
     "execution_count": 68,
     "metadata": {},
     "output_type": "execute_result"
    },
    {
     "data": {
      "text/plain": [
       "<Figure size 640x480 with 1 Axes>"
      ],
      "image/png": "[encoded data removed]"
     },
     "metadata": {},
     "output_type": "display_data"
    }
   ],
   "execution_count": 68
  },
  {
   "metadata": {
    "ExecuteTime": {
     "end_time": "2024-05-03T19:20:52.556573Z",
     "start_time": "2024-05-03T19:20:52.550409Z"
    }
   },
   "cell_type": "code",
   "source": [
    "# porcentagem\n",
    "adult_final['race'].value_counts(normalize=True) * 100"
   ],
   "outputs": [
    {
     "data": {
      "text/plain": [
       "White                 85.427352\n",
       "Black                  9.594300\n",
       "Asian-Pac-Islander     3.190934\n",
       "Amer-Indian-Eskimo     0.955130\n",
       "Other                  0.832284\n",
       "Name: race, dtype: float64"
      ]
     },
     "execution_count": 69,
     "metadata": {},
     "output_type": "execute_result"
    }
   ],
   "execution_count": 69
  },
  {
   "cell_type": "markdown",
   "metadata": {},
   "source": [
    "**3. Apresente as métricas estatísticas (média, moda, etc.) e histograma das variáveis _age_ e _hours-per-week_.**"
   ]
  },
  {
   "cell_type": "code",
   "metadata": {
    "ExecuteTime": {
     "end_time": "2024-05-03T19:20:52.566588Z",
     "start_time": "2024-05-03T19:20:52.556573Z"
    }
   },
   "source": [
    "# agregações\n",
    "adult_final.agg({'age': ['mean', 'median', 'std', 'var', 'min', 'max'], 'hours-per-week': ['mean', 'median', 'std', 'var', 'min', 'max']})"
   ],
   "outputs": [
    {
     "data": {
      "text/plain": [
       "               age  hours-per-week\n",
       "mean     38.581647       40.437456\n",
       "median   37.000000       40.000000\n",
       "std      13.640433       12.347429\n",
       "var     186.061400      152.458995\n",
       "min      17.000000        1.000000\n",
       "max      90.000000       99.000000"
      ],
      "text/html": [
       "<div>\n",
       "<style scoped>\n",
       "    .dataframe tbody tr th:only-of-type {\n",
       "        vertical-align: middle;\n",
       "    }\n",
       "\n",
       "    .dataframe tbody tr th {\n",
       "        vertical-align: top;\n",
       "    }\n",
       "\n",
       "    .dataframe thead th {\n",
       "        text-align: right;\n",
       "    }\n",
       "</style>\n",
       "<table border=\"1\" class=\"dataframe\">\n",
       "  <thead>\n",
       "    <tr style=\"text-align: right;\">\n",
       "      <th></th>\n",
       "      <th>age</th>\n",
       "      <th>hours-per-week</th>\n",
       "    </tr>\n",
       "  </thead>\n",
       "  <tbody>\n",
       "    <tr>\n",
       "      <th>mean</th>\n",
       "      <td>38.581647</td>\n",
       "      <td>40.437456</td>\n",
       "    </tr>\n",
       "    <tr>\n",
       "      <th>median</th>\n",
       "      <td>37.000000</td>\n",
       "      <td>40.000000</td>\n",
       "    </tr>\n",
       "    <tr>\n",
       "      <th>std</th>\n",
       "      <td>13.640433</td>\n",
       "      <td>12.347429</td>\n",
       "    </tr>\n",
       "    <tr>\n",
       "      <th>var</th>\n",
       "      <td>186.061400</td>\n",
       "      <td>152.458995</td>\n",
       "    </tr>\n",
       "    <tr>\n",
       "      <th>min</th>\n",
       "      <td>17.000000</td>\n",
       "      <td>1.000000</td>\n",
       "    </tr>\n",
       "    <tr>\n",
       "      <th>max</th>\n",
       "      <td>90.000000</td>\n",
       "      <td>99.000000</td>\n",
       "    </tr>\n",
       "  </tbody>\n",
       "</table>\n",
       "</div>"
      ]
     },
     "execution_count": 70,
     "metadata": {},
     "output_type": "execute_result"
    }
   ],
   "execution_count": 70
  },
  {
   "cell_type": "markdown",
   "metadata": {},
   "source": [
    "**4. Apresente 2 análises multivaridas entre variáveis a sua escolha.**"
   ]
  },
  {
   "metadata": {
    "ExecuteTime": {
     "end_time": "2024-05-03T19:20:52.577751Z",
     "start_time": "2024-05-03T19:20:52.567591Z"
    }
   },
   "cell_type": "code",
   "source": [
    "# média de idade por classe de trabalho\n",
    "adult_final.groupby('workclass')[['capital-gain', 'age']].mean().sort_values(by='age')"
   ],
   "outputs": [
    {
     "data": {
      "text/plain": [
       "                  capital-gain        age\n",
       "workclass                                \n",
       "Never-worked          0.000000  20.571429\n",
       "Private             889.217792  36.797585\n",
       "State-gov           701.699538  39.436055\n",
       "Local-gov           880.202580  41.751075\n",
       "Federal-gov         833.232292  42.590625\n",
       "Self-emp-not-inc   1886.061787  44.969697\n",
       "Self-emp-inc       4875.693548  46.017025\n",
       "Without-pay         487.857143  47.785714"
      ],
      "text/html": [
       "<div>\n",
       "<style scoped>\n",
       "    .dataframe tbody tr th:only-of-type {\n",
       "        vertical-align: middle;\n",
       "    }\n",
       "\n",
       "    .dataframe tbody tr th {\n",
       "        vertical-align: top;\n",
       "    }\n",
       "\n",
       "    .dataframe thead th {\n",
       "        text-align: right;\n",
       "    }\n",
       "</style>\n",
       "<table border=\"1\" class=\"dataframe\">\n",
       "  <thead>\n",
       "    <tr style=\"text-align: right;\">\n",
       "      <th></th>\n",
       "      <th>capital-gain</th>\n",
       "      <th>age</th>\n",
       "    </tr>\n",
       "    <tr>\n",
       "      <th>workclass</th>\n",
       "      <th></th>\n",
       "      <th></th>\n",
       "    </tr>\n",
       "  </thead>\n",
       "  <tbody>\n",
       "    <tr>\n",
       "      <th>Never-worked</th>\n",
       "      <td>0.000000</td>\n",
       "      <td>20.571429</td>\n",
       "    </tr>\n",
       "    <tr>\n",
       "      <th>Private</th>\n",
       "      <td>889.217792</td>\n",
       "      <td>36.797585</td>\n",
       "    </tr>\n",
       "    <tr>\n",
       "      <th>State-gov</th>\n",
       "      <td>701.699538</td>\n",
       "      <td>39.436055</td>\n",
       "    </tr>\n",
       "    <tr>\n",
       "      <th>Local-gov</th>\n",
       "      <td>880.202580</td>\n",
       "      <td>41.751075</td>\n",
       "    </tr>\n",
       "    <tr>\n",
       "      <th>Federal-gov</th>\n",
       "      <td>833.232292</td>\n",
       "      <td>42.590625</td>\n",
       "    </tr>\n",
       "    <tr>\n",
       "      <th>Self-emp-not-inc</th>\n",
       "      <td>1886.061787</td>\n",
       "      <td>44.969697</td>\n",
       "    </tr>\n",
       "    <tr>\n",
       "      <th>Self-emp-inc</th>\n",
       "      <td>4875.693548</td>\n",
       "      <td>46.017025</td>\n",
       "    </tr>\n",
       "    <tr>\n",
       "      <th>Without-pay</th>\n",
       "      <td>487.857143</td>\n",
       "      <td>47.785714</td>\n",
       "    </tr>\n",
       "  </tbody>\n",
       "</table>\n",
       "</div>"
      ]
     },
     "execution_count": 71,
     "metadata": {},
     "output_type": "execute_result"
    }
   ],
   "execution_count": 71
  },
  {
   "metadata": {
    "ExecuteTime": {
     "end_time": "2024-05-03T19:20:52.585785Z",
     "start_time": "2024-05-03T19:20:52.578752Z"
    }
   },
   "cell_type": "code",
   "source": [
    "# média de horas por semana por classe de trabalho\n",
    "adult_final.groupby('workclass')['hours-per-week'].mean().sort_values()"
   ],
   "outputs": [
    {
     "data": {
      "text/plain": [
       "workclass\n",
       "Never-worked        28.428571\n",
       "Without-pay         32.714286\n",
       "State-gov           39.031587\n",
       "Private             40.267096\n",
       "Local-gov           40.982800\n",
       "Federal-gov         41.379167\n",
       "Self-emp-not-inc    44.421881\n",
       "Self-emp-inc        48.818100\n",
       "Name: hours-per-week, dtype: float64"
      ]
     },
     "execution_count": 72,
     "metadata": {},
     "output_type": "execute_result"
    }
   ],
   "execution_count": 72
  },
  {
   "metadata": {
    "ExecuteTime": {
     "end_time": "2024-05-03T19:20:52.593936Z",
     "start_time": "2024-05-03T19:20:52.585785Z"
    }
   },
   "cell_type": "code",
   "source": [
    "# média de horas por semana por ocupação\n",
    "adult_final.groupby('occupation')['hours-per-week'].mean().sort_values()"
   ],
   "outputs": [
    {
     "data": {
      "text/plain": [
       "occupation\n",
       "Priv-house-serv      32.885906\n",
       "Other-service        34.701669\n",
       "Adm-clerical         37.558355\n",
       "Handlers-cleaners    37.947445\n",
       "Tech-support         39.432112\n",
       "Armed-Forces         40.666667\n",
       "Machine-op-inspct    40.755744\n",
       "Sales                40.781096\n",
       "Craft-repair         42.304221\n",
       "Prof-specialty       42.386715\n",
       "Protective-serv      42.870570\n",
       "Transport-moving     44.656230\n",
       "Exec-managerial      44.987703\n",
       "Farming-fishing      46.989940\n",
       "Name: hours-per-week, dtype: float64"
      ]
     },
     "execution_count": 73,
     "metadata": {},
     "output_type": "execute_result"
    }
   ],
   "execution_count": 73
  },
  {
   "metadata": {
    "ExecuteTime": {
     "end_time": "2024-05-03T19:20:52.606856Z",
     "start_time": "2024-05-03T19:20:52.599942Z"
    }
   },
   "cell_type": "code",
   "source": [
    "# workclass por média de idade\n",
    "adult_final.groupby('workclass')['age'].mean().sort_values()"
   ],
   "outputs": [
    {
     "data": {
      "text/plain": [
       "workclass\n",
       "Never-worked        20.571429\n",
       "Private             36.797585\n",
       "State-gov           39.436055\n",
       "Local-gov           41.751075\n",
       "Federal-gov         42.590625\n",
       "Self-emp-not-inc    44.969697\n",
       "Self-emp-inc        46.017025\n",
       "Without-pay         47.785714\n",
       "Name: age, dtype: float64"
      ]
     },
     "execution_count": 74,
     "metadata": {},
     "output_type": "execute_result"
    }
   ],
   "execution_count": 74
  },
  {
   "cell_type": "code",
   "metadata": {
    "ExecuteTime": {
     "end_time": "2024-05-03T19:20:52.639201Z",
     "start_time": "2024-05-03T19:20:52.630879Z"
    }
   },
   "source": [
    "# média de education-num por target\n",
    "adult_final.groupby('workclass')['education-num'].mean().sort_values()"
   ],
   "outputs": [
    {
     "data": {
      "text/plain": [
       "workclass\n",
       "Never-worked         7.428571\n",
       "Without-pay          9.071429\n",
       "Private              9.879714\n",
       "Self-emp-not-inc    10.226289\n",
       "Federal-gov         10.973958\n",
       "Local-gov           11.042045\n",
       "Self-emp-inc        11.137097\n",
       "State-gov           11.375963\n",
       "Name: education-num, dtype: float64"
      ]
     },
     "execution_count": 75,
     "metadata": {},
     "output_type": "execute_result"
    }
   ],
   "execution_count": 75
  },
  {
   "cell_type": "markdown",
   "metadata": {},
   "source": [
    "**5. Apresente a soma de _NaN_ de cada coluna da base de dados.**"
   ]
  },
  {
   "cell_type": "code",
   "metadata": {
    "ExecuteTime": {
     "end_time": "2024-05-03T19:20:52.851796Z",
     "start_time": "2024-05-03T19:20:52.816175Z"
    }
   },
   "source": "adult_final.isna().sum()",
   "outputs": [
    {
     "data": {
      "text/plain": [
       "age                  0\n",
       "workclass         1836\n",
       "education            0\n",
       "education-num        0\n",
       "marital-status       0\n",
       "occupation        1843\n",
       "race                 0\n",
       "sex                  0\n",
       "capital-gain         0\n",
       "capital-loss         0\n",
       "hours-per-week       0\n",
       "native-country     583\n",
       "target               0\n",
       "dtype: int64"
      ]
     },
     "execution_count": 76,
     "metadata": {},
     "output_type": "execute_result"
    }
   ],
   "execution_count": 76
  },
  {
   "cell_type": "markdown",
   "metadata": {},
   "source": [
    "**6. Trate os _NaN_ de todas as colunas como achar conveniente (explique). Em seguida, mostre que nenhuma coluna apresenta _NaN_ ao final do processo.**"
   ]
  },
  {
   "metadata": {},
   "cell_type": "markdown",
   "source": [
    "Como as colunas são categoricas, não podemos substituir os valores faltantes pela média ou mediana, pois não faz sentido.   \n",
    "podemos substituir os valores faltantes pela moda, ou seja, o valor mais frequente. \n",
    "Mas isso pode enviesar o modelo, pois a moda pode não ser a melhor escolha para substituir os valores faltantes.\n",
    "Outra opção é usar o KNNImputer, que é um método de imputação que utiliza os k vizinhos mais próximos para preencher os valores faltantes."
   ]
  },
  {
   "metadata": {},
   "cell_type": "markdown",
   "source": "### KNN"
  },
  {
   "metadata": {
    "ExecuteTime": {
     "end_time": "2024-05-04T01:35:26.997478Z",
     "start_time": "2024-05-04T01:35:26.084042Z"
    }
   },
   "cell_type": "code",
   "source": [
    "import pandas as pd\n",
    "import numpy as np\n",
    "from sklearn.preprocessing import StandardScaler, LabelEncoder\n",
    "from sklearn.model_selection import train_test_split\n",
    "from sklearn.impute import KNNImputer\n",
    "from sklearn.preprocessing import OneHotEncoder\n",
    "from sklearn.neighbors import NearestNeighbors\n",
    "\n",
    "from sklearn.metrics import accuracy_score, f1_score, balanced_accuracy_score\n",
    "\n",
    "# Carregar e preparar o DataFrame\n",
    "df = adult_final.copy()\n",
    "num_cols = ['education-num', 'age', 'capital-gain', 'hours-per-week']\n",
    "cat_cols = ['workclass', 'occupation', 'native-country']\n",
    "\n",
    "# hashmap para workclass em ordem crescente\n",
    "workclass_map = {'Federal-gov': 1, 'Local-gov': 2, 'State-gov': 3, 'Self-emp-inc': 4, 'Self-emp-not-inc': 5, 'Private': 6, 'Without-pay': 7, 'Never-worked': 8}\n",
    "\n",
    "occupation_map = {'Prof-specialty': 1, 'Exec-managerial': 2, 'Protective-serv': 3, 'Tech-support': 4, 'Sales': 5, 'Craft-repair': 6, 'Transport-moving': 7, 'Adm-clerical': 8, 'Farming-fishing': 9, 'Machine-op-inspct': 10, 'Handlers-cleaners': 11, 'Other-service': 12, 'Armed-Forces': 13, 'Priv-house-serv': 14}\n",
    "\n",
    "native_country_map = {'United-States': 1, 'Mexico': 2, 'Philippines': 3, 'Germany': 4, 'Puerto-Rico': 5, 'Canada': 6, 'El-Salvador': 7, 'India': 8, 'Cuba': 9, 'England': 10, 'Jamaica': 11, 'South': 12, 'China': 13, 'Italy': 14, 'Dominican-Republic': 15, 'Vietnam': 16, 'Guatemala': 17, 'Japan': 18, 'Poland': 19, 'Columbia': 20, 'Taiwan': 21, 'Haiti': 22, 'Iran': 23, 'Portugal': 24, 'Nicaragua': 25, 'Peru': 26, 'Greece': 27, 'Ecuador': 28, 'France': 29, 'Ireland': 30, 'Hong': 31, 'Cambodia': 32, 'Trinadad&Tobago': 33, 'Thailand': 34, 'Laos': 35, 'Yugoslavia': 36, 'Outlying-US(Guam-USVI-etc)': 37, 'Honduras': 38, 'Hungary': 39, 'Scotland': 40, 'Holand-Netherlands': 41}\n",
    "\n",
    "# transformar workclass em ordem crescente\n",
    "df['workclass'] = df['workclass'].map(workclass_map)\n",
    "df['occupation'] = df['occupation'].map(occupation_map)\n",
    "df['native-country'] = df['native-country'].map(native_country_map)\n",
    "\n",
    "for i in cat_cols:\n",
    "    # Separe os dados em conjunto de treinamento e teste\n",
    "    train_df, test_df = train_test_split(df[num_cols + cat_cols].dropna(), test_size=0.2, random_state=42)\n",
    "    \n",
    "    # Treine um modelo de classificação (por exemplo, KNN) usando os dados de treinamento\n",
    "    knn_classifier = KNeighborsClassifier(n_neighbors=5)\n",
    "    knn_classifier.fit(train_df.drop(columns=[i]), train_df[i])  # 'workclass' é sua coluna alvo\n",
    "    \n",
    "    # Avalie a acurácia do modelo usando os dados de teste imputados\n",
    "    y_true = test_df[i]  # 'workclass' é sua coluna alvo\n",
    "    y_pred = knn_classifier.predict(test_df.drop(columns=[i]))  # 'workclass' é sua coluna alvo\n",
    "    # Calcular balanced_accuracy_score\n",
    "    \n",
    "    accuracy = balanced_accuracy_score(y_true, y_pred)\n",
    "    \n",
    "    print(f\"Acurácia do modelo imputado {i}: {accuracy:.3f}\")"
   ],
   "outputs": [
    {
     "name": "stdout",
     "output_type": "stream",
     "text": [
      "Acurácia do modelo imputado workclass: 0.195\n",
      "Acurácia do modelo imputado occupation: 0.168\n",
      "Acurácia do modelo imputado native-country: 0.032\n"
     ]
    }
   ],
   "execution_count": 144
  },
  {
   "metadata": {},
   "cell_type": "markdown",
   "source": [
    "Acurácia do modelo imputado workclass: 0.692\n",
    "Acurácia do modelo imputado occupation: 0.227\n",
    "Acurácia do modelo imputado native-country: 0.918\n",
    "\n",
    "Tendo em vista que os dados faltantes são menores que 10% do total, podemos usar o KNNImputer para preencher os valores faltantes."
   ]
  },
  {
   "metadata": {},
   "cell_type": "code",
   "outputs": [
    {
     "data": {
      "text/plain": [
       "dtype('float64')"
      ]
     },
     "execution_count": 129,
     "metadata": {},
     "output_type": "execute_result"
    }
   ],
   "execution_count": 129,
   "source": ""
  },
  {
   "metadata": {
    "ExecuteTime": {
     "end_time": "2024-05-03T20:15:24.148242Z",
     "start_time": "2024-05-03T20:15:21.308653Z"
    }
   },
   "cell_type": "code",
   "source": [
    "\n",
    "\n",
    "\n"
   ],
   "outputs": [
    {
     "data": {
      "text/plain": [
       "age                  0\n",
       "workclass            0\n",
       "education            0\n",
       "education-num        0\n",
       "marital-status       0\n",
       "occupation        1843\n",
       "race                 0\n",
       "sex                  0\n",
       "capital-gain         0\n",
       "capital-loss         0\n",
       "hours-per-week       0\n",
       "native-country     583\n",
       "target               0\n",
       "dtype: int64"
      ]
     },
     "execution_count": 130,
     "metadata": {},
     "output_type": "execute_result"
    }
   ],
   "execution_count": 130
  },
  {
   "metadata": {
    "ExecuteTime": {
     "end_time": "2024-05-03T20:15:47.864560Z",
     "start_time": "2024-05-03T20:15:47.857619Z"
    }
   },
   "cell_type": "code",
   "source": [
    "# comparing the original and imputed values to see how many changed with a sum\n",
    "(df[cat_cols] != adult_final[cat_cols]).sum()"
   ],
   "outputs": [
    {
     "data": {
      "text/plain": [
       "workclass    32561\n",
       "dtype: int64"
      ]
     },
     "execution_count": 131,
     "metadata": {},
     "output_type": "execute_result"
    }
   ],
   "execution_count": 131
  },
  {
   "metadata": {
    "ExecuteTime": {
     "end_time": "2024-05-03T20:15:52.656798Z",
     "start_time": "2024-05-03T20:15:52.652874Z"
    }
   },
   "cell_type": "code",
   "source": "df['workclass'].unique()",
   "outputs": [
    {
     "data": {
      "text/plain": [
       "array([3. , 5. , 6. , 1. , 2. , 4. , 4.6, 5.6, 5.8, 4.2, 5.4, 4.8, 5.2,\n",
       "       4.4, 3.8, 6.4, 7. , 3.4, 3.6, 8. , 6.2, 3.2])"
      ]
     },
     "execution_count": 132,
     "metadata": {},
     "output_type": "execute_result"
    }
   ],
   "execution_count": 132
  },
  {
   "metadata": {},
   "cell_type": "markdown",
   "source": "Ta perfeito demais pra ser verdade, mas pode ser apenas porquê o dataset é pequeno. de qualquer forma, vamos imputar os valores faltantes no dataset original."
  },
  {
   "metadata": {
    "ExecuteTime": {
     "end_time": "2024-05-03T19:23:19.782245Z",
     "start_time": "2024-05-03T19:23:19.763321Z"
    }
   },
   "cell_type": "code",
   "source": [
    "# imputar no dataset original   \n",
    "df_imputed = adult_final.copy()\n",
    "df_imputed[num_cols + cat_cols] = imputer.fit_transform(df[num_cols + cat_cols])\n",
    "# Decodificar as colunas categóricas imputadas para os valores originais\n",
    "for col in cat_cols:\n",
    "    df_imputed[col] = encoders[col].inverse_transform(df_imputed[col].astype(int))\n"
   ],
   "outputs": [],
   "execution_count": 86
  },
  {
   "metadata": {
    "ExecuteTime": {
     "end_time": "2024-05-03T20:12:49.131751Z",
     "start_time": "2024-05-03T20:12:49.101469Z"
    }
   },
   "cell_type": "code",
   "source": "df.isna().sum()",
   "outputs": [
    {
     "data": {
      "text/plain": [
       "age                  0\n",
       "workclass            0\n",
       "education            0\n",
       "education-num        0\n",
       "marital-status       0\n",
       "occupation        1843\n",
       "race                 0\n",
       "sex                  0\n",
       "capital-gain         0\n",
       "capital-loss         0\n",
       "hours-per-week       0\n",
       "native-country     583\n",
       "target               0\n",
       "dtype: int64"
      ]
     },
     "execution_count": 126,
     "metadata": {},
     "output_type": "execute_result"
    }
   ],
   "execution_count": 126
  },
  {
   "metadata": {
    "ExecuteTime": {
     "end_time": "2024-05-03T20:08:57.723559Z",
     "start_time": "2024-05-03T20:08:57.713139Z"
    }
   },
   "cell_type": "code",
   "source": "df[['workclass', 'occupation', 'native-country']].eq('Desconhecido').sum()\n",
   "outputs": [
    {
     "data": {
      "text/plain": [
       "workclass         1835\n",
       "occupation           0\n",
       "native-country       0\n",
       "dtype: int64"
      ]
     },
     "execution_count": 122,
     "metadata": {},
     "output_type": "execute_result"
    }
   ],
   "execution_count": 122
  },
  {
   "metadata": {
    "ExecuteTime": {
     "end_time": "2024-05-03T19:06:45.246740Z",
     "start_time": "2024-05-03T19:06:45.230417Z"
    }
   },
   "cell_type": "code",
   "source": [
    "# Decodificar as colunas categóricas imputadas para os valores originais\n",
    "for col in cat_cols:\n",
    "    df_imputed[col] = encoders[col].inverse_transform(df_imputed[col].astype(int))\n",
    "\n",
    "# Verificar se a decodificação foi bem-sucedida\n",
    "df_imputed"
   ],
   "outputs": [
    {
     "data": {
      "text/plain": [
       "            age         workclass   education  education-num  \\\n",
       "0      0.030671         State-gov   Bachelors       1.134739   \n",
       "1      0.837109  Self-emp-not-inc   Bachelors       1.134739   \n",
       "2     -0.042642           Private     HS-grad      -0.420060   \n",
       "3      1.057047           Private        11th      -1.197459   \n",
       "4     -0.775768           Private   Bachelors       1.134739   \n",
       "...         ...               ...         ...            ...   \n",
       "32556 -0.849080           Private  Assoc-acdm       0.746039   \n",
       "32557  0.103983           Private     HS-grad      -0.420060   \n",
       "32558  1.423610           Private     HS-grad      -0.420060   \n",
       "32559 -1.215643           Private     HS-grad      -0.420060   \n",
       "32560  0.983734      Self-emp-inc     HS-grad      -0.420060   \n",
       "\n",
       "           marital-status         occupation   race     sex  capital-gain  \\\n",
       "0           Never-married       Adm-clerical  White    Male      0.148453   \n",
       "1      Married-civ-spouse    Exec-managerial  White    Male     -0.145920   \n",
       "2                Divorced  Handlers-cleaners  White    Male     -0.145920   \n",
       "3      Married-civ-spouse  Handlers-cleaners  Black    Male     -0.145920   \n",
       "4      Married-civ-spouse     Prof-specialty  Black  Female     -0.145920   \n",
       "...                   ...                ...    ...     ...           ...   \n",
       "32556  Married-civ-spouse       Tech-support  White  Female     -0.145920   \n",
       "32557  Married-civ-spouse  Machine-op-inspct  White    Male     -0.145920   \n",
       "32558             Widowed       Adm-clerical  White  Female     -0.145920   \n",
       "32559       Never-married       Adm-clerical  White    Male     -0.145920   \n",
       "32560  Married-civ-spouse    Exec-managerial  White  Female      1.888424   \n",
       "\n",
       "       capital-loss  hours-per-week native-country target  \n",
       "0                 0       -0.035429  United-States  <=50K  \n",
       "1                 0       -2.222153  United-States  <=50K  \n",
       "2                 0       -0.035429  United-States  <=50K  \n",
       "3                 0       -0.035429  United-States  <=50K  \n",
       "4                 0       -0.035429           Cuba  <=50K  \n",
       "...             ...             ...            ...    ...  \n",
       "32556             0       -0.197409  United-States  <=50K  \n",
       "32557             0       -0.035429  United-States   >50K  \n",
       "32558             0       -0.035429  United-States  <=50K  \n",
       "32559             0       -1.655225  United-States  <=50K  \n",
       "32560             0       -0.035429  United-States   >50K  \n",
       "\n",
       "[32561 rows x 13 columns]"
      ],
      "text/html": [
       "<div>\n",
       "<style scoped>\n",
       "    .dataframe tbody tr th:only-of-type {\n",
       "        vertical-align: middle;\n",
       "    }\n",
       "\n",
       "    .dataframe tbody tr th {\n",
       "        vertical-align: top;\n",
       "    }\n",
       "\n",
       "    .dataframe thead th {\n",
       "        text-align: right;\n",
       "    }\n",
       "</style>\n",
       "<table border=\"1\" class=\"dataframe\">\n",
       "  <thead>\n",
       "    <tr style=\"text-align: right;\">\n",
       "      <th></th>\n",
       "      <th>age</th>\n",
       "      <th>workclass</th>\n",
       "      <th>education</th>\n",
       "      <th>education-num</th>\n",
       "      <th>marital-status</th>\n",
       "      <th>occupation</th>\n",
       "      <th>race</th>\n",
       "      <th>sex</th>\n",
       "      <th>capital-gain</th>\n",
       "      <th>capital-loss</th>\n",
       "      <th>hours-per-week</th>\n",
       "      <th>native-country</th>\n",
       "      <th>target</th>\n",
       "    </tr>\n",
       "  </thead>\n",
       "  <tbody>\n",
       "    <tr>\n",
       "      <th>0</th>\n",
       "      <td>0.030671</td>\n",
       "      <td>State-gov</td>\n",
       "      <td>Bachelors</td>\n",
       "      <td>1.134739</td>\n",
       "      <td>Never-married</td>\n",
       "      <td>Adm-clerical</td>\n",
       "      <td>White</td>\n",
       "      <td>Male</td>\n",
       "      <td>0.148453</td>\n",
       "      <td>0</td>\n",
       "      <td>-0.035429</td>\n",
       "      <td>United-States</td>\n",
       "      <td>&lt;=50K</td>\n",
       "    </tr>\n",
       "    <tr>\n",
       "      <th>1</th>\n",
       "      <td>0.837109</td>\n",
       "      <td>Self-emp-not-inc</td>\n",
       "      <td>Bachelors</td>\n",
       "      <td>1.134739</td>\n",
       "      <td>Married-civ-spouse</td>\n",
       "      <td>Exec-managerial</td>\n",
       "      <td>White</td>\n",
       "      <td>Male</td>\n",
       "      <td>-0.145920</td>\n",
       "      <td>0</td>\n",
       "      <td>-2.222153</td>\n",
       "      <td>United-States</td>\n",
       "      <td>&lt;=50K</td>\n",
       "    </tr>\n",
       "    <tr>\n",
       "      <th>2</th>\n",
       "      <td>-0.042642</td>\n",
       "      <td>Private</td>\n",
       "      <td>HS-grad</td>\n",
       "      <td>-0.420060</td>\n",
       "      <td>Divorced</td>\n",
       "      <td>Handlers-cleaners</td>\n",
       "      <td>White</td>\n",
       "      <td>Male</td>\n",
       "      <td>-0.145920</td>\n",
       "      <td>0</td>\n",
       "      <td>-0.035429</td>\n",
       "      <td>United-States</td>\n",
       "      <td>&lt;=50K</td>\n",
       "    </tr>\n",
       "    <tr>\n",
       "      <th>3</th>\n",
       "      <td>1.057047</td>\n",
       "      <td>Private</td>\n",
       "      <td>11th</td>\n",
       "      <td>-1.197459</td>\n",
       "      <td>Married-civ-spouse</td>\n",
       "      <td>Handlers-cleaners</td>\n",
       "      <td>Black</td>\n",
       "      <td>Male</td>\n",
       "      <td>-0.145920</td>\n",
       "      <td>0</td>\n",
       "      <td>-0.035429</td>\n",
       "      <td>United-States</td>\n",
       "      <td>&lt;=50K</td>\n",
       "    </tr>\n",
       "    <tr>\n",
       "      <th>4</th>\n",
       "      <td>-0.775768</td>\n",
       "      <td>Private</td>\n",
       "      <td>Bachelors</td>\n",
       "      <td>1.134739</td>\n",
       "      <td>Married-civ-spouse</td>\n",
       "      <td>Prof-specialty</td>\n",
       "      <td>Black</td>\n",
       "      <td>Female</td>\n",
       "      <td>-0.145920</td>\n",
       "      <td>0</td>\n",
       "      <td>-0.035429</td>\n",
       "      <td>Cuba</td>\n",
       "      <td>&lt;=50K</td>\n",
       "    </tr>\n",
       "    <tr>\n",
       "      <th>...</th>\n",
       "      <td>...</td>\n",
       "      <td>...</td>\n",
       "      <td>...</td>\n",
       "      <td>...</td>\n",
       "      <td>...</td>\n",
       "      <td>...</td>\n",
       "      <td>...</td>\n",
       "      <td>...</td>\n",
       "      <td>...</td>\n",
       "      <td>...</td>\n",
       "      <td>...</td>\n",
       "      <td>...</td>\n",
       "      <td>...</td>\n",
       "    </tr>\n",
       "    <tr>\n",
       "      <th>32556</th>\n",
       "      <td>-0.849080</td>\n",
       "      <td>Private</td>\n",
       "      <td>Assoc-acdm</td>\n",
       "      <td>0.746039</td>\n",
       "      <td>Married-civ-spouse</td>\n",
       "      <td>Tech-support</td>\n",
       "      <td>White</td>\n",
       "      <td>Female</td>\n",
       "      <td>-0.145920</td>\n",
       "      <td>0</td>\n",
       "      <td>-0.197409</td>\n",
       "      <td>United-States</td>\n",
       "      <td>&lt;=50K</td>\n",
       "    </tr>\n",
       "    <tr>\n",
       "      <th>32557</th>\n",
       "      <td>0.103983</td>\n",
       "      <td>Private</td>\n",
       "      <td>HS-grad</td>\n",
       "      <td>-0.420060</td>\n",
       "      <td>Married-civ-spouse</td>\n",
       "      <td>Machine-op-inspct</td>\n",
       "      <td>White</td>\n",
       "      <td>Male</td>\n",
       "      <td>-0.145920</td>\n",
       "      <td>0</td>\n",
       "      <td>-0.035429</td>\n",
       "      <td>United-States</td>\n",
       "      <td>&gt;50K</td>\n",
       "    </tr>\n",
       "    <tr>\n",
       "      <th>32558</th>\n",
       "      <td>1.423610</td>\n",
       "      <td>Private</td>\n",
       "      <td>HS-grad</td>\n",
       "      <td>-0.420060</td>\n",
       "      <td>Widowed</td>\n",
       "      <td>Adm-clerical</td>\n",
       "      <td>White</td>\n",
       "      <td>Female</td>\n",
       "      <td>-0.145920</td>\n",
       "      <td>0</td>\n",
       "      <td>-0.035429</td>\n",
       "      <td>United-States</td>\n",
       "      <td>&lt;=50K</td>\n",
       "    </tr>\n",
       "    <tr>\n",
       "      <th>32559</th>\n",
       "      <td>-1.215643</td>\n",
       "      <td>Private</td>\n",
       "      <td>HS-grad</td>\n",
       "      <td>-0.420060</td>\n",
       "      <td>Never-married</td>\n",
       "      <td>Adm-clerical</td>\n",
       "      <td>White</td>\n",
       "      <td>Male</td>\n",
       "      <td>-0.145920</td>\n",
       "      <td>0</td>\n",
       "      <td>-1.655225</td>\n",
       "      <td>United-States</td>\n",
       "      <td>&lt;=50K</td>\n",
       "    </tr>\n",
       "    <tr>\n",
       "      <th>32560</th>\n",
       "      <td>0.983734</td>\n",
       "      <td>Self-emp-inc</td>\n",
       "      <td>HS-grad</td>\n",
       "      <td>-0.420060</td>\n",
       "      <td>Married-civ-spouse</td>\n",
       "      <td>Exec-managerial</td>\n",
       "      <td>White</td>\n",
       "      <td>Female</td>\n",
       "      <td>1.888424</td>\n",
       "      <td>0</td>\n",
       "      <td>-0.035429</td>\n",
       "      <td>United-States</td>\n",
       "      <td>&gt;50K</td>\n",
       "    </tr>\n",
       "  </tbody>\n",
       "</table>\n",
       "<p>32561 rows × 13 columns</p>\n",
       "</div>"
      ]
     },
     "execution_count": 20,
     "metadata": {},
     "output_type": "execute_result"
    }
   ],
   "execution_count": 20
  },
  {
   "metadata": {
    "ExecuteTime": {
     "end_time": "2024-05-03T19:06:45.278938Z",
     "start_time": "2024-05-03T19:06:45.246740Z"
    }
   },
   "cell_type": "code",
   "source": [
    "# tabela unica de nunique() onde index é o nome da coluna e as colunas são os valores únicos de cada dataframe\n",
    "pd.concat([adult_final.nunique(), df_imputed.nunique()], axis=1, keys=['adult_final', 'df_imputed'])"
   ],
   "outputs": [
    {
     "data": {
      "text/plain": [
       "                adult_final  df_imputed\n",
       "age                      73          73\n",
       "workclass                 8           9\n",
       "education                16          16\n",
       "education-num            16          16\n",
       "marital-status            7           7\n",
       "occupation               14          15\n",
       "race                      5           5\n",
       "sex                       2           2\n",
       "capital-gain            119         119\n",
       "capital-loss             92          92\n",
       "hours-per-week           94          94\n",
       "native-country           41          42\n",
       "target                    2           2"
      ],
      "text/html": [
       "<div>\n",
       "<style scoped>\n",
       "    .dataframe tbody tr th:only-of-type {\n",
       "        vertical-align: middle;\n",
       "    }\n",
       "\n",
       "    .dataframe tbody tr th {\n",
       "        vertical-align: top;\n",
       "    }\n",
       "\n",
       "    .dataframe thead th {\n",
       "        text-align: right;\n",
       "    }\n",
       "</style>\n",
       "<table border=\"1\" class=\"dataframe\">\n",
       "  <thead>\n",
       "    <tr style=\"text-align: right;\">\n",
       "      <th></th>\n",
       "      <th>adult_final</th>\n",
       "      <th>df_imputed</th>\n",
       "    </tr>\n",
       "  </thead>\n",
       "  <tbody>\n",
       "    <tr>\n",
       "      <th>age</th>\n",
       "      <td>73</td>\n",
       "      <td>73</td>\n",
       "    </tr>\n",
       "    <tr>\n",
       "      <th>workclass</th>\n",
       "      <td>8</td>\n",
       "      <td>9</td>\n",
       "    </tr>\n",
       "    <tr>\n",
       "      <th>education</th>\n",
       "      <td>16</td>\n",
       "      <td>16</td>\n",
       "    </tr>\n",
       "    <tr>\n",
       "      <th>education-num</th>\n",
       "      <td>16</td>\n",
       "      <td>16</td>\n",
       "    </tr>\n",
       "    <tr>\n",
       "      <th>marital-status</th>\n",
       "      <td>7</td>\n",
       "      <td>7</td>\n",
       "    </tr>\n",
       "    <tr>\n",
       "      <th>occupation</th>\n",
       "      <td>14</td>\n",
       "      <td>15</td>\n",
       "    </tr>\n",
       "    <tr>\n",
       "      <th>race</th>\n",
       "      <td>5</td>\n",
       "      <td>5</td>\n",
       "    </tr>\n",
       "    <tr>\n",
       "      <th>sex</th>\n",
       "      <td>2</td>\n",
       "      <td>2</td>\n",
       "    </tr>\n",
       "    <tr>\n",
       "      <th>capital-gain</th>\n",
       "      <td>119</td>\n",
       "      <td>119</td>\n",
       "    </tr>\n",
       "    <tr>\n",
       "      <th>capital-loss</th>\n",
       "      <td>92</td>\n",
       "      <td>92</td>\n",
       "    </tr>\n",
       "    <tr>\n",
       "      <th>hours-per-week</th>\n",
       "      <td>94</td>\n",
       "      <td>94</td>\n",
       "    </tr>\n",
       "    <tr>\n",
       "      <th>native-country</th>\n",
       "      <td>41</td>\n",
       "      <td>42</td>\n",
       "    </tr>\n",
       "    <tr>\n",
       "      <th>target</th>\n",
       "      <td>2</td>\n",
       "      <td>2</td>\n",
       "    </tr>\n",
       "  </tbody>\n",
       "</table>\n",
       "</div>"
      ]
     },
     "execution_count": 21,
     "metadata": {},
     "output_type": "execute_result"
    }
   ],
   "execution_count": 21
  },
  {
   "metadata": {},
   "cell_type": "markdown",
   "source": "Podemos ver que o número de valores únicos aumentou em 1 pois o encoder adicionou um valor para os valores faltantes. como demonstrado abaixo."
  },
  {
   "metadata": {
    "ExecuteTime": {
     "end_time": "2024-05-03T19:06:45.287924Z",
     "start_time": "2024-05-03T19:06:45.279940Z"
    }
   },
   "cell_type": "code",
   "source": [
    "# adult_final.nunique() e df_imputed.nunique() para verificar se o número de valores únicos é o mesmo, lado a lado\n",
    "print(adult_final['workclass'].unique()) \n",
    "print(adult_final['workclass'].nunique())\n",
    "print(df_imputed['workclass'].unique())\n",
    "print(df_imputed['workclass'].nunique())"
   ],
   "outputs": [
    {
     "name": "stdout",
     "output_type": "stream",
     "text": [
      "['State-gov' 'Self-emp-not-inc' 'Private' 'Federal-gov' 'Local-gov' nan\n",
      " 'Self-emp-inc' 'Without-pay' 'Never-worked']\n",
      "8\n",
      "['State-gov' 'Self-emp-not-inc' 'Private' 'Federal-gov' 'Local-gov' 'nan'\n",
      " 'Self-emp-inc' 'Without-pay' 'Never-worked']\n",
      "9\n"
     ]
    }
   ],
   "execution_count": 22
  },
  {
   "cell_type": "markdown",
   "metadata": {},
   "source": [
    "**7. Aplique _Ordinal Encoding_ em uma variável categórica ordinal.**"
   ]
  },
  {
   "cell_type": "code",
   "metadata": {
    "ExecuteTime": {
     "end_time": "2024-05-03T19:06:45.304702Z",
     "start_time": "2024-05-03T19:06:45.287924Z"
    }
   },
   "source": [
    "# ordinal encoding na coluna 'education'\n",
    "from sklearn.preprocessing import OrdinalEncoder\n",
    "\n",
    "\n",
    "df_imputed['education'] = OrdinalEncoder().fit_transform(df_imputed[['education']])\n",
    "df_imputed['education']"
   ],
   "outputs": [
    {
     "data": {
      "text/plain": [
       "0         9.0\n",
       "1         9.0\n",
       "2        11.0\n",
       "3         1.0\n",
       "4         9.0\n",
       "         ... \n",
       "32556     7.0\n",
       "32557    11.0\n",
       "32558    11.0\n",
       "32559    11.0\n",
       "32560    11.0\n",
       "Name: education, Length: 32561, dtype: float64"
      ]
     },
     "execution_count": 23,
     "metadata": {},
     "output_type": "execute_result"
    }
   ],
   "execution_count": 23
  },
  {
   "cell_type": "markdown",
   "metadata": {},
   "source": [
    "**8. Aplique _One Hot Encoding_ em uma variável categórica nominal.**"
   ]
  },
  {
   "cell_type": "code",
   "metadata": {
    "ExecuteTime": {
     "end_time": "2024-05-03T19:06:45.318513Z",
     "start_time": "2024-05-03T19:06:45.305704Z"
    }
   },
   "source": [
    "# categorias nominais: workclass, occupation e native-country\n",
    "\n",
    "# one hot encoding na coluna 'workclass'\n",
    "df_imputed = pd.get_dummies(df_imputed, columns=['workclass']) "
   ],
   "outputs": [],
   "execution_count": 24
  },
  {
   "metadata": {
    "ExecuteTime": {
     "end_time": "2024-05-03T19:09:45.982594Z",
     "start_time": "2024-05-03T19:09:45.977899Z"
    }
   },
   "cell_type": "code",
   "source": "df_imputed['workclass_nan']",
   "outputs": [
    {
     "data": {
      "text/plain": [
       "0        0\n",
       "1        0\n",
       "2        0\n",
       "3        0\n",
       "4        0\n",
       "        ..\n",
       "32556    0\n",
       "32557    0\n",
       "32558    0\n",
       "32559    0\n",
       "32560    0\n",
       "Name: workclass_nan, Length: 32561, dtype: uint8"
      ]
     },
     "execution_count": 29,
     "metadata": {},
     "output_type": "execute_result"
    }
   ],
   "execution_count": 29
  },
  {
   "cell_type": "markdown",
   "metadata": {},
   "source": [
    "**9. Aplique uma técnica de _oversampling_ (classe minoritária) e uma de _undersampling_ (classe majoritária). Apresente a mudança de volumetria (antes e depois). Se necessário, lembre-se de tratar as variáveis categóricas de forma adequada caso deseje usar um método mais robusto (SMOTE, por exemplo). Se for o caso, utilize PCA para visualizar os dados de forma bidimensional (antes e depois da amostragem).**"
   ]
  },
  {
   "cell_type": "code",
   "execution_count": null,
   "metadata": {},
   "outputs": [],
   "source": []
  },
  {
   "cell_type": "markdown",
   "metadata": {},
   "source": [
    "**10. Aplique _One Hot Encoding_ nas variáveis _race_ e _sex_. Junte ao resultado _TODAS_ as outras variáveis númericas (_age_, _education-num_, _capital-gain_, _capital-loss_ e _hours-per-week_). Utilize o dataset resultante no algoritmo t-SNE e reduza a dimensionalidade à 2 componentes (padrão do algoritmo). Plote o resultado diferenciando os pontos pela classe (atributo _target_).**"
   ]
  },
  {
   "cell_type": "code",
   "execution_count": null,
   "metadata": {},
   "outputs": [],
   "source": []
  }
 ],
 "metadata": {
  "kernelspec": {
   "display_name": "Python 3.9.13 64-bit (windows store)",
   "language": "python",
   "name": "python3"
  },
  "language_info": {
   "codemirror_mode": {
    "name": "ipython",
    "version": 3
   },
   "file_extension": ".py",
   "mimetype": "text/x-python",
   "name": "python",
   "nbconvert_exporter": "python",
   "pygments_lexer": "ipython3",
   "version": "3.9.13"
  },
  "orig_nbformat": 4,
  "vscode": {
   "interpreter": {
    "hash": "e2a75fef46bed89e0d903baa6d9759c336dac2ebed8fb5037eddcc41453e49ff"
   }
  }
 },
 "nbformat": 4,
 "nbformat_minor": 2
}
