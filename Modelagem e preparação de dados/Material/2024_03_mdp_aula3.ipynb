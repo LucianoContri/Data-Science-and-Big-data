{
  "nbformat": 4,
  "nbformat_minor": 0,
  "metadata": {
    "colab": {
      "provenance": []
    },
    "kernelspec": {
      "name": "python3",
      "display_name": "Python 3"
    },
    "language_info": {
      "name": "python"
    }
  },
  "cells": [
    {
      "cell_type": "markdown",
      "source": [
        "## pacotes e configurações"
      ],
      "metadata": {
        "id": "1496cHzkj653"
      }
    },
    {
      "cell_type": "code",
      "source": [
        "import pandas as pd\n",
        "import seaborn as sns\n",
        "import matplotlib.pyplot as plt\n",
        "%matplotlib inline\n",
        "\n",
        "# undersampling\n",
        "from imblearn.under_sampling import CondensedNearestNeighbour, TomekLinks, EditedNearestNeighbours, OneSidedSelection, NeighbourhoodCleaningRule\n",
        "\n",
        "# oversampling\n",
        "from imblearn.over_sampling import RandomOverSampler, SMOTE, BorderlineSMOTE"
      ],
      "metadata": {
        "id": "GYKjCGYpjpJM"
      },
      "execution_count": null,
      "outputs": []
    },
    {
      "cell_type": "markdown",
      "source": [
        "## leitura de dados"
      ],
      "metadata": {
        "id": "PzFoLkpOln7R"
      }
    },
    {
      "cell_type": "markdown",
      "source": [
        "## undersampling"
      ],
      "metadata": {
        "id": "PKROLpb3lp5M"
      }
    },
    {
      "cell_type": "markdown",
      "source": [
        "## oversampling"
      ],
      "metadata": {
        "id": "w90wXLs_lsTn"
      }
    }
  ]
}