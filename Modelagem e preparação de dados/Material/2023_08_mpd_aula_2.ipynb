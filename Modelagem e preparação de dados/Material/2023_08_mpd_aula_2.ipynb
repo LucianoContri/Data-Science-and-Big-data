{
  "nbformat": 4,
  "nbformat_minor": 0,
  "metadata": {
    "colab": {
      "provenance": []
    },
    "kernelspec": {
      "name": "python3",
      "display_name": "Python 3"
    },
    "language_info": {
      "name": "python"
    }
  },
  "cells": [
    {
      "cell_type": "markdown",
      "source": [
        "# **PUC Minas - Ciência de Dados e Big Data**\n",
        "## **Modelagem e Preparação de Dados para Aprendizado de Máquina**\n",
        "### Aula Prática 2 - Transformação de Variáveis"
      ],
      "metadata": {
        "id": "FuBe05sf1cJC"
      }
    },
    {
      "cell_type": "markdown",
      "source": [
        "## **pacotes e configurações**"
      ],
      "metadata": {
        "id": "iyROD67q141d"
      }
    },
    {
      "cell_type": "code",
      "execution_count": null,
      "metadata": {
        "id": "Bp_-yUc_xqIY"
      },
      "outputs": [],
      "source": [
        "!pip install -U ydata-profiling"
      ]
    },
    {
      "cell_type": "code",
      "source": [
        "import pandas as pd\n",
        "import numpy as np\n",
        "from ydata_profiling import ProfileReport\n",
        "import seaborn as sns\n",
        "import matplotlib.pyplot as plt\n",
        "%matplotlib inline"
      ],
      "metadata": {
        "id": "-o4alAXF2ABI"
      },
      "execution_count": null,
      "outputs": []
    },
    {
      "cell_type": "markdown",
      "source": [
        "## carregando dados"
      ],
      "metadata": {
        "id": "jZWevaC12J3m"
      }
    },
    {
      "cell_type": "code",
      "source": [
        "df = pd.read_csv( XXX , sep=';') # carregar arquivo bank-vf.csv\n",
        "df.shape"
      ],
      "metadata": {
        "id": "PVHmSsrT2K_G"
      },
      "execution_count": null,
      "outputs": []
    },
    {
      "cell_type": "code",
      "source": [
        "df.sample(5)"
      ],
      "metadata": {
        "id": "PNrbeLxm3qR6"
      },
      "execution_count": null,
      "outputs": []
    },
    {
      "cell_type": "markdown",
      "source": [
        "## análise exploratória"
      ],
      "metadata": {
        "id": "oRD5oMV52VGs"
      }
    },
    {
      "cell_type": "code",
      "source": [
        "profile = ProfileReport(df, title=\"Profiling Report\")\n",
        "profile"
      ],
      "metadata": {
        "id": "J42Zlg9I2TI4"
      },
      "execution_count": null,
      "outputs": []
    },
    {
      "cell_type": "markdown",
      "source": [
        "## avaliação e tratamento de nulos"
      ],
      "metadata": {
        "id": "rHoQNJOQ2jCQ"
      }
    },
    {
      "cell_type": "code",
      "source": [],
      "metadata": {
        "id": "eoftdzX_2h-P"
      },
      "execution_count": null,
      "outputs": []
    },
    {
      "cell_type": "markdown",
      "source": [
        "## encoding"
      ],
      "metadata": {
        "id": "G3pzBUZv2m2k"
      }
    },
    {
      "cell_type": "code",
      "source": [],
      "metadata": {
        "id": "e_Wp1JEp2qfh"
      },
      "execution_count": null,
      "outputs": []
    },
    {
      "cell_type": "markdown",
      "source": [
        "## discretização"
      ],
      "metadata": {
        "id": "fAGSz6Hu2tA8"
      }
    },
    {
      "cell_type": "code",
      "source": [],
      "metadata": {
        "id": "BquDVSM62wvF"
      },
      "execution_count": null,
      "outputs": []
    }
  ]
}