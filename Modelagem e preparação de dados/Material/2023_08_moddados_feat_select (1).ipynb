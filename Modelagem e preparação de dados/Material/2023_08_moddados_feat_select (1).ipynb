{
 "nbformat": 4,
 "nbformat_minor": 0,
 "metadata": {
  "colab": {
   "provenance": []
  },
  "kernelspec": {
   "name": "python3",
   "display_name": "Python 3"
  },
  "language_info": {
   "name": "python"
  },
  "widgets": {
   "application/vnd.jupyter.widget-state+json": {
    "701f3f6c2aa34c6e902d011992a2535d": {
     "model_module": "@jupyter-widgets/controls",
     "model_name": "HBoxModel",
     "model_module_version": "1.5.0",
     "state": {
      "_dom_classes": [],
      "_model_module": "@jupyter-widgets/controls",
      "_model_module_version": "1.5.0",
      "_model_name": "HBoxModel",
      "_view_count": null,
      "_view_module": "@jupyter-widgets/controls",
      "_view_module_version": "1.5.0",
      "_view_name": "HBoxView",
      "box_style": "",
      "children": [
       "IPY_MODEL_04186fc599094146bac97379a359d795",
       "IPY_MODEL_3fa9ef9edfe243b7be5f2570d2474289",
       "IPY_MODEL_cfbf5d50b56248a19eee289ec8a41b6a"
      ],
      "layout": "IPY_MODEL_30bd73e13aa5496486d8ff923f66c9a8"
     }
    },
    "04186fc599094146bac97379a359d795": {
     "model_module": "@jupyter-widgets/controls",
     "model_name": "HTMLModel",
     "model_module_version": "1.5.0",
     "state": {
      "_dom_classes": [],
      "_model_module": "@jupyter-widgets/controls",
      "_model_module_version": "1.5.0",
      "_model_name": "HTMLModel",
      "_view_count": null,
      "_view_module": "@jupyter-widgets/controls",
      "_view_module_version": "1.5.0",
      "_view_name": "HTMLView",
      "description": "",
      "description_tooltip": null,
      "layout": "IPY_MODEL_0534d554a0484a1aadc2f8d29fb9cd0b",
      "placeholder": "​",
      "style": "IPY_MODEL_7f38b89ee5484e75a0a729cf4f051e30",
      "value": "Summarize dataset:  99%"
     }
    },
    "3fa9ef9edfe243b7be5f2570d2474289": {
     "model_module": "@jupyter-widgets/controls",
     "model_name": "FloatProgressModel",
     "model_module_version": "1.5.0",
     "state": {
      "_dom_classes": [],
      "_model_module": "@jupyter-widgets/controls",
      "_model_module_version": "1.5.0",
      "_model_name": "FloatProgressModel",
      "_view_count": null,
      "_view_module": "@jupyter-widgets/controls",
      "_view_module_version": "1.5.0",
      "_view_name": "ProgressView",
      "bar_style": "danger",
      "description": "",
      "description_tooltip": null,
      "layout": "IPY_MODEL_e3995df9e16e4116ae1d593f2df71193",
      "max": 5,
      "min": 0,
      "orientation": "horizontal",
      "style": "IPY_MODEL_ea7235fcfd894d0a894bea334a6e4048",
      "value": 5
     }
    },
    "cfbf5d50b56248a19eee289ec8a41b6a": {
     "model_module": "@jupyter-widgets/controls",
     "model_name": "HTMLModel",
     "model_module_version": "1.5.0",
     "state": {
      "_dom_classes": [],
      "_model_module": "@jupyter-widgets/controls",
      "_model_module_version": "1.5.0",
      "_model_name": "HTMLModel",
      "_view_count": null,
      "_view_module": "@jupyter-widgets/controls",
      "_view_module_version": "1.5.0",
      "_view_name": "HTMLView",
      "description": "",
      "description_tooltip": null,
      "layout": "IPY_MODEL_afd9e6ff5d864c20a1e067a53be37834",
      "placeholder": "​",
      "style": "IPY_MODEL_af1df003aa3f4ba989136b6d720f3d91",
      "value": " 373/378 [03:43&lt;00:00, 19.16it/s, Calculate auto correlation]"
     }
    },
    "30bd73e13aa5496486d8ff923f66c9a8": {
     "model_module": "@jupyter-widgets/base",
     "model_name": "LayoutModel",
     "model_module_version": "1.2.0",
     "state": {
      "_model_module": "@jupyter-widgets/base",
      "_model_module_version": "1.2.0",
      "_model_name": "LayoutModel",
      "_view_count": null,
      "_view_module": "@jupyter-widgets/base",
      "_view_module_version": "1.2.0",
      "_view_name": "LayoutView",
      "align_content": null,
      "align_items": null,
      "align_self": null,
      "border": null,
      "bottom": null,
      "display": null,
      "flex": null,
      "flex_flow": null,
      "grid_area": null,
      "grid_auto_columns": null,
      "grid_auto_flow": null,
      "grid_auto_rows": null,
      "grid_column": null,
      "grid_gap": null,
      "grid_row": null,
      "grid_template_areas": null,
      "grid_template_columns": null,
      "grid_template_rows": null,
      "height": null,
      "justify_content": null,
      "justify_items": null,
      "left": null,
      "margin": null,
      "max_height": null,
      "max_width": null,
      "min_height": null,
      "min_width": null,
      "object_fit": null,
      "object_position": null,
      "order": null,
      "overflow": null,
      "overflow_x": null,
      "overflow_y": null,
      "padding": null,
      "right": null,
      "top": null,
      "visibility": null,
      "width": null
     }
    },
    "0534d554a0484a1aadc2f8d29fb9cd0b": {
     "model_module": "@jupyter-widgets/base",
     "model_name": "LayoutModel",
     "model_module_version": "1.2.0",
     "state": {
      "_model_module": "@jupyter-widgets/base",
      "_model_module_version": "1.2.0",
      "_model_name": "LayoutModel",
      "_view_count": null,
      "_view_module": "@jupyter-widgets/base",
      "_view_module_version": "1.2.0",
      "_view_name": "LayoutView",
      "align_content": null,
      "align_items": null,
      "align_self": null,
      "border": null,
      "bottom": null,
      "display": null,
      "flex": null,
      "flex_flow": null,
      "grid_area": null,
      "grid_auto_columns": null,
      "grid_auto_flow": null,
      "grid_auto_rows": null,
      "grid_column": null,
      "grid_gap": null,
      "grid_row": null,
      "grid_template_areas": null,
      "grid_template_columns": null,
      "grid_template_rows": null,
      "height": null,
      "justify_content": null,
      "justify_items": null,
      "left": null,
      "margin": null,
      "max_height": null,
      "max_width": null,
      "min_height": null,
      "min_width": null,
      "object_fit": null,
      "object_position": null,
      "order": null,
      "overflow": null,
      "overflow_x": null,
      "overflow_y": null,
      "padding": null,
      "right": null,
      "top": null,
      "visibility": null,
      "width": null
     }
    },
    "7f38b89ee5484e75a0a729cf4f051e30": {
     "model_module": "@jupyter-widgets/controls",
     "model_name": "DescriptionStyleModel",
     "model_module_version": "1.5.0",
     "state": {
      "_model_module": "@jupyter-widgets/controls",
      "_model_module_version": "1.5.0",
      "_model_name": "DescriptionStyleModel",
      "_view_count": null,
      "_view_module": "@jupyter-widgets/base",
      "_view_module_version": "1.2.0",
      "_view_name": "StyleView",
      "description_width": ""
     }
    },
    "e3995df9e16e4116ae1d593f2df71193": {
     "model_module": "@jupyter-widgets/base",
     "model_name": "LayoutModel",
     "model_module_version": "1.2.0",
     "state": {
      "_model_module": "@jupyter-widgets/base",
      "_model_module_version": "1.2.0",
      "_model_name": "LayoutModel",
      "_view_count": null,
      "_view_module": "@jupyter-widgets/base",
      "_view_module_version": "1.2.0",
      "_view_name": "LayoutView",
      "align_content": null,
      "align_items": null,
      "align_self": null,
      "border": null,
      "bottom": null,
      "display": null,
      "flex": null,
      "flex_flow": null,
      "grid_area": null,
      "grid_auto_columns": null,
      "grid_auto_flow": null,
      "grid_auto_rows": null,
      "grid_column": null,
      "grid_gap": null,
      "grid_row": null,
      "grid_template_areas": null,
      "grid_template_columns": null,
      "grid_template_rows": null,
      "height": null,
      "justify_content": null,
      "justify_items": null,
      "left": null,
      "margin": null,
      "max_height": null,
      "max_width": null,
      "min_height": null,
      "min_width": null,
      "object_fit": null,
      "object_position": null,
      "order": null,
      "overflow": null,
      "overflow_x": null,
      "overflow_y": null,
      "padding": null,
      "right": null,
      "top": null,
      "visibility": null,
      "width": null
     }
    },
    "ea7235fcfd894d0a894bea334a6e4048": {
     "model_module": "@jupyter-widgets/controls",
     "model_name": "ProgressStyleModel",
     "model_module_version": "1.5.0",
     "state": {
      "_model_module": "@jupyter-widgets/controls",
      "_model_module_version": "1.5.0",
      "_model_name": "ProgressStyleModel",
      "_view_count": null,
      "_view_module": "@jupyter-widgets/base",
      "_view_module_version": "1.2.0",
      "_view_name": "StyleView",
      "bar_color": null,
      "description_width": ""
     }
    },
    "afd9e6ff5d864c20a1e067a53be37834": {
     "model_module": "@jupyter-widgets/base",
     "model_name": "LayoutModel",
     "model_module_version": "1.2.0",
     "state": {
      "_model_module": "@jupyter-widgets/base",
      "_model_module_version": "1.2.0",
      "_model_name": "LayoutModel",
      "_view_count": null,
      "_view_module": "@jupyter-widgets/base",
      "_view_module_version": "1.2.0",
      "_view_name": "LayoutView",
      "align_content": null,
      "align_items": null,
      "align_self": null,
      "border": null,
      "bottom": null,
      "display": null,
      "flex": null,
      "flex_flow": null,
      "grid_area": null,
      "grid_auto_columns": null,
      "grid_auto_flow": null,
      "grid_auto_rows": null,
      "grid_column": null,
      "grid_gap": null,
      "grid_row": null,
      "grid_template_areas": null,
      "grid_template_columns": null,
      "grid_template_rows": null,
      "height": null,
      "justify_content": null,
      "justify_items": null,
      "left": null,
      "margin": null,
      "max_height": null,
      "max_width": null,
      "min_height": null,
      "min_width": null,
      "object_fit": null,
      "object_position": null,
      "order": null,
      "overflow": null,
      "overflow_x": null,
      "overflow_y": null,
      "padding": null,
      "right": null,
      "top": null,
      "visibility": null,
      "width": null
     }
    },
    "af1df003aa3f4ba989136b6d720f3d91": {
     "model_module": "@jupyter-widgets/controls",
     "model_name": "DescriptionStyleModel",
     "model_module_version": "1.5.0",
     "state": {
      "_model_module": "@jupyter-widgets/controls",
      "_model_module_version": "1.5.0",
      "_model_name": "DescriptionStyleModel",
      "_view_count": null,
      "_view_module": "@jupyter-widgets/base",
      "_view_module_version": "1.2.0",
      "_view_name": "StyleView",
      "description_width": ""
     }
    }
   }
  }
 },
 "cells": [
  {
   "cell_type": "markdown",
   "source": [
    "## pacotes e configurações"
   ],
   "metadata": {
    "id": "5mA3pMtAqvSo"
   }
  },
  {
   "cell_type": "code",
   "source": [
    "import pandas as pd\n",
    "import seaborn as sns\n",
    "import matplotlib.pyplot as plt\n",
    "%matplotlib inline\n",
    "import numpy as np"
   ],
   "metadata": {
    "id": "HOUrOq8LqqgS"
   },
   "execution_count": 19,
   "outputs": []
  },
  {
   "cell_type": "markdown",
   "source": [
    "## carregamento de dados"
   ],
   "metadata": {
    "id": "MA7XfWg-q8nR"
   }
  },
  {
   "cell_type": "code",
   "execution_count": 2,
   "metadata": {
    "id": "38TBKDKWqYVl"
   },
   "source": [
    "local = '/content/drive/MyDrive/Cursos/2023/Modelagem e Preparação de Dados para Aprendizado de Máquina/03 - Práticas/Aula 5/feat_select_final.csv'"
   ],
   "outputs": []
  },
  {
   "cell_type": "code",
   "source": [
    "df = pd.read_csv(local)\n",
    "df.shape"
   ],
   "metadata": {
    "colab": {
     "base_uri": "https://localhost:8080/"
    },
    "id": "PoXd1z3FrEt5",
    "outputId": "510e5c86-3f9a-462d-872b-ebdbcf6bca29"
   },
   "execution_count": 6,
   "outputs": []
  },
  {
   "cell_type": "code",
   "source": [
    "df.sample(3)"
   ],
   "metadata": {
    "colab": {
     "base_uri": "https://localhost:8080/",
     "height": 172
    },
    "id": "F8KUmfTvrJGX",
    "outputId": "2a5b752d-1d4e-4376-ae60-9d7340e8650d"
   },
   "execution_count": 7,
   "outputs": []
  },
  {
   "cell_type": "code",
   "source": [
    "df.info(verbose=True)"
   ],
   "metadata": {
    "colab": {
     "base_uri": "https://localhost:8080/"
    },
    "id": "TvWRt-jOrPQe",
    "outputId": "8bd1dee0-aaab-4cf3-fed9-ef3bad4ccec1"
   },
   "execution_count": 8,
   "outputs": []
  },
  {
   "cell_type": "code",
   "source": [
    "X = df.drop(['id','target'], axis=1)\n",
    "y = df[['target']]\n",
    "X.shape, y.shape"
   ],
   "metadata": {
    "colab": {
     "base_uri": "https://localhost:8080/"
    },
    "id": "PVfOzFkXr3Cp",
    "outputId": "15535e93-5f5d-4129-f0a3-9cdf116f2171"
   },
   "execution_count": 10,
   "outputs": []
  },
  {
   "cell_type": "code",
   "source": [
    "X = X[X.columns[0:50]]\n",
    "X.shape"
   ],
   "metadata": {
    "colab": {
     "base_uri": "https://localhost:8080/"
    },
    "id": "yQbtvy7kuJIy",
    "outputId": "ec92e551-d74b-4c00-c044-514169b36929"
   },
   "execution_count": 16,
   "outputs": []
  },
  {
   "cell_type": "markdown",
   "source": [
    "## EDA"
   ],
   "metadata": {
    "id": "lYoTq0OYsUCQ"
   }
  },
  {
   "cell_type": "code",
   "source": [
    "from ydata_profiling import ProfileReport"
   ],
   "metadata": {
    "id": "rS49lyu6rr7z"
   },
   "execution_count": 12,
   "outputs": []
  },
  {
   "cell_type": "code",
   "source": [
    "profile = ProfileReport(df, title=\"Profiling Report\")\n",
    "profile"
   ],
   "metadata": {
    "colab": {
     "base_uri": "https://localhost:8080/",
     "height": 405,
     "referenced_widgets": [
      "701f3f6c2aa34c6e902d011992a2535d",
      "04186fc599094146bac97379a359d795",
      "3fa9ef9edfe243b7be5f2570d2474289",
      "cfbf5d50b56248a19eee289ec8a41b6a",
      "30bd73e13aa5496486d8ff923f66c9a8",
      "0534d554a0484a1aadc2f8d29fb9cd0b",
      "7f38b89ee5484e75a0a729cf4f051e30",
      "e3995df9e16e4116ae1d593f2df71193",
      "ea7235fcfd894d0a894bea334a6e4048",
      "afd9e6ff5d864c20a1e067a53be37834",
      "af1df003aa3f4ba989136b6d720f3d91"
     ]
    },
    "id": "25gCzNa3sioT",
    "outputId": "506ad686-d714-4b50-ca3c-511006a4fc66"
   },
   "execution_count": 13,
   "outputs": []
  },
  {
   "cell_type": "markdown",
   "source": [
    "## correlação"
   ],
   "metadata": {
    "id": "brS28lXhs1E6"
   }
  },
  {
   "cell_type": "code",
   "source": [
    "# Análise da correlação entre as variáveis (com exclusão da variável de resposta)\n",
    "corr = X.corr('spearman').round(2)\n",
    "corr = abs(corr)\n",
    "corr.head()"
   ],
   "metadata": {
    "colab": {
     "base_uri": "https://localhost:8080/",
     "height": 235
    },
    "id": "EHzwmfPUstr8",
    "outputId": "c665d923-edcb-4b17-b097-309eebddec31"
   },
   "execution_count": 21,
   "outputs": []
  },
  {
   "cell_type": "code",
   "source": [
    "# Mapa de calor da correlação entre as variáveis\n",
    "plt.subplots(figsize=(20, 20))\n",
    "sns.heatmap(abs(corr),\n",
    "            mask=np.triu(np.ones_like(corr, dtype=bool)),\n",
    "            cmap='BrBG', center=0, cbar_kws={\"shrink\": .75},\n",
    "            annot=abs(corr), annot_kws={\"fontsize\":8}, fmt='',\n",
    "            square=True, linewidths=.5);"
   ],
   "metadata": {
    "colab": {
     "base_uri": "https://localhost:8080/",
     "height": 1000
    },
    "id": "O9yrpzALtCBG",
    "outputId": "c57dbf6b-b522-4cd2-c7e4-2bd971f68851"
   },
   "execution_count": 22,
   "outputs": []
  },
  {
   "cell_type": "markdown",
   "source": [
    "## variância"
   ],
   "metadata": {
    "id": "1H5TpG9WvR5B"
   }
  },
  {
   "cell_type": "code",
   "source": [
    "from sklearn.feature_selection import VarianceThreshold"
   ],
   "metadata": {
    "id": "_yiuxiFivRR_"
   },
   "execution_count": 30,
   "outputs": []
  },
  {
   "cell_type": "code",
   "source": [
    "selector = VarianceThreshold(threshold=0.01)\n",
    "selector.fit_transform(X)"
   ],
   "metadata": {
    "colab": {
     "base_uri": "https://localhost:8080/"
    },
    "id": "vYe2y8E5u7rJ",
    "outputId": "2cdcf8ed-fd92-4aee-ee45-098a8133d224"
   },
   "execution_count": 37,
   "outputs": []
  },
  {
   "cell_type": "code",
   "source": [
    "selector.get_feature_names_out()"
   ],
   "metadata": {
    "colab": {
     "base_uri": "https://localhost:8080/"
    },
    "id": "KY8hnO6Gv8co",
    "outputId": "af6c2c68-7b85-435f-bf90-62cf441d79a0"
   },
   "execution_count": 38,
   "outputs": []
  },
  {
   "cell_type": "markdown",
   "source": [
    "## anova"
   ],
   "metadata": {
    "id": "dtANiHT9wcy9"
   }
  },
  {
   "cell_type": "code",
   "source": [
    "from sklearn.feature_selection import f_classif"
   ],
   "metadata": {
    "id": "ijAtXK33wGBX"
   },
   "execution_count": 39,
   "outputs": []
  },
  {
   "cell_type": "code",
   "source": [
    "anova = f_classif(X, y)\n",
    "anova"
   ],
   "metadata": {
    "colab": {
     "base_uri": "https://localhost:8080/"
    },
    "id": "uhaUhb2Vwjhq",
    "outputId": "bb584a69-c082-42e0-eaa0-786e844c08c7"
   },
   "execution_count": 40,
   "outputs": []
  },
  {
   "cell_type": "code",
   "source": [
    "# Formatação das informações obtidas em um novo dataframe\n",
    "imp = pd.DataFrame(X.columns, columns=['variavel'])\n",
    "imp['importancia'] = anova[1]\n",
    "imp"
   ],
   "metadata": {
    "colab": {
     "base_uri": "https://localhost:8080/",
     "height": 1000
    },
    "id": "TJXOWsDkwqWH",
    "outputId": "b3ebc157-8238-4d2e-9455-9072581fd44b"
   },
   "execution_count": 41,
   "outputs": []
  },
  {
   "cell_type": "code",
   "source": [
    "imp.sort_values('importancia',ascending=True)[:20]"
   ],
   "metadata": {
    "colab": {
     "base_uri": "https://localhost:8080/",
     "height": 676
    },
    "id": "xd3Q3sJMw02M",
    "outputId": "e2fecaf5-5aed-43dd-af14-844db1dc74b3"
   },
   "execution_count": 43,
   "outputs": []
  },
  {
   "cell_type": "markdown",
   "source": [
    "## importância intrínseca (RF)"
   ],
   "metadata": {
    "id": "a1X8eD5yxedm"
   }
  },
  {
   "cell_type": "code",
   "source": [
    "from sklearn.ensemble import RandomForestClassifier"
   ],
   "metadata": {
    "id": "MrHgP0NQxdZS"
   },
   "execution_count": 44,
   "outputs": []
  },
  {
   "cell_type": "code",
   "source": [
    "rfc = RandomForestClassifier(n_jobs=-1)\n",
    "rfc.fit(X, y)"
   ],
   "metadata": {
    "colab": {
     "base_uri": "https://localhost:8080/",
     "height": 129
    },
    "id": "T5d9uloyw8dn",
    "outputId": "2d641481-b10e-4acc-fcb8-29b140c99d15"
   },
   "execution_count": 45,
   "outputs": []
  },
  {
   "cell_type": "code",
   "source": [
    "rfc.feature_importances_"
   ],
   "metadata": {
    "colab": {
     "base_uri": "https://localhost:8080/"
    },
    "id": "pq8Yc5Skxwwk",
    "outputId": "68b3d237-5e5b-4c21-baba-66b049b0f308"
   },
   "execution_count": 46,
   "outputs": []
  },
  {
   "cell_type": "code",
   "source": [
    "imp = pd.DataFrame(X.columns, columns=['variavel'])\n",
    "imp['importancia'] = rfc.feature_importances_\n",
    "imp"
   ],
   "metadata": {
    "colab": {
     "base_uri": "https://localhost:8080/",
     "height": 1000
    },
    "id": "wP4-02lfx_Ph",
    "outputId": "f2b65993-83b1-484a-b8c8-3d5f3808343b"
   },
   "execution_count": 47,
   "outputs": []
  },
  {
   "cell_type": "code",
   "source": [
    "imp.sort_values('importancia',ascending=False)[:20]"
   ],
   "metadata": {
    "colab": {
     "base_uri": "https://localhost:8080/",
     "height": 676
    },
    "id": "APtSSaa9yFfZ",
    "outputId": "c9e96d6d-e85e-4dc8-ba55-8794fc095927"
   },
   "execution_count": 48,
   "outputs": []
  },
  {
   "cell_type": "markdown",
   "source": [
    "# permutation importance"
   ],
   "metadata": {
    "id": "iIsYj55E0HQt"
   }
  },
  {
   "cell_type": "code",
   "source": [
    "from sklearn.inspection import permutation_importance"
   ],
   "metadata": {
    "id": "-P0puIU30GZR"
   },
   "execution_count": 56,
   "outputs": []
  },
  {
   "cell_type": "code",
   "source": [
    "r = permutation_importance(rfc, X, y, n_repeats=3, random_state=0)"
   ],
   "metadata": {
    "id": "Q7rrhQyx0csa"
   },
   "execution_count": 59,
   "outputs": []
  },
  {
   "cell_type": "code",
   "source": [
    "for i in r.importances_mean.argsort()[::-1]:\n",
    "  if r.importances_mean[i] - 2 * r.importances_std[i] > 0:\n",
    "    print(f\"{X.columns[i]:<8}\"\n",
    "    f\"{r.importances_mean[i]:.5f}\"\n",
    "    f\" +/- {r.importances_std[i]:.5f}\")"
   ],
   "metadata": {
    "colab": {
     "base_uri": "https://localhost:8080/"
    },
    "id": "AhmyZYGB0sMR",
    "outputId": "229327e0-4ced-4203-9bec-ab9a7a94c142"
   },
   "execution_count": 61,
   "outputs": []
  },
  {
   "cell_type": "markdown",
   "source": [
    "## mutual information"
   ],
   "metadata": {
    "id": "BpcgdjM9y7Gc"
   }
  },
  {
   "cell_type": "code",
   "source": [
    "from sklearn.feature_selection import mutual_info_classif"
   ],
   "metadata": {
    "id": "CeqZ4o17yNHi"
   },
   "execution_count": 49,
   "outputs": []
  },
  {
   "cell_type": "code",
   "source": [
    "mif = mutual_info_classif(X, y, random_state = 14)"
   ],
   "metadata": {
    "colab": {
     "base_uri": "https://localhost:8080/"
    },
    "id": "gSdvIJu1zC8e",
    "outputId": "4d8da868-3118-4e23-d9de-c69dfce61056"
   },
   "execution_count": 50,
   "outputs": []
  },
  {
   "cell_type": "code",
   "source": [
    "# Formatação para df\n",
    "importance_mif = pd.Series(mif, index=X.columns)\n",
    "\n",
    "# Análise gráfica\n",
    "importance_mif.plot.bar(figsize=(10,4));"
   ],
   "metadata": {
    "colab": {
     "base_uri": "https://localhost:8080/",
     "height": 390
    },
    "id": "wIp1hjCjzGXN",
    "outputId": "3dfb455b-d0c9-4761-ab42-df24d0e1e3db"
   },
   "execution_count": 54,
   "outputs": []
  },
  {
   "cell_type": "code",
   "source": [
    "importance_mif.sort_values(ascending=False)[:20]"
   ],
   "metadata": {
    "colab": {
     "base_uri": "https://localhost:8080/"
    },
    "id": "5TrPIJlEzSHn",
    "outputId": "55f9ad24-29d9-4940-866b-0782194fdc1e"
   },
   "execution_count": 55,
   "outputs": []
  },
  {
   "cell_type": "code",
   "source": [],
   "metadata": {
    "id": "Hr5r2nkSzjwn"
   },
   "execution_count": null,
   "outputs": []
  }
 ]
}
