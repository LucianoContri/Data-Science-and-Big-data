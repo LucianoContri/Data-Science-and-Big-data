{
 "nbformat": 4,
 "nbformat_minor": 0,
 "metadata": {
  "colab": {
   "provenance": []
  },
  "kernelspec": {
   "name": "python3",
   "display_name": "Python 3 (ipykernel)",
   "language": "python"
  },
  "language_info": {
   "name": "python"
  }
 },
 "cells": [
  {
   "cell_type": "code",
   "source": [
    "!pip install boto\n",
    "!pip install boto3\n",
    "!pip install python-dotenv"
   ],
   "metadata": {
    "colab": {
     "base_uri": "https://localhost:8080/"
    },
    "id": "qAi-72ForYK8",
    "outputId": "91b6b1aa-2952-4ee5-9f1d-28dd2d7b783d",
    "ExecuteTime": {
     "end_time": "2024-06-21T13:38:32.189080Z",
     "start_time": "2024-06-21T13:38:16.204797Z"
    }
   },
   "outputs": [
    {
     "name": "stdout",
     "output_type": "stream",
     "text": [
      "Requirement already satisfied: boto in c:\\users\\lucia\\anaconda3\\lib\\site-packages (2.49.0)\n",
      "Requirement already satisfied: boto3 in c:\\users\\lucia\\anaconda3\\lib\\site-packages (1.24.28)\n",
      "Requirement already satisfied: botocore<1.28.0,>=1.27.28 in c:\\users\\lucia\\anaconda3\\lib\\site-packages (from boto3) (1.27.59)\n",
      "Requirement already satisfied: jmespath<2.0.0,>=0.7.1 in c:\\users\\lucia\\anaconda3\\lib\\site-packages (from boto3) (0.10.0)\n",
      "Requirement already satisfied: s3transfer<0.7.0,>=0.6.0 in c:\\users\\lucia\\anaconda3\\lib\\site-packages (from boto3) (0.6.0)\n",
      "Requirement already satisfied: python-dateutil<3.0.0,>=2.1 in c:\\users\\lucia\\anaconda3\\lib\\site-packages (from botocore<1.28.0,>=1.27.28->boto3) (2.8.2)\n",
      "Requirement already satisfied: urllib3<1.27,>=1.25.4 in c:\\users\\lucia\\anaconda3\\lib\\site-packages (from botocore<1.28.0,>=1.27.28->boto3) (1.26.16)\n",
      "Requirement already satisfied: six>=1.5 in c:\\users\\lucia\\anaconda3\\lib\\site-packages (from python-dateutil<3.0.0,>=2.1->botocore<1.28.0,>=1.27.28->boto3) (1.16.0)\n",
      "Requirement already satisfied: python-dotenv in c:\\users\\lucia\\anaconda3\\lib\\site-packages (0.21.0)\n"
     ]
    }
   ],
   "execution_count": 3
  },
  {
   "metadata": {
    "ExecuteTime": {
     "end_time": "2024-06-21T14:26:17.101713Z",
     "start_time": "2024-06-21T14:26:15.789670Z"
    }
   },
   "cell_type": "code",
   "source": [
    "\n",
    "from boto.s3.connection import S3Connection\n",
    "import ssl\n",
    "\n",
    "from dotenv import load_dotenv\n",
    "import os\n",
    "\n",
    "load_dotenv()\n",
    "\n",
    "# Fetch AWS credentials from environment variables\n",
    "access_key = os.getenv('AWS_ACCESS_KEY_ID_1')\n",
    "secret_key = os.getenv('AWS_SECRET_ACCESS_KEY_1')\n",
    "\n",
    "# Verify that the credentials are loaded\n",
    "if not access_key or not secret_key:\n",
    "    raise ValueError(\"AWS credentials not found in environment variables\")\n",
    "\n",
    "\n",
    "ssl._create_default_https_context = ssl._create_unverified_context\n",
    "conn = S3Connection(access_key, secret_key)\n",
    "bucket = conn.get_bucket('data-lake-turma6-puc')\n",
    "\n",
    "for key in bucket.list():\n",
    "  print(key.name.encode('utf-8'))"
   ],
   "outputs": [
    {
     "ename": "S3ResponseError",
     "evalue": "S3ResponseError: 403 Forbidden\n",
     "output_type": "error",
     "traceback": [
      "\u001B[1;31m---------------------------------------------------------------------------\u001B[0m",
      "\u001B[1;31mS3ResponseError\u001B[0m                           Traceback (most recent call last)",
      "Cell \u001B[1;32mIn[1], line 20\u001B[0m\n\u001B[0;32m     18\u001B[0m ssl\u001B[38;5;241m.\u001B[39m_create_default_https_context \u001B[38;5;241m=\u001B[39m ssl\u001B[38;5;241m.\u001B[39m_create_unverified_context\n\u001B[0;32m     19\u001B[0m conn \u001B[38;5;241m=\u001B[39m S3Connection(access_key, secret_key)\n\u001B[1;32m---> 20\u001B[0m bucket \u001B[38;5;241m=\u001B[39m conn\u001B[38;5;241m.\u001B[39mget_bucket(\u001B[38;5;124m'\u001B[39m\u001B[38;5;124mdata-lake-turma6-puc\u001B[39m\u001B[38;5;124m'\u001B[39m)\n\u001B[0;32m     22\u001B[0m \u001B[38;5;28;01mfor\u001B[39;00m key \u001B[38;5;129;01min\u001B[39;00m bucket\u001B[38;5;241m.\u001B[39mlist():\n\u001B[0;32m     23\u001B[0m   \u001B[38;5;28mprint\u001B[39m(key\u001B[38;5;241m.\u001B[39mname\u001B[38;5;241m.\u001B[39mencode(\u001B[38;5;124m'\u001B[39m\u001B[38;5;124mutf-8\u001B[39m\u001B[38;5;124m'\u001B[39m))\n",
      "File \u001B[1;32m~\\anaconda3\\Lib\\site-packages\\boto\\s3\\connection.py:509\u001B[0m, in \u001B[0;36mS3Connection.get_bucket\u001B[1;34m(self, bucket_name, validate, headers)\u001B[0m\n\u001B[0;32m    472\u001B[0m \u001B[38;5;250m\u001B[39m\u001B[38;5;124;03m\"\"\"\u001B[39;00m\n\u001B[0;32m    473\u001B[0m \u001B[38;5;124;03mRetrieves a bucket by name.\u001B[39;00m\n\u001B[0;32m    474\u001B[0m \n\u001B[1;32m   (...)\u001B[0m\n\u001B[0;32m    506\u001B[0m \u001B[38;5;124;03m    on the service-side. (Default: ``True``)\u001B[39;00m\n\u001B[0;32m    507\u001B[0m \u001B[38;5;124;03m\"\"\"\u001B[39;00m\n\u001B[0;32m    508\u001B[0m \u001B[38;5;28;01mif\u001B[39;00m validate:\n\u001B[1;32m--> 509\u001B[0m     \u001B[38;5;28;01mreturn\u001B[39;00m \u001B[38;5;28mself\u001B[39m\u001B[38;5;241m.\u001B[39mhead_bucket(bucket_name, headers\u001B[38;5;241m=\u001B[39mheaders)\n\u001B[0;32m    510\u001B[0m \u001B[38;5;28;01melse\u001B[39;00m:\n\u001B[0;32m    511\u001B[0m     \u001B[38;5;28;01mreturn\u001B[39;00m \u001B[38;5;28mself\u001B[39m\u001B[38;5;241m.\u001B[39mbucket_class(\u001B[38;5;28mself\u001B[39m, bucket_name)\n",
      "File \u001B[1;32m~\\anaconda3\\Lib\\site-packages\\boto\\s3\\connection.py:542\u001B[0m, in \u001B[0;36mS3Connection.head_bucket\u001B[1;34m(self, bucket_name, headers)\u001B[0m\n\u001B[0;32m    540\u001B[0m     err\u001B[38;5;241m.\u001B[39merror_code \u001B[38;5;241m=\u001B[39m \u001B[38;5;124m'\u001B[39m\u001B[38;5;124mAccessDenied\u001B[39m\u001B[38;5;124m'\u001B[39m\n\u001B[0;32m    541\u001B[0m     err\u001B[38;5;241m.\u001B[39merror_message \u001B[38;5;241m=\u001B[39m \u001B[38;5;124m'\u001B[39m\u001B[38;5;124mAccess Denied\u001B[39m\u001B[38;5;124m'\u001B[39m\n\u001B[1;32m--> 542\u001B[0m     \u001B[38;5;28;01mraise\u001B[39;00m err\n\u001B[0;32m    543\u001B[0m \u001B[38;5;28;01melif\u001B[39;00m response\u001B[38;5;241m.\u001B[39mstatus \u001B[38;5;241m==\u001B[39m \u001B[38;5;241m404\u001B[39m:\n\u001B[0;32m    544\u001B[0m     \u001B[38;5;66;03m# For backward-compatibility, we'll populate part of the exception\u001B[39;00m\n\u001B[0;32m    545\u001B[0m     \u001B[38;5;66;03m# with the most-common default.\u001B[39;00m\n\u001B[0;32m    546\u001B[0m     err \u001B[38;5;241m=\u001B[39m \u001B[38;5;28mself\u001B[39m\u001B[38;5;241m.\u001B[39mprovider\u001B[38;5;241m.\u001B[39mstorage_response_error(\n\u001B[0;32m    547\u001B[0m         response\u001B[38;5;241m.\u001B[39mstatus,\n\u001B[0;32m    548\u001B[0m         response\u001B[38;5;241m.\u001B[39mreason,\n\u001B[0;32m    549\u001B[0m         body\n\u001B[0;32m    550\u001B[0m     )\n",
      "\u001B[1;31mS3ResponseError\u001B[0m: S3ResponseError: 403 Forbidden\n"
     ]
    }
   ],
   "execution_count": 1
  },
  {
   "cell_type": "code",
   "source": [
    "import matplotlib.pyplot as plt\n",
    "import boto3\n",
    "\n",
    "def map():\n",
    "    s3 = boto3.resource('s3', aws_access_key_id= access_key, aws_secret_access_key= secret_key)\n",
    "    bucket = s3.Bucket('data-lake-turma6-puc')\n",
    "    cont = 0\n",
    "    mapa_municipios= {}\n",
    "    for obj in bucket.objects.filter(Prefix='dados-nao-estruturados/MunicipiosSP.csv'):\n",
    "        for line in obj.get()['Body'].read().decode('ISO-8859-1').splitlines():\n",
    "            if(cont == 0):\n",
    "                cont += 1\n",
    "                continue;\n",
    "\n",
    "            dados = line.split(\";\")\n",
    "\n",
    "            if(dados[0].strip() == \"\"):\n",
    "                break;\n",
    "\n",
    "            percentual = float(dados[12].replace(\",\",\".\"))\n",
    "            mapa_municipios[dados[0].strip() + \" \" + str(percentual) + \" %\"] = percentual\n",
    "            cont += 1\n",
    "\n",
    "        return mapa_municipios\n",
    "\n",
    "def reduce_mapa(mapa):\n",
    "    chave = \"\"\n",
    "    valor = 0\n",
    "\n",
    "    for nome in mapa:\n",
    "        print(nome + \" \" + str(mapa[nome]))\n",
    "        if(mapa[nome] > valor):\n",
    "            chave = nome\n",
    "            valor = mapa[nome]\n",
    "            print(mapa)\n",
    "\n",
    "    reduce = {}\n",
    "    reduce[chave] = valor\n",
    "    return reduce\n",
    "\n",
    "\n",
    "def grava_imagem(mapa):\n",
    "\n",
    "    mapaPlot = {}\n",
    "    cont = 0\n",
    "    for i in sorted(mapa, key=mapa.get, reverse=True):\n",
    "        if(cont > 30):\n",
    "            break;\n",
    "\n",
    "        cont += 1\n",
    "        mapaPlot[i] = mapa[i]\n",
    "\n",
    "    plt.barh(list(mapaPlot.keys()), mapaPlot.values())\n",
    "    plt.gca().invert_yaxis()\n",
    "    plt.savefig('escolaridade.png', format='png')\n",
    "    plt.show()\n",
    "    plt.close()\n",
    "\n",
    "\n",
    "mapa = map()\n",
    "mapa_reduce = reduce_mapa(mapa)\n",
    "grava_imagem(mapa)"
   ],
   "metadata": {
    "colab": {
     "base_uri": "https://localhost:8080/",
     "height": 1000
    },
    "id": "DE7Zrt9gtiRw",
    "outputId": "0a2adf4a-bbee-47d2-ece0-5d1e0af15dab"
   },
   "outputs": [],
   "execution_count": null
  },
  {
   "cell_type": "code",
   "source": [
    "import boto3\n",
    "import pandas as pd\n",
    "from io import StringIO\n",
    "import re\n",
    "\n",
    "# Configurar o cliente S3\n",
    "s3 = boto3.resource('s3', aws_access_key_id= access_key, aws_secret_access_key= secret_key)\n",
    "bucket = s3.Bucket('data-lake-turma6-puc')\n",
    "\n",
    "# Nome do arquivo específico que você quer ler\n",
    "file_key = 'dados-nao-estruturados/formula1.txt'\n",
    "\n",
    "# Obter o conteúdo do arquivo\n",
    "obj = bucket.Object(file_key)\n",
    "content = obj.get()['Body'].read().decode('utf-8')\n",
    "\n",
    "# Pré-processar o conteúdo para substituir as tabulações por ponto e vírgula\n",
    "# e garantir que não existam delimitadores duplicados\n",
    "cleaned_content = re.sub(r'\\t+', ';', content)\n",
    "cleaned_content = re.sub(r';+', ';', cleaned_content)\n",
    "\n",
    "# Ler o conteúdo como um DataFrame pandas usando o ponto e vírgula como delimitador\n",
    "df = pd.read_csv(StringIO(cleaned_content), delimiter=';', engine='python', header= None)\n",
    "\n",
    "# Exibir o DataFrame\n",
    "print(df.head())"
   ],
   "metadata": {
    "colab": {
     "base_uri": "https://localhost:8080/"
    },
    "id": "1Q7pEYdpqIFE",
    "outputId": "7104487f-7e83-45c1-d54d-a388ffed00f1"
   },
   "outputs": [],
   "execution_count": null
  },
  {
   "cell_type": "code",
   "source": [
    "# Adicionar nomes às colunas\n",
    "df.columns = ['Year', 'Country', 'Winner', 'Team', 'Unnamed: 4']\n",
    "\n",
    "# Remover a coluna toda nula\n",
    "df = df.drop(columns=['Unnamed: 4'])\n",
    "\n",
    "df.head()"
   ],
   "metadata": {
    "colab": {
     "base_uri": "https://localhost:8080/",
     "height": 206
    },
    "id": "JKQQNJWrwXzE",
    "outputId": "ef9c9ea6-57d3-4323-b018-ca8f08db8174"
   },
   "outputs": [],
   "execution_count": null
  },
  {
   "cell_type": "markdown",
   "source": [
    "a) Um programa em python que mostre os 5 maiores vencedores da Categoria.\n",
    "\n",
    "b) Um programa em python que mostre qual pais (nacionalidade) foi mas Vencedora.\n",
    "\n",
    "c) Um programa em python que mostre qual Piloto venceu mais campeonatos?\n",
    "\n",
    "d) Qual equipe foi a mais vencedora da categoria."
   ],
   "metadata": {
    "id": "sdpEoIyZ0L5w"
   }
  },
  {
   "cell_type": "code",
   "source": [
    "df.head(15)"
   ],
   "metadata": {
    "colab": {
     "base_uri": "https://localhost:8080/",
     "height": 519
    },
    "id": "9Yyrnu8R3nE3",
    "outputId": "0bcf6eea-4947-47b4-e0aa-013f57793df7"
   },
   "outputs": [],
   "execution_count": null
  },
  {
   "cell_type": "code",
   "source": [
    "# Limpar a coluna 'Winner'\n",
    "df['Winner'] = df['Winner'].apply(lambda x: re.sub(r'^\\s*\\d+\\s*', '', x).strip())\n",
    "df.head(15)"
   ],
   "metadata": {
    "colab": {
     "base_uri": "https://localhost:8080/",
     "height": 519
    },
    "id": "LepnoyMl4BMa",
    "outputId": "680ee41d-fe9f-4eaa-b823-8880b921a985"
   },
   "outputs": [],
   "execution_count": null
  },
  {
   "cell_type": "code",
   "source": [
    "def map_generic(df, column):\n",
    "    return [(row[column], 1) for index, row in df.iterrows()]\n",
    "# Função genérica para reduce\n",
    "def reduce_generic(data, top_n):\n",
    "    counts = {}\n",
    "    for item in data:\n",
    "        key = item[0]\n",
    "        if key in counts:\n",
    "            counts[key] += 1\n",
    "        else:\n",
    "            counts[key] = 1\n",
    "    sorted_counts = sorted(counts.items(), key=lambda x: x[1], reverse=True)\n",
    "    return sorted_counts[:top_n]\n",
    "# Exemplo de uso da função map_generic\n",
    "def plot_generic(data, title, column):\n",
    "    df = pd.DataFrame(data, columns=[column, title])\n",
    "    df[title] = pd.to_numeric(df[title], errors='coerce')\n",
    "    df.plot(kind='bar', x=column, y=title, figsize=(15, 5))\n",
    "    plt.title(title)\n",
    "    # plotar em png\n",
    "    plt.savefig('/content/' + title + '.png', format='png')\n",
    "    plt.show()\n",
    "\n"
   ],
   "metadata": {
    "id": "Cd46lA9t0QZE"
   },
   "outputs": [],
   "execution_count": null
  },
  {
   "cell_type": "code",
   "source": [
    "# a) 5 maiores vencedores da Categoria\n",
    "mapped_data_winner = map_generic(df, 'Winner')\n",
    "result = reduce_generic(mapped_data_winner, 5)\n",
    "print(result)\n",
    "plot_generic(result, 'Top 5', 'Winner')"
   ],
   "metadata": {
    "colab": {
     "base_uri": "https://localhost:8080/",
     "height": 634
    },
    "id": "l7YYUOEa62Sg",
    "outputId": "c62629cc-49fb-4d64-90e4-350b2ac38d9a"
   },
   "outputs": [],
   "execution_count": null
  },
  {
   "cell_type": "code",
   "source": [
    "# b) Um programa em python que mostre qual pais (nacionalidade) foi mas Vencedora.\n",
    "mapped_data_country = map_generic(df, 'Country')\n",
    "result = reduce_generic(mapped_data_country, 1)\n",
    "print(result)"
   ],
   "metadata": {
    "colab": {
     "base_uri": "https://localhost:8080/"
    },
    "id": "DG6DYcSo62uO",
    "outputId": "cf87a366-17dd-4529-eebf-79303a2627a3"
   },
   "outputs": [],
   "execution_count": null
  },
  {
   "cell_type": "code",
   "source": [
    "# c) Um programa em python que mostre qual Piloto venceu mais campeonatos?\n",
    "mapped_data_team = map_generic(df, 'Winner')\n",
    "result = reduce_generic(mapped_data_team, 1)\n",
    "print(result)"
   ],
   "metadata": {
    "colab": {
     "base_uri": "https://localhost:8080/"
    },
    "id": "HrJ9HwBf64SK",
    "outputId": "19dd01ea-c7fd-4804-d20a-d0680b8cfd3a"
   },
   "outputs": [],
   "execution_count": null
  },
  {
   "cell_type": "code",
   "source": [
    "# d) Qual equipe foi a mais vencedora da categoria.\n",
    "mapped_data_team = map_generic(df, 'Team')\n",
    "result = reduce_generic(mapped_data_team, 1)\n",
    "print(result)"
   ],
   "metadata": {
    "colab": {
     "base_uri": "https://localhost:8080/"
    },
    "id": "tFZVQRs17P1V",
    "outputId": "1d45df36-bacb-47df-9488-f6e6b9f76453"
   },
   "outputs": [],
   "execution_count": null
  },
  {
   "metadata": {},
   "cell_type": "markdown",
   "source": ""
  }
 ]
}
